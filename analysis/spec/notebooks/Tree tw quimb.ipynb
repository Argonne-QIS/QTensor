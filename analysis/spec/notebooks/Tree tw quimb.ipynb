{
 "cells": [
  {
   "cell_type": "markdown",
   "metadata": {
    "toc": true
   },
   "source": [
    "<h1>Table of Contents<span class=\"tocSkip\"></span></h1>\n",
    "<div class=\"toc\"><ul class=\"toc-item\"></ul></div>"
   ]
  },
  {
   "cell_type": "code",
   "execution_count": 4,
   "metadata": {
    "ExecuteTime": {
     "end_time": "2020-11-26T04:17:07.417332Z",
     "start_time": "2020-11-26T04:17:07.341825Z"
    }
   },
   "outputs": [],
   "source": [
    "import networkx as nx\n",
    "import matplotlib.pyplot as plt\n",
    "import numpy as np\n",
    "\n",
    "import qtensor as qtn\n",
    "import quimb.tensor, quimb\n",
    "import cotengra\n",
    "\n",
    "from cartesian_explorer import Explorer\n",
    "import cartesian_explorer.caches as caches\n"
   ]
  },
  {
   "cell_type": "code",
   "execution_count": 5,
   "metadata": {
    "ExecuteTime": {
     "end_time": "2020-11-26T04:17:08.526087Z",
     "start_time": "2020-11-26T04:17:08.459953Z"
    }
   },
   "outputs": [
    {
     "name": "stdout",
     "output_type": "stream",
     "text": [
      "The autoreload extension is already loaded. To reload it, use:\n",
      "  %reload_ext autoreload\n"
     ]
    }
   ],
   "source": [
    "%load_ext autoreload\n",
    "%autoreload 2"
   ]
  },
  {
   "cell_type": "code",
   "execution_count": 6,
   "metadata": {
    "ExecuteTime": {
     "end_time": "2020-11-26T04:17:09.130588Z",
     "start_time": "2020-11-26T04:17:09.078067Z"
    }
   },
   "outputs": [],
   "source": [
    "ex = Explorer()"
   ]
  },
  {
   "cell_type": "code",
   "execution_count": null,
   "metadata": {},
   "outputs": [],
   "source": []
  },
  {
   "cell_type": "code",
   "execution_count": 7,
   "metadata": {
    "ExecuteTime": {
     "end_time": "2020-11-26T04:17:10.767409Z",
     "start_time": "2020-11-26T04:17:10.694556Z"
    }
   },
   "outputs": [],
   "source": [
    "@ex.provider\n",
    "def bethe_graph(p, degree=3):\n",
    "    def add_two_nodes_to_leafs(graph):\n",
    "        \"\"\" Works in-place \"\"\"\n",
    "        leaves = [n for n in graph.nodes() if graph.degree(n) <= degree-2]\n",
    "        n = graph.number_of_nodes()\n",
    "        for leaf in leaves:\n",
    "            next_edges = [(leaf, n+x) for x in range(1, degree)]\n",
    "            graph.add_edges_from(next_edges)\n",
    "            n += 2\n",
    "    graph = nx.Graph()\n",
    "    graph.add_edges_from([(0,1)])\n",
    "    for i in range(p):\n",
    "        add_two_nodes_to_leafs(graph)\n",
    "    print('bethe lattice nodes', graph.number_of_nodes())\n",
    "    return graph\n"
   ]
  },
  {
   "cell_type": "code",
   "execution_count": 8,
   "metadata": {
    "ExecuteTime": {
     "end_time": "2020-11-26T04:17:10.893301Z",
     "start_time": "2020-11-26T04:17:10.823762Z"
    }
   },
   "outputs": [],
   "source": [
    "def quimb_opt(opt_type, **kwargs):\n",
    "    if opt_type == 'hyper':\n",
    "        optimizer = cotengra.HyperOptimizer(\n",
    "            parallel=False,\n",
    "            max_repeats=10000,\n",
    "            max_time=kwargs.get('optimizer_time', 1)\n",
    "        )\n",
    "    elif opt_type == 'uniform':\n",
    "        optimizer = cotengra.UniformOptimizer(\n",
    "            parallel=False,\n",
    "            methods=['greedy'],\n",
    "            max_repeats=1_000_000,\n",
    "            max_time=kwargs.get('optimizer_time', 1)\n",
    "        )\n",
    "    else:\n",
    "        raise ValueError('Ordering algorithm not supported')\n",
    "    return optimizer\n",
    "    \n",
    "@ex.provider\n",
    "def quimb_tw(bethe_graph, p=2, qmb_opt_time=1, qmb_ordering='uniform'):\n",
    "    graph = bethe_graph\n",
    "    terms = {(i,j):1 for i,j in graph.edges}\n",
    "    gammas, betas = [0.1]*p, [.3]*p\n",
    "    circ = quimb.tensor.circ_qaoa(terms, p, gammas, betas)\n",
    "\n",
    "    ZZ = quimb.pauli('Z') & quimb.pauli('Z')\n",
    "    #return circ.local_expectation(ZZ, edge, optimize=optimizer)\n",
    "    optimizer = quimb_opt(qmb_ordering, optimizer_time=qmb_opt_time)\n",
    "    edge = (0, 1)\n",
    "    rehs = circ.local_expectation_rehearse(ZZ, edge, optimize=optimizer)\n",
    "    W = np.log2(float(rehs['info'].largest_intermediate))\n",
    "    return W"
   ]
  },
  {
   "cell_type": "code",
   "execution_count": 9,
   "metadata": {
    "ExecuteTime": {
     "end_time": "2020-11-26T04:17:12.868389Z",
     "start_time": "2020-11-26T04:17:11.062779Z"
    },
    "scrolled": true
   },
   "outputs": [
    {
     "name": "stdout",
     "output_type": "stream",
     "text": [
      "bethe lattice nodes 62\n"
     ]
    },
    {
     "data": {
      "text/plain": [
       "10.0"
      ]
     },
     "execution_count": 9,
     "metadata": {},
     "output_type": "execute_result"
    }
   ],
   "source": [
    "ex.get_variable('quimb_tw', p=4)"
   ]
  },
  {
   "cell_type": "code",
   "execution_count": 14,
   "metadata": {
    "ExecuteTime": {
     "end_time": "2020-11-26T04:35:29.508557Z",
     "start_time": "2020-11-26T04:35:29.437227Z"
    }
   },
   "outputs": [],
   "source": [
    "@ex.provider\n",
    "def bethe_lightcone_circuit(bethe_graph, p, composer_type='cone'):\n",
    "    if composer_type=='cone':\n",
    "        Composer = qtn.QtreeQAOAComposer\n",
    "    elif composer_type=='cylinder':\n",
    "        Composer = qtn.OldQtreeQAOAComposer\n",
    "    beta, gamma = [0.1]*p, [0.3]*p\n",
    "    \n",
    "    print('beta, gamma', beta, gamma, 'type', composer_type)\n",
    "    comp = Composer(bethe_graph, gamma=gamma, beta=beta)\n",
    "    comp.energy_expectation_lightcone((0, 1))\n",
    "    print('len', len(comp.circuit))\n",
    "    return tuple(comp.circuit)\n",
    "\n",
    "@ex.provider\n",
    "def qtensor_tw(bethe_lightcone_circuit, qtn_ordering_algo='default'):\n",
    "    circuit = bethe_lightcone_circuit\n",
    "    tn = qtn.optimisation.TensorNet.QtreeTensorNet.from_qtree_gates(circuit)\n",
    "    opt = qtn.toolbox.get_ordering_algo(qtn_ordering_algo)\n",
    "    try:\n",
    "        peo, _ = opt.optimize(tn)\n",
    "    except Exception as e:\n",
    "        print(\"error\", e)\n",
    "        return None\n",
    "    return opt.treewidth"
   ]
  },
  {
   "cell_type": "code",
   "execution_count": 19,
   "metadata": {
    "ExecuteTime": {
     "end_time": "2020-11-26T05:24:05.449353Z",
     "start_time": "2020-11-26T05:24:05.028075Z"
    },
    "scrolled": false
   },
   "outputs": [
    {
     "data": {
      "application/vnd.jupyter.widget-view+json": {
       "model_id": "1e2d061279934669b3fd53d933f00dfb",
       "version_major": 2,
       "version_minor": 0
      },
      "text/plain": [
       "HBox(children=(FloatProgress(value=0.0, max=14.0), HTML(value='')))"
      ]
     },
     "metadata": {},
     "output_type": "display_data"
    },
    {
     "name": "stdout",
     "output_type": "stream",
     "text": [
      "\n"
     ]
    },
    {
     "data": {
      "image/png": "[encoded data removed]",
      "text/plain": [
       "<Figure size 600x400 with 1 Axes>"
      ]
     },
     "metadata": {
      "needs_background": "light"
     },
     "output_type": "display_data"
    }
   ],
   "source": [
    "ps = [2, 3, 4, 5, 6, 7, 8]\n",
    "f = ex.plot_variables(('quimb_tw', 'qtensor_tw'),\n",
    "                  qtn_ordering_algo=['rgreedy_0.02_20'],\n",
    "                  qmb_opt_time=[90],\n",
    "                  qmb_ordering=['hyper'],\n",
    "                  p=ps\n",
    "                 )"
   ]
  },
  {
   "cell_type": "code",
   "execution_count": null,
   "metadata": {},
   "outputs": [],
   "source": []
  }
 ],
 "metadata": {
  "kernelspec": {
   "display_name": "Python 3",
   "language": "python",
   "name": "python3"
  },
  "language_info": {
   "codemirror_mode": {
    "name": "ipython",
    "version": 3
   },
   "file_extension": ".py",
   "mimetype": "text/x-python",
   "name": "python",
   "nbconvert_exporter": "python",
   "pygments_lexer": "ipython3",
   "version": "3.8.6"
  },
  "toc": {
   "base_numbering": 1,
   "nav_menu": {},
   "number_sections": true,
   "sideBar": true,
   "skip_h1_title": false,
   "title_cell": "Table of Contents",
   "title_sidebar": "Contents",
   "toc_cell": true,
   "toc_position": {},
   "toc_section_display": true,
   "toc_window_display": true
  }
 },
 "nbformat": 4,
 "nbformat_minor": 4
}
