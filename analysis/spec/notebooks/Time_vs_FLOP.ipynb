{
 "cells": [
  {
   "cell_type": "markdown",
   "metadata": {
    "toc": true
   },
   "source": [
    "<h1>Table of Contents<span class=\"tocSkip\"></span></h1>\n",
    "<div class=\"toc\"><ul class=\"toc-item\"><li><span><a href=\"#Qtensor-simulation-times\" data-toc-modified-id=\"Qtensor-simulation-times-1\"><span class=\"toc-item-num\">1&nbsp;&nbsp;</span>Qtensor simulation times</a></span><ul class=\"toc-item\"><li><span><a href=\"#Get-cost-estimation\" data-toc-modified-id=\"Get-cost-estimation-1.1\"><span class=\"toc-item-num\">1.1&nbsp;&nbsp;</span>Get cost estimation</a></span></li><li><span><a href=\"#Simulate-the-circuit\" data-toc-modified-id=\"Simulate-the-circuit-1.2\"><span class=\"toc-item-num\">1.2&nbsp;&nbsp;</span>Simulate the circuit</a></span></li><li><span><a href=\"#Compare-estimation-with-actual-time\" data-toc-modified-id=\"Compare-estimation-with-actual-time-1.3\"><span class=\"toc-item-num\">1.3&nbsp;&nbsp;</span>Compare estimation with actual time</a></span><ul class=\"toc-item\"><li><span><a href=\"#Explore-costs-for-different-edges\" data-toc-modified-id=\"Explore-costs-for-different-edges-1.3.1\"><span class=\"toc-item-num\">1.3.1&nbsp;&nbsp;</span>Explore costs for different edges</a></span></li><li><span><a href=\"#Determine-dependence-of-estimaiton-vs-time\" data-toc-modified-id=\"Determine-dependence-of-estimaiton-vs-time-1.3.2\"><span class=\"toc-item-num\">1.3.2&nbsp;&nbsp;</span>Determine dependence of estimaiton vs time</a></span></li></ul></li><li><span><a href=\"#Analyze-simulator-FLOP/s\" data-toc-modified-id=\"Analyze-simulator-FLOP/s-1.4\"><span class=\"toc-item-num\">1.4&nbsp;&nbsp;</span>Analyze simulator FLOP/s</a></span><ul class=\"toc-item\"><li><span><a href=\"#Plot-time-vs-estimated-FLOP\" data-toc-modified-id=\"Plot-time-vs-estimated-FLOP-1.4.1\"><span class=\"toc-item-num\">1.4.1&nbsp;&nbsp;</span>Plot time vs estimated FLOP</a></span></li><li><span><a href=\"#Estimate-FLOP/s\" data-toc-modified-id=\"Estimate-FLOP/s-1.4.2\"><span class=\"toc-item-num\">1.4.2&nbsp;&nbsp;</span>Estimate FLOP/s</a></span></li><li><span><a href=\"#Compare-with-matrix-multiplication\" data-toc-modified-id=\"Compare-with-matrix-multiplication-1.4.3\"><span class=\"toc-item-num\">1.4.3&nbsp;&nbsp;</span>Compare with matrix multiplication</a></span></li></ul></li></ul></li><li><span><a href=\"#CLI\" data-toc-modified-id=\"CLI-2\"><span class=\"toc-item-num\">2&nbsp;&nbsp;</span>CLI</a></span></li><li><span><a href=\"#Nbdev-stuff\" data-toc-modified-id=\"Nbdev-stuff-3\"><span class=\"toc-item-num\">3&nbsp;&nbsp;</span>Nbdev stuff</a></span></li></ul></div>"
   ]
  },
  {
   "cell_type": "markdown",
   "metadata": {
    "ExecuteTime": {
     "end_time": "2020-10-03T03:23:49.614591Z",
     "start_time": "2020-10-03T03:23:49.606381Z"
    }
   },
   "source": [
    "# Compare qtensor with statevector simulations"
   ]
  },
  {
   "cell_type": "code",
   "execution_count": null,
   "metadata": {
    "ExecuteTime": {
     "end_time": "2020-10-07T08:16:57.491243Z",
     "start_time": "2020-10-07T08:16:54.948841Z"
    }
   },
   "outputs": [],
   "source": [
    "#export\n",
    "import sys\n",
    "import numpy as np\n",
    "import matplotlib.pyplot as plt\n",
    "\n",
    "import qtensor as qt\n",
    "from cartesian_explorer import Explorer\n",
    "\n",
    "SEED=107\n",
    "np.random.seed(SEED)"
   ]
  },
  {
   "cell_type": "code",
   "execution_count": null,
   "metadata": {
    "ExecuteTime": {
     "end_time": "2020-10-07T08:16:57.503389Z",
     "start_time": "2020-10-07T08:16:57.500391Z"
    }
   },
   "outputs": [],
   "source": [
    "#export\n",
    "import matplotlib as mpl\n",
    "from cycler import cycler\n",
    "mpl.rcParams['axes.prop_cycle'] = cycler(color=['#db503d', '#02C6E0'])"
   ]
  },
  {
   "cell_type": "code",
   "execution_count": null,
   "metadata": {
    "ExecuteTime": {
     "end_time": "2020-10-07T08:16:57.511530Z",
     "start_time": "2020-10-07T08:16:57.504838Z"
    }
   },
   "outputs": [],
   "source": [
    "#export\n",
    "ex = Explorer()"
   ]
  },
  {
   "cell_type": "markdown",
   "metadata": {
    "ExecuteTime": {
     "end_time": "2020-10-03T02:54:22.569788Z",
     "start_time": "2020-10-03T02:54:22.565170Z"
    }
   },
   "source": [
    "## Qtensor simulation times"
   ]
  },
  {
   "cell_type": "markdown",
   "metadata": {
    "ExecuteTime": {
     "end_time": "2020-10-03T02:54:34.497786Z",
     "start_time": "2020-10-03T02:54:34.493413Z"
    }
   },
   "source": [
    "### Get cost estimation"
   ]
  },
  {
   "cell_type": "code",
   "execution_count": null,
   "metadata": {
    "ExecuteTime": {
     "end_time": "2020-10-07T07:23:43.896414Z",
     "start_time": "2020-10-07T07:23:42.859051Z"
    },
    "scrolled": false
   },
   "outputs": [],
   "source": [
    "N = 1000\n",
    "p = 4\n",
    "edge_idx = 7\n",
    "gamma, beta = [.1]*p, [.3]*p\n",
    "graph = qt.toolbox.random_graph(nodes=N, degree=3)\n",
    "\n",
    "comp = qt.QtreeQAOAComposer(graph, gamma=gamma, beta=beta)\n",
    "\n",
    "comp.energy_expectation_lightcone(list(graph.edges())[edge_idx])\n",
    "tn = qt.optimisation.TensorNet.QtreeTensorNet.from_qtree_gates(comp.circuit)\n",
    "opt = qt.optimisation.Optimizer.DefaultOptimizer()\n",
    "peo, _ = opt.optimize(tn)\n",
    "costs, mems = tn.simulation_cost(peo)"
   ]
  },
  {
   "cell_type": "code",
   "execution_count": null,
   "metadata": {
    "ExecuteTime": {
     "end_time": "2020-10-07T07:23:44.789730Z",
     "start_time": "2020-10-07T07:23:44.253828Z"
    },
    "scrolled": true
   },
   "outputs": [],
   "source": [
    "plt.plot(costs, label='flops')\n",
    "plt.plot(mems, label='memory')\n",
    "plt.yscale('log')\n",
    "plt.legend()\n",
    "plt.grid()\n",
    "plt.title('Simulation cost per step')\n",
    "print(f'Total FLOPS={sum(costs)/1e9} G, Memory={max(mems)/1e9} G')"
   ]
  },
  {
   "cell_type": "markdown",
   "metadata": {
    "ExecuteTime": {
     "end_time": "2020-10-03T02:54:34.497786Z",
     "start_time": "2020-10-03T02:54:34.493413Z"
    }
   },
   "source": [
    "### Simulate the circuit"
   ]
  },
  {
   "cell_type": "code",
   "execution_count": null,
   "metadata": {
    "ExecuteTime": {
     "end_time": "2020-10-07T07:23:49.308184Z",
     "start_time": "2020-10-07T07:23:48.102918Z"
    }
   },
   "outputs": [],
   "source": [
    "backend = qt.PerfNumpyBackend(print=False)\n",
    "sim = qt.QtreeSimulator(bucket_backend=backend)\n",
    "\n",
    "sim.simulate(comp.circuit)"
   ]
  },
  {
   "cell_type": "markdown",
   "metadata": {
    "ExecuteTime": {
     "end_time": "2020-10-03T02:54:34.497786Z",
     "start_time": "2020-10-03T02:54:34.493413Z"
    }
   },
   "source": [
    "### Compare estimation with actual time"
   ]
  },
  {
   "cell_type": "code",
   "execution_count": null,
   "metadata": {
    "ExecuteTime": {
     "end_time": "2020-10-07T07:24:09.759656Z",
     "start_time": "2020-10-07T07:24:08.942804Z"
    },
    "scrolled": true
   },
   "outputs": [],
   "source": [
    "profile_results = backend._profile_results\n",
    "step_times = [x[1] for x in profile_results.values()]\n",
    "ignored_vars = tn.bra_vars+tn.ket_vars\n",
    "\n",
    "plt.plot(step_times[len(ignored_vars):], label='Time')\n",
    "plt.yscale('log')\n",
    "plt.grid()\n",
    "\n",
    "plt.twinx()\n",
    "plt.plot(costs, label='Theoretical FLOPS', color='blue')\n",
    "plt.yscale('log')\n",
    "\n",
    "plt.title('Time in simulation for each step')\n",
    "\n",
    "lastN = 200\n",
    "axins = plt.gca().inset_axes([0.1, 0.5, 0.47, 0.47])\n",
    "axins.plot(step_times[-lastN:] )\n",
    "axins.set_yscale('log')\n",
    "axins.grid()\n",
    "\n",
    "plt.twinx(axins)\n",
    "plt.plot(costs[-lastN:], color='blue')\n",
    "plt.yscale('log')\n",
    "\n",
    "\n",
    "print(f'Total time={sum(step_times)}')"
   ]
  },
  {
   "cell_type": "markdown",
   "metadata": {},
   "source": [
    "#### Explore costs for different edges"
   ]
  },
  {
   "cell_type": "code",
   "execution_count": null,
   "metadata": {
    "ExecuteTime": {
     "end_time": "2020-10-07T08:17:01.842886Z",
     "start_time": "2020-10-07T08:17:01.822686Z"
    }
   },
   "outputs": [],
   "source": [
    "#export\n",
    "@ex.provider\n",
    "def graph(n, d):\n",
    "    return qt.toolbox.random_graph(nodes=n, degree=d)\n",
    "\n",
    "@ex.provider\n",
    "def circuit(graph, edge_idx, p):\n",
    "    gamma, beta = [.1]*p, [.3]*p\n",
    "    comp = qt.QtreeQAOAComposer(graph, gamma=gamma, beta=beta)\n",
    "    comp.energy_expectation_lightcone(list(graph.edges())[edge_idx])\n",
    "    return tuple(comp.circuit)\n",
    "\n",
    "@ex.provider\n",
    "def tn(circuit):\n",
    "    return qt.optimisation.TensorNet.QtreeTensorNet.from_qtree_gates(circuit)\n",
    "\n",
    "@ex.provider\n",
    "def peo(tn):\n",
    "    opt = qt.optimisation.Optimizer.DefaultOptimizer()\n",
    "    peo, _ = opt.optimize(tn)\n",
    "    return tuple(peo)\n",
    "\n",
    "@ex.provider\n",
    "def sim_costs(tn, peo):\n",
    "    opt = qt.optimisation.Optimizer.DefaultOptimizer()\n",
    "    peo, _ = opt.optimize(tn)\n",
    "    costs, mems = tn.simulation_cost(peo)\n",
    "    return costs, mems\n",
    "\n",
    "@ex.provider\n",
    "def sum_flops(sim_costs):\n",
    "    flops, mems = sim_costs\n",
    "    return sum(flops)"
   ]
  },
  {
   "cell_type": "code",
   "execution_count": null,
   "metadata": {
    "ExecuteTime": {
     "end_time": "2020-10-07T08:17:01.958981Z",
     "start_time": "2020-10-07T08:17:01.952821Z"
    }
   },
   "outputs": [],
   "source": [
    "#export\n",
    "@ex.provider\n",
    "def step_flops(sim_costs):\n",
    "    flops, mems = sim_costs\n",
    "    return tuple(flops)\n",
    "\n",
    "@ex.provider\n",
    "def max_mem(sim_costs):\n",
    "    flops, mems = sim_costs\n",
    "    return max(mems)"
   ]
  },
  {
   "cell_type": "code",
   "execution_count": null,
   "metadata": {
    "ExecuteTime": {
     "end_time": "2020-10-07T07:39:34.815375Z",
     "start_time": "2020-10-07T07:38:39.569198Z"
    }
   },
   "outputs": [],
   "source": [
    "fig = ex.plot_variables2d(('sum_flops', 'max_mem'), n=[N], p=[3],\n",
    "                          d=[3,4], edge_idx=range(30))\n",
    "for ax in fig.axes:\n",
    "    ax.set_yscale('log')\n",
    "    ax.grid()"
   ]
  },
  {
   "cell_type": "markdown",
   "metadata": {
    "ExecuteTime": {
     "end_time": "2020-10-03T03:24:52.565136Z",
     "start_time": "2020-10-03T03:24:52.562934Z"
    }
   },
   "source": [
    "#### Determine dependence of estimaiton vs time"
   ]
  },
  {
   "cell_type": "markdown",
   "metadata": {},
   "source": [
    "Determine easy edges from previous graphs.\n"
   ]
  },
  {
   "cell_type": "code",
   "execution_count": null,
   "metadata": {
    "ExecuteTime": {
     "end_time": "2020-10-07T07:43:46.450025Z",
     "start_time": "2020-10-07T07:43:46.445069Z"
    }
   },
   "outputs": [],
   "source": [
    "#export\n",
    "EDGE_IDX_FOR_SEED = {\n",
    "    108:  [1, 2, 3, 7, 12, 15]\n",
    "    ,107:  [9, ]\n",
    "}\n",
    "\n",
    "EDGE_IDX_FOR_SEED_JLSE = {\n",
    "    107:  [4, 5, 9, 20, 24]\n",
    "}"
   ]
  },
  {
   "cell_type": "code",
   "execution_count": null,
   "metadata": {
    "ExecuteTime": {
     "end_time": "2020-10-07T07:39:58.442055Z",
     "start_time": "2020-10-07T07:39:58.439007Z"
    }
   },
   "outputs": [],
   "source": [
    "edge_indices = EDGE_IDX_FOR_SEED[SEED]\n",
    "ds = [3, 4]\n",
    "p = 3"
   ]
  },
  {
   "cell_type": "code",
   "execution_count": null,
   "metadata": {
    "ExecuteTime": {
     "end_time": "2020-10-07T08:17:25.827182Z",
     "start_time": "2020-10-07T08:17:25.810647Z"
    }
   },
   "outputs": [],
   "source": [
    "#export\n",
    "@ex.provider\n",
    "def sim_profile(circuit, tn):\n",
    "    backend = qt.PerfNumpyBackend(print=False)\n",
    "    sim = qt.QtreeSimulator(bucket_backend=backend)\n",
    "\n",
    "    sim.simulate(circuit)\n",
    "    data = backend._profile_results\n",
    "    return tuple(tuple([tuple(x[0]), x[1]]) for x in data.values())\n",
    "\n",
    "@ex.provider\n",
    "def step_sim_time(sim_profile, tn):\n",
    "    ignored_vars = tn.bra_vars+tn.ket_vars\n",
    "    times = [x[1] for x in sim_profile]\n",
    "    return tuple(times[len(ignored_vars):])"
   ]
  },
  {
   "cell_type": "code",
   "execution_count": null,
   "metadata": {
    "ExecuteTime": {
     "end_time": "2020-10-07T07:40:00.853291Z",
     "start_time": "2020-10-07T07:40:00.237722Z"
    },
    "scrolled": false
   },
   "outputs": [],
   "source": [
    "f = ex.draw_dependency_graph(figsize=(7,6), node_size=20)"
   ]
  },
  {
   "cell_type": "code",
   "execution_count": null,
   "metadata": {
    "ExecuteTime": {
     "end_time": "2020-10-07T07:40:01.553712Z",
     "start_time": "2020-10-07T07:40:01.484774Z"
    }
   },
   "outputs": [],
   "source": [
    "estimators = ex.map_variable('step_flops', d=ds, edge_idx=edge_indices, n=[N], p=[p])"
   ]
  },
  {
   "cell_type": "code",
   "execution_count": null,
   "metadata": {
    "ExecuteTime": {
     "end_time": "2020-10-07T07:40:03.546159Z",
     "start_time": "2020-10-07T07:40:02.010399Z"
    },
    "scrolled": false
   },
   "outputs": [],
   "source": [
    "times = ex.map_variable('step_sim_time', d=ds, edge_idx=edge_indices, n=[N], p=[p])"
   ]
  },
  {
   "cell_type": "code",
   "execution_count": null,
   "metadata": {
    "ExecuteTime": {
     "end_time": "2020-10-07T07:40:04.393623Z",
     "start_time": "2020-10-07T07:40:04.134441Z"
    }
   },
   "outputs": [],
   "source": [
    "est_flat = np.concatenate(estimators.flatten())\n",
    "times_flat = np.concatenate(times.flatten())\n",
    "filt = times_flat<1e-1\n",
    "plt.scatter(est_flat[filt], times_flat[filt])\n",
    "plt.grid()\n",
    "plt.xlabel('estimated FLOP')\n",
    "plt.ylabel('Runtime')"
   ]
  },
  {
   "cell_type": "markdown",
   "metadata": {
    "ExecuteTime": {
     "end_time": "2020-10-03T04:27:36.042376Z",
     "start_time": "2020-10-03T04:27:36.037458Z"
    }
   },
   "source": [
    "### Analyze simulator FLOP/s"
   ]
  },
  {
   "cell_type": "markdown",
   "metadata": {},
   "source": [
    "#### Plot time vs estimated FLOP"
   ]
  },
  {
   "cell_type": "code",
   "execution_count": null,
   "metadata": {
    "ExecuteTime": {
     "end_time": "2020-10-07T08:20:00.827753Z",
     "start_time": "2020-10-07T08:20:00.819148Z"
    }
   },
   "outputs": [],
   "source": [
    "#export\n",
    "def plot_with_filter(est_flat, times_flat):\n",
    "    filt = (est_flat>1e4) #& (times_flat>1e-4)\n",
    "    est_flat_filtered = est_flat[filt]\n",
    "    times_flat_filtered = times_flat[filt]\n",
    "\n",
    "    # Fit times\n",
    "    log_fit_coef = np.polyfit(np.log(est_flat_filtered), np.log(times_flat_filtered), 1)\n",
    "    fit_coef = np.polyfit(est_flat_filtered, times_flat_filtered, 1)\n",
    "    print('Lin fit:', fit_coef)\n",
    "    print('Log fit:', log_fit_coef)\n",
    "    fit_fn = np.poly1d(log_fit_coef)\n",
    "\n",
    "    # Plot scatter with filtered data\n",
    "    plt.scatter(est_flat_filtered, times_flat_filtered)\n",
    "    xfit = 10**np.linspace(4, 7, 100)\n",
    "    plt.plot(xfit, np.exp(fit_fn(np.log(xfit))), color='blue')\n",
    "    plt.loglog()\n",
    "    plt.xlabel('estimated FLOP')\n",
    "    plt.ylabel('Runtime')\n",
    "    return log_fit_coef, fit_coef"
   ]
  },
  {
   "cell_type": "code",
   "execution_count": null,
   "metadata": {
    "ExecuteTime": {
     "end_time": "2020-10-07T08:20:00.986928Z",
     "start_time": "2020-10-07T08:20:00.964812Z"
    }
   },
   "outputs": [],
   "source": [
    "log_fit_coef, fit_coef = plot_with_filter(est_flat, times_flat)"
   ]
  },
  {
   "cell_type": "markdown",
   "metadata": {},
   "source": [
    "Let's estimate our factual FLOPS on a laptop from worst-case on linear plot\n"
   ]
  },
  {
   "cell_type": "markdown",
   "metadata": {},
   "source": [
    "#### Estimate FLOP/s"
   ]
  },
  {
   "cell_type": "code",
   "execution_count": null,
   "metadata": {
    "ExecuteTime": {
     "end_time": "2020-10-07T07:40:10.141424Z",
     "start_time": "2020-10-07T07:40:10.138386Z"
    }
   },
   "outputs": [],
   "source": [
    "FLOP = 1e6/.03\n",
    "print(f'Factual FLOPS on a laptop {FLOP:e}')"
   ]
  },
  {
   "cell_type": "markdown",
   "metadata": {},
   "source": [
    "Or use logarithmic fit\n"
   ]
  },
  {
   "cell_type": "code",
   "execution_count": null,
   "metadata": {
    "ExecuteTime": {
     "end_time": "2020-10-07T07:40:12.055353Z",
     "start_time": "2020-10-07T07:40:12.050244Z"
    }
   },
   "outputs": [],
   "source": [
    "FLOP_logfit = np.exp(-log_fit_coef[1])\n",
    "print(f'Factual FLOPS on a laptop, from log fit {FLOP_logfit:e}')"
   ]
  },
  {
   "cell_type": "code",
   "execution_count": null,
   "metadata": {
    "ExecuteTime": {
     "end_time": "2020-10-07T07:40:16.520371Z",
     "start_time": "2020-10-07T07:40:12.850181Z"
    }
   },
   "outputs": [],
   "source": [
    "N = 500\n",
    "matmul_flop = N**2*(N-1)\n",
    "x, y = np.random.randn(2, N, N)\n",
    "%timeit np.matmul(x,y)"
   ]
  },
  {
   "cell_type": "markdown",
   "metadata": {},
   "source": [
    "#### Compare with matrix multiplication"
   ]
  },
  {
   "cell_type": "code",
   "execution_count": null,
   "metadata": {
    "ExecuteTime": {
     "end_time": "2020-10-07T07:40:19.790768Z",
     "start_time": "2020-10-07T07:40:19.787939Z"
    }
   },
   "outputs": [],
   "source": [
    "FLOPS_matmul = matmul_flop/4.65e-3\n",
    "print(f'FLOPS on this laptop for matrix mul: {FLOPS_matmul:e}')"
   ]
  },
  {
   "cell_type": "code",
   "execution_count": null,
   "metadata": {
    "ExecuteTime": {
     "end_time": "2020-10-07T07:40:20.329754Z",
     "start_time": "2020-10-07T07:40:20.326436Z"
    }
   },
   "outputs": [],
   "source": [
    "print(f'Simulator inefficiency: {FLOPS_matmul/FLOP_logfit}')\n",
    "print(f'Simulator optimality: {FLOP_logfit/FLOPS_matmul}')"
   ]
  },
  {
   "cell_type": "code",
   "execution_count": null,
   "metadata": {
    "ExecuteTime": {
     "end_time": "2020-10-07T08:25:27.943213Z",
     "start_time": "2020-10-07T08:25:27.939822Z"
    }
   },
   "outputs": [],
   "source": [
    "#export\n",
    "import timeit\n",
    "def get_log_flops_vs_matmul(log_fit_coef):\n",
    "    FLOPS_logfit = np.exp(-log_fit_coef[1])\n",
    "\n",
    "    N = 300\n",
    "    matmul_flop = N**2*(N-1)\n",
    "    x, y = np.random.randn(2, N, N)\n",
    "    number = 100\n",
    "    matmul_time = timeit.timeit(lambda: np.matmul(x,y)\n",
    "                               , number=number)/number\n",
    "\n",
    "    FLOPS_matmul = matmul_flop/matmul_time\n",
    "    \n",
    "    return FLOPS_logfit, FLOPS_matmul"
   ]
  },
  {
   "cell_type": "markdown",
   "metadata": {
    "ExecuteTime": {
     "end_time": "2020-10-07T07:07:57.338317Z",
     "start_time": "2020-10-07T07:07:57.333651Z"
    }
   },
   "source": [
    "## CLI\n",
    "\n",
    "Use click to run some scripts from this notebook"
   ]
  },
  {
   "cell_type": "code",
   "execution_count": null,
   "metadata": {
    "ExecuteTime": {
     "end_time": "2020-10-07T08:14:59.391811Z",
     "start_time": "2020-10-07T08:14:59.381070Z"
    }
   },
   "outputs": [],
   "source": [
    "# export\n",
    "import click\n",
    "\n",
    "@click.group()\n",
    "def cli():\n",
    "    pass\n",
    "\n",
    "@cli.command()\n",
    "@click.argument('filename')\n",
    "def time_vs_flops_plot(filename):\n",
    "    \"\"\"\n",
    "    Plots times and estimated FLOP for each step of several QAOA energy computation contractions.\n",
    "    \n",
    "    Currently using \n",
    "        - random regular graphs with degree=3,4 \n",
    "        - p = 3\n",
    "        - N = 1000\n",
    "        \n",
    "    \"\"\"\n",
    "    edge_indices = EDGE_IDX_FOR_SEED[SEED]\n",
    "    ds = [3, 4]\n",
    "    p = 3\n",
    "    N = 1000\n",
    "    \n",
    "    estimators = ex.map_variable('step_flops', d=ds, edge_idx=edge_indices, n=[N], p=[p])\n",
    "    times = ex.map_variable('step_sim_time', d=ds, edge_idx=edge_indices, n=[N], p=[p])\n",
    "    \n",
    "    est_flat = np.concatenate(estimators.flatten())\n",
    "    times_flat = np.concatenate(times.flatten())\n",
    "    \n",
    "    log_fit_coef, fit_coef = plot_with_filter(est_flat, times_flat)\n",
    "    plt.savefig(filename)\n",
    "    \n",
    "    fit, matmul = get_log_flops_vs_matmul(log_fit_coef)\n",
    "    \n",
    "    print('===Results===')\n",
    "    print(f'Simulator fitted flops: {fit/1e9:.5} G')\n",
    "    print(f'Matmul flops: {matmul/1e9:.5} G')\n",
    "    print(f'Simulator optimality: {fit/matmul}')"
   ]
  },
  {
   "cell_type": "markdown",
   "metadata": {},
   "source": [
    "## Nbdev stuff"
   ]
  },
  {
   "cell_type": "code",
   "execution_count": null,
   "metadata": {
    "ExecuteTime": {
     "end_time": "2020-10-07T08:24:00.725270Z",
     "start_time": "2020-10-07T08:24:00.720844Z"
    }
   },
   "outputs": [],
   "source": [
    "#hide\n",
    "#default_exp time_vs_flop"
   ]
  },
  {
   "cell_type": "code",
   "execution_count": null,
   "metadata": {
    "ExecuteTime": {
     "end_time": "2020-10-07T08:40:18.903774Z",
     "start_time": "2020-10-07T08:40:18.800095Z"
    }
   },
   "outputs": [],
   "source": [
    "from nbdev.export  import *\n",
    "notebook2script()"
   ]
  },
  {
   "cell_type": "code",
   "execution_count": null,
   "metadata": {},
   "outputs": [],
   "source": []
  }
 ],
 "metadata": {
  "jupytext": {
   "formats": "ipynb,py"
  },
  "kernelspec": {
   "display_name": "Python 3",
   "language": "python",
   "name": "python3"
  },
  "language_info": {
   "codemirror_mode": {
    "name": "ipython",
    "version": 3
   },
   "file_extension": ".py",
   "mimetype": "text/x-python",
   "name": "python",
   "nbconvert_exporter": "python",
   "pygments_lexer": "ipython3",
   "version": "3.8.5"
  },
  "toc": {
   "base_numbering": 1,
   "nav_menu": {},
   "number_sections": true,
   "sideBar": true,
   "skip_h1_title": true,
   "title_cell": "Table of Contents",
   "title_sidebar": "Contents",
   "toc_cell": true,
   "toc_position": {},
   "toc_section_display": true,
   "toc_window_display": true
  }
 },
 "nbformat": 4,
 "nbformat_minor": 4
}
