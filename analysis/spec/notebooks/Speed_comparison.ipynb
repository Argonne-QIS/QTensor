{
 "cells": [
  {
   "cell_type": "markdown",
   "metadata": {
    "toc": true
   },
   "source": [
    "<h1>Table of Contents<span class=\"tocSkip\"></span></h1>\n",
    "<div class=\"toc\"><ul class=\"toc-item\"><li><span><a href=\"#Qtensor-vs-other-simulators:-speed\" data-toc-modified-id=\"Qtensor-vs-other-simulators:-speed-1\"><span class=\"toc-item-num\">1&nbsp;&nbsp;</span>Qtensor vs other simulators: speed</a></span><ul class=\"toc-item\"><li><span><a href=\"#Generate-data\" data-toc-modified-id=\"Generate-data-1.1\"><span class=\"toc-item-num\">1.1&nbsp;&nbsp;</span>Generate data</a></span></li><li><span><a href=\"#Generate-data\" data-toc-modified-id=\"Generate-data-1.2\"><span class=\"toc-item-num\">1.2&nbsp;&nbsp;</span>Generate data</a></span></li><li><span><a href=\"#Read-data\" data-toc-modified-id=\"Read-data-1.3\"><span class=\"toc-item-num\">1.3&nbsp;&nbsp;</span>Read data</a></span></li><li><span><a href=\"#Plot-comparisons\" data-toc-modified-id=\"Plot-comparisons-1.4\"><span class=\"toc-item-num\">1.4&nbsp;&nbsp;</span>Plot comparisons</a></span></li><li><span><a href=\"#CLI\" data-toc-modified-id=\"CLI-1.5\"><span class=\"toc-item-num\">1.5&nbsp;&nbsp;</span>CLI</a></span></li></ul></li></ul></div>"
   ]
  },
  {
   "cell_type": "markdown",
   "metadata": {
    "ExecuteTime": {
     "end_time": "2020-11-13T03:20:12.528796Z",
     "start_time": "2020-11-13T03:20:12.523133Z"
    }
   },
   "source": [
    "# Qtensor vs other simulators: speed\n",
    "\n",
    "The functions from this notebook are exported and invoken on a remote server.\n",
    "\n",
    "The data that is generated is transferred back to local machine and plotted here as well"
   ]
  },
  {
   "cell_type": "markdown",
   "metadata": {
    "ExecuteTime": {
     "end_time": "2020-11-13T03:21:26.632061Z",
     "start_time": "2020-11-13T03:21:26.629310Z"
    }
   },
   "source": [
    "## Generate data"
   ]
  },
  {
   "cell_type": "code",
   "execution_count": 38,
   "metadata": {
    "ExecuteTime": {
     "end_time": "2020-11-15T22:43:26.465440Z",
     "start_time": "2020-11-15T22:43:26.337481Z"
    }
   },
   "outputs": [],
   "source": [
    "#export\n",
    "import numpy as np\n",
    "import qtensor as qt\n",
    "from qtensor.tests.qiskit_qaoa_energy import simulate_qiskit_amps\n",
    "from qtensor.tests.qaoa_quimb import simulate_one_parallel as simulate_quimb_energy\n",
    "import matplotlib.pyplot as plt\n",
    "import time\n",
    "\n",
    "from cartesian_explorer import Explorer"
   ]
  },
  {
   "cell_type": "code",
   "execution_count": 39,
   "metadata": {
    "ExecuteTime": {
     "end_time": "2020-11-15T22:43:26.506650Z",
     "start_time": "2020-11-15T22:43:26.471389Z"
    }
   },
   "outputs": [
    {
     "name": "stdout",
     "output_type": "stream",
     "text": [
      "The autoreload extension is already loaded. To reload it, use:\n",
      "  %reload_ext autoreload\n"
     ]
    }
   ],
   "source": [
    "%load_ext autoreload\n",
    "%autoreload 2"
   ]
  },
  {
   "cell_type": "code",
   "execution_count": 40,
   "metadata": {
    "ExecuteTime": {
     "end_time": "2020-11-15T22:43:26.658578Z",
     "start_time": "2020-11-15T22:43:26.614533Z"
    }
   },
   "outputs": [],
   "source": [
    "#export\n",
    "ex = Explorer()"
   ]
  },
  {
   "cell_type": "code",
   "execution_count": 41,
   "metadata": {
    "ExecuteTime": {
     "end_time": "2020-11-15T22:43:27.475635Z",
     "start_time": "2020-11-15T22:43:27.362999Z"
    }
   },
   "outputs": [],
   "source": [
    "#export    \n",
    "@ex.provider\n",
    "def graph(N, d=3, graph_type='random', seed=10):\n",
    "    return qt.toolbox.random_graph(nodes=N, type=graph_type, degree=d, seed=seed)"
   ]
  },
  {
   "cell_type": "code",
   "execution_count": 42,
   "metadata": {
    "ExecuteTime": {
     "end_time": "2020-11-15T22:43:28.213375Z",
     "start_time": "2020-11-15T22:43:28.139092Z"
    }
   },
   "outputs": [],
   "source": [
    "#export\n",
    "@ex.provider\n",
    "def qiskit_time(graph, p):\n",
    "    gamma, beta = [.1]*p, [.3]*p\n",
    "    start = time.time()\n",
    "    try:\n",
    "        _ = simulate_qiskit_amps(graph, gamma, beta)\n",
    "    except Exception as e:\n",
    "        print('Exception:', e)\n",
    "        return None\n",
    "    end = time.time()\n",
    "    return end - start"
   ]
  },
  {
   "cell_type": "code",
   "execution_count": 43,
   "metadata": {
    "ExecuteTime": {
     "end_time": "2020-11-15T22:43:29.351243Z",
     "start_time": "2020-11-15T22:43:28.820661Z"
    }
   },
   "outputs": [
    {
     "name": "stderr",
     "output_type": "stream",
     "text": [
      "INFO:qiskit.transpiler.runningpassmanager:Pass: Unroller - 10.80942 (ms)\n",
      "INFO:qiskit.transpiler.runningpassmanager:Pass: RemoveResetInZeroState - 0.14329 (ms)\n",
      "INFO:qiskit.transpiler.runningpassmanager:Pass: Unroller - 16.06894 (ms)\n",
      "INFO:qiskit.transpiler.runningpassmanager:Pass: RemoveResetInZeroState - 0.12851 (ms)\n",
      "INFO:qiskit.transpiler.runningpassmanager:Pass: Depth - 14.83655 (ms)\n",
      "INFO:qiskit.transpiler.runningpassmanager:Pass: FixedPoint - 0.10014 (ms)\n",
      "INFO:qiskit.transpiler.runningpassmanager:Pass: Optimize1qGates - 19.53053 (ms)\n",
      "INFO:qiskit.transpiler.runningpassmanager:Pass: CXCancellation - 4.82416 (ms)\n",
      "INFO:qiskit.transpiler.runningpassmanager:Pass: Depth - 7.16066 (ms)\n",
      "INFO:qiskit.transpiler.runningpassmanager:Pass: FixedPoint - 0.01884 (ms)\n",
      "INFO:qiskit.transpiler.runningpassmanager:Pass: Optimize1qGates - 6.30140 (ms)\n",
      "INFO:qiskit.transpiler.runningpassmanager:Pass: CXCancellation - 4.34685 (ms)\n",
      "INFO:qiskit.transpiler.runningpassmanager:Pass: Depth - 7.79247 (ms)\n",
      "INFO:qiskit.transpiler.runningpassmanager:Pass: FixedPoint - 0.13995 (ms)\n",
      "INFO:qiskit.transpiler.runningpassmanager:Pass: Optimize1qGates - 20.67399 (ms)\n",
      "INFO:qiskit.transpiler.runningpassmanager:Pass: CXCancellation - 11.86466 (ms)\n",
      "INFO:qiskit.providers.aer.backends.statevector_simulator:\"statevector_simulator\" only supports 1 shot. Setting shots=1.\n"
     ]
    },
    {
     "name": "stdout",
     "output_type": "stream",
     "text": [
      "0.40433835983276367\n"
     ]
    }
   ],
   "source": [
    "qis_time = ex.get_variable('qiskit_time', N=10, p=2)\n",
    "print(qis_time)"
   ]
  },
  {
   "cell_type": "code",
   "execution_count": 44,
   "metadata": {
    "ExecuteTime": {
     "end_time": "2020-11-15T22:43:29.751009Z",
     "start_time": "2020-11-15T22:43:29.677623Z"
    }
   },
   "outputs": [],
   "source": [
    "#export\n",
    "@ex.provider\n",
    "def quimb_time(graph, p,\n",
    "               n_processes=2,\n",
    "               qmb_optimizer_time=0.3,\n",
    "               qmb_ordering_algo='uniform'\n",
    "              ):\n",
    "    start = time.time()\n",
    "    try:\n",
    "        _ = simulate_quimb_energy(graph, p,\n",
    "                                  n_processes=n_processes,\n",
    "                                  optimizer_time=qmb_optimizer_time,\n",
    "                                  ordering_algo=qmb_ordering_algo\n",
    "                                 )\n",
    "    except Exception as e:\n",
    "        print('Exception:', e)\n",
    "        return None\n",
    "    end = time.time()\n",
    "    return end - start"
   ]
  },
  {
   "cell_type": "code",
   "execution_count": 45,
   "metadata": {
    "ExecuteTime": {
     "end_time": "2020-11-15T22:43:34.137022Z",
     "start_time": "2020-11-15T22:43:30.725004Z"
    }
   },
   "outputs": [
    {
     "data": {
      "application/vnd.jupyter.widget-view+json": {
       "model_id": "9ce64eefb9404f5784f5a875de847738",
       "version_major": 2,
       "version_minor": 0
      },
      "text/plain": [
       "HBox(children=(FloatProgress(value=0.0, max=15.0), HTML(value='')))"
      ]
     },
     "metadata": {},
     "output_type": "display_data"
    },
    {
     "name": "stdout",
     "output_type": "stream",
     "text": [
      "\n",
      "3.360929250717163\n"
     ]
    }
   ],
   "source": [
    "qis_time = ex.get_variable('quimb_time', N=10, p=2)\n",
    "print(qis_time)"
   ]
  },
  {
   "cell_type": "code",
   "execution_count": 46,
   "metadata": {
    "ExecuteTime": {
     "end_time": "2020-11-15T22:43:34.208041Z",
     "start_time": "2020-11-15T22:43:34.139880Z"
    }
   },
   "outputs": [],
   "source": [
    "#export\n",
    "@ex.provider\n",
    "def qtensor_time(graph, p,\n",
    "               n_processes=2,\n",
    "               qtn_ordering_algo='greedy'\n",
    "              ):\n",
    "    gamma, beta = [.1]*p, [.3]*p\n",
    "    opt = qt.toolbox.get_ordering_algo(qtn_ordering_algo)\n",
    "    sim = qt.QAOAQtreeSimulator(qt.DefaultQAOAComposer, optimizer=opt)\n",
    "    start = time.time()\n",
    "    try:\n",
    "        _ = sim.energy_expectation_parallel(graph, gamma, beta, n_processes=n_processes)\n",
    "    except Exception as e:\n",
    "        print('Exception:', e)\n",
    "        return None\n",
    "    end = time.time()\n",
    "    return end - start"
   ]
  },
  {
   "cell_type": "code",
   "execution_count": 47,
   "metadata": {
    "ExecuteTime": {
     "end_time": "2020-11-15T22:43:34.621569Z",
     "start_time": "2020-11-15T22:43:34.210207Z"
    }
   },
   "outputs": [
    {
     "data": {
      "application/vnd.jupyter.widget-view+json": {
       "model_id": "10e46a1f32ac44228f6690c58849eca0",
       "version_major": 2,
       "version_minor": 0
      },
      "text/plain": [
       "HBox(children=(FloatProgress(value=0.0, max=15.0), HTML(value='')))"
      ]
     },
     "metadata": {},
     "output_type": "display_data"
    },
    {
     "name": "stdout",
     "output_type": "stream",
     "text": [
      "\n",
      "0.3530290126800537\n"
     ]
    }
   ],
   "source": [
    "qis_time = ex.get_variable('qtensor_time', N=10, p=2)\n",
    "print(qis_time)"
   ]
  },
  {
   "cell_type": "markdown",
   "metadata": {},
   "source": [
    "## Generate data"
   ]
  },
  {
   "cell_type": "code",
   "execution_count": 48,
   "metadata": {
    "ExecuteTime": {
     "end_time": "2020-11-15T22:43:35.309128Z",
     "start_time": "2020-11-15T22:43:35.214938Z"
    }
   },
   "outputs": [],
   "source": [
    "#export\n",
    "def gen_time_data(Ns, ps, **kwargs):\n",
    "    xar = ex.get_variables_xarray(\n",
    "        ('qtensor_time', 'quimb_time', 'qiskit_time'),\n",
    "        p=ps,\n",
    "        N=Ns,\n",
    "        **kwargs,\n",
    "    )\n",
    "    return xar"
   ]
  },
  {
   "cell_type": "code",
   "execution_count": 23,
   "metadata": {
    "ExecuteTime": {
     "end_time": "2020-11-15T04:35:30.360767Z",
     "start_time": "2020-11-15T04:35:11.523286Z"
    }
   },
   "outputs": [
    {
     "data": {
      "application/vnd.jupyter.widget-view+json": {
       "model_id": "6468ead9a5fc48428c4f79ff3980998c",
       "version_major": 2,
       "version_minor": 0
      },
      "text/plain": [
       "HBox(children=(FloatProgress(value=0.0, max=6.0), HTML(value='')))"
      ]
     },
     "metadata": {},
     "output_type": "display_data"
    },
    {
     "data": {
      "application/vnd.jupyter.widget-view+json": {
       "model_id": "6db070b66cfd4ddb85c8637ee35c4407",
       "version_major": 2,
       "version_minor": 0
      },
      "text/plain": [
       "HBox(children=(FloatProgress(value=0.0, max=24.0), HTML(value='')))"
      ]
     },
     "metadata": {},
     "output_type": "display_data"
    },
    {
     "name": "stderr",
     "output_type": "stream",
     "text": [
      "INFO:qiskit.transpiler.runningpassmanager:Pass: Unroller - 15.82313 (ms)\n",
      "INFO:qiskit.transpiler.runningpassmanager:Pass: RemoveResetInZeroState - 0.15497 (ms)\n",
      "INFO:qiskit.transpiler.runningpassmanager:Pass: Unroller - 32.42254 (ms)\n",
      "INFO:qiskit.transpiler.runningpassmanager:Pass: RemoveResetInZeroState - 0.45443 (ms)\n",
      "INFO:qiskit.transpiler.runningpassmanager:Pass: Depth - 6.91032 (ms)\n",
      "INFO:qiskit.transpiler.runningpassmanager:Pass: FixedPoint - 0.12755 (ms)\n",
      "INFO:qiskit.transpiler.runningpassmanager:Pass: Optimize1qGates - 35.60209 (ms)\n"
     ]
    },
    {
     "name": "stdout",
     "output_type": "stream",
     "text": [
      "\n"
     ]
    },
    {
     "name": "stderr",
     "output_type": "stream",
     "text": [
      "INFO:qiskit.transpiler.runningpassmanager:Pass: CXCancellation - 8.86512 (ms)\n",
      "INFO:qiskit.transpiler.runningpassmanager:Pass: Depth - 48.68460 (ms)\n",
      "INFO:qiskit.transpiler.runningpassmanager:Pass: FixedPoint - 0.01812 (ms)\n",
      "INFO:qiskit.transpiler.runningpassmanager:Pass: Optimize1qGates - 43.47777 (ms)\n",
      "INFO:qiskit.transpiler.runningpassmanager:Pass: CXCancellation - 20.70713 (ms)\n",
      "INFO:qiskit.transpiler.runningpassmanager:Pass: Depth - 37.97579 (ms)\n",
      "INFO:qiskit.transpiler.runningpassmanager:Pass: FixedPoint - 0.01955 (ms)\n",
      "INFO:qiskit.transpiler.runningpassmanager:Pass: Optimize1qGates - 15.99979 (ms)\n",
      "INFO:qiskit.transpiler.runningpassmanager:Pass: CXCancellation - 10.78534 (ms)\n",
      "INFO:qiskit.providers.aer.backends.statevector_simulator:\"statevector_simulator\" only supports 1 shot. Setting shots=1.\n"
     ]
    },
    {
     "data": {
      "application/vnd.jupyter.widget-view+json": {
       "model_id": "d4872299be71452fa71edfbaec1dbaab",
       "version_major": 2,
       "version_minor": 0
      },
      "text/plain": [
       "HBox(children=(FloatProgress(value=0.0, max=24.0), HTML(value='')))"
      ]
     },
     "metadata": {},
     "output_type": "display_data"
    },
    {
     "name": "stdout",
     "output_type": "stream",
     "text": [
      "\n"
     ]
    },
    {
     "data": {
      "application/vnd.jupyter.widget-view+json": {
       "model_id": "05f7810296a049d6bd59b49c897db474",
       "version_major": 2,
       "version_minor": 0
      },
      "text/plain": [
       "HBox(children=(FloatProgress(value=0.0, max=24.0), HTML(value='')))"
      ]
     },
     "metadata": {},
     "output_type": "display_data"
    },
    {
     "name": "stderr",
     "output_type": "stream",
     "text": [
      "INFO:qiskit.transpiler.runningpassmanager:Pass: Unroller - 35.33411 (ms)\n",
      "INFO:qiskit.transpiler.runningpassmanager:Pass: RemoveResetInZeroState - 0.24796 (ms)\n",
      "INFO:qiskit.transpiler.runningpassmanager:Pass: Unroller - 40.96556 (ms)\n",
      "INFO:qiskit.transpiler.runningpassmanager:Pass: RemoveResetInZeroState - 0.25582 (ms)\n",
      "INFO:qiskit.transpiler.runningpassmanager:Pass: Depth - 9.46712 (ms)\n",
      "INFO:qiskit.transpiler.runningpassmanager:Pass: FixedPoint - 0.01097 (ms)\n",
      "INFO:qiskit.transpiler.runningpassmanager:Pass: Optimize1qGates - 18.81838 (ms)\n",
      "INFO:qiskit.transpiler.runningpassmanager:Pass: CXCancellation - 6.73342 (ms)\n"
     ]
    },
    {
     "name": "stdout",
     "output_type": "stream",
     "text": [
      "\n"
     ]
    },
    {
     "name": "stderr",
     "output_type": "stream",
     "text": [
      "INFO:qiskit.transpiler.runningpassmanager:Pass: Depth - 10.27036 (ms)\n",
      "INFO:qiskit.transpiler.runningpassmanager:Pass: FixedPoint - 0.01454 (ms)\n",
      "INFO:qiskit.transpiler.runningpassmanager:Pass: Optimize1qGates - 9.76515 (ms)\n",
      "INFO:qiskit.transpiler.runningpassmanager:Pass: CXCancellation - 6.55437 (ms)\n",
      "INFO:qiskit.transpiler.runningpassmanager:Pass: Depth - 20.64133 (ms)\n",
      "INFO:qiskit.transpiler.runningpassmanager:Pass: FixedPoint - 0.01836 (ms)\n",
      "INFO:qiskit.transpiler.runningpassmanager:Pass: Optimize1qGates - 30.70188 (ms)\n",
      "INFO:qiskit.transpiler.runningpassmanager:Pass: CXCancellation - 15.53750 (ms)\n",
      "INFO:qiskit.providers.aer.backends.statevector_simulator:\"statevector_simulator\" only supports 1 shot. Setting shots=1.\n"
     ]
    },
    {
     "data": {
      "application/vnd.jupyter.widget-view+json": {
       "model_id": "d27a97caca924cb4b44fbf8ed2fec5fb",
       "version_major": 2,
       "version_minor": 0
      },
      "text/plain": [
       "HBox(children=(FloatProgress(value=0.0, max=24.0), HTML(value='')))"
      ]
     },
     "metadata": {},
     "output_type": "display_data"
    },
    {
     "name": "stdout",
     "output_type": "stream",
     "text": [
      "\n",
      "\n",
      "_dimcount 3\n"
     ]
    },
    {
     "data": {
      "text/html": [
       "<div><svg style=\"position: absolute; width: 0; height: 0; overflow: hidden\">\n",
       "<defs>\n",
       "<symbol id=\"icon-database\" viewBox=\"0 0 32 32\">\n",
       "<path d=\"M16 0c-8.837 0-16 2.239-16 5v4c0 2.761 7.163 5 16 5s16-2.239 16-5v-4c0-2.761-7.163-5-16-5z\"></path>\n",
       "<path d=\"M16 17c-8.837 0-16-2.239-16-5v6c0 2.761 7.163 5 16 5s16-2.239 16-5v-6c0 2.761-7.163 5-16 5z\"></path>\n",
       "<path d=\"M16 26c-8.837 0-16-2.239-16-5v6c0 2.761 7.163 5 16 5s16-2.239 16-5v-6c0 2.761-7.163 5-16 5z\"></path>\n",
       "</symbol>\n",
       "<symbol id=\"icon-file-text2\" viewBox=\"0 0 32 32\">\n",
       "<path d=\"M28.681 7.159c-0.694-0.947-1.662-2.053-2.724-3.116s-2.169-2.030-3.116-2.724c-1.612-1.182-2.393-1.319-2.841-1.319h-15.5c-1.378 0-2.5 1.121-2.5 2.5v27c0 1.378 1.122 2.5 2.5 2.5h23c1.378 0 2.5-1.122 2.5-2.5v-19.5c0-0.448-0.137-1.23-1.319-2.841zM24.543 5.457c0.959 0.959 1.712 1.825 2.268 2.543h-4.811v-4.811c0.718 0.556 1.584 1.309 2.543 2.268zM28 29.5c0 0.271-0.229 0.5-0.5 0.5h-23c-0.271 0-0.5-0.229-0.5-0.5v-27c0-0.271 0.229-0.5 0.5-0.5 0 0 15.499-0 15.5 0v7c0 0.552 0.448 1 1 1h7v19.5z\"></path>\n",
       "<path d=\"M23 26h-14c-0.552 0-1-0.448-1-1s0.448-1 1-1h14c0.552 0 1 0.448 1 1s-0.448 1-1 1z\"></path>\n",
       "<path d=\"M23 22h-14c-0.552 0-1-0.448-1-1s0.448-1 1-1h14c0.552 0 1 0.448 1 1s-0.448 1-1 1z\"></path>\n",
       "<path d=\"M23 18h-14c-0.552 0-1-0.448-1-1s0.448-1 1-1h14c0.552 0 1 0.448 1 1s-0.448 1-1 1z\"></path>\n",
       "</symbol>\n",
       "</defs>\n",
       "</svg>\n",
       "<style>/* CSS stylesheet for displaying xarray objects in jupyterlab.\n",
       " *\n",
       " */\n",
       "\n",
       ":root {\n",
       "  --xr-font-color0: var(--jp-content-font-color0, rgba(0, 0, 0, 1));\n",
       "  --xr-font-color2: var(--jp-content-font-color2, rgba(0, 0, 0, 0.54));\n",
       "  --xr-font-color3: var(--jp-content-font-color3, rgba(0, 0, 0, 0.38));\n",
       "  --xr-border-color: var(--jp-border-color2, #e0e0e0);\n",
       "  --xr-disabled-color: var(--jp-layout-color3, #bdbdbd);\n",
       "  --xr-background-color: var(--jp-layout-color0, white);\n",
       "  --xr-background-color-row-even: var(--jp-layout-color1, white);\n",
       "  --xr-background-color-row-odd: var(--jp-layout-color2, #eeeeee);\n",
       "}\n",
       "\n",
       "html[theme=dark],\n",
       "body.vscode-dark {\n",
       "  --xr-font-color0: rgba(255, 255, 255, 1);\n",
       "  --xr-font-color2: rgba(255, 255, 255, 0.54);\n",
       "  --xr-font-color3: rgba(255, 255, 255, 0.38);\n",
       "  --xr-border-color: #1F1F1F;\n",
       "  --xr-disabled-color: #515151;\n",
       "  --xr-background-color: #111111;\n",
       "  --xr-background-color-row-even: #111111;\n",
       "  --xr-background-color-row-odd: #313131;\n",
       "}\n",
       "\n",
       ".xr-wrap {\n",
       "  display: block;\n",
       "  min-width: 300px;\n",
       "  max-width: 700px;\n",
       "}\n",
       "\n",
       ".xr-text-repr-fallback {\n",
       "  /* fallback to plain text repr when CSS is not injected (untrusted notebook) */\n",
       "  display: none;\n",
       "}\n",
       "\n",
       ".xr-header {\n",
       "  padding-top: 6px;\n",
       "  padding-bottom: 6px;\n",
       "  margin-bottom: 4px;\n",
       "  border-bottom: solid 1px var(--xr-border-color);\n",
       "}\n",
       "\n",
       ".xr-header > div,\n",
       ".xr-header > ul {\n",
       "  display: inline;\n",
       "  margin-top: 0;\n",
       "  margin-bottom: 0;\n",
       "}\n",
       "\n",
       ".xr-obj-type,\n",
       ".xr-array-name {\n",
       "  margin-left: 2px;\n",
       "  margin-right: 10px;\n",
       "}\n",
       "\n",
       ".xr-obj-type {\n",
       "  color: var(--xr-font-color2);\n",
       "}\n",
       "\n",
       ".xr-sections {\n",
       "  padding-left: 0 !important;\n",
       "  display: grid;\n",
       "  grid-template-columns: 150px auto auto 1fr 20px 20px;\n",
       "}\n",
       "\n",
       ".xr-section-item {\n",
       "  display: contents;\n",
       "}\n",
       "\n",
       ".xr-section-item input {\n",
       "  display: none;\n",
       "}\n",
       "\n",
       ".xr-section-item input + label {\n",
       "  color: var(--xr-disabled-color);\n",
       "}\n",
       "\n",
       ".xr-section-item input:enabled + label {\n",
       "  cursor: pointer;\n",
       "  color: var(--xr-font-color2);\n",
       "}\n",
       "\n",
       ".xr-section-item input:enabled + label:hover {\n",
       "  color: var(--xr-font-color0);\n",
       "}\n",
       "\n",
       ".xr-section-summary {\n",
       "  grid-column: 1;\n",
       "  color: var(--xr-font-color2);\n",
       "  font-weight: 500;\n",
       "}\n",
       "\n",
       ".xr-section-summary > span {\n",
       "  display: inline-block;\n",
       "  padding-left: 0.5em;\n",
       "}\n",
       "\n",
       ".xr-section-summary-in:disabled + label {\n",
       "  color: var(--xr-font-color2);\n",
       "}\n",
       "\n",
       ".xr-section-summary-in + label:before {\n",
       "  display: inline-block;\n",
       "  content: '►';\n",
       "  font-size: 11px;\n",
       "  width: 15px;\n",
       "  text-align: center;\n",
       "}\n",
       "\n",
       ".xr-section-summary-in:disabled + label:before {\n",
       "  color: var(--xr-disabled-color);\n",
       "}\n",
       "\n",
       ".xr-section-summary-in:checked + label:before {\n",
       "  content: '▼';\n",
       "}\n",
       "\n",
       ".xr-section-summary-in:checked + label > span {\n",
       "  display: none;\n",
       "}\n",
       "\n",
       ".xr-section-summary,\n",
       ".xr-section-inline-details {\n",
       "  padding-top: 4px;\n",
       "  padding-bottom: 4px;\n",
       "}\n",
       "\n",
       ".xr-section-inline-details {\n",
       "  grid-column: 2 / -1;\n",
       "}\n",
       "\n",
       ".xr-section-details {\n",
       "  display: none;\n",
       "  grid-column: 1 / -1;\n",
       "  margin-bottom: 5px;\n",
       "}\n",
       "\n",
       ".xr-section-summary-in:checked ~ .xr-section-details {\n",
       "  display: contents;\n",
       "}\n",
       "\n",
       ".xr-array-wrap {\n",
       "  grid-column: 1 / -1;\n",
       "  display: grid;\n",
       "  grid-template-columns: 20px auto;\n",
       "}\n",
       "\n",
       ".xr-array-wrap > label {\n",
       "  grid-column: 1;\n",
       "  vertical-align: top;\n",
       "}\n",
       "\n",
       ".xr-preview {\n",
       "  color: var(--xr-font-color3);\n",
       "}\n",
       "\n",
       ".xr-array-preview,\n",
       ".xr-array-data {\n",
       "  padding: 0 5px !important;\n",
       "  grid-column: 2;\n",
       "}\n",
       "\n",
       ".xr-array-data,\n",
       ".xr-array-in:checked ~ .xr-array-preview {\n",
       "  display: none;\n",
       "}\n",
       "\n",
       ".xr-array-in:checked ~ .xr-array-data,\n",
       ".xr-array-preview {\n",
       "  display: inline-block;\n",
       "}\n",
       "\n",
       ".xr-dim-list {\n",
       "  display: inline-block !important;\n",
       "  list-style: none;\n",
       "  padding: 0 !important;\n",
       "  margin: 0;\n",
       "}\n",
       "\n",
       ".xr-dim-list li {\n",
       "  display: inline-block;\n",
       "  padding: 0;\n",
       "  margin: 0;\n",
       "}\n",
       "\n",
       ".xr-dim-list:before {\n",
       "  content: '(';\n",
       "}\n",
       "\n",
       ".xr-dim-list:after {\n",
       "  content: ')';\n",
       "}\n",
       "\n",
       ".xr-dim-list li:not(:last-child):after {\n",
       "  content: ',';\n",
       "  padding-right: 5px;\n",
       "}\n",
       "\n",
       ".xr-has-index {\n",
       "  font-weight: bold;\n",
       "}\n",
       "\n",
       ".xr-var-list,\n",
       ".xr-var-item {\n",
       "  display: contents;\n",
       "}\n",
       "\n",
       ".xr-var-item > div,\n",
       ".xr-var-item label,\n",
       ".xr-var-item > .xr-var-name span {\n",
       "  background-color: var(--xr-background-color-row-even);\n",
       "  margin-bottom: 0;\n",
       "}\n",
       "\n",
       ".xr-var-item > .xr-var-name:hover span {\n",
       "  padding-right: 5px;\n",
       "}\n",
       "\n",
       ".xr-var-list > li:nth-child(odd) > div,\n",
       ".xr-var-list > li:nth-child(odd) > label,\n",
       ".xr-var-list > li:nth-child(odd) > .xr-var-name span {\n",
       "  background-color: var(--xr-background-color-row-odd);\n",
       "}\n",
       "\n",
       ".xr-var-name {\n",
       "  grid-column: 1;\n",
       "}\n",
       "\n",
       ".xr-var-dims {\n",
       "  grid-column: 2;\n",
       "}\n",
       "\n",
       ".xr-var-dtype {\n",
       "  grid-column: 3;\n",
       "  text-align: right;\n",
       "  color: var(--xr-font-color2);\n",
       "}\n",
       "\n",
       ".xr-var-preview {\n",
       "  grid-column: 4;\n",
       "}\n",
       "\n",
       ".xr-var-name,\n",
       ".xr-var-dims,\n",
       ".xr-var-dtype,\n",
       ".xr-preview,\n",
       ".xr-attrs dt {\n",
       "  white-space: nowrap;\n",
       "  overflow: hidden;\n",
       "  text-overflow: ellipsis;\n",
       "  padding-right: 10px;\n",
       "}\n",
       "\n",
       ".xr-var-name:hover,\n",
       ".xr-var-dims:hover,\n",
       ".xr-var-dtype:hover,\n",
       ".xr-attrs dt:hover {\n",
       "  overflow: visible;\n",
       "  width: auto;\n",
       "  z-index: 1;\n",
       "}\n",
       "\n",
       ".xr-var-attrs,\n",
       ".xr-var-data {\n",
       "  display: none;\n",
       "  background-color: var(--xr-background-color) !important;\n",
       "  padding-bottom: 5px !important;\n",
       "}\n",
       "\n",
       ".xr-var-attrs-in:checked ~ .xr-var-attrs,\n",
       ".xr-var-data-in:checked ~ .xr-var-data {\n",
       "  display: block;\n",
       "}\n",
       "\n",
       ".xr-var-data > table {\n",
       "  float: right;\n",
       "}\n",
       "\n",
       ".xr-var-name span,\n",
       ".xr-var-data,\n",
       ".xr-attrs {\n",
       "  padding-left: 25px !important;\n",
       "}\n",
       "\n",
       ".xr-attrs,\n",
       ".xr-var-attrs,\n",
       ".xr-var-data {\n",
       "  grid-column: 1 / -1;\n",
       "}\n",
       "\n",
       "dl.xr-attrs {\n",
       "  padding: 0;\n",
       "  margin: 0;\n",
       "  display: grid;\n",
       "  grid-template-columns: 125px auto;\n",
       "}\n",
       "\n",
       ".xr-attrs dt, dd {\n",
       "  padding: 0;\n",
       "  margin: 0;\n",
       "  float: left;\n",
       "  padding-right: 10px;\n",
       "  width: auto;\n",
       "}\n",
       "\n",
       ".xr-attrs dt {\n",
       "  font-weight: normal;\n",
       "  grid-column: 1;\n",
       "}\n",
       "\n",
       ".xr-attrs dt:hover span {\n",
       "  display: inline-block;\n",
       "  background: var(--xr-background-color);\n",
       "  padding-right: 10px;\n",
       "}\n",
       "\n",
       ".xr-attrs dd {\n",
       "  grid-column: 2;\n",
       "  white-space: pre-wrap;\n",
       "  word-break: break-all;\n",
       "}\n",
       "\n",
       ".xr-icon-database,\n",
       ".xr-icon-file-text2 {\n",
       "  display: inline-block;\n",
       "  vertical-align: middle;\n",
       "  width: 1em;\n",
       "  height: 1.5em !important;\n",
       "  stroke-width: 0;\n",
       "  stroke: currentColor;\n",
       "  fill: currentColor;\n",
       "}\n",
       "</style><pre class='xr-text-repr-fallback'>&lt;xarray.DataArray (varname: 3, p: 2, N: 3)&gt;\n",
       "array([[[0.17497659, 0.24427676, 0.94509792],\n",
       "        [0.24761748, 0.56306338, 1.23935151]],\n",
       "\n",
       "       [[1.28473091, 2.45082736, 5.112499  ],\n",
       "        [1.2884047 , 2.60152125, 5.82978606]],\n",
       "\n",
       "       [[0.17480183, 0.22782874, 2.91207194],\n",
       "        [0.16435766, 0.32323432, 2.63865542]]])\n",
       "Coordinates:\n",
       "  * varname  (varname) &lt;U12 &#x27;qtensor_time&#x27; &#x27;quimb_time&#x27; &#x27;qiskit_time&#x27;\n",
       "  * p        (p) int64 2 3\n",
       "  * N        (N) int64 4 8 16</pre><div class='xr-wrap' hidden><div class='xr-header'><div class='xr-obj-type'>xarray.DataArray</div><div class='xr-array-name'></div><ul class='xr-dim-list'><li><span class='xr-has-index'>varname</span>: 3</li><li><span class='xr-has-index'>p</span>: 2</li><li><span class='xr-has-index'>N</span>: 3</li></ul></div><ul class='xr-sections'><li class='xr-section-item'><div class='xr-array-wrap'><input id='section-3e61356b-426b-43c9-bb58-24e131476e8b' class='xr-array-in' type='checkbox' checked><label for='section-3e61356b-426b-43c9-bb58-24e131476e8b' title='Show/hide data repr'><svg class='icon xr-icon-database'><use xlink:href='#icon-database'></use></svg></label><div class='xr-array-preview xr-preview'><span>0.175 0.2443 0.9451 0.2476 0.5631 ... 0.2278 2.912 0.1644 0.3232 2.639</span></div><div class='xr-array-data'><pre>array([[[0.17497659, 0.24427676, 0.94509792],\n",
       "        [0.24761748, 0.56306338, 1.23935151]],\n",
       "\n",
       "       [[1.28473091, 2.45082736, 5.112499  ],\n",
       "        [1.2884047 , 2.60152125, 5.82978606]],\n",
       "\n",
       "       [[0.17480183, 0.22782874, 2.91207194],\n",
       "        [0.16435766, 0.32323432, 2.63865542]]])</pre></div></div></li><li class='xr-section-item'><input id='section-8e5eceb1-9669-4b0e-9004-8b138ec0a009' class='xr-section-summary-in' type='checkbox'  checked><label for='section-8e5eceb1-9669-4b0e-9004-8b138ec0a009' class='xr-section-summary' >Coordinates: <span>(3)</span></label><div class='xr-section-inline-details'></div><div class='xr-section-details'><ul class='xr-var-list'><li class='xr-var-item'><div class='xr-var-name'><span class='xr-has-index'>varname</span></div><div class='xr-var-dims'>(varname)</div><div class='xr-var-dtype'>&lt;U12</div><div class='xr-var-preview xr-preview'>&#x27;qtensor_time&#x27; ... &#x27;qiskit_time&#x27;</div><input id='attrs-201b2fd9-8b91-4db1-a23a-130ae0175142' class='xr-var-attrs-in' type='checkbox' disabled><label for='attrs-201b2fd9-8b91-4db1-a23a-130ae0175142' title='Show/Hide attributes'><svg class='icon xr-icon-file-text2'><use xlink:href='#icon-file-text2'></use></svg></label><input id='data-164320dc-67aa-42e3-a369-ef12e599379f' class='xr-var-data-in' type='checkbox'><label for='data-164320dc-67aa-42e3-a369-ef12e599379f' title='Show/Hide data repr'><svg class='icon xr-icon-database'><use xlink:href='#icon-database'></use></svg></label><div class='xr-var-attrs'><dl class='xr-attrs'></dl></div><div class='xr-var-data'><pre>array([&#x27;qtensor_time&#x27;, &#x27;quimb_time&#x27;, &#x27;qiskit_time&#x27;], dtype=&#x27;&lt;U12&#x27;)</pre></div></li><li class='xr-var-item'><div class='xr-var-name'><span class='xr-has-index'>p</span></div><div class='xr-var-dims'>(p)</div><div class='xr-var-dtype'>int64</div><div class='xr-var-preview xr-preview'>2 3</div><input id='attrs-c9e226b2-6aea-4d21-a596-fcde7c3aa855' class='xr-var-attrs-in' type='checkbox' disabled><label for='attrs-c9e226b2-6aea-4d21-a596-fcde7c3aa855' title='Show/Hide attributes'><svg class='icon xr-icon-file-text2'><use xlink:href='#icon-file-text2'></use></svg></label><input id='data-a04031e6-3fba-4e04-aa69-077e2ca98557' class='xr-var-data-in' type='checkbox'><label for='data-a04031e6-3fba-4e04-aa69-077e2ca98557' title='Show/Hide data repr'><svg class='icon xr-icon-database'><use xlink:href='#icon-database'></use></svg></label><div class='xr-var-attrs'><dl class='xr-attrs'></dl></div><div class='xr-var-data'><pre>array([2, 3])</pre></div></li><li class='xr-var-item'><div class='xr-var-name'><span class='xr-has-index'>N</span></div><div class='xr-var-dims'>(N)</div><div class='xr-var-dtype'>int64</div><div class='xr-var-preview xr-preview'>4 8 16</div><input id='attrs-6f0aa849-0899-4d41-a9a6-83b23aae9f23' class='xr-var-attrs-in' type='checkbox' disabled><label for='attrs-6f0aa849-0899-4d41-a9a6-83b23aae9f23' title='Show/Hide attributes'><svg class='icon xr-icon-file-text2'><use xlink:href='#icon-file-text2'></use></svg></label><input id='data-f598c9a8-aaea-4e9f-9274-b1afd06cd95f' class='xr-var-data-in' type='checkbox'><label for='data-f598c9a8-aaea-4e9f-9274-b1afd06cd95f' title='Show/Hide data repr'><svg class='icon xr-icon-database'><use xlink:href='#icon-database'></use></svg></label><div class='xr-var-attrs'><dl class='xr-attrs'></dl></div><div class='xr-var-data'><pre>array([ 4,  8, 16])</pre></div></li></ul></div></li><li class='xr-section-item'><input id='section-9947ac37-6dd4-41b9-b01d-6d18d76d6f34' class='xr-section-summary-in' type='checkbox' disabled ><label for='section-9947ac37-6dd4-41b9-b01d-6d18d76d6f34' class='xr-section-summary'  title='Expand/collapse section'>Attributes: <span>(0)</span></label><div class='xr-section-inline-details'></div><div class='xr-section-details'><dl class='xr-attrs'></dl></div></li></ul></div></div>"
      ],
      "text/plain": [
       "<xarray.DataArray (varname: 3, p: 2, N: 3)>\n",
       "array([[[0.17497659, 0.24427676, 0.94509792],\n",
       "        [0.24761748, 0.56306338, 1.23935151]],\n",
       "\n",
       "       [[1.28473091, 2.45082736, 5.112499  ],\n",
       "        [1.2884047 , 2.60152125, 5.82978606]],\n",
       "\n",
       "       [[0.17480183, 0.22782874, 2.91207194],\n",
       "        [0.16435766, 0.32323432, 2.63865542]]])\n",
       "Coordinates:\n",
       "  * varname  (varname) <U12 'qtensor_time' 'quimb_time' 'qiskit_time'\n",
       "  * p        (p) int64 2 3\n",
       "  * N        (N) int64 4 8 16"
      ]
     },
     "execution_count": 23,
     "metadata": {},
     "output_type": "execute_result"
    }
   ],
   "source": [
    "Ns = 2**(np.arange(2, 5))\n",
    "ps = [2, 3]\n",
    "xar = gen_time_data(Ns, ps, qtn_ordering_algo=['rgreedy_0.02_3'])\n",
    "xar"
   ]
  },
  {
   "cell_type": "markdown",
   "metadata": {},
   "source": [
    "## Read data"
   ]
  },
  {
   "cell_type": "code",
   "execution_count": 66,
   "metadata": {
    "ExecuteTime": {
     "end_time": "2020-11-16T01:27:29.361447Z",
     "start_time": "2020-11-16T01:27:29.302927Z"
    }
   },
   "outputs": [],
   "source": [
    "import xarray\n",
    "xar = xarray.load_dataarray('../../../second_try.nc')"
   ]
  },
  {
   "cell_type": "markdown",
   "metadata": {
    "ExecuteTime": {
     "end_time": "2020-11-13T04:40:33.680995Z",
     "start_time": "2020-11-13T04:40:33.649040Z"
    }
   },
   "source": [
    "## Plot comparisons\n"
   ]
  },
  {
   "cell_type": "code",
   "execution_count": 70,
   "metadata": {
    "ExecuteTime": {
     "end_time": "2020-11-16T01:32:40.149002Z",
     "start_time": "2020-11-16T01:32:38.950823Z"
    },
    "scrolled": false
   },
   "outputs": [
    {
     "data": {
      "application/vnd.jupyter.widget-view+json": {
       "model_id": "e3c9e9cb645a467cb6326413fbc179b2",
       "version_major": 2,
       "version_minor": 0
      },
      "text/plain": [
       "HBox(children=(FloatProgress(value=0.0, max=99.0), HTML(value='')))"
      ]
     },
     "metadata": {},
     "output_type": "display_data"
    },
    {
     "name": "stdout",
     "output_type": "stream",
     "text": [
      "\n"
     ]
    },
    {
     "data": {
      "text/plain": [
       "Text(0.5, 0.98, 'Time for single energy query on a single Skylake node')"
      ]
     },
     "execution_count": 70,
     "metadata": {},
     "output_type": "execute_result"
    },
    {
     "data": {
      "image/png": "[encoded data removed]",
      "text/plain": [
       "<Figure size 1200x300 with 3 Axes>"
      ]
     },
     "metadata": {
      "needs_background": "light"
     },
     "output_type": "display_data"
    }
   ],
   "source": [
    "xar_tr = xar.transpose('p', 'varname', 'N')\n",
    "#xar_tr = xar_tr.rename({'varname':'lib'})\n",
    "fig = ex.plot_xarray(xar_tr)"
   ]
  },
  {
   "cell_type": "code",
   "execution_count": null,
   "metadata": {},
   "outputs": [],
   "source": []
  },
  {
   "cell_type": "code",
   "execution_count": 84,
   "metadata": {
    "ExecuteTime": {
     "end_time": "2020-11-16T06:03:32.997149Z",
     "start_time": "2020-11-16T06:03:32.817806Z"
    },
    "scrolled": false
   },
   "outputs": [],
   "source": [
    "#export\n",
    "def plot_xar_data(xar_orig):\n",
    "    xar = xar_orig.transpose('p', 'varname', 'N')\n",
    "    def custom_plot(x, y, **kwargs):\n",
    "        plt.plot(x, y, '*-', **kwargs)\n",
    "        plt.yscale('log')\n",
    "        plt.xscale('log', base=2)\n",
    "    fig = ex.plot_xarray(xar, plot_func=custom_plot)\n",
    "\n",
    "    axes = fig.axes\n",
    "    axes[0].get_shared_y_axes().join(*axes)\n",
    "    axes[0].get_shared_x_axes().join(*axes)\n",
    "    ps = [x.data for x in xar.coords['p']]\n",
    "\n",
    "\n",
    "    [ax.autoscale() for ax in axes]\n",
    "    [ax.set_ylabel('Time, sec') for ax in axes]\n",
    "    [ax.set_title(x) for ax, x in zip(axes, [f\"p = {p}\" for p in ps])]\n",
    "    fig.suptitle('Time for single energy query on a single Skylake node', fontfamily='serif', style='italic')\n",
    "    fig.set_size_inches(10.5, 4.5)\n",
    "    fig.tight_layout(rect=[0, 0.03, 1, 0.98])\n"
   ]
  },
  {
   "cell_type": "code",
   "execution_count": 85,
   "metadata": {
    "ExecuteTime": {
     "end_time": "2020-11-16T06:03:35.535285Z",
     "start_time": "2020-11-16T06:03:33.995751Z"
    },
    "scrolled": false
   },
   "outputs": [
    {
     "data": {
      "application/vnd.jupyter.widget-view+json": {
       "model_id": "9de0bc7f75db4900ac8f24a0c71e41e3",
       "version_major": 2,
       "version_minor": 0
      },
      "text/plain": [
       "HBox(children=(FloatProgress(value=0.0, max=99.0), HTML(value='')))"
      ]
     },
     "metadata": {},
     "output_type": "display_data"
    },
    {
     "name": "stdout",
     "output_type": "stream",
     "text": [
      "\n"
     ]
    },
    {
     "data": {
      "image/png": "[encoded data removed]",
      "text/plain": [
       "<Figure size 1050x450 with 3 Axes>"
      ]
     },
     "metadata": {
      "needs_background": "light"
     },
     "output_type": "display_data"
    }
   ],
   "source": [
    "plot_xar_data(xar)"
   ]
  },
  {
   "cell_type": "code",
   "execution_count": null,
   "metadata": {},
   "outputs": [],
   "source": []
  },
  {
   "cell_type": "markdown",
   "metadata": {
    "ExecuteTime": {
     "end_time": "2020-11-15T04:36:07.711208Z",
     "start_time": "2020-11-15T04:36:07.661674Z"
    }
   },
   "source": [
    "## CLI"
   ]
  },
  {
   "cell_type": "code",
   "execution_count": 49,
   "metadata": {
    "ExecuteTime": {
     "end_time": "2020-11-15T22:43:43.244717Z",
     "start_time": "2020-11-15T22:43:43.151167Z"
    }
   },
   "outputs": [],
   "source": [
    "#export\n",
    "from qtensor_specs import cli, click"
   ]
  },
  {
   "cell_type": "code",
   "execution_count": 50,
   "metadata": {
    "ExecuteTime": {
     "end_time": "2020-11-15T22:43:43.326480Z",
     "start_time": "2020-11-15T22:43:43.288109Z"
    }
   },
   "outputs": [],
   "source": [
    "#export\n",
    "@cli.command()\n",
    "@click.option('--n_len', default=4)\n",
    "@click.option('--p_len', default=2)\n",
    "@click.option('-O', '--qtn_ordering_algo', default='greedy')\n",
    "@click.option('-N', '--n_processes', default=2)\n",
    "@click.argument('filename')\n",
    "def time_comparison_xarray(filename, n_len, p_len, **kwargs):\n",
    "    Ns = 2*(.5*np.pi**(np.arange(0, 12)/2)).astype(np.int) + 10\n",
    "    Ns = Ns[:n_len]\n",
    "    ps = [2, 3, 4]\n",
    "    ps = ps[:p_len]\n",
    "    kwargs = {k:[v] for k, v in kwargs.items()}\n",
    "    xar = gen_time_data(Ns, ps, **kwargs)\n",
    "    xar.to_netcdf(filename)\n",
    "    "
   ]
  },
  {
   "cell_type": "code",
   "execution_count": 62,
   "metadata": {
    "ExecuteTime": {
     "end_time": "2020-11-15T22:52:11.754055Z",
     "start_time": "2020-11-15T22:52:11.699318Z"
    }
   },
   "outputs": [],
   "source": [
    "#export\n",
    "import logging\n",
    "ql = logging.getLogger('qiskit')\n",
    "ql.setLevel(logging.ERROR)"
   ]
  },
  {
   "cell_type": "code",
   "execution_count": 64,
   "metadata": {
    "ExecuteTime": {
     "end_time": "2020-11-15T22:52:35.043256Z",
     "start_time": "2020-11-15T22:52:21.439989Z"
    }
   },
   "outputs": [
    {
     "data": {
      "application/vnd.jupyter.widget-view+json": {
       "model_id": "79582c995052414ca5de740af712e3cf",
       "version_major": 2,
       "version_minor": 0
      },
      "text/plain": [
       "HBox(children=(FloatProgress(value=0.0, max=4.0), HTML(value='')))"
      ]
     },
     "metadata": {},
     "output_type": "display_data"
    },
    {
     "data": {
      "application/vnd.jupyter.widget-view+json": {
       "model_id": "c1fcaa6fda104b1e85acfdfa47f7920a",
       "version_major": 2,
       "version_minor": 0
      },
      "text/plain": [
       "HBox(children=(FloatProgress(value=0.0, max=21.0), HTML(value='')))"
      ]
     },
     "metadata": {},
     "output_type": "display_data"
    },
    {
     "name": "stdout",
     "output_type": "stream",
     "text": [
      "\n"
     ]
    },
    {
     "data": {
      "application/vnd.jupyter.widget-view+json": {
       "model_id": "98862bd834a4491f87c758670cf1500e",
       "version_major": 2,
       "version_minor": 0
      },
      "text/plain": [
       "HBox(children=(FloatProgress(value=0.0, max=21.0), HTML(value='')))"
      ]
     },
     "metadata": {},
     "output_type": "display_data"
    },
    {
     "name": "stdout",
     "output_type": "stream",
     "text": [
      "\n"
     ]
    },
    {
     "data": {
      "application/vnd.jupyter.widget-view+json": {
       "model_id": "0d8e01cca1714234a34515e9db804686",
       "version_major": 2,
       "version_minor": 0
      },
      "text/plain": [
       "HBox(children=(FloatProgress(value=0.0, max=21.0), HTML(value='')))"
      ]
     },
     "metadata": {},
     "output_type": "display_data"
    },
    {
     "name": "stdout",
     "output_type": "stream",
     "text": [
      "\n"
     ]
    },
    {
     "data": {
      "application/vnd.jupyter.widget-view+json": {
       "model_id": "f82383e3281f46a8baa02f76b5f7b3d1",
       "version_major": 2,
       "version_minor": 0
      },
      "text/plain": [
       "HBox(children=(FloatProgress(value=0.0, max=21.0), HTML(value='')))"
      ]
     },
     "metadata": {},
     "output_type": "display_data"
    },
    {
     "name": "stdout",
     "output_type": "stream",
     "text": [
      "\n",
      "\n",
      "_dimcount 3\n"
     ]
    }
   ],
   "source": [
    "Ns = [10, 14]\n",
    "ps = [2, 3]\n",
    "xar = gen_time_data(Ns, ps)"
   ]
  },
  {
   "cell_type": "code",
   "execution_count": 65,
   "metadata": {
    "ExecuteTime": {
     "end_time": "2020-11-15T22:52:38.283525Z",
     "start_time": "2020-11-15T22:52:38.083082Z"
    }
   },
   "outputs": [
    {
     "name": "stdout",
     "output_type": "stream",
     "text": [
      "Converted QAOA_bench.ipynb.\n",
      "Converted Speed_comparison.ipynb.\n",
      "Converted Time_vs_FLOP.ipynb.\n",
      "Converted index.ipynb.\n"
     ]
    }
   ],
   "source": [
    "#hide\n",
    "#default_exp speed_comparison\n",
    "\n",
    "from nbdev.export  import *\n",
    "notebook2script()"
   ]
  },
  {
   "cell_type": "code",
   "execution_count": null,
   "metadata": {},
   "outputs": [],
   "source": []
  }
 ],
 "metadata": {
  "kernelspec": {
   "display_name": "Python 3",
   "language": "python",
   "name": "python3"
  },
  "language_info": {
   "codemirror_mode": {
    "name": "ipython",
    "version": 3
   },
   "file_extension": ".py",
   "mimetype": "text/x-python",
   "name": "python",
   "nbconvert_exporter": "python",
   "pygments_lexer": "ipython3",
   "version": "3.8.6"
  },
  "toc": {
   "base_numbering": 1,
   "nav_menu": {},
   "number_sections": true,
   "sideBar": true,
   "skip_h1_title": false,
   "title_cell": "Table of Contents",
   "title_sidebar": "Contents",
   "toc_cell": true,
   "toc_position": {
    "height": "calc(100% - 180px)",
    "left": "10px",
    "top": "150px",
    "width": "286.094px"
   },
   "toc_section_display": true,
   "toc_window_display": true
  }
 },
 "nbformat": 4,
 "nbformat_minor": 4
}
