{
 "cells": [
  {
   "cell_type": "markdown",
   "metadata": {
    "toc": true
   },
   "source": [
    "<h1>Table of Contents<span class=\"tocSkip\"></span></h1>\n",
    "<div class=\"toc\"><ul class=\"toc-item\"><li><span><a href=\"#Qtensor-vs-other-simulators:-speed\" data-toc-modified-id=\"Qtensor-vs-other-simulators:-speed-1\"><span class=\"toc-item-num\">1&nbsp;&nbsp;</span>Qtensor vs other simulators: speed</a></span><ul class=\"toc-item\"><li><span><a href=\"#Generate-data\" data-toc-modified-id=\"Generate-data-1.1\"><span class=\"toc-item-num\">1.1&nbsp;&nbsp;</span>Generate data</a></span></li><li><span><a href=\"#Generate-data\" data-toc-modified-id=\"Generate-data-1.2\"><span class=\"toc-item-num\">1.2&nbsp;&nbsp;</span>Generate data</a></span></li><li><span><a href=\"#Read-data\" data-toc-modified-id=\"Read-data-1.3\"><span class=\"toc-item-num\">1.3&nbsp;&nbsp;</span>Read data</a></span></li><li><span><a href=\"#Plot-comparisons\" data-toc-modified-id=\"Plot-comparisons-1.4\"><span class=\"toc-item-num\">1.4&nbsp;&nbsp;</span>Plot comparisons</a></span></li><li><span><a href=\"#CLI\" data-toc-modified-id=\"CLI-1.5\"><span class=\"toc-item-num\">1.5&nbsp;&nbsp;</span>CLI</a></span></li></ul></li></ul></div>"
   ]
  },
  {
   "cell_type": "markdown",
   "metadata": {
    "ExecuteTime": {
     "end_time": "2020-11-13T03:20:12.528796Z",
     "start_time": "2020-11-13T03:20:12.523133Z"
    }
   },
   "source": [
    "# Qtensor vs other simulators: speed\n",
    "\n",
    "The functions from this notebook are exported and invoken on a remote server.\n",
    "\n",
    "The data that is generated is transferred back to local machine and plotted here as well"
   ]
  },
  {
   "cell_type": "markdown",
   "metadata": {
    "ExecuteTime": {
     "end_time": "2020-11-13T03:21:26.632061Z",
     "start_time": "2020-11-13T03:21:26.629310Z"
    }
   },
   "source": [
    "## Generate data"
   ]
  },
  {
   "cell_type": "code",
   "execution_count": 1,
   "metadata": {
    "ExecuteTime": {
     "end_time": "2020-11-15T22:43:26.465440Z",
     "start_time": "2020-11-15T22:43:26.337481Z"
    }
   },
   "outputs": [
    {
     "name": "stderr",
     "output_type": "stream",
     "text": [
      "/home/danlkv/.local/bin/lib/python3.8/site-packages/numba-0.52.0rc2-py3.8-linux-x86_64.egg/numba/np/ufunc/parallel.py:363: NumbaWarning: \u001b[1mThe TBB threading layer requires TBB version 2019.5 or later i.e., TBB_INTERFACE_VERSION >= 11005. Found TBB_INTERFACE_VERSION = 10000. The TBB threading layer is disabled.\u001b[0m\n",
      "  warnings.warn(problem)\n"
     ]
    }
   ],
   "source": [
    "#export\n",
    "import numpy as np\n",
    "import qtensor as qt\n",
    "from qtensor.tests.qiskit_qaoa_energy import simulate_qiskit_amps\n",
    "from qtensor.tests.qaoa_quimb import simulate_one_parallel as simulate_quimb_energy\n",
    "from qtensor.tests.acqdp_qaoa import single_qaoa_query as simulate_acqdp_energy\n",
    "import matplotlib.pyplot as plt\n",
    "import time\n",
    "\n",
    "from cartesian_explorer import Explorer, caches"
   ]
  },
  {
   "cell_type": "code",
   "execution_count": 2,
   "metadata": {
    "ExecuteTime": {
     "end_time": "2020-11-15T22:43:26.506650Z",
     "start_time": "2020-11-15T22:43:26.471389Z"
    }
   },
   "outputs": [],
   "source": [
    "%load_ext autoreload\n",
    "%autoreload 2"
   ]
  },
  {
   "cell_type": "code",
   "execution_count": 3,
   "metadata": {
    "ExecuteTime": {
     "end_time": "2020-11-15T22:43:26.658578Z",
     "start_time": "2020-11-15T22:43:26.614533Z"
    }
   },
   "outputs": [],
   "source": [
    "#export\n",
    "\n",
    "cache = caches.JobLibCache('../../caex_cache/skylake_speed_comparison')\n",
    "ex = Explorer(cache=cache)"
   ]
  },
  {
   "cell_type": "code",
   "execution_count": 4,
   "metadata": {
    "ExecuteTime": {
     "end_time": "2020-11-15T22:43:27.475635Z",
     "start_time": "2020-11-15T22:43:27.362999Z"
    }
   },
   "outputs": [],
   "source": [
    "#export    \n",
    "@ex.provider\n",
    "def graph(N, d=3, graph_type='random', seed=10):\n",
    "    return qt.toolbox.random_graph(nodes=N, type=graph_type, degree=d, seed=seed)"
   ]
  },
  {
   "cell_type": "code",
   "execution_count": 5,
   "metadata": {
    "ExecuteTime": {
     "end_time": "2020-11-15T22:43:28.213375Z",
     "start_time": "2020-11-15T22:43:28.139092Z"
    }
   },
   "outputs": [],
   "source": [
    "#export\n",
    "@ex.provider\n",
    "def qiskit_time(graph, p):\n",
    "    gamma, beta = [.1]*p, [.3]*p\n",
    "    start = time.time()\n",
    "    try:\n",
    "        _ = simulate_qiskit_amps(graph, gamma, beta)\n",
    "    except Exception as e:\n",
    "        print('Exception:', e)\n",
    "        return None\n",
    "    end = time.time()\n",
    "    return end - start"
   ]
  },
  {
   "cell_type": "code",
   "execution_count": 6,
   "metadata": {
    "ExecuteTime": {
     "end_time": "2020-11-15T22:43:29.351243Z",
     "start_time": "2020-11-15T22:43:28.820661Z"
    }
   },
   "outputs": [
    {
     "name": "stderr",
     "output_type": "stream",
     "text": [
      "INFO:qiskit.transpiler.runningpassmanager:Pass: Unroller - 10.59914 (ms)\n",
      "INFO:qiskit.transpiler.runningpassmanager:Pass: RemoveResetInZeroState - 0.10800 (ms)\n",
      "INFO:qiskit.transpiler.runningpassmanager:Pass: Unroller - 10.79297 (ms)\n",
      "INFO:qiskit.transpiler.runningpassmanager:Pass: RemoveResetInZeroState - 0.09942 (ms)\n",
      "INFO:qiskit.transpiler.runningpassmanager:Pass: Depth - 3.89051 (ms)\n",
      "INFO:qiskit.transpiler.runningpassmanager:Pass: FixedPoint - 0.00906 (ms)\n",
      "INFO:qiskit.transpiler.runningpassmanager:Pass: Optimize1qGates - 4.44078 (ms)\n",
      "INFO:qiskit.transpiler.runningpassmanager:Pass: CXCancellation - 1.74785 (ms)\n",
      "INFO:qiskit.transpiler.runningpassmanager:Pass: Depth - 3.02529 (ms)\n",
      "INFO:qiskit.transpiler.runningpassmanager:Pass: FixedPoint - 0.00787 (ms)\n",
      "INFO:qiskit.transpiler.runningpassmanager:Pass: Optimize1qGates - 2.69365 (ms)\n",
      "INFO:qiskit.transpiler.runningpassmanager:Pass: CXCancellation - 1.79529 (ms)\n",
      "INFO:qiskit.transpiler.runningpassmanager:Pass: Depth - 3.09634 (ms)\n",
      "INFO:qiskit.transpiler.runningpassmanager:Pass: FixedPoint - 0.00787 (ms)\n",
      "INFO:qiskit.transpiler.runningpassmanager:Pass: Optimize1qGates - 2.60735 (ms)\n",
      "INFO:qiskit.transpiler.runningpassmanager:Pass: CXCancellation - 1.75524 (ms)\n",
      "INFO:qiskit.providers.aer.backends.statevector_simulator:\"statevector_simulator\" only supports 1 shot. Setting shots=1.\n"
     ]
    },
    {
     "name": "stdout",
     "output_type": "stream",
     "text": [
      "0.14782190322875977\n"
     ]
    }
   ],
   "source": [
    "qis_time = ex.get_variable('qiskit_time', N=10, p=2)\n",
    "print(qis_time)"
   ]
  },
  {
   "cell_type": "code",
   "execution_count": 7,
   "metadata": {
    "ExecuteTime": {
     "end_time": "2020-11-15T22:43:29.751009Z",
     "start_time": "2020-11-15T22:43:29.677623Z"
    }
   },
   "outputs": [],
   "source": [
    "#export\n",
    "@ex.provider\n",
    "def quimb_time(graph, p,\n",
    "               n_processes=2,\n",
    "               qmb_optimizer_time=0.3,\n",
    "               qmb_ordering_algo='uniform'\n",
    "              ):\n",
    "    start = time.time()\n",
    "    try:\n",
    "        _ = simulate_quimb_energy(graph, p,\n",
    "                                  n_processes=n_processes,\n",
    "                                  optimizer_time=qmb_optimizer_time,\n",
    "                                  ordering_algo=qmb_ordering_algo\n",
    "                                 )\n",
    "    except Exception as e:\n",
    "        print('Exception:', e)\n",
    "        return None\n",
    "    end = time.time()\n",
    "    return end - start"
   ]
  },
  {
   "cell_type": "code",
   "execution_count": 8,
   "metadata": {
    "ExecuteTime": {
     "end_time": "2020-11-15T22:43:34.137022Z",
     "start_time": "2020-11-15T22:43:30.725004Z"
    }
   },
   "outputs": [
    {
     "data": {
      "application/vnd.jupyter.widget-view+json": {
       "model_id": "9e1dc03b489545669c622215c2343763",
       "version_major": 2,
       "version_minor": 0
      },
      "text/plain": [
       "HBox(children=(HTML(value=''), FloatProgress(value=0.0, max=15.0), HTML(value='')))"
      ]
     },
     "metadata": {},
     "output_type": "display_data"
    },
    {
     "name": "stdout",
     "output_type": "stream",
     "text": [
      "\n",
      "3.3847742080688477\n"
     ]
    }
   ],
   "source": [
    "qis_time = ex.get_variable('quimb_time', N=10, p=2)\n",
    "print(qis_time)"
   ]
  },
  {
   "cell_type": "code",
   "execution_count": 24,
   "metadata": {},
   "outputs": [],
   "source": [
    "@ex.provider\n",
    "def acqdp_time(graph, p, acqdp_orderer='oe'):\n",
    "    start = time.time()\n",
    "    try:\n",
    "        _  = simulate_acqdp_energy(graph, p, ordering_algo=acqdp_orderer)\n",
    "    except Exception as e:\n",
    "        print('Exception', e)\n",
    "        return None\n",
    "    end = time.time()\n",
    "    return end - start"
   ]
  },
  {
   "cell_type": "code",
   "execution_count": 32,
   "metadata": {
    "ExecuteTime": {
     "end_time": "2020-11-15T22:43:34.137022Z",
     "start_time": "2020-11-15T22:43:30.725004Z"
    }
   },
   "outputs": [
    {
     "name": "stdout",
     "output_type": "stream",
     "text": [
      "0.42075324058532715 0.39375805854797363\n"
     ]
    }
   ],
   "source": [
    "_time = ex.get_variable('acqdp_time', N=10, p=2, acqdp_orderer='default')\n",
    "_time2 = ex.get_variable('acqdp_time', N=10, p=2, acqdp_orderer='oe')\n",
    "print(_time, _time2)"
   ]
  },
  {
   "cell_type": "code",
   "execution_count": 11,
   "metadata": {
    "ExecuteTime": {
     "end_time": "2020-11-15T22:43:34.208041Z",
     "start_time": "2020-11-15T22:43:34.139880Z"
    }
   },
   "outputs": [],
   "source": [
    "#export\n",
    "@ex.provider\n",
    "def qtensor_time(graph, p,\n",
    "               n_processes=2,\n",
    "               qtn_ordering_algo='greedy'\n",
    "              ):\n",
    "    gamma, beta = [.1]*p, [.3]*p\n",
    "    opt = qt.toolbox.get_ordering_algo(qtn_ordering_algo)\n",
    "    sim = qt.QAOAQtreeSimulator(qt.DefaultQAOAComposer, optimizer=opt)\n",
    "    start = time.time()\n",
    "    try:\n",
    "        _ = sim.energy_expectation_parallel(graph, gamma, beta, n_processes=n_processes)\n",
    "    except Exception as e:\n",
    "        print('Exception:', e)\n",
    "        return None\n",
    "    end = time.time()\n",
    "    return end - start"
   ]
  },
  {
   "cell_type": "code",
   "execution_count": 12,
   "metadata": {
    "ExecuteTime": {
     "end_time": "2020-11-15T22:43:34.621569Z",
     "start_time": "2020-11-15T22:43:34.210207Z"
    }
   },
   "outputs": [
    {
     "data": {
      "application/vnd.jupyter.widget-view+json": {
       "model_id": "ae9ec0e5ed214ee5972738017afc36c6",
       "version_major": 2,
       "version_minor": 0
      },
      "text/plain": [
       "HBox(children=(HTML(value=''), FloatProgress(value=0.0, max=15.0), HTML(value='')))"
      ]
     },
     "metadata": {},
     "output_type": "display_data"
    },
    {
     "name": "stdout",
     "output_type": "stream",
     "text": [
      "\n",
      "0.1412370204925537\n"
     ]
    }
   ],
   "source": [
    "qis_time = ex.get_variable('qtensor_time', N=10, p=2)\n",
    "print(qis_time)"
   ]
  },
  {
   "cell_type": "markdown",
   "metadata": {},
   "source": [
    "## Generate data"
   ]
  },
  {
   "cell_type": "code",
   "execution_count": 33,
   "metadata": {
    "ExecuteTime": {
     "end_time": "2020-11-15T22:43:35.309128Z",
     "start_time": "2020-11-15T22:43:35.214938Z"
    }
   },
   "outputs": [],
   "source": [
    "#export\n",
    "def gen_time_data(Ns, ps, **kwargs):\n",
    "    xar = ex.get_variables_xarray(\n",
    "        ('qtensor_time', 'quimb_time', 'acqdp_time'),\n",
    "        p=ps,\n",
    "        N=Ns,\n",
    "        **kwargs,\n",
    "    )\n",
    "    return xar"
   ]
  },
  {
   "cell_type": "code",
   "execution_count": 34,
   "metadata": {
    "ExecuteTime": {
     "end_time": "2020-11-15T04:35:30.360767Z",
     "start_time": "2020-11-15T04:35:11.523286Z"
    },
    "scrolled": true
   },
   "outputs": [
    {
     "data": {
      "application/vnd.jupyter.widget-view+json": {
       "model_id": "56123f1aae2b43b6913784033e7fc479",
       "version_major": 2,
       "version_minor": 0
      },
      "text/plain": [
       "HBox(children=(HTML(value=''), FloatProgress(value=0.0, max=27.0), HTML(value='')))"
      ]
     },
     "metadata": {},
     "output_type": "display_data"
    },
    {
     "name": "stderr",
     "output_type": "stream",
     "text": [
      " 28%|██▊       | 5/18 [00:00<00:00, 41.54it/s]"
     ]
    },
    {
     "name": "stdout",
     "output_type": "stream",
     "text": [
      "Preprocessing for energy query...\n"
     ]
    },
    {
     "name": "stderr",
     "output_type": "stream",
     "text": [
      "100%|██████████| 18/18 [00:00<00:00, 40.95it/s]\n",
      "100%|██████████| 18/18 [00:00<00:00, 972.59it/s]\n",
      " 24%|██▍       | 5/21 [00:00<00:00, 41.68it/s]"
     ]
    },
    {
     "name": "stdout",
     "output_type": "stream",
     "text": [
      "Preprocessing time for queries: 0.44043636322021484\n",
      "E([0.5058283240675293, 0.022827020409951833, 1.8051942486396853, -1.9834976870572765]) = (-5.340701798721897+2.7515314044577876e-16j)\n",
      "Preprocessing for energy query...\n"
     ]
    },
    {
     "name": "stderr",
     "output_type": "stream",
     "text": [
      "100%|██████████| 21/21 [00:00<00:00, 42.59it/s]\n",
      "100%|██████████| 21/21 [00:00<00:00, 998.53it/s]\n",
      " 15%|█▍        | 4/27 [00:00<00:00, 38.18it/s]"
     ]
    },
    {
     "name": "stdout",
     "output_type": "stream",
     "text": [
      "Preprocessing time for queries: 0.49400949478149414\n",
      "E([-0.596513656194049, 1.469122082263929, 1.6005752312852624, 0.3290412609300976]) = (4.158401070372128-1.3492135212767568e-16j)\n",
      "Preprocessing for energy query...\n"
     ]
    },
    {
     "name": "stderr",
     "output_type": "stream",
     "text": [
      "100%|██████████| 27/27 [00:00<00:00, 38.89it/s]\n",
      "100%|██████████| 27/27 [00:00<00:00, 900.24it/s]\n",
      " 13%|█▎        | 5/39 [00:00<00:00, 40.58it/s]"
     ]
    },
    {
     "name": "stdout",
     "output_type": "stream",
     "text": [
      "Preprocessing time for queries: 0.6953113079071045\n",
      "E([0.6471005365871851, -0.1037199693587922, 0.33247415796347135, 1.3186034148124948]) = (2.196552333549736+2.892651396191326e-16j)\n",
      "Preprocessing for energy query...\n"
     ]
    },
    {
     "name": "stderr",
     "output_type": "stream",
     "text": [
      "100%|██████████| 39/39 [00:01<00:00, 31.05it/s]\n",
      "100%|██████████| 39/39 [00:00<00:00, 914.51it/s]\n",
      "  7%|▋         | 4/60 [00:00<00:01, 39.44it/s]"
     ]
    },
    {
     "name": "stdout",
     "output_type": "stream",
     "text": [
      "Preprocessing time for queries: 1.2570223808288574\n",
      "E([0.5954972065774632, -1.4779648006526986, 0.7142277633951183, -0.0827375736597647]) = (0.5632505443282159+1.6291841016119996e-16j)\n",
      "Preprocessing for energy query...\n"
     ]
    },
    {
     "name": "stderr",
     "output_type": "stream",
     "text": [
      "100%|██████████| 60/60 [00:01<00:00, 39.29it/s]\n",
      "100%|██████████| 60/60 [00:00<00:00, 884.85it/s]\n",
      "  0%|          | 0/96 [00:00<?, ?it/s]"
     ]
    },
    {
     "name": "stdout",
     "output_type": "stream",
     "text": [
      "Preprocessing time for queries: 1.529698133468628\n",
      "E([-1.9115943938120021, 0.7550867545642066, 0.5193598620359269, -0.3676907119542829]) = (23.23987080480584+1.20030943753612e-15j)\n",
      "Preprocessing for energy query...\n"
     ]
    },
    {
     "name": "stderr",
     "output_type": "stream",
     "text": [
      "100%|██████████| 96/96 [00:02<00:00, 39.66it/s]\n",
      "100%|██████████| 96/96 [00:00<00:00, 831.45it/s]\n",
      "  0%|          | 0/159 [00:00<?, ?it/s]"
     ]
    },
    {
     "name": "stdout",
     "output_type": "stream",
     "text": [
      "Preprocessing time for queries: 2.4214870929718018\n",
      "E([1.4151580667811763, 0.38635147196600095, 0.27324376662569827, -0.8817697189499363]) = (-22.04748131131578-1.5742615544489524e-15j)\n",
      "Preprocessing for energy query...\n"
     ]
    },
    {
     "name": "stderr",
     "output_type": "stream",
     "text": [
      "100%|██████████| 159/159 [00:04<00:00, 35.63it/s]\n",
      " 50%|████▉     | 79/159 [00:00<00:00, 782.40it/s]"
     ]
    },
    {
     "name": "stdout",
     "output_type": "stream",
     "text": [
      "Preprocessing time for queries: 4.464344024658203\n"
     ]
    },
    {
     "name": "stderr",
     "output_type": "stream",
     "text": [
      "100%|██████████| 159/159 [00:00<00:00, 770.37it/s]\n",
      "  1%|▏         | 4/273 [00:00<00:07, 37.40it/s]"
     ]
    },
    {
     "name": "stdout",
     "output_type": "stream",
     "text": [
      "E([-0.1463005589933148, -0.10859458255369098, 0.3282731467450137, -0.566152727466784]) = (-10.125901473240141-1.6506907273189342e-15j)\n",
      "Preprocessing for energy query...\n"
     ]
    },
    {
     "name": "stderr",
     "output_type": "stream",
     "text": [
      "100%|██████████| 273/273 [00:07<00:00, 35.08it/s]\n",
      " 32%|███▏      | 87/273 [00:00<00:00, 862.81it/s]"
     ]
    },
    {
     "name": "stdout",
     "output_type": "stream",
     "text": [
      "Preprocessing time for queries: 7.782786846160889\n"
     ]
    },
    {
     "name": "stderr",
     "output_type": "stream",
     "text": [
      "100%|██████████| 273/273 [00:00<00:00, 857.49it/s]\n",
      " 13%|█▎        | 2/15 [00:00<00:00, 19.27it/s]"
     ]
    },
    {
     "name": "stdout",
     "output_type": "stream",
     "text": [
      "E([2.37430554472039, 1.3831862278067404, 1.5045516843500524, 0.5999604663790018]) = (5.884915098331257+3.055684125401232e-15j)\n",
      "Preprocessing for energy query...\n"
     ]
    },
    {
     "name": "stderr",
     "output_type": "stream",
     "text": [
      "100%|██████████| 15/15 [00:00<00:00, 19.11it/s]\n",
      "100%|██████████| 15/15 [00:00<00:00, 106.04it/s]\n",
      "  0%|          | 0/18 [00:00<?, ?it/s]"
     ]
    },
    {
     "name": "stdout",
     "output_type": "stream",
     "text": [
      "Preprocessing time for queries: 0.7859408855438232\n",
      "E([1.0469926525803108, -0.08699773499304764, 1.8544587704238122, -0.7709121882580879, -2.2503507869480703, -0.41226490495142987]) = (-0.1771898185807151-1.446011511984235e-17j)\n",
      "Preprocessing for energy query...\n"
     ]
    },
    {
     "name": "stderr",
     "output_type": "stream",
     "text": [
      "100%|██████████| 18/18 [00:00<00:00, 18.62it/s]\n",
      " 44%|████▍     | 8/18 [00:00<00:00, 61.84it/s]"
     ]
    },
    {
     "name": "stdout",
     "output_type": "stream",
     "text": [
      "Preprocessing time for queries: 0.9678480625152588\n"
     ]
    },
    {
     "name": "stderr",
     "output_type": "stream",
     "text": [
      "100%|██████████| 18/18 [00:00<00:00, 75.40it/s]\n",
      " 10%|▉         | 2/21 [00:00<00:01, 17.41it/s]"
     ]
    },
    {
     "name": "stdout",
     "output_type": "stream",
     "text": [
      "E([0.9699907654673805, -0.19038655672859833, -0.011120359376754761, -0.47876347251487744, -0.81942379719016, 0.3742113185360609]) = (3.911256819961514+1.5929944010824742e-16j)\n",
      "Preprocessing for energy query...\n"
     ]
    },
    {
     "name": "stderr",
     "output_type": "stream",
     "text": [
      "100%|██████████| 21/21 [00:01<00:00, 17.68it/s]\n",
      " 52%|█████▏    | 11/21 [00:00<00:00, 107.68it/s]"
     ]
    },
    {
     "name": "stdout",
     "output_type": "stream",
     "text": [
      "Preprocessing time for queries: 1.1887238025665283\n"
     ]
    },
    {
     "name": "stderr",
     "output_type": "stream",
     "text": [
      "100%|██████████| 21/21 [00:00<00:00, 89.69it/s] \n",
      "  0%|          | 0/27 [00:00<?, ?it/s]"
     ]
    },
    {
     "name": "stdout",
     "output_type": "stream",
     "text": [
      "E([-0.8689961918936976, 0.2678165013043721, -0.5775606578285121, 0.15784907413764518, 0.5456551054491234, -0.20348655998846615]) = (-8.170395098739528-3.7529045935301104e-16j)\n",
      "Preprocessing for energy query...\n"
     ]
    },
    {
     "name": "stderr",
     "output_type": "stream",
     "text": [
      "100%|██████████| 27/27 [00:02<00:00, 13.07it/s]\n",
      " 15%|█▍        | 4/27 [00:00<00:00, 39.78it/s]"
     ]
    },
    {
     "name": "stdout",
     "output_type": "stream",
     "text": [
      "Preprocessing time for queries: 2.0663671493530273\n"
     ]
    },
    {
     "name": "stderr",
     "output_type": "stream",
     "text": [
      "100%|██████████| 27/27 [00:00<00:00, 27.44it/s]\n",
      "  5%|▌         | 2/39 [00:00<00:02, 17.56it/s]"
     ]
    },
    {
     "name": "stdout",
     "output_type": "stream",
     "text": [
      "E([-0.34219606687716, 0.30667282904174403, 0.38149641768294273, 0.2305383596265898, -1.04890673864069, 0.8806735197341738]) = (-5.068193665778186+2.969495946689316e-16j)\n",
      "Preprocessing for energy query...\n"
     ]
    },
    {
     "name": "stderr",
     "output_type": "stream",
     "text": [
      "100%|██████████| 39/39 [00:02<00:00, 14.66it/s]\n",
      " 38%|███▊      | 15/39 [00:00<00:00, 138.70it/s]"
     ]
    },
    {
     "name": "stdout",
     "output_type": "stream",
     "text": [
      "Preprocessing time for queries: 2.6618616580963135\n"
     ]
    },
    {
     "name": "stderr",
     "output_type": "stream",
     "text": [
      "100%|██████████| 39/39 [00:00<00:00, 54.34it/s] \n",
      "  0%|          | 0/60 [00:00<?, ?it/s]"
     ]
    },
    {
     "name": "stdout",
     "output_type": "stream",
     "text": [
      "E([-0.24584623132802413, 0.34504272269902175, 1.9750659992015127, 0.10517037405981786, -0.24456958288103606, 0.17783701847918723]) = (11.849610225977566-2.0479941847533106e-16j)\n",
      "Preprocessing for energy query...\n"
     ]
    },
    {
     "name": "stderr",
     "output_type": "stream",
     "text": [
      "100%|██████████| 60/60 [00:04<00:00, 13.29it/s]\n",
      "  0%|          | 0/60 [00:00<?, ?it/s]"
     ]
    },
    {
     "name": "stdout",
     "output_type": "stream",
     "text": [
      "Preprocessing time for queries: 4.515668630599976\n"
     ]
    },
    {
     "name": "stderr",
     "output_type": "stream",
     "text": [
      "100%|██████████| 60/60 [00:01<00:00, 56.92it/s]\n",
      "  2%|▏         | 2/96 [00:00<00:06, 14.01it/s]"
     ]
    },
    {
     "name": "stdout",
     "output_type": "stream",
     "text": [
      "E([0.8952901613941278, 0.5199276173511904, 0.4841408452973527, -1.3418303804085225, 0.6023404739953043, 0.7056603121147438]) = (-9.051564561702154+6.936354555648033e-17j)\n",
      "Preprocessing for energy query...\n"
     ]
    },
    {
     "name": "stderr",
     "output_type": "stream",
     "text": [
      "100%|██████████| 96/96 [00:07<00:00, 13.10it/s]\n",
      " 33%|███▎      | 32/96 [00:00<00:00, 315.81it/s]"
     ]
    },
    {
     "name": "stdout",
     "output_type": "stream",
     "text": [
      "Preprocessing time for queries: 7.330126523971558\n"
     ]
    },
    {
     "name": "stderr",
     "output_type": "stream",
     "text": [
      "100%|██████████| 96/96 [00:00<00:00, 311.84it/s]\n",
      "  1%|▏         | 2/159 [00:00<00:11, 14.09it/s]"
     ]
    },
    {
     "name": "stdout",
     "output_type": "stream",
     "text": [
      "E([-0.5863411133115447, -0.48926332205789075, -1.1779677884555082, 1.538248574925038, -0.26642781004984456, -1.258749289635831]) = (17.013325577500378-3.1463182718264435e-15j)\n",
      "Preprocessing for energy query...\n"
     ]
    },
    {
     "name": "stderr",
     "output_type": "stream",
     "text": [
      "100%|██████████| 159/159 [00:11<00:00, 13.39it/s]\n",
      " 18%|█▊        | 29/159 [00:00<00:00, 236.63it/s]"
     ]
    },
    {
     "name": "stdout",
     "output_type": "stream",
     "text": [
      "Preprocessing time for queries: 11.874065637588501\n"
     ]
    },
    {
     "name": "stderr",
     "output_type": "stream",
     "text": [
      "100%|██████████| 159/159 [00:00<00:00, 253.36it/s]\n",
      "  1%|          | 2/273 [00:00<00:19, 13.84it/s]"
     ]
    },
    {
     "name": "stdout",
     "output_type": "stream",
     "text": [
      "E([-1.6950274860062184, 0.7062732698640785, -1.3025627422783006, 0.0787986353818606, -0.18882899933065236, -0.4817239095352436]) = (-52.90845052762207-2.312320771815273e-15j)\n",
      "Preprocessing for energy query...\n"
     ]
    },
    {
     "name": "stderr",
     "output_type": "stream",
     "text": [
      "100%|██████████| 273/273 [00:21<00:00, 12.77it/s]\n",
      " 11%|█         | 30/273 [00:00<00:00, 297.39it/s]"
     ]
    },
    {
     "name": "stdout",
     "output_type": "stream",
     "text": [
      "Preprocessing time for queries: 21.374621868133545\n"
     ]
    },
    {
     "name": "stderr",
     "output_type": "stream",
     "text": [
      "100%|██████████| 273/273 [00:00<00:00, 285.66it/s]\n",
      " 13%|█▎        | 2/15 [00:00<00:01, 12.26it/s]"
     ]
    },
    {
     "name": "stdout",
     "output_type": "stream",
     "text": [
      "E([0.15973176664223526, 1.352766531499814, 0.46408746975452525, -1.104057081193582, -0.7716374330640989, -2.4171551626701433]) = (-79.03335572763902+7.789746514334235e-16j)\n",
      "Preprocessing for energy query...\n"
     ]
    },
    {
     "name": "stderr",
     "output_type": "stream",
     "text": [
      "100%|██████████| 15/15 [00:01<00:00, 10.13it/s]\n",
      " 27%|██▋       | 4/15 [00:00<00:00, 20.53it/s]"
     ]
    },
    {
     "name": "stdout",
     "output_type": "stream",
     "text": [
      "Preprocessing time for queries: 1.4822347164154053\n"
     ]
    },
    {
     "name": "stderr",
     "output_type": "stream",
     "text": [
      "100%|██████████| 15/15 [00:00<00:00, 35.08it/s]\n",
      " 11%|█         | 2/18 [00:00<00:01, 11.89it/s]"
     ]
    },
    {
     "name": "stdout",
     "output_type": "stream",
     "text": [
      "E([-0.8849615223598889, -0.19163412851502018, -0.8427473384861354, -0.2863646294863693, 0.7214501774733951, -1.2397358344512361, -0.418723250782041, 0.16391974082138983]) = (0.95047819927439+4.136431461280061e-17j)\n",
      "Preprocessing for energy query...\n"
     ]
    },
    {
     "name": "stderr",
     "output_type": "stream",
     "text": [
      "100%|██████████| 18/18 [00:01<00:00, 10.14it/s]\n",
      " 17%|█▋        | 3/18 [00:00<00:00, 23.98it/s]"
     ]
    },
    {
     "name": "stdout",
     "output_type": "stream",
     "text": [
      "Preprocessing time for queries: 1.7760159969329834\n"
     ]
    },
    {
     "name": "stderr",
     "output_type": "stream",
     "text": [
      "100%|██████████| 18/18 [00:06<00:00,  2.72it/s]\n",
      "  5%|▍         | 1/21 [00:00<00:02,  9.62it/s]"
     ]
    },
    {
     "name": "stdout",
     "output_type": "stream",
     "text": [
      "E([-0.3773178377538547, -0.9172477998110362, -2.0798697579734076, -1.2401017920281656, 0.143324504880441, -0.9750890565166455, -0.7946798078690085, 1.8567210244860768]) = (-0.5944054288117275-1.6185499895458392e-16j)\n",
      "Preprocessing for energy query...\n"
     ]
    },
    {
     "name": "stderr",
     "output_type": "stream",
     "text": [
      "100%|██████████| 21/21 [00:02<00:00,  9.06it/s]\n",
      "  0%|          | 0/21 [00:00<?, ?it/s]"
     ]
    },
    {
     "name": "stdout",
     "output_type": "stream",
     "text": [
      "Preprocessing time for queries: 2.3192715644836426\n"
     ]
    },
    {
     "name": "stderr",
     "output_type": "stream",
     "text": [
      "100%|██████████| 21/21 [01:47<00:00,  5.13s/it]\n",
      "  0%|          | 0/27 [00:00<?, ?it/s]"
     ]
    },
    {
     "name": "stdout",
     "output_type": "stream",
     "text": [
      "E([-1.9049748962917255, 1.0307254657263336, 1.0818430967236732, -1.4000451457882472, -0.7630286972279878, 0.42146788613421177, 0.7029706973196351, 0.3802102486466844]) = (1.3725891877205865-1.8173328382492857e-16j)\n",
      "Preprocessing for energy query...\n"
     ]
    },
    {
     "name": "stderr",
     "output_type": "stream",
     "text": [
      " 15%|█▍        | 4/27 [00:00<00:03,  5.94it/s]\n",
      "  3%|▎         | 1/39 [00:00<00:04,  8.26it/s]"
     ]
    },
    {
     "name": "stdout",
     "output_type": "stream",
     "text": [
      "Exception The contraction cannot be done on the current machine. Try finding a more space-efficient order, or slice the order to fit in the memory.\n",
      "Preprocessing for energy query...\n"
     ]
    },
    {
     "name": "stderr",
     "output_type": "stream",
     "text": [
      "100%|██████████| 39/39 [00:05<00:00,  7.29it/s]\n",
      "  0%|          | 0/39 [00:00<?, ?it/s]"
     ]
    },
    {
     "name": "stdout",
     "output_type": "stream",
     "text": [
      "Preprocessing time for queries: 5.348571062088013\n"
     ]
    },
    {
     "name": "stderr",
     "output_type": "stream",
     "text": [
      " 74%|███████▍  | 29/39 [02:47<00:57,  5.76s/it]\n",
      "  2%|▏         | 1/60 [00:00<00:09,  6.45it/s]"
     ]
    },
    {
     "name": "stdout",
     "output_type": "stream",
     "text": [
      "Internal error while evaluating `ContractExpression`. Note that few checks are performed - the number and rank of the array arguments must match the original expression. The internal error was: '('too many subscripts in einsum',)'\n",
      "('c', [[(0, array([[ 0.97496303+0.j        , -0.        -0.22236703j],\n",
      "       [-0.        -0.22236703j,  0.97496303+0.j        ]]))], [(0, array([[0.97496303+0.j        , 0.        +0.22236703j],\n",
      "       [0.        +0.22236703j, 0.97496303+0.j        ]]))], [(0, array([[ 0.97496303+0.j        , -0.        -0.22236703j],\n",
      "       [-0.        -0.22236703j,  0.97496303+0.j        ]]))], [(0, array([[0.97496303+0.j        , 0.        +0.22236703j],\n",
      "       [0.        +0.22236703j, 0.97496303+0.j        ]]))], [(0, array([[0.39428543-0.91898803j, 0.39428543+0.91898803j],\n",
      "       [0.39428543+0.91898803j, 0.39428543-0.91898803j]]))], [(0, array([[0.39428543+0.91898803j, 0.39428543-0.91898803j],\n",
      "       [0.39428543-0.91898803j, 0.39428543+0.91898803j]]))], [(0, array([[0.39428543-0.91898803j, 0.39428543+0.91898803j],\n",
      "       [0.39428543+0.91898803j, 0.39428543-0.91898803j]]))], [(0, array([[0.39428543+0.91898803j, 0.39428543-0.91898803j],\n",
      "       [0.39428543-0.91898803j, 0.39428543+0.91898803j]]))], [(0, array([[0.39428543-0.91898803j, 0.39428543+0.91898803j],\n",
      "       [0.39428543+0.91898803j, 0.39428543-0.91898803j]]))], [(0, array([[0.39428543+0.91898803j, 0.39428543-0.91898803j],\n",
      "       [0.39428543-0.91898803j, 0.39428543+0.91898803j]]))], [(0, array([[0.39428543-0.91898803j, 0.39428543+0.91898803j],\n",
      "       [0.39428543+0.91898803j, 0.39428543-0.91898803j]]))], [(0, array([[0.39428543+0.91898803j, 0.39428543-0.91898803j],\n",
      "       [0.39428543-0.91898803j, 0.39428543+0.91898803j]]))], [(0, array([[0.39428543-0.91898803j, 0.39428543+0.91898803j],\n",
      "       [0.39428543+0.91898803j, 0.39428543-0.91898803j]]))], [(0, array([[0.39428543+0.91898803j, 0.39428543-0.91898803j],\n",
      "       [0.39428543-0.91898803j, 0.39428543+0.91898803j]]))], [(0, array([[-0.64108527+0.j        ,  0.        +0.76746966j],\n",
      "       [ 0.        +0.76746966j, -0.64108527+0.j        ]]))], [(0, array([[-0.64108527+0.j        , -0.        -0.76746966j],\n",
      "       [-0.        -0.76746966j, -0.64108527+0.j        ]]))], [(0, array([[-0.64108527+0.j        ,  0.        +0.76746966j],\n",
      "       [ 0.        +0.76746966j, -0.64108527+0.j        ]]))], [(0, array([[-0.64108527+0.j        , -0.        -0.76746966j],\n",
      "       [-0.        -0.76746966j, -0.64108527+0.j        ]]))], [(0, array([[-0.64108527+0.j        ,  0.        +0.76746966j],\n",
      "       [ 0.        +0.76746966j, -0.64108527+0.j        ]]))], [(0, array([[-0.64108527+0.j        , -0.        -0.76746966j],\n",
      "       [-0.        -0.76746966j, -0.64108527+0.j        ]]))], [(0, array([[-0.64108527+0.j        ,  0.        +0.76746966j],\n",
      "       [ 0.        +0.76746966j, -0.64108527+0.j        ]]))], [(0, array([[-0.64108527+0.j        , -0.        -0.76746966j],\n",
      "       [-0.        -0.76746966j, -0.64108527+0.j        ]]))], [(0, array([[-0.64108527+0.j        ,  0.        +0.76746966j],\n",
      "       [ 0.        +0.76746966j, -0.64108527+0.j        ]]))], [(0, array([[-0.64108527+0.j        , -0.        -0.76746966j],\n",
      "       [-0.        -0.76746966j, -0.64108527+0.j        ]]))], [(0, array([[-0.64108527+0.j        ,  0.        +0.76746966j],\n",
      "       [ 0.        +0.76746966j, -0.64108527+0.j        ]]))], [(0, array([[-0.64108527+0.j        , -0.        -0.76746966j],\n",
      "       [-0.        -0.76746966j, -0.64108527+0.j        ]]))], [(0, array([[0.84206849-0.53937061j, 0.84206849+0.53937061j],\n",
      "       [0.84206849+0.53937061j, 0.84206849-0.53937061j]]))], [(0, array([[0.84206849+0.53937061j, 0.84206849-0.53937061j],\n",
      "       [0.84206849-0.53937061j, 0.84206849+0.53937061j]]))], [(0, array([[0.84206849-0.53937061j, 0.84206849+0.53937061j],\n",
      "       [0.84206849+0.53937061j, 0.84206849-0.53937061j]]))], [(0, array([[0.84206849+0.53937061j, 0.84206849-0.53937061j],\n",
      "       [0.84206849-0.53937061j, 0.84206849+0.53937061j]]))], [(0, array([[0.84206849-0.53937061j, 0.84206849+0.53937061j],\n",
      "       [0.84206849+0.53937061j, 0.84206849-0.53937061j]]))], [(0, array([[0.84206849+0.53937061j, 0.84206849-0.53937061j],\n",
      "       [0.84206849-0.53937061j, 0.84206849+0.53937061j]]))], [(0, array([[0.84206849-0.53937061j, 0.84206849+0.53937061j],\n",
      "       [0.84206849+0.53937061j, 0.84206849-0.53937061j]]))], [(0, array([[0.84206849+0.53937061j, 0.84206849-0.53937061j],\n",
      "       [0.84206849-0.53937061j, 0.84206849+0.53937061j]]))], [(0, array([[0.84206849-0.53937061j, 0.84206849+0.53937061j],\n",
      "       [0.84206849+0.53937061j, 0.84206849-0.53937061j]]))], [(0, array([[0.84206849+0.53937061j, 0.84206849-0.53937061j],\n",
      "       [0.84206849-0.53937061j, 0.84206849+0.53937061j]]))], [(0, array([[0.84206849-0.53937061j, 0.84206849+0.53937061j],\n",
      "       [0.84206849+0.53937061j, 0.84206849-0.53937061j]]))], [(0, array([[0.84206849+0.53937061j, 0.84206849-0.53937061j],\n",
      "       [0.84206849-0.53937061j, 0.84206849+0.53937061j]]))], [(0, array([[0.84206849-0.53937061j, 0.84206849+0.53937061j],\n",
      "       [0.84206849+0.53937061j, 0.84206849-0.53937061j]]))], [(0, array([[0.84206849+0.53937061j, 0.84206849-0.53937061j],\n",
      "       [0.84206849-0.53937061j, 0.84206849+0.53937061j]]))], [(0, array([[0.84206849-0.53937061j, 0.84206849+0.53937061j],\n",
      "       [0.84206849+0.53937061j, 0.84206849-0.53937061j]]))], [(0, array([[0.84206849+0.53937061j, 0.84206849-0.53937061j],\n",
      "       [0.84206849-0.53937061j, 0.84206849+0.53937061j]]))], [(0, array([[0.84206849-0.53937061j, 0.84206849+0.53937061j],\n",
      "       [0.84206849+0.53937061j, 0.84206849-0.53937061j]]))], [(0, array([[0.84206849+0.53937061j, 0.84206849-0.53937061j],\n",
      "       [0.84206849-0.53937061j, 0.84206849+0.53937061j]]))], [(0, array([[0.84206849-0.53937061j, 0.84206849+0.53937061j],\n",
      "       [0.84206849+0.53937061j, 0.84206849-0.53937061j]]))], [(0, array([[0.84206849+0.53937061j, 0.84206849-0.53937061j],\n",
      "       [0.84206849-0.53937061j, 0.84206849+0.53937061j]]))], [(0, array([[0.84206849-0.53937061j, 0.84206849+0.53937061j],\n",
      "       [0.84206849+0.53937061j, 0.84206849-0.53937061j]]))], [(0, array([[0.84206849+0.53937061j, 0.84206849-0.53937061j],\n",
      "       [0.84206849-0.53937061j, 0.84206849+0.53937061j]]))], [(0, array([[0.84206849-0.53937061j, 0.84206849+0.53937061j],\n",
      "       [0.84206849+0.53937061j, 0.84206849-0.53937061j]]))], [(0, array([[0.84206849+0.53937061j, 0.84206849-0.53937061j],\n",
      "       [0.84206849-0.53937061j, 0.84206849+0.53937061j]]))], [(0, array([[0.84206849-0.53937061j, 0.84206849+0.53937061j],\n",
      "       [0.84206849+0.53937061j, 0.84206849-0.53937061j]]))], [(0, array([[0.84206849+0.53937061j, 0.84206849-0.53937061j],\n",
      "       [0.84206849-0.53937061j, 0.84206849+0.53937061j]]))], [(0, array([[0.00657897+0.j        , 0.        +0.99997836j],\n",
      "       [0.        +0.99997836j, 0.00657897+0.j        ]]))], [(0, array([[ 0.00657897+0.j        , -0.        -0.99997836j],\n",
      "       [-0.        -0.99997836j,  0.00657897+0.j        ]]))], [(0, array([[0.00657897+0.j        , 0.        +0.99997836j],\n",
      "       [0.        +0.99997836j, 0.00657897+0.j        ]]))], [(0, array([[ 0.00657897+0.j        , -0.        -0.99997836j],\n",
      "       [-0.        -0.99997836j,  0.00657897+0.j        ]]))], [(0, array([[0.00657897+0.j        , 0.        +0.99997836j],\n",
      "       [0.        +0.99997836j, 0.00657897+0.j        ]]))], [(0, array([[ 0.00657897+0.j        , -0.        -0.99997836j],\n",
      "       [-0.        -0.99997836j,  0.00657897+0.j        ]]))], [(0, array([[0.00657897+0.j        , 0.        +0.99997836j],\n",
      "       [0.        +0.99997836j, 0.00657897+0.j        ]]))], [(0, array([[ 0.00657897+0.j        , -0.        -0.99997836j],\n",
      "       [-0.        -0.99997836j,  0.00657897+0.j        ]]))], [(0, array([[0.00657897+0.j        , 0.        +0.99997836j],\n",
      "       [0.        +0.99997836j, 0.00657897+0.j        ]]))], [(0, array([[ 0.00657897+0.j        , -0.        -0.99997836j],\n",
      "       [-0.        -0.99997836j,  0.00657897+0.j        ]]))], [(0, array([[0.00657897+0.j        , 0.        +0.99997836j],\n",
      "       [0.        +0.99997836j, 0.00657897+0.j        ]]))], [(0, array([[ 0.00657897+0.j        , -0.        -0.99997836j],\n",
      "       [-0.        -0.99997836j,  0.00657897+0.j        ]]))], [(0, array([[0.00657897+0.j        , 0.        +0.99997836j],\n",
      "       [0.        +0.99997836j, 0.00657897+0.j        ]]))], [(0, array([[ 0.00657897+0.j        , -0.        -0.99997836j],\n",
      "       [-0.        -0.99997836j,  0.00657897+0.j        ]]))], [(0, array([[0.00657897+0.j        , 0.        +0.99997836j],\n",
      "       [0.        +0.99997836j, 0.00657897+0.j        ]]))], [(0, array([[ 0.00657897+0.j        , -0.        -0.99997836j],\n",
      "       [-0.        -0.99997836j,  0.00657897+0.j        ]]))], [(0, array([[0.00657897+0.j        , 0.        +0.99997836j],\n",
      "       [0.        +0.99997836j, 0.00657897+0.j        ]]))], [(0, array([[ 0.00657897+0.j        , -0.        -0.99997836j],\n",
      "       [-0.        -0.99997836j,  0.00657897+0.j        ]]))], [(0, array([[0.00657897+0.j        , 0.        +0.99997836j],\n",
      "       [0.        +0.99997836j, 0.00657897+0.j        ]]))], [(0, array([[ 0.00657897+0.j        , -0.        -0.99997836j],\n",
      "       [-0.        -0.99997836j,  0.00657897+0.j        ]]))], [(0, array([[0.00657897+0.j        , 0.        +0.99997836j],\n",
      "       [0.        +0.99997836j, 0.00657897+0.j        ]]))], [(0, array([[ 0.00657897+0.j        , -0.        -0.99997836j],\n",
      "       [-0.        -0.99997836j,  0.00657897+0.j        ]]))], [(0, array([[0.00657897+0.j        , 0.        +0.99997836j],\n",
      "       [0.        +0.99997836j, 0.00657897+0.j        ]]))], [(0, array([[ 0.00657897+0.j        , -0.        -0.99997836j],\n",
      "       [-0.        -0.99997836j,  0.00657897+0.j        ]]))], [(0, array([[0.00657897+0.j        , 0.        +0.99997836j],\n",
      "       [0.        +0.99997836j, 0.00657897+0.j        ]]))], [(0, array([[ 0.00657897+0.j        , -0.        -0.99997836j],\n",
      "       [-0.        -0.99997836j,  0.00657897+0.j        ]]))], [(0, array([[0.00657897+0.j        , 0.        +0.99997836j],\n",
      "       [0.        +0.99997836j, 0.00657897+0.j        ]]))], [(0, array([[ 0.00657897+0.j        , -0.        -0.99997836j],\n",
      "       [-0.        -0.99997836j,  0.00657897+0.j        ]]))], [(0, array([[0.9999997-0.00077479j, 0.9999997+0.00077479j],\n",
      "       [0.9999997+0.00077479j, 0.9999997-0.00077479j]]))], [(0, array([[0.9999997+0.00077479j, 0.9999997-0.00077479j],\n",
      "       [0.9999997-0.00077479j, 0.9999997+0.00077479j]]))], [(0, array([[0.9999997-0.00077479j, 0.9999997+0.00077479j],\n",
      "       [0.9999997+0.00077479j, 0.9999997-0.00077479j]]))], [(0, array([[0.9999997+0.00077479j, 0.9999997-0.00077479j],\n",
      "       [0.9999997-0.00077479j, 0.9999997+0.00077479j]]))], [(0, array([[0.9999997-0.00077479j, 0.9999997+0.00077479j],\n",
      "       [0.9999997+0.00077479j, 0.9999997-0.00077479j]]))], [(0, array([[0.9999997+0.00077479j, 0.9999997-0.00077479j],\n",
      "       [0.9999997-0.00077479j, 0.9999997+0.00077479j]]))], [(0, array([[0.9999997-0.00077479j, 0.9999997+0.00077479j],\n",
      "       [0.9999997+0.00077479j, 0.9999997-0.00077479j]]))], [(0, array([[0.9999997+0.00077479j, 0.9999997-0.00077479j],\n",
      "       [0.9999997-0.00077479j, 0.9999997+0.00077479j]]))], [(0, array([[0.9999997-0.00077479j, 0.9999997+0.00077479j],\n",
      "       [0.9999997+0.00077479j, 0.9999997-0.00077479j]]))], [(0, array([[0.9999997+0.00077479j, 0.9999997-0.00077479j],\n",
      "       [0.9999997-0.00077479j, 0.9999997+0.00077479j]]))], [(0, array([[0.9999997-0.00077479j, 0.9999997+0.00077479j],\n",
      "       [0.9999997+0.00077479j, 0.9999997-0.00077479j]]))], [(0, array([[0.9999997+0.00077479j, 0.9999997-0.00077479j],\n",
      "       [0.9999997-0.00077479j, 0.9999997+0.00077479j]]))], [(0, array([[0.9999997-0.00077479j, 0.9999997+0.00077479j],\n",
      "       [0.9999997+0.00077479j, 0.9999997-0.00077479j]]))], [(0, array([[0.9999997+0.00077479j, 0.9999997-0.00077479j],\n",
      "       [0.9999997-0.00077479j, 0.9999997+0.00077479j]]))], [(0, array([[0.9999997-0.00077479j, 0.9999997+0.00077479j],\n",
      "       [0.9999997+0.00077479j, 0.9999997-0.00077479j]]))], [(0, array([[0.9999997+0.00077479j, 0.9999997-0.00077479j],\n",
      "       [0.9999997-0.00077479j, 0.9999997+0.00077479j]]))], [(0, array([[0.9999997-0.00077479j, 0.9999997+0.00077479j],\n",
      "       [0.9999997+0.00077479j, 0.9999997-0.00077479j]]))], [(0, array([[0.9999997+0.00077479j, 0.9999997-0.00077479j],\n",
      "       [0.9999997-0.00077479j, 0.9999997+0.00077479j]]))], [(0, array([[0.9999997-0.00077479j, 0.9999997+0.00077479j],\n",
      "       [0.9999997+0.00077479j, 0.9999997-0.00077479j]]))], [(0, array([[0.9999997+0.00077479j, 0.9999997-0.00077479j],\n",
      "       [0.9999997-0.00077479j, 0.9999997+0.00077479j]]))], [(0, array([[0.9999997-0.00077479j, 0.9999997+0.00077479j],\n",
      "       [0.9999997+0.00077479j, 0.9999997-0.00077479j]]))], [(0, array([[0.9999997+0.00077479j, 0.9999997-0.00077479j],\n",
      "       [0.9999997-0.00077479j, 0.9999997+0.00077479j]]))], [(0, array([[0.9999997-0.00077479j, 0.9999997+0.00077479j],\n",
      "       [0.9999997+0.00077479j, 0.9999997-0.00077479j]]))], [(0, array([[0.9999997+0.00077479j, 0.9999997-0.00077479j],\n",
      "       [0.9999997-0.00077479j, 0.9999997+0.00077479j]]))], [(0, array([[0.9999997-0.00077479j, 0.9999997+0.00077479j],\n",
      "       [0.9999997+0.00077479j, 0.9999997-0.00077479j]]))], [(0, array([[0.9999997+0.00077479j, 0.9999997-0.00077479j],\n",
      "       [0.9999997-0.00077479j, 0.9999997+0.00077479j]]))], [(0, array([[0.9999997-0.00077479j, 0.9999997+0.00077479j],\n",
      "       [0.9999997+0.00077479j, 0.9999997-0.00077479j]]))], [(0, array([[0.9999997+0.00077479j, 0.9999997-0.00077479j],\n",
      "       [0.9999997-0.00077479j, 0.9999997+0.00077479j]]))], [(0, array([[0.9999997-0.00077479j, 0.9999997+0.00077479j],\n",
      "       [0.9999997+0.00077479j, 0.9999997-0.00077479j]]))], [(0, array([[0.9999997+0.00077479j, 0.9999997-0.00077479j],\n",
      "       [0.9999997-0.00077479j, 0.9999997+0.00077479j]]))], [(0, array([[0.9999997-0.00077479j, 0.9999997+0.00077479j],\n",
      "       [0.9999997+0.00077479j, 0.9999997-0.00077479j]]))], [(0, array([[0.9999997+0.00077479j, 0.9999997-0.00077479j],\n",
      "       [0.9999997-0.00077479j, 0.9999997+0.00077479j]]))], [(0, array([[0.9999997-0.00077479j, 0.9999997+0.00077479j],\n",
      "       [0.9999997+0.00077479j, 0.9999997-0.00077479j]]))], [(0, array([[0.9999997+0.00077479j, 0.9999997-0.00077479j],\n",
      "       [0.9999997-0.00077479j, 0.9999997+0.00077479j]]))], [(0, array([[0.9999997-0.00077479j, 0.9999997+0.00077479j],\n",
      "       [0.9999997+0.00077479j, 0.9999997-0.00077479j]]))], [(0, array([[0.9999997+0.00077479j, 0.9999997-0.00077479j],\n",
      "       [0.9999997-0.00077479j, 0.9999997+0.00077479j]]))], [(0, array([[0.9999997-0.00077479j, 0.9999997+0.00077479j],\n",
      "       [0.9999997+0.00077479j, 0.9999997-0.00077479j]]))], [(0, array([[0.9999997+0.00077479j, 0.9999997-0.00077479j],\n",
      "       [0.9999997-0.00077479j, 0.9999997+0.00077479j]]))], [(0, array([[0.9999997-0.00077479j, 0.9999997+0.00077479j],\n",
      "       [0.9999997+0.00077479j, 0.9999997-0.00077479j]]))], [(0, array([[0.9999997+0.00077479j, 0.9999997-0.00077479j],\n",
      "       [0.9999997-0.00077479j, 0.9999997+0.00077479j]]))], [(0, array([[0.9999997-0.00077479j, 0.9999997+0.00077479j],\n",
      "       [0.9999997+0.00077479j, 0.9999997-0.00077479j]]))], [(0, array([[0.9999997+0.00077479j, 0.9999997-0.00077479j],\n",
      "       [0.9999997-0.00077479j, 0.9999997+0.00077479j]]))], [(0, array([[0.9999997-0.00077479j, 0.9999997+0.00077479j],\n",
      "       [0.9999997+0.00077479j, 0.9999997-0.00077479j]]))], [(0, array([[0.9999997+0.00077479j, 0.9999997-0.00077479j],\n",
      "       [0.9999997-0.00077479j, 0.9999997+0.00077479j]]))], [(0, array([[0.9999997-0.00077479j, 0.9999997+0.00077479j],\n",
      "       [0.9999997+0.00077479j, 0.9999997-0.00077479j]]))], [(0, array([[0.9999997+0.00077479j, 0.9999997-0.00077479j],\n",
      "       [0.9999997-0.00077479j, 0.9999997+0.00077479j]]))], [(0, array([[0.9999997-0.00077479j, 0.9999997+0.00077479j],\n",
      "       [0.9999997+0.00077479j, 0.9999997-0.00077479j]]))], [(0, array([[0.9999997+0.00077479j, 0.9999997-0.00077479j],\n",
      "       [0.9999997-0.00077479j, 0.9999997+0.00077479j]]))], [(0, array([[0.9999997-0.00077479j, 0.9999997+0.00077479j],\n",
      "       [0.9999997+0.00077479j, 0.9999997-0.00077479j]]))], [(0, array([[0.9999997+0.00077479j, 0.9999997-0.00077479j],\n",
      "       [0.9999997-0.00077479j, 0.9999997+0.00077479j]]))], [(0, array([[0.9999997-0.00077479j, 0.9999997+0.00077479j],\n",
      "       [0.9999997+0.00077479j, 0.9999997-0.00077479j]]))], [(0, array([[0.9999997+0.00077479j, 0.9999997-0.00077479j],\n",
      "       [0.9999997-0.00077479j, 0.9999997+0.00077479j]]))], [(0, array([[0.9999997-0.00077479j, 0.9999997+0.00077479j],\n",
      "       [0.9999997+0.00077479j, 0.9999997-0.00077479j]]))], [(0, array([[0.9999997+0.00077479j, 0.9999997-0.00077479j],\n",
      "       [0.9999997-0.00077479j, 0.9999997+0.00077479j]]))], [(0, array([[0.33456977+0.j        , 0.        +0.94237098j],\n",
      "       [0.        +0.94237098j, 0.33456977+0.j        ]]))], [(0, array([[ 0.33456977+0.j        , -0.        -0.94237098j],\n",
      "       [-0.        -0.94237098j,  0.33456977+0.j        ]]))], [(0, array([[0.33456977+0.j        , 0.        +0.94237098j],\n",
      "       [0.        +0.94237098j, 0.33456977+0.j        ]]))], [(0, array([[ 0.33456977+0.j        , -0.        -0.94237098j],\n",
      "       [-0.        -0.94237098j,  0.33456977+0.j        ]]))], [(0, array([[0.33456977+0.j        , 0.        +0.94237098j],\n",
      "       [0.        +0.94237098j, 0.33456977+0.j        ]]))], [(0, array([[ 0.33456977+0.j        , -0.        -0.94237098j],\n",
      "       [-0.        -0.94237098j,  0.33456977+0.j        ]]))], [(0, array([[0.33456977+0.j        , 0.        +0.94237098j],\n",
      "       [0.        +0.94237098j, 0.33456977+0.j        ]]))], [(0, array([[ 0.33456977+0.j        , -0.        -0.94237098j],\n",
      "       [-0.        -0.94237098j,  0.33456977+0.j        ]]))], [(0, array([[0.33456977+0.j        , 0.        +0.94237098j],\n",
      "       [0.        +0.94237098j, 0.33456977+0.j        ]]))], [(0, array([[ 0.33456977+0.j        , -0.        -0.94237098j],\n",
      "       [-0.        -0.94237098j,  0.33456977+0.j        ]]))], [(0, array([[0.33456977+0.j        , 0.        +0.94237098j],\n",
      "       [0.        +0.94237098j, 0.33456977+0.j        ]]))], [(0, array([[ 0.33456977+0.j        , -0.        -0.94237098j],\n",
      "       [-0.        -0.94237098j,  0.33456977+0.j        ]]))], [(0, array([[0.33456977+0.j        , 0.        +0.94237098j],\n",
      "       [0.        +0.94237098j, 0.33456977+0.j        ]]))], [(0, array([[ 0.33456977+0.j        , -0.        -0.94237098j],\n",
      "       [-0.        -0.94237098j,  0.33456977+0.j        ]]))], [(0, array([[0.33456977+0.j        , 0.        +0.94237098j],\n",
      "       [0.        +0.94237098j, 0.33456977+0.j        ]]))], [(0, array([[ 0.33456977+0.j        , -0.        -0.94237098j],\n",
      "       [-0.        -0.94237098j,  0.33456977+0.j        ]]))], [(0, array([[0.33456977+0.j        , 0.        +0.94237098j],\n",
      "       [0.        +0.94237098j, 0.33456977+0.j        ]]))], [(0, array([[ 0.33456977+0.j        , -0.        -0.94237098j],\n",
      "       [-0.        -0.94237098j,  0.33456977+0.j        ]]))], [(0, array([[0.33456977+0.j        , 0.        +0.94237098j],\n",
      "       [0.        +0.94237098j, 0.33456977+0.j        ]]))], [(0, array([[ 0.33456977+0.j        , -0.        -0.94237098j],\n",
      "       [-0.        -0.94237098j,  0.33456977+0.j        ]]))], [(0, array([[0.33456977+0.j        , 0.        +0.94237098j],\n",
      "       [0.        +0.94237098j, 0.33456977+0.j        ]]))], [(0, array([[ 0.33456977+0.j        , -0.        -0.94237098j],\n",
      "       [-0.        -0.94237098j,  0.33456977+0.j        ]]))], [(0, array([[0.33456977+0.j        , 0.        +0.94237098j],\n",
      "       [0.        +0.94237098j, 0.33456977+0.j        ]]))], [(0, array([[ 0.33456977+0.j        , -0.        -0.94237098j],\n",
      "       [-0.        -0.94237098j,  0.33456977+0.j        ]]))], [(0, array([[0.33456977+0.j        , 0.        +0.94237098j],\n",
      "       [0.        +0.94237098j, 0.33456977+0.j        ]]))], [(0, array([[ 0.33456977+0.j        , -0.        -0.94237098j],\n",
      "       [-0.        -0.94237098j,  0.33456977+0.j        ]]))], [(0, array([[0.33456977+0.j        , 0.        +0.94237098j],\n",
      "       [0.        +0.94237098j, 0.33456977+0.j        ]]))], [(0, array([[ 0.33456977+0.j        , -0.        -0.94237098j],\n",
      "       [-0.        -0.94237098j,  0.33456977+0.j        ]]))], [(0, array([[0.33456977+0.j        , 0.        +0.94237098j],\n",
      "       [0.        +0.94237098j, 0.33456977+0.j        ]]))], [(0, array([[ 0.33456977+0.j        , -0.        -0.94237098j],\n",
      "       [-0.        -0.94237098j,  0.33456977+0.j        ]]))], [(0, array([[0.33456977+0.j        , 0.        +0.94237098j],\n",
      "       [0.        +0.94237098j, 0.33456977+0.j        ]]))], [(0, array([[ 0.33456977+0.j        , -0.        -0.94237098j],\n",
      "       [-0.        -0.94237098j,  0.33456977+0.j        ]]))], [(0, array([[0.33456977+0.j        , 0.        +0.94237098j],\n",
      "       [0.        +0.94237098j, 0.33456977+0.j        ]]))], [(0, array([[ 0.33456977+0.j        , -0.        -0.94237098j],\n",
      "       [-0.        -0.94237098j,  0.33456977+0.j        ]]))], [(0, array([[0.33456977+0.j        , 0.        +0.94237098j],\n",
      "       [0.        +0.94237098j, 0.33456977+0.j        ]]))], [(0, array([[ 0.33456977+0.j        , -0.        -0.94237098j],\n",
      "       [-0.        -0.94237098j,  0.33456977+0.j        ]]))], [(0, array([[0.33456977+0.j        , 0.        +0.94237098j],\n",
      "       [0.        +0.94237098j, 0.33456977+0.j        ]]))], [(0, array([[ 0.33456977+0.j        , -0.        -0.94237098j],\n",
      "       [-0.        -0.94237098j,  0.33456977+0.j        ]]))], [(0, array([[0.33456977+0.j        , 0.        +0.94237098j],\n",
      "       [0.        +0.94237098j, 0.33456977+0.j        ]]))], [(0, array([[ 0.33456977+0.j        , -0.        -0.94237098j],\n",
      "       [-0.        -0.94237098j,  0.33456977+0.j        ]]))], [(0, array([[0.33456977+0.j        , 0.        +0.94237098j],\n",
      "       [0.        +0.94237098j, 0.33456977+0.j        ]]))], [(0, array([[ 0.33456977+0.j        , -0.        -0.94237098j],\n",
      "       [-0.        -0.94237098j,  0.33456977+0.j        ]]))], [(0, array([[0.33456977+0.j        , 0.        +0.94237098j],\n",
      "       [0.        +0.94237098j, 0.33456977+0.j        ]]))], [(0, array([[ 0.33456977+0.j        , -0.        -0.94237098j],\n",
      "       [-0.        -0.94237098j,  0.33456977+0.j        ]]))], [(0, array([[0.33456977+0.j        , 0.        +0.94237098j],\n",
      "       [0.        +0.94237098j, 0.33456977+0.j        ]]))], [(0, array([[ 0.33456977+0.j        , -0.        -0.94237098j],\n",
      "       [-0.        -0.94237098j,  0.33456977+0.j        ]]))], [(0, array([[-0.25469882-0.96702043j, -0.25469882+0.96702043j],\n",
      "       [-0.25469882+0.96702043j, -0.25469882-0.96702043j]]))], [(0, array([[-0.25469882+0.96702043j, -0.25469882-0.96702043j],\n",
      "       [-0.25469882-0.96702043j, -0.25469882+0.96702043j]]))], [(0, array([[-0.25469882-0.96702043j, -0.25469882+0.96702043j],\n",
      "       [-0.25469882+0.96702043j, -0.25469882-0.96702043j]]))], [(0, array([[-0.25469882+0.96702043j, -0.25469882-0.96702043j],\n",
      "       [-0.25469882-0.96702043j, -0.25469882+0.96702043j]]))], [(0, array([[-0.25469882-0.96702043j, -0.25469882+0.96702043j],\n",
      "       [-0.25469882+0.96702043j, -0.25469882-0.96702043j]]))], [(0, array([[-0.25469882+0.96702043j, -0.25469882-0.96702043j],\n",
      "       [-0.25469882-0.96702043j, -0.25469882+0.96702043j]]))], [(0, array([[-0.25469882-0.96702043j, -0.25469882+0.96702043j],\n",
      "       [-0.25469882+0.96702043j, -0.25469882-0.96702043j]]))], [(0, array([[-0.25469882+0.96702043j, -0.25469882-0.96702043j],\n",
      "       [-0.25469882-0.96702043j, -0.25469882+0.96702043j]]))], [(0, array([[-0.25469882-0.96702043j, -0.25469882+0.96702043j],\n",
      "       [-0.25469882+0.96702043j, -0.25469882-0.96702043j]]))], [(0, array([[-0.25469882+0.96702043j, -0.25469882-0.96702043j],\n",
      "       [-0.25469882-0.96702043j, -0.25469882+0.96702043j]]))], [(0, array([[-0.25469882-0.96702043j, -0.25469882+0.96702043j],\n",
      "       [-0.25469882+0.96702043j, -0.25469882-0.96702043j]]))], [(0, array([[-0.25469882+0.96702043j, -0.25469882-0.96702043j],\n",
      "       [-0.25469882-0.96702043j, -0.25469882+0.96702043j]]))], [(0, array([[-0.25469882-0.96702043j, -0.25469882+0.96702043j],\n",
      "       [-0.25469882+0.96702043j, -0.25469882-0.96702043j]]))], [(0, array([[-0.25469882+0.96702043j, -0.25469882-0.96702043j],\n",
      "       [-0.25469882-0.96702043j, -0.25469882+0.96702043j]]))], [(0, array([[-0.25469882-0.96702043j, -0.25469882+0.96702043j],\n",
      "       [-0.25469882+0.96702043j, -0.25469882-0.96702043j]]))], [(0, array([[-0.25469882+0.96702043j, -0.25469882-0.96702043j],\n",
      "       [-0.25469882-0.96702043j, -0.25469882+0.96702043j]]))], [(0, array([[-0.25469882-0.96702043j, -0.25469882+0.96702043j],\n",
      "       [-0.25469882+0.96702043j, -0.25469882-0.96702043j]]))], [(0, array([[-0.25469882+0.96702043j, -0.25469882-0.96702043j],\n",
      "       [-0.25469882-0.96702043j, -0.25469882+0.96702043j]]))], [(0, array([[-0.25469882-0.96702043j, -0.25469882+0.96702043j],\n",
      "       [-0.25469882+0.96702043j, -0.25469882-0.96702043j]]))], [(0, array([[-0.25469882+0.96702043j, -0.25469882-0.96702043j],\n",
      "       [-0.25469882-0.96702043j, -0.25469882+0.96702043j]]))], [(0, array([[-0.25469882-0.96702043j, -0.25469882+0.96702043j],\n",
      "       [-0.25469882+0.96702043j, -0.25469882-0.96702043j]]))], [(0, array([[-0.25469882+0.96702043j, -0.25469882-0.96702043j],\n",
      "       [-0.25469882-0.96702043j, -0.25469882+0.96702043j]]))], [(0, array([[-0.25469882-0.96702043j, -0.25469882+0.96702043j],\n",
      "       [-0.25469882+0.96702043j, -0.25469882-0.96702043j]]))], [(0, array([[-0.25469882+0.96702043j, -0.25469882-0.96702043j],\n",
      "       [-0.25469882-0.96702043j, -0.25469882+0.96702043j]]))], [(0, array([[-0.25469882-0.96702043j, -0.25469882+0.96702043j],\n",
      "       [-0.25469882+0.96702043j, -0.25469882-0.96702043j]]))], [(0, array([[-0.25469882+0.96702043j, -0.25469882-0.96702043j],\n",
      "       [-0.25469882-0.96702043j, -0.25469882+0.96702043j]]))], [(0, array([[-0.25469882-0.96702043j, -0.25469882+0.96702043j],\n",
      "       [-0.25469882+0.96702043j, -0.25469882-0.96702043j]]))], [(0, array([[-0.25469882+0.96702043j, -0.25469882-0.96702043j],\n",
      "       [-0.25469882-0.96702043j, -0.25469882+0.96702043j]]))], [(0, array([[-0.25469882-0.96702043j, -0.25469882+0.96702043j],\n",
      "       [-0.25469882+0.96702043j, -0.25469882-0.96702043j]]))], [(0, array([[-0.25469882+0.96702043j, -0.25469882-0.96702043j],\n",
      "       [-0.25469882-0.96702043j, -0.25469882+0.96702043j]]))], [(0, array([[-0.25469882-0.96702043j, -0.25469882+0.96702043j],\n",
      "       [-0.25469882+0.96702043j, -0.25469882-0.96702043j]]))], [(0, array([[-0.25469882+0.96702043j, -0.25469882-0.96702043j],\n",
      "       [-0.25469882-0.96702043j, -0.25469882+0.96702043j]]))], [(0, array([[-0.25469882-0.96702043j, -0.25469882+0.96702043j],\n",
      "       [-0.25469882+0.96702043j, -0.25469882-0.96702043j]]))], [(0, array([[-0.25469882+0.96702043j, -0.25469882-0.96702043j],\n",
      "       [-0.25469882-0.96702043j, -0.25469882+0.96702043j]]))], [(0, array([[-0.25469882-0.96702043j, -0.25469882+0.96702043j],\n",
      "       [-0.25469882+0.96702043j, -0.25469882-0.96702043j]]))], [(0, array([[-0.25469882+0.96702043j, -0.25469882-0.96702043j],\n",
      "       [-0.25469882-0.96702043j, -0.25469882+0.96702043j]]))], [(0, array([[-0.25469882-0.96702043j, -0.25469882+0.96702043j],\n",
      "       [-0.25469882+0.96702043j, -0.25469882-0.96702043j]]))], [(0, array([[-0.25469882+0.96702043j, -0.25469882-0.96702043j],\n",
      "       [-0.25469882-0.96702043j, -0.25469882+0.96702043j]]))], [(0, array([[-0.25469882-0.96702043j, -0.25469882+0.96702043j],\n",
      "       [-0.25469882+0.96702043j, -0.25469882-0.96702043j]]))], [(0, array([[-0.25469882+0.96702043j, -0.25469882-0.96702043j],\n",
      "       [-0.25469882-0.96702043j, -0.25469882+0.96702043j]]))], [(0, array([[-0.25469882-0.96702043j, -0.25469882+0.96702043j],\n",
      "       [-0.25469882+0.96702043j, -0.25469882-0.96702043j]]))], [(0, array([[-0.25469882+0.96702043j, -0.25469882-0.96702043j],\n",
      "       [-0.25469882-0.96702043j, -0.25469882+0.96702043j]]))], [(0, array([[-0.25469882-0.96702043j, -0.25469882+0.96702043j],\n",
      "       [-0.25469882+0.96702043j, -0.25469882-0.96702043j]]))], [(0, array([[-0.25469882+0.96702043j, -0.25469882-0.96702043j],\n",
      "       [-0.25469882-0.96702043j, -0.25469882+0.96702043j]]))], [(0, array([[-0.25469882-0.96702043j, -0.25469882+0.96702043j],\n",
      "       [-0.25469882+0.96702043j, -0.25469882-0.96702043j]]))], [(0, array([[-0.25469882+0.96702043j, -0.25469882-0.96702043j],\n",
      "       [-0.25469882-0.96702043j, -0.25469882+0.96702043j]]))], [(0, array([[-0.25469882-0.96702043j, -0.25469882+0.96702043j],\n",
      "       [-0.25469882+0.96702043j, -0.25469882-0.96702043j]]))], [(0, array([[-0.25469882+0.96702043j, -0.25469882-0.96702043j],\n",
      "       [-0.25469882-0.96702043j, -0.25469882+0.96702043j]]))], [(0, array([[-0.25469882-0.96702043j, -0.25469882+0.96702043j],\n",
      "       [-0.25469882+0.96702043j, -0.25469882-0.96702043j]]))], [(0, array([[-0.25469882+0.96702043j, -0.25469882-0.96702043j],\n",
      "       [-0.25469882-0.96702043j, -0.25469882+0.96702043j]]))], [(0, array([[-0.25469882-0.96702043j, -0.25469882+0.96702043j],\n",
      "       [-0.25469882+0.96702043j, -0.25469882-0.96702043j]]))], [(0, array([[-0.25469882+0.96702043j, -0.25469882-0.96702043j],\n",
      "       [-0.25469882-0.96702043j, -0.25469882+0.96702043j]]))], [(0, array([[-0.25469882-0.96702043j, -0.25469882+0.96702043j],\n",
      "       [-0.25469882+0.96702043j, -0.25469882-0.96702043j]]))], [(0, array([[-0.25469882+0.96702043j, -0.25469882-0.96702043j],\n",
      "       [-0.25469882-0.96702043j, -0.25469882+0.96702043j]]))], [(0, array([[-0.25469882-0.96702043j, -0.25469882+0.96702043j],\n",
      "       [-0.25469882+0.96702043j, -0.25469882-0.96702043j]]))], [(0, array([[-0.25469882+0.96702043j, -0.25469882-0.96702043j],\n",
      "       [-0.25469882-0.96702043j, -0.25469882+0.96702043j]]))], [(0, array([[-0.25469882-0.96702043j, -0.25469882+0.96702043j],\n",
      "       [-0.25469882+0.96702043j, -0.25469882-0.96702043j]]))], [(0, array([[-0.25469882+0.96702043j, -0.25469882-0.96702043j],\n",
      "       [-0.25469882-0.96702043j, -0.25469882+0.96702043j]]))], [(0, array([[-0.25469882-0.96702043j, -0.25469882+0.96702043j],\n",
      "       [-0.25469882+0.96702043j, -0.25469882-0.96702043j]]))], [(0, array([[-0.25469882+0.96702043j, -0.25469882-0.96702043j],\n",
      "       [-0.25469882-0.96702043j, -0.25469882+0.96702043j]]))], [(0, array([[-0.25469882-0.96702043j, -0.25469882+0.96702043j],\n",
      "       [-0.25469882+0.96702043j, -0.25469882-0.96702043j]]))], [(0, array([[-0.25469882+0.96702043j, -0.25469882-0.96702043j],\n",
      "       [-0.25469882-0.96702043j, -0.25469882+0.96702043j]]))], [(0, array([[-0.25469882-0.96702043j, -0.25469882+0.96702043j],\n",
      "       [-0.25469882+0.96702043j, -0.25469882-0.96702043j]]))], [(0, array([[-0.25469882+0.96702043j, -0.25469882-0.96702043j],\n",
      "       [-0.25469882-0.96702043j, -0.25469882+0.96702043j]]))], [(0, array([[-0.25469882-0.96702043j, -0.25469882+0.96702043j],\n",
      "       [-0.25469882+0.96702043j, -0.25469882-0.96702043j]]))], [(0, array([[-0.25469882+0.96702043j, -0.25469882-0.96702043j],\n",
      "       [-0.25469882-0.96702043j, -0.25469882+0.96702043j]]))], [(0, array([[-0.25469882-0.96702043j, -0.25469882+0.96702043j],\n",
      "       [-0.25469882+0.96702043j, -0.25469882-0.96702043j]]))], [(0, array([[-0.25469882+0.96702043j, -0.25469882-0.96702043j],\n",
      "       [-0.25469882-0.96702043j, -0.25469882+0.96702043j]]))], [(0, array([[-0.25469882-0.96702043j, -0.25469882+0.96702043j],\n",
      "       [-0.25469882+0.96702043j, -0.25469882-0.96702043j]]))], [(0, array([[-0.25469882+0.96702043j, -0.25469882-0.96702043j],\n",
      "       [-0.25469882-0.96702043j, -0.25469882+0.96702043j]]))], [(0, array([[-0.25469882-0.96702043j, -0.25469882+0.96702043j],\n",
      "       [-0.25469882+0.96702043j, -0.25469882-0.96702043j]]))], [(0, array([[-0.25469882+0.96702043j, -0.25469882-0.96702043j],\n",
      "       [-0.25469882-0.96702043j, -0.25469882+0.96702043j]]))], [(0, array([[-0.25469882-0.96702043j, -0.25469882+0.96702043j],\n",
      "       [-0.25469882+0.96702043j, -0.25469882-0.96702043j]]))], [(0, array([[-0.25469882+0.96702043j, -0.25469882-0.96702043j],\n",
      "       [-0.25469882-0.96702043j, -0.25469882+0.96702043j]]))], [(0, array([[-0.25469882-0.96702043j, -0.25469882+0.96702043j],\n",
      "       [-0.25469882+0.96702043j, -0.25469882-0.96702043j]]))], [(0, array([[-0.25469882+0.96702043j, -0.25469882-0.96702043j],\n",
      "       [-0.25469882-0.96702043j, -0.25469882+0.96702043j]]))], [(0, array([[-0.25469882-0.96702043j, -0.25469882+0.96702043j],\n",
      "       [-0.25469882+0.96702043j, -0.25469882-0.96702043j]]))], [(0, array([[-0.25469882+0.96702043j, -0.25469882-0.96702043j],\n",
      "       [-0.25469882-0.96702043j, -0.25469882+0.96702043j]]))], [(0, array([[ 1.49011612e-08+0.j, -1.49011612e-08+0.j],\n",
      "       [-1.49011612e-08+0.j,  1.49011612e-08+0.j]]))]], [None], {'subscripts': 'ab,ac,de,df,ée,éf,be,cf,bè,cè,bê,cê,eë,fë,èg,èh,êi,êj,bk,cl,ëm,ën,eo,fp,éq,ér,ìq,ìr,qo,rp,qî,rî,ñg,ñh,ko,lp,kg,lh,ki,lj,om,pn,gí,hí,ïm,ïn,mò,nò,ið,jð,ió,jó,gs,ht,iu,jv,ìw,ìx,íy,íz,îA,îB,ïC,ïD,kE,lF,ðG,ðH,ñI,ñJ,mK,nL,oM,pN,òO,òP,óQ,óR,qS,rT,wú,xú,wS,xT,wö,xö,SM,TN,SA,TB,ûI,ûJ,ûA,ûB,Is,Jt,Iõ,Jõ,üC,üD,EM,FN,Es,Ft,Eu,Fv,MK,NL,sy,tz,yQ,zR,yø,zø,ôO,ôP,÷C,÷D,AG,BH,CK,DL,KO,LP,Où,Pù,uG,vH,uQ,vR,Gõ,Hõ,øQ,øR,sU,tV,ôW,ôX,õY,õZ,uÀ,vÁ,öÂ,öÃ,wÄ,xÅ,yÆ,zÇ,÷È,÷É,øÊ,øË,ùÌ,ùÍ,úÎ,úÏ,AÐ,BÑ,ûÒ,ûÓ,CÔ,DÕ,üÖ,ü×,EØ,FÙ,GÚ,HÛ,IÜ,JÝ,KÞ,Lß,Mà,Ná,Oâ,Pã,Qä,Rå,Sæ,Tç,ÄÎ,ÅÏ,Äæ,Åç,ÄÂ,ÅÃ,ÎÂ,ÏÃ,Îÿ,Ïÿ,æà,çá,æÐ,çÑ,Âý,Ãý,ÒÜ,ÓÝ,Òý,Óý,ÒÐ,ÓÑ,ÜU,ÝV,ÜY,ÝZ,ýY,ýZ,þÖ,þ×,þÈ,þÉ,þW,þX,Öÿ,×ÿ,ÖÔ,×Õ,Øà,Ùá,ØU,ÙV,ØÀ,ÙÁ,àÞ,áß,UÆ,VÇ,Æä,Çå,ÆÊ,ÇË,WÈ,XÉ,Wâ,Xã,ÈÔ,ÉÕ,ÐÚ,ÑÛ,ÿÌ,ÿÍ,ÔÞ,Õß,Þâ,ßã,âÌ,ãÍ,ÀÚ,ÁÛ,Àä,Áå,ÚY,ÛZ,ÊÌ,ËÍ,Êä,Ëå,ad->', 'dtype': <class 'complex'>, 'expr': <ContractExpression('ab,ac,de,df,ée,éf,be,cf,bè,cè,bê,cê,eë,fë,èg,èh,êi,êj,bk,cl,ëm,ën,eo,fp,éq,ér,ìq,ìr,qo,rp,qî,rî,ñg,ñh,ko,lp,kg,lh,ki,lj,om,pn,gí,hí,ïm,ïn,mò,nò,ið,jð,ió,jó,gs,ht,iu,jv,ìw,ìx,íy,íz,îA,îB,ïC,ïD,kE,lF,ðG,ðH,ñI,ñJ,mK,nL,oM,pN,òO,òP,óQ,óR,qS,rT,wú,xú,wS,xT,wö,xö,SM,TN,SA,TB,ûI,ûJ,ûA,ûB,Is,Jt,Iõ,Jõ,üC,üD,EM,FN,Es,Ft,Eu,Fv,MK,NL,sy,tz,yQ,zR,yø,zø,ôO,ôP,÷C,÷D,AG,BH,CK,DL,KO,LP,Où,Pù,uG,vH,uQ,vR,Gõ,Hõ,øQ,øR,sU,tV,ôW,ôX,õY,õZ,uÀ,vÁ,öÂ,öÃ,wÄ,xÅ,yÆ,zÇ,÷È,÷É,øÊ,øË,ùÌ,ùÍ,úÎ,úÏ,AÐ,BÑ,ûÒ,ûÓ,CÔ,DÕ,üÖ,ü×,EØ,FÙ,GÚ,HÛ,IÜ,JÝ,KÞ,Lß,Mà,Ná,Oâ,Pã,Qä,Rå,Sæ,Tç,ÄÎ,ÅÏ,Äæ,Åç,ÄÂ,ÅÃ,ÎÂ,ÏÃ,Îÿ,Ïÿ,æà,çá,æÐ,çÑ,Âý,Ãý,ÒÜ,ÓÝ,Òý,Óý,ÒÐ,ÓÑ,ÜU,ÝV,ÜY,ÝZ,ýY,ýZ,þÖ,þ×,þÈ,þÉ,þW,þX,Öÿ,×ÿ,ÖÔ,×Õ,Øà,Ùá,ØU,ÙV,ØÀ,ÙÁ,àÞ,áß,UÆ,VÇ,Æä,Çå,ÆÊ,ÇË,WÈ,XÉ,Wâ,Xã,ÈÔ,ÉÕ,ÐÚ,ÑÛ,ÿÌ,ÿÍ,ÔÞ,Õß,Þâ,ßã,âÌ,ãÍ,ÀÚ,ÁÛ,Àä,Áå,ÚY,ÛZ,ÊÌ,ËÍ,Êä,Ëå,ad->')>}, [(0, (1, 17)), (0, (-1, 17)), (0, (1, 21)), (0, (-1, 21)), (0, (2, (24, 21))), (0, (-2, (24, 21))), (0, (2, (17, 21))), (0, (-2, (17, 21))), (0, (2, (17, 0))), (0, (-2, (17, 0))), (0, (2, (17, 3))), (0, (-2, (17, 3))), (0, (2, (21, 20))), (0, (-2, (21, 20))), (0, (3, 0)), (0, (-3, 0)), (0, (3, 3)), (0, (-3, 3)), (0, (3, 17)), (0, (-3, 17)), (0, (3, 20)), (0, (-3, 20)), (0, (3, 21)), (0, (-3, 21)), (0, (3, 24)), (0, (-3, 24)), (0, (4, (6, 24))), (0, (-4, (6, 24))), (0, (4, (24, 21))), (0, (-4, (24, 21))), (0, (4, (24, 13))), (0, (-4, (24, 13))), (0, (4, (19, 0))), (0, (-4, (19, 0))), (0, (4, (17, 21))), (0, (-4, (17, 21))), (0, (4, (17, 0))), (0, (-4, (17, 0))), (0, (4, (17, 3))), (0, (-4, (17, 3))), (0, (4, (21, 20))), (0, (-4, (21, 20))), (0, (4, (0, 8))), (0, (-4, (0, 8))), (0, (4, (15, 20))), (0, (-4, (15, 20))), (0, (4, (20, 22))), (0, (-4, (20, 22))), (0, (4, (3, 18))), (0, (-4, (3, 18))), (0, (4, (3, 23))), (0, (-4, (3, 23))), (0, (5, 0)), (0, (-5, 0)), (0, (5, 3)), (0, (-5, 3)), (0, (5, 6)), (0, (-5, 6)), (0, (5, 8)), (0, (-5, 8)), (0, (5, 13)), (0, (-5, 13)), (0, (5, 15)), (0, (-5, 15)), (0, (5, 17)), (0, (-5, 17)), (0, (5, 18)), (0, (-5, 18)), (0, (5, 19)), (0, (-5, 19)), (0, (5, 20)), (0, (-5, 20)), (0, (5, 21)), (0, (-5, 21)), (0, (5, 22)), (0, (-5, 22)), (0, (5, 23)), (0, (-5, 23)), (0, (5, 24)), (0, (-5, 24)), (0, (6, (6, 12))), (0, (-6, (6, 12))), (0, (6, (6, 24))), (0, (-6, (6, 24))), (0, (6, (6, 4))), (0, (-6, (6, 4))), (0, (6, (24, 21))), (0, (-6, (24, 21))), (0, (6, (24, 13))), (0, (-6, (24, 13))), (0, (6, (14, 19))), (0, (-6, (14, 19))), (0, (6, (14, 13))), (0, (-6, (14, 13))), (0, (6, (19, 0))), (0, (-6, (19, 0))), (0, (6, (19, 2))), (0, (-6, (19, 2))), (0, (6, (16, 15))), (0, (-6, (16, 15))), (0, (6, (17, 21))), (0, (-6, (17, 21))), (0, (6, (17, 0))), (0, (-6, (17, 0))), (0, (6, (17, 3))), (0, (-6, (17, 3))), (0, (6, (21, 20))), (0, (-6, (21, 20))), (0, (6, (0, 8))), (0, (-6, (0, 8))), (0, (6, (8, 23))), (0, (-6, (8, 23))), (0, (6, (8, 10))), (0, (-6, (8, 10))), (0, (6, (1, 22))), (0, (-6, (1, 22))), (0, (6, (9, 15))), (0, (-6, (9, 15))), (0, (6, (13, 18))), (0, (-6, (13, 18))), (0, (6, (15, 20))), (0, (-6, (15, 20))), (0, (6, (20, 22))), (0, (-6, (20, 22))), (0, (6, (22, 11))), (0, (-6, (22, 11))), (0, (6, (3, 18))), (0, (-6, (3, 18))), (0, (6, (3, 23))), (0, (-6, (3, 23))), (0, (6, (18, 2))), (0, (-6, (18, 2))), (0, (6, (10, 23))), (0, (-6, (10, 23))), (0, (7, 0)), (0, (-7, 0)), (0, (7, 1)), (0, (-7, 1)), (0, (7, 2)), (0, (-7, 2)), (0, (7, 3)), (0, (-7, 3)), (0, (7, 4)), (0, (-7, 4)), (0, (7, 6)), (0, (-7, 6)), (0, (7, 8)), (0, (-7, 8)), (0, (7, 9)), (0, (-7, 9)), (0, (7, 10)), (0, (-7, 10)), (0, (7, 11)), (0, (-7, 11)), (0, (7, 12)), (0, (-7, 12)), (0, (7, 13)), (0, (-7, 13)), (0, (7, 14)), (0, (-7, 14)), (0, (7, 15)), (0, (-7, 15)), (0, (7, 16)), (0, (-7, 16)), (0, (7, 17)), (0, (-7, 17)), (0, (7, 18)), (0, (-7, 18)), (0, (7, 19)), (0, (-7, 19)), (0, (7, 20)), (0, (-7, 20)), (0, (7, 21)), (0, (-7, 21)), (0, (7, 22)), (0, (-7, 22)), (0, (7, 23)), (0, (-7, 23)), (0, (7, 24)), (0, (-7, 24)), (0, (8, (6, 12))), (0, (-8, (6, 12))), (0, (8, (6, 24))), (0, (-8, (6, 24))), (0, (8, (6, 4))), (0, (-8, (6, 4))), (0, (8, (12, 4))), (0, (-8, (12, 4))), (0, (8, (12, 7))), (0, (-8, (12, 7))), (0, (8, (24, 21))), (0, (-8, (24, 21))), (0, (8, (24, 13))), (0, (-8, (24, 13))), (0, (8, (4, 25))), (0, (-8, (4, 25))), (0, (8, (14, 19))), (0, (-8, (14, 19))), (0, (8, (14, 25))), (0, (-8, (14, 25))), (0, (8, (14, 13))), (0, (-8, (14, 13))), (0, (8, (19, 0))), (0, (-8, (19, 0))), (0, (8, (19, 2))), (0, (-8, (19, 2))), (0, (8, (25, 2))), (0, (-8, (25, 2))), (0, (8, (5, 16))), (0, (-8, (5, 16))), (0, (8, (5, 9))), (0, (-8, (5, 9))), (0, (8, (5, 1))), (0, (-8, (5, 1))), (0, (8, (16, 7))), (0, (-8, (16, 7))), (0, (8, (16, 15))), (0, (-8, (16, 15))), (0, (8, (17, 21))), (0, (-8, (17, 21))), (0, (8, (17, 0))), (0, (-8, (17, 0))), (0, (8, (17, 3))), (0, (-8, (17, 3))), (0, (8, (21, 20))), (0, (-8, (21, 20))), (0, (8, (0, 8))), (0, (-8, (0, 8))), (0, (8, (8, 23))), (0, (-8, (8, 23))), (0, (8, (8, 10))), (0, (-8, (8, 10))), (0, (8, (1, 9))), (0, (-8, (1, 9))), (0, (8, (1, 22))), (0, (-8, (1, 22))), (0, (8, (9, 15))), (0, (-8, (9, 15))), (0, (8, (13, 18))), (0, (-8, (13, 18))), (0, (8, (7, 11))), (0, (-8, (7, 11))), (0, (8, (15, 20))), (0, (-8, (15, 20))), (0, (8, (20, 22))), (0, (-8, (20, 22))), (0, (8, (22, 11))), (0, (-8, (22, 11))), (0, (8, (3, 18))), (0, (-8, (3, 18))), (0, (8, (3, 23))), (0, (-8, (3, 23))), (0, (8, (18, 2))), (0, (-8, (18, 2))), (0, (8, (10, 11))), (0, (-8, (10, 11))), (0, (8, (10, 23))), (0, (-8, (10, 23))), (0, (0, (17, 21)))])\n",
      "Exception Internal error while evaluating `ContractExpression`. Note that few checks are performed - the number and rank of the array arguments must match the original expression. The internal error was: '('too many subscripts in einsum',)'\n",
      "Preprocessing for energy query...\n"
     ]
    },
    {
     "name": "stderr",
     "output_type": "stream",
     "text": [
      " 18%|█▊        | 11/60 [00:02<00:09,  5.44it/s]\n",
      "  0%|          | 0/96 [00:00<?, ?it/s]"
     ]
    },
    {
     "name": "stdout",
     "output_type": "stream",
     "text": [
      "Exception The contraction cannot be done on the current machine. Try finding a more space-efficient order, or slice the order to fit in the memory.\n",
      "Preprocessing for energy query...\n"
     ]
    },
    {
     "name": "stderr",
     "output_type": "stream",
     "text": [
      "100%|██████████| 96/96 [00:19<00:00,  5.05it/s]\n",
      "  1%|          | 1/96 [00:00<00:14,  6.47it/s]"
     ]
    },
    {
     "name": "stdout",
     "output_type": "stream",
     "text": [
      "Preprocessing time for queries: 19.009272813796997\n"
     ]
    },
    {
     "name": "stderr",
     "output_type": "stream",
     "text": [
      "100%|██████████| 96/96 [14:10<00:00,  8.86s/it]\n",
      "  0%|          | 0/159 [00:00<?, ?it/s]"
     ]
    },
    {
     "name": "stdout",
     "output_type": "stream",
     "text": [
      "E([-0.7146339364779918, -1.6578932707530583, -1.3890503883645082, -0.9163866649717195, 1.16933144309079, -0.6333905421104279, 0.5213054549657308, 2.6732400763258357]) = (13.420008694754705+5.899105865358965e-17j)\n",
      "Preprocessing for energy query...\n"
     ]
    },
    {
     "name": "stderr",
     "output_type": "stream",
     "text": [
      "100%|██████████| 159/159 [00:28<00:00,  5.52it/s]\n",
      "  1%|          | 1/159 [00:00<00:17,  9.11it/s]"
     ]
    },
    {
     "name": "stdout",
     "output_type": "stream",
     "text": [
      "Preprocessing time for queries: 28.800888776779175\n"
     ]
    },
    {
     "name": "stderr",
     "output_type": "stream",
     "text": [
      "100%|██████████| 159/159 [02:58<00:00,  1.12s/it]\n"
     ]
    },
    {
     "name": "stdout",
     "output_type": "stream",
     "text": [
      "E([-0.28062117368604056, -1.0669965156011905, -0.9169196414498711, 0.8872064562164675, -0.7322596766037343, -1.4621240467020595, -0.8054012694149304, -0.7648818842510148]) = (-0.27120877103109403+1.670393669946225e-17j)\n"
     ]
    },
    {
     "data": {
      "application/vnd.jupyter.widget-view+json": {
       "model_id": "12e50fa6f96f46ee96805b111ca00f29",
       "version_major": 2,
       "version_minor": 0
      },
      "text/plain": [
       "HBox(children=(HTML(value=''), FloatProgress(value=0.0, max=159.0), HTML(value='')))"
      ]
     },
     "metadata": {},
     "output_type": "display_data"
    },
    {
     "name": "stdout",
     "output_type": "stream",
     "text": [
      "\n"
     ]
    },
    {
     "data": {
      "application/vnd.jupyter.widget-view+json": {
       "model_id": "5176a50b51d0440bb54747142a228a84",
       "version_major": 2,
       "version_minor": 0
      },
      "text/plain": [
       "HBox(children=(HTML(value=''), FloatProgress(value=0.0, max=159.0), HTML(value='')))"
      ]
     },
     "metadata": {},
     "output_type": "display_data"
    },
    {
     "name": "stderr",
     "output_type": "stream",
     "text": [
      "\r",
      "  0%|          | 0/273 [00:00<?, ?it/s]"
     ]
    },
    {
     "name": "stdout",
     "output_type": "stream",
     "text": [
      "\n",
      "Preprocessing for energy query...\n"
     ]
    },
    {
     "name": "stderr",
     "output_type": "stream",
     "text": [
      "100%|██████████| 273/273 [00:52<00:00,  5.17it/s]\n",
      "  0%|          | 0/273 [00:00<?, ?it/s]"
     ]
    },
    {
     "name": "stdout",
     "output_type": "stream",
     "text": [
      "Preprocessing time for queries: 52.85286283493042\n"
     ]
    },
    {
     "name": "stderr",
     "output_type": "stream",
     "text": [
      "100%|██████████| 273/273 [00:48<00:00,  5.68it/s]\n"
     ]
    },
    {
     "name": "stdout",
     "output_type": "stream",
     "text": [
      "E([-0.7539750057597379, -0.6541611390912333, 0.6077986314106315, -0.42415440100698804, -0.6394391855859894, 0.34413015440606554, -1.8033342540970552, -0.8745429663578702]) = (0.7783353745074225+1.1359742432680727e-15j)\n"
     ]
    },
    {
     "data": {
      "application/vnd.jupyter.widget-view+json": {
       "model_id": "b136da016e174d5b825e9284439768e7",
       "version_major": 2,
       "version_minor": 0
      },
      "text/plain": [
       "HBox(children=(HTML(value=''), FloatProgress(value=0.0, max=273.0), HTML(value='')))"
      ]
     },
     "metadata": {},
     "output_type": "display_data"
    },
    {
     "name": "stdout",
     "output_type": "stream",
     "text": [
      "\n"
     ]
    },
    {
     "data": {
      "application/vnd.jupyter.widget-view+json": {
       "model_id": "b1f806f18172495694f632d593dd13e5",
       "version_major": 2,
       "version_minor": 0
      },
      "text/plain": [
       "HBox(children=(HTML(value=''), FloatProgress(value=0.0, max=273.0), HTML(value='')))"
      ]
     },
     "metadata": {},
     "output_type": "display_data"
    },
    {
     "name": "stdout",
     "output_type": "stream",
     "text": [
      "\n",
      "\n",
      "_dimcount 3\n"
     ]
    },
    {
     "data": {
      "text/html": [
       "<div><svg style=\"position: absolute; width: 0; height: 0; overflow: hidden\">\n",
       "<defs>\n",
       "<symbol id=\"icon-database\" viewBox=\"0 0 32 32\">\n",
       "<path d=\"M16 0c-8.837 0-16 2.239-16 5v4c0 2.761 7.163 5 16 5s16-2.239 16-5v-4c0-2.761-7.163-5-16-5z\"></path>\n",
       "<path d=\"M16 17c-8.837 0-16-2.239-16-5v6c0 2.761 7.163 5 16 5s16-2.239 16-5v-6c0 2.761-7.163 5-16 5z\"></path>\n",
       "<path d=\"M16 26c-8.837 0-16-2.239-16-5v6c0 2.761 7.163 5 16 5s16-2.239 16-5v-6c0 2.761-7.163 5-16 5z\"></path>\n",
       "</symbol>\n",
       "<symbol id=\"icon-file-text2\" viewBox=\"0 0 32 32\">\n",
       "<path d=\"M28.681 7.159c-0.694-0.947-1.662-2.053-2.724-3.116s-2.169-2.030-3.116-2.724c-1.612-1.182-2.393-1.319-2.841-1.319h-15.5c-1.378 0-2.5 1.121-2.5 2.5v27c0 1.378 1.122 2.5 2.5 2.5h23c1.378 0 2.5-1.122 2.5-2.5v-19.5c0-0.448-0.137-1.23-1.319-2.841zM24.543 5.457c0.959 0.959 1.712 1.825 2.268 2.543h-4.811v-4.811c0.718 0.556 1.584 1.309 2.543 2.268zM28 29.5c0 0.271-0.229 0.5-0.5 0.5h-23c-0.271 0-0.5-0.229-0.5-0.5v-27c0-0.271 0.229-0.5 0.5-0.5 0 0 15.499-0 15.5 0v7c0 0.552 0.448 1 1 1h7v19.5z\"></path>\n",
       "<path d=\"M23 26h-14c-0.552 0-1-0.448-1-1s0.448-1 1-1h14c0.552 0 1 0.448 1 1s-0.448 1-1 1z\"></path>\n",
       "<path d=\"M23 22h-14c-0.552 0-1-0.448-1-1s0.448-1 1-1h14c0.552 0 1 0.448 1 1s-0.448 1-1 1z\"></path>\n",
       "<path d=\"M23 18h-14c-0.552 0-1-0.448-1-1s0.448-1 1-1h14c0.552 0 1 0.448 1 1s-0.448 1-1 1z\"></path>\n",
       "</symbol>\n",
       "</defs>\n",
       "</svg>\n",
       "<style>/* CSS stylesheet for displaying xarray objects in jupyterlab.\n",
       " *\n",
       " */\n",
       "\n",
       ":root {\n",
       "  --xr-font-color0: var(--jp-content-font-color0, rgba(0, 0, 0, 1));\n",
       "  --xr-font-color2: var(--jp-content-font-color2, rgba(0, 0, 0, 0.54));\n",
       "  --xr-font-color3: var(--jp-content-font-color3, rgba(0, 0, 0, 0.38));\n",
       "  --xr-border-color: var(--jp-border-color2, #e0e0e0);\n",
       "  --xr-disabled-color: var(--jp-layout-color3, #bdbdbd);\n",
       "  --xr-background-color: var(--jp-layout-color0, white);\n",
       "  --xr-background-color-row-even: var(--jp-layout-color1, white);\n",
       "  --xr-background-color-row-odd: var(--jp-layout-color2, #eeeeee);\n",
       "}\n",
       "\n",
       "html[theme=dark],\n",
       "body.vscode-dark {\n",
       "  --xr-font-color0: rgba(255, 255, 255, 1);\n",
       "  --xr-font-color2: rgba(255, 255, 255, 0.54);\n",
       "  --xr-font-color3: rgba(255, 255, 255, 0.38);\n",
       "  --xr-border-color: #1F1F1F;\n",
       "  --xr-disabled-color: #515151;\n",
       "  --xr-background-color: #111111;\n",
       "  --xr-background-color-row-even: #111111;\n",
       "  --xr-background-color-row-odd: #313131;\n",
       "}\n",
       "\n",
       ".xr-wrap {\n",
       "  display: block;\n",
       "  min-width: 300px;\n",
       "  max-width: 700px;\n",
       "}\n",
       "\n",
       ".xr-text-repr-fallback {\n",
       "  /* fallback to plain text repr when CSS is not injected (untrusted notebook) */\n",
       "  display: none;\n",
       "}\n",
       "\n",
       ".xr-header {\n",
       "  padding-top: 6px;\n",
       "  padding-bottom: 6px;\n",
       "  margin-bottom: 4px;\n",
       "  border-bottom: solid 1px var(--xr-border-color);\n",
       "}\n",
       "\n",
       ".xr-header > div,\n",
       ".xr-header > ul {\n",
       "  display: inline;\n",
       "  margin-top: 0;\n",
       "  margin-bottom: 0;\n",
       "}\n",
       "\n",
       ".xr-obj-type,\n",
       ".xr-array-name {\n",
       "  margin-left: 2px;\n",
       "  margin-right: 10px;\n",
       "}\n",
       "\n",
       ".xr-obj-type {\n",
       "  color: var(--xr-font-color2);\n",
       "}\n",
       "\n",
       ".xr-sections {\n",
       "  padding-left: 0 !important;\n",
       "  display: grid;\n",
       "  grid-template-columns: 150px auto auto 1fr 20px 20px;\n",
       "}\n",
       "\n",
       ".xr-section-item {\n",
       "  display: contents;\n",
       "}\n",
       "\n",
       ".xr-section-item input {\n",
       "  display: none;\n",
       "}\n",
       "\n",
       ".xr-section-item input + label {\n",
       "  color: var(--xr-disabled-color);\n",
       "}\n",
       "\n",
       ".xr-section-item input:enabled + label {\n",
       "  cursor: pointer;\n",
       "  color: var(--xr-font-color2);\n",
       "}\n",
       "\n",
       ".xr-section-item input:enabled + label:hover {\n",
       "  color: var(--xr-font-color0);\n",
       "}\n",
       "\n",
       ".xr-section-summary {\n",
       "  grid-column: 1;\n",
       "  color: var(--xr-font-color2);\n",
       "  font-weight: 500;\n",
       "}\n",
       "\n",
       ".xr-section-summary > span {\n",
       "  display: inline-block;\n",
       "  padding-left: 0.5em;\n",
       "}\n",
       "\n",
       ".xr-section-summary-in:disabled + label {\n",
       "  color: var(--xr-font-color2);\n",
       "}\n",
       "\n",
       ".xr-section-summary-in + label:before {\n",
       "  display: inline-block;\n",
       "  content: '►';\n",
       "  font-size: 11px;\n",
       "  width: 15px;\n",
       "  text-align: center;\n",
       "}\n",
       "\n",
       ".xr-section-summary-in:disabled + label:before {\n",
       "  color: var(--xr-disabled-color);\n",
       "}\n",
       "\n",
       ".xr-section-summary-in:checked + label:before {\n",
       "  content: '▼';\n",
       "}\n",
       "\n",
       ".xr-section-summary-in:checked + label > span {\n",
       "  display: none;\n",
       "}\n",
       "\n",
       ".xr-section-summary,\n",
       ".xr-section-inline-details {\n",
       "  padding-top: 4px;\n",
       "  padding-bottom: 4px;\n",
       "}\n",
       "\n",
       ".xr-section-inline-details {\n",
       "  grid-column: 2 / -1;\n",
       "}\n",
       "\n",
       ".xr-section-details {\n",
       "  display: none;\n",
       "  grid-column: 1 / -1;\n",
       "  margin-bottom: 5px;\n",
       "}\n",
       "\n",
       ".xr-section-summary-in:checked ~ .xr-section-details {\n",
       "  display: contents;\n",
       "}\n",
       "\n",
       ".xr-array-wrap {\n",
       "  grid-column: 1 / -1;\n",
       "  display: grid;\n",
       "  grid-template-columns: 20px auto;\n",
       "}\n",
       "\n",
       ".xr-array-wrap > label {\n",
       "  grid-column: 1;\n",
       "  vertical-align: top;\n",
       "}\n",
       "\n",
       ".xr-preview {\n",
       "  color: var(--xr-font-color3);\n",
       "}\n",
       "\n",
       ".xr-array-preview,\n",
       ".xr-array-data {\n",
       "  padding: 0 5px !important;\n",
       "  grid-column: 2;\n",
       "}\n",
       "\n",
       ".xr-array-data,\n",
       ".xr-array-in:checked ~ .xr-array-preview {\n",
       "  display: none;\n",
       "}\n",
       "\n",
       ".xr-array-in:checked ~ .xr-array-data,\n",
       ".xr-array-preview {\n",
       "  display: inline-block;\n",
       "}\n",
       "\n",
       ".xr-dim-list {\n",
       "  display: inline-block !important;\n",
       "  list-style: none;\n",
       "  padding: 0 !important;\n",
       "  margin: 0;\n",
       "}\n",
       "\n",
       ".xr-dim-list li {\n",
       "  display: inline-block;\n",
       "  padding: 0;\n",
       "  margin: 0;\n",
       "}\n",
       "\n",
       ".xr-dim-list:before {\n",
       "  content: '(';\n",
       "}\n",
       "\n",
       ".xr-dim-list:after {\n",
       "  content: ')';\n",
       "}\n",
       "\n",
       ".xr-dim-list li:not(:last-child):after {\n",
       "  content: ',';\n",
       "  padding-right: 5px;\n",
       "}\n",
       "\n",
       ".xr-has-index {\n",
       "  font-weight: bold;\n",
       "}\n",
       "\n",
       ".xr-var-list,\n",
       ".xr-var-item {\n",
       "  display: contents;\n",
       "}\n",
       "\n",
       ".xr-var-item > div,\n",
       ".xr-var-item label,\n",
       ".xr-var-item > .xr-var-name span {\n",
       "  background-color: var(--xr-background-color-row-even);\n",
       "  margin-bottom: 0;\n",
       "}\n",
       "\n",
       ".xr-var-item > .xr-var-name:hover span {\n",
       "  padding-right: 5px;\n",
       "}\n",
       "\n",
       ".xr-var-list > li:nth-child(odd) > div,\n",
       ".xr-var-list > li:nth-child(odd) > label,\n",
       ".xr-var-list > li:nth-child(odd) > .xr-var-name span {\n",
       "  background-color: var(--xr-background-color-row-odd);\n",
       "}\n",
       "\n",
       ".xr-var-name {\n",
       "  grid-column: 1;\n",
       "}\n",
       "\n",
       ".xr-var-dims {\n",
       "  grid-column: 2;\n",
       "}\n",
       "\n",
       ".xr-var-dtype {\n",
       "  grid-column: 3;\n",
       "  text-align: right;\n",
       "  color: var(--xr-font-color2);\n",
       "}\n",
       "\n",
       ".xr-var-preview {\n",
       "  grid-column: 4;\n",
       "}\n",
       "\n",
       ".xr-var-name,\n",
       ".xr-var-dims,\n",
       ".xr-var-dtype,\n",
       ".xr-preview,\n",
       ".xr-attrs dt {\n",
       "  white-space: nowrap;\n",
       "  overflow: hidden;\n",
       "  text-overflow: ellipsis;\n",
       "  padding-right: 10px;\n",
       "}\n",
       "\n",
       ".xr-var-name:hover,\n",
       ".xr-var-dims:hover,\n",
       ".xr-var-dtype:hover,\n",
       ".xr-attrs dt:hover {\n",
       "  overflow: visible;\n",
       "  width: auto;\n",
       "  z-index: 1;\n",
       "}\n",
       "\n",
       ".xr-var-attrs,\n",
       ".xr-var-data {\n",
       "  display: none;\n",
       "  background-color: var(--xr-background-color) !important;\n",
       "  padding-bottom: 5px !important;\n",
       "}\n",
       "\n",
       ".xr-var-attrs-in:checked ~ .xr-var-attrs,\n",
       ".xr-var-data-in:checked ~ .xr-var-data {\n",
       "  display: block;\n",
       "}\n",
       "\n",
       ".xr-var-data > table {\n",
       "  float: right;\n",
       "}\n",
       "\n",
       ".xr-var-name span,\n",
       ".xr-var-data,\n",
       ".xr-attrs {\n",
       "  padding-left: 25px !important;\n",
       "}\n",
       "\n",
       ".xr-attrs,\n",
       ".xr-var-attrs,\n",
       ".xr-var-data {\n",
       "  grid-column: 1 / -1;\n",
       "}\n",
       "\n",
       "dl.xr-attrs {\n",
       "  padding: 0;\n",
       "  margin: 0;\n",
       "  display: grid;\n",
       "  grid-template-columns: 125px auto;\n",
       "}\n",
       "\n",
       ".xr-attrs dt, dd {\n",
       "  padding: 0;\n",
       "  margin: 0;\n",
       "  float: left;\n",
       "  padding-right: 10px;\n",
       "  width: auto;\n",
       "}\n",
       "\n",
       ".xr-attrs dt {\n",
       "  font-weight: normal;\n",
       "  grid-column: 1;\n",
       "}\n",
       "\n",
       ".xr-attrs dt:hover span {\n",
       "  display: inline-block;\n",
       "  background: var(--xr-background-color);\n",
       "  padding-right: 10px;\n",
       "}\n",
       "\n",
       ".xr-attrs dd {\n",
       "  grid-column: 2;\n",
       "  white-space: pre-wrap;\n",
       "  word-break: break-all;\n",
       "}\n",
       "\n",
       ".xr-icon-database,\n",
       ".xr-icon-file-text2 {\n",
       "  display: inline-block;\n",
       "  vertical-align: middle;\n",
       "  width: 1em;\n",
       "  height: 1.5em !important;\n",
       "  stroke-width: 0;\n",
       "  stroke: currentColor;\n",
       "  fill: currentColor;\n",
       "}\n",
       "</style><pre class='xr-text-repr-fallback'>&lt;xarray.DataArray (varname: 3, p: 3, N: 9)&gt;\n",
       "array([[[0.4141528606414795, 0.4294466972351074, 0.44785046577453613,\n",
       "         0.45202112197875977, 0.47057676315307617, 0.49799561500549316,\n",
       "         0.5493118762969971, 0.6811766624450684, 0.8248779773712158],\n",
       "        [0.4631826877593994, 0.5265576839447021, 0.5384366512298584,\n",
       "         0.5805747509002686, 0.6007285118103027, 0.7623679637908936,\n",
       "         0.8984177112579346, 1.326380968093872, 1.780289649963379],\n",
       "        [0.6110918521881104, 0.6834065914154053, 1.0001606941223145,\n",
       "         6.728485822677612, 1.417675256729126, 4.814037084579468,\n",
       "         2.9536478519439697, 3.5474908351898193, 4.832934379577637]],\n",
       "\n",
       "       [[0.853773832321167, 0.8594746589660645, 0.8932580947875977,\n",
       "         1.00437593460083, 1.407236099243164, 1.467494249343872,\n",
       "         2.436371326446533, 5.325958490371704, 12.905457735061646],\n",
       "        [0.872220516204834, 0.9501066207885742, 0.9568071365356445,\n",
       "         1.4102864265441895, 1.8343234062194824, 1.6941251754760742,\n",
       "         3.292548179626465, 6.8518359661102295, 19.521596431732178],\n",
       "        [1.097529649734497, 1.198817253112793, 2.0999228954315186, None,\n",
       "         32.586326122283936, None, None, 24.776636362075806,\n",
       "         31.506675481796265]],\n",
       "\n",
       "       [[0.39375805854797363, 0.46189045906066895, 0.5184328556060791,\n",
       "         0.7293896675109863, 1.3053584098815918, 1.605071783065796,\n",
       "         2.5494463443756104, 4.692929267883301, 8.133355855941772],\n",
       "        [0.932262659072876, 1.211482048034668, 1.4285502433776855,\n",
       "         3.0575523376464844, 3.390338659286499, 5.585901737213135,\n",
       "         7.661188364028931, 12.540937423706055, 22.393937826156616],\n",
       "        [1.91526198387146, 8.41214656829834, 110.15074467658997, None,\n",
       "         None, None, 869.7970194816589, 207.59811878204346,\n",
       "         101.07938480377197]]], dtype=object)\n",
       "Coordinates:\n",
       "  * varname  (varname) &lt;U12 &#x27;qtensor_time&#x27; &#x27;quimb_time&#x27; &#x27;acqdp_time&#x27;\n",
       "  * p        (p) int64 2 3 4\n",
       "  * N        (N) int64 10 12 14 18 26 40 64 106 182</pre><div class='xr-wrap' hidden><div class='xr-header'><div class='xr-obj-type'>xarray.DataArray</div><div class='xr-array-name'></div><ul class='xr-dim-list'><li><span class='xr-has-index'>varname</span>: 3</li><li><span class='xr-has-index'>p</span>: 3</li><li><span class='xr-has-index'>N</span>: 9</li></ul></div><ul class='xr-sections'><li class='xr-section-item'><div class='xr-array-wrap'><input id='section-9f800b9c-416e-420f-a5e6-192150d8c622' class='xr-array-in' type='checkbox' checked><label for='section-9f800b9c-416e-420f-a5e6-192150d8c622' title='Show/hide data repr'><svg class='icon xr-icon-database'><use xlink:href='#icon-database'></use></svg></label><div class='xr-array-preview xr-preview'><span>0.4142 0.4294 0.4479 0.452 0.4706 ... None None 869.8 207.6 101.1</span></div><div class='xr-array-data'><pre>array([[[0.4141528606414795, 0.4294466972351074, 0.44785046577453613,\n",
       "         0.45202112197875977, 0.47057676315307617, 0.49799561500549316,\n",
       "         0.5493118762969971, 0.6811766624450684, 0.8248779773712158],\n",
       "        [0.4631826877593994, 0.5265576839447021, 0.5384366512298584,\n",
       "         0.5805747509002686, 0.6007285118103027, 0.7623679637908936,\n",
       "         0.8984177112579346, 1.326380968093872, 1.780289649963379],\n",
       "        [0.6110918521881104, 0.6834065914154053, 1.0001606941223145,\n",
       "         6.728485822677612, 1.417675256729126, 4.814037084579468,\n",
       "         2.9536478519439697, 3.5474908351898193, 4.832934379577637]],\n",
       "\n",
       "       [[0.853773832321167, 0.8594746589660645, 0.8932580947875977,\n",
       "         1.00437593460083, 1.407236099243164, 1.467494249343872,\n",
       "         2.436371326446533, 5.325958490371704, 12.905457735061646],\n",
       "        [0.872220516204834, 0.9501066207885742, 0.9568071365356445,\n",
       "         1.4102864265441895, 1.8343234062194824, 1.6941251754760742,\n",
       "         3.292548179626465, 6.8518359661102295, 19.521596431732178],\n",
       "        [1.097529649734497, 1.198817253112793, 2.0999228954315186, None,\n",
       "         32.586326122283936, None, None, 24.776636362075806,\n",
       "         31.506675481796265]],\n",
       "\n",
       "       [[0.39375805854797363, 0.46189045906066895, 0.5184328556060791,\n",
       "         0.7293896675109863, 1.3053584098815918, 1.605071783065796,\n",
       "         2.5494463443756104, 4.692929267883301, 8.133355855941772],\n",
       "        [0.932262659072876, 1.211482048034668, 1.4285502433776855,\n",
       "         3.0575523376464844, 3.390338659286499, 5.585901737213135,\n",
       "         7.661188364028931, 12.540937423706055, 22.393937826156616],\n",
       "        [1.91526198387146, 8.41214656829834, 110.15074467658997, None,\n",
       "         None, None, 869.7970194816589, 207.59811878204346,\n",
       "         101.07938480377197]]], dtype=object)</pre></div></div></li><li class='xr-section-item'><input id='section-ec6f8813-48e3-4449-ba14-816e1abc7ecc' class='xr-section-summary-in' type='checkbox'  checked><label for='section-ec6f8813-48e3-4449-ba14-816e1abc7ecc' class='xr-section-summary' >Coordinates: <span>(3)</span></label><div class='xr-section-inline-details'></div><div class='xr-section-details'><ul class='xr-var-list'><li class='xr-var-item'><div class='xr-var-name'><span class='xr-has-index'>varname</span></div><div class='xr-var-dims'>(varname)</div><div class='xr-var-dtype'>&lt;U12</div><div class='xr-var-preview xr-preview'>&#x27;qtensor_time&#x27; ... &#x27;acqdp_time&#x27;</div><input id='attrs-d22edf33-7dc8-4cff-82e0-61de62386930' class='xr-var-attrs-in' type='checkbox' disabled><label for='attrs-d22edf33-7dc8-4cff-82e0-61de62386930' title='Show/Hide attributes'><svg class='icon xr-icon-file-text2'><use xlink:href='#icon-file-text2'></use></svg></label><input id='data-965606c0-1816-4a35-bf5c-22239751761d' class='xr-var-data-in' type='checkbox'><label for='data-965606c0-1816-4a35-bf5c-22239751761d' title='Show/Hide data repr'><svg class='icon xr-icon-database'><use xlink:href='#icon-database'></use></svg></label><div class='xr-var-attrs'><dl class='xr-attrs'></dl></div><div class='xr-var-data'><pre>array([&#x27;qtensor_time&#x27;, &#x27;quimb_time&#x27;, &#x27;acqdp_time&#x27;], dtype=&#x27;&lt;U12&#x27;)</pre></div></li><li class='xr-var-item'><div class='xr-var-name'><span class='xr-has-index'>p</span></div><div class='xr-var-dims'>(p)</div><div class='xr-var-dtype'>int64</div><div class='xr-var-preview xr-preview'>2 3 4</div><input id='attrs-90260cf7-7a73-4dbb-9cf6-bff07618fd48' class='xr-var-attrs-in' type='checkbox' disabled><label for='attrs-90260cf7-7a73-4dbb-9cf6-bff07618fd48' title='Show/Hide attributes'><svg class='icon xr-icon-file-text2'><use xlink:href='#icon-file-text2'></use></svg></label><input id='data-afc5febb-eae0-413d-a7db-3d5d07967fc5' class='xr-var-data-in' type='checkbox'><label for='data-afc5febb-eae0-413d-a7db-3d5d07967fc5' title='Show/Hide data repr'><svg class='icon xr-icon-database'><use xlink:href='#icon-database'></use></svg></label><div class='xr-var-attrs'><dl class='xr-attrs'></dl></div><div class='xr-var-data'><pre>array([2, 3, 4])</pre></div></li><li class='xr-var-item'><div class='xr-var-name'><span class='xr-has-index'>N</span></div><div class='xr-var-dims'>(N)</div><div class='xr-var-dtype'>int64</div><div class='xr-var-preview xr-preview'>10 12 14 18 26 40 64 106 182</div><input id='attrs-ae897476-94aa-4516-9b46-50bd39b30207' class='xr-var-attrs-in' type='checkbox' disabled><label for='attrs-ae897476-94aa-4516-9b46-50bd39b30207' title='Show/Hide attributes'><svg class='icon xr-icon-file-text2'><use xlink:href='#icon-file-text2'></use></svg></label><input id='data-58ac75a9-013f-4153-8aea-e774cb86645b' class='xr-var-data-in' type='checkbox'><label for='data-58ac75a9-013f-4153-8aea-e774cb86645b' title='Show/Hide data repr'><svg class='icon xr-icon-database'><use xlink:href='#icon-database'></use></svg></label><div class='xr-var-attrs'><dl class='xr-attrs'></dl></div><div class='xr-var-data'><pre>array([ 10,  12,  14,  18,  26,  40,  64, 106, 182])</pre></div></li></ul></div></li><li class='xr-section-item'><input id='section-4e9e1247-7356-4801-a703-bbbdd6905ff8' class='xr-section-summary-in' type='checkbox' disabled ><label for='section-4e9e1247-7356-4801-a703-bbbdd6905ff8' class='xr-section-summary'  title='Expand/collapse section'>Attributes: <span>(0)</span></label><div class='xr-section-inline-details'></div><div class='xr-section-details'><dl class='xr-attrs'></dl></div></li></ul></div></div>"
      ],
      "text/plain": [
       "<xarray.DataArray (varname: 3, p: 3, N: 9)>\n",
       "array([[[0.4141528606414795, 0.4294466972351074, 0.44785046577453613,\n",
       "         0.45202112197875977, 0.47057676315307617, 0.49799561500549316,\n",
       "         0.5493118762969971, 0.6811766624450684, 0.8248779773712158],\n",
       "        [0.4631826877593994, 0.5265576839447021, 0.5384366512298584,\n",
       "         0.5805747509002686, 0.6007285118103027, 0.7623679637908936,\n",
       "         0.8984177112579346, 1.326380968093872, 1.780289649963379],\n",
       "        [0.6110918521881104, 0.6834065914154053, 1.0001606941223145,\n",
       "         6.728485822677612, 1.417675256729126, 4.814037084579468,\n",
       "         2.9536478519439697, 3.5474908351898193, 4.832934379577637]],\n",
       "\n",
       "       [[0.853773832321167, 0.8594746589660645, 0.8932580947875977,\n",
       "         1.00437593460083, 1.407236099243164, 1.467494249343872,\n",
       "         2.436371326446533, 5.325958490371704, 12.905457735061646],\n",
       "        [0.872220516204834, 0.9501066207885742, 0.9568071365356445,\n",
       "         1.4102864265441895, 1.8343234062194824, 1.6941251754760742,\n",
       "         3.292548179626465, 6.8518359661102295, 19.521596431732178],\n",
       "        [1.097529649734497, 1.198817253112793, 2.0999228954315186, None,\n",
       "         32.586326122283936, None, None, 24.776636362075806,\n",
       "         31.506675481796265]],\n",
       "\n",
       "       [[0.39375805854797363, 0.46189045906066895, 0.5184328556060791,\n",
       "         0.7293896675109863, 1.3053584098815918, 1.605071783065796,\n",
       "         2.5494463443756104, 4.692929267883301, 8.133355855941772],\n",
       "        [0.932262659072876, 1.211482048034668, 1.4285502433776855,\n",
       "         3.0575523376464844, 3.390338659286499, 5.585901737213135,\n",
       "         7.661188364028931, 12.540937423706055, 22.393937826156616],\n",
       "        [1.91526198387146, 8.41214656829834, 110.15074467658997, None,\n",
       "         None, None, 869.7970194816589, 207.59811878204346,\n",
       "         101.07938480377197]]], dtype=object)\n",
       "Coordinates:\n",
       "  * varname  (varname) <U12 'qtensor_time' 'quimb_time' 'acqdp_time'\n",
       "  * p        (p) int64 2 3 4\n",
       "  * N        (N) int64 10 12 14 18 26 40 64 106 182"
      ]
     },
     "execution_count": 34,
     "metadata": {},
     "output_type": "execute_result"
    }
   ],
   "source": [
    "Ns = 2*(.5*np.pi**(np.arange(0, 12)/2)).astype(np.int) + 10\n",
    "Ns = Ns[1:10]\n",
    "\n",
    "ps = [2, 3, 4]\n",
    "xar = gen_time_data(Ns, ps, n_processes=[56],\n",
    "                    qtn_ordering_algo=['rgreedy_0.02_10'], quimb_optimizer_time=[1.])\n",
    "xar"
   ]
  },
  {
   "cell_type": "markdown",
   "metadata": {},
   "source": [
    "## Read data"
   ]
  },
  {
   "cell_type": "code",
   "execution_count": 66,
   "metadata": {
    "ExecuteTime": {
     "end_time": "2020-11-16T01:27:29.361447Z",
     "start_time": "2020-11-16T01:27:29.302927Z"
    }
   },
   "outputs": [],
   "source": [
    "import xarray\n",
    "xar = xarray.load_dataarray('../../../second_try.nc')"
   ]
  },
  {
   "cell_type": "markdown",
   "metadata": {
    "ExecuteTime": {
     "end_time": "2020-11-13T04:40:33.680995Z",
     "start_time": "2020-11-13T04:40:33.649040Z"
    }
   },
   "source": [
    "## Plot comparisons\n"
   ]
  },
  {
   "cell_type": "code",
   "execution_count": 70,
   "metadata": {
    "ExecuteTime": {
     "end_time": "2020-11-16T01:32:40.149002Z",
     "start_time": "2020-11-16T01:32:38.950823Z"
    },
    "scrolled": false
   },
   "outputs": [
    {
     "data": {
      "application/vnd.jupyter.widget-view+json": {
       "model_id": "e3c9e9cb645a467cb6326413fbc179b2",
       "version_major": 2,
       "version_minor": 0
      },
      "text/plain": [
       "HBox(children=(FloatProgress(value=0.0, max=99.0), HTML(value='')))"
      ]
     },
     "metadata": {},
     "output_type": "display_data"
    },
    {
     "name": "stdout",
     "output_type": "stream",
     "text": [
      "\n"
     ]
    },
    {
     "data": {
      "text/plain": [
       "Text(0.5, 0.98, 'Time for single energy query on a single Skylake node')"
      ]
     },
     "execution_count": 70,
     "metadata": {},
     "output_type": "execute_result"
    },
    {
     "data": {
      "image/png": "[encoded data removed]",
      "text/plain": [
       "<Figure size 1200x300 with 3 Axes>"
      ]
     },
     "metadata": {
      "needs_background": "light"
     },
     "output_type": "display_data"
    }
   ],
   "source": [
    "xar_tr = xar.transpose('p', 'varname', 'N')\n",
    "#xar_tr = xar_tr.rename({'varname':'lib'})\n",
    "fig = ex.plot_xarray(xar_tr)"
   ]
  },
  {
   "cell_type": "code",
   "execution_count": null,
   "metadata": {},
   "outputs": [],
   "source": []
  },
  {
   "cell_type": "code",
   "execution_count": 21,
   "metadata": {
    "ExecuteTime": {
     "end_time": "2020-11-16T06:03:32.997149Z",
     "start_time": "2020-11-16T06:03:32.817806Z"
    },
    "scrolled": false
   },
   "outputs": [],
   "source": [
    "#export\n",
    "def plot_xar_data(xar_orig):\n",
    "    xar = xar_orig.transpose('p', 'varname', 'N')\n",
    "    def custom_plot(x, y, **kwargs):\n",
    "        plt.plot(x, y, '*-', **kwargs)\n",
    "        plt.yscale('log')\n",
    "        plt.xscale('log', base=2)\n",
    "    fig = ex.plot_xarray(xar, plot_func=custom_plot)\n",
    "\n",
    "    axes = fig.axes\n",
    "    axes[0].get_shared_y_axes().join(*axes)\n",
    "    axes[0].get_shared_x_axes().join(*axes)\n",
    "    ps = [x.data for x in xar.coords['p']]\n",
    "\n",
    "\n",
    "    [ax.autoscale() for ax in axes]\n",
    "    [ax.set_ylabel('Time, sec') for ax in axes]\n",
    "    [ax.set_title(x) for ax, x in zip(axes, [f\"p = {p}\" for p in ps])]\n",
    "    fig.suptitle('Time for single energy query on a single Skylake node', fontfamily='serif', style='italic')\n",
    "    fig.set_size_inches(10.5, 4.5)\n",
    "    fig.tight_layout(rect=[0, 0.03, 1, 0.98])\n"
   ]
  },
  {
   "cell_type": "code",
   "execution_count": 35,
   "metadata": {
    "ExecuteTime": {
     "end_time": "2020-11-16T06:03:35.535285Z",
     "start_time": "2020-11-16T06:03:33.995751Z"
    },
    "scrolled": false
   },
   "outputs": [
    {
     "data": {
      "application/vnd.jupyter.widget-view+json": {
       "model_id": "3788c5e00c7949f491522e1f25c1c79b",
       "version_major": 2,
       "version_minor": 0
      },
      "text/plain": [
       "HBox(children=(HTML(value=''), FloatProgress(value=0.0, max=81.0), HTML(value='')))"
      ]
     },
     "metadata": {},
     "output_type": "display_data"
    },
    {
     "name": "stdout",
     "output_type": "stream",
     "text": [
      "\n"
     ]
    },
    {
     "data": {
      "image/png": "[encoded data removed]",
      "text/plain": [
       "<Figure size 1050x450 with 3 Axes>"
      ]
     },
     "metadata": {
      "needs_background": "light"
     },
     "output_type": "display_data"
    }
   ],
   "source": [
    "plot_xar_data(xar)"
   ]
  },
  {
   "cell_type": "code",
   "execution_count": null,
   "metadata": {},
   "outputs": [],
   "source": []
  },
  {
   "cell_type": "markdown",
   "metadata": {
    "ExecuteTime": {
     "end_time": "2020-11-15T04:36:07.711208Z",
     "start_time": "2020-11-15T04:36:07.661674Z"
    }
   },
   "source": [
    "## CLI"
   ]
  },
  {
   "cell_type": "code",
   "execution_count": 49,
   "metadata": {
    "ExecuteTime": {
     "end_time": "2020-11-15T22:43:43.244717Z",
     "start_time": "2020-11-15T22:43:43.151167Z"
    }
   },
   "outputs": [],
   "source": [
    "#export\n",
    "from qtensor_specs import cli, click"
   ]
  },
  {
   "cell_type": "code",
   "execution_count": 50,
   "metadata": {
    "ExecuteTime": {
     "end_time": "2020-11-15T22:43:43.326480Z",
     "start_time": "2020-11-15T22:43:43.288109Z"
    }
   },
   "outputs": [],
   "source": [
    "#export\n",
    "@cli.command()\n",
    "@click.option('--n_len', default=4)\n",
    "@click.option('--p_len', default=2)\n",
    "@click.option('-O', '--qtn_ordering_algo', default='greedy')\n",
    "@click.option('-N', '--n_processes', default=2)\n",
    "@click.argument('filename')\n",
    "def time_comparison_xarray(filename, n_len, p_len, **kwargs):\n",
    "    Ns = 2*(.5*np.pi**(np.arange(0, 12)/2)).astype(np.int) + 10\n",
    "    Ns = Ns[:n_len]\n",
    "    ps = [2, 3, 4]\n",
    "    ps = ps[:p_len]\n",
    "    kwargs = {k:[v] for k, v in kwargs.items()}\n",
    "    xar = gen_time_data(Ns, ps, **kwargs)\n",
    "    xar.to_netcdf(filename)\n",
    "    "
   ]
  },
  {
   "cell_type": "code",
   "execution_count": 62,
   "metadata": {
    "ExecuteTime": {
     "end_time": "2020-11-15T22:52:11.754055Z",
     "start_time": "2020-11-15T22:52:11.699318Z"
    }
   },
   "outputs": [],
   "source": [
    "#export\n",
    "import logging\n",
    "ql = logging.getLogger('qiskit')\n",
    "ql.setLevel(logging.ERROR)"
   ]
  },
  {
   "cell_type": "code",
   "execution_count": 64,
   "metadata": {
    "ExecuteTime": {
     "end_time": "2020-11-15T22:52:35.043256Z",
     "start_time": "2020-11-15T22:52:21.439989Z"
    }
   },
   "outputs": [
    {
     "data": {
      "application/vnd.jupyter.widget-view+json": {
       "model_id": "79582c995052414ca5de740af712e3cf",
       "version_major": 2,
       "version_minor": 0
      },
      "text/plain": [
       "HBox(children=(FloatProgress(value=0.0, max=4.0), HTML(value='')))"
      ]
     },
     "metadata": {},
     "output_type": "display_data"
    },
    {
     "data": {
      "application/vnd.jupyter.widget-view+json": {
       "model_id": "c1fcaa6fda104b1e85acfdfa47f7920a",
       "version_major": 2,
       "version_minor": 0
      },
      "text/plain": [
       "HBox(children=(FloatProgress(value=0.0, max=21.0), HTML(value='')))"
      ]
     },
     "metadata": {},
     "output_type": "display_data"
    },
    {
     "name": "stdout",
     "output_type": "stream",
     "text": [
      "\n"
     ]
    },
    {
     "data": {
      "application/vnd.jupyter.widget-view+json": {
       "model_id": "98862bd834a4491f87c758670cf1500e",
       "version_major": 2,
       "version_minor": 0
      },
      "text/plain": [
       "HBox(children=(FloatProgress(value=0.0, max=21.0), HTML(value='')))"
      ]
     },
     "metadata": {},
     "output_type": "display_data"
    },
    {
     "name": "stdout",
     "output_type": "stream",
     "text": [
      "\n"
     ]
    },
    {
     "data": {
      "application/vnd.jupyter.widget-view+json": {
       "model_id": "0d8e01cca1714234a34515e9db804686",
       "version_major": 2,
       "version_minor": 0
      },
      "text/plain": [
       "HBox(children=(FloatProgress(value=0.0, max=21.0), HTML(value='')))"
      ]
     },
     "metadata": {},
     "output_type": "display_data"
    },
    {
     "name": "stdout",
     "output_type": "stream",
     "text": [
      "\n"
     ]
    },
    {
     "data": {
      "application/vnd.jupyter.widget-view+json": {
       "model_id": "f82383e3281f46a8baa02f76b5f7b3d1",
       "version_major": 2,
       "version_minor": 0
      },
      "text/plain": [
       "HBox(children=(FloatProgress(value=0.0, max=21.0), HTML(value='')))"
      ]
     },
     "metadata": {},
     "output_type": "display_data"
    },
    {
     "name": "stdout",
     "output_type": "stream",
     "text": [
      "\n",
      "\n",
      "_dimcount 3\n"
     ]
    }
   ],
   "source": [
    "Ns = [10, 14]\n",
    "ps = [2, 3]\n",
    "xar = gen_time_data(Ns, ps)"
   ]
  },
  {
   "cell_type": "code",
   "execution_count": 65,
   "metadata": {
    "ExecuteTime": {
     "end_time": "2020-11-15T22:52:38.283525Z",
     "start_time": "2020-11-15T22:52:38.083082Z"
    }
   },
   "outputs": [
    {
     "name": "stdout",
     "output_type": "stream",
     "text": [
      "Converted QAOA_bench.ipynb.\n",
      "Converted Speed_comparison.ipynb.\n",
      "Converted Time_vs_FLOP.ipynb.\n",
      "Converted index.ipynb.\n"
     ]
    }
   ],
   "source": [
    "#hide\n",
    "#default_exp speed_comparison\n",
    "\n",
    "from nbdev.export  import *\n",
    "notebook2script()"
   ]
  },
  {
   "cell_type": "code",
   "execution_count": null,
   "metadata": {},
   "outputs": [],
   "source": []
  }
 ],
 "metadata": {
  "kernelspec": {
   "display_name": "Python 3",
   "language": "python",
   "name": "python3"
  },
  "language_info": {
   "codemirror_mode": {
    "name": "ipython",
    "version": 3
   },
   "file_extension": ".py",
   "mimetype": "text/x-python",
   "name": "python",
   "nbconvert_exporter": "python",
   "pygments_lexer": "ipython3",
   "version": "3.8.1+"
  },
  "toc": {
   "base_numbering": 1,
   "nav_menu": {},
   "number_sections": true,
   "sideBar": true,
   "skip_h1_title": false,
   "title_cell": "Table of Contents",
   "title_sidebar": "Contents",
   "toc_cell": true,
   "toc_position": {
    "height": "calc(100% - 180px)",
    "left": "10px",
    "top": "150px",
    "width": "286.094px"
   },
   "toc_section_display": true,
   "toc_window_display": true
  }
 },
 "nbformat": 4,
 "nbformat_minor": 4
}
