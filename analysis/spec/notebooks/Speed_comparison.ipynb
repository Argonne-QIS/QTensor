{
 "cells": [
  {
   "cell_type": "markdown",
   "metadata": {
    "toc": true
   },
   "source": [
    "<h1>Table of Contents<span class=\"tocSkip\"></span></h1>\n",
    "<div class=\"toc\"><ul class=\"toc-item\"><li><span><a href=\"#Qtensor-vs-other-simulators:-speed\" data-toc-modified-id=\"Qtensor-vs-other-simulators:-speed-1\"><span class=\"toc-item-num\">1&nbsp;&nbsp;</span>Qtensor vs other simulators: speed</a></span><ul class=\"toc-item\"><li><span><a href=\"#Generate-data\" data-toc-modified-id=\"Generate-data-1.1\"><span class=\"toc-item-num\">1.1&nbsp;&nbsp;</span>Generate data</a></span></li><li><span><a href=\"#Generate-data\" data-toc-modified-id=\"Generate-data-1.2\"><span class=\"toc-item-num\">1.2&nbsp;&nbsp;</span>Generate data</a></span></li><li><span><a href=\"#Read-data\" data-toc-modified-id=\"Read-data-1.3\"><span class=\"toc-item-num\">1.3&nbsp;&nbsp;</span>Read data</a></span></li><li><span><a href=\"#Plot-comparisons\" data-toc-modified-id=\"Plot-comparisons-1.4\"><span class=\"toc-item-num\">1.4&nbsp;&nbsp;</span>Plot comparisons</a></span></li><li><span><a href=\"#CLI\" data-toc-modified-id=\"CLI-1.5\"><span class=\"toc-item-num\">1.5&nbsp;&nbsp;</span>CLI</a></span></li></ul></li></ul></div>"
   ]
  },
  {
   "cell_type": "markdown",
   "metadata": {
    "ExecuteTime": {
     "end_time": "2020-11-13T03:20:12.528796Z",
     "start_time": "2020-11-13T03:20:12.523133Z"
    }
   },
   "source": [
    "# Qtensor vs other simulators: speed\n",
    "\n",
    "The functions from this notebook are exported and invoken on a remote server.\n",
    "\n",
    "The data that is generated is transferred back to local machine and plotted here as well"
   ]
  },
  {
   "cell_type": "markdown",
   "metadata": {
    "ExecuteTime": {
     "end_time": "2020-11-13T03:21:26.632061Z",
     "start_time": "2020-11-13T03:21:26.629310Z"
    }
   },
   "source": [
    "## Generate data"
   ]
  },
  {
   "cell_type": "code",
   "execution_count": 1,
   "metadata": {
    "ExecuteTime": {
     "end_time": "2020-11-15T22:43:26.465440Z",
     "start_time": "2020-11-15T22:43:26.337481Z"
    }
   },
   "outputs": [
    {
     "name": "stderr",
     "output_type": "stream",
     "text": [
      "/home/danlkv/.local/bin/lib/python3.8/site-packages/numba-0.52.0rc2-py3.8-linux-x86_64.egg/numba/np/ufunc/parallel.py:363: NumbaWarning: \u001b[1mThe TBB threading layer requires TBB version 2019.5 or later i.e., TBB_INTERFACE_VERSION >= 11005. Found TBB_INTERFACE_VERSION = 10000. The TBB threading layer is disabled.\u001b[0m\n",
      "  warnings.warn(problem)\n"
     ]
    }
   ],
   "source": [
    "#export\n",
    "import numpy as np\n",
    "import qtensor\n",
    "import quimb\n",
    "import sys\n",
    "import pyrofiler.c as profile\n",
    "#sys.path.pop(2)\n",
    "\n",
    "from qtensor.tests.qiskit_qaoa_energy import simulate_qiskit_amps\n",
    "from qtensor.tests.qaoa_quimb import simulate_one_parallel as simulate_quimb_energy\n",
    "from qtensor.tests.acqdp_qaoa import single_qaoa_query as simulate_acqdp_energy\n",
    "import matplotlib.pyplot as plt\n",
    "import time\n",
    "\n",
    "from cartesian_explorer import Explorer, caches, parallels"
   ]
  },
  {
   "cell_type": "code",
   "execution_count": 2,
   "metadata": {
    "ExecuteTime": {
     "end_time": "2020-11-15T22:43:26.506650Z",
     "start_time": "2020-11-15T22:43:26.471389Z"
    }
   },
   "outputs": [],
   "source": [
    "%load_ext autoreload\n",
    "%autoreload 2"
   ]
  },
  {
   "cell_type": "code",
   "execution_count": 3,
   "metadata": {
    "ExecuteTime": {
     "end_time": "2020-11-15T22:43:26.658578Z",
     "start_time": "2020-11-15T22:43:26.614533Z"
    }
   },
   "outputs": [
    {
     "name": "stderr",
     "output_type": "stream",
     "text": [
      "2021-03-13 18:02:57,758\tINFO services.py:1090 -- View the Ray dashboard at \u001b[1m\u001b[32mhttp://127.0.0.1:8265\u001b[39m\u001b[22m\n"
     ]
    }
   ],
   "source": [
    "#export\n",
    "cache = caches.JobLibCache('../../caex_cache/skylake_speed_comparison')\n",
    "PAR = True\n",
    "if PAR:\n",
    "    parallel = parallels.Ray(processes=55)\n",
    "    ex = Explorer(cache=cache, parallel=parallel)\n",
    "else:\n",
    "    ex = Explorer(cache=cache)"
   ]
  },
  {
   "cell_type": "code",
   "execution_count": 4,
   "metadata": {
    "ExecuteTime": {
     "end_time": "2020-11-15T22:43:27.475635Z",
     "start_time": "2020-11-15T22:43:27.362999Z"
    }
   },
   "outputs": [],
   "source": [
    "#export    \n",
    "@ex.provider\n",
    "def graph(N, d=3, graph_type='random', seed=10):\n",
    "    return qtensor.toolbox.random_graph(nodes=N, type=graph_type, degree=d, seed=seed)"
   ]
  },
  {
   "cell_type": "code",
   "execution_count": 5,
   "metadata": {},
   "outputs": [],
   "source": [
    "#export\n",
    "@ex.provider\n",
    "def simulator(sim, qtn_backend='einsum'):\n",
    "    simulators = qtensor.tools.benchmarking.simulators\n",
    "    return {\n",
    "        'qtensor': simulators.QtensorSimulator(backend=qtn_backend),\n",
    "        'qtensor_merged': simulators.MergedQtensorSimulator(backend=qtn_backend),\n",
    "        'qtensor_merged_mkl': simulators.MergedQtensorSimulator(backend='mkl'),\n",
    "        'qtensor_merged_tr': simulators.MergedQtensorSimulator(backend='tr_einsum'),\n",
    "        'quimb': simulators.QuimbSimulator(),\n",
    "        'quimb_Dsimp': simulators.QuimbSimulator(simplify_sequence='D'),\n",
    "        'acqdp': simulators.AcqdpSimulator(),\n",
    "        'qiskit': simulators.QiskitSimulator()\n",
    "    }[sim]"
   ]
  },
  {
   "cell_type": "code",
   "execution_count": 6,
   "metadata": {},
   "outputs": [],
   "source": [
    "@ex.add_function(provides=('opts', 'energy_flops', 'energy_opt_time', 'energy_mem_est', 'energy_tws')\n",
    "                 , requires=('graph', 'p', 'simulator')\n",
    "                )\n",
    "def energy_cost(graph, p,\n",
    "                simulator,\n",
    "                sim='qtensor',\n",
    "                qtn_ordering_algo='greedy',\n",
    "                qmb_max_repeats=10,\n",
    "               ):\n",
    "    kwargs = {}\n",
    "    if 'qtensor' in sim:\n",
    "        kwargs['ordering_algo'] = qtn_ordering_algo\n",
    "    elif 'quimb' in sim:\n",
    "        kwargs['max_repeats'] = qmb_max_repeats\n",
    "    try:\n",
    "        opts, ests, time = simulator.optimize_qaoa_energy(graph, p, **kwargs)\n",
    "    except Exception as e:\n",
    "        print('error', e)\n",
    "        return None, None, None, None, None\n",
    "    flops = [est.flops for est in ests]\n",
    "    mems = [est.mems for est in ests]\n",
    "    tws = [est.width for est in ests]\n",
    "    print(flops)\n",
    "    return opts, sum(flops), time, max(mems), tws\n",
    "        "
   ]
  },
  {
   "cell_type": "code",
   "execution_count": 7,
   "metadata": {},
   "outputs": [],
   "source": [
    "@ex.add_function(provides=('energy_time', 'energy_memory')\n",
    "                 , requires=('graph', 'p', 'simulator', 'opts')\n",
    "                )\n",
    "def energy_time(graph, p, simulator, opts,\n",
    "                sim='qtensor',\n",
    "               ):\n",
    "    kwargs = {}\n",
    "        \n",
    "    try:\n",
    "        res, time, memory = simulator.simulate_qaoa_energy(graph, p, opts, **kwargs)\n",
    "    except Exception as e:\n",
    "        print('error', e)\n",
    "        return None, None\n",
    "    return time, memory"
   ]
  },
  {
   "cell_type": "code",
   "execution_count": 8,
   "metadata": {},
   "outputs": [],
   "source": [
    "@ex.provider\n",
    "def energy_max_tw(energy_tws):\n",
    "    if energy_tws is None:\n",
    "        return None\n",
    "    return np.nanmax(energy_tws)"
   ]
  },
  {
   "cell_type": "code",
   "execution_count": 9,
   "metadata": {
    "ExecuteTime": {
     "end_time": "2020-11-15T22:43:29.351243Z",
     "start_time": "2020-11-15T22:43:28.820661Z"
    },
    "scrolled": true
   },
   "outputs": [
    {
     "name": "stdout",
     "output_type": "stream",
     "text": [
      "0.32183074951171875 3411968\n"
     ]
    }
   ],
   "source": [
    "_time = ex.get_variable('energy_time', sim='qiskit', N=10, p=2)\n",
    "_mem = ex.get_variable('energy_memory', sim='qiskit', N=10, p=2)\n",
    "print(_time, _mem)"
   ]
  },
  {
   "cell_type": "code",
   "execution_count": 10,
   "metadata": {
    "ExecuteTime": {
     "end_time": "2020-11-15T22:43:29.351243Z",
     "start_time": "2020-11-15T22:43:28.820661Z"
    },
    "scrolled": true
   },
   "outputs": [
    {
     "name": "stdout",
     "output_type": "stream",
     "text": [
      "0.16697263717651367 335872\n"
     ]
    }
   ],
   "source": [
    "_time = ex.get_variable('energy_time', sim='qtensor', N=10, p=2)\n",
    "_mem = ex.get_variable('energy_memory', sim='qtensor', N=10, p=2)\n",
    "print(_time, _mem)"
   ]
  },
  {
   "cell_type": "code",
   "execution_count": 21,
   "metadata": {
    "ExecuteTime": {
     "end_time": "2020-11-15T22:43:29.351243Z",
     "start_time": "2020-11-15T22:43:28.820661Z"
    },
    "scrolled": true
   },
   "outputs": [
    {
     "name": "stdout",
     "output_type": "stream",
     "text": [
      "Preprocessing for energy query...\n"
     ]
    },
    {
     "data": {
      "application/vnd.jupyter.widget-view+json": {
       "model_id": "f5f5a3c04c354f22a7453f9ad447e697",
       "version_major": 2,
       "version_minor": 0
      },
      "text/plain": [
       "HBox(children=(HTML(value=''), FloatProgress(value=0.0, max=15.0), HTML(value='')))"
      ]
     },
     "metadata": {},
     "output_type": "display_data"
    },
    {
     "name": "stdout",
     "output_type": "stream",
     "text": [
      "\n",
      "Preprocessing time for queries: 1.0740618705749512\n",
      "[Decimal('3592'), Decimal('5680'), Decimal('3812'), Decimal('5744'), Decimal('6128'), Decimal('9000'), Decimal('9352'), Decimal('2980'), Decimal('4096'), Decimal('2404'), Decimal('5928'), Decimal('5136'), Decimal('3080'), Decimal('3736'), Decimal('1948')]\n"
     ]
    },
    {
     "data": {
      "application/vnd.jupyter.widget-view+json": {
       "model_id": "207a1da0cc4040f6bc9781a256c50564",
       "version_major": 2,
       "version_minor": 0
      },
      "text/plain": [
       "HBox(children=(HTML(value=''), FloatProgress(value=0.0, max=15.0), HTML(value='')))"
      ]
     },
     "metadata": {},
     "output_type": "display_data"
    },
    {
     "name": "stdout",
     "output_type": "stream",
     "text": [
      "\n",
      "E([0.6609951259027789, -0.07052240338931197, -1.4566024247580716, 1.316253774225727]) = (0.4186488449879163+1.8984318815996733e-17j)\n"
     ]
    },
    {
     "data": {
      "application/vnd.jupyter.widget-view+json": {
       "model_id": "e70d1ebd83e645fab6fd88195bee3eb0",
       "version_major": 2,
       "version_minor": 0
      },
      "text/plain": [
       "HBox(children=(HTML(value=''), FloatProgress(value=0.0, max=15.0), HTML(value='')))"
      ]
     },
     "metadata": {},
     "output_type": "display_data"
    },
    {
     "name": "stdout",
     "output_type": "stream",
     "text": [
      "\n",
      "E([1.4704204914312997, 0.8598184003222535, -0.20795954297157124, -1.1122043101115286]) = (2.4971648710269005-1.0328927302658507e-16j)\n",
      "0.041655778884887695 0\n"
     ]
    }
   ],
   "source": [
    "_time = ex.get_variable('energy_time', sim='acqdp', N=10, p=2)\n",
    "_mem = ex.get_variable('energy_memory', sim='acqdp', N=10, p=2)\n",
    "print(_time, _mem)"
   ]
  },
  {
   "cell_type": "code",
   "execution_count": null,
   "metadata": {
    "ExecuteTime": {
     "end_time": "2020-11-15T22:43:29.351243Z",
     "start_time": "2020-11-15T22:43:28.820661Z"
    }
   },
   "outputs": [],
   "source": [
    "_time, _mem = ex.get_variables(('energy_time', 'energy_memory'), sim='quimb', N=10, p=2, seed=10)\n",
    "_tw = ex.get_variable('energy_tws', sim='quimb', N=10, p=2, seed=10)\n",
    "print(_time, _mem, _tw)"
   ]
  },
  {
   "cell_type": "code",
   "execution_count": null,
   "metadata": {
    "ExecuteTime": {
     "end_time": "2020-11-15T22:43:29.351243Z",
     "start_time": "2020-11-15T22:43:28.820661Z"
    }
   },
   "outputs": [],
   "source": [
    "_time, _mem = ex.get_variables(('energy_time', 'energy_memory'), sim='quimb_Dsimp', N=10, p=2, seed=10)\n",
    "_tw = ex.get_variable('energy_tws', sim='quimb_Dsimp', N=10, p=2, seed=10)\n",
    "print(_time, _mem, _tw)"
   ]
  },
  {
   "cell_type": "markdown",
   "metadata": {},
   "source": [
    "## Generate data"
   ]
  },
  {
   "cell_type": "code",
   "execution_count": 10,
   "metadata": {
    "ExecuteTime": {
     "end_time": "2020-11-16T01:27:29.361447Z",
     "start_time": "2020-11-16T01:27:29.302927Z"
    }
   },
   "outputs": [],
   "source": [
    "import xarray"
   ]
  },
  {
   "cell_type": "code",
   "execution_count": 11,
   "metadata": {
    "ExecuteTime": {
     "end_time": "2020-11-15T22:43:35.309128Z",
     "start_time": "2020-11-15T22:43:35.214938Z"
    }
   },
   "outputs": [],
   "source": [
    "#export\n",
    "def gen_time_data(Ns, ps, **kwargs):\n",
    "    xar = ex.get_variables_xarray(\n",
    "        ('energy_flops', 'energy_mem_est', 'energy_opt_time', 'energy_tws', 'energy_max_tw',\n",
    "         'energy_time', 'energy_memory'),\n",
    "        p=ps,\n",
    "        N=Ns,\n",
    "        **kwargs,\n",
    "    )\n",
    "    return xar"
   ]
  },
  {
   "cell_type": "code",
   "execution_count": 12,
   "metadata": {
    "ExecuteTime": {
     "end_time": "2020-11-15T04:35:30.360767Z",
     "start_time": "2020-11-15T04:35:11.523286Z"
    }
   },
   "outputs": [],
   "source": [
    "Ns = 2*(.5*np.pi**(np.arange(0, 14)/2)).astype(np.int) + 10\n",
    "Ns = Ns[2:12]\n",
    "\n",
    "ps = [3, 4, 5] \n",
    "seeds = [10, 12, 13, 14]\n",
    "n_repeats = 20"
   ]
  },
  {
   "cell_type": "code",
   "execution_count": 15,
   "metadata": {
    "ExecuteTime": {
     "end_time": "2020-11-15T04:35:30.360767Z",
     "start_time": "2020-11-15T04:35:11.523286Z"
    },
    "scrolled": true
   },
   "outputs": [
    {
     "ename": "RayTaskError(RayOutOfMemoryError)",
     "evalue": "\u001b[36mray::apply_kwargs()\u001b[39m (pid=16814, ip=10.17.6.144)\n  File \"python/ray/_raylet.pyx\", line 444, in ray._raylet.execute_task\n  File \"/home/danlkv/.local/bin/lib/python3.8/site-packages/ray/memory_monitor.py\", line 138, in raise_if_low_memory\n    raise RayOutOfMemoryError(\nray.memory_monitor.RayOutOfMemoryError: More than 95% of the memory on node skylake07 is used (365.24 / 376.09 GB). The top 10 memory consumers are:\n\nPID\tMEM\tCOMMAND\n16846\t138.5GiB\tray::apply_kwargs()\n16822\t84.83GiB\tray::apply_kwargs()\n16813\t29.25GiB\tray::apply_kwargs()\n16860\t22.57GiB\tray::apply_kwargs()\n16796\t20.17GiB\tray::apply_kwargs()\n16801\t19.78GiB\tray::apply_kwargs()\n16863\t5.06GiB\tray::apply_kwargs()\n16805\t2.94GiB\tray::apply_kwargs()\n16831\t2.93GiB\tray::apply_kwargs()\n16812\t2.86GiB\tray::apply_kwargs()\n\nIn addition, up to 0.0 GiB of shared memory is currently being used by the Ray object store. You can set the object store size with the `object_store_memory` parameter when starting Ray.\n---\n--- Tip: Use the `ray memory` command to list active objects in the cluster.\n---",
     "output_type": "error",
     "traceback": [
      "\u001b[0;31m---------------------------------------------------------------------------\u001b[0m",
      "\u001b[0;31mRayTaskError(RayOutOfMemoryError)\u001b[0m         Traceback (most recent call last)",
      "\u001b[0;32m<ipython-input-15-08f6772ee6f0>\u001b[0m in \u001b[0;36m<module>\u001b[0;34m\u001b[0m\n\u001b[0;32m----> 1\u001b[0;31m xar = gen_time_data(Ns, ps, n_processes=[1],\n\u001b[0m\u001b[1;32m      2\u001b[0m                     \u001b[0msim\u001b[0m\u001b[0;34m=\u001b[0m\u001b[0;34m[\u001b[0m\u001b[0;34m'acqdp'\u001b[0m\u001b[0;34m,\u001b[0m \u001b[0;34m'quimb'\u001b[0m\u001b[0;34m,\u001b[0m \u001b[0;34m'qtensor'\u001b[0m\u001b[0;34m,\u001b[0m \u001b[0;34m'qtensor_merged_tr'\u001b[0m\u001b[0;34m]\u001b[0m\u001b[0;34m,\u001b[0m\u001b[0;34m\u001b[0m\u001b[0;34m\u001b[0m\u001b[0m\n\u001b[1;32m      3\u001b[0m                     \u001b[0mqtn_ordering_algo\u001b[0m\u001b[0;34m=\u001b[0m\u001b[0;34m[\u001b[0m\u001b[0;34mf'rgreedy_0.02_{n_repeats}'\u001b[0m\u001b[0;34m]\u001b[0m\u001b[0;34m,\u001b[0m\u001b[0;34m\u001b[0m\u001b[0;34m\u001b[0m\u001b[0m\n\u001b[1;32m      4\u001b[0m                     \u001b[0mqmb_max_repeats\u001b[0m\u001b[0;34m=\u001b[0m\u001b[0;34m[\u001b[0m\u001b[0mn_repeats\u001b[0m\u001b[0;34m]\u001b[0m\u001b[0;34m,\u001b[0m\u001b[0;34m\u001b[0m\u001b[0;34m\u001b[0m\u001b[0m\n\u001b[1;32m      5\u001b[0m                     \u001b[0mqiskit_method\u001b[0m\u001b[0;34m=\u001b[0m\u001b[0;34m[\u001b[0m\u001b[0;34m'matrix_product_state'\u001b[0m\u001b[0;34m]\u001b[0m\u001b[0;34m,\u001b[0m\u001b[0;34m\u001b[0m\u001b[0;34m\u001b[0m\u001b[0m\n",
      "\u001b[0;32m<ipython-input-13-58f60e55b6f1>\u001b[0m in \u001b[0;36mgen_time_data\u001b[0;34m(Ns, ps, **kwargs)\u001b[0m\n\u001b[1;32m      1\u001b[0m \u001b[0;31m#export\u001b[0m\u001b[0;34m\u001b[0m\u001b[0;34m\u001b[0m\u001b[0;34m\u001b[0m\u001b[0m\n\u001b[1;32m      2\u001b[0m \u001b[0;32mdef\u001b[0m \u001b[0mgen_time_data\u001b[0m\u001b[0;34m(\u001b[0m\u001b[0mNs\u001b[0m\u001b[0;34m,\u001b[0m \u001b[0mps\u001b[0m\u001b[0;34m,\u001b[0m \u001b[0;34m**\u001b[0m\u001b[0mkwargs\u001b[0m\u001b[0;34m)\u001b[0m\u001b[0;34m:\u001b[0m\u001b[0;34m\u001b[0m\u001b[0;34m\u001b[0m\u001b[0m\n\u001b[0;32m----> 3\u001b[0;31m     xar = ex.get_variables_xarray(\n\u001b[0m\u001b[1;32m      4\u001b[0m         ('energy_flops', 'energy_mem_est', 'energy_opt_time', 'energy_tws', 'energy_max_tw',\n\u001b[1;32m      5\u001b[0m          'energy_time', 'energy_memory'),\n",
      "\u001b[0;32m~/.local/bin/lib/python3.8/site-packages/cartesian_explorer/Explorer.py\u001b[0m in \u001b[0;36mget_variables_xarray\u001b[0;34m(self, varnames, **kwargs)\u001b[0m\n\u001b[1;32m    283\u001b[0m             \u001b[0moutdim\u001b[0m \u001b[0;34m=\u001b[0m \u001b[0;36m0\u001b[0m\u001b[0;34m\u001b[0m\u001b[0;34m\u001b[0m\u001b[0m\n\u001b[1;32m    284\u001b[0m         \u001b[0;32melse\u001b[0m\u001b[0;34m:\u001b[0m\u001b[0;34m\u001b[0m\u001b[0;34m\u001b[0m\u001b[0m\n\u001b[0;32m--> 285\u001b[0;31m             \u001b[0mdata\u001b[0m \u001b[0;34m=\u001b[0m \u001b[0mself\u001b[0m\u001b[0;34m.\u001b[0m\u001b[0mmap_variables\u001b[0m\u001b[0;34m(\u001b[0m\u001b[0mvarnames\u001b[0m\u001b[0;34m,\u001b[0m \u001b[0;34m**\u001b[0m\u001b[0mkwargs\u001b[0m\u001b[0;34m)\u001b[0m\u001b[0;34m\u001b[0m\u001b[0;34m\u001b[0m\u001b[0m\n\u001b[0m\u001b[1;32m    286\u001b[0m             \u001b[0moutdim\u001b[0m \u001b[0;34m=\u001b[0m \u001b[0mlen\u001b[0m\u001b[0;34m(\u001b[0m\u001b[0mvarnames\u001b[0m\u001b[0;34m)\u001b[0m\u001b[0;34m\u001b[0m\u001b[0;34m\u001b[0m\u001b[0m\n\u001b[1;32m    287\u001b[0m \u001b[0;34m\u001b[0m\u001b[0m\n",
      "\u001b[0;32m~/.local/bin/lib/python3.8/site-packages/cartesian_explorer/Explorer.py\u001b[0m in \u001b[0;36mmap_variables\u001b[0;34m(self, varnames, **kwargs)\u001b[0m\n\u001b[1;32m    260\u001b[0m \u001b[0;34m\u001b[0m\u001b[0m\n\u001b[1;32m    261\u001b[0m     \u001b[0;32mdef\u001b[0m \u001b[0mmap_variables\u001b[0m\u001b[0;34m(\u001b[0m\u001b[0mself\u001b[0m\u001b[0;34m,\u001b[0m \u001b[0mvarnames\u001b[0m\u001b[0;34m,\u001b[0m \u001b[0;34m**\u001b[0m\u001b[0mkwargs\u001b[0m\u001b[0;34m)\u001b[0m\u001b[0;34m:\u001b[0m\u001b[0;34m\u001b[0m\u001b[0;34m\u001b[0m\u001b[0m\n\u001b[0;32m--> 262\u001b[0;31m         \u001b[0;32mreturn\u001b[0m \u001b[0mself\u001b[0m\u001b[0;34m.\u001b[0m\u001b[0mmap\u001b[0m\u001b[0;34m(\u001b[0m\u001b[0mself\u001b[0m\u001b[0;34m.\u001b[0m\u001b[0mget_variables\u001b[0m\u001b[0;34m,\u001b[0m \u001b[0mvarnames\u001b[0m\u001b[0;34m=\u001b[0m\u001b[0;34m[\u001b[0m\u001b[0mvarnames\u001b[0m\u001b[0;34m]\u001b[0m\u001b[0;34m,\u001b[0m \u001b[0mout_dim\u001b[0m\u001b[0;34m=\u001b[0m\u001b[0mlen\u001b[0m\u001b[0;34m(\u001b[0m\u001b[0mvarnames\u001b[0m\u001b[0;34m)\u001b[0m\u001b[0;34m,\u001b[0m \u001b[0;34m**\u001b[0m\u001b[0mkwargs\u001b[0m\u001b[0;34m)\u001b[0m\u001b[0;34m\u001b[0m\u001b[0;34m\u001b[0m\u001b[0m\n\u001b[0m\u001b[1;32m    263\u001b[0m \u001b[0;34m\u001b[0m\u001b[0m\n\u001b[1;32m    264\u001b[0m     \u001b[0;32mdef\u001b[0m \u001b[0mmap_variables_no_call\u001b[0m\u001b[0;34m(\u001b[0m\u001b[0mself\u001b[0m\u001b[0;34m,\u001b[0m \u001b[0mvarnames\u001b[0m\u001b[0;34m,\u001b[0m \u001b[0;34m**\u001b[0m\u001b[0mkwargs\u001b[0m\u001b[0;34m)\u001b[0m\u001b[0;34m:\u001b[0m\u001b[0;34m\u001b[0m\u001b[0;34m\u001b[0m\u001b[0m\n",
      "\u001b[0;32m~/.local/bin/lib/python3.8/site-packages/cartesian_explorer/ExplorerBasic.py\u001b[0m in \u001b[0;36mmap\u001b[0;34m(self, func, processes, out_dim, pbar, **param_space)\u001b[0m\n\u001b[1;32m    148\u001b[0m         \u001b[0;32mif\u001b[0m \u001b[0;34m(\u001b[0m\u001b[0mprocesses\u001b[0m \u001b[0;34m>\u001b[0m \u001b[0;36m1\u001b[0m \u001b[0;32mand\u001b[0m \u001b[0mself\u001b[0m\u001b[0;34m.\u001b[0m\u001b[0mparallel_class\u001b[0m \u001b[0;32mis\u001b[0m \u001b[0;32mnot\u001b[0m \u001b[0;32mNone\u001b[0m\u001b[0;34m)\u001b[0m \u001b[0;32mor\u001b[0m \u001b[0mself\u001b[0m\u001b[0;34m.\u001b[0m\u001b[0mparallel\u001b[0m\u001b[0;34m:\u001b[0m\u001b[0;34m\u001b[0m\u001b[0;34m\u001b[0m\u001b[0m\n\u001b[1;32m    149\u001b[0m             \u001b[0mparallel\u001b[0m \u001b[0;34m=\u001b[0m \u001b[0mself\u001b[0m\u001b[0;34m.\u001b[0m\u001b[0mparallel\u001b[0m \u001b[0;32mor\u001b[0m \u001b[0mself\u001b[0m\u001b[0;34m.\u001b[0m\u001b[0mparallel_class\u001b[0m\u001b[0;34m(\u001b[0m\u001b[0mprocesses\u001b[0m\u001b[0;34m=\u001b[0m\u001b[0mprocesses\u001b[0m\u001b[0;34m)\u001b[0m\u001b[0;34m\u001b[0m\u001b[0;34m\u001b[0m\u001b[0m\n\u001b[0;32m--> 150\u001b[0;31m             \u001b[0mresult_lin\u001b[0m \u001b[0;34m=\u001b[0m \u001b[0mparallel\u001b[0m\u001b[0;34m.\u001b[0m\u001b[0mstarstarmap\u001b[0m\u001b[0;34m(\u001b[0m\u001b[0mfunc\u001b[0m\u001b[0;34m,\u001b[0m \u001b[0mparam_iter\u001b[0m\u001b[0;34m)\u001b[0m\u001b[0;34m\u001b[0m\u001b[0;34m\u001b[0m\u001b[0m\n\u001b[0m\u001b[1;32m    151\u001b[0m         \u001b[0;32melse\u001b[0m\u001b[0;34m:\u001b[0m\u001b[0;34m\u001b[0m\u001b[0;34m\u001b[0m\u001b[0m\n\u001b[1;32m    152\u001b[0m             \u001b[0;32mif\u001b[0m \u001b[0mpbar\u001b[0m\u001b[0;34m:\u001b[0m\u001b[0;34m\u001b[0m\u001b[0;34m\u001b[0m\u001b[0m\n",
      "\u001b[0;32m~/.local/bin/lib/python3.8/site-packages/cartesian_explorer/parallels.py\u001b[0m in \u001b[0;36mstarstarmap\u001b[0;34m(self, func, args)\u001b[0m\n\u001b[1;32m     36\u001b[0m \u001b[0;34m\u001b[0m\u001b[0m\n\u001b[1;32m     37\u001b[0m     \u001b[0;32mdef\u001b[0m \u001b[0mstarstarmap\u001b[0m\u001b[0;34m(\u001b[0m\u001b[0mself\u001b[0m\u001b[0;34m,\u001b[0m \u001b[0mfunc\u001b[0m\u001b[0;34m,\u001b[0m \u001b[0margs\u001b[0m\u001b[0;34m)\u001b[0m\u001b[0;34m:\u001b[0m\u001b[0;34m\u001b[0m\u001b[0;34m\u001b[0m\u001b[0m\n\u001b[0;32m---> 38\u001b[0;31m         \u001b[0;32mreturn\u001b[0m \u001b[0mself\u001b[0m\u001b[0;34m.\u001b[0m\u001b[0mmap\u001b[0m\u001b[0;34m(\u001b[0m\u001b[0mapply_kwargs\u001b[0m\u001b[0;34m,\u001b[0m \u001b[0mzip\u001b[0m\u001b[0;34m(\u001b[0m\u001b[0mrepeat\u001b[0m\u001b[0;34m(\u001b[0m\u001b[0mfunc\u001b[0m\u001b[0;34m)\u001b[0m\u001b[0;34m,\u001b[0m \u001b[0margs\u001b[0m\u001b[0;34m)\u001b[0m\u001b[0;34m)\u001b[0m\u001b[0;34m\u001b[0m\u001b[0;34m\u001b[0m\u001b[0m\n\u001b[0m\u001b[1;32m     39\u001b[0m \u001b[0;34m\u001b[0m\u001b[0m\n\u001b[1;32m     40\u001b[0m \u001b[0;32mclass\u001b[0m \u001b[0mMultiprocess\u001b[0m\u001b[0;34m(\u001b[0m\u001b[0mParallelIFC\u001b[0m\u001b[0;34m)\u001b[0m\u001b[0;34m:\u001b[0m\u001b[0;34m\u001b[0m\u001b[0;34m\u001b[0m\u001b[0m\n",
      "\u001b[0;32m~/.local/bin/lib/python3.8/site-packages/cartesian_explorer/parallels.py\u001b[0m in \u001b[0;36mmap\u001b[0;34m(self, func, args)\u001b[0m\n\u001b[1;32m     71\u001b[0m         \u001b[0mfunc\u001b[0m \u001b[0;34m=\u001b[0m \u001b[0mray\u001b[0m\u001b[0;34m.\u001b[0m\u001b[0mremote\u001b[0m\u001b[0;34m(\u001b[0m\u001b[0mfunc\u001b[0m\u001b[0;34m)\u001b[0m\u001b[0;34m\u001b[0m\u001b[0;34m\u001b[0m\u001b[0m\n\u001b[1;32m     72\u001b[0m         \u001b[0mr\u001b[0m \u001b[0;34m=\u001b[0m \u001b[0;34m[\u001b[0m\u001b[0mfunc\u001b[0m\u001b[0;34m.\u001b[0m\u001b[0mremote\u001b[0m\u001b[0;34m(\u001b[0m\u001b[0mx\u001b[0m\u001b[0;34m)\u001b[0m \u001b[0;32mfor\u001b[0m \u001b[0mx\u001b[0m \u001b[0;32min\u001b[0m \u001b[0margs\u001b[0m\u001b[0;34m]\u001b[0m\u001b[0;34m\u001b[0m\u001b[0;34m\u001b[0m\u001b[0m\n\u001b[0;32m---> 73\u001b[0;31m         \u001b[0;32mreturn\u001b[0m \u001b[0mray\u001b[0m\u001b[0;34m.\u001b[0m\u001b[0mget\u001b[0m\u001b[0;34m(\u001b[0m\u001b[0mr\u001b[0m\u001b[0;34m)\u001b[0m\u001b[0;34m\u001b[0m\u001b[0;34m\u001b[0m\u001b[0m\n\u001b[0m",
      "\u001b[0;32m~/.local/bin/lib/python3.8/site-packages/ray/worker.py\u001b[0m in \u001b[0;36mget\u001b[0;34m(object_refs, timeout)\u001b[0m\n\u001b[1;32m   1450\u001b[0m                     \u001b[0mworker\u001b[0m\u001b[0;34m.\u001b[0m\u001b[0mcore_worker\u001b[0m\u001b[0;34m.\u001b[0m\u001b[0mdump_object_store_memory_usage\u001b[0m\u001b[0;34m(\u001b[0m\u001b[0;34m)\u001b[0m\u001b[0;34m\u001b[0m\u001b[0;34m\u001b[0m\u001b[0m\n\u001b[1;32m   1451\u001b[0m                 \u001b[0;32mif\u001b[0m \u001b[0misinstance\u001b[0m\u001b[0;34m(\u001b[0m\u001b[0mvalue\u001b[0m\u001b[0;34m,\u001b[0m \u001b[0mRayTaskError\u001b[0m\u001b[0;34m)\u001b[0m\u001b[0;34m:\u001b[0m\u001b[0;34m\u001b[0m\u001b[0;34m\u001b[0m\u001b[0m\n\u001b[0;32m-> 1452\u001b[0;31m                     \u001b[0;32mraise\u001b[0m \u001b[0mvalue\u001b[0m\u001b[0;34m.\u001b[0m\u001b[0mas_instanceof_cause\u001b[0m\u001b[0;34m(\u001b[0m\u001b[0;34m)\u001b[0m\u001b[0;34m\u001b[0m\u001b[0;34m\u001b[0m\u001b[0m\n\u001b[0m\u001b[1;32m   1453\u001b[0m                 \u001b[0;32melse\u001b[0m\u001b[0;34m:\u001b[0m\u001b[0;34m\u001b[0m\u001b[0;34m\u001b[0m\u001b[0m\n\u001b[1;32m   1454\u001b[0m                     \u001b[0;32mraise\u001b[0m \u001b[0mvalue\u001b[0m\u001b[0;34m\u001b[0m\u001b[0;34m\u001b[0m\u001b[0m\n",
      "\u001b[0;31mRayTaskError(RayOutOfMemoryError)\u001b[0m: \u001b[36mray::apply_kwargs()\u001b[39m (pid=16814, ip=10.17.6.144)\n  File \"python/ray/_raylet.pyx\", line 444, in ray._raylet.execute_task\n  File \"/home/danlkv/.local/bin/lib/python3.8/site-packages/ray/memory_monitor.py\", line 138, in raise_if_low_memory\n    raise RayOutOfMemoryError(\nray.memory_monitor.RayOutOfMemoryError: More than 95% of the memory on node skylake07 is used (365.24 / 376.09 GB). The top 10 memory consumers are:\n\nPID\tMEM\tCOMMAND\n16846\t138.5GiB\tray::apply_kwargs()\n16822\t84.83GiB\tray::apply_kwargs()\n16813\t29.25GiB\tray::apply_kwargs()\n16860\t22.57GiB\tray::apply_kwargs()\n16796\t20.17GiB\tray::apply_kwargs()\n16801\t19.78GiB\tray::apply_kwargs()\n16863\t5.06GiB\tray::apply_kwargs()\n16805\t2.94GiB\tray::apply_kwargs()\n16831\t2.93GiB\tray::apply_kwargs()\n16812\t2.86GiB\tray::apply_kwargs()\n\nIn addition, up to 0.0 GiB of shared memory is currently being used by the Ray object store. You can set the object store size with the `object_store_memory` parameter when starting Ray.\n---\n--- Tip: Use the `ray memory` command to list active objects in the cluster.\n---"
     ]
    },
    {
     "name": "stderr",
     "output_type": "stream",
     "text": [
      "2021-03-13 06:56:46,895\tWARNING worker.py:1091 -- A worker died or was killed while executing task e3f613fc4b91d1adffffffff01000000.\n"
     ]
    }
   ],
   "source": [
    "xar = gen_time_data(Ns, ps, n_processes=[1],\n",
    "                    sim=['acqdp', 'quimb', 'qtensor', 'qtensor_merged_tr'],\n",
    "                    qtn_ordering_algo=[f'rgreedy_0.02_{n_repeats}'],\n",
    "                    qmb_max_repeats=[n_repeats],\n",
    "                    qiskit_method=['matrix_product_state'],\n",
    "                    seed=seeds\n",
    "                   )\n",
    "xar"
   ]
  },
  {
   "cell_type": "markdown",
   "metadata": {},
   "source": [
    "## Read data"
   ]
  },
  {
   "cell_type": "code",
   "execution_count": null,
   "metadata": {
    "ExecuteTime": {
     "end_time": "2020-11-16T01:27:29.361447Z",
     "start_time": "2020-11-16T01:27:29.302927Z"
    }
   },
   "outputs": [],
   "source": [
    "xar = xarray.load_dataarray('../../../second_try.nc')"
   ]
  },
  {
   "cell_type": "markdown",
   "metadata": {},
   "source": [
    "## Retreive data from cache"
   ]
  },
  {
   "cell_type": "code",
   "execution_count": 13,
   "metadata": {},
   "outputs": [
    {
     "name": "stderr",
     "output_type": "stream",
     "text": [
      "/home/danlkv/.local/bin/lib/python3.8/site-packages/numpy/core/_asarray.py:83: VisibleDeprecationWarning: Creating an ndarray from ragged nested sequences (which is a list-or-tuple of lists-or-tuples-or ndarrays with different lengths or shapes) is deprecated. If you meant to do this, you must specify 'dtype=object' when creating the ndarray\n",
      "  return array(a, dtype, copy=False, order=order)\n"
     ]
    }
   ],
   "source": [
    "data = ex.map_variables_no_call(\n",
    "    ('energy_flops', 'energy_mem_est', 'energy_opt_time', 'energy_tws', 'energy_max_tw',\n",
    "     'energy_time', 'energy_memory'),\n",
    "    p=ps,\n",
    "    N=Ns,\n",
    "    n_processes=[1],\n",
    "    sim=['qiskit', 'acqdp', 'quimb', 'qtensor', 'qtensor_merged_tr'],\n",
    "    qtn_ordering_algo=[f'rgreedy_0.02_{n_repeats}'],\n",
    "    qmb_max_repeats=[n_repeats],\n",
    "    qiskit_method=['matrix_product_state'],\n",
    "    seed=seeds\n",
    "\n",
    ")"
   ]
  },
  {
   "cell_type": "code",
   "execution_count": 20,
   "metadata": {},
   "outputs": [],
   "source": [
    "dims = dict(\n",
    "    varname=['energy_flops', 'energy_mem_est', 'energy_opt_time', 'energy_tws','energy_max_tw',\n",
    "     'energy_time', 'energy_memory'],\n",
    "    p=ps,\n",
    "    N=Ns,\n",
    "    n_processes=[1],\n",
    "    sim=['qiskit', 'acqdp', 'quimb', 'qtensor', 'qtensor_merged_tr'],\n",
    "    #qtn_ordering_algo=['rgreedy_0.02_100'],\n",
    "    #qmb_max_repeats=[100],\n",
    "    qiskit_method=['matrix_product_state'],\n",
    "    seed=seeds\n",
    ")\n",
    "_dimcount = len(data.shape)\n",
    "_dimnames = list(dims.keys())\n",
    "dimvals = {k:dims[k] for k in _dimnames if len(dims[k])>1}\n",
    "\n",
    "xar = xarray.DataArray(data, dims=list(dimvals.keys()), coords=dimvals)"
   ]
  },
  {
   "cell_type": "code",
   "execution_count": 15,
   "metadata": {},
   "outputs": [],
   "source": [
    "#xar.to_netcdf('../../../data/speed_comparison.nc')"
   ]
  },
  {
   "cell_type": "code",
   "execution_count": 21,
   "metadata": {},
   "outputs": [],
   "source": [
    "def plot_xarray(ex, xar, **kwargs):\n",
    "    dims = {k:xar.coords[k].data for k in xar.dims}\n",
    "    kwargs = {**kwargs, **dims}\n",
    "    def safe_sel(*args, **kwargs):\n",
    "        try:\n",
    "            return xar.sel(*args, **kwargs).item()\n",
    "        except Exception:\n",
    "            return None\n",
    "    print('kw', kwargs)\n",
    "    fig = ex.plot(safe_sel, **kwargs)\n",
    "    return fig"
   ]
  },
  {
   "cell_type": "code",
   "execution_count": 22,
   "metadata": {},
   "outputs": [],
   "source": [
    "def data_lists_mean(line_data):\n",
    "    \"\"\"[\n",
    "    [\n",
    "    [[0, 1, 2], None ], [None, None]\n",
    "    ]\n",
    "    to [\n",
    "    [1, None], [None, None]\n",
    "    ]\n",
    "    \"\"\"\n",
    "    for i, pt in enumerate(line_data):\n",
    "        line_data[i] = [np.mean(x) if hasattr(x, '__iter__') else x for x in pt]\n",
    "    return line_data\n",
    "    \n",
    "def plot_with_band(x, line_data, **kwargs):\n",
    "    # for tws\n",
    "    line_data = data_lists_mean(line_data)\n",
    "    \n",
    "    line_data = line_data.astype(np.float64)\n",
    "    maxs = np.max(line_data, axis=-1)\n",
    "    mins = np.min(line_data, axis=-1)\n",
    "    std = np.nanstd(line_data, axis=-1)\n",
    "    mean = np.nanmean(line_data, axis=-1)\n",
    "    relstd = (mean-std)/mean\n",
    "    \n",
    "    plt.plot(x, mean, '.-', **kwargs)\n",
    "    fill_kwargs = dict(\n",
    "        alpha=0.05, color=kwargs.get('color')\n",
    "    )\n",
    "    plt.fill_between(x, mean + std, mean - std, **fill_kwargs)\n",
    "    "
   ]
  },
  {
   "cell_type": "code",
   "execution_count": 26,
   "metadata": {
    "scrolled": true
   },
   "outputs": [
    {
     "name": "stdout",
     "output_type": "stream",
     "text": [
      "kw {'plot_func': <function plot_with_band at 0x7ff34b3bcf70>, 'distribution_var': 'seed', 'varname': array(['energy_flops', 'energy_time', 'energy_mem_est', 'energy_memory',\n",
      "       'energy_opt_time', 'energy_tws'], dtype='<U15'), 'sim': array(['qtensor', 'qtensor_merged_tr', 'acqdp', 'quimb'], dtype='<U17'), 'N': array([ 12,  14,  18,  26,  40,  64, 106, 182, 316, 552]), 'seed': array([10, 12, 13, 14])}\n"
     ]
    },
    {
     "name": "stderr",
     "output_type": "stream",
     "text": [
      "/home/danlkv/.local/bin/lib/python3.8/site-packages/cartesian_explorer/ExplorerBasic.py:167: VisibleDeprecationWarning: Creating an ndarray from ragged nested sequences (which is a list-or-tuple of lists-or-tuples-or ndarrays with different lengths or shapes) is deprecated. If you meant to do this, you must specify 'dtype=object' when creating the ndarray\n",
      "  result = np.array(result_lin).reshape(result_shape)\n",
      "/home/danlkv/.local/bin/lib/python3.8/site-packages/numpy/lib/nanfunctions.py:1664: RuntimeWarning: Degrees of freedom <= 0 for slice.\n",
      "  var = nanvar(a, axis=axis, dtype=dtype, out=out, ddof=ddof,\n",
      "<ipython-input-22-61007eb23e6e>:22: RuntimeWarning: Mean of empty slice\n",
      "  mean = np.nanmean(line_data, axis=-1)\n",
      "/home/danlkv/.local/bin/lib/python3.8/site-packages/numpy/lib/nanfunctions.py:1664: RuntimeWarning: Degrees of freedom <= 0 for slice.\n",
      "  var = nanvar(a, axis=axis, dtype=dtype, out=out, ddof=ddof,\n",
      "<ipython-input-22-61007eb23e6e>:22: RuntimeWarning: Mean of empty slice\n",
      "  mean = np.nanmean(line_data, axis=-1)\n",
      "/home/danlkv/.local/bin/lib/python3.8/site-packages/numpy/lib/nanfunctions.py:1664: RuntimeWarning: Degrees of freedom <= 0 for slice.\n",
      "  var = nanvar(a, axis=axis, dtype=dtype, out=out, ddof=ddof,\n",
      "<ipython-input-22-61007eb23e6e>:22: RuntimeWarning: Mean of empty slice\n",
      "  mean = np.nanmean(line_data, axis=-1)\n",
      "/home/danlkv/.local/bin/lib/python3.8/site-packages/numpy/lib/nanfunctions.py:1664: RuntimeWarning: Degrees of freedom <= 0 for slice.\n",
      "  var = nanvar(a, axis=axis, dtype=dtype, out=out, ddof=ddof,\n",
      "<ipython-input-22-61007eb23e6e>:22: RuntimeWarning: Mean of empty slice\n",
      "  mean = np.nanmean(line_data, axis=-1)\n",
      "/home/danlkv/.local/bin/lib/python3.8/site-packages/numpy/lib/nanfunctions.py:1664: RuntimeWarning: Degrees of freedom <= 0 for slice.\n",
      "  var = nanvar(a, axis=axis, dtype=dtype, out=out, ddof=ddof,\n",
      "<ipython-input-22-61007eb23e6e>:22: RuntimeWarning: Mean of empty slice\n",
      "  mean = np.nanmean(line_data, axis=-1)\n",
      "/home/danlkv/.local/bin/lib/python3.8/site-packages/numpy/lib/nanfunctions.py:1664: RuntimeWarning: Degrees of freedom <= 0 for slice.\n",
      "  var = nanvar(a, axis=axis, dtype=dtype, out=out, ddof=ddof,\n",
      "<ipython-input-22-61007eb23e6e>:22: RuntimeWarning: Mean of empty slice\n",
      "  mean = np.nanmean(line_data, axis=-1)\n"
     ]
    },
    {
     "data": {
      "image/png": "[encoded data removed]",
      "text/plain": [
       "<Figure size 2400x300 with 6 Axes>"
      ]
     },
     "metadata": {
      "needs_background": "light"
     },
     "output_type": "display_data"
    }
   ],
   "source": [
    "xar_tr = xar.transpose('p', 'varname', 'sim', 'N', 'seed')\n",
    "\n",
    "p = 4\n",
    "fig = plot_xarray(ex, xar_tr.sel(\n",
    "    varname=['energy_flops','energy_time',\n",
    "             'energy_mem_est', 'energy_memory', 'energy_opt_time', 'energy_tws']#,'energy_max_tw']\n",
    "    #varname=['energy_tws' ]\n",
    "   , sim=['qtensor', 'qtensor_merged_tr', 'acqdp', 'quimb' ]\n",
    "   #, sim=['qtensor', 'qtensor_merged', 'acqdp', 'quimb', 'quimb_Dsimp']\n",
    "    , p=p\n",
    "), \n",
    "            plot_func=plot_with_band,\n",
    "            distribution_var='seed',\n",
    "           )\n",
    "\n",
    "for ax in fig.axes[:5]:\n",
    "    ax.set_yscale('log')\n",
    "for ax in fig.axes:\n",
    "    ax.set_xscale('log')\n",
    "    \n",
    "plt.savefig(f'../../../data/figures/speed_comparison_p{p}.pdf')"
   ]
  },
  {
   "cell_type": "code",
   "execution_count": null,
   "metadata": {},
   "outputs": [],
   "source": [
    "xar_tr = xar.transpose('p', 'varname', 'sim', 'N', 'seed')\n",
    "\n",
    "fig = plot_xarray(ex, xar_tr.sel(\n",
    "    varname=['energy_time', 'energy_memory']\n",
    "    #varname=['energy_tws' ]\n",
    "    , sim=['qtensor', 'acqdp', 'quimb']\n",
    "    , p=5\n",
    "), \n",
    "            plot_func=plot_with_band,\n",
    "            distribution_var='seed',\n",
    "           )\n",
    "\n",
    "for ax in fig.axes[:2]:\n",
    "    ax.set_yscale('log')"
   ]
  },
  {
   "cell_type": "markdown",
   "metadata": {},
   "source": [
    "## Performance debugging\n",
    "### Look at contraction backends"
   ]
  },
  {
   "cell_type": "code",
   "execution_count": 14,
   "metadata": {},
   "outputs": [
    {
     "data": {
      "text/plain": [
       "20.676586151123047"
      ]
     },
     "execution_count": 14,
     "metadata": {},
     "output_type": "execute_result"
    }
   ],
   "source": [
    "_time = ex.get_variable('energy_time', sim='qtensor_merged', N=20, p=4, seed=13,\n",
    "                        qtn_ordering_algo='rgreedy_0.02_10', qtn_backend='mkl')\n",
    "_time"
   ]
  },
  {
   "cell_type": "code",
   "execution_count": 14,
   "metadata": {},
   "outputs": [
    {
     "name": "stderr",
     "output_type": "stream",
     "text": [
      "2021-03-06 01:51:21,604\tWARNING worker.py:1091 -- A worker died or was killed while executing task 5aedc3445b289eb5ffffffff01000000.\n",
      "2021-03-06 01:51:47,507\tWARNING worker.py:1091 -- A worker died or was killed while executing task d9a5dd8231409648ffffffff01000000.\n",
      "2021-03-06 01:51:53,281\tWARNING worker.py:1091 -- A worker died or was killed while executing task d623130793ad3e6cffffffff01000000.\n",
      "2021-03-06 01:51:59,819\tWARNING worker.py:1091 -- A worker died or was killed while executing task 5aedc3445b289eb5ffffffff01000000.\n",
      "2021-03-06 01:52:30,816\tWARNING worker.py:1091 -- A worker died or was killed while executing task 2be37c70876ab21affffffff01000000.\n",
      "2021-03-06 01:52:40,454\tWARNING worker.py:1091 -- A worker died or was killed while executing task 5aedc3445b289eb5ffffffff01000000.\n",
      "2021-03-06 01:52:58,726\tWARNING worker.py:1091 -- A worker died or was killed while executing task cc7c51db29a63707ffffffff01000000.\n",
      "2021-03-06 01:53:14,095\tWARNING worker.py:1091 -- A worker died or was killed while executing task d9a5dd8231409648ffffffff01000000.\n",
      "2021-03-06 01:53:19,782\tWARNING worker.py:1091 -- A worker died or was killed while executing task bc38c547933ecf4fffffffff01000000.\n",
      "2021-03-06 01:53:30,488\tWARNING worker.py:1091 -- A worker died or was killed while executing task 5aedc3445b289eb5ffffffff01000000.\n"
     ]
    },
    {
     "ename": "WorkerCrashedError",
     "evalue": "The worker died unexpectedly while executing this task.",
     "output_type": "error",
     "traceback": [
      "\u001b[0;31m---------------------------------------------------------------------------\u001b[0m",
      "\u001b[0;31mWorkerCrashedError\u001b[0m                        Traceback (most recent call last)",
      "\u001b[0;32m<ipython-input-14-dbe77cee12e1>\u001b[0m in \u001b[0;36m<module>\u001b[0;34m\u001b[0m\n\u001b[1;32m      3\u001b[0m \u001b[0mNs\u001b[0m \u001b[0;34m=\u001b[0m \u001b[0mNs\u001b[0m\u001b[0;34m[\u001b[0m\u001b[0;36m3\u001b[0m\u001b[0;34m:\u001b[0m\u001b[0;36m6\u001b[0m\u001b[0;34m]\u001b[0m\u001b[0;34m\u001b[0m\u001b[0;34m\u001b[0m\u001b[0m\n\u001b[1;32m      4\u001b[0m \u001b[0;34m\u001b[0m\u001b[0m\n\u001b[0;32m----> 5\u001b[0;31m fig = ex.plot_variables(('energy_time')\n\u001b[0m\u001b[1;32m      6\u001b[0m                         \u001b[0;34m,\u001b[0m \u001b[0mdistribution_var\u001b[0m\u001b[0;34m=\u001b[0m\u001b[0;34m'seed'\u001b[0m\u001b[0;34m\u001b[0m\u001b[0;34m\u001b[0m\u001b[0m\n\u001b[1;32m      7\u001b[0m                         \u001b[0;34m,\u001b[0m \u001b[0mqtn_backend\u001b[0m\u001b[0;34m=\u001b[0m\u001b[0;34m[\u001b[0m\u001b[0;34m'einsum'\u001b[0m\u001b[0;34m,\u001b[0m \u001b[0;34m'tr_einsum'\u001b[0m\u001b[0;34m,\u001b[0m \u001b[0;34m'mkl'\u001b[0m\u001b[0;34m]\u001b[0m\u001b[0;34m\u001b[0m\u001b[0;34m\u001b[0m\u001b[0m\n",
      "\u001b[0;32m~/.local/bin/lib/python3.8/site-packages/cartesian_explorer/Explorer.py\u001b[0m in \u001b[0;36mplot_variables\u001b[0;34m(self, varnames, **kwargs)\u001b[0m\n\u001b[1;32m    327\u001b[0m         \u001b[0;32mif\u001b[0m \u001b[0misinstance\u001b[0m\u001b[0;34m(\u001b[0m\u001b[0mvarnames\u001b[0m\u001b[0;34m,\u001b[0m \u001b[0mstr\u001b[0m\u001b[0;34m)\u001b[0m\u001b[0;34m:\u001b[0m\u001b[0;34m\u001b[0m\u001b[0;34m\u001b[0m\u001b[0m\n\u001b[1;32m    328\u001b[0m             \u001b[0mvarnames\u001b[0m \u001b[0;34m=\u001b[0m \u001b[0;34m(\u001b[0m\u001b[0mvarnames\u001b[0m\u001b[0;34m,\u001b[0m \u001b[0;34m)\u001b[0m\u001b[0;34m\u001b[0m\u001b[0;34m\u001b[0m\u001b[0m\n\u001b[0;32m--> 329\u001b[0;31m         \u001b[0mfig\u001b[0m \u001b[0;34m=\u001b[0m \u001b[0mself\u001b[0m\u001b[0;34m.\u001b[0m\u001b[0mplot\u001b[0m\u001b[0;34m(\u001b[0m\u001b[0mself\u001b[0m\u001b[0;34m.\u001b[0m\u001b[0mget_variable\u001b[0m\u001b[0;34m,\u001b[0m \u001b[0mvarname\u001b[0m\u001b[0;34m=\u001b[0m\u001b[0mvarnames\u001b[0m\u001b[0;34m,\u001b[0m \u001b[0;34m**\u001b[0m\u001b[0mkwargs\u001b[0m\u001b[0;34m)\u001b[0m\u001b[0;34m\u001b[0m\u001b[0;34m\u001b[0m\u001b[0m\n\u001b[0m\u001b[1;32m    330\u001b[0m         \u001b[0;32mfor\u001b[0m \u001b[0max\u001b[0m\u001b[0;34m,\u001b[0m \u001b[0mname\u001b[0m \u001b[0;32min\u001b[0m \u001b[0mzip\u001b[0m\u001b[0;34m(\u001b[0m\u001b[0mfig\u001b[0m\u001b[0;34m.\u001b[0m\u001b[0maxes\u001b[0m\u001b[0;34m,\u001b[0m \u001b[0mvarnames\u001b[0m\u001b[0;34m)\u001b[0m\u001b[0;34m:\u001b[0m\u001b[0;34m\u001b[0m\u001b[0;34m\u001b[0m\u001b[0m\n\u001b[1;32m    331\u001b[0m             \u001b[0max\u001b[0m\u001b[0;34m.\u001b[0m\u001b[0mset_ylabel\u001b[0m\u001b[0;34m(\u001b[0m\u001b[0mname\u001b[0m\u001b[0;34m)\u001b[0m\u001b[0;34m\u001b[0m\u001b[0;34m\u001b[0m\u001b[0m\n",
      "\u001b[0;32m~/.local/bin/lib/python3.8/site-packages/cartesian_explorer/ExplorerBasic.py\u001b[0m in \u001b[0;36mplot\u001b[0;34m(self, func, plot_func, plot_kwargs, processes, distribution_var, **uservars)\u001b[0m\n\u001b[1;32m    242\u001b[0m         \u001b[0mdistribution_dims\u001b[0m \u001b[0;34m=\u001b[0m \u001b[0mlen\u001b[0m\u001b[0;34m(\u001b[0m\u001b[0mdistribution_var\u001b[0m\u001b[0;34m)\u001b[0m\u001b[0;34m\u001b[0m\u001b[0;34m\u001b[0m\u001b[0m\n\u001b[1;32m    243\u001b[0m \u001b[0;34m\u001b[0m\u001b[0m\n\u001b[0;32m--> 244\u001b[0;31m         \u001b[0mdata\u001b[0m \u001b[0;34m=\u001b[0m \u001b[0mself\u001b[0m\u001b[0;34m.\u001b[0m\u001b[0mmap\u001b[0m\u001b[0;34m(\u001b[0m\u001b[0mfunc\u001b[0m\u001b[0;34m,\u001b[0m \u001b[0mprocesses\u001b[0m\u001b[0;34m=\u001b[0m\u001b[0mprocesses\u001b[0m\u001b[0;34m,\u001b[0m \u001b[0;34m**\u001b[0m\u001b[0muservars_corrected\u001b[0m\u001b[0;34m)\u001b[0m\u001b[0;34m\u001b[0m\u001b[0;34m\u001b[0m\u001b[0m\n\u001b[0m\u001b[1;32m    245\u001b[0m         \u001b[0;31m# -- Subplots preparation\u001b[0m\u001b[0;34m\u001b[0m\u001b[0;34m\u001b[0m\u001b[0;34m\u001b[0m\u001b[0m\n\u001b[1;32m    246\u001b[0m         \u001b[0msubplot_var_key\u001b[0m \u001b[0;34m=\u001b[0m \u001b[0mplot_level_var_keys\u001b[0m\u001b[0;34m.\u001b[0m\u001b[0mget\u001b[0m\u001b[0;34m(\u001b[0m\u001b[0;34m'subplots'\u001b[0m\u001b[0;34m)\u001b[0m\u001b[0;34m\u001b[0m\u001b[0;34m\u001b[0m\u001b[0m\n",
      "\u001b[0;32m~/.local/bin/lib/python3.8/site-packages/cartesian_explorer/ExplorerBasic.py\u001b[0m in \u001b[0;36mmap\u001b[0;34m(self, func, processes, out_dim, pbar, **param_space)\u001b[0m\n\u001b[1;32m    148\u001b[0m         \u001b[0;32mif\u001b[0m \u001b[0;34m(\u001b[0m\u001b[0mprocesses\u001b[0m \u001b[0;34m>\u001b[0m \u001b[0;36m1\u001b[0m \u001b[0;32mand\u001b[0m \u001b[0mself\u001b[0m\u001b[0;34m.\u001b[0m\u001b[0mparallel_class\u001b[0m \u001b[0;32mis\u001b[0m \u001b[0;32mnot\u001b[0m \u001b[0;32mNone\u001b[0m\u001b[0;34m)\u001b[0m \u001b[0;32mor\u001b[0m \u001b[0mself\u001b[0m\u001b[0;34m.\u001b[0m\u001b[0mparallel\u001b[0m\u001b[0;34m:\u001b[0m\u001b[0;34m\u001b[0m\u001b[0;34m\u001b[0m\u001b[0m\n\u001b[1;32m    149\u001b[0m             \u001b[0mparallel\u001b[0m \u001b[0;34m=\u001b[0m \u001b[0mself\u001b[0m\u001b[0;34m.\u001b[0m\u001b[0mparallel\u001b[0m \u001b[0;32mor\u001b[0m \u001b[0mself\u001b[0m\u001b[0;34m.\u001b[0m\u001b[0mparallel_class\u001b[0m\u001b[0;34m(\u001b[0m\u001b[0mprocesses\u001b[0m\u001b[0;34m=\u001b[0m\u001b[0mprocesses\u001b[0m\u001b[0;34m)\u001b[0m\u001b[0;34m\u001b[0m\u001b[0;34m\u001b[0m\u001b[0m\n\u001b[0;32m--> 150\u001b[0;31m             \u001b[0mresult_lin\u001b[0m \u001b[0;34m=\u001b[0m \u001b[0mparallel\u001b[0m\u001b[0;34m.\u001b[0m\u001b[0mstarstarmap\u001b[0m\u001b[0;34m(\u001b[0m\u001b[0mfunc\u001b[0m\u001b[0;34m,\u001b[0m \u001b[0mparam_iter\u001b[0m\u001b[0;34m)\u001b[0m\u001b[0;34m\u001b[0m\u001b[0;34m\u001b[0m\u001b[0m\n\u001b[0m\u001b[1;32m    151\u001b[0m         \u001b[0;32melse\u001b[0m\u001b[0;34m:\u001b[0m\u001b[0;34m\u001b[0m\u001b[0;34m\u001b[0m\u001b[0m\n\u001b[1;32m    152\u001b[0m             \u001b[0;32mif\u001b[0m \u001b[0mpbar\u001b[0m\u001b[0;34m:\u001b[0m\u001b[0;34m\u001b[0m\u001b[0;34m\u001b[0m\u001b[0m\n",
      "\u001b[0;32m~/.local/bin/lib/python3.8/site-packages/cartesian_explorer/parallels.py\u001b[0m in \u001b[0;36mstarstarmap\u001b[0;34m(self, func, args)\u001b[0m\n\u001b[1;32m     36\u001b[0m \u001b[0;34m\u001b[0m\u001b[0m\n\u001b[1;32m     37\u001b[0m     \u001b[0;32mdef\u001b[0m \u001b[0mstarstarmap\u001b[0m\u001b[0;34m(\u001b[0m\u001b[0mself\u001b[0m\u001b[0;34m,\u001b[0m \u001b[0mfunc\u001b[0m\u001b[0;34m,\u001b[0m \u001b[0margs\u001b[0m\u001b[0;34m)\u001b[0m\u001b[0;34m:\u001b[0m\u001b[0;34m\u001b[0m\u001b[0;34m\u001b[0m\u001b[0m\n\u001b[0;32m---> 38\u001b[0;31m         \u001b[0;32mreturn\u001b[0m \u001b[0mself\u001b[0m\u001b[0;34m.\u001b[0m\u001b[0mmap\u001b[0m\u001b[0;34m(\u001b[0m\u001b[0mapply_kwargs\u001b[0m\u001b[0;34m,\u001b[0m \u001b[0mzip\u001b[0m\u001b[0;34m(\u001b[0m\u001b[0mrepeat\u001b[0m\u001b[0;34m(\u001b[0m\u001b[0mfunc\u001b[0m\u001b[0;34m)\u001b[0m\u001b[0;34m,\u001b[0m \u001b[0margs\u001b[0m\u001b[0;34m)\u001b[0m\u001b[0;34m)\u001b[0m\u001b[0;34m\u001b[0m\u001b[0;34m\u001b[0m\u001b[0m\n\u001b[0m\u001b[1;32m     39\u001b[0m \u001b[0;34m\u001b[0m\u001b[0m\n\u001b[1;32m     40\u001b[0m \u001b[0;32mclass\u001b[0m \u001b[0mMultiprocess\u001b[0m\u001b[0;34m(\u001b[0m\u001b[0mParallelIFC\u001b[0m\u001b[0;34m)\u001b[0m\u001b[0;34m:\u001b[0m\u001b[0;34m\u001b[0m\u001b[0;34m\u001b[0m\u001b[0m\n",
      "\u001b[0;32m~/.local/bin/lib/python3.8/site-packages/cartesian_explorer/parallels.py\u001b[0m in \u001b[0;36mmap\u001b[0;34m(self, func, args)\u001b[0m\n\u001b[1;32m     71\u001b[0m         \u001b[0mfunc\u001b[0m \u001b[0;34m=\u001b[0m \u001b[0mray\u001b[0m\u001b[0;34m.\u001b[0m\u001b[0mremote\u001b[0m\u001b[0;34m(\u001b[0m\u001b[0mfunc\u001b[0m\u001b[0;34m)\u001b[0m\u001b[0;34m\u001b[0m\u001b[0;34m\u001b[0m\u001b[0m\n\u001b[1;32m     72\u001b[0m         \u001b[0mr\u001b[0m \u001b[0;34m=\u001b[0m \u001b[0;34m[\u001b[0m\u001b[0mfunc\u001b[0m\u001b[0;34m.\u001b[0m\u001b[0mremote\u001b[0m\u001b[0;34m(\u001b[0m\u001b[0mx\u001b[0m\u001b[0;34m)\u001b[0m \u001b[0;32mfor\u001b[0m \u001b[0mx\u001b[0m \u001b[0;32min\u001b[0m \u001b[0margs\u001b[0m\u001b[0;34m]\u001b[0m\u001b[0;34m\u001b[0m\u001b[0;34m\u001b[0m\u001b[0m\n\u001b[0;32m---> 73\u001b[0;31m         \u001b[0;32mreturn\u001b[0m \u001b[0mray\u001b[0m\u001b[0;34m.\u001b[0m\u001b[0mget\u001b[0m\u001b[0;34m(\u001b[0m\u001b[0mr\u001b[0m\u001b[0;34m)\u001b[0m\u001b[0;34m\u001b[0m\u001b[0;34m\u001b[0m\u001b[0m\n\u001b[0m",
      "\u001b[0;32m~/.local/bin/lib/python3.8/site-packages/ray/worker.py\u001b[0m in \u001b[0;36mget\u001b[0;34m(object_refs, timeout)\u001b[0m\n\u001b[1;32m   1452\u001b[0m                     \u001b[0;32mraise\u001b[0m \u001b[0mvalue\u001b[0m\u001b[0;34m.\u001b[0m\u001b[0mas_instanceof_cause\u001b[0m\u001b[0;34m(\u001b[0m\u001b[0;34m)\u001b[0m\u001b[0;34m\u001b[0m\u001b[0;34m\u001b[0m\u001b[0m\n\u001b[1;32m   1453\u001b[0m                 \u001b[0;32melse\u001b[0m\u001b[0;34m:\u001b[0m\u001b[0;34m\u001b[0m\u001b[0;34m\u001b[0m\u001b[0m\n\u001b[0;32m-> 1454\u001b[0;31m                     \u001b[0;32mraise\u001b[0m \u001b[0mvalue\u001b[0m\u001b[0;34m\u001b[0m\u001b[0;34m\u001b[0m\u001b[0m\n\u001b[0m\u001b[1;32m   1455\u001b[0m \u001b[0;34m\u001b[0m\u001b[0m\n\u001b[1;32m   1456\u001b[0m         \u001b[0;31m# Run post processors.\u001b[0m\u001b[0;34m\u001b[0m\u001b[0;34m\u001b[0m\u001b[0;34m\u001b[0m\u001b[0m\n",
      "\u001b[0;31mWorkerCrashedError\u001b[0m: The worker died unexpectedly while executing this task."
     ]
    },
    {
     "name": "stderr",
     "output_type": "stream",
     "text": [
      "2021-03-06 01:53:41,115\tWARNING worker.py:1091 -- A worker died or was killed while executing task a18dbc46b666c265ffffffff01000000.\n",
      "2021-03-06 01:53:55,252\tERROR worker.py:1037 -- Possible unhandled error from worker: \u001b[36mray::apply_kwargs()\u001b[39m (pid=53311, ip=10.17.6.144)\n",
      "  File \"python/ray/_raylet.pyx\", line 444, in ray._raylet.execute_task\n",
      "  File \"/home/danlkv/.local/bin/lib/python3.8/site-packages/ray/memory_monitor.py\", line 138, in raise_if_low_memory\n",
      "    raise RayOutOfMemoryError(\n",
      "ray.memory_monitor.RayOutOfMemoryError: More than 95% of the memory on node skylake07 is used (357.47 / 376.09 GB). The top 10 memory consumers are:\n",
      "\n",
      "PID\tMEM\tCOMMAND\n",
      "53337\t81.01GiB\tray::apply_kwargs()\n",
      "53279\t74.19GiB\tray::apply_kwargs()\n",
      "53257\t57.88GiB\tray::apply_kwargs()\n",
      "53331\t46.86GiB\tray::apply_kwargs()\n",
      "53267\t37.58GiB\tray::apply_kwargs()\n",
      "53342\t21.65GiB\tray::apply_kwargs()\n",
      "53307\t8.8GiB\tray::apply_kwargs()\n",
      "53329\t2.99GiB\tray::apply_kwargs()\n",
      "53271\t1.9GiB\tray::apply_kwargs()\n",
      "53284\t1.56GiB\tray::apply_kwargs()\n",
      "\n",
      "In addition, up to 0.0 GiB of shared memory is currently being used by the Ray object store. You can set the object store size with the `object_store_memory` parameter when starting Ray.\n",
      "---\n",
      "--- Tip: Use the `ray memory` command to list active objects in the cluster.\n",
      "---\n",
      "2021-03-06 01:53:55,375\tWARNING worker.py:1091 -- A worker died or was killed while executing task 2be37c70876ab21affffffff01000000.\n",
      "2021-03-06 01:53:59,528\tWARNING worker.py:1091 -- A worker died or was killed while executing task d623130793ad3e6cffffffff01000000.\n",
      "2021-03-06 01:54:38,321\tWARNING worker.py:1091 -- A worker died or was killed while executing task 37ba991a7ef84dd1ffffffff01000000.\n",
      "2021-03-06 01:55:06,743\tWARNING worker.py:1091 -- A worker died or was killed while executing task d9a5dd8231409648ffffffff01000000.\n",
      "2021-03-06 01:55:26,238\tWARNING worker.py:1091 -- A worker died or was killed while executing task cc7c51db29a63707ffffffff01000000.\n",
      "2021-03-06 01:55:49,598\tWARNING worker.py:1091 -- A worker died or was killed while executing task 2be37c70876ab21affffffff01000000.\n",
      "2021-03-06 01:55:52,368\tWARNING worker.py:1091 -- A worker died or was killed while executing task d623130793ad3e6cffffffff01000000.\n",
      "2021-03-06 01:56:09,743\tWARNING worker.py:1091 -- A worker died or was killed while executing task adf788e44e7f1783ffffffff01000000.\n",
      "2021-03-06 01:56:30,546\tWARNING worker.py:1091 -- A worker died or was killed while executing task bc38c547933ecf4fffffffff01000000.\n",
      "2021-03-06 01:57:07,265\tWARNING worker.py:1091 -- A worker died or was killed while executing task d9a5dd8231409648ffffffff01000000.\n",
      "2021-03-06 01:57:43,276\tWARNING worker.py:1091 -- A worker died or was killed while executing task 2be37c70876ab21affffffff01000000.\n",
      "2021-03-06 01:57:47,111\tWARNING worker.py:1091 -- A worker died or was killed while executing task d623130793ad3e6cffffffff01000000.\n",
      "2021-03-06 01:57:48,448\tWARNING worker.py:1091 -- A worker died or was killed while executing task cc7c51db29a63707ffffffff01000000.\n",
      "2021-03-06 01:59:05,164\tWARNING worker.py:1091 -- A worker died or was killed while executing task 37ba991a7ef84dd1ffffffff01000000.\n",
      "2021-03-06 02:00:00,868\tWARNING worker.py:1091 -- A worker died or was killed while executing task cc7c51db29a63707ffffffff01000000.\n"
     ]
    }
   ],
   "source": [
    "p = 5\n",
    "Ns = 2*(.5*np.pi**(np.arange(0, 14)/2)).astype(np.int) + 10\n",
    "Ns = Ns[3:6]\n",
    "\n",
    "fig = ex.plot_variables(('energy_time')\n",
    "                        , distribution_var='seed'\n",
    "                        , qtn_backend=['einsum', 'tr_einsum', 'mkl']\n",
    "                        , sim=['qtensor_merged', 'qtensor', 'quimb']\n",
    "                        , qtn_ordering_algo=['rgreedy_0.02_10']\n",
    "                        , qmb_max_repeats=[10]\n",
    "                        , N=Ns\n",
    "                        , seed=[10, 11]\n",
    "                        , p=[p]\n",
    ")\n"
   ]
  },
  {
   "cell_type": "code",
   "execution_count": null,
   "metadata": {},
   "outputs": [],
   "source": []
  },
  {
   "cell_type": "markdown",
   "metadata": {},
   "source": [
    "### Look at large circuits"
   ]
  },
  {
   "cell_type": "code",
   "execution_count": 14,
   "metadata": {},
   "outputs": [
    {
     "data": {
      "text/plain": [
       "array([ 10,  12,  14,  18,  26,  40,  64, 106, 182, 316])"
      ]
     },
     "execution_count": 14,
     "metadata": {},
     "output_type": "execute_result"
    }
   ],
   "source": [
    "Ns"
   ]
  },
  {
   "cell_type": "code",
   "execution_count": 17,
   "metadata": {
    "scrolled": true
   },
   "outputs": [
    {
     "data": {
      "application/vnd.jupyter.widget-view+json": {
       "model_id": "20aaeedcb838460eb8b7876de8d47cbb",
       "version_major": 2,
       "version_minor": 0
      },
      "text/plain": [
       "HBox(children=(HTML(value=''), FloatProgress(value=0.0, max=96.0), HTML(value='')))"
      ]
     },
     "metadata": {},
     "output_type": "display_data"
    },
    {
     "name": "stdout",
     "output_type": "stream",
     "text": [
      "\n"
     ]
    },
    {
     "ename": "KeyboardInterrupt",
     "evalue": "",
     "output_type": "error",
     "traceback": [
      "\u001b[0;31m---------------------------------------------------------------------------\u001b[0m",
      "\u001b[0;31mKeyboardInterrupt\u001b[0m                         Traceback (most recent call last)",
      "\u001b[0;32m<ipython-input-17-90a5e2baccb2>\u001b[0m in \u001b[0;36m<module>\u001b[0;34m\u001b[0m\n\u001b[0;32m----> 1\u001b[0;31m _time = ex.get_variable('energy_time', sim='qtensor_merged',\n\u001b[0m\u001b[1;32m      2\u001b[0m                         \u001b[0mqtn_backend\u001b[0m\u001b[0;34m=\u001b[0m\u001b[0;34m'tr_einsum'\u001b[0m\u001b[0;34m,\u001b[0m\u001b[0;34m\u001b[0m\u001b[0;34m\u001b[0m\u001b[0m\n\u001b[1;32m      3\u001b[0m                         \u001b[0mN\u001b[0m\u001b[0;34m=\u001b[0m\u001b[0;36m64\u001b[0m\u001b[0;34m,\u001b[0m \u001b[0mp\u001b[0m\u001b[0;34m=\u001b[0m\u001b[0;36m4\u001b[0m\u001b[0;34m,\u001b[0m \u001b[0mseed\u001b[0m\u001b[0;34m=\u001b[0m\u001b[0;36m10\u001b[0m\u001b[0;34m,\u001b[0m \u001b[0mqmb_max_repeats\u001b[0m\u001b[0;34m=\u001b[0m\u001b[0;36m25\u001b[0m\u001b[0;34m,\u001b[0m\u001b[0;34m\u001b[0m\u001b[0;34m\u001b[0m\u001b[0m\n\u001b[1;32m      4\u001b[0m                         qtn_ordering_algo='rgreedy_0.02_25')\n\u001b[1;32m      5\u001b[0m \u001b[0mprint\u001b[0m\u001b[0;34m(\u001b[0m\u001b[0m_time\u001b[0m\u001b[0;34m)\u001b[0m\u001b[0;34m\u001b[0m\u001b[0;34m\u001b[0m\u001b[0m\n",
      "\u001b[0;32m~/.local/bin/lib/python3.8/site-packages/cartesian_explorer/Explorer.py\u001b[0m in \u001b[0;36mget_variable\u001b[0;34m(self, varname, **kwargs)\u001b[0m\n\u001b[1;32m    255\u001b[0m \u001b[0;34m\u001b[0m\u001b[0m\n\u001b[1;32m    256\u001b[0m     \u001b[0;32mdef\u001b[0m \u001b[0mget_variable\u001b[0m\u001b[0;34m(\u001b[0m\u001b[0mself\u001b[0m\u001b[0;34m,\u001b[0m \u001b[0mvarname\u001b[0m\u001b[0;34m,\u001b[0m \u001b[0;34m**\u001b[0m\u001b[0mkwargs\u001b[0m\u001b[0;34m)\u001b[0m\u001b[0;34m:\u001b[0m\u001b[0;34m\u001b[0m\u001b[0;34m\u001b[0m\u001b[0m\n\u001b[0;32m--> 257\u001b[0;31m         \u001b[0;32mreturn\u001b[0m \u001b[0mself\u001b[0m\u001b[0;34m.\u001b[0m\u001b[0mget_variables\u001b[0m\u001b[0;34m(\u001b[0m\u001b[0;34m[\u001b[0m\u001b[0mvarname\u001b[0m\u001b[0;34m]\u001b[0m\u001b[0;34m,\u001b[0m \u001b[0;34m**\u001b[0m\u001b[0mkwargs\u001b[0m\u001b[0;34m)\u001b[0m\u001b[0;34m[\u001b[0m\u001b[0;36m0\u001b[0m\u001b[0;34m]\u001b[0m\u001b[0;34m\u001b[0m\u001b[0;34m\u001b[0m\u001b[0m\n\u001b[0m\u001b[1;32m    258\u001b[0m \u001b[0;34m\u001b[0m\u001b[0m\n\u001b[1;32m    259\u001b[0m     \u001b[0;31m#------ Mappers\u001b[0m\u001b[0;34m\u001b[0m\u001b[0;34m\u001b[0m\u001b[0;34m\u001b[0m\u001b[0m\n",
      "\u001b[0;32m~/.local/bin/lib/python3.8/site-packages/cartesian_explorer/Explorer.py\u001b[0m in \u001b[0;36mget_variables\u001b[0;34m(self, varnames, **kwargs)\u001b[0m\n\u001b[1;32m    218\u001b[0m             \u001b[0;31m# Apply function to the blackboard\u001b[0m\u001b[0;34m\u001b[0m\u001b[0;34m\u001b[0m\u001b[0;34m\u001b[0m\u001b[0m\n\u001b[1;32m    219\u001b[0m             \u001b[0mcall_kwd\u001b[0m \u001b[0;34m=\u001b[0m \u001b[0mself\u001b[0m\u001b[0;34m.\u001b[0m\u001b[0m_populate_call_kwd\u001b[0m\u001b[0;34m(\u001b[0m\u001b[0mf\u001b[0m\u001b[0;34m,\u001b[0m \u001b[0mcurrent_blackboard\u001b[0m\u001b[0;34m)\u001b[0m\u001b[0;34m\u001b[0m\u001b[0;34m\u001b[0m\u001b[0m\n\u001b[0;32m--> 220\u001b[0;31m             \u001b[0mretval\u001b[0m \u001b[0;34m=\u001b[0m \u001b[0mf\u001b[0m\u001b[0;34m(\u001b[0m\u001b[0;34m**\u001b[0m\u001b[0mcall_kwd\u001b[0m\u001b[0;34m)\u001b[0m\u001b[0;34m\u001b[0m\u001b[0;34m\u001b[0m\u001b[0m\n\u001b[0m\u001b[1;32m    221\u001b[0m             \u001b[0;31m# Unpack the response\u001b[0m\u001b[0;34m\u001b[0m\u001b[0;34m\u001b[0m\u001b[0;34m\u001b[0m\u001b[0m\n\u001b[1;32m    222\u001b[0m             \u001b[0mself\u001b[0m\u001b[0;34m.\u001b[0m\u001b[0m_update_blackboard\u001b[0m\u001b[0;34m(\u001b[0m\u001b[0mcurrent_blackboard\u001b[0m\u001b[0;34m,\u001b[0m \u001b[0mf\u001b[0m\u001b[0;34m,\u001b[0m \u001b[0mretval\u001b[0m\u001b[0;34m)\u001b[0m\u001b[0;34m\u001b[0m\u001b[0;34m\u001b[0m\u001b[0m\n",
      "\u001b[0;32m~/.local/bin/lib/python3.8/site-packages/joblib/memory.py\u001b[0m in \u001b[0;36m__call__\u001b[0;34m(self, *args, **kwargs)\u001b[0m\n\u001b[1;32m    589\u001b[0m \u001b[0;34m\u001b[0m\u001b[0m\n\u001b[1;32m    590\u001b[0m     \u001b[0;32mdef\u001b[0m \u001b[0m__call__\u001b[0m\u001b[0;34m(\u001b[0m\u001b[0mself\u001b[0m\u001b[0;34m,\u001b[0m \u001b[0;34m*\u001b[0m\u001b[0margs\u001b[0m\u001b[0;34m,\u001b[0m \u001b[0;34m**\u001b[0m\u001b[0mkwargs\u001b[0m\u001b[0;34m)\u001b[0m\u001b[0;34m:\u001b[0m\u001b[0;34m\u001b[0m\u001b[0;34m\u001b[0m\u001b[0m\n\u001b[0;32m--> 591\u001b[0;31m         \u001b[0;32mreturn\u001b[0m \u001b[0mself\u001b[0m\u001b[0;34m.\u001b[0m\u001b[0m_cached_call\u001b[0m\u001b[0;34m(\u001b[0m\u001b[0margs\u001b[0m\u001b[0;34m,\u001b[0m \u001b[0mkwargs\u001b[0m\u001b[0;34m)\u001b[0m\u001b[0;34m[\u001b[0m\u001b[0;36m0\u001b[0m\u001b[0;34m]\u001b[0m\u001b[0;34m\u001b[0m\u001b[0;34m\u001b[0m\u001b[0m\n\u001b[0m\u001b[1;32m    592\u001b[0m \u001b[0;34m\u001b[0m\u001b[0m\n\u001b[1;32m    593\u001b[0m     \u001b[0;32mdef\u001b[0m \u001b[0m__getstate__\u001b[0m\u001b[0;34m(\u001b[0m\u001b[0mself\u001b[0m\u001b[0;34m)\u001b[0m\u001b[0;34m:\u001b[0m\u001b[0;34m\u001b[0m\u001b[0;34m\u001b[0m\u001b[0m\n",
      "\u001b[0;32m~/.local/bin/lib/python3.8/site-packages/joblib/memory.py\u001b[0m in \u001b[0;36m_cached_call\u001b[0;34m(self, args, kwargs, shelving)\u001b[0m\n\u001b[1;32m    532\u001b[0m \u001b[0;34m\u001b[0m\u001b[0m\n\u001b[1;32m    533\u001b[0m         \u001b[0;32mif\u001b[0m \u001b[0mmust_call\u001b[0m\u001b[0;34m:\u001b[0m\u001b[0;34m\u001b[0m\u001b[0;34m\u001b[0m\u001b[0m\n\u001b[0;32m--> 534\u001b[0;31m             \u001b[0mout\u001b[0m\u001b[0;34m,\u001b[0m \u001b[0mmetadata\u001b[0m \u001b[0;34m=\u001b[0m \u001b[0mself\u001b[0m\u001b[0;34m.\u001b[0m\u001b[0mcall\u001b[0m\u001b[0;34m(\u001b[0m\u001b[0;34m*\u001b[0m\u001b[0margs\u001b[0m\u001b[0;34m,\u001b[0m \u001b[0;34m**\u001b[0m\u001b[0mkwargs\u001b[0m\u001b[0;34m)\u001b[0m\u001b[0;34m\u001b[0m\u001b[0;34m\u001b[0m\u001b[0m\n\u001b[0m\u001b[1;32m    535\u001b[0m             \u001b[0;32mif\u001b[0m \u001b[0mself\u001b[0m\u001b[0;34m.\u001b[0m\u001b[0mmmap_mode\u001b[0m \u001b[0;32mis\u001b[0m \u001b[0;32mnot\u001b[0m \u001b[0;32mNone\u001b[0m\u001b[0;34m:\u001b[0m\u001b[0;34m\u001b[0m\u001b[0;34m\u001b[0m\u001b[0m\n\u001b[1;32m    536\u001b[0m                 \u001b[0;31m# Memmap the output at the first call to be consistent with\u001b[0m\u001b[0;34m\u001b[0m\u001b[0;34m\u001b[0m\u001b[0;34m\u001b[0m\u001b[0m\n",
      "\u001b[0;32m~/.local/bin/lib/python3.8/site-packages/joblib/memory.py\u001b[0m in \u001b[0;36mcall\u001b[0;34m(self, *args, **kwargs)\u001b[0m\n\u001b[1;32m    759\u001b[0m         \u001b[0;32mif\u001b[0m \u001b[0mself\u001b[0m\u001b[0;34m.\u001b[0m\u001b[0m_verbose\u001b[0m \u001b[0;34m>\u001b[0m \u001b[0;36m0\u001b[0m\u001b[0;34m:\u001b[0m\u001b[0;34m\u001b[0m\u001b[0;34m\u001b[0m\u001b[0m\n\u001b[1;32m    760\u001b[0m             \u001b[0mprint\u001b[0m\u001b[0;34m(\u001b[0m\u001b[0mformat_call\u001b[0m\u001b[0;34m(\u001b[0m\u001b[0mself\u001b[0m\u001b[0;34m.\u001b[0m\u001b[0mfunc\u001b[0m\u001b[0;34m,\u001b[0m \u001b[0margs\u001b[0m\u001b[0;34m,\u001b[0m \u001b[0mkwargs\u001b[0m\u001b[0;34m)\u001b[0m\u001b[0;34m)\u001b[0m\u001b[0;34m\u001b[0m\u001b[0;34m\u001b[0m\u001b[0m\n\u001b[0;32m--> 761\u001b[0;31m         \u001b[0moutput\u001b[0m \u001b[0;34m=\u001b[0m \u001b[0mself\u001b[0m\u001b[0;34m.\u001b[0m\u001b[0mfunc\u001b[0m\u001b[0;34m(\u001b[0m\u001b[0;34m*\u001b[0m\u001b[0margs\u001b[0m\u001b[0;34m,\u001b[0m \u001b[0;34m**\u001b[0m\u001b[0mkwargs\u001b[0m\u001b[0;34m)\u001b[0m\u001b[0;34m\u001b[0m\u001b[0;34m\u001b[0m\u001b[0m\n\u001b[0m\u001b[1;32m    762\u001b[0m         self.store_backend.dump_item(\n\u001b[1;32m    763\u001b[0m             [func_id, args_id], output, verbose=self._verbose)\n",
      "\u001b[0;32m<ipython-input-6-ecc8c3ea0adc>\u001b[0m in \u001b[0;36menergy_cost\u001b[0;34m(graph, p, simulator, sim, qtn_ordering_algo, qmb_max_repeats)\u001b[0m\n\u001b[1;32m     14\u001b[0m         \u001b[0mkwargs\u001b[0m\u001b[0;34m[\u001b[0m\u001b[0;34m'max_repeats'\u001b[0m\u001b[0;34m]\u001b[0m \u001b[0;34m=\u001b[0m \u001b[0mqmb_max_repeats\u001b[0m\u001b[0;34m\u001b[0m\u001b[0;34m\u001b[0m\u001b[0m\n\u001b[1;32m     15\u001b[0m     \u001b[0;32mtry\u001b[0m\u001b[0;34m:\u001b[0m\u001b[0;34m\u001b[0m\u001b[0;34m\u001b[0m\u001b[0m\n\u001b[0;32m---> 16\u001b[0;31m         \u001b[0mopts\u001b[0m\u001b[0;34m,\u001b[0m \u001b[0mests\u001b[0m\u001b[0;34m,\u001b[0m \u001b[0mtime\u001b[0m \u001b[0;34m=\u001b[0m \u001b[0msimulator\u001b[0m\u001b[0;34m.\u001b[0m\u001b[0moptimize_qaoa_energy\u001b[0m\u001b[0;34m(\u001b[0m\u001b[0mgraph\u001b[0m\u001b[0;34m,\u001b[0m \u001b[0mp\u001b[0m\u001b[0;34m,\u001b[0m \u001b[0;34m**\u001b[0m\u001b[0mkwargs\u001b[0m\u001b[0;34m)\u001b[0m\u001b[0;34m\u001b[0m\u001b[0;34m\u001b[0m\u001b[0m\n\u001b[0m\u001b[1;32m     17\u001b[0m     \u001b[0;32mexcept\u001b[0m \u001b[0mException\u001b[0m \u001b[0;32mas\u001b[0m \u001b[0me\u001b[0m\u001b[0;34m:\u001b[0m\u001b[0;34m\u001b[0m\u001b[0;34m\u001b[0m\u001b[0m\n\u001b[1;32m     18\u001b[0m         \u001b[0mprint\u001b[0m\u001b[0;34m(\u001b[0m\u001b[0;34m'error'\u001b[0m\u001b[0;34m,\u001b[0m \u001b[0me\u001b[0m\u001b[0;34m)\u001b[0m\u001b[0;34m\u001b[0m\u001b[0;34m\u001b[0m\u001b[0m\n",
      "\u001b[0;32m~/anl/Qensor/qtensor/tools/benchmarking/simulators.py\u001b[0m in \u001b[0;36moptimize_qaoa_energy\u001b[0;34m(self, G, p, ordering_algo)\u001b[0m\n\u001b[1;32m    160\u001b[0m             \u001b[0;32mwith\u001b[0m \u001b[0mprofiles\u001b[0m\u001b[0;34m.\u001b[0m\u001b[0mtiming\u001b[0m\u001b[0;34m(\u001b[0m\u001b[0;34m)\u001b[0m \u001b[0;32mas\u001b[0m \u001b[0mt\u001b[0m\u001b[0;34m:\u001b[0m\u001b[0;34m\u001b[0m\u001b[0;34m\u001b[0m\u001b[0m\n\u001b[1;32m    161\u001b[0m                 \u001b[0mcircuit\u001b[0m \u001b[0;34m=\u001b[0m \u001b[0msim\u001b[0m\u001b[0;34m.\u001b[0m\u001b[0m_edge_energy_circuit\u001b[0m\u001b[0;34m(\u001b[0m\u001b[0mG\u001b[0m\u001b[0;34m,\u001b[0m \u001b[0mgamma\u001b[0m\u001b[0;34m,\u001b[0m \u001b[0mbeta\u001b[0m\u001b[0;34m,\u001b[0m \u001b[0medge\u001b[0m\u001b[0;34m)\u001b[0m\u001b[0;34m\u001b[0m\u001b[0;34m\u001b[0m\u001b[0m\n\u001b[0;32m--> 162\u001b[0;31m                 \u001b[0mpeo\u001b[0m\u001b[0;34m,\u001b[0m \u001b[0mwidth\u001b[0m \u001b[0;34m=\u001b[0m \u001b[0msim\u001b[0m\u001b[0;34m.\u001b[0m\u001b[0msimulate_batch\u001b[0m\u001b[0;34m(\u001b[0m\u001b[0mcircuit\u001b[0m\u001b[0;34m,\u001b[0m \u001b[0mdry_run\u001b[0m\u001b[0;34m=\u001b[0m\u001b[0;32mTrue\u001b[0m\u001b[0;34m)\u001b[0m\u001b[0;34m\u001b[0m\u001b[0;34m\u001b[0m\u001b[0m\n\u001b[0m\u001b[1;32m    163\u001b[0m             \u001b[0mtn\u001b[0m \u001b[0;34m=\u001b[0m \u001b[0mqtensor\u001b[0m\u001b[0;34m.\u001b[0m\u001b[0moptimisation\u001b[0m\u001b[0;34m.\u001b[0m\u001b[0mTensorNet\u001b[0m\u001b[0;34m.\u001b[0m\u001b[0mQtreeTensorNet\u001b[0m\u001b[0;34m.\u001b[0m\u001b[0mfrom_qtree_gates\u001b[0m\u001b[0;34m(\u001b[0m\u001b[0mcircuit\u001b[0m\u001b[0;34m)\u001b[0m\u001b[0;34m\u001b[0m\u001b[0;34m\u001b[0m\u001b[0m\n\u001b[1;32m    164\u001b[0m             \u001b[0mopt_time\u001b[0m \u001b[0;34m+=\u001b[0m \u001b[0mt\u001b[0m\u001b[0;34m.\u001b[0m\u001b[0mresult\u001b[0m\u001b[0;34m\u001b[0m\u001b[0;34m\u001b[0m\u001b[0m\n",
      "\u001b[0;32m~/anl/Qensor/qtensor/MergedSimulator.py\u001b[0m in \u001b[0;36msimulate_batch\u001b[0;34m(self, qc, batch_vars, peo, dry_run)\u001b[0m\n\u001b[1;32m     10\u001b[0m \u001b[0;34m\u001b[0m\u001b[0m\n\u001b[1;32m     11\u001b[0m         \u001b[0;32mif\u001b[0m \u001b[0mpeo\u001b[0m \u001b[0;32mis\u001b[0m \u001b[0;32mNone\u001b[0m\u001b[0;34m:\u001b[0m\u001b[0;34m\u001b[0m\u001b[0;34m\u001b[0m\u001b[0m\n\u001b[0;32m---> 12\u001b[0;31m             \u001b[0mpeo\u001b[0m\u001b[0;34m,\u001b[0m \u001b[0mself\u001b[0m\u001b[0;34m.\u001b[0m\u001b[0mtn\u001b[0m \u001b[0;34m=\u001b[0m \u001b[0mself\u001b[0m\u001b[0;34m.\u001b[0m\u001b[0moptimizer\u001b[0m\u001b[0;34m.\u001b[0m\u001b[0moptimize\u001b[0m\u001b[0;34m(\u001b[0m\u001b[0mself\u001b[0m\u001b[0;34m.\u001b[0m\u001b[0mtn\u001b[0m\u001b[0;34m)\u001b[0m\u001b[0;34m\u001b[0m\u001b[0;34m\u001b[0m\u001b[0m\n\u001b[0m\u001b[1;32m     13\u001b[0m             \u001b[0;32mif\u001b[0m \u001b[0mself\u001b[0m\u001b[0;34m.\u001b[0m\u001b[0mmax_tw\u001b[0m\u001b[0;34m:\u001b[0m\u001b[0;34m\u001b[0m\u001b[0;34m\u001b[0m\u001b[0m\n\u001b[1;32m     14\u001b[0m                 \u001b[0;32mif\u001b[0m \u001b[0mself\u001b[0m\u001b[0;34m.\u001b[0m\u001b[0moptimizer\u001b[0m\u001b[0;34m.\u001b[0m\u001b[0mtreewidth\u001b[0m \u001b[0;34m>\u001b[0m \u001b[0mself\u001b[0m\u001b[0;34m.\u001b[0m\u001b[0mmax_tw\u001b[0m\u001b[0;34m:\u001b[0m\u001b[0;34m\u001b[0m\u001b[0;34m\u001b[0m\u001b[0m\n",
      "\u001b[0;32m~/anl/Qensor/qtensor/optimisation/Optimizer.py\u001b[0m in \u001b[0;36moptimize\u001b[0;34m(self, tensor_net)\u001b[0m\n\u001b[1;32m     86\u001b[0m             \u001b[0mself\u001b[0m\u001b[0;34m.\u001b[0m\u001b[0mgraph\u001b[0m \u001b[0;34m=\u001b[0m \u001b[0mgraph_copy\u001b[0m\u001b[0;34m\u001b[0m\u001b[0;34m\u001b[0m\u001b[0m\n\u001b[1;32m     87\u001b[0m \u001b[0;34m\u001b[0m\u001b[0m\n\u001b[0;32m---> 88\u001b[0;31m         \u001b[0mpeo\u001b[0m\u001b[0;34m,\u001b[0m \u001b[0mpath\u001b[0m \u001b[0;34m=\u001b[0m \u001b[0mself\u001b[0m\u001b[0;34m.\u001b[0m\u001b[0m_get_ordering\u001b[0m\u001b[0;34m(\u001b[0m\u001b[0mgraph\u001b[0m\u001b[0;34m,\u001b[0m \u001b[0minplace\u001b[0m\u001b[0;34m=\u001b[0m\u001b[0;32mTrue\u001b[0m\u001b[0;34m)\u001b[0m\u001b[0;34m\u001b[0m\u001b[0;34m\u001b[0m\u001b[0m\n\u001b[0m\u001b[1;32m     89\u001b[0m         \u001b[0mself\u001b[0m\u001b[0;34m.\u001b[0m\u001b[0mtreewidth\u001b[0m \u001b[0;34m=\u001b[0m \u001b[0mmax\u001b[0m\u001b[0;34m(\u001b[0m\u001b[0mpath\u001b[0m\u001b[0;34m)\u001b[0m\u001b[0;34m\u001b[0m\u001b[0;34m\u001b[0m\u001b[0m\n\u001b[1;32m     90\u001b[0m         \u001b[0mself\u001b[0m\u001b[0;34m.\u001b[0m\u001b[0mpeo_ints\u001b[0m \u001b[0;34m=\u001b[0m \u001b[0;34m[\u001b[0m\u001b[0mint\u001b[0m\u001b[0;34m(\u001b[0m\u001b[0mx\u001b[0m\u001b[0;34m)\u001b[0m \u001b[0;32mfor\u001b[0m \u001b[0mx\u001b[0m \u001b[0;32min\u001b[0m \u001b[0mpeo\u001b[0m\u001b[0;34m]\u001b[0m\u001b[0;34m\u001b[0m\u001b[0;34m\u001b[0m\u001b[0m\n",
      "\u001b[0;32m~/anl/Qensor/qtensor/optimisation/RGreedy.py\u001b[0m in \u001b[0;36m_get_ordering\u001b[0;34m(self, graph, **kwargs)\u001b[0m\n\u001b[1;32m     34\u001b[0m         \u001b[0mnode_names\u001b[0m \u001b[0;34m=\u001b[0m \u001b[0mnx\u001b[0m\u001b[0;34m.\u001b[0m\u001b[0mget_node_attributes\u001b[0m\u001b[0;34m(\u001b[0m\u001b[0mgraph\u001b[0m\u001b[0;34m,\u001b[0m \u001b[0;34m'name'\u001b[0m\u001b[0;34m)\u001b[0m\u001b[0;34m\u001b[0m\u001b[0;34m\u001b[0m\u001b[0m\n\u001b[1;32m     35\u001b[0m         \u001b[0mnode_sizes\u001b[0m \u001b[0;34m=\u001b[0m \u001b[0mnx\u001b[0m\u001b[0;34m.\u001b[0m\u001b[0mget_node_attributes\u001b[0m\u001b[0;34m(\u001b[0m\u001b[0mgraph\u001b[0m\u001b[0;34m,\u001b[0m \u001b[0;34m'size'\u001b[0m\u001b[0;34m)\u001b[0m\u001b[0;34m\u001b[0m\u001b[0;34m\u001b[0m\u001b[0m\n\u001b[0;32m---> 36\u001b[0;31m         \u001b[0mpeo\u001b[0m\u001b[0;34m,\u001b[0m \u001b[0mpath\u001b[0m \u001b[0;34m=\u001b[0m \u001b[0mself\u001b[0m\u001b[0;34m.\u001b[0m\u001b[0m_get_ordering_ints\u001b[0m\u001b[0;34m(\u001b[0m\u001b[0mgraph\u001b[0m\u001b[0;34m)\u001b[0m\u001b[0;34m\u001b[0m\u001b[0;34m\u001b[0m\u001b[0m\n\u001b[0m\u001b[1;32m     37\u001b[0m \u001b[0;34m\u001b[0m\u001b[0m\n\u001b[1;32m     38\u001b[0m         peo = [qtree.optimizer.Var(var, size=node_sizes[var],\n",
      "\u001b[0;32m~/anl/Qensor/qtensor/optimisation/RGreedy.py\u001b[0m in \u001b[0;36m_get_ordering_ints\u001b[0;34m(self, old_graph, free_vars)\u001b[0m\n\u001b[1;32m     61\u001b[0m                 \u001b[0;31m#print(weights)\u001b[0m\u001b[0;34m\u001b[0m\u001b[0;34m\u001b[0m\u001b[0;34m\u001b[0m\u001b[0m\n\u001b[1;32m     62\u001b[0m                 \u001b[0;31m# 1, 3, 5, 2, 1\u001b[0m\u001b[0;34m\u001b[0m\u001b[0;34m\u001b[0m\u001b[0;34m\u001b[0m\u001b[0m\n\u001b[0;32m---> 63\u001b[0;31m                 \u001b[0mdistrib\u001b[0m \u001b[0;34m=\u001b[0m \u001b[0mnp\u001b[0m\u001b[0;34m.\u001b[0m\u001b[0marray\u001b[0m\u001b[0;34m(\u001b[0m\u001b[0;34m[\u001b[0m\u001b[0;36m0\u001b[0m\u001b[0;34m]\u001b[0m\u001b[0;34m+\u001b[0m\u001b[0mlist\u001b[0m\u001b[0;34m(\u001b[0m\u001b[0mreducelist\u001b[0m\u001b[0;34m(\u001b[0m\u001b[0;32mlambda\u001b[0m \u001b[0mx\u001b[0m\u001b[0;34m,\u001b[0m \u001b[0my\u001b[0m\u001b[0;34m:\u001b[0m\u001b[0mx\u001b[0m\u001b[0;34m+\u001b[0m\u001b[0my\u001b[0m\u001b[0;34m,\u001b[0m \u001b[0mweights\u001b[0m\u001b[0;34m,\u001b[0m \u001b[0;36m0\u001b[0m\u001b[0;34m)\u001b[0m\u001b[0;34m)\u001b[0m\u001b[0;34m)\u001b[0m\u001b[0;34m\u001b[0m\u001b[0;34m\u001b[0m\u001b[0m\n\u001b[0m\u001b[1;32m     64\u001b[0m                 \u001b[0;31m#print(distrib)\u001b[0m\u001b[0;34m\u001b[0m\u001b[0;34m\u001b[0m\u001b[0;34m\u001b[0m\u001b[0m\n\u001b[1;32m     65\u001b[0m                 \u001b[0;31m# 0, 1, 4, 9, 11, 12\u001b[0m\u001b[0;34m\u001b[0m\u001b[0;34m\u001b[0m\u001b[0;34m\u001b[0m\u001b[0m\n",
      "\u001b[0;31mKeyboardInterrupt\u001b[0m: "
     ]
    }
   ],
   "source": [
    "_time = ex.get_variable('energy_time', sim='qtensor_merged',\n",
    "                        qtn_backend='tr_einsum',\n",
    "                        N=64, p=4, seed=10, qmb_max_repeats=25,\n",
    "                        qtn_ordering_algo='rgreedy_0.02_25')\n",
    "print(_time)"
   ]
  },
  {
   "cell_type": "code",
   "execution_count": 9,
   "metadata": {},
   "outputs": [
    {
     "name": "stdout",
     "output_type": "stream",
     "text": [
      "Preprocessing for energy query...\n"
     ]
    },
    {
     "data": {
      "application/vnd.jupyter.widget-view+json": {
       "model_id": "8fed8d2ce7e745d78f580d6ca465885d",
       "version_major": 2,
       "version_minor": 0
      },
      "text/plain": [
       "HBox(children=(HTML(value=''), FloatProgress(value=0.0, max=30.0), HTML(value='')))"
      ]
     },
     "metadata": {},
     "output_type": "display_data"
    },
    {
     "name": "stdout",
     "output_type": "stream",
     "text": [
      "(3_w,7)-aCMA-ES (mu_w=2.3,w_1=58%) in dimension 3 (seed=280283025, Wed Mar 10 06:59:42 2021)\n",
      "Iterat #Fevals   function value  axis ratio  sigma  min&max std  t[m:s]\n",
      "    1      7 9.358542284935750e+00 1.0e+00 2.00e-01  2e-01  2e-01 0:08.4\n",
      "    2     14 8.937479050512549e+00 1.3e+00 2.11e-01  2e-01  3e-01 0:16.1\n",
      "    3     21 8.863058257304715e+00 1.7e+00 2.22e-01  2e-01  3e-01 0:23.8\n",
      "    4     28 8.932238861493296e+00 1.6e+00 2.21e-01  2e-01  3e-01 0:31.4\n",
      "    5     35 9.005886547428338e+00 1.8e+00 2.30e-01  2e-01  3e-01 0:38.7\n",
      "    6     42 8.843962109076978e+00 1.8e+00 2.21e-01  2e-01  2e-01 0:45.6\n",
      "    7     49 9.019821852401249e+00 1.4e+00 1.79e-01  1e-01  2e-01 0:52.7\n",
      "    8     56 8.871325620825399e+00 1.9e+00 1.91e-01  1e-01  2e-01 0:59.8\n",
      "   10     70 8.903522281300448e+00 2.2e+00 1.29e-01  6e-02  1e-01 1:14.2\n",
      "(3_w,7)-aCMA-ES (mu_w=2.3,w_1=58%) in dimension 3 (seed=1534959500, Wed Mar 10 07:00:57 2021)\n",
      "Iterat #Fevals   function value  axis ratio  sigma  min&max std  t[m:s]\n",
      "    1      7 8.995005609834658e+00 1.0e+00 1.92e-01  2e-01  2e-01 0:07.7\n",
      "    2     14 8.812949654126919e+00 1.2e+00 2.55e-01  2e-01  3e-01 0:15.0\n",
      "    3     21 8.643855672656095e+00 1.2e+00 3.17e-01  3e-01  3e-01 0:22.0\n",
      "    4     28 8.973276212820341e+00 1.4e+00 3.33e-01  2e-01  4e-01 0:28.7\n",
      "\n"
     ]
    },
    {
     "ename": "KeyboardInterrupt",
     "evalue": "",
     "output_type": "error",
     "traceback": [
      "\u001b[0;31m---------------------------------------------------------------------------\u001b[0m",
      "\u001b[0;31mKeyboardInterrupt\u001b[0m                         Traceback (most recent call last)",
      "\u001b[0;32m<ipython-input-9-23731f71ba8f>\u001b[0m in \u001b[0;36m<module>\u001b[0;34m\u001b[0m\n\u001b[1;32m      4\u001b[0m \u001b[0mp\u001b[0m \u001b[0;34m=\u001b[0m \u001b[0;36m5\u001b[0m\u001b[0;34m\u001b[0m\u001b[0;34m\u001b[0m\u001b[0m\n\u001b[1;32m      5\u001b[0m \u001b[0mG\u001b[0m \u001b[0;34m=\u001b[0m \u001b[0mgraph\u001b[0m\u001b[0;34m(\u001b[0m\u001b[0;36m20\u001b[0m\u001b[0;34m,\u001b[0m \u001b[0mseed\u001b[0m\u001b[0;34m=\u001b[0m\u001b[0;36m14\u001b[0m\u001b[0;34m)\u001b[0m\u001b[0;34m\u001b[0m\u001b[0;34m\u001b[0m\u001b[0m\n\u001b[0;32m----> 6\u001b[0;31m \u001b[0mopts\u001b[0m\u001b[0;34m,\u001b[0m \u001b[0mests\u001b[0m\u001b[0;34m,\u001b[0m \u001b[0mtime\u001b[0m \u001b[0;34m=\u001b[0m \u001b[0msim\u001b[0m\u001b[0;34m.\u001b[0m\u001b[0moptimize_qaoa_energy\u001b[0m\u001b[0;34m(\u001b[0m\u001b[0mG\u001b[0m\u001b[0;34m,\u001b[0m \u001b[0mp\u001b[0m\u001b[0;34m=\u001b[0m\u001b[0mp\u001b[0m\u001b[0;34m)\u001b[0m\u001b[0;34m\u001b[0m\u001b[0;34m\u001b[0m\u001b[0m\n\u001b[0m",
      "\u001b[0;32m~/anl/Qensor/qtensor/tools/benchmarking/simulators.py\u001b[0m in \u001b[0;36moptimize_qaoa_energy\u001b[0;34m(self, G, p, simp_kwargs, **kwargs)\u001b[0m\n\u001b[1;32m    184\u001b[0m         \u001b[0;32mwith\u001b[0m \u001b[0mprofiles\u001b[0m\u001b[0;34m.\u001b[0m\u001b[0mtiming\u001b[0m\u001b[0;34m(\u001b[0m\u001b[0;34m)\u001b[0m \u001b[0;32mas\u001b[0m \u001b[0mt\u001b[0m\u001b[0;34m:\u001b[0m\u001b[0;34m\u001b[0m\u001b[0;34m\u001b[0m\u001b[0m\n\u001b[1;32m    185\u001b[0m             \u001b[0mself\u001b[0m\u001b[0;34m.\u001b[0m\u001b[0mq\u001b[0m \u001b[0;34m=\u001b[0m \u001b[0macqdp_qaoa\u001b[0m\u001b[0;34m.\u001b[0m\u001b[0mQAOAOptimizer\u001b[0m\u001b[0;34m(\u001b[0m\u001b[0ma\u001b[0m\u001b[0;34m,\u001b[0m \u001b[0mnum_layers\u001b[0m\u001b[0;34m=\u001b[0m\u001b[0mp\u001b[0m\u001b[0;34m)\u001b[0m\u001b[0;34m\u001b[0m\u001b[0;34m\u001b[0m\u001b[0m\n\u001b[0;32m--> 186\u001b[0;31m             self.q.preprocess(\n\u001b[0m\u001b[1;32m    187\u001b[0m                 \u001b[0morder_finder_name\u001b[0m\u001b[0;34m=\u001b[0m\u001b[0mself\u001b[0m\u001b[0;34m.\u001b[0m\u001b[0mordering_algo\u001b[0m\u001b[0;34m,\u001b[0m\u001b[0;34m\u001b[0m\u001b[0;34m\u001b[0m\u001b[0m\n\u001b[1;32m    188\u001b[0m                 \u001b[0morder_finder_params\u001b[0m\u001b[0;34m=\u001b[0m\u001b[0mself\u001b[0m\u001b[0;34m.\u001b[0m\u001b[0morder_finder_params\u001b[0m\u001b[0;34m\u001b[0m\u001b[0;34m\u001b[0m\u001b[0m\n",
      "\u001b[0;32m~/anl/Qensor/qtensor/tests/acqdp_qaoa/qaoa.py\u001b[0m in \u001b[0;36mpreprocess\u001b[0;34m(self, **kwargs)\u001b[0m\n\u001b[1;32m    169\u001b[0m                 \u001b[0mm\u001b[0m \u001b[0;34m=\u001b[0m \u001b[0mclause\u001b[0m\u001b[0;34m[\u001b[0m\u001b[0;34m'weight'\u001b[0m\u001b[0;34m]\u001b[0m\u001b[0;34m\u001b[0m\u001b[0;34m\u001b[0m\u001b[0m\n\u001b[1;32m    170\u001b[0m                 \u001b[0mclause\u001b[0m \u001b[0;34m=\u001b[0m \u001b[0mclause\u001b[0m\u001b[0;34m[\u001b[0m\u001b[0;34m'clause'\u001b[0m\u001b[0;34m]\u001b[0m\u001b[0;34m\u001b[0m\u001b[0;34m\u001b[0m\u001b[0m\n\u001b[0;32m--> 171\u001b[0;31m             \u001b[0ma\u001b[0m\u001b[0;34m,\u001b[0m \u001b[0mb\u001b[0m \u001b[0;34m=\u001b[0m \u001b[0mself\u001b[0m\u001b[0;34m.\u001b[0m\u001b[0mpreprocess_clause\u001b[0m\u001b[0;34m(\u001b[0m\u001b[0mclause\u001b[0m\u001b[0;34m,\u001b[0m \u001b[0mmultiplier\u001b[0m\u001b[0;34m=\u001b[0m\u001b[0mm\u001b[0m\u001b[0;34m,\u001b[0m \u001b[0;34m**\u001b[0m\u001b[0mkwargs\u001b[0m\u001b[0;34m)\u001b[0m\u001b[0;34m\u001b[0m\u001b[0;34m\u001b[0m\u001b[0m\n\u001b[0m\u001b[1;32m    172\u001b[0m             \u001b[0mself\u001b[0m\u001b[0;34m.\u001b[0m\u001b[0mquery_dict\u001b[0m\u001b[0;34m.\u001b[0m\u001b[0mupdate\u001b[0m\u001b[0;34m(\u001b[0m\u001b[0ma\u001b[0m\u001b[0;34m)\u001b[0m\u001b[0;34m\u001b[0m\u001b[0;34m\u001b[0m\u001b[0m\n\u001b[1;32m    173\u001b[0m             \u001b[0mself\u001b[0m\u001b[0;34m.\u001b[0m\u001b[0mdata_dict\u001b[0m\u001b[0;34m.\u001b[0m\u001b[0mupdate\u001b[0m\u001b[0;34m(\u001b[0m\u001b[0mb\u001b[0m\u001b[0;34m)\u001b[0m\u001b[0;34m\u001b[0m\u001b[0;34m\u001b[0m\u001b[0m\n",
      "\u001b[0;32m~/anl/Qensor/qtensor/tests/acqdp_qaoa/qaoa.py\u001b[0m in \u001b[0;36mpreprocess_clause\u001b[0;34m(self, clause, **kwargs)\u001b[0m\n\u001b[1;32m    140\u001b[0m         \u001b[0mmultiplier\u001b[0m \u001b[0;34m*=\u001b[0m \u001b[0;36m2\u001b[0m \u001b[0;34m**\u001b[0m \u001b[0;34m(\u001b[0m\u001b[0;34m-\u001b[0m\u001b[0mlen\u001b[0m\u001b[0;34m(\u001b[0m\u001b[0mset_qubits\u001b[0m\u001b[0;34m)\u001b[0m\u001b[0;34m)\u001b[0m\u001b[0;34m\u001b[0m\u001b[0;34m\u001b[0m\u001b[0m\n\u001b[1;32m    141\u001b[0m         \u001b[0mtn\u001b[0m\u001b[0;34m.\u001b[0m\u001b[0madd_node\u001b[0m\u001b[0;34m(\u001b[0m\u001b[0;34m(\u001b[0m\u001b[0;36m0\u001b[0m\u001b[0;34m,\u001b[0m \u001b[0mclause\u001b[0m\u001b[0;34m)\u001b[0m\u001b[0;34m,\u001b[0m \u001b[0;34m[\u001b[0m\u001b[0;34m(\u001b[0m\u001b[0;36m0\u001b[0m\u001b[0;34m,\u001b[0m \u001b[0mi\u001b[0m\u001b[0;34m)\u001b[0m \u001b[0;32mfor\u001b[0m \u001b[0mi\u001b[0m \u001b[0;32min\u001b[0m \u001b[0mclause\u001b[0m\u001b[0;34m]\u001b[0m\u001b[0;34m,\u001b[0m \u001b[0;32mNone\u001b[0m\u001b[0;34m)\u001b[0m\u001b[0;34m\u001b[0m\u001b[0;34m\u001b[0m\u001b[0m\n\u001b[0;32m--> 142\u001b[0;31m         \u001b[0mcontraction_scheme\u001b[0m \u001b[0;34m=\u001b[0m \u001b[0mtn\u001b[0m\u001b[0;34m.\u001b[0m\u001b[0mfind_order\u001b[0m\u001b[0;34m(\u001b[0m\u001b[0;34m**\u001b[0m\u001b[0mkwargs\u001b[0m\u001b[0;34m)\u001b[0m\u001b[0;34m\u001b[0m\u001b[0;34m\u001b[0m\u001b[0m\n\u001b[0m\u001b[1;32m    143\u001b[0m         \u001b[0;31m# DL: add cost accumulation\u001b[0m\u001b[0;34m\u001b[0m\u001b[0;34m\u001b[0m\u001b[0;34m\u001b[0m\u001b[0m\n\u001b[1;32m    144\u001b[0m         self.lightcone_flops_mems.append(\n",
      "\u001b[0;32m~/git-build/acqdp/acqdp/tensor_network/tensor_network.py\u001b[0m in \u001b[0;36mfind_order\u001b[0;34m(self, input_file, output_file, **kwargs)\u001b[0m\n\u001b[1;32m     90\u001b[0m                 \u001b[0mprint\u001b[0m\u001b[0;34m(\u001b[0m\u001b[0;34m'Order file not found. Proceed to order finding procedure'\u001b[0m\u001b[0;34m)\u001b[0m\u001b[0;34m\u001b[0m\u001b[0;34m\u001b[0m\u001b[0m\n\u001b[1;32m     91\u001b[0m         \u001b[0;32mfrom\u001b[0m \u001b[0macqdp\u001b[0m\u001b[0;34m.\u001b[0m\u001b[0mtensor_network\u001b[0m\u001b[0;34m.\u001b[0m\u001b[0morder_finder\u001b[0m \u001b[0;32mimport\u001b[0m \u001b[0mget_order_finder\u001b[0m\u001b[0;34m\u001b[0m\u001b[0;34m\u001b[0m\u001b[0m\n\u001b[0;32m---> 92\u001b[0;31m         \u001b[0mres\u001b[0m \u001b[0;34m=\u001b[0m \u001b[0mnext\u001b[0m\u001b[0;34m(\u001b[0m\u001b[0mget_order_finder\u001b[0m\u001b[0;34m(\u001b[0m\u001b[0;34m**\u001b[0m\u001b[0mkwargs\u001b[0m\u001b[0;34m)\u001b[0m\u001b[0;34m.\u001b[0m\u001b[0mfind_order\u001b[0m\u001b[0;34m(\u001b[0m\u001b[0mself\u001b[0m\u001b[0;34m)\u001b[0m\u001b[0;34m)\u001b[0m\u001b[0;34m\u001b[0m\u001b[0;34m\u001b[0m\u001b[0m\n\u001b[0m\u001b[1;32m     93\u001b[0m         \u001b[0;32mif\u001b[0m \u001b[0moutput_file\u001b[0m \u001b[0;32mis\u001b[0m \u001b[0;32mnot\u001b[0m \u001b[0;32mNone\u001b[0m\u001b[0;34m:\u001b[0m\u001b[0;34m\u001b[0m\u001b[0;34m\u001b[0m\u001b[0m\n\u001b[1;32m     94\u001b[0m             \u001b[0;32mwith\u001b[0m \u001b[0mopen\u001b[0m\u001b[0;34m(\u001b[0m\u001b[0moutput_file\u001b[0m\u001b[0;34m,\u001b[0m \u001b[0;34m'w'\u001b[0m\u001b[0;34m)\u001b[0m \u001b[0;32mas\u001b[0m \u001b[0mf\u001b[0m\u001b[0;34m:\u001b[0m\u001b[0;34m\u001b[0m\u001b[0;34m\u001b[0m\u001b[0m\n",
      "\u001b[0;32m~/git-build/acqdp/acqdp/tensor_network/kahypar_order_finder.py\u001b[0m in \u001b[0;36mfind_order\u001b[0;34m(self, graph)\u001b[0m\n\u001b[1;32m    139\u001b[0m                     \u001b[0;32mreturn\u001b[0m \u001b[0mnumpy\u001b[0m\u001b[0;34m.\u001b[0m\u001b[0mlog10\u001b[0m\u001b[0;34m(\u001b[0m\u001b[0mfloat\u001b[0m\u001b[0;34m(\u001b[0m\u001b[0mres\u001b[0m\u001b[0;34m.\u001b[0m\u001b[0mcost\u001b[0m\u001b[0;34m.\u001b[0m\u001b[0ms\u001b[0m\u001b[0;34m)\u001b[0m\u001b[0;34m)\u001b[0m\u001b[0;34m\u001b[0m\u001b[0;34m\u001b[0m\u001b[0m\n\u001b[1;32m    140\u001b[0m \u001b[0;34m\u001b[0m\u001b[0m\n\u001b[0;32m--> 141\u001b[0;31m                 es = cma.CMAEvolutionStrategy(\n\u001b[0m\u001b[1;32m    142\u001b[0m                     \u001b[0mself\u001b[0m\u001b[0;34m.\u001b[0m\u001b[0mcma_args\u001b[0m\u001b[0;34m[\u001b[0m\u001b[0;34m'bounds'\u001b[0m\u001b[0;34m]\u001b[0m\u001b[0;34m,\u001b[0m \u001b[0mself\u001b[0m\u001b[0;34m.\u001b[0m\u001b[0mcma_args\u001b[0m\u001b[0;34m[\u001b[0m\u001b[0;34m'std_dev'\u001b[0m\u001b[0;34m]\u001b[0m\u001b[0;34m,\u001b[0m\u001b[0;34m\u001b[0m\u001b[0;34m\u001b[0m\u001b[0m\n\u001b[1;32m    143\u001b[0m                     \u001b[0mself\u001b[0m\u001b[0;34m.\u001b[0m\u001b[0mcma_args\u001b[0m\u001b[0;34m[\u001b[0m\u001b[0;34m'kwargs'\u001b[0m\u001b[0;34m]\u001b[0m\u001b[0;34m)\u001b[0m\u001b[0;34m.\u001b[0m\u001b[0moptimize\u001b[0m\u001b[0;34m(\u001b[0m\u001b[0mprobe_value\u001b[0m\u001b[0;34m,\u001b[0m\u001b[0;34m\u001b[0m\u001b[0;34m\u001b[0m\u001b[0m\n",
      "\u001b[0;32m~/.local/bin/lib/python3.8/site-packages/cma/interfaces.py\u001b[0m in \u001b[0;36moptimize\u001b[0;34m(self, objective_fct, maxfun, iterations, min_iterations, args, verb_disp, callback, n_jobs, **kwargs)\u001b[0m\n\u001b[1;32m    206\u001b[0m                 \u001b[0mX\u001b[0m \u001b[0;34m=\u001b[0m \u001b[0mself\u001b[0m\u001b[0;34m.\u001b[0m\u001b[0mask\u001b[0m\u001b[0;34m(\u001b[0m\u001b[0;34m)\u001b[0m  \u001b[0;31m# deliver candidate solutions\u001b[0m\u001b[0;34m\u001b[0m\u001b[0;34m\u001b[0m\u001b[0m\n\u001b[1;32m    207\u001b[0m                 \u001b[0;31m# fitvals = [objective_fct(x, *args) for x in X]\u001b[0m\u001b[0;34m\u001b[0m\u001b[0;34m\u001b[0m\u001b[0;34m\u001b[0m\u001b[0m\n\u001b[0;32m--> 208\u001b[0;31m                 \u001b[0mfitvals\u001b[0m \u001b[0;34m=\u001b[0m \u001b[0meval_all\u001b[0m\u001b[0;34m(\u001b[0m\u001b[0mX\u001b[0m\u001b[0;34m,\u001b[0m \u001b[0margs\u001b[0m\u001b[0;34m=\u001b[0m\u001b[0margs\u001b[0m\u001b[0;34m)\u001b[0m\u001b[0;34m\u001b[0m\u001b[0;34m\u001b[0m\u001b[0m\n\u001b[0m\u001b[1;32m    209\u001b[0m                 \u001b[0mcevals\u001b[0m \u001b[0;34m+=\u001b[0m \u001b[0mlen\u001b[0m\u001b[0;34m(\u001b[0m\u001b[0mfitvals\u001b[0m\u001b[0;34m)\u001b[0m\u001b[0;34m\u001b[0m\u001b[0;34m\u001b[0m\u001b[0m\n\u001b[1;32m    210\u001b[0m                 \u001b[0mself\u001b[0m\u001b[0;34m.\u001b[0m\u001b[0mtell\u001b[0m\u001b[0;34m(\u001b[0m\u001b[0mX\u001b[0m\u001b[0;34m,\u001b[0m \u001b[0mfitvals\u001b[0m\u001b[0;34m)\u001b[0m  \u001b[0;31m# all the work is done here\u001b[0m\u001b[0;34m\u001b[0m\u001b[0;34m\u001b[0m\u001b[0m\n",
      "\u001b[0;32m~/.local/bin/lib/python3.8/site-packages/cma/optimization_tools.py\u001b[0m in \u001b[0;36m__call__\u001b[0;34m(self, solutions, fitness_function, args, timeout)\u001b[0m\n\u001b[1;32m    269\u001b[0m                              \" passed in `__init__` or `__call__`\")\n\u001b[1;32m    270\u001b[0m         \u001b[0;32mif\u001b[0m \u001b[0;32mnot\u001b[0m \u001b[0mself\u001b[0m\u001b[0;34m.\u001b[0m\u001b[0mpool\u001b[0m\u001b[0;34m:\u001b[0m\u001b[0;34m\u001b[0m\u001b[0;34m\u001b[0m\u001b[0m\n\u001b[0;32m--> 271\u001b[0;31m             \u001b[0;32mreturn\u001b[0m \u001b[0;34m[\u001b[0m\u001b[0mfitness_function\u001b[0m\u001b[0;34m(\u001b[0m\u001b[0mx\u001b[0m\u001b[0;34m,\u001b[0m \u001b[0;34m*\u001b[0m\u001b[0margs\u001b[0m\u001b[0;34m)\u001b[0m \u001b[0;32mfor\u001b[0m \u001b[0mx\u001b[0m \u001b[0;32min\u001b[0m \u001b[0msolutions\u001b[0m\u001b[0;34m]\u001b[0m\u001b[0;34m\u001b[0m\u001b[0;34m\u001b[0m\u001b[0m\n\u001b[0m\u001b[1;32m    272\u001b[0m         warning_str = (\"`fitness_function` must be a function, not a\"\n\u001b[1;32m    273\u001b[0m                        \u001b[0;34m\" `lambda` or an instancemethod, in order to work with\"\u001b[0m\u001b[0;34m\u001b[0m\u001b[0;34m\u001b[0m\u001b[0m\n",
      "\u001b[0;32m~/.local/bin/lib/python3.8/site-packages/cma/optimization_tools.py\u001b[0m in \u001b[0;36m<listcomp>\u001b[0;34m(.0)\u001b[0m\n\u001b[1;32m    269\u001b[0m                              \" passed in `__init__` or `__call__`\")\n\u001b[1;32m    270\u001b[0m         \u001b[0;32mif\u001b[0m \u001b[0;32mnot\u001b[0m \u001b[0mself\u001b[0m\u001b[0;34m.\u001b[0m\u001b[0mpool\u001b[0m\u001b[0;34m:\u001b[0m\u001b[0;34m\u001b[0m\u001b[0;34m\u001b[0m\u001b[0m\n\u001b[0;32m--> 271\u001b[0;31m             \u001b[0;32mreturn\u001b[0m \u001b[0;34m[\u001b[0m\u001b[0mfitness_function\u001b[0m\u001b[0;34m(\u001b[0m\u001b[0mx\u001b[0m\u001b[0;34m,\u001b[0m \u001b[0;34m*\u001b[0m\u001b[0margs\u001b[0m\u001b[0;34m)\u001b[0m \u001b[0;32mfor\u001b[0m \u001b[0mx\u001b[0m \u001b[0;32min\u001b[0m \u001b[0msolutions\u001b[0m\u001b[0;34m]\u001b[0m\u001b[0;34m\u001b[0m\u001b[0;34m\u001b[0m\u001b[0m\n\u001b[0m\u001b[1;32m    272\u001b[0m         warning_str = (\"`fitness_function` must be a function, not a\"\n\u001b[1;32m    273\u001b[0m                        \u001b[0;34m\" `lambda` or an instancemethod, in order to work with\"\u001b[0m\u001b[0;34m\u001b[0m\u001b[0;34m\u001b[0m\u001b[0m\n",
      "\u001b[0;32m~/git-build/acqdp/acqdp/tensor_network/kahypar_order_finder.py\u001b[0m in \u001b[0;36mprobe_value\u001b[0;34m(x)\u001b[0m\n\u001b[1;32m    136\u001b[0m \u001b[0;34m\u001b[0m\u001b[0m\n\u001b[1;32m    137\u001b[0m                 \u001b[0;32mdef\u001b[0m \u001b[0mprobe_value\u001b[0m\u001b[0;34m(\u001b[0m\u001b[0mx\u001b[0m\u001b[0;34m)\u001b[0m\u001b[0;34m:\u001b[0m\u001b[0;34m\u001b[0m\u001b[0;34m\u001b[0m\u001b[0m\n\u001b[0;32m--> 138\u001b[0;31m                     \u001b[0mres\u001b[0m \u001b[0;34m=\u001b[0m \u001b[0mprobe\u001b[0m\u001b[0;34m(\u001b[0m\u001b[0;34m[\u001b[0m\u001b[0mx\u001b[0m\u001b[0;34m[\u001b[0m\u001b[0;36m0\u001b[0m\u001b[0;34m]\u001b[0m\u001b[0;34m,\u001b[0m \u001b[0mx\u001b[0m\u001b[0;34m[\u001b[0m\u001b[0;36m1\u001b[0m\u001b[0;34m]\u001b[0m\u001b[0;34m,\u001b[0m \u001b[0mseed_f\u001b[0m\u001b[0;34m]\u001b[0m\u001b[0;34m)\u001b[0m\u001b[0;34m\u001b[0m\u001b[0;34m\u001b[0m\u001b[0m\n\u001b[0m\u001b[1;32m    139\u001b[0m                     \u001b[0;32mreturn\u001b[0m \u001b[0mnumpy\u001b[0m\u001b[0;34m.\u001b[0m\u001b[0mlog10\u001b[0m\u001b[0;34m(\u001b[0m\u001b[0mfloat\u001b[0m\u001b[0;34m(\u001b[0m\u001b[0mres\u001b[0m\u001b[0;34m.\u001b[0m\u001b[0mcost\u001b[0m\u001b[0;34m.\u001b[0m\u001b[0ms\u001b[0m\u001b[0;34m)\u001b[0m\u001b[0;34m)\u001b[0m\u001b[0;34m\u001b[0m\u001b[0;34m\u001b[0m\u001b[0m\n\u001b[1;32m    140\u001b[0m \u001b[0;34m\u001b[0m\u001b[0m\n",
      "\u001b[0;32m~/git-build/acqdp/acqdp/tensor_network/kahypar_order_finder.py\u001b[0m in \u001b[0;36mprobe\u001b[0;34m(x)\u001b[0m\n\u001b[1;32m    121\u001b[0m                 \u001b[0meps\u001b[0m \u001b[0;34m=\u001b[0m \u001b[0;34m[\u001b[0m\u001b[0mx\u001b[0m\u001b[0;34m[\u001b[0m\u001b[0;36m0\u001b[0m\u001b[0;34m]\u001b[0m\u001b[0;34m,\u001b[0m \u001b[0;36m0.95\u001b[0m \u001b[0;34m+\u001b[0m \u001b[0;36m0.049\u001b[0m \u001b[0;34m*\u001b[0m \u001b[0mx\u001b[0m\u001b[0;34m[\u001b[0m\u001b[0;36m1\u001b[0m\u001b[0;34m]\u001b[0m\u001b[0;34m]\u001b[0m\u001b[0;34m\u001b[0m\u001b[0;34m\u001b[0m\u001b[0m\n\u001b[1;32m    122\u001b[0m                 \u001b[0;32mwith\u001b[0m \u001b[0mPool\u001b[0m\u001b[0;34m(\u001b[0m\u001b[0mself\u001b[0m\u001b[0;34m.\u001b[0m\u001b[0mnum_threads\u001b[0m\u001b[0;34m)\u001b[0m \u001b[0;32mas\u001b[0m \u001b[0mp\u001b[0m\u001b[0;34m:\u001b[0m\u001b[0;34m\u001b[0m\u001b[0;34m\u001b[0m\u001b[0m\n\u001b[0;32m--> 123\u001b[0;31m                     reses = p.starmap(\n\u001b[0m\u001b[1;32m    124\u001b[0m                         \u001b[0mquery\u001b[0m\u001b[0;34m,\u001b[0m\u001b[0;34m\u001b[0m\u001b[0;34m\u001b[0m\u001b[0m\n\u001b[1;32m    125\u001b[0m                         [(self, s, eps, graph_copy, int(\n",
      "\u001b[0;32m~/.local/bin/lib/python3.8/multiprocessing/pool.py\u001b[0m in \u001b[0;36mstarmap\u001b[0;34m(self, func, iterable, chunksize)\u001b[0m\n\u001b[1;32m    370\u001b[0m         \u001b[0;31m`\u001b[0m\u001b[0mfunc\u001b[0m\u001b[0;31m`\u001b[0m \u001b[0;32mand\u001b[0m \u001b[0;34m(\u001b[0m\u001b[0ma\u001b[0m\u001b[0;34m,\u001b[0m \u001b[0mb\u001b[0m\u001b[0;34m)\u001b[0m \u001b[0mbecomes\u001b[0m \u001b[0mfunc\u001b[0m\u001b[0;34m(\u001b[0m\u001b[0ma\u001b[0m\u001b[0;34m,\u001b[0m \u001b[0mb\u001b[0m\u001b[0;34m)\u001b[0m\u001b[0;34m.\u001b[0m\u001b[0;34m\u001b[0m\u001b[0;34m\u001b[0m\u001b[0m\n\u001b[1;32m    371\u001b[0m         '''\n\u001b[0;32m--> 372\u001b[0;31m         \u001b[0;32mreturn\u001b[0m \u001b[0mself\u001b[0m\u001b[0;34m.\u001b[0m\u001b[0m_map_async\u001b[0m\u001b[0;34m(\u001b[0m\u001b[0mfunc\u001b[0m\u001b[0;34m,\u001b[0m \u001b[0miterable\u001b[0m\u001b[0;34m,\u001b[0m \u001b[0mstarmapstar\u001b[0m\u001b[0;34m,\u001b[0m \u001b[0mchunksize\u001b[0m\u001b[0;34m)\u001b[0m\u001b[0;34m.\u001b[0m\u001b[0mget\u001b[0m\u001b[0;34m(\u001b[0m\u001b[0;34m)\u001b[0m\u001b[0;34m\u001b[0m\u001b[0;34m\u001b[0m\u001b[0m\n\u001b[0m\u001b[1;32m    373\u001b[0m \u001b[0;34m\u001b[0m\u001b[0m\n\u001b[1;32m    374\u001b[0m     def starmap_async(self, func, iterable, chunksize=None, callback=None,\n",
      "\u001b[0;32m~/.local/bin/lib/python3.8/multiprocessing/pool.py\u001b[0m in \u001b[0;36mget\u001b[0;34m(self, timeout)\u001b[0m\n\u001b[1;32m    760\u001b[0m \u001b[0;34m\u001b[0m\u001b[0m\n\u001b[1;32m    761\u001b[0m     \u001b[0;32mdef\u001b[0m \u001b[0mget\u001b[0m\u001b[0;34m(\u001b[0m\u001b[0mself\u001b[0m\u001b[0;34m,\u001b[0m \u001b[0mtimeout\u001b[0m\u001b[0;34m=\u001b[0m\u001b[0;32mNone\u001b[0m\u001b[0;34m)\u001b[0m\u001b[0;34m:\u001b[0m\u001b[0;34m\u001b[0m\u001b[0;34m\u001b[0m\u001b[0m\n\u001b[0;32m--> 762\u001b[0;31m         \u001b[0mself\u001b[0m\u001b[0;34m.\u001b[0m\u001b[0mwait\u001b[0m\u001b[0;34m(\u001b[0m\u001b[0mtimeout\u001b[0m\u001b[0;34m)\u001b[0m\u001b[0;34m\u001b[0m\u001b[0;34m\u001b[0m\u001b[0m\n\u001b[0m\u001b[1;32m    763\u001b[0m         \u001b[0;32mif\u001b[0m \u001b[0;32mnot\u001b[0m \u001b[0mself\u001b[0m\u001b[0;34m.\u001b[0m\u001b[0mready\u001b[0m\u001b[0;34m(\u001b[0m\u001b[0;34m)\u001b[0m\u001b[0;34m:\u001b[0m\u001b[0;34m\u001b[0m\u001b[0;34m\u001b[0m\u001b[0m\n\u001b[1;32m    764\u001b[0m             \u001b[0;32mraise\u001b[0m \u001b[0mTimeoutError\u001b[0m\u001b[0;34m\u001b[0m\u001b[0;34m\u001b[0m\u001b[0m\n",
      "\u001b[0;32m~/.local/bin/lib/python3.8/multiprocessing/pool.py\u001b[0m in \u001b[0;36mwait\u001b[0;34m(self, timeout)\u001b[0m\n\u001b[1;32m    757\u001b[0m \u001b[0;34m\u001b[0m\u001b[0m\n\u001b[1;32m    758\u001b[0m     \u001b[0;32mdef\u001b[0m \u001b[0mwait\u001b[0m\u001b[0;34m(\u001b[0m\u001b[0mself\u001b[0m\u001b[0;34m,\u001b[0m \u001b[0mtimeout\u001b[0m\u001b[0;34m=\u001b[0m\u001b[0;32mNone\u001b[0m\u001b[0;34m)\u001b[0m\u001b[0;34m:\u001b[0m\u001b[0;34m\u001b[0m\u001b[0;34m\u001b[0m\u001b[0m\n\u001b[0;32m--> 759\u001b[0;31m         \u001b[0mself\u001b[0m\u001b[0;34m.\u001b[0m\u001b[0m_event\u001b[0m\u001b[0;34m.\u001b[0m\u001b[0mwait\u001b[0m\u001b[0;34m(\u001b[0m\u001b[0mtimeout\u001b[0m\u001b[0;34m)\u001b[0m\u001b[0;34m\u001b[0m\u001b[0;34m\u001b[0m\u001b[0m\n\u001b[0m\u001b[1;32m    760\u001b[0m \u001b[0;34m\u001b[0m\u001b[0m\n\u001b[1;32m    761\u001b[0m     \u001b[0;32mdef\u001b[0m \u001b[0mget\u001b[0m\u001b[0;34m(\u001b[0m\u001b[0mself\u001b[0m\u001b[0;34m,\u001b[0m \u001b[0mtimeout\u001b[0m\u001b[0;34m=\u001b[0m\u001b[0;32mNone\u001b[0m\u001b[0;34m)\u001b[0m\u001b[0;34m:\u001b[0m\u001b[0;34m\u001b[0m\u001b[0;34m\u001b[0m\u001b[0m\n",
      "\u001b[0;32m~/.local/bin/lib/python3.8/threading.py\u001b[0m in \u001b[0;36mwait\u001b[0;34m(self, timeout)\u001b[0m\n\u001b[1;32m    556\u001b[0m             \u001b[0msignaled\u001b[0m \u001b[0;34m=\u001b[0m \u001b[0mself\u001b[0m\u001b[0;34m.\u001b[0m\u001b[0m_flag\u001b[0m\u001b[0;34m\u001b[0m\u001b[0;34m\u001b[0m\u001b[0m\n\u001b[1;32m    557\u001b[0m             \u001b[0;32mif\u001b[0m \u001b[0;32mnot\u001b[0m \u001b[0msignaled\u001b[0m\u001b[0;34m:\u001b[0m\u001b[0;34m\u001b[0m\u001b[0;34m\u001b[0m\u001b[0m\n\u001b[0;32m--> 558\u001b[0;31m                 \u001b[0msignaled\u001b[0m \u001b[0;34m=\u001b[0m \u001b[0mself\u001b[0m\u001b[0;34m.\u001b[0m\u001b[0m_cond\u001b[0m\u001b[0;34m.\u001b[0m\u001b[0mwait\u001b[0m\u001b[0;34m(\u001b[0m\u001b[0mtimeout\u001b[0m\u001b[0;34m)\u001b[0m\u001b[0;34m\u001b[0m\u001b[0;34m\u001b[0m\u001b[0m\n\u001b[0m\u001b[1;32m    559\u001b[0m             \u001b[0;32mreturn\u001b[0m \u001b[0msignaled\u001b[0m\u001b[0;34m\u001b[0m\u001b[0;34m\u001b[0m\u001b[0m\n\u001b[1;32m    560\u001b[0m \u001b[0;34m\u001b[0m\u001b[0m\n",
      "\u001b[0;32m~/.local/bin/lib/python3.8/threading.py\u001b[0m in \u001b[0;36mwait\u001b[0;34m(self, timeout)\u001b[0m\n\u001b[1;32m    300\u001b[0m         \u001b[0;32mtry\u001b[0m\u001b[0;34m:\u001b[0m    \u001b[0;31m# restore state no matter what (e.g., KeyboardInterrupt)\u001b[0m\u001b[0;34m\u001b[0m\u001b[0;34m\u001b[0m\u001b[0m\n\u001b[1;32m    301\u001b[0m             \u001b[0;32mif\u001b[0m \u001b[0mtimeout\u001b[0m \u001b[0;32mis\u001b[0m \u001b[0;32mNone\u001b[0m\u001b[0;34m:\u001b[0m\u001b[0;34m\u001b[0m\u001b[0;34m\u001b[0m\u001b[0m\n\u001b[0;32m--> 302\u001b[0;31m                 \u001b[0mwaiter\u001b[0m\u001b[0;34m.\u001b[0m\u001b[0macquire\u001b[0m\u001b[0;34m(\u001b[0m\u001b[0;34m)\u001b[0m\u001b[0;34m\u001b[0m\u001b[0;34m\u001b[0m\u001b[0m\n\u001b[0m\u001b[1;32m    303\u001b[0m                 \u001b[0mgotit\u001b[0m \u001b[0;34m=\u001b[0m \u001b[0;32mTrue\u001b[0m\u001b[0;34m\u001b[0m\u001b[0;34m\u001b[0m\u001b[0m\n\u001b[1;32m    304\u001b[0m             \u001b[0;32melse\u001b[0m\u001b[0;34m:\u001b[0m\u001b[0;34m\u001b[0m\u001b[0;34m\u001b[0m\u001b[0m\n",
      "\u001b[0;31mKeyboardInterrupt\u001b[0m: "
     ]
    }
   ],
   "source": [
    "#sim = qtensor.tools.benchmarking.simulators.MergedQtensorSimulator(backend='tr_einsum')\n",
    "sim = qtensor.tools.benchmarking.simulators.AcqdpSimulator(\n",
    "    ordering_algo='khp', order_finder_params=dict(num_iters=10, num_threads=1))\n",
    "p = 5\n",
    "G = graph(20, seed=14)\n",
    "opts, ests, time = sim.optimize_qaoa_energy(G, p=p)"
   ]
  },
  {
   "cell_type": "code",
   "execution_count": 8,
   "metadata": {
    "scrolled": true
   },
   "outputs": [
    {
     "name": "stdout",
     "output_type": "stream",
     "text": [
      "[20.0, 20.0, 20.0, 20.0, 20.0, 20.0, 20.0, 20.0, 20.0, 20.0, 20.0, 20.0, 20.0, 20.0, 20.0, 20.0, 20.0, 20.0, 20.0, 20.0, 20.0, 20.0, 20.0, 20.0, 20.0, 20.0, 20.0, 20.0, 20.0, 20.0]\n"
     ]
    }
   ],
   "source": [
    "print([e.width for e in ests])"
   ]
  },
  {
   "cell_type": "code",
   "execution_count": 17,
   "metadata": {
    "scrolled": true
   },
   "outputs": [
    {
     "name": "stdout",
     "output_type": "stream",
     "text": [
      "[28, 27, 24, 25, 24, 25, 26, 29, 29, 28, 29, 26, 24, 30, 28, 25, 26, 26, 27, 26, 28, 29, 28, 30, 28, 27, 30, 26, 25, 23]\n"
     ]
    }
   ],
   "source": [
    "print([e.width for e in ests])"
   ]
  },
  {
   "cell_type": "code",
   "execution_count": 18,
   "metadata": {},
   "outputs": [
    {
     "name": "stdout",
     "output_type": "stream",
     "text": [
      "[i_0, i_1, i_2, i_3, i_4, i_5, i_6, i_7, i_8, i_9, i_10, i_11, i_12, i_13, i_14, i_15, i_16, i_17, i_18, i_19, o_0, o_1, o_2, o_3, o_4, o_5, o_6, o_7, o_8, o_9, o_10, o_11, o_12, o_13, o_14, o_15, o_16, o_17, o_18, o_19, v_20, v_21, v_22, v_23, v_24, v_25, v_26, v_27, v_28, v_29, v_30, v_31, v_32, v_33, v_34, v_35, v_36, v_37, v_38, v_39, v_176, v_177, v_178, v_179, v_180, v_181, v_182, v_183, v_184, v_185, v_186, v_187, v_188, v_189, v_190, v_191, v_192, v_193, v_194, v_195, v_116, v_117, v_40, v_43, v_45, v_48, v_49, v_55, v_83, v_91, v_163, v_162, v_94, v_97, v_102, v_104, v_105, v_107, v_112, v_113, v_114, v_115, v_156, v_157, v_160, v_165, v_167, v_175, v_61, v_62, v_66, v_74, v_77, v_80, v_87, v_90, v_143, v_96, v_99, v_149, v_126, v_124, v_129, v_132, v_137, v_140, v_151, v_154, v_44, v_51, v_58, v_101, v_168, v_56, v_141, v_144, v_93, v_110, v_172, v_173, v_41, v_68, v_128, v_119, v_146, v_150, v_54, v_63, v_65, v_89, v_135, v_158, v_82, v_103, v_166, v_76, v_71, v_108, v_120, v_122, v_46, v_152, v_60, v_147, v_155, v_139, v_130, v_57, v_78, v_111, v_118, v_52, v_72, v_159, v_169, v_75, v_85, v_95, v_98, v_100, v_42, v_47, v_50, v_53, v_59, v_64, v_67, v_69, v_70, v_73, v_79, v_81, v_84, v_86, v_88, v_92, v_134, v_133, v_106, v_131, v_109, v_138, v_121, v_123, v_125, v_127, v_136, v_142, v_145, v_148, v_153, v_161, v_164, v_170, v_171, v_174]\n"
     ]
    }
   ],
   "source": [
    "print(opts[0])"
   ]
  },
  {
   "cell_type": "code",
   "execution_count": 32,
   "metadata": {
    "scrolled": true
   },
   "outputs": [
    {
     "data": {
      "application/vnd.jupyter.widget-view+json": {
       "model_id": "b0b7be0ab4ab42d1a97699096e6a793e",
       "version_major": 2,
       "version_minor": 0
      },
      "text/plain": [
       "HBox(children=(HTML(value=''), FloatProgress(value=1.0, bar_style='info', layout=Layout(width='20px'), max=1.0…"
      ]
     },
     "metadata": {},
     "output_type": "display_data"
    },
    {
     "name": "stdout",
     "output_type": "stream",
     "text": [
      "specific indices set() intersection {v_80}\n",
      "specific indices set() intersection {v_81}\n",
      "specific indices set() intersection {v_82}\n",
      "specific indices set() intersection {v_82}\n",
      "specific indices set() intersection {v_82}\n",
      "specific indices set() intersection {v_83}\n",
      "specific indices set() intersection {v_83}\n",
      "specific indices set() intersection {v_83}\n",
      "specific indices set() intersection {v_84}\n",
      "specific indices set() intersection {v_84}\n",
      "specific indices set() intersection {v_84}\n",
      "specific indices set() intersection {v_85}\n",
      "specific indices set() intersection {v_85}\n",
      "specific indices set() intersection {v_85}\n",
      "specific indices set() intersection {v_86}\n",
      "specific indices set() intersection {v_86}\n",
      "specific indices set() intersection {v_86}\n",
      "specific indices set() intersection {v_87}\n",
      "specific indices set() intersection {v_87}\n",
      "specific indices set() intersection {v_87}\n",
      "specific indices set() intersection {v_88}\n",
      "specific indices set() intersection {v_88}\n",
      "specific indices set() intersection {v_89}\n",
      "specific indices set() intersection {v_89}\n",
      "specific indices set() intersection {v_90}\n",
      "specific indices set() intersection {v_90}\n",
      "specific indices set() intersection {v_90}\n",
      "specific indices set() intersection {v_91}\n",
      "specific indices set() intersection {v_91}\n",
      "specific indices set() intersection {v_91}\n",
      "specific indices set() intersection {v_92}\n",
      "specific indices set() intersection {v_92}\n",
      "specific indices set() intersection {v_93}\n",
      "specific indices set() intersection {v_93}\n",
      "specific indices set() intersection {v_94}\n",
      "specific indices set() intersection {v_94}\n",
      "specific indices set() intersection {v_95}\n",
      "specific indices set() intersection {v_95}\n",
      "specific indices set() intersection {v_96}\n",
      "specific indices set() intersection {v_96}\n",
      "specific indices set() intersection {v_97}\n",
      "specific indices set() intersection {v_97}\n",
      "specific indices set() intersection {v_98}\n",
      "specific indices set() intersection {v_98}\n",
      "specific indices set() intersection {v_99}\n",
      "specific indices set() intersection {v_99}\n",
      "specific indices set() intersection {v_100}\n",
      "specific indices set() intersection {v_100}\n",
      "specific indices set() intersection {v_101}\n",
      "specific indices set() intersection {v_101}\n",
      "specific indices set() intersection {v_102}\n",
      "specific indices set() intersection {v_102}\n",
      "specific indices set() intersection {v_102}\n",
      "specific indices set() intersection {v_103}\n",
      "specific indices set() intersection {v_103}\n",
      "specific indices set() intersection {v_103}\n",
      "specific indices set() intersection {v_104}\n",
      "specific indices set() intersection {v_104}\n",
      "specific indices set() intersection {v_104}\n",
      "specific indices set() intersection {v_105}\n",
      "specific indices set() intersection {v_105}\n",
      "specific indices set() intersection {v_105}\n",
      "specific indices set() intersection {v_106}\n",
      "specific indices set() intersection {v_106}\n",
      "specific indices set() intersection {v_106}\n",
      "specific indices set() intersection {v_107}\n",
      "specific indices set() intersection {v_107}\n",
      "specific indices set() intersection {v_107}\n",
      "specific indices set() intersection {v_108}\n",
      "specific indices set() intersection {v_108}\n",
      "specific indices set() intersection {v_108}\n",
      "specific indices set() intersection {v_109}\n",
      "specific indices set() intersection {v_109}\n",
      "specific indices set() intersection {v_109}\n",
      "specific indices set() intersection {v_110}\n",
      "specific indices set() intersection {v_110}\n",
      "specific indices set() intersection {v_110}\n",
      "specific indices set() intersection {v_111}\n",
      "specific indices set() intersection {v_111}\n",
      "specific indices set() intersection {v_111}\n",
      "specific indices set() intersection {v_112}\n",
      "specific indices set() intersection {v_112}\n",
      "specific indices set() intersection {v_112}\n",
      "specific indices set() intersection {v_113}\n",
      "specific indices set() intersection {v_113}\n",
      "specific indices set() intersection {v_113}\n",
      "specific indices set() intersection {v_114}\n",
      "specific indices set() intersection {v_114}\n",
      "specific indices set() intersection {v_114}\n",
      "specific indices set() intersection {v_115}\n",
      "specific indices set() intersection {v_115}\n",
      "specific indices set() intersection {v_115}\n",
      "specific indices set() intersection {v_116}\n",
      "specific indices set() intersection {v_116}\n",
      "specific indices set() intersection {v_116}\n",
      "specific indices set() intersection {v_117}\n",
      "specific indices set() intersection {v_117}\n",
      "specific indices set() intersection {v_117}\n",
      "specific indices set() intersection {v_118}\n",
      "specific indices set() intersection {v_118}\n",
      "specific indices set() intersection {v_118}\n",
      "specific indices set() intersection {v_119}\n",
      "specific indices set() intersection {v_119}\n",
      "specific indices set() intersection {v_119}\n",
      "specific indices set() intersection {v_120}\n",
      "specific indices set() intersection {v_120}\n",
      "specific indices set() intersection {v_120}\n",
      "specific indices set() intersection {v_121}\n",
      "specific indices set() intersection {v_121}\n",
      "specific indices set() intersection {v_121}\n",
      "specific indices set() intersection {v_122}\n",
      "specific indices set() intersection {v_122}\n",
      "specific indices set() intersection {v_122}\n",
      "specific indices set() intersection {v_123}\n",
      "specific indices set() intersection {v_123}\n",
      "specific indices set() intersection {v_123}\n",
      "specific indices set() intersection {v_124}\n",
      "specific indices set() intersection {v_124}\n",
      "specific indices set() intersection {v_124}\n",
      "specific indices set() intersection {v_125}\n",
      "specific indices set() intersection {v_125}\n",
      "specific indices set() intersection {v_125}\n",
      "specific indices set() intersection {v_126}\n",
      "specific indices set() intersection {v_126}\n",
      "specific indices set() intersection {v_126}\n",
      "specific indices set() intersection {v_127}\n",
      "specific indices set() intersection {v_127}\n",
      "specific indices set() intersection {v_127}\n",
      "specific indices set() intersection {v_128}\n",
      "specific indices set() intersection {v_128}\n",
      "specific indices set() intersection {v_128}\n",
      "specific indices set() intersection {v_129}\n",
      "specific indices set() intersection {v_129}\n",
      "specific indices set() intersection {v_129}\n",
      "specific indices set() intersection {v_130}\n",
      "specific indices set() intersection {v_130}\n",
      "specific indices set() intersection {v_130}\n",
      "specific indices set() intersection {v_131}\n",
      "specific indices set() intersection {v_131}\n",
      "specific indices set() intersection {v_131}\n",
      "specific indices set() intersection {v_131}\n",
      "specific indices set() intersection {v_132}\n",
      "specific indices set() intersection {v_132}\n",
      "specific indices set() intersection {v_132}\n",
      "specific indices set() intersection {v_133}\n",
      "specific indices set() intersection {v_133}\n",
      "specific indices set() intersection {v_133}\n",
      "specific indices set() intersection {v_134}\n",
      "specific indices set() intersection {v_134}\n",
      "specific indices set() intersection {v_134}\n",
      "specific indices set() intersection {v_135}\n",
      "specific indices set() intersection {v_135}\n",
      "specific indices set() intersection {v_135}\n",
      "specific indices set() intersection {v_136}\n",
      "specific indices set() intersection {v_136}\n",
      "specific indices set() intersection {v_136}\n",
      "specific indices set() intersection {v_137}\n",
      "specific indices set() intersection {v_137}\n",
      "specific indices set() intersection {v_143, v_137}\n",
      "specific indices set() intersection {v_138}\n",
      "specific indices set() intersection {v_138}\n",
      "specific indices set() intersection {v_138}\n",
      "specific indices set() intersection {v_139}\n",
      "specific indices set() intersection {v_139}\n",
      "specific indices set() intersection {v_139}\n",
      "specific indices set() intersection {v_140}\n",
      "specific indices set() intersection {v_140}\n",
      "specific indices set() intersection {v_140}\n",
      "specific indices set() intersection {v_141}\n",
      "specific indices set() intersection {v_141}\n",
      "specific indices set() intersection {v_141}\n",
      "specific indices set() intersection {v_142}\n",
      "specific indices set() intersection {v_142}\n",
      "specific indices set() intersection {v_142}\n",
      "specific indices set() intersection {v_143}\n",
      "specific indices set() intersection {v_144}\n",
      "specific indices set() intersection {v_144}\n",
      "specific indices set() intersection {v_144}\n",
      "specific indices set() intersection {v_145}\n",
      "specific indices set() intersection {v_145}\n",
      "specific indices set() intersection {v_145}\n",
      "specific indices set() intersection {v_146}\n",
      "specific indices set() intersection {v_146}\n",
      "specific indices set() intersection {v_146}\n",
      "specific indices set() intersection {v_147}\n",
      "specific indices set() intersection {v_147}\n",
      "specific indices set() intersection {v_147}\n",
      "specific indices set() intersection {v_148}\n",
      "specific indices set() intersection {v_148}\n",
      "specific indices set() intersection {v_148}\n",
      "specific indices set() intersection {v_149}\n",
      "specific indices set() intersection {v_149}\n",
      "specific indices {v_166} intersection {v_166, v_149}\n",
      "specific indices set() intersection {v_150}\n",
      "specific indices set() intersection {v_150}\n",
      "specific indices set() intersection {v_150}\n",
      "specific indices set() intersection {v_151}\n",
      "specific indices {v_207} intersection {v_207, v_151}\n",
      "specific indices set() intersection {v_152}\n",
      "specific indices set() intersection {v_152}\n",
      "specific indices {v_162} intersection {v_152, v_162}\n",
      "specific indices set() intersection {v_159, v_153}\n",
      "specific indices {v_159} intersection {v_159, v_153}\n",
      "specific indices {v_176, v_194} intersection {v_176, v_153, v_194}\n",
      "specific indices set() intersection {v_154}\n",
      "specific indices set() intersection {v_154}\n",
      "specific indices set() intersection {v_154}\n",
      "specific indices set() intersection {v_155}\n",
      "specific indices {v_189, v_172} intersection {v_155, v_189, v_172}\n",
      "specific indices set() intersection {v_156}\n",
      "specific indices set() intersection {v_172, v_156}\n",
      "specific indices set() intersection {v_157}\n",
      "specific indices set() intersection {v_157}\n",
      "specific indices {v_200} intersection {v_200}\n",
      "specific indices set() intersection {v_158}\n",
      "specific indices set() intersection {v_158}\n",
      "specific indices {v_205, v_177} intersection {v_157, v_205, v_177, v_158}\n",
      "specific indices {v_206} intersection {v_159, v_206}\n",
      "specific indices set() intersection {v_160}\n",
      "specific indices {v_184} intersection {v_160, v_184}\n",
      "specific indices set() intersection {v_161}\n",
      "specific indices set() intersection {v_161}\n",
      "specific indices {v_214} intersection {v_189, v_161, v_172, v_214}\n",
      "specific indices {v_167} intersection {v_162, v_167}\n",
      "specific indices set() intersection {v_163}\n",
      "specific indices {v_209} intersection {v_209, v_163}\n",
      "specific indices set() intersection {v_164}\n",
      "specific indices {v_206} intersection {v_210, v_206, v_164}\n",
      "specific indices set() intersection {v_165}\n",
      "specific indices set() intersection {v_166}\n",
      "specific indices {v_202} intersection {v_195, v_166, v_202}\n",
      "specific indices set() intersection {v_167}\n",
      "specific indices set() intersection {v_169, v_170}\n",
      "specific indices set() intersection {v_169, v_170}\n",
      "specific indices set() intersection {v_171}\n",
      "specific indices set() intersection set()\n",
      "specific indices set() intersection {v_171, v_172, v_173}\n"
     ]
    },
    {
     "name": "stdout",
     "output_type": "stream",
     "text": [
      "specific indices set() intersection {v_174}\n",
      "specific indices {v_213} intersection {v_174, v_213}\n",
      "specific indices set() intersection set()\n",
      "specific indices set() intersection {v_176, v_193, v_178, v_179}\n",
      "specific indices set() intersection {v_179}\n",
      "specific indices set() intersection set()\n",
      "specific indices set() intersection set()\n",
      "specific indices set() intersection set()\n",
      "specific indices set() intersection {v_188}\n",
      "specific indices set() intersection {v_185}\n",
      "specific indices set() intersection {v_188}\n",
      "specific indices set() intersection {v_187, v_190}\n",
      "specific indices set() intersection set()\n",
      "specific indices set() intersection set()\n",
      "specific indices set() intersection {v_203}\n",
      "specific indices set() intersection set()\n",
      "specific indices set() intersection {v_181}\n",
      "specific indices set() intersection {v_182}\n",
      "specific indices set() intersection {v_183}\n",
      "specific indices set() intersection {v_184}\n",
      "specific indices set() intersection set()\n",
      "specific indices set() intersection set()\n",
      "specific indices set() intersection set()\n",
      "specific indices set() intersection set()\n",
      "specific indices set() intersection set()\n",
      "specific indices set() intersection {v_211, v_181, v_192, v_214, v_184, v_215, v_186, v_212, v_190, v_180, v_185, v_213, v_189, v_182, v_183}\n",
      "next size: 36 bucket result set() merged [v_180, v_181, v_182, v_183, v_184, v_185, v_186, v_187, v_188, v_189, v_190, v_191, v_192, v_193, v_194, v_195, v_196, v_197, v_198, v_199, v_200, v_201, v_202, v_203, v_204, v_205, v_206, v_207, v_208, v_209, v_210, v_211, v_212, v_213, v_214, v_215]\n",
      "bucket [XPhase+(v_181,v_186), XPhase+(v_182,v_188), XPhase+(v_183,v_189), XPhase+(v_184,v_190), ZZ+(v_185,v_188), XPhase+(v_185,v_192), ZZ+(v_187,v_188), ZZ+(v_187,v_190), ZZ(v_193,v_197), ZZ(v_200,v_203), ZZ(v_203,v_204), Ev_42(v_180), Ev_47(v_181), Ev_50(v_182), Ev_53(v_183), Ev_59(v_184), Ev_65(v_211), Ev_68(v_212), Ev_74(v_213), Ev_75(v_214), Ev_78(v_215), Ev_171(v_211,v_186,v_212,v_180,v_210,v_213,v_194,v_209,v_196,v_181,v_208,v_192,v_214,v_184,v_215,v_201,v_190,v_185,v_189,v_199,v_182,v_183), Ev_174(v_204,v_211,v_197,v_188,v_200,v_212,v_206,v_205,v_191,v_213,v_210,v_203,v_187,v_209,v_196,v_207,v_195,v_208,v_192,v_214,v_215,v_201,v_190,v_202,v_193,v_189,v_198), Ev_179(v_204,v_197,v_188,v_200,v_186,v_206,v_205,v_191,v_180,v_194,v_203,v_187,v_209,v_198,v_196,v_207,v_195,v_181,v_192,v_184,v_190,v_202,v_193,v_185,v_189,v_199,v_182,v_183)]\n",
      "specific indices {v_211, v_208, v_214, v_215, v_201, v_212, v_213, v_210} intersection {v_204, v_197, v_188, v_200, v_210, v_203, v_196, v_192, v_201, v_190, v_189, v_211, v_212, v_213, v_187, v_209, v_208, v_214, v_215, v_193}\n",
      "found specific_indices {v_211, v_208, v_214, v_215, v_201, v_212, v_213, v_210} ixs [v_180, v_181, v_182, v_183, v_184, v_185, v_186, v_187, v_188, v_189, v_190, v_191, v_192, v_193, v_194, v_195, v_196, v_197, v_198, v_199, v_200, v_201, v_202, v_203, v_204, v_205, v_206, v_207, v_208, v_209, v_210, v_211, v_212, v_213, v_214, v_215]\n",
      "specific indices set() intersection {v_80}\n",
      "specific indices set() intersection {v_81}\n",
      "specific indices set() intersection {v_82}\n",
      "specific indices set() intersection {v_82}\n",
      "specific indices set() intersection {v_82}\n",
      "specific indices set() intersection {v_83}\n",
      "specific indices set() intersection {v_83}\n",
      "specific indices set() intersection {v_83}\n",
      "specific indices set() intersection {v_84}\n",
      "specific indices set() intersection {v_84}\n",
      "specific indices set() intersection {v_84}\n",
      "specific indices set() intersection {v_85}\n",
      "specific indices set() intersection {v_85}\n",
      "specific indices set() intersection {v_85}\n",
      "specific indices set() intersection {v_86}\n",
      "specific indices set() intersection {v_86}\n",
      "specific indices set() intersection {v_86}\n",
      "specific indices set() intersection {v_87}\n",
      "specific indices set() intersection {v_87}\n",
      "specific indices set() intersection {v_87}\n",
      "specific indices set() intersection {v_88}\n",
      "specific indices set() intersection {v_88}\n",
      "specific indices set() intersection {v_89}\n",
      "specific indices set() intersection {v_89}\n",
      "specific indices set() intersection {v_90}\n",
      "specific indices set() intersection {v_90}\n",
      "specific indices set() intersection {v_90}\n",
      "specific indices set() intersection {v_91}\n",
      "specific indices set() intersection {v_91}\n",
      "specific indices set() intersection {v_92}\n",
      "specific indices set() intersection {v_92}\n",
      "specific indices set() intersection {v_93}\n",
      "specific indices set() intersection {v_93}\n",
      "specific indices set() intersection {v_94}\n",
      "specific indices set() intersection {v_94}\n",
      "specific indices set() intersection {v_94}\n",
      "specific indices set() intersection {v_95}\n",
      "specific indices set() intersection {v_95}\n",
      "specific indices set() intersection {v_96}\n",
      "specific indices set() intersection {v_96}\n",
      "specific indices set() intersection {v_97}\n",
      "specific indices set() intersection {v_97}\n",
      "specific indices set() intersection {v_98}\n",
      "specific indices set() intersection {v_98}\n",
      "specific indices set() intersection {v_99}\n",
      "specific indices set() intersection {v_99}\n",
      "specific indices set() intersection {v_100}\n",
      "specific indices set() intersection {v_100}\n",
      "specific indices set() intersection {v_101}\n",
      "specific indices set() intersection {v_101}\n",
      "specific indices set() intersection {v_102}\n",
      "specific indices set() intersection {v_102}\n",
      "specific indices set() intersection {v_103}\n",
      "specific indices set() intersection {v_103}\n",
      "specific indices set() intersection {v_103}\n",
      "specific indices set() intersection {v_104}\n",
      "specific indices set() intersection {v_104}\n",
      "specific indices set() intersection {v_104}\n",
      "specific indices set() intersection {v_105}\n",
      "specific indices set() intersection {v_105}\n",
      "specific indices set() intersection {v_105}\n",
      "specific indices set() intersection {v_106}\n",
      "specific indices set() intersection {v_106}\n",
      "specific indices set() intersection {v_106}\n",
      "specific indices set() intersection {v_107}\n",
      "specific indices set() intersection {v_107}\n",
      "specific indices set() intersection {v_107}\n",
      "specific indices set() intersection {v_108}\n",
      "specific indices set() intersection {v_108}\n",
      "specific indices set() intersection {v_108}\n",
      "specific indices set() intersection {v_109}\n",
      "specific indices set() intersection {v_109}\n",
      "specific indices set() intersection {v_109}\n",
      "specific indices set() intersection {v_110}\n",
      "specific indices set() intersection {v_110}\n",
      "specific indices set() intersection {v_110}\n",
      "specific indices set() intersection {v_111}\n",
      "specific indices set() intersection {v_111}\n",
      "specific indices set() intersection {v_111}\n",
      "specific indices set() intersection {v_112}\n",
      "specific indices set() intersection {v_112}\n",
      "specific indices set() intersection {v_112}\n",
      "specific indices set() intersection {v_113}\n",
      "specific indices set() intersection {v_113}\n",
      "specific indices set() intersection {v_113}\n",
      "specific indices set() intersection {v_114}\n",
      "specific indices set() intersection {v_114}\n",
      "specific indices set() intersection {v_114}\n",
      "specific indices set() intersection {v_115}\n",
      "specific indices set() intersection {v_115}\n",
      "specific indices set() intersection {v_115}\n",
      "specific indices set() intersection {v_116}\n",
      "specific indices set() intersection {v_116}\n",
      "specific indices set() intersection {v_116}\n",
      "specific indices set() intersection {v_117}\n",
      "specific indices set() intersection {v_117}\n",
      "specific indices set() intersection {v_117}\n",
      "specific indices set() intersection {v_118}\n",
      "specific indices set() intersection {v_118}\n",
      "specific indices set() intersection {v_118}\n",
      "specific indices set() intersection {v_119}\n",
      "specific indices set() intersection {v_119}\n",
      "specific indices set() intersection {v_119}\n",
      "specific indices set() intersection {v_120}\n",
      "specific indices set() intersection {v_120}\n",
      "specific indices set() intersection {v_120}\n",
      "specific indices set() intersection {v_121}\n",
      "specific indices set() intersection {v_121}\n",
      "specific indices set() intersection {v_121}\n",
      "specific indices set() intersection {v_122}\n",
      "specific indices set() intersection {v_122}\n",
      "specific indices set() intersection {v_122}\n",
      "specific indices set() intersection {v_123}\n",
      "specific indices set() intersection {v_123}\n",
      "specific indices set() intersection {v_123}\n",
      "specific indices set() intersection {v_124}\n",
      "specific indices set() intersection {v_124}\n",
      "specific indices set() intersection {v_124}\n",
      "specific indices set() intersection {v_125}\n",
      "specific indices set() intersection {v_125}\n",
      "specific indices set() intersection {v_125}\n",
      "specific indices set() intersection {v_126}\n",
      "specific indices set() intersection {v_126}\n",
      "specific indices set() intersection {v_126}\n",
      "specific indices set() intersection {v_127}\n",
      "specific indices set() intersection {v_127}\n",
      "specific indices set() intersection {v_127}\n",
      "specific indices set() intersection {v_128}\n",
      "specific indices set() intersection {v_128}\n",
      "specific indices set() intersection {v_128}\n",
      "specific indices set() intersection {v_128}\n",
      "specific indices set() intersection {v_129}\n",
      "specific indices set() intersection {v_129}\n",
      "specific indices set() intersection {v_129}\n",
      "specific indices set() intersection {v_130}\n",
      "specific indices set() intersection {v_130}\n",
      "specific indices set() intersection {v_130}\n",
      "specific indices set() intersection {v_131}\n",
      "specific indices set() intersection {v_131}\n",
      "specific indices set() intersection {v_131}\n",
      "specific indices set() intersection {v_132}\n",
      "specific indices set() intersection {v_132}\n",
      "specific indices set() intersection {v_132}\n",
      "specific indices set() intersection {v_133}\n",
      "specific indices set() intersection {v_133}\n",
      "specific indices set() intersection {v_133}\n",
      "specific indices set() intersection {v_134}\n",
      "specific indices set() intersection {v_134}\n",
      "specific indices set() intersection {v_134}\n",
      "specific indices set() intersection {v_135}\n",
      "specific indices set() intersection {v_135}\n",
      "specific indices set() intersection {v_140, v_135}\n",
      "specific indices set() intersection {v_136}\n",
      "specific indices set() intersection {v_136}\n",
      "specific indices set() intersection {v_136}\n",
      "specific indices set() intersection {v_137}\n",
      "specific indices set() intersection {v_137}\n",
      "specific indices set() intersection {v_137}\n",
      "specific indices set() intersection {v_138}\n",
      "specific indices set() intersection {v_138}\n",
      "specific indices set() intersection {v_138}\n",
      "specific indices set() intersection {v_139}\n",
      "specific indices set() intersection {v_139}\n",
      "specific indices set() intersection {v_139}\n",
      "specific indices set() intersection {v_140}\n",
      "specific indices set() intersection {v_141}\n",
      "specific indices set() intersection {v_141}\n",
      "specific indices set() intersection {v_141}\n",
      "specific indices set() intersection {v_142}\n",
      "specific indices set() intersection {v_142}\n",
      "specific indices set() intersection {v_142}\n",
      "specific indices set() intersection {v_143}\n",
      "specific indices set() intersection {v_143}\n",
      "specific indices {v_154} intersection {v_143, v_154}\n",
      "specific indices set() intersection {v_144}\n",
      "specific indices set() intersection {v_144}\n",
      "specific indices set() intersection {v_144}\n",
      "specific indices set() intersection {v_145}\n",
      "specific indices set() intersection {v_145}\n",
      "specific indices set() intersection {v_146}\n",
      "specific indices set() intersection {v_146}\n",
      "specific indices set() intersection {v_146}\n",
      "specific indices set() intersection {v_147}\n",
      "specific indices set() intersection {v_147}\n",
      "specific indices set() intersection {v_147}\n",
      "specific indices set() intersection {v_148}\n",
      "specific indices set() intersection {v_148}\n",
      "specific indices {v_186, v_183} intersection {v_186, v_148, v_183}\n",
      "specific indices set() intersection {v_149}\n",
      "specific indices set() intersection {v_149}\n",
      "specific indices {v_189} intersection {v_189, v_149}\n",
      "specific indices set() intersection {v_150, v_151}\n",
      "specific indices set() intersection {v_150, v_151}\n",
      "specific indices {v_197, v_173} intersection {v_197, v_150, v_173}\n",
      "specific indices set() intersection {v_152}\n",
      "specific indices set() intersection {v_152}\n",
      "specific indices {v_181} intersection {v_181, v_152}\n",
      "specific indices set() intersection {v_153}\n",
      "specific indices set() intersection {v_153}\n",
      "specific indices set() intersection {v_186, v_153}\n",
      "specific indices set() intersection {v_154}\n",
      "specific indices {v_176} intersection {v_176, v_154}\n",
      "specific indices set() intersection {v_155}\n",
      "specific indices set() intersection {v_155}\n",
      "specific indices {v_171} intersection {v_171, v_155}\n",
      "specific indices set() intersection {v_156}\n",
      "specific indices set() intersection {v_156}\n",
      "specific indices set() intersection {v_156}\n",
      "specific indices set() intersection {v_157}\n",
      "specific indices set() intersection {v_157}\n",
      "specific indices {v_201} intersection {v_201, v_158}\n",
      "specific indices set() intersection {v_159}\n",
      "specific indices set() intersection {v_159, v_161}\n",
      "specific indices set() intersection {v_160}\n",
      "specific indices set() intersection {v_160}\n",
      "specific indices {v_166} intersection {v_160, v_191, v_166}\n",
      "specific indices set() intersection {v_161, v_196}\n",
      "specific indices {v_187} intersection {v_187, v_162}\n",
      "specific indices set() intersection {v_163}\n",
      "specific indices set() intersection {v_163}\n",
      "specific indices set() intersection {v_164}\n",
      "specific indices set() intersection {v_164}\n",
      "specific indices set() intersection set()\n",
      "specific indices set() intersection {v_165}\n",
      "specific indices {v_194} intersection {v_175, v_165, v_164, v_194}\n"
     ]
    },
    {
     "name": "stdout",
     "output_type": "stream",
     "text": [
      "specific indices set() intersection set()\n",
      "specific indices set() intersection set()\n",
      "specific indices set() intersection set()\n",
      "specific indices set() intersection {v_170, v_169, v_167, v_168}\n",
      "specific indices set() intersection {v_171}\n",
      "specific indices set() intersection {v_172}\n",
      "specific indices set() intersection {v_172, v_188}\n",
      "specific indices set() intersection set()\n",
      "specific indices {v_205} intersection {v_205, v_176, v_177, v_200}\n",
      "specific indices set() intersection set()\n",
      "specific indices set() intersection set()\n",
      "specific indices set() intersection {v_182}\n",
      "specific indices set() intersection set()\n",
      "specific indices set() intersection set()\n",
      "specific indices set() intersection set()\n",
      "specific indices set() intersection {v_203}\n",
      "specific indices set() intersection set()\n",
      "specific indices set() intersection {v_205}\n",
      "specific indices set() intersection set()\n",
      "specific indices set() intersection set()\n",
      "specific indices set() intersection set()\n",
      "specific indices set() intersection set()\n",
      "specific indices set() intersection set()\n",
      "specific indices set() intersection {v_208}\n",
      "specific indices set() intersection {v_209}\n",
      "specific indices set() intersection {v_210}\n",
      "specific indices set() intersection {v_211}\n",
      "specific indices set() intersection {v_204, v_207, v_211, v_179, v_208, v_184, v_178, v_186, v_190, v_206, v_180, v_210, v_203, v_209, v_198, v_182, v_183}\n",
      "next size: 34 bucket result set() merged [v_178, v_179, v_180, v_181, v_182, v_183, v_184, v_185, v_186, v_187, v_188, v_189, v_190, v_191, v_192, v_193, v_194, v_195, v_196, v_197, v_198, v_199, v_200, v_201, v_202, v_203, v_204, v_205, v_206, v_207, v_208, v_209, v_210, v_211]\n",
      "bucket [XPhase+(v_180,v_190), ZZ+(v_181,v_187), ZZ+(v_182,v_186), ZZ+(v_182,v_183), ZZ+(v_184,v_185), ZZ+(v_195,v_196), XPhase(v_198,v_203), ZZ(v_203,v_205), XPhase(v_204,v_210), XPhase(v_205,v_211), ZZ(v_208,v_209), Ev_52(v_178), Ev_53(v_179), Ev_66(v_206), Ev_70(v_207), Ev_73(v_208), Ev_74(v_209), Ev_75(v_210), Ev_78(v_211), Ev_171(v_204,v_211,v_179,v_197,v_188,v_200,v_186,v_206,v_180,v_210,v_203,v_209,v_207,v_208,v_192,v_184,v_178,v_201,v_190,v_202,v_199,v_198,v_182,v_183), Ev_172(v_204,v_211,v_179,v_197,v_188,v_200,v_186,v_205,v_191,v_194,v_210,v_180,v_187,v_196,v_207,v_181,v_195,v_192,v_184,v_178,v_190,v_193,v_185,v_189,v_199,v_182,v_183), Ev_173(v_204,v_197,v_188,v_200,v_210,v_203,v_196,v_207,v_192,v_201,v_202,v_185,v_189,v_199,v_198,v_211,v_206,v_205,v_191,v_194,v_187,v_209,v_195,v_181,v_208,v_184,v_193)]\n",
      "specific indices {v_179, v_178, v_186, v_190, v_180, v_182, v_183} intersection {v_204, v_197, v_188, v_200, v_210, v_196, v_207, v_192, v_178, v_190, v_185, v_199, v_211, v_179, v_186, v_205, v_180, v_187, v_181, v_195, v_184, v_182, v_183}\n",
      "found specific_indices {v_179, v_178, v_186, v_190, v_180, v_182, v_183} ixs [v_178, v_179, v_180, v_181, v_182, v_183, v_184, v_185, v_186, v_187, v_188, v_189, v_190, v_191, v_192, v_193, v_194, v_195, v_196, v_197, v_198, v_199, v_200, v_201, v_202, v_203, v_204, v_205, v_206, v_207, v_208, v_209, v_210, v_211]\n",
      "specific indices set() intersection {v_80}\n",
      "specific indices set() intersection {v_81}\n",
      "specific indices set() intersection {v_82}\n",
      "specific indices set() intersection {v_82}\n",
      "specific indices set() intersection {v_82}\n",
      "specific indices set() intersection {v_83}\n",
      "specific indices set() intersection {v_83}\n",
      "specific indices set() intersection {v_83}\n",
      "specific indices set() intersection {v_84}\n",
      "specific indices set() intersection {v_84}\n",
      "specific indices set() intersection {v_84}\n",
      "specific indices set() intersection {v_85}\n",
      "specific indices set() intersection {v_85}\n",
      "specific indices set() intersection {v_85}\n",
      "specific indices set() intersection {v_86}\n",
      "specific indices set() intersection {v_86}\n",
      "specific indices set() intersection {v_86}\n",
      "specific indices set() intersection {v_87}\n",
      "specific indices set() intersection {v_87}\n",
      "specific indices set() intersection {v_87}\n",
      "specific indices set() intersection {v_88}\n",
      "specific indices set() intersection {v_88}\n",
      "specific indices set() intersection {v_89}\n",
      "specific indices set() intersection {v_89}\n",
      "specific indices set() intersection {v_90}\n",
      "specific indices set() intersection {v_90}\n",
      "specific indices set() intersection {v_91}\n",
      "specific indices set() intersection {v_91}\n",
      "specific indices set() intersection {v_91}\n",
      "specific indices set() intersection {v_92}\n",
      "specific indices set() intersection {v_92}\n",
      "specific indices set() intersection {v_93}\n",
      "specific indices set() intersection {v_93}\n",
      "specific indices set() intersection {v_93}\n",
      "specific indices set() intersection {v_94}\n",
      "specific indices set() intersection {v_94}\n",
      "specific indices set() intersection {v_95}\n",
      "specific indices set() intersection {v_95}\n",
      "specific indices set() intersection {v_96}\n",
      "specific indices set() intersection {v_96}\n",
      "specific indices set() intersection {v_97}\n",
      "specific indices set() intersection {v_97}\n",
      "specific indices set() intersection {v_98}\n",
      "specific indices set() intersection {v_98}\n",
      "specific indices set() intersection {v_99}\n",
      "specific indices set() intersection {v_99}\n",
      "specific indices set() intersection {v_100}\n",
      "specific indices set() intersection {v_100}\n",
      "specific indices set() intersection {v_101}\n",
      "specific indices set() intersection {v_101}\n",
      "specific indices set() intersection {v_102}\n",
      "specific indices set() intersection {v_102}\n",
      "specific indices set() intersection {v_103}\n",
      "specific indices set() intersection {v_103}\n",
      "specific indices set() intersection {v_104}\n",
      "specific indices set() intersection {v_104}\n",
      "specific indices set() intersection {v_105}\n",
      "specific indices set() intersection {v_105}\n",
      "specific indices set() intersection {v_105}\n",
      "specific indices set() intersection {v_106}\n",
      "specific indices set() intersection {v_106}\n",
      "specific indices set() intersection {v_106}\n",
      "specific indices set() intersection {v_107}\n",
      "specific indices set() intersection {v_107}\n",
      "specific indices set() intersection {v_107}\n",
      "specific indices set() intersection {v_108}\n",
      "specific indices set() intersection {v_108}\n",
      "specific indices set() intersection {v_108}\n",
      "specific indices set() intersection {v_109}\n",
      "specific indices set() intersection {v_109}\n",
      "specific indices set() intersection {v_109}\n",
      "specific indices set() intersection {v_110}\n",
      "specific indices set() intersection {v_110}\n",
      "specific indices set() intersection {v_110}\n",
      "specific indices set() intersection {v_111}\n",
      "specific indices set() intersection {v_111}\n",
      "specific indices set() intersection {v_111}\n",
      "specific indices set() intersection {v_112}\n",
      "specific indices set() intersection {v_112}\n",
      "specific indices set() intersection {v_112}\n",
      "specific indices set() intersection {v_113}\n",
      "specific indices set() intersection {v_113}\n",
      "specific indices set() intersection {v_113}\n",
      "specific indices set() intersection {v_114}\n",
      "specific indices set() intersection {v_114}\n",
      "specific indices set() intersection {v_114}\n",
      "specific indices set() intersection {v_115}\n",
      "specific indices set() intersection {v_115}\n",
      "specific indices set() intersection {v_115}\n",
      "specific indices set() intersection {v_116}\n",
      "specific indices set() intersection {v_116}\n",
      "specific indices set() intersection {v_116}\n",
      "specific indices set() intersection {v_117}\n",
      "specific indices set() intersection {v_117}\n",
      "specific indices set() intersection {v_117}\n",
      "specific indices set() intersection {v_118}\n",
      "specific indices set() intersection {v_118}\n",
      "specific indices set() intersection {v_118}\n",
      "specific indices set() intersection {v_119}\n",
      "specific indices set() intersection {v_119}\n",
      "specific indices set() intersection {v_119}\n",
      "specific indices set() intersection {v_120}\n",
      "specific indices set() intersection {v_120}\n",
      "specific indices set() intersection {v_120}\n",
      "specific indices set() intersection {v_121}\n",
      "specific indices set() intersection {v_121}\n",
      "specific indices set() intersection {v_121}\n",
      "specific indices set() intersection {v_122}\n",
      "specific indices set() intersection {v_122}\n",
      "specific indices set() intersection {v_122}\n",
      "specific indices set() intersection {v_123}\n",
      "specific indices set() intersection {v_123}\n",
      "specific indices set() intersection {v_123}\n",
      "specific indices set() intersection {v_124}\n",
      "specific indices set() intersection {v_124}\n",
      "specific indices set() intersection {v_124}\n",
      "specific indices set() intersection {v_125}\n",
      "specific indices set() intersection {v_125}\n",
      "specific indices set() intersection {v_125}\n",
      "specific indices set() intersection {v_126}\n",
      "specific indices set() intersection {v_126}\n",
      "specific indices set() intersection {v_126}\n",
      "specific indices set() intersection {v_127}\n",
      "specific indices set() intersection {v_127}\n",
      "specific indices set() intersection {v_127}\n",
      "specific indices set() intersection {v_128}\n",
      "specific indices set() intersection {v_128}\n",
      "specific indices set() intersection {v_128}\n",
      "specific indices set() intersection {v_129}\n",
      "specific indices set() intersection {v_129}\n",
      "specific indices set() intersection {v_129}\n",
      "specific indices set() intersection {v_130}\n",
      "specific indices set() intersection {v_130}\n",
      "specific indices set() intersection {v_130}\n",
      "specific indices set() intersection {v_131}\n",
      "specific indices set() intersection {v_131}\n",
      "specific indices set() intersection {v_131}\n",
      "specific indices set() intersection {v_132}\n",
      "specific indices set() intersection {v_132}\n",
      "specific indices set() intersection {v_132}\n",
      "specific indices set() intersection {v_133}\n",
      "specific indices set() intersection {v_133}\n",
      "specific indices set() intersection {v_133}\n",
      "specific indices set() intersection {v_134}\n",
      "specific indices set() intersection {v_134}\n",
      "specific indices set() intersection {v_134}\n",
      "specific indices set() intersection {v_135}\n",
      "specific indices set() intersection {v_135}\n",
      "specific indices set() intersection {v_135}\n",
      "specific indices set() intersection {v_136}\n",
      "specific indices set() intersection {v_136}\n",
      "specific indices set() intersection {v_136}\n",
      "specific indices set() intersection {v_137}\n",
      "specific indices set() intersection {v_137}\n",
      "specific indices set() intersection {v_140, v_137}\n",
      "specific indices set() intersection {v_138}\n",
      "specific indices set() intersection {v_138}\n",
      "specific indices set() intersection {v_138}\n",
      "specific indices set() intersection {v_139}\n",
      "specific indices set() intersection {v_139}\n",
      "specific indices set() intersection {v_139}\n",
      "specific indices set() intersection {v_140}\n",
      "specific indices set() intersection {v_141}\n",
      "specific indices set() intersection {v_141}\n",
      "specific indices set() intersection {v_141}\n",
      "specific indices set() intersection {v_142}\n",
      "specific indices set() intersection {v_142}\n",
      "specific indices set() intersection {v_142}\n",
      "specific indices set() intersection {v_143}\n",
      "specific indices set() intersection {v_143}\n",
      "specific indices set() intersection {v_143}\n",
      "specific indices set() intersection {v_144}\n",
      "specific indices set() intersection {v_144}\n",
      "specific indices set() intersection {v_144}\n",
      "specific indices set() intersection {v_145}\n",
      "specific indices set() intersection {v_145}\n",
      "specific indices set() intersection {v_145}\n",
      "specific indices set() intersection {v_146}\n",
      "specific indices set() intersection {v_146}\n",
      "specific indices set() intersection {v_146}\n",
      "specific indices set() intersection {v_147}\n",
      "specific indices set() intersection {v_147}\n",
      "specific indices {v_199} intersection {v_147, v_199}\n",
      "specific indices set() intersection {v_148}\n",
      "specific indices set() intersection {v_148}\n",
      "specific indices set() intersection {v_148}\n",
      "specific indices set() intersection {v_149}\n",
      "specific indices set() intersection {v_149}\n",
      "specific indices set() intersection {v_149}\n",
      "specific indices set() intersection {v_155, v_150}\n",
      "specific indices {v_155} intersection {v_155, v_150}\n",
      "specific indices {v_201, v_196} intersection {v_201, v_150, v_196}\n",
      "specific indices set() intersection {v_151}\n",
      "specific indices {v_213} intersection {v_213, v_151}\n",
      "specific indices set() intersection {v_152}\n",
      "specific indices set() intersection {v_152}\n",
      "specific indices set() intersection {v_153}\n",
      "specific indices set() intersection {v_153}\n",
      "specific indices set() intersection {v_153}\n",
      "specific indices set() intersection {v_153}\n",
      "specific indices set() intersection {v_154}\n",
      "specific indices set() intersection {v_154}\n",
      "specific indices {v_200} intersection {v_200, v_154}\n",
      "specific indices {v_212} intersection {v_155, v_212}\n",
      "specific indices set() intersection {v_156}\n",
      "specific indices set() intersection {v_156}\n",
      "specific indices {v_212} intersection {v_212, v_156}\n",
      "specific indices set() intersection {v_157}\n",
      "specific indices set() intersection {v_157}\n",
      "specific indices {v_181, v_199} intersection {v_157, v_181, v_199}\n",
      "specific indices set() intersection {v_158}\n",
      "specific indices set() intersection {v_158}\n",
      "specific indices {v_163} intersection {v_178, v_163, v_158}\n",
      "specific indices set() intersection {v_159}\n",
      "specific indices set() intersection {v_160, v_161}\n",
      "specific indices set() intersection {v_160, v_161, v_164}\n",
      "specific indices set() intersection {v_162}\n",
      "specific indices set() intersection {v_163}\n",
      "specific indices {v_183} intersection {v_163, v_183}\n",
      "specific indices set() intersection {v_165}\n",
      "specific indices set() intersection {v_165, v_167, v_166}\n"
     ]
    },
    {
     "name": "stdout",
     "output_type": "stream",
     "text": [
      "specific indices set() intersection set()\n",
      "specific indices set() intersection {v_169}\n",
      "specific indices set() intersection {v_170}\n",
      "specific indices set() intersection set()\n",
      "specific indices set() intersection {v_169, v_172, v_171, v_168, v_170}\n",
      "specific indices set() intersection {v_172}\n",
      "specific indices set() intersection {v_173}\n",
      "specific indices set() intersection set()\n",
      "specific indices set() intersection set()\n",
      "specific indices set() intersection set()\n",
      "specific indices set() intersection {v_176}\n",
      "specific indices set() intersection {v_177}\n",
      "specific indices set() intersection set()\n",
      "specific indices set() intersection {v_174, v_175, v_178, v_177, v_176, v_187, v_189}\n",
      "specific indices set() intersection {v_179}\n",
      "specific indices set() intersection set()\n",
      "specific indices set() intersection {v_180}\n",
      "specific indices set() intersection set()\n",
      "specific indices set() intersection {v_181, v_179, v_205, v_180, v_182}\n",
      "specific indices set() intersection set()\n",
      "specific indices set() intersection {v_185}\n",
      "specific indices set() intersection set()\n",
      "specific indices set() intersection {v_188}\n",
      "specific indices set() intersection {v_191}\n",
      "specific indices set() intersection set()\n",
      "specific indices set() intersection {v_193}\n",
      "specific indices set() intersection set()\n",
      "specific indices set() intersection set()\n",
      "specific indices set() intersection set()\n",
      "specific indices set() intersection {v_207}\n",
      "specific indices set() intersection {v_211}\n",
      "specific indices set() intersection set()\n",
      "specific indices set() intersection {v_207, v_211, v_195, v_192, v_197, v_208, v_184, v_206, v_194, v_210, v_193, v_203, v_209}\n",
      "next size: 31 bucket result set() merged [v_183, v_184, v_185, v_186, v_187, v_188, v_189, v_190, v_191, v_192, v_193, v_194, v_195, v_196, v_197, v_198, v_199, v_200, v_201, v_202, v_203, v_204, v_205, v_206, v_207, v_208, v_209, v_210, v_211, v_212, v_213]\n",
      "bucket [ZZ+(v_184,v_192), ZZ+(v_185,v_191), ZZ+(v_185,v_188), ZZ+(v_186,v_187), ZZ(v_188,v_198), ZZ+(v_189,v_191), ZZ+(v_193,v_197), XPhase+(v_193,v_203), ZZ+(v_194,v_195), ZZ(v_206,v_209), ZZ(v_207,v_208), ZZ(v_207,v_211), ZZ(v_210,v_211), Ev_67(v_200), Ev_164(v_204,v_211,v_197,v_212,v_206,v_205,v_194,v_210,v_213,v_203,v_209,v_196,v_207,v_195,v_208,v_192,v_184,v_201,v_190,v_202,v_193,v_183), Ev_174(v_204,v_197,v_188,v_200,v_186,v_206,v_191,v_194,v_187,v_198,v_196,v_195,v_192,v_184,v_201,v_190,v_202,v_193,v_185,v_189,v_199,v_183), Ev_179(v_204,v_211,v_197,v_188,v_200,v_186,v_212,v_206,v_205,v_191,v_210,v_213,v_203,v_187,v_209,v_207,v_195,v_208,v_201,v_193,v_185,v_199,v_189,v_198)]\n",
      "specific indices {v_192, v_184, v_190, v_202, v_194, v_183, v_196} intersection {v_204, v_197, v_188, v_200, v_196, v_192, v_201, v_190, v_202, v_185, v_189, v_198, v_186, v_206, v_191, v_194, v_187, v_195, v_184, v_193, v_183}\n",
      "found specific_indices {v_192, v_184, v_190, v_202, v_194, v_183, v_196} ixs [v_183, v_184, v_185, v_186, v_187, v_188, v_189, v_190, v_191, v_192, v_193, v_194, v_195, v_196, v_197, v_198, v_199, v_200, v_201, v_202, v_203, v_204, v_205, v_206, v_207, v_208, v_209, v_210, v_211, v_212, v_213]\n",
      "\n"
     ]
    },
    {
     "ename": "KeyboardInterrupt",
     "evalue": "",
     "output_type": "error",
     "traceback": [
      "\u001b[0;31m---------------------------------------------------------------------------\u001b[0m",
      "\u001b[0;31mKeyboardInterrupt\u001b[0m                         Traceback (most recent call last)",
      "\u001b[0;32m<ipython-input-32-0adfa0bb6410>\u001b[0m in \u001b[0;36m<module>\u001b[0;34m\u001b[0m\n\u001b[0;32m----> 1\u001b[0;31m \u001b[0msim\u001b[0m\u001b[0;34m.\u001b[0m\u001b[0msimulate_qaoa_energy\u001b[0m\u001b[0;34m(\u001b[0m\u001b[0mG\u001b[0m\u001b[0;34m,\u001b[0m \u001b[0mp\u001b[0m\u001b[0;34m=\u001b[0m\u001b[0mp\u001b[0m\u001b[0;34m,\u001b[0m \u001b[0mopt\u001b[0m\u001b[0;34m=\u001b[0m\u001b[0mopts\u001b[0m\u001b[0;34m)\u001b[0m\u001b[0;34m\u001b[0m\u001b[0;34m\u001b[0m\u001b[0m\n\u001b[0m",
      "\u001b[0;32m~/anl/Qensor/qtensor/tools/benchmarking/simulators.py\u001b[0m in \u001b[0;36msimulate_qaoa_energy\u001b[0;34m(self, G, p, opt)\u001b[0m\n\u001b[1;32m    115\u001b[0m                 \u001b[0;32mfor\u001b[0m \u001b[0medge\u001b[0m\u001b[0;34m,\u001b[0m \u001b[0mpeo\u001b[0m \u001b[0;32min\u001b[0m \u001b[0mtqdm\u001b[0m\u001b[0;34m(\u001b[0m\u001b[0mzip\u001b[0m\u001b[0;34m(\u001b[0m\u001b[0mG\u001b[0m\u001b[0;34m.\u001b[0m\u001b[0medges\u001b[0m\u001b[0;34m,\u001b[0m \u001b[0mopt\u001b[0m\u001b[0;34m)\u001b[0m\u001b[0;34m)\u001b[0m\u001b[0;34m:\u001b[0m\u001b[0;34m\u001b[0m\u001b[0;34m\u001b[0m\u001b[0m\n\u001b[1;32m    116\u001b[0m                     \u001b[0mcircuit\u001b[0m \u001b[0;34m=\u001b[0m \u001b[0msim\u001b[0m\u001b[0;34m.\u001b[0m\u001b[0m_edge_energy_circuit\u001b[0m\u001b[0;34m(\u001b[0m\u001b[0mG\u001b[0m\u001b[0;34m,\u001b[0m \u001b[0mgamma\u001b[0m\u001b[0;34m,\u001b[0m \u001b[0mbeta\u001b[0m\u001b[0;34m,\u001b[0m \u001b[0medge\u001b[0m\u001b[0;34m)\u001b[0m\u001b[0;34m\u001b[0m\u001b[0;34m\u001b[0m\u001b[0m\n\u001b[0;32m--> 117\u001b[0;31m                     \u001b[0mres\u001b[0m \u001b[0;34m+=\u001b[0m \u001b[0msim\u001b[0m\u001b[0;34m.\u001b[0m\u001b[0msimulate_batch\u001b[0m\u001b[0;34m(\u001b[0m\u001b[0mcircuit\u001b[0m\u001b[0;34m,\u001b[0m \u001b[0mpeo\u001b[0m\u001b[0;34m=\u001b[0m\u001b[0mpeo\u001b[0m\u001b[0;34m)\u001b[0m\u001b[0;34m\u001b[0m\u001b[0;34m\u001b[0m\u001b[0m\n\u001b[0m\u001b[1;32m    118\u001b[0m         \u001b[0;32mreturn\u001b[0m \u001b[0mres\u001b[0m\u001b[0;34m,\u001b[0m \u001b[0mt\u001b[0m\u001b[0;34m.\u001b[0m\u001b[0mresult\u001b[0m\u001b[0;34m,\u001b[0m \u001b[0mm\u001b[0m\u001b[0;34m.\u001b[0m\u001b[0mresult\u001b[0m\u001b[0;34m\u001b[0m\u001b[0;34m\u001b[0m\u001b[0m\n\u001b[1;32m    119\u001b[0m \u001b[0;34m\u001b[0m\u001b[0m\n",
      "\u001b[0;32m~/anl/Qensor/qtensor/MergedSimulator.py\u001b[0m in \u001b[0;36msimulate_batch\u001b[0;34m(self, qc, batch_vars, peo, dry_run)\u001b[0m\n\u001b[1;32m     59\u001b[0m \u001b[0;31m#           )\u001b[0m\u001b[0;34m\u001b[0m\u001b[0;34m\u001b[0m\u001b[0;34m\u001b[0m\u001b[0m\n\u001b[1;32m     60\u001b[0m \u001b[0;34m\u001b[0m\u001b[0m\n\u001b[0;32m---> 61\u001b[0;31m         result = qtensor.merged_indices.bucket_elimination(\n\u001b[0m\u001b[1;32m     62\u001b[0m             \u001b[0mmerged_buckets\u001b[0m\u001b[0;34m,\u001b[0m\u001b[0;34m\u001b[0m\u001b[0;34m\u001b[0m\u001b[0m\n\u001b[1;32m     63\u001b[0m             \u001b[0mibunch\u001b[0m\u001b[0;34m,\u001b[0m\u001b[0;34m\u001b[0m\u001b[0;34m\u001b[0m\u001b[0m\n",
      "\u001b[0;32m~/anl/Qensor/qtensor/merged_indices/bucket_elimination.py\u001b[0m in \u001b[0;36mbucket_elimination\u001b[0;34m(buckets, ibunch, process_bucket_fn, n_var_nosum)\u001b[0m\n\u001b[1;32m     29\u001b[0m     \u001b[0;32mfor\u001b[0m \u001b[0mixs\u001b[0m\u001b[0;34m,\u001b[0m \u001b[0mbucket\u001b[0m \u001b[0;32min\u001b[0m \u001b[0mzip\u001b[0m\u001b[0;34m(\u001b[0m\u001b[0mibunch\u001b[0m\u001b[0;34m,\u001b[0m \u001b[0mbuckets\u001b[0m\u001b[0;34m[\u001b[0m\u001b[0;34m:\u001b[0m\u001b[0mn_var_contract\u001b[0m\u001b[0;34m]\u001b[0m\u001b[0;34m)\u001b[0m\u001b[0;34m:\u001b[0m\u001b[0;34m\u001b[0m\u001b[0;34m\u001b[0m\u001b[0m\n\u001b[1;32m     30\u001b[0m         \u001b[0;32mif\u001b[0m \u001b[0mlen\u001b[0m\u001b[0;34m(\u001b[0m\u001b[0mbucket\u001b[0m\u001b[0;34m)\u001b[0m \u001b[0;34m>\u001b[0m \u001b[0;36m0\u001b[0m\u001b[0;34m:\u001b[0m\u001b[0;34m\u001b[0m\u001b[0;34m\u001b[0m\u001b[0m\n\u001b[0;32m---> 31\u001b[0;31m             \u001b[0mtensor\u001b[0m \u001b[0;34m=\u001b[0m \u001b[0mprocess_bucket_fn\u001b[0m\u001b[0;34m(\u001b[0m\u001b[0mixs\u001b[0m\u001b[0;34m,\u001b[0m \u001b[0mbucket\u001b[0m\u001b[0;34m)\u001b[0m\u001b[0;34m\u001b[0m\u001b[0;34m\u001b[0m\u001b[0m\n\u001b[0m\u001b[1;32m     32\u001b[0m             \u001b[0;32mif\u001b[0m \u001b[0mlen\u001b[0m\u001b[0;34m(\u001b[0m\u001b[0mtensor\u001b[0m\u001b[0;34m.\u001b[0m\u001b[0mindices\u001b[0m\u001b[0;34m)\u001b[0m \u001b[0;34m>\u001b[0m \u001b[0;36m0\u001b[0m\u001b[0;34m:\u001b[0m\u001b[0;34m\u001b[0m\u001b[0;34m\u001b[0m\u001b[0m\n\u001b[1;32m     33\u001b[0m                 \u001b[0;31m# tensor is not scalar.\u001b[0m\u001b[0;34m\u001b[0m\u001b[0;34m\u001b[0m\u001b[0;34m\u001b[0m\u001b[0m\n",
      "\u001b[0;32m~/anl/Qensor/qtensor/contraction_backends/transposed.py\u001b[0m in \u001b[0;36mprocess_bucket_merged\u001b[0;34m(self, ixs, bucket, no_sum)\u001b[0m\n\u001b[1;32m    165\u001b[0m             \u001b[0mnext_indices\u001b[0m \u001b[0;34m=\u001b[0m \u001b[0mnext_indices\u001b[0m \u001b[0;34m-\u001b[0m \u001b[0mspecific_indices\u001b[0m\u001b[0;34m\u001b[0m\u001b[0;34m\u001b[0m\u001b[0m\n\u001b[1;32m    166\u001b[0m \u001b[0;34m\u001b[0m\u001b[0m\n\u001b[0;32m--> 167\u001b[0;31m             cum_data = self.pairwise_sum_contract(\n\u001b[0m\u001b[1;32m    168\u001b[0m                 \u001b[0mcum_indices\u001b[0m\u001b[0;34m,\u001b[0m \u001b[0mcum_data\u001b[0m\u001b[0;34m,\u001b[0m \u001b[0mtensor\u001b[0m\u001b[0;34m.\u001b[0m\u001b[0mindices\u001b[0m\u001b[0;34m,\u001b[0m \u001b[0mtensor\u001b[0m\u001b[0;34m.\u001b[0m\u001b[0mdata\u001b[0m\u001b[0;34m,\u001b[0m \u001b[0mnext_indices\u001b[0m\u001b[0;34m\u001b[0m\u001b[0;34m\u001b[0m\u001b[0m\n\u001b[1;32m    169\u001b[0m             )\n",
      "\u001b[0;32m~/anl/Qensor/qtensor/contraction_backends/transposed.py\u001b[0m in \u001b[0;36mpairwise_sum_contract\u001b[0;34m(self, ixa, a, ixb, b, ixout)\u001b[0m\n\u001b[1;32m    121\u001b[0m         \u001b[0;32mif\u001b[0m \u001b[0mlen\u001b[0m\u001b[0;34m(\u001b[0m\u001b[0mout\u001b[0m\u001b[0;34m)\u001b[0m\u001b[0;34m>\u001b[0m\u001b[0;36m30\u001b[0m\u001b[0;34m:\u001b[0m\u001b[0;34m\u001b[0m\u001b[0;34m\u001b[0m\u001b[0m\n\u001b[1;32m    122\u001b[0m             \u001b[0mprint\u001b[0m\u001b[0;34m(\u001b[0m\u001b[0;34m'ax/bx'\u001b[0m\u001b[0;34m,\u001b[0m \u001b[0mixa\u001b[0m\u001b[0;34m,\u001b[0m \u001b[0mixb\u001b[0m\u001b[0;34m,\u001b[0m \u001b[0;34m'out ix'\u001b[0m\u001b[0;34m,\u001b[0m \u001b[0mout\u001b[0m\u001b[0;34m,\u001b[0m \u001b[0;34m'kfmnix'\u001b[0m\u001b[0;34m,\u001b[0m \u001b[0mkix\u001b[0m\u001b[0;34m,\u001b[0m \u001b[0mfix\u001b[0m\u001b[0;34m,\u001b[0m \u001b[0mmix\u001b[0m\u001b[0;34m,\u001b[0m \u001b[0mnix\u001b[0m\u001b[0;34m,\u001b[0m \u001b[0;34m'summed'\u001b[0m\u001b[0;34m,\u001b[0m \u001b[0msum_ix\u001b[0m\u001b[0;34m)\u001b[0m\u001b[0;34m\u001b[0m\u001b[0;34m\u001b[0m\u001b[0m\n\u001b[0;32m--> 123\u001b[0;31m         \u001b[0mG\u001b[0m \u001b[0;34m=\u001b[0m \u001b[0mnp\u001b[0m\u001b[0;34m.\u001b[0m\u001b[0meinsum\u001b[0m\u001b[0;34m(\u001b[0m\u001b[0;34m'ijk,ijl->jkl'\u001b[0m\u001b[0;34m,\u001b[0m \u001b[0ma\u001b[0m\u001b[0;34m,\u001b[0m \u001b[0mb\u001b[0m\u001b[0;34m)\u001b[0m\u001b[0;34m\u001b[0m\u001b[0;34m\u001b[0m\u001b[0m\n\u001b[0m\u001b[1;32m    124\u001b[0m         \u001b[0;32mif\u001b[0m \u001b[0mlen\u001b[0m\u001b[0;34m(\u001b[0m\u001b[0mout\u001b[0m\u001b[0;34m)\u001b[0m\u001b[0;34m:\u001b[0m\u001b[0;34m\u001b[0m\u001b[0;34m\u001b[0m\u001b[0m\n\u001b[1;32m    125\u001b[0m             \u001b[0;31m#print('out ix', out, 'kfmnix', kix, fix, mix, nix)\u001b[0m\u001b[0;34m\u001b[0m\u001b[0;34m\u001b[0m\u001b[0;34m\u001b[0m\u001b[0m\n",
      "\u001b[0;32m<__array_function__ internals>\u001b[0m in \u001b[0;36meinsum\u001b[0;34m(*args, **kwargs)\u001b[0m\n",
      "\u001b[0;32m~/.local/bin/lib/python3.8/site-packages/numpy/core/einsumfunc.py\u001b[0m in \u001b[0;36meinsum\u001b[0;34m(out, optimize, *operands, **kwargs)\u001b[0m\n\u001b[1;32m   1348\u001b[0m         \u001b[0;32mif\u001b[0m \u001b[0mspecified_out\u001b[0m\u001b[0;34m:\u001b[0m\u001b[0;34m\u001b[0m\u001b[0;34m\u001b[0m\u001b[0m\n\u001b[1;32m   1349\u001b[0m             \u001b[0mkwargs\u001b[0m\u001b[0;34m[\u001b[0m\u001b[0;34m'out'\u001b[0m\u001b[0;34m]\u001b[0m \u001b[0;34m=\u001b[0m \u001b[0mout\u001b[0m\u001b[0;34m\u001b[0m\u001b[0;34m\u001b[0m\u001b[0m\n\u001b[0;32m-> 1350\u001b[0;31m         \u001b[0;32mreturn\u001b[0m \u001b[0mc_einsum\u001b[0m\u001b[0;34m(\u001b[0m\u001b[0;34m*\u001b[0m\u001b[0moperands\u001b[0m\u001b[0;34m,\u001b[0m \u001b[0;34m**\u001b[0m\u001b[0mkwargs\u001b[0m\u001b[0;34m)\u001b[0m\u001b[0;34m\u001b[0m\u001b[0;34m\u001b[0m\u001b[0m\n\u001b[0m\u001b[1;32m   1351\u001b[0m \u001b[0;34m\u001b[0m\u001b[0m\n\u001b[1;32m   1352\u001b[0m     \u001b[0;31m# Check the kwargs to avoid a more cryptic error later, without having to\u001b[0m\u001b[0;34m\u001b[0m\u001b[0;34m\u001b[0m\u001b[0;34m\u001b[0m\u001b[0m\n",
      "\u001b[0;31mKeyboardInterrupt\u001b[0m: "
     ]
    }
   ],
   "source": [
    "sim.simulate_qaoa_energy(G, p=p, opt=opts)"
   ]
  },
  {
   "cell_type": "code",
   "execution_count": 17,
   "metadata": {},
   "outputs": [],
   "source": [
    "sim_mkl = qtensor.tools.benchmarking.simulators.MergedQtensorSimulator(backend='mkl')"
   ]
  },
  {
   "cell_type": "code",
   "execution_count": 18,
   "metadata": {
    "scrolled": true
   },
   "outputs": [
    {
     "data": {
      "application/vnd.jupyter.widget-view+json": {
       "model_id": "f127db4e36a444548babac3e6cb85eb5",
       "version_major": 2,
       "version_minor": 0
      },
      "text/plain": [
       "HBox(children=(HTML(value=''), FloatProgress(value=1.0, bar_style='info', layout=Layout(width='20px'), max=1.0…"
      ]
     },
     "metadata": {},
     "output_type": "display_data"
    },
    {
     "name": "stdout",
     "output_type": "stream",
     "text": [
      "\n"
     ]
    },
    {
     "ename": "MemoryError",
     "evalue": "Unable to allocate 1.00 TiB for an array with shape (1048576, 512, 128) and data type complex128",
     "output_type": "error",
     "traceback": [
      "\u001b[0;31m---------------------------------------------------------------------------\u001b[0m",
      "\u001b[0;31mMemoryError\u001b[0m                               Traceback (most recent call last)",
      "\u001b[0;32m<ipython-input-18-0adfa0bb6410>\u001b[0m in \u001b[0;36m<module>\u001b[0;34m\u001b[0m\n\u001b[0;32m----> 1\u001b[0;31m \u001b[0msim\u001b[0m\u001b[0;34m.\u001b[0m\u001b[0msimulate_qaoa_energy\u001b[0m\u001b[0;34m(\u001b[0m\u001b[0mG\u001b[0m\u001b[0;34m,\u001b[0m \u001b[0mp\u001b[0m\u001b[0;34m=\u001b[0m\u001b[0mp\u001b[0m\u001b[0;34m,\u001b[0m \u001b[0mopt\u001b[0m\u001b[0;34m=\u001b[0m\u001b[0mopts\u001b[0m\u001b[0;34m)\u001b[0m\u001b[0;34m\u001b[0m\u001b[0;34m\u001b[0m\u001b[0m\n\u001b[0m",
      "\u001b[0;32m~/anl/Qensor/qtensor/tools/benchmarking/simulators.py\u001b[0m in \u001b[0;36msimulate_qaoa_energy\u001b[0;34m(self, G, p, opt)\u001b[0m\n\u001b[1;32m    115\u001b[0m                 \u001b[0;32mfor\u001b[0m \u001b[0medge\u001b[0m\u001b[0;34m,\u001b[0m \u001b[0mpeo\u001b[0m \u001b[0;32min\u001b[0m \u001b[0mtqdm\u001b[0m\u001b[0;34m(\u001b[0m\u001b[0mzip\u001b[0m\u001b[0;34m(\u001b[0m\u001b[0mG\u001b[0m\u001b[0;34m.\u001b[0m\u001b[0medges\u001b[0m\u001b[0;34m,\u001b[0m \u001b[0mopt\u001b[0m\u001b[0;34m)\u001b[0m\u001b[0;34m)\u001b[0m\u001b[0;34m:\u001b[0m\u001b[0;34m\u001b[0m\u001b[0;34m\u001b[0m\u001b[0m\n\u001b[1;32m    116\u001b[0m                     \u001b[0mcircuit\u001b[0m \u001b[0;34m=\u001b[0m \u001b[0msim\u001b[0m\u001b[0;34m.\u001b[0m\u001b[0m_edge_energy_circuit\u001b[0m\u001b[0;34m(\u001b[0m\u001b[0mG\u001b[0m\u001b[0;34m,\u001b[0m \u001b[0mgamma\u001b[0m\u001b[0;34m,\u001b[0m \u001b[0mbeta\u001b[0m\u001b[0;34m,\u001b[0m \u001b[0medge\u001b[0m\u001b[0;34m)\u001b[0m\u001b[0;34m\u001b[0m\u001b[0;34m\u001b[0m\u001b[0m\n\u001b[0;32m--> 117\u001b[0;31m                     \u001b[0mres\u001b[0m \u001b[0;34m+=\u001b[0m \u001b[0msim\u001b[0m\u001b[0;34m.\u001b[0m\u001b[0msimulate_batch\u001b[0m\u001b[0;34m(\u001b[0m\u001b[0mcircuit\u001b[0m\u001b[0;34m,\u001b[0m \u001b[0mpeo\u001b[0m\u001b[0;34m=\u001b[0m\u001b[0mpeo\u001b[0m\u001b[0;34m)\u001b[0m\u001b[0;34m\u001b[0m\u001b[0;34m\u001b[0m\u001b[0m\n\u001b[0m\u001b[1;32m    118\u001b[0m         \u001b[0;32mreturn\u001b[0m \u001b[0mres\u001b[0m\u001b[0;34m,\u001b[0m \u001b[0mt\u001b[0m\u001b[0;34m.\u001b[0m\u001b[0mresult\u001b[0m\u001b[0;34m,\u001b[0m \u001b[0mm\u001b[0m\u001b[0;34m.\u001b[0m\u001b[0mresult\u001b[0m\u001b[0;34m\u001b[0m\u001b[0;34m\u001b[0m\u001b[0m\n\u001b[1;32m    119\u001b[0m \u001b[0;34m\u001b[0m\u001b[0m\n",
      "\u001b[0;32m~/anl/Qensor/qtensor/MergedSimulator.py\u001b[0m in \u001b[0;36msimulate_batch\u001b[0;34m(self, qc, batch_vars, peo, dry_run)\u001b[0m\n\u001b[1;32m     59\u001b[0m \u001b[0;31m#           )\u001b[0m\u001b[0;34m\u001b[0m\u001b[0;34m\u001b[0m\u001b[0;34m\u001b[0m\u001b[0m\n\u001b[1;32m     60\u001b[0m \u001b[0;34m\u001b[0m\u001b[0m\n\u001b[0;32m---> 61\u001b[0;31m         result = qtensor.merged_indices.bucket_elimination(\n\u001b[0m\u001b[1;32m     62\u001b[0m             \u001b[0mmerged_buckets\u001b[0m\u001b[0;34m,\u001b[0m\u001b[0;34m\u001b[0m\u001b[0;34m\u001b[0m\u001b[0m\n\u001b[1;32m     63\u001b[0m             \u001b[0mibunch\u001b[0m\u001b[0;34m,\u001b[0m\u001b[0;34m\u001b[0m\u001b[0;34m\u001b[0m\u001b[0m\n",
      "\u001b[0;32m~/anl/Qensor/qtensor/merged_indices/bucket_elimination.py\u001b[0m in \u001b[0;36mbucket_elimination\u001b[0;34m(buckets, ibunch, process_bucket_fn, n_var_nosum)\u001b[0m\n\u001b[1;32m     29\u001b[0m     \u001b[0;32mfor\u001b[0m \u001b[0mixs\u001b[0m\u001b[0;34m,\u001b[0m \u001b[0mbucket\u001b[0m \u001b[0;32min\u001b[0m \u001b[0mzip\u001b[0m\u001b[0;34m(\u001b[0m\u001b[0mibunch\u001b[0m\u001b[0;34m,\u001b[0m \u001b[0mbuckets\u001b[0m\u001b[0;34m[\u001b[0m\u001b[0;34m:\u001b[0m\u001b[0mn_var_contract\u001b[0m\u001b[0;34m]\u001b[0m\u001b[0;34m)\u001b[0m\u001b[0;34m:\u001b[0m\u001b[0;34m\u001b[0m\u001b[0;34m\u001b[0m\u001b[0m\n\u001b[1;32m     30\u001b[0m         \u001b[0;32mif\u001b[0m \u001b[0mlen\u001b[0m\u001b[0;34m(\u001b[0m\u001b[0mbucket\u001b[0m\u001b[0;34m)\u001b[0m \u001b[0;34m>\u001b[0m \u001b[0;36m0\u001b[0m\u001b[0;34m:\u001b[0m\u001b[0;34m\u001b[0m\u001b[0;34m\u001b[0m\u001b[0m\n\u001b[0;32m---> 31\u001b[0;31m             \u001b[0mtensor\u001b[0m \u001b[0;34m=\u001b[0m \u001b[0mprocess_bucket_fn\u001b[0m\u001b[0;34m(\u001b[0m\u001b[0mixs\u001b[0m\u001b[0;34m,\u001b[0m \u001b[0mbucket\u001b[0m\u001b[0;34m)\u001b[0m\u001b[0;34m\u001b[0m\u001b[0;34m\u001b[0m\u001b[0m\n\u001b[0m\u001b[1;32m     32\u001b[0m             \u001b[0;32mif\u001b[0m \u001b[0mlen\u001b[0m\u001b[0;34m(\u001b[0m\u001b[0mtensor\u001b[0m\u001b[0;34m.\u001b[0m\u001b[0mindices\u001b[0m\u001b[0;34m)\u001b[0m \u001b[0;34m>\u001b[0m \u001b[0;36m0\u001b[0m\u001b[0;34m:\u001b[0m\u001b[0;34m\u001b[0m\u001b[0;34m\u001b[0m\u001b[0m\n\u001b[1;32m     33\u001b[0m                 \u001b[0;31m# tensor is not scalar.\u001b[0m\u001b[0;34m\u001b[0m\u001b[0;34m\u001b[0m\u001b[0;34m\u001b[0m\u001b[0m\n",
      "\u001b[0;32m~/anl/Qensor/qtensor/contraction_backends/mkl.py\u001b[0m in \u001b[0;36mprocess_bucket_merged\u001b[0;34m(self, ixs, bucket, no_sum)\u001b[0m\n\u001b[1;32m    223\u001b[0m         \u001b[0;32mfor\u001b[0m \u001b[0mtensor\u001b[0m \u001b[0;32min\u001b[0m \u001b[0mbucket\u001b[0m\u001b[0;34m[\u001b[0m\u001b[0;36m1\u001b[0m\u001b[0;34m:\u001b[0m\u001b[0;34m-\u001b[0m\u001b[0;36m1\u001b[0m\u001b[0;34m]\u001b[0m\u001b[0;34m:\u001b[0m\u001b[0;34m\u001b[0m\u001b[0;34m\u001b[0m\u001b[0m\n\u001b[1;32m    224\u001b[0m             \u001b[0mnext_indices\u001b[0m \u001b[0;34m=\u001b[0m \u001b[0mset\u001b[0m\u001b[0;34m(\u001b[0m\u001b[0mcum_indices\u001b[0m\u001b[0;34m)\u001b[0m\u001b[0;34m.\u001b[0m\u001b[0munion\u001b[0m\u001b[0;34m(\u001b[0m\u001b[0mtensor\u001b[0m\u001b[0;34m.\u001b[0m\u001b[0mindices\u001b[0m\u001b[0;34m)\u001b[0m\u001b[0;34m\u001b[0m\u001b[0;34m\u001b[0m\u001b[0m\n\u001b[0;32m--> 225\u001b[0;31m             cum_data = self.pairwise_sum_contract(\n\u001b[0m\u001b[1;32m    226\u001b[0m                 \u001b[0mcum_indices\u001b[0m\u001b[0;34m,\u001b[0m \u001b[0mcum_data\u001b[0m\u001b[0;34m,\u001b[0m \u001b[0mtensor\u001b[0m\u001b[0;34m.\u001b[0m\u001b[0mindices\u001b[0m\u001b[0;34m,\u001b[0m \u001b[0mtensor\u001b[0m\u001b[0;34m.\u001b[0m\u001b[0mdata\u001b[0m\u001b[0;34m,\u001b[0m \u001b[0mnext_indices\u001b[0m\u001b[0;34m\u001b[0m\u001b[0;34m\u001b[0m\u001b[0m\n\u001b[1;32m    227\u001b[0m             )\n",
      "\u001b[0;32m~/anl/Qensor/qtensor/contraction_backends/mkl.py\u001b[0m in \u001b[0;36mpairwise_sum_contract\u001b[0;34m(self, ixa, a, ixb, b, ixout)\u001b[0m\n\u001b[1;32m    201\u001b[0m             \u001b[0mb\u001b[0m \u001b[0;34m=\u001b[0m \u001b[0mb\u001b[0m\u001b[0;34m.\u001b[0m\u001b[0mreshape\u001b[0m\u001b[0;34m(\u001b[0m\u001b[0mk\u001b[0m\u001b[0;34m,\u001b[0m \u001b[0mf\u001b[0m\u001b[0;34m,\u001b[0m \u001b[0mn\u001b[0m\u001b[0;34m)\u001b[0m\u001b[0;34m\u001b[0m\u001b[0;34m\u001b[0m\u001b[0m\n\u001b[1;32m    202\u001b[0m         \u001b[0;32mwith\u001b[0m \u001b[0mpyrofiler\u001b[0m\u001b[0;34m.\u001b[0m\u001b[0mtiming\u001b[0m\u001b[0;34m(\u001b[0m\u001b[0mcallback\u001b[0m\u001b[0;34m=\u001b[0m\u001b[0;32mlambda\u001b[0m \u001b[0mx\u001b[0m\u001b[0;34m:\u001b[0m \u001b[0mself\u001b[0m\u001b[0;34m.\u001b[0m\u001b[0mtimes_all\u001b[0m\u001b[0;34m.\u001b[0m\u001b[0mappend\u001b[0m\u001b[0;34m(\u001b[0m\u001b[0mx\u001b[0m\u001b[0;34m)\u001b[0m\u001b[0;34m)\u001b[0m\u001b[0;34m:\u001b[0m\u001b[0;34m\u001b[0m\u001b[0;34m\u001b[0m\u001b[0m\n\u001b[0;32m--> 203\u001b[0;31m             \u001b[0mc\u001b[0m \u001b[0;34m=\u001b[0m \u001b[0mnp\u001b[0m\u001b[0;34m.\u001b[0m\u001b[0mempty\u001b[0m\u001b[0;34m(\u001b[0m\u001b[0;34m(\u001b[0m\u001b[0mf\u001b[0m\u001b[0;34m,\u001b[0m \u001b[0mm\u001b[0m\u001b[0;34m,\u001b[0m \u001b[0mn\u001b[0m\u001b[0;34m)\u001b[0m\u001b[0;34m,\u001b[0m \u001b[0mdtype\u001b[0m\u001b[0;34m=\u001b[0m\u001b[0mnp\u001b[0m\u001b[0;34m.\u001b[0m\u001b[0mcomplex128\u001b[0m\u001b[0;34m)\u001b[0m\u001b[0;34m\u001b[0m\u001b[0;34m\u001b[0m\u001b[0m\n\u001b[0m\u001b[1;32m    204\u001b[0m         \u001b[0;32mwith\u001b[0m \u001b[0mpyrofiler\u001b[0m\u001b[0;34m.\u001b[0m\u001b[0mtiming\u001b[0m\u001b[0;34m(\u001b[0m\u001b[0mcallback\u001b[0m\u001b[0;34m=\u001b[0m\u001b[0;32mlambda\u001b[0m \u001b[0mx\u001b[0m\u001b[0;34m:\u001b[0m \u001b[0mself\u001b[0m\u001b[0;34m.\u001b[0m\u001b[0mtimes\u001b[0m\u001b[0;34m.\u001b[0m\u001b[0mappend\u001b[0m\u001b[0;34m(\u001b[0m\u001b[0mx\u001b[0m\u001b[0;34m)\u001b[0m\u001b[0;34m)\u001b[0m\u001b[0;34m:\u001b[0m\u001b[0;34m\u001b[0m\u001b[0;34m\u001b[0m\u001b[0m\n\u001b[1;32m    205\u001b[0m             \u001b[0mtcontract\u001b[0m\u001b[0;34m.\u001b[0m\u001b[0mmkl_contract_sum\u001b[0m\u001b[0;34m(\u001b[0m\u001b[0ma\u001b[0m\u001b[0;34m,\u001b[0m\u001b[0mb\u001b[0m\u001b[0;34m,\u001b[0m\u001b[0mc\u001b[0m\u001b[0;34m)\u001b[0m\u001b[0;34m\u001b[0m\u001b[0;34m\u001b[0m\u001b[0m\n",
      "\u001b[0;31mMemoryError\u001b[0m: Unable to allocate 1.00 TiB for an array with shape (1048576, 512, 128) and data type complex128"
     ]
    }
   ],
   "source": [
    "sim_mkl.simulate_qaoa_energy(G, p=p, opt=opts)"
   ]
  },
  {
   "cell_type": "code",
   "execution_count": 21,
   "metadata": {},
   "outputs": [],
   "source": [
    "sim_ein = qtensor.tools.benchmarking.simulators.MergedQtensorSimulator(backend='einsum')"
   ]
  },
  {
   "cell_type": "code",
   "execution_count": 22,
   "metadata": {
    "scrolled": true
   },
   "outputs": [
    {
     "data": {
      "application/vnd.jupyter.widget-view+json": {
       "model_id": "23ef7c16561541b29de54c324b862b77",
       "version_major": 2,
       "version_minor": 0
      },
      "text/plain": [
       "HBox(children=(HTML(value=''), FloatProgress(value=1.0, bar_style='info', layout=Layout(width='20px'), max=1.0…"
      ]
     },
     "metadata": {},
     "output_type": "display_data"
    },
    {
     "name": "stdout",
     "output_type": "stream",
     "text": [
      "\n"
     ]
    },
    {
     "ename": "ValueError",
     "evalue": "too many subscripts in einsum",
     "output_type": "error",
     "traceback": [
      "\u001b[0;31m---------------------------------------------------------------------------\u001b[0m",
      "\u001b[0;31mValueError\u001b[0m                                Traceback (most recent call last)",
      "\u001b[0;32m<ipython-input-22-adc85b72d4f5>\u001b[0m in \u001b[0;36m<module>\u001b[0;34m\u001b[0m\n\u001b[0;32m----> 1\u001b[0;31m \u001b[0msim_ein\u001b[0m\u001b[0;34m.\u001b[0m\u001b[0msimulate_qaoa_energy\u001b[0m\u001b[0;34m(\u001b[0m\u001b[0mG\u001b[0m\u001b[0;34m,\u001b[0m \u001b[0mp\u001b[0m\u001b[0;34m=\u001b[0m\u001b[0mp\u001b[0m\u001b[0;34m,\u001b[0m \u001b[0mopt\u001b[0m\u001b[0;34m=\u001b[0m\u001b[0mopts\u001b[0m\u001b[0;34m)\u001b[0m\u001b[0;34m\u001b[0m\u001b[0;34m\u001b[0m\u001b[0m\n\u001b[0m",
      "\u001b[0;32m~/anl/Qensor/qtensor/tools/benchmarking/simulators.py\u001b[0m in \u001b[0;36msimulate_qaoa_energy\u001b[0;34m(self, G, p, opt)\u001b[0m\n\u001b[1;32m    115\u001b[0m                 \u001b[0;32mfor\u001b[0m \u001b[0medge\u001b[0m\u001b[0;34m,\u001b[0m \u001b[0mpeo\u001b[0m \u001b[0;32min\u001b[0m \u001b[0mtqdm\u001b[0m\u001b[0;34m(\u001b[0m\u001b[0mzip\u001b[0m\u001b[0;34m(\u001b[0m\u001b[0mG\u001b[0m\u001b[0;34m.\u001b[0m\u001b[0medges\u001b[0m\u001b[0;34m,\u001b[0m \u001b[0mopt\u001b[0m\u001b[0;34m)\u001b[0m\u001b[0;34m)\u001b[0m\u001b[0;34m:\u001b[0m\u001b[0;34m\u001b[0m\u001b[0;34m\u001b[0m\u001b[0m\n\u001b[1;32m    116\u001b[0m                     \u001b[0mcircuit\u001b[0m \u001b[0;34m=\u001b[0m \u001b[0msim\u001b[0m\u001b[0;34m.\u001b[0m\u001b[0m_edge_energy_circuit\u001b[0m\u001b[0;34m(\u001b[0m\u001b[0mG\u001b[0m\u001b[0;34m,\u001b[0m \u001b[0mgamma\u001b[0m\u001b[0;34m,\u001b[0m \u001b[0mbeta\u001b[0m\u001b[0;34m,\u001b[0m \u001b[0medge\u001b[0m\u001b[0;34m)\u001b[0m\u001b[0;34m\u001b[0m\u001b[0;34m\u001b[0m\u001b[0m\n\u001b[0;32m--> 117\u001b[0;31m                     \u001b[0mres\u001b[0m \u001b[0;34m+=\u001b[0m \u001b[0msim\u001b[0m\u001b[0;34m.\u001b[0m\u001b[0msimulate_batch\u001b[0m\u001b[0;34m(\u001b[0m\u001b[0mcircuit\u001b[0m\u001b[0;34m,\u001b[0m \u001b[0mpeo\u001b[0m\u001b[0;34m=\u001b[0m\u001b[0mpeo\u001b[0m\u001b[0;34m)\u001b[0m\u001b[0;34m\u001b[0m\u001b[0;34m\u001b[0m\u001b[0m\n\u001b[0m\u001b[1;32m    118\u001b[0m         \u001b[0;32mreturn\u001b[0m \u001b[0mres\u001b[0m\u001b[0;34m,\u001b[0m \u001b[0mt\u001b[0m\u001b[0;34m.\u001b[0m\u001b[0mresult\u001b[0m\u001b[0;34m,\u001b[0m \u001b[0mm\u001b[0m\u001b[0;34m.\u001b[0m\u001b[0mresult\u001b[0m\u001b[0;34m\u001b[0m\u001b[0;34m\u001b[0m\u001b[0m\n\u001b[1;32m    119\u001b[0m \u001b[0;34m\u001b[0m\u001b[0m\n",
      "\u001b[0;32m~/anl/Qensor/qtensor/MergedSimulator.py\u001b[0m in \u001b[0;36msimulate_batch\u001b[0;34m(self, qc, batch_vars, peo, dry_run)\u001b[0m\n\u001b[1;32m     59\u001b[0m \u001b[0;31m#           )\u001b[0m\u001b[0;34m\u001b[0m\u001b[0;34m\u001b[0m\u001b[0;34m\u001b[0m\u001b[0m\n\u001b[1;32m     60\u001b[0m \u001b[0;34m\u001b[0m\u001b[0m\n\u001b[0;32m---> 61\u001b[0;31m         result = qtensor.merged_indices.bucket_elimination(\n\u001b[0m\u001b[1;32m     62\u001b[0m             \u001b[0mmerged_buckets\u001b[0m\u001b[0;34m,\u001b[0m\u001b[0;34m\u001b[0m\u001b[0;34m\u001b[0m\u001b[0m\n\u001b[1;32m     63\u001b[0m             \u001b[0mibunch\u001b[0m\u001b[0;34m,\u001b[0m\u001b[0;34m\u001b[0m\u001b[0;34m\u001b[0m\u001b[0m\n",
      "\u001b[0;32m~/anl/Qensor/qtensor/merged_indices/bucket_elimination.py\u001b[0m in \u001b[0;36mbucket_elimination\u001b[0;34m(buckets, ibunch, process_bucket_fn, n_var_nosum)\u001b[0m\n\u001b[1;32m     29\u001b[0m     \u001b[0;32mfor\u001b[0m \u001b[0mixs\u001b[0m\u001b[0;34m,\u001b[0m \u001b[0mbucket\u001b[0m \u001b[0;32min\u001b[0m \u001b[0mzip\u001b[0m\u001b[0;34m(\u001b[0m\u001b[0mibunch\u001b[0m\u001b[0;34m,\u001b[0m \u001b[0mbuckets\u001b[0m\u001b[0;34m[\u001b[0m\u001b[0;34m:\u001b[0m\u001b[0mn_var_contract\u001b[0m\u001b[0;34m]\u001b[0m\u001b[0;34m)\u001b[0m\u001b[0;34m:\u001b[0m\u001b[0;34m\u001b[0m\u001b[0;34m\u001b[0m\u001b[0m\n\u001b[1;32m     30\u001b[0m         \u001b[0;32mif\u001b[0m \u001b[0mlen\u001b[0m\u001b[0;34m(\u001b[0m\u001b[0mbucket\u001b[0m\u001b[0;34m)\u001b[0m \u001b[0;34m>\u001b[0m \u001b[0;36m0\u001b[0m\u001b[0;34m:\u001b[0m\u001b[0;34m\u001b[0m\u001b[0;34m\u001b[0m\u001b[0m\n\u001b[0;32m---> 31\u001b[0;31m             \u001b[0mtensor\u001b[0m \u001b[0;34m=\u001b[0m \u001b[0mprocess_bucket_fn\u001b[0m\u001b[0;34m(\u001b[0m\u001b[0mixs\u001b[0m\u001b[0;34m,\u001b[0m \u001b[0mbucket\u001b[0m\u001b[0;34m)\u001b[0m\u001b[0;34m\u001b[0m\u001b[0;34m\u001b[0m\u001b[0m\n\u001b[0m\u001b[1;32m     32\u001b[0m             \u001b[0;32mif\u001b[0m \u001b[0mlen\u001b[0m\u001b[0;34m(\u001b[0m\u001b[0mtensor\u001b[0m\u001b[0;34m.\u001b[0m\u001b[0mindices\u001b[0m\u001b[0;34m)\u001b[0m \u001b[0;34m>\u001b[0m \u001b[0;36m0\u001b[0m\u001b[0;34m:\u001b[0m\u001b[0;34m\u001b[0m\u001b[0;34m\u001b[0m\u001b[0m\n\u001b[1;32m     33\u001b[0m                 \u001b[0;31m# tensor is not scalar.\u001b[0m\u001b[0;34m\u001b[0m\u001b[0;34m\u001b[0m\u001b[0;34m\u001b[0m\u001b[0m\n",
      "\u001b[0;32m~/anl/Qensor/qtensor/contraction_backends/numpy.py\u001b[0m in \u001b[0;36mprocess_bucket_merged\u001b[0;34m(self, ixs, bucket, no_sum)\u001b[0m\n\u001b[1;32m     64\u001b[0m             \u001b[0mresult_data\u001b[0m \u001b[0;34m=\u001b[0m \u001b[0mopt_einsum\u001b[0m\u001b[0;34m.\u001b[0m\u001b[0mcontract\u001b[0m\u001b[0;34m(\u001b[0m\u001b[0;34m*\u001b[0m\u001b[0mparams\u001b[0m\u001b[0;34m)\u001b[0m\u001b[0;34m\u001b[0m\u001b[0;34m\u001b[0m\u001b[0m\n\u001b[1;32m     65\u001b[0m         \u001b[0;32melse\u001b[0m\u001b[0;34m:\u001b[0m\u001b[0;34m\u001b[0m\u001b[0;34m\u001b[0m\u001b[0m\n\u001b[0;32m---> 66\u001b[0;31m             \u001b[0mresult_data\u001b[0m \u001b[0;34m=\u001b[0m \u001b[0mnp\u001b[0m\u001b[0;34m.\u001b[0m\u001b[0meinsum\u001b[0m\u001b[0;34m(\u001b[0m\u001b[0;34m*\u001b[0m\u001b[0mparams\u001b[0m\u001b[0;34m)\u001b[0m\u001b[0;34m\u001b[0m\u001b[0;34m\u001b[0m\u001b[0m\n\u001b[0m\u001b[1;32m     67\u001b[0m \u001b[0;34m\u001b[0m\u001b[0m\n\u001b[1;32m     68\u001b[0m         \u001b[0;32mif\u001b[0m \u001b[0mlen\u001b[0m\u001b[0;34m(\u001b[0m\u001b[0mresult_indices\u001b[0m\u001b[0;34m)\u001b[0m \u001b[0;34m>\u001b[0m \u001b[0;36m0\u001b[0m\u001b[0;34m:\u001b[0m\u001b[0;34m\u001b[0m\u001b[0;34m\u001b[0m\u001b[0m\n",
      "\u001b[0;32m<__array_function__ internals>\u001b[0m in \u001b[0;36meinsum\u001b[0;34m(*args, **kwargs)\u001b[0m\n",
      "\u001b[0;32m~/.local/bin/lib/python3.8/site-packages/numpy/core/einsumfunc.py\u001b[0m in \u001b[0;36meinsum\u001b[0;34m(out, optimize, *operands, **kwargs)\u001b[0m\n\u001b[1;32m   1348\u001b[0m         \u001b[0;32mif\u001b[0m \u001b[0mspecified_out\u001b[0m\u001b[0;34m:\u001b[0m\u001b[0;34m\u001b[0m\u001b[0;34m\u001b[0m\u001b[0m\n\u001b[1;32m   1349\u001b[0m             \u001b[0mkwargs\u001b[0m\u001b[0;34m[\u001b[0m\u001b[0;34m'out'\u001b[0m\u001b[0;34m]\u001b[0m \u001b[0;34m=\u001b[0m \u001b[0mout\u001b[0m\u001b[0;34m\u001b[0m\u001b[0;34m\u001b[0m\u001b[0m\n\u001b[0;32m-> 1350\u001b[0;31m         \u001b[0;32mreturn\u001b[0m \u001b[0mc_einsum\u001b[0m\u001b[0;34m(\u001b[0m\u001b[0;34m*\u001b[0m\u001b[0moperands\u001b[0m\u001b[0;34m,\u001b[0m \u001b[0;34m**\u001b[0m\u001b[0mkwargs\u001b[0m\u001b[0;34m)\u001b[0m\u001b[0;34m\u001b[0m\u001b[0;34m\u001b[0m\u001b[0m\n\u001b[0m\u001b[1;32m   1351\u001b[0m \u001b[0;34m\u001b[0m\u001b[0m\n\u001b[1;32m   1352\u001b[0m     \u001b[0;31m# Check the kwargs to avoid a more cryptic error later, without having to\u001b[0m\u001b[0;34m\u001b[0m\u001b[0;34m\u001b[0m\u001b[0;34m\u001b[0m\u001b[0m\n",
      "\u001b[0;31mValueError\u001b[0m: too many subscripts in einsum"
     ]
    }
   ],
   "source": [
    "sim_ein.simulate_qaoa_energy(G, p=p, opt=opts)"
   ]
  },
  {
   "cell_type": "code",
   "execution_count": null,
   "metadata": {
    "scrolled": true
   },
   "outputs": [],
   "source": [
    "_time = ex.get_variable('energy_time', sim='qtensor_merged',\n",
    "                        qtn_backend='mkl',\n",
    "                        N=316, p=5, seed=10, qmb_max_repeats=100, qtn_ordering_algo='rgreedy_0.02_100')\n",
    "print(_time)"
   ]
  },
  {
   "cell_type": "code",
   "execution_count": 22,
   "metadata": {},
   "outputs": [
    {
     "name": "stdout",
     "output_type": "stream",
     "text": [
      "[23, 22, 25, 24, 23, 22, 22, 17, 16, 21, 17, 21, 15, 17, 20, 25, 26, 21, 25, 26, 20, 21, 21, 21, 19, 19, 20, 19, 21, 22, 20, 21, 19, 20, 23, 15, 13, 12, 14, 14, 20, 17, 17, 21, 20, 18, 20, 19, 17, 15, 14, 17, 17, 19, 20, 18, 19, 20, 22, 18, 22, 20, 22, 23, 17, 19, 21, 18, 18, 18, 18, 18, 15, 17, 18, 16, 14, 20, 19, 21, 22, 18, 21, 23, 22, 23, 20, 21, 16, 17, 18, 16, 23, 23, 22, 21, 21, 17, 19, 18, 14, 17, 18, 15, 20, 19, 18, 14, 22, 19, 21, 22, 16, 18, 16, 14, 21, 21, 21, 20, 18, 22, 23, 22, 22, 20, 21, 20, 16, 15, 20, 19, 25, 23, 25, 22, 24, 19, 18, 20, 20, 22, 24, 22, 22, 21, 22, 15, 19, 19, 16, 18, 26, 18, 18, 19, 20, 19, 20, 16, 16, 16, 18, 14, 15, 18, 18, 15, 16, 19, 20, 19, 16, 16, 16, 14, 19, 17, 15, 15, 20, 17, 18, 19, 21, 20, 21, 18, 17, 17, 21, 23, 22, 22, 21, 20, 17, 19, 19, 20, 22, 20, 17, 16, 18, 21, 25, 25, 24, 21, 18, 25, 21, 28, 24, 25, 26, 20, 20, 20, 19, 20, 25, 21, 22, 22, 18, 20, 21, 20, 22, 24, 21, 16, 18, 17, 16, 21, 20, 19, 18, 18, 21, 16, 22, 21, 23, 20, 19, 25, 21, 18, 18, 24, 18, 19, 20, 19, 17, 17, 16, 16, 17, 18, 23, 21, 15, 14, 14, 23, 26, 20, 23, 17, 20, 19, 22, 20, 18, 15, 15, 18, 18, 21, 26, 25, 21, 19, 24, 22, 23, 17, 20, 25, 16, 26, 20, 25, 21, 26, 22, 23, 21, 23, 15, 15, 17, 17, 20, 15, 26, 24, 22, 24, 25, 18, 20, 18, 19, 18, 20, 19, 20, 22, 18, 23, 20, 22, 26, 15, 13, 13, 12, 23, 16, 19, 20, 18, 19, 17, 22, 21, 20, 20, 17, 25, 24, 23, 25, 23, 21, 19, 19, 13, 19, 18, 19, 19, 19, 22, 19, 20, 17, 24, 19, 20, 18, 20, 18, 16, 18, 20, 18, 20, 21, 19, 16, 19, 17, 17, 15, 22, 21, 19, 18, 20, 16, 21, 22, 23, 21, 16, 17, 16, 21, 21, 18, 21, 22, 20, 22, 17, 22, 20, 14, 16, 21, 18, 21, 17, 17, 18, 15, 21, 19, 21, 16, 19, 15, 18, 19, 15, 16, 20, 20, 20, 16, 23, 20, 19, 20, 26, 24, 19, 17, 20, 24, 23, 21, 16, 15, 15, 26, 20, 17, 20, 19, 22, 20, 17, 18, 19, 21, 20, 24, 20, 18, 19, 23, 18, 23, 21, 22, 22, 16, 23, 23, 21, 18, 18, 18, 15, 23, 22]\n",
      "28\n"
     ]
    }
   ],
   "source": [
    "_tws = ex.get_variable('energy_tws',\n",
    "                       sim='qtensor_merged_mkl', N=316, p=5, seed=10,\n",
    "                       qmb_max_repeats=n_repeats,\n",
    "                       qtn_ordering_algo=f'rgreedy_0.02_{n_repeats}')\n",
    "print(_tws)\n",
    "print(max(_tws))"
   ]
  },
  {
   "cell_type": "code",
   "execution_count": null,
   "metadata": {},
   "outputs": [],
   "source": [
    "print(_time)"
   ]
  },
  {
   "cell_type": "markdown",
   "metadata": {},
   "source": [
    "### Look at small circuit time"
   ]
  },
  {
   "cell_type": "code",
   "execution_count": null,
   "metadata": {},
   "outputs": [],
   "source": [
    "fig = ex.plot_variables(('energy_time', 'energy_flops'),\n",
    "                  sim=['qtensor', 'quimb'],\n",
    "                  N=range(10, 30, 2),\n",
    "                  p=[3],\n",
    "                  seed=[10],\n",
    "                  qmb_max_repeats=[10],\n",
    "                  qtn_ordering_algo=['rgreedy_0.02_10'],\n",
    "                 )"
   ]
  },
  {
   "cell_type": "code",
   "execution_count": null,
   "metadata": {},
   "outputs": [],
   "source": [
    "fig = ex.plot_variables(('energy_time', 'energy_flops'),\n",
    "                  sim=['qtensor', 'quimb'],\n",
    "                  N=range(10, 30, 2),\n",
    "                  p=[3],\n",
    "                  seed=[11],\n",
    "                  qmb_max_repeats=[10],\n",
    "                  qtn_ordering_algo=['rgreedy_0.02_10'],\n",
    "                 )"
   ]
  },
  {
   "cell_type": "markdown",
   "metadata": {},
   "source": [
    "## Debugging of quimb"
   ]
  },
  {
   "cell_type": "code",
   "execution_count": null,
   "metadata": {},
   "outputs": [],
   "source": [
    "xar_tr.sel(sim='quimb_Dsimp', N=18, p=3)"
   ]
  },
  {
   "cell_type": "code",
   "execution_count": null,
   "metadata": {},
   "outputs": [],
   "source": [
    "@ex.provider\n",
    "def energy_tws_max(energy_tws):\n",
    "    return max(energy_tws)"
   ]
  },
  {
   "cell_type": "code",
   "execution_count": null,
   "metadata": {},
   "outputs": [],
   "source": [
    "fig = ex.plot_variables2d(('energy_tws_max'),\n",
    "                    sim=['quimb_Dsimp'],\n",
    "                    N=[20, 24, 28],\n",
    "                    p=[3],\n",
    "                    qmb_max_repeats=[10],\n",
    "                    n_processes=[1]\n",
    "                   )"
   ]
  },
  {
   "cell_type": "code",
   "execution_count": null,
   "metadata": {},
   "outputs": [],
   "source": [
    "fig = ex.plot_variables2d(('energy_tws_max'),\n",
    "                    sim=['quimb'],\n",
    "                    N=[20, 24, 28],\n",
    "                    p=[3],\n",
    "                    qmb_max_repeats=[10],\n",
    "                    n_processes=[1]\n",
    "                   )"
   ]
  },
  {
   "cell_type": "code",
   "execution_count": null,
   "metadata": {},
   "outputs": [],
   "source": [
    "_time = ex.get_variable('energy_time', sim='quimb', N=26, p=4, seed=10)\n",
    "_mem = ex.get_variable('energy_memory', sim='quimb', N=26, p=4, seed=10)\n",
    "_time, _mem"
   ]
  },
  {
   "cell_type": "code",
   "execution_count": null,
   "metadata": {},
   "outputs": [],
   "source": [
    "import autoray"
   ]
  },
  {
   "cell_type": "code",
   "execution_count": null,
   "metadata": {},
   "outputs": [],
   "source": [
    "circ = quimb.tensor.circ_qaoa(terms, p, [0.1]*p, [0.2]*p)\n",
    "def get_lightcone_circ(circ, G, where):\n",
    "    rho = circ.get_rdm_lightcone_simplified(where, 'ADCRS', 1e-12)\n",
    "    k_inds = tuple(circ.ket_site_ind(i) for i in where)\n",
    "    b_inds = tuple(circ.bra_site_ind(i) for i in where)\n",
    "    G_data = autoray.reshape(G, (2,)*2*len(where))\n",
    "    output_inds = ()\n",
    "    TG = quimb.tensor.Tensor(data=G_data, inds=output_inds + b_inds + k_inds)\n",
    "    rho_G = rho | TG\n",
    "    return rho_G\n",
    "    "
   ]
  },
  {
   "cell_type": "code",
   "execution_count": null,
   "metadata": {},
   "outputs": [],
   "source": [
    "rho = get_lightcone_circ(circ, ZZ, list(G.edges)[ix])\n",
    "rho"
   ]
  },
  {
   "cell_type": "code",
   "execution_count": null,
   "metadata": {},
   "outputs": [],
   "source": [
    "opt = cotengra.HyperOptimizer(max_repeats=10)\n",
    "info_ns_tr = rho.contract(output_inds=(), get='path-info', optimize=info_ns.path)\n",
    "np.log2(float(info_ns_tr.largest_intermediate))"
   ]
  },
  {
   "cell_type": "markdown",
   "metadata": {},
   "source": [
    "Simplify with TG"
   ]
  },
  {
   "cell_type": "code",
   "execution_count": null,
   "metadata": {},
   "outputs": [],
   "source": [
    "rho.full_simplify_(seq='D', atol=1e-12, output_inds=())"
   ]
  },
  {
   "cell_type": "code",
   "execution_count": null,
   "metadata": {},
   "outputs": [],
   "source": [
    "info = rho.contract(output_inds=(), get='path-info', optimize=_inf[ix].path)\n",
    "np.log2(float(info.largest_intermediate))"
   ]
  },
  {
   "cell_type": "code",
   "execution_count": null,
   "metadata": {},
   "outputs": [],
   "source": []
  },
  {
   "cell_type": "code",
   "execution_count": null,
   "metadata": {},
   "outputs": [],
   "source": [
    "def tn2eq(tn):\n",
    "    i_ix = tuple(t.inds for t in tn)\n",
    "    total_ix = tuple(quimb.utils.concat(i_ix))\n",
    "    all_ix = tuple(quimb.utils.oset(total_ix))\n",
    "    o_ix = tuple(quimb.tensor.tensor_core._gen_output_inds(total_ix))\n",
    "    eq = quimb.tensor.tensor_core._inds_to_eq(all_ix, i_ix, o_ix)\n",
    "    return eq"
   ]
  },
  {
   "cell_type": "code",
   "execution_count": null,
   "metadata": {},
   "outputs": [],
   "source": [
    "qtensor.tests.qaoa_quimb.simulate_one(graph(26), p=4, max_repeats=10)"
   ]
  },
  {
   "cell_type": "code",
   "execution_count": null,
   "metadata": {
    "scrolled": false
   },
   "outputs": [],
   "source": [
    "xar_tr = xar.transpose('p', 'varname', 'sim', 'N', 'seed')\n",
    "\n",
    "plot_xarray(ex, xar_tr.sel(\n",
    "    varname=['energy_flops', 'energy_mem_est', 'energy_tws', 'energy_opt_time']\n",
    "    , sim=['qtensor', 'acqdp', 'quimb']\n",
    "    , p=3\n",
    "), \n",
    "            distribution_var='seed',\n",
    "           )"
   ]
  },
  {
   "cell_type": "markdown",
   "metadata": {
    "ExecuteTime": {
     "end_time": "2020-11-13T04:40:33.680995Z",
     "start_time": "2020-11-13T04:40:33.649040Z"
    }
   },
   "source": [
    "## Plot comparisons\n"
   ]
  },
  {
   "cell_type": "code",
   "execution_count": null,
   "metadata": {
    "ExecuteTime": {
     "end_time": "2020-11-16T01:32:40.149002Z",
     "start_time": "2020-11-16T01:32:38.950823Z"
    },
    "scrolled": false
   },
   "outputs": [],
   "source": [
    "xar_tr = xar.transpose('p', 'varname', 'sim', 'N', 'seed')\n",
    "#xar_tr = xar_tr.rename({'varname':'lib'})\n",
    "fig = ex.plot_xarray(xar_tr.sel(\n",
    "    varname=['energy_flops', 'energy_mem_est', 'energy_opt_time']\n",
    "    , sim=['qtensor', 'acqdp', 'quimb']\n",
    "    , p=3\n",
    ")\n",
    "                     distr_\n",
    "                    )\n",
    "for ax in fig.axes[:]:\n",
    "    ax.set_yscale('log')"
   ]
  },
  {
   "cell_type": "code",
   "execution_count": null,
   "metadata": {
    "ExecuteTime": {
     "end_time": "2020-11-16T01:32:40.149002Z",
     "start_time": "2020-11-16T01:32:38.950823Z"
    },
    "scrolled": false
   },
   "outputs": [],
   "source": [
    "xar_tr = xar.transpose('p', 'varname', 'sim', 'N')\n",
    "#xar_tr = xar_tr.rename({'varname':'lib'})\n",
    "\n",
    "def pl(x, y, **kwargs):\n",
    "    try:\n",
    "        z = [max(i) if i else None for i in y]\n",
    "        plt.plot(x, z, **kwargs)\n",
    "    except Exception:\n",
    "        z = None\n",
    "    \n",
    "fig = ex.plot_xarray( xar_tr.sel(\n",
    "    varname=['energy_tws']\n",
    "    , sim=['qtensor', 'acqdp', 'quimb']\n",
    "    , p=4\n",
    ")\n",
    "    , plot_func=pl\n",
    ")\n",
    "\n"
   ]
  },
  {
   "cell_type": "code",
   "execution_count": null,
   "metadata": {
    "ExecuteTime": {
     "end_time": "2020-11-16T01:32:40.149002Z",
     "start_time": "2020-11-16T01:32:38.950823Z"
    }
   },
   "outputs": [],
   "source": [
    "xar_tr = xar.transpose('varname', 'p', 'sim', 'N')\n",
    "#xar_tr = xar_tr.rename({'varname':'lib'})\n",
    "fig = ex.plot_xarray(xar_tr.sel(\n",
    "    varname=['energy_time']#, 'energy_memory']\n",
    "    #, p=4\n",
    "))\n",
    "\n",
    "for ax in fig.axes:\n",
    "    ax.set_yscale('log')"
   ]
  },
  {
   "cell_type": "code",
   "execution_count": null,
   "metadata": {
    "ExecuteTime": {
     "end_time": "2020-11-16T06:03:32.997149Z",
     "start_time": "2020-11-16T06:03:32.817806Z"
    },
    "scrolled": false
   },
   "outputs": [],
   "source": [
    "    #export\n",
    "def plot_xar_data(xar_orig):\n",
    "    xar = xar_orig.transpose('p', 'varname', 'N')\n",
    "    def custom_plot(x, y, **kwargs):\n",
    "        plt.plot(x, y, '*-', **kwargs)\n",
    "        plt.yscale('log')\n",
    "        plt.xscale('log', base=2)\n",
    "    fig = ex.plot_xarray(xar, plot_func=custom_plot)\n",
    "\n",
    "    axes = fig.axes\n",
    "    axes[0].get_shared_y_axes().join(*axes)\n",
    "    axes[0].get_shared_x_axes().join(*axes)\n",
    "    ps = [x.data for x in xar.coords['p']]\n",
    "\n",
    "\n",
    "    [ax.autoscale() for ax in axes]\n",
    "    [ax.set_ylabel('Time, sec') for ax in axes]\n",
    "    [ax.set_title(x) for ax, x in zip(axes, [f\"p = {p}\" for p in ps])]\n",
    "    fig.suptitle('Time for single energy query on a single Skylake node', fontfamily='serif', style='italic')\n",
    "    fig.set_size_inches(10.5, 4.5)\n",
    "    fig.tight_layout(rect=[0, 0.03, 1, 0.98])\n"
   ]
  },
  {
   "cell_type": "code",
   "execution_count": null,
   "metadata": {},
   "outputs": [],
   "source": [
    "plot_xar_data(xar)"
   ]
  },
  {
   "cell_type": "code",
   "execution_count": null,
   "metadata": {},
   "outputs": [],
   "source": [
    "def plot_xar_data_simple(xar_orig):\n",
    "    xar = xar_orig.sel(p=3)\n",
    "    def custom_plot(x, y, **kwargs):\n",
    "        plt.plot(x, y, '*-', **kwargs)\n",
    "        plt.yscale('log')\n",
    "        plt.xscale('log' )\n",
    "        plt.xticks([10, 20, 50, 100, 200, 500])\n",
    "    fig = ex.plot_xarray(xar, plot_func=custom_plot)\n",
    "    from matplotlib.ticker import FormatStrFormatter\n",
    "\n",
    "    fig.gca().xaxis.set_major_formatter(FormatStrFormatter('%.i'))\n",
    "    fig.gca().yaxis.set_major_formatter(FormatStrFormatter('%.i'))\n",
    "\n",
    "\n",
    "    axes = fig.axes\n",
    "    axes[0].get_shared_y_axes().join(*axes)\n",
    "    axes[0].get_shared_x_axes().join(*axes)\n",
    "\n",
    "\n",
    "    fig.gca().set_ylabel('Time, sec')\n",
    "    fig.gca().set_xlabel('Number of qubits')\n",
    "    fig.suptitle('Time for a quantum circuit simulation', fontfamily='serif', style='italic')\n",
    "    plt.legend(['Our simulator', 'Caltech simulator', 'IBM simulator'])\n",
    "    fig.set_size_inches(5., 4.5)\n",
    "    fig.tight_layout(rect=[0, 0.03, 1, 0.98])"
   ]
  },
  {
   "cell_type": "code",
   "execution_count": null,
   "metadata": {
    "ExecuteTime": {
     "end_time": "2020-11-16T06:03:35.535285Z",
     "start_time": "2020-11-16T06:03:33.995751Z"
    },
    "scrolled": false
   },
   "outputs": [],
   "source": [
    "plot_xar_data_simple(xar)\n",
    "plt.savefig('../../../data/figures/speed_comparison_simple_p3.png')\n",
    "plt.savefig('../../../data/figures/speed_comparison_simple_p3.pdf')"
   ]
  },
  {
   "cell_type": "code",
   "execution_count": null,
   "metadata": {},
   "outputs": [],
   "source": []
  },
  {
   "cell_type": "markdown",
   "metadata": {
    "ExecuteTime": {
     "end_time": "2020-11-15T04:36:07.711208Z",
     "start_time": "2020-11-15T04:36:07.661674Z"
    }
   },
   "source": [
    "## CLI"
   ]
  },
  {
   "cell_type": "code",
   "execution_count": null,
   "metadata": {
    "ExecuteTime": {
     "end_time": "2020-11-15T22:43:43.244717Z",
     "start_time": "2020-11-15T22:43:43.151167Z"
    }
   },
   "outputs": [],
   "source": [
    "#export\n",
    "from qtensor_specs import cli, click"
   ]
  },
  {
   "cell_type": "code",
   "execution_count": null,
   "metadata": {
    "ExecuteTime": {
     "end_time": "2020-11-15T22:43:43.326480Z",
     "start_time": "2020-11-15T22:43:43.288109Z"
    }
   },
   "outputs": [],
   "source": [
    "#export\n",
    "@cli.command()\n",
    "@click.option('--n_len', default=4)\n",
    "@click.option('--p_len', default=2)\n",
    "@click.option('-O', '--qtn_ordering_algo', default='greedy')\n",
    "@click.option('-N', '--n_processes', default=2)\n",
    "@click.argument('filename')\n",
    "def time_comparison_xarray(filename, n_len, p_len, **kwargs):\n",
    "    Ns = 2*(.5*np.pi**(np.arange(0, 12)/2)).astype(np.int) + 10\n",
    "    Ns = Ns[:n_len]\n",
    "    ps = [2, 3, 4]\n",
    "    ps = ps[:p_len]\n",
    "    kwargs = {k:[v] for k, v in kwargs.items()}\n",
    "    xar = gen_time_data(Ns, ps, **kwargs)\n",
    "    xar.to_netcdf(filename)\n",
    "    "
   ]
  },
  {
   "cell_type": "code",
   "execution_count": null,
   "metadata": {
    "ExecuteTime": {
     "end_time": "2020-11-15T22:52:11.754055Z",
     "start_time": "2020-11-15T22:52:11.699318Z"
    }
   },
   "outputs": [],
   "source": [
    "#export\n",
    "import logging\n",
    "ql = logging.getLogger('qiskit')\n",
    "ql.setLevel(logging.ERROR)"
   ]
  },
  {
   "cell_type": "code",
   "execution_count": null,
   "metadata": {
    "ExecuteTime": {
     "end_time": "2020-11-15T22:52:35.043256Z",
     "start_time": "2020-11-15T22:52:21.439989Z"
    }
   },
   "outputs": [],
   "source": [
    "Ns = [10, 14]\n",
    "ps = [2, 3]\n",
    "xar = gen_time_data(Ns, ps)"
   ]
  },
  {
   "cell_type": "code",
   "execution_count": null,
   "metadata": {
    "ExecuteTime": {
     "end_time": "2020-11-15T22:52:38.283525Z",
     "start_time": "2020-11-15T22:52:38.083082Z"
    }
   },
   "outputs": [],
   "source": [
    "#hide\n",
    "#default_exp speed_comparison\n",
    "\n",
    "from nbdev.export  import *\n",
    "notebook2script()"
   ]
  },
  {
   "cell_type": "code",
   "execution_count": null,
   "metadata": {},
   "outputs": [],
   "source": []
  }
 ],
 "metadata": {
  "kernelspec": {
   "display_name": "Python 3",
   "language": "python",
   "name": "python3"
  },
  "language_info": {
   "codemirror_mode": {
    "name": "ipython",
    "version": 3
   },
   "file_extension": ".py",
   "mimetype": "text/x-python",
   "name": "python",
   "nbconvert_exporter": "python",
   "pygments_lexer": "ipython3",
   "version": "3.8.1+"
  },
  "toc": {
   "base_numbering": 1,
   "nav_menu": {},
   "number_sections": true,
   "sideBar": true,
   "skip_h1_title": false,
   "title_cell": "Table of Contents",
   "title_sidebar": "Contents",
   "toc_cell": true,
   "toc_position": {
    "height": "calc(100% - 180px)",
    "left": "10px",
    "top": "150px",
    "width": "286.094px"
   },
   "toc_section_display": true,
   "toc_window_display": true
  }
 },
 "nbformat": 4,
 "nbformat_minor": 4
}
