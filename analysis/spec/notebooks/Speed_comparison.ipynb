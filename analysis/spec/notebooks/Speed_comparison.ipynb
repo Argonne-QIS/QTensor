{
 "cells": [
  {
   "cell_type": "markdown",
   "metadata": {
    "toc": true
   },
   "source": [
    "<h1>Table of Contents<span class=\"tocSkip\"></span></h1>\n",
    "<div class=\"toc\"><ul class=\"toc-item\"><li><span><a href=\"#Qtensor-vs-other-simulators:-speed\" data-toc-modified-id=\"Qtensor-vs-other-simulators:-speed-1\"><span class=\"toc-item-num\">1&nbsp;&nbsp;</span>Qtensor vs other simulators: speed</a></span><ul class=\"toc-item\"><li><span><a href=\"#Generate-data\" data-toc-modified-id=\"Generate-data-1.1\"><span class=\"toc-item-num\">1.1&nbsp;&nbsp;</span>Generate data</a></span></li><li><span><a href=\"#Generate-data\" data-toc-modified-id=\"Generate-data-1.2\"><span class=\"toc-item-num\">1.2&nbsp;&nbsp;</span>Generate data</a></span></li><li><span><a href=\"#Read-data\" data-toc-modified-id=\"Read-data-1.3\"><span class=\"toc-item-num\">1.3&nbsp;&nbsp;</span>Read data</a></span></li><li><span><a href=\"#Plot-comparisons\" data-toc-modified-id=\"Plot-comparisons-1.4\"><span class=\"toc-item-num\">1.4&nbsp;&nbsp;</span>Plot comparisons</a></span></li><li><span><a href=\"#CLI\" data-toc-modified-id=\"CLI-1.5\"><span class=\"toc-item-num\">1.5&nbsp;&nbsp;</span>CLI</a></span></li></ul></li></ul></div>"
   ]
  },
  {
   "cell_type": "markdown",
   "metadata": {
    "ExecuteTime": {
     "end_time": "2020-11-13T03:20:12.528796Z",
     "start_time": "2020-11-13T03:20:12.523133Z"
    }
   },
   "source": [
    "# Qtensor vs other simulators: speed\n",
    "\n",
    "The functions from this notebook are exported and invoken on a remote server.\n",
    "\n",
    "The data that is generated is transferred back to local machine and plotted here as well"
   ]
  },
  {
   "cell_type": "markdown",
   "metadata": {
    "ExecuteTime": {
     "end_time": "2020-11-13T03:21:26.632061Z",
     "start_time": "2020-11-13T03:21:26.629310Z"
    }
   },
   "source": [
    "## Generate data"
   ]
  },
  {
   "cell_type": "code",
   "execution_count": 16,
   "metadata": {
    "ExecuteTime": {
     "end_time": "2020-11-15T22:43:26.465440Z",
     "start_time": "2020-11-15T22:43:26.337481Z"
    }
   },
   "outputs": [],
   "source": [
    "#export\n",
    "import numpy as np\n",
    "import qtensor\n",
    "import quimb\n",
    "import sys\n",
    "import pyrofiler.c as profile\n",
    "#sys.path.pop(2)\n",
    "\n",
    "from qtensor.tests.qiskit_qaoa_energy import simulate_qiskit_amps\n",
    "from qtensor.tests.qaoa_quimb import simulate_one_parallel as simulate_quimb_energy\n",
    "from qtensor.tests.acqdp_qaoa import single_qaoa_query as simulate_acqdp_energy\n",
    "import matplotlib.pyplot as plt\n",
    "import time\n",
    "\n",
    "from cartesian_explorer import Explorer, caches, parallels"
   ]
  },
  {
   "cell_type": "code",
   "execution_count": 17,
   "metadata": {
    "ExecuteTime": {
     "end_time": "2020-11-15T22:43:26.506650Z",
     "start_time": "2020-11-15T22:43:26.471389Z"
    }
   },
   "outputs": [
    {
     "name": "stdout",
     "output_type": "stream",
     "text": [
      "The autoreload extension is already loaded. To reload it, use:\n",
      "  %reload_ext autoreload\n"
     ]
    }
   ],
   "source": [
    "%load_ext autoreload\n",
    "%autoreload 2"
   ]
  },
  {
   "cell_type": "code",
   "execution_count": 18,
   "metadata": {
    "ExecuteTime": {
     "end_time": "2020-11-15T22:43:26.658578Z",
     "start_time": "2020-11-15T22:43:26.614533Z"
    }
   },
   "outputs": [
    {
     "name": "stderr",
     "output_type": "stream",
     "text": [
      "2021-02-24 19:41:11,322\tERROR worker.py:660 -- Calling ray.init() again after it has already been called.\n"
     ]
    }
   ],
   "source": [
    "#export\n",
    "cache = caches.JobLibCache('../../caex_cache/skylake_speed_comparison')\n",
    "PAR = True\n",
    "if PAR:\n",
    "    parallel = parallels.Ray(processes=50)\n",
    "    ex = Explorer(cache=cache, parallel=parallel)\n",
    "else:\n",
    "    ex = Explorer(cache=cache)"
   ]
  },
  {
   "cell_type": "code",
   "execution_count": 19,
   "metadata": {
    "ExecuteTime": {
     "end_time": "2020-11-15T22:43:27.475635Z",
     "start_time": "2020-11-15T22:43:27.362999Z"
    }
   },
   "outputs": [],
   "source": [
    "#export    \n",
    "@ex.provider\n",
    "def graph(N, d=3, graph_type='random', seed=10):\n",
    "    return qtensor.toolbox.random_graph(nodes=N, type=graph_type, degree=d, seed=seed)"
   ]
  },
  {
   "cell_type": "code",
   "execution_count": 20,
   "metadata": {},
   "outputs": [],
   "source": [
    "#export\n",
    "@ex.provider\n",
    "def simulator(sim):\n",
    "    simulators = qtensor.tools.benchmarking.simulators\n",
    "    return {\n",
    "        'qtensor': simulators.QtensorSimulator(),\n",
    "        'qtensor_merged': simulators.MergedQtensorSimulator(),\n",
    "        'quimb': simulators.QuimbSimulator(),\n",
    "        'quimb_Dsimp': simulators.QuimbSimulator(simplify_sequence='ADCRS'),\n",
    "        'acqdp': simulators.AcqdpSimulator(),\n",
    "        'qiskit': simulators.QiskitSimulator()\n",
    "    }[sim]"
   ]
  },
  {
   "cell_type": "code",
   "execution_count": 21,
   "metadata": {},
   "outputs": [],
   "source": [
    "@ex.add_function(provides=('opts', 'energy_flops', 'energy_opt_time', 'energy_mem_est', 'energy_tws')\n",
    "                 , requires=('graph', 'p', 'simulator')\n",
    "                )\n",
    "def energy_cost(graph, p,\n",
    "                simulator,\n",
    "                sim='qtensor',\n",
    "                qtn_ordering_algo='greedy',\n",
    "                qmb_max_repeats=10,\n",
    "               ):\n",
    "    kwargs = {}\n",
    "    if sim=='qtensor':\n",
    "        kwargs['ordering_algo'] = qtn_ordering_algo\n",
    "    elif sim=='quimb':\n",
    "        kwargs['max_repeats'] = qmb_max_repeats\n",
    "    try:\n",
    "        opts, ests, time = simulator.optimize_qaoa_energy(graph, p, **kwargs)\n",
    "    except Exception as e:\n",
    "        print('error', e)\n",
    "        return None, None, None, None, None\n",
    "    flops = [est.flops for est in ests]\n",
    "    mems = [est.mems for est in ests]\n",
    "    tws = [est.width for est in ests]\n",
    "    print(flops)\n",
    "    return opts, sum(flops), time, max(mems), tws\n",
    "        "
   ]
  },
  {
   "cell_type": "code",
   "execution_count": 22,
   "metadata": {},
   "outputs": [],
   "source": [
    "@ex.add_function(provides=('energy_time', 'energy_memory')\n",
    "                 , requires=('graph', 'p', 'simulator', 'opts')\n",
    "                )\n",
    "def energy_cost(graph, p, simulator, opts,\n",
    "                sim='qtensor',\n",
    "                qtn_backend='einsum',\n",
    "               ):\n",
    "    kwargs = {}\n",
    "    if sim=='qtensor':\n",
    "        kwargs['backend'] = qtn_backend\n",
    "        \n",
    "    try:\n",
    "        res, time, memory = simulator.simulate_qaoa_energy(graph, p, opts, **kwargs)\n",
    "    except Exception as e:\n",
    "        print('error', e)\n",
    "        return None, None\n",
    "    return time, memory"
   ]
  },
  {
   "cell_type": "code",
   "execution_count": 23,
   "metadata": {
    "ExecuteTime": {
     "end_time": "2020-11-15T22:43:29.351243Z",
     "start_time": "2020-11-15T22:43:28.820661Z"
    },
    "scrolled": true
   },
   "outputs": [
    {
     "name": "stdout",
     "output_type": "stream",
     "text": [
      "0.13049626350402832 2109440\n"
     ]
    }
   ],
   "source": [
    "_time = ex.get_variable('energy_time', sim='qiskit', N=10, p=2)\n",
    "_mem = ex.get_variable('energy_memory', sim='qiskit', N=10, p=2)\n",
    "print(_time, _mem)"
   ]
  },
  {
   "cell_type": "code",
   "execution_count": 24,
   "metadata": {
    "ExecuteTime": {
     "end_time": "2020-11-15T22:43:29.351243Z",
     "start_time": "2020-11-15T22:43:28.820661Z"
    },
    "scrolled": true
   },
   "outputs": [
    {
     "name": "stdout",
     "output_type": "stream",
     "text": [
      "0.2946767807006836 0\n"
     ]
    }
   ],
   "source": [
    "_time = ex.get_variable('energy_time', sim='qtensor_merged', N=14, p=2)\n",
    "_mem = ex.get_variable('energy_memory', sim='qtensor_merged', N=14, p=2)\n",
    "print(_time, _mem)"
   ]
  },
  {
   "cell_type": "code",
   "execution_count": 25,
   "metadata": {
    "ExecuteTime": {
     "end_time": "2020-11-15T22:43:29.351243Z",
     "start_time": "2020-11-15T22:43:28.820661Z"
    }
   },
   "outputs": [
    {
     "name": "stdout",
     "output_type": "stream",
     "text": [
      "0.051362037658691406 20480 [6.0, 7.0, 6.0, 5.0, 6.0, 8.0, 8.0, 7.0, 8.0, 8.0, 7.0, 8.0, 8.0, 6.0, 7.0]\n"
     ]
    }
   ],
   "source": [
    "_time, _mem = ex.get_variables(('energy_time', 'energy_memory'), sim='quimb', N=10, p=2, seed=8)\n",
    "_tw = ex.get_variable('energy_tws', sim='quimb', N=10, p=2, seed=8)\n",
    "print(_time, _mem, _tw)"
   ]
  },
  {
   "cell_type": "code",
   "execution_count": 49,
   "metadata": {
    "ExecuteTime": {
     "end_time": "2020-11-15T22:43:29.351243Z",
     "start_time": "2020-11-15T22:43:28.820661Z"
    }
   },
   "outputs": [
    {
     "name": "stdout",
     "output_type": "stream",
     "text": [
      "simp kw {'simplify_sequence': 'ADCRS'}\n"
     ]
    },
    {
     "data": {
      "application/vnd.jupyter.widget-view+json": {
       "model_id": "64620150c2484bb8b8464e4c660d26e1",
       "version_major": 2,
       "version_minor": 0
      },
      "text/plain": [
       "HBox(children=(HTML(value=''), FloatProgress(value=0.0, max=27.0), HTML(value='')))"
      ]
     },
     "metadata": {},
     "output_type": "display_data"
    },
    {
     "name": "stdout",
     "output_type": "stream",
     "text": [
      "\n",
      "[91992, 136384, 120416, 170472, 89216, 77928, 239728, 98384, 185528, 89472, 112752, 94180, 169952, 117296, 159776, 158392, 348976, 148008, 139744, 129624, 93232, 240872, 215880, 114232, 181880, 141240, 247560]\n",
      "simulating energy\n"
     ]
    },
    {
     "data": {
      "application/vnd.jupyter.widget-view+json": {
       "model_id": "42761b4f8d09418b954b57d5b40a714b",
       "version_major": 2,
       "version_minor": 0
      },
      "text/plain": [
       "HBox(children=(HTML(value=''), FloatProgress(value=1.0, bar_style='info', layout=Layout(width='20px'), max=1.0…"
      ]
     },
     "metadata": {},
     "output_type": "display_data"
    },
    {
     "name": "stdout",
     "output_type": "stream",
     "text": [
      "\n"
     ]
    },
    {
     "name": "stderr",
     "output_type": "stream",
     "text": [
      "/home/danlkv/.local/bin/lib/python3.8/site-packages/cartesian_explorer/Explorer.py:220: UserWarning: Persisting input arguments took 1.34s to run.\n",
      "If this happens often in your code, it can cause performance problems \n",
      "(results will be correct in all cases). \n",
      "The reason for this is probably some large input arguments for a wrapped\n",
      " function (e.g. large strings).\n",
      "THIS IS A JOBLIB ISSUE. If you can, kindly provide the joblib's team with an\n",
      " example so that they can fix the problem.\n",
      "  retval = f(**call_kwd)\n"
     ]
    },
    {
     "name": "stdout",
     "output_type": "stream",
     "text": [
      "0.21908903121948242 0 [12.0, 12.0, 12.0, 12.0, 12.0, 11.0, 12.0, 11.0, 13.0, 11.0, 12.0, 11.0, 12.0, 12.0, 12.0, 12.0, 13.0, 11.0, 12.0, 12.0, 11.0, 13.0, 13.0, 11.0, 11.0, 12.0, 14.0]\n"
     ]
    }
   ],
   "source": [
    "_time, _mem = ex.get_variables(('energy_time', 'energy_memory'), sim='quimb_Dsimp', N=18, p=3)\n",
    "_tw = ex.get_variable('energy_tws', sim='quimb_Dsimp', N=18, p=3)\n",
    "print(_time, _mem, _tw)"
   ]
  },
  {
   "cell_type": "markdown",
   "metadata": {},
   "source": [
    "## Generate data"
   ]
  },
  {
   "cell_type": "code",
   "execution_count": null,
   "metadata": {
    "ExecuteTime": {
     "end_time": "2020-11-15T22:43:35.309128Z",
     "start_time": "2020-11-15T22:43:35.214938Z"
    }
   },
   "outputs": [],
   "source": [
    "#export\n",
    "def gen_time_data(Ns, ps, **kwargs):\n",
    "    xar = ex.get_variables_xarray(\n",
    "        ('energy_flops', 'energy_mem_est', 'energy_opt_time', 'energy_tws',\n",
    "         'energy_time', 'energy_memory'),\n",
    "        p=ps,\n",
    "        N=Ns,\n",
    "        **kwargs,\n",
    "    )\n",
    "    return xar"
   ]
  },
  {
   "cell_type": "code",
   "execution_count": null,
   "metadata": {
    "ExecuteTime": {
     "end_time": "2020-11-15T04:35:30.360767Z",
     "start_time": "2020-11-15T04:35:11.523286Z"
    }
   },
   "outputs": [],
   "source": [
    "Ns = 2*(.5*np.pi**(np.arange(0, 12)/2)).astype(np.int) + 10\n",
    "Ns = Ns[1:9]\n",
    "\n",
    "ps = [3, 4, 5]\n",
    "seeds = [10, 11, 12, 13]"
   ]
  },
  {
   "cell_type": "code",
   "execution_count": null,
   "metadata": {
    "ExecuteTime": {
     "end_time": "2020-11-15T04:35:30.360767Z",
     "start_time": "2020-11-15T04:35:11.523286Z"
    },
    "scrolled": true
   },
   "outputs": [],
   "source": [
    "xar = gen_time_data(Ns, ps, n_processes=[1],\n",
    "                    sim=['qiskit', 'acqdp', 'quimb', 'quimb_Dsimp', 'qtensor', 'qtensor_merged'],\n",
    "                    qtn_ordering_algo=['rgreedy_0.02_10'],\n",
    "                    qmb_max_repeats=[10],\n",
    "                    qiskit_method=['matrix_product_state'],\n",
    "                    seed=seeds\n",
    "                   )\n",
    "xar"
   ]
  },
  {
   "cell_type": "markdown",
   "metadata": {},
   "source": [
    "## Read data"
   ]
  },
  {
   "cell_type": "code",
   "execution_count": 28,
   "metadata": {
    "ExecuteTime": {
     "end_time": "2020-11-16T01:27:29.361447Z",
     "start_time": "2020-11-16T01:27:29.302927Z"
    }
   },
   "outputs": [],
   "source": [
    "import xarray"
   ]
  },
  {
   "cell_type": "code",
   "execution_count": null,
   "metadata": {
    "ExecuteTime": {
     "end_time": "2020-11-16T01:27:29.361447Z",
     "start_time": "2020-11-16T01:27:29.302927Z"
    }
   },
   "outputs": [],
   "source": [
    "xar = xarray.load_dataarray('../../../second_try.nc')"
   ]
  },
  {
   "cell_type": "markdown",
   "metadata": {},
   "source": [
    "## Retreive data from cache"
   ]
  },
  {
   "cell_type": "code",
   "execution_count": 33,
   "metadata": {},
   "outputs": [
    {
     "name": "stderr",
     "output_type": "stream",
     "text": [
      "/home/danlkv/.local/bin/lib/python3.8/site-packages/numpy/core/_asarray.py:83: VisibleDeprecationWarning: Creating an ndarray from ragged nested sequences (which is a list-or-tuple of lists-or-tuples-or ndarrays with different lengths or shapes) is deprecated. If you meant to do this, you must specify 'dtype=object' when creating the ndarray\n",
      "  return array(a, dtype, copy=False, order=order)\n"
     ]
    }
   ],
   "source": [
    "data = ex.map_variables_no_call(\n",
    "    ('energy_flops', 'energy_mem_est', 'energy_opt_time', 'energy_tws',\n",
    "     'energy_time', 'energy_memory'),\n",
    "    p=ps,\n",
    "    N=Ns,\n",
    "    n_processes=[1],\n",
    "    sim=['qiskit', 'acqdp', 'quimb', 'qtensor', 'qtensor_merged', 'quimb_Dismp'],\n",
    "    qtn_ordering_algo=['rgreedy_0.02_10'],\n",
    "    qmb_max_repeats=[10],\n",
    "    qiskit_method=['matrix_product_state'],\n",
    "    seed=seeds\n",
    "\n",
    ")"
   ]
  },
  {
   "cell_type": "code",
   "execution_count": 34,
   "metadata": {},
   "outputs": [],
   "source": [
    "dims = dict(\n",
    "    varname=['energy_flops', 'energy_mem_est', 'energy_opt_time', 'energy_tws',\n",
    "     'energy_time', 'energy_memory'],\n",
    "    p=ps,\n",
    "    N=Ns,\n",
    "    n_processes=[1],\n",
    "    sim=['qiskit', 'acqdp', 'quimb', 'qtensor', 'qtensor_merged', 'quimb_Dsimp'],\n",
    "    qtn_ordering_algo=['rgreedy_0.02_100'],\n",
    "    qmb_max_repeats=[100],\n",
    "    qiskit_method=['matrix_product_state'],\n",
    "    seed=seeds\n",
    ")\n",
    "_dimcount = len(data.shape)\n",
    "_dimnames = list(dims.keys())\n",
    "dimvals = {k:dims[k] for k in _dimnames if len(dims[k])>1}\n",
    "\n",
    "xar = xarray.DataArray(data, dims=list(dimvals.keys()), coords=dimvals)"
   ]
  },
  {
   "cell_type": "code",
   "execution_count": 35,
   "metadata": {},
   "outputs": [],
   "source": [
    "def plot_xarray(ex, xar, **kwargs):\n",
    "    dims = {k:xar.coords[k].data for k in xar.dims}\n",
    "    kwargs = {**kwargs, **dims}\n",
    "    def safe_sel(*args, **kwargs):\n",
    "        try:\n",
    "            return xar.sel(*args, **kwargs).item()\n",
    "        except Exception:\n",
    "            return None\n",
    "    fig = ex.plot(safe_sel, **kwargs)\n",
    "    return fig"
   ]
  },
  {
   "cell_type": "code",
   "execution_count": 36,
   "metadata": {},
   "outputs": [],
   "source": [
    "def data_lists_mean(line_data):\n",
    "    \"\"\"[\n",
    "    [\n",
    "    [[0, 1, 2], None ], [None, None]\n",
    "    ]\n",
    "    to [\n",
    "    [1, None], [None, None]\n",
    "    ]\n",
    "    \"\"\"\n",
    "    for i, pt in enumerate(line_data):\n",
    "        line_data[i] = [np.mean(x) if x is not None else None for x in pt]\n",
    "    return line_data\n",
    "    \n",
    "def plot_with_band(x, line_data, **kwargs):\n",
    "    # for tws\n",
    "    line_data = data_lists_mean(line_data)\n",
    "    \n",
    "    line_data = line_data.astype(np.float64)\n",
    "    maxs = np.max(line_data, axis=-1)\n",
    "    mins = np.min(line_data, axis=-1)\n",
    "    std = np.nanstd(line_data, axis=-1)\n",
    "    mean = np.nanmean(line_data, axis=-1)\n",
    "    relstd = (mean-std)/mean\n",
    "    \n",
    "    plt.plot(x, mean, '.-', **kwargs)\n",
    "    fill_kwargs = dict(\n",
    "        alpha=0.05, color=kwargs.get('color')\n",
    "    )\n",
    "    plt.fill_between(x, mean + std, mean - std, **fill_kwargs)\n",
    "    "
   ]
  },
  {
   "cell_type": "code",
   "execution_count": 47,
   "metadata": {
    "scrolled": false
   },
   "outputs": [
    {
     "name": "stderr",
     "output_type": "stream",
     "text": [
      "/home/danlkv/.local/bin/lib/python3.8/site-packages/cartesian_explorer/ExplorerBasic.py:163: VisibleDeprecationWarning: Creating an ndarray from ragged nested sequences (which is a list-or-tuple of lists-or-tuples-or ndarrays with different lengths or shapes) is deprecated. If you meant to do this, you must specify 'dtype=object' when creating the ndarray\n",
      "  result = np.array(result_lin).reshape(result_shape)\n",
      "/home/danlkv/.local/bin/lib/python3.8/site-packages/numpy/lib/nanfunctions.py:1664: RuntimeWarning: Degrees of freedom <= 0 for slice.\n",
      "  var = nanvar(a, axis=axis, dtype=dtype, out=out, ddof=ddof,\n",
      "<ipython-input-36-e5260da74614>:22: RuntimeWarning: Mean of empty slice\n",
      "  mean = np.nanmean(line_data, axis=-1)\n",
      "/home/danlkv/.local/bin/lib/python3.8/site-packages/numpy/lib/nanfunctions.py:1664: RuntimeWarning: Degrees of freedom <= 0 for slice.\n",
      "  var = nanvar(a, axis=axis, dtype=dtype, out=out, ddof=ddof,\n",
      "<ipython-input-36-e5260da74614>:22: RuntimeWarning: Mean of empty slice\n",
      "  mean = np.nanmean(line_data, axis=-1)\n",
      "/home/danlkv/.local/bin/lib/python3.8/site-packages/numpy/lib/nanfunctions.py:1664: RuntimeWarning: Degrees of freedom <= 0 for slice.\n",
      "  var = nanvar(a, axis=axis, dtype=dtype, out=out, ddof=ddof,\n",
      "<ipython-input-36-e5260da74614>:22: RuntimeWarning: Mean of empty slice\n",
      "  mean = np.nanmean(line_data, axis=-1)\n",
      "/home/danlkv/.local/bin/lib/python3.8/site-packages/numpy/lib/nanfunctions.py:1664: RuntimeWarning: Degrees of freedom <= 0 for slice.\n",
      "  var = nanvar(a, axis=axis, dtype=dtype, out=out, ddof=ddof,\n",
      "<ipython-input-36-e5260da74614>:22: RuntimeWarning: Mean of empty slice\n",
      "  mean = np.nanmean(line_data, axis=-1)\n",
      "/home/danlkv/.local/bin/lib/python3.8/site-packages/numpy/lib/nanfunctions.py:1664: RuntimeWarning: Degrees of freedom <= 0 for slice.\n",
      "  var = nanvar(a, axis=axis, dtype=dtype, out=out, ddof=ddof,\n",
      "<ipython-input-36-e5260da74614>:22: RuntimeWarning: Mean of empty slice\n",
      "  mean = np.nanmean(line_data, axis=-1)\n",
      "/home/danlkv/.local/bin/lib/python3.8/site-packages/numpy/lib/nanfunctions.py:1664: RuntimeWarning: Degrees of freedom <= 0 for slice.\n",
      "  var = nanvar(a, axis=axis, dtype=dtype, out=out, ddof=ddof,\n",
      "<ipython-input-36-e5260da74614>:22: RuntimeWarning: Mean of empty slice\n",
      "  mean = np.nanmean(line_data, axis=-1)\n",
      "/home/danlkv/.local/bin/lib/python3.8/site-packages/numpy/lib/nanfunctions.py:1664: RuntimeWarning: Degrees of freedom <= 0 for slice.\n",
      "  var = nanvar(a, axis=axis, dtype=dtype, out=out, ddof=ddof,\n",
      "<ipython-input-36-e5260da74614>:22: RuntimeWarning: Mean of empty slice\n",
      "  mean = np.nanmean(line_data, axis=-1)\n",
      "/home/danlkv/.local/bin/lib/python3.8/site-packages/numpy/lib/nanfunctions.py:1664: RuntimeWarning: Degrees of freedom <= 0 for slice.\n",
      "  var = nanvar(a, axis=axis, dtype=dtype, out=out, ddof=ddof,\n",
      "<ipython-input-36-e5260da74614>:22: RuntimeWarning: Mean of empty slice\n",
      "  mean = np.nanmean(line_data, axis=-1)\n",
      "/home/danlkv/.local/bin/lib/python3.8/site-packages/numpy/lib/nanfunctions.py:1664: RuntimeWarning: Degrees of freedom <= 0 for slice.\n",
      "  var = nanvar(a, axis=axis, dtype=dtype, out=out, ddof=ddof,\n",
      "<ipython-input-36-e5260da74614>:22: RuntimeWarning: Mean of empty slice\n",
      "  mean = np.nanmean(line_data, axis=-1)\n",
      "/home/danlkv/.local/bin/lib/python3.8/site-packages/numpy/lib/nanfunctions.py:1664: RuntimeWarning: Degrees of freedom <= 0 for slice.\n",
      "  var = nanvar(a, axis=axis, dtype=dtype, out=out, ddof=ddof,\n",
      "<ipython-input-36-e5260da74614>:22: RuntimeWarning: Mean of empty slice\n",
      "  mean = np.nanmean(line_data, axis=-1)\n"
     ]
    },
    {
     "data": {
      "image/png": "[encoded data removed]",
      "text/plain": [
       "<Figure size 2400x300 with 6 Axes>"
      ]
     },
     "metadata": {
      "needs_background": "light"
     },
     "output_type": "display_data"
    }
   ],
   "source": [
    "xar_tr = xar.transpose('p', 'varname', 'sim', 'N', 'seed')\n",
    "\n",
    "p = 3\n",
    "fig = plot_xarray(ex, xar_tr.sel(\n",
    "    varname=['energy_flops','energy_time',\n",
    "             'energy_mem_est', 'energy_memory', 'energy_opt_time', 'energy_tws']\n",
    "    #varname=['energy_tws' ]\n",
    "    , sim=['qtensor', 'acqdp', 'quimb', 'quimb_Dsimp']\n",
    "    , p=p\n",
    "), \n",
    "            plot_func=plot_with_band,\n",
    "            distribution_var='seed',\n",
    "           )\n",
    "\n",
    "for ax in fig.axes[:5]:\n",
    "    ax.set_yscale('log')\n",
    "    \n",
    "plt.savefig(f'../../../data/figures/speed_comparison_p{p}.pdf')"
   ]
  },
  {
   "cell_type": "code",
   "execution_count": null,
   "metadata": {},
   "outputs": [],
   "source": [
    "xar_tr = xar.transpose('p', 'varname', 'sim', 'N', 'seed')\n",
    "\n",
    "fig = plot_xarray(ex, xar_tr.sel(\n",
    "    varname=['energy_time', 'energy_memory']\n",
    "    #varname=['energy_tws' ]\n",
    "    , sim=['qtensor', 'acqdp', 'quimb']\n",
    "    , p=5\n",
    "), \n",
    "            plot_func=plot_with_band,\n",
    "            distribution_var='seed',\n",
    "           )\n",
    "\n",
    "for ax in fig.axes[:2]:\n",
    "    ax.set_yscale('log')"
   ]
  },
  {
   "cell_type": "markdown",
   "metadata": {},
   "source": [
    "## Debugging of quimb"
   ]
  },
  {
   "cell_type": "code",
   "execution_count": 48,
   "metadata": {},
   "outputs": [
    {
     "data": {
      "text/html": [
       "<div><svg style=\"position: absolute; width: 0; height: 0; overflow: hidden\">\n",
       "<defs>\n",
       "<symbol id=\"icon-database\" viewBox=\"0 0 32 32\">\n",
       "<path d=\"M16 0c-8.837 0-16 2.239-16 5v4c0 2.761 7.163 5 16 5s16-2.239 16-5v-4c0-2.761-7.163-5-16-5z\"></path>\n",
       "<path d=\"M16 17c-8.837 0-16-2.239-16-5v6c0 2.761 7.163 5 16 5s16-2.239 16-5v-6c0 2.761-7.163 5-16 5z\"></path>\n",
       "<path d=\"M16 26c-8.837 0-16-2.239-16-5v6c0 2.761 7.163 5 16 5s16-2.239 16-5v-6c0 2.761-7.163 5-16 5z\"></path>\n",
       "</symbol>\n",
       "<symbol id=\"icon-file-text2\" viewBox=\"0 0 32 32\">\n",
       "<path d=\"M28.681 7.159c-0.694-0.947-1.662-2.053-2.724-3.116s-2.169-2.030-3.116-2.724c-1.612-1.182-2.393-1.319-2.841-1.319h-15.5c-1.378 0-2.5 1.121-2.5 2.5v27c0 1.378 1.122 2.5 2.5 2.5h23c1.378 0 2.5-1.122 2.5-2.5v-19.5c0-0.448-0.137-1.23-1.319-2.841zM24.543 5.457c0.959 0.959 1.712 1.825 2.268 2.543h-4.811v-4.811c0.718 0.556 1.584 1.309 2.543 2.268zM28 29.5c0 0.271-0.229 0.5-0.5 0.5h-23c-0.271 0-0.5-0.229-0.5-0.5v-27c0-0.271 0.229-0.5 0.5-0.5 0 0 15.499-0 15.5 0v7c0 0.552 0.448 1 1 1h7v19.5z\"></path>\n",
       "<path d=\"M23 26h-14c-0.552 0-1-0.448-1-1s0.448-1 1-1h14c0.552 0 1 0.448 1 1s-0.448 1-1 1z\"></path>\n",
       "<path d=\"M23 22h-14c-0.552 0-1-0.448-1-1s0.448-1 1-1h14c0.552 0 1 0.448 1 1s-0.448 1-1 1z\"></path>\n",
       "<path d=\"M23 18h-14c-0.552 0-1-0.448-1-1s0.448-1 1-1h14c0.552 0 1 0.448 1 1s-0.448 1-1 1z\"></path>\n",
       "</symbol>\n",
       "</defs>\n",
       "</svg>\n",
       "<style>/* CSS stylesheet for displaying xarray objects in jupyterlab.\n",
       " *\n",
       " */\n",
       "\n",
       ":root {\n",
       "  --xr-font-color0: var(--jp-content-font-color0, rgba(0, 0, 0, 1));\n",
       "  --xr-font-color2: var(--jp-content-font-color2, rgba(0, 0, 0, 0.54));\n",
       "  --xr-font-color3: var(--jp-content-font-color3, rgba(0, 0, 0, 0.38));\n",
       "  --xr-border-color: var(--jp-border-color2, #e0e0e0);\n",
       "  --xr-disabled-color: var(--jp-layout-color3, #bdbdbd);\n",
       "  --xr-background-color: var(--jp-layout-color0, white);\n",
       "  --xr-background-color-row-even: var(--jp-layout-color1, white);\n",
       "  --xr-background-color-row-odd: var(--jp-layout-color2, #eeeeee);\n",
       "}\n",
       "\n",
       "html[theme=dark],\n",
       "body.vscode-dark {\n",
       "  --xr-font-color0: rgba(255, 255, 255, 1);\n",
       "  --xr-font-color2: rgba(255, 255, 255, 0.54);\n",
       "  --xr-font-color3: rgba(255, 255, 255, 0.38);\n",
       "  --xr-border-color: #1F1F1F;\n",
       "  --xr-disabled-color: #515151;\n",
       "  --xr-background-color: #111111;\n",
       "  --xr-background-color-row-even: #111111;\n",
       "  --xr-background-color-row-odd: #313131;\n",
       "}\n",
       "\n",
       ".xr-wrap {\n",
       "  display: block;\n",
       "  min-width: 300px;\n",
       "  max-width: 700px;\n",
       "}\n",
       "\n",
       ".xr-text-repr-fallback {\n",
       "  /* fallback to plain text repr when CSS is not injected (untrusted notebook) */\n",
       "  display: none;\n",
       "}\n",
       "\n",
       ".xr-header {\n",
       "  padding-top: 6px;\n",
       "  padding-bottom: 6px;\n",
       "  margin-bottom: 4px;\n",
       "  border-bottom: solid 1px var(--xr-border-color);\n",
       "}\n",
       "\n",
       ".xr-header > div,\n",
       ".xr-header > ul {\n",
       "  display: inline;\n",
       "  margin-top: 0;\n",
       "  margin-bottom: 0;\n",
       "}\n",
       "\n",
       ".xr-obj-type,\n",
       ".xr-array-name {\n",
       "  margin-left: 2px;\n",
       "  margin-right: 10px;\n",
       "}\n",
       "\n",
       ".xr-obj-type {\n",
       "  color: var(--xr-font-color2);\n",
       "}\n",
       "\n",
       ".xr-sections {\n",
       "  padding-left: 0 !important;\n",
       "  display: grid;\n",
       "  grid-template-columns: 150px auto auto 1fr 20px 20px;\n",
       "}\n",
       "\n",
       ".xr-section-item {\n",
       "  display: contents;\n",
       "}\n",
       "\n",
       ".xr-section-item input {\n",
       "  display: none;\n",
       "}\n",
       "\n",
       ".xr-section-item input + label {\n",
       "  color: var(--xr-disabled-color);\n",
       "}\n",
       "\n",
       ".xr-section-item input:enabled + label {\n",
       "  cursor: pointer;\n",
       "  color: var(--xr-font-color2);\n",
       "}\n",
       "\n",
       ".xr-section-item input:enabled + label:hover {\n",
       "  color: var(--xr-font-color0);\n",
       "}\n",
       "\n",
       ".xr-section-summary {\n",
       "  grid-column: 1;\n",
       "  color: var(--xr-font-color2);\n",
       "  font-weight: 500;\n",
       "}\n",
       "\n",
       ".xr-section-summary > span {\n",
       "  display: inline-block;\n",
       "  padding-left: 0.5em;\n",
       "}\n",
       "\n",
       ".xr-section-summary-in:disabled + label {\n",
       "  color: var(--xr-font-color2);\n",
       "}\n",
       "\n",
       ".xr-section-summary-in + label:before {\n",
       "  display: inline-block;\n",
       "  content: '►';\n",
       "  font-size: 11px;\n",
       "  width: 15px;\n",
       "  text-align: center;\n",
       "}\n",
       "\n",
       ".xr-section-summary-in:disabled + label:before {\n",
       "  color: var(--xr-disabled-color);\n",
       "}\n",
       "\n",
       ".xr-section-summary-in:checked + label:before {\n",
       "  content: '▼';\n",
       "}\n",
       "\n",
       ".xr-section-summary-in:checked + label > span {\n",
       "  display: none;\n",
       "}\n",
       "\n",
       ".xr-section-summary,\n",
       ".xr-section-inline-details {\n",
       "  padding-top: 4px;\n",
       "  padding-bottom: 4px;\n",
       "}\n",
       "\n",
       ".xr-section-inline-details {\n",
       "  grid-column: 2 / -1;\n",
       "}\n",
       "\n",
       ".xr-section-details {\n",
       "  display: none;\n",
       "  grid-column: 1 / -1;\n",
       "  margin-bottom: 5px;\n",
       "}\n",
       "\n",
       ".xr-section-summary-in:checked ~ .xr-section-details {\n",
       "  display: contents;\n",
       "}\n",
       "\n",
       ".xr-array-wrap {\n",
       "  grid-column: 1 / -1;\n",
       "  display: grid;\n",
       "  grid-template-columns: 20px auto;\n",
       "}\n",
       "\n",
       ".xr-array-wrap > label {\n",
       "  grid-column: 1;\n",
       "  vertical-align: top;\n",
       "}\n",
       "\n",
       ".xr-preview {\n",
       "  color: var(--xr-font-color3);\n",
       "}\n",
       "\n",
       ".xr-array-preview,\n",
       ".xr-array-data {\n",
       "  padding: 0 5px !important;\n",
       "  grid-column: 2;\n",
       "}\n",
       "\n",
       ".xr-array-data,\n",
       ".xr-array-in:checked ~ .xr-array-preview {\n",
       "  display: none;\n",
       "}\n",
       "\n",
       ".xr-array-in:checked ~ .xr-array-data,\n",
       ".xr-array-preview {\n",
       "  display: inline-block;\n",
       "}\n",
       "\n",
       ".xr-dim-list {\n",
       "  display: inline-block !important;\n",
       "  list-style: none;\n",
       "  padding: 0 !important;\n",
       "  margin: 0;\n",
       "}\n",
       "\n",
       ".xr-dim-list li {\n",
       "  display: inline-block;\n",
       "  padding: 0;\n",
       "  margin: 0;\n",
       "}\n",
       "\n",
       ".xr-dim-list:before {\n",
       "  content: '(';\n",
       "}\n",
       "\n",
       ".xr-dim-list:after {\n",
       "  content: ')';\n",
       "}\n",
       "\n",
       ".xr-dim-list li:not(:last-child):after {\n",
       "  content: ',';\n",
       "  padding-right: 5px;\n",
       "}\n",
       "\n",
       ".xr-has-index {\n",
       "  font-weight: bold;\n",
       "}\n",
       "\n",
       ".xr-var-list,\n",
       ".xr-var-item {\n",
       "  display: contents;\n",
       "}\n",
       "\n",
       ".xr-var-item > div,\n",
       ".xr-var-item label,\n",
       ".xr-var-item > .xr-var-name span {\n",
       "  background-color: var(--xr-background-color-row-even);\n",
       "  margin-bottom: 0;\n",
       "}\n",
       "\n",
       ".xr-var-item > .xr-var-name:hover span {\n",
       "  padding-right: 5px;\n",
       "}\n",
       "\n",
       ".xr-var-list > li:nth-child(odd) > div,\n",
       ".xr-var-list > li:nth-child(odd) > label,\n",
       ".xr-var-list > li:nth-child(odd) > .xr-var-name span {\n",
       "  background-color: var(--xr-background-color-row-odd);\n",
       "}\n",
       "\n",
       ".xr-var-name {\n",
       "  grid-column: 1;\n",
       "}\n",
       "\n",
       ".xr-var-dims {\n",
       "  grid-column: 2;\n",
       "}\n",
       "\n",
       ".xr-var-dtype {\n",
       "  grid-column: 3;\n",
       "  text-align: right;\n",
       "  color: var(--xr-font-color2);\n",
       "}\n",
       "\n",
       ".xr-var-preview {\n",
       "  grid-column: 4;\n",
       "}\n",
       "\n",
       ".xr-var-name,\n",
       ".xr-var-dims,\n",
       ".xr-var-dtype,\n",
       ".xr-preview,\n",
       ".xr-attrs dt {\n",
       "  white-space: nowrap;\n",
       "  overflow: hidden;\n",
       "  text-overflow: ellipsis;\n",
       "  padding-right: 10px;\n",
       "}\n",
       "\n",
       ".xr-var-name:hover,\n",
       ".xr-var-dims:hover,\n",
       ".xr-var-dtype:hover,\n",
       ".xr-attrs dt:hover {\n",
       "  overflow: visible;\n",
       "  width: auto;\n",
       "  z-index: 1;\n",
       "}\n",
       "\n",
       ".xr-var-attrs,\n",
       ".xr-var-data {\n",
       "  display: none;\n",
       "  background-color: var(--xr-background-color) !important;\n",
       "  padding-bottom: 5px !important;\n",
       "}\n",
       "\n",
       ".xr-var-attrs-in:checked ~ .xr-var-attrs,\n",
       ".xr-var-data-in:checked ~ .xr-var-data {\n",
       "  display: block;\n",
       "}\n",
       "\n",
       ".xr-var-data > table {\n",
       "  float: right;\n",
       "}\n",
       "\n",
       ".xr-var-name span,\n",
       ".xr-var-data,\n",
       ".xr-attrs {\n",
       "  padding-left: 25px !important;\n",
       "}\n",
       "\n",
       ".xr-attrs,\n",
       ".xr-var-attrs,\n",
       ".xr-var-data {\n",
       "  grid-column: 1 / -1;\n",
       "}\n",
       "\n",
       "dl.xr-attrs {\n",
       "  padding: 0;\n",
       "  margin: 0;\n",
       "  display: grid;\n",
       "  grid-template-columns: 125px auto;\n",
       "}\n",
       "\n",
       ".xr-attrs dt, dd {\n",
       "  padding: 0;\n",
       "  margin: 0;\n",
       "  float: left;\n",
       "  padding-right: 10px;\n",
       "  width: auto;\n",
       "}\n",
       "\n",
       ".xr-attrs dt {\n",
       "  font-weight: normal;\n",
       "  grid-column: 1;\n",
       "}\n",
       "\n",
       ".xr-attrs dt:hover span {\n",
       "  display: inline-block;\n",
       "  background: var(--xr-background-color);\n",
       "  padding-right: 10px;\n",
       "}\n",
       "\n",
       ".xr-attrs dd {\n",
       "  grid-column: 2;\n",
       "  white-space: pre-wrap;\n",
       "  word-break: break-all;\n",
       "}\n",
       "\n",
       ".xr-icon-database,\n",
       ".xr-icon-file-text2 {\n",
       "  display: inline-block;\n",
       "  vertical-align: middle;\n",
       "  width: 1em;\n",
       "  height: 1.5em !important;\n",
       "  stroke-width: 0;\n",
       "  stroke: currentColor;\n",
       "  fill: currentColor;\n",
       "}\n",
       "</style><pre class='xr-text-repr-fallback'>&lt;xarray.DataArray (varname: 6, seed: 4)&gt;\n",
       "array([[None, None, None, None],\n",
       "       [None, None, None, None],\n",
       "       [None, None, None, None],\n",
       "       [None, None, None, None],\n",
       "       [None, None, None, None],\n",
       "       [None, None, None, None]], dtype=object)\n",
       "Coordinates:\n",
       "  * varname  (varname) &lt;U15 &#x27;energy_flops&#x27; &#x27;energy_mem_est&#x27; ... &#x27;energy_memory&#x27;\n",
       "    p        int64 3\n",
       "    N        int64 18\n",
       "    sim      &lt;U14 &#x27;quimb_Dsimp&#x27;\n",
       "  * seed     (seed) int64 10 11 12 13</pre><div class='xr-wrap' hidden><div class='xr-header'><div class='xr-obj-type'>xarray.DataArray</div><div class='xr-array-name'></div><ul class='xr-dim-list'><li><span class='xr-has-index'>varname</span>: 6</li><li><span class='xr-has-index'>seed</span>: 4</li></ul></div><ul class='xr-sections'><li class='xr-section-item'><div class='xr-array-wrap'><input id='section-f73b3c8c-2de9-427d-8590-c3fd1b6f654d' class='xr-array-in' type='checkbox' checked><label for='section-f73b3c8c-2de9-427d-8590-c3fd1b6f654d' title='Show/hide data repr'><svg class='icon xr-icon-database'><use xlink:href='#icon-database'></use></svg></label><div class='xr-array-preview xr-preview'><span>None None None None None None None ... None None None None None None</span></div><div class='xr-array-data'><pre>array([[None, None, None, None],\n",
       "       [None, None, None, None],\n",
       "       [None, None, None, None],\n",
       "       [None, None, None, None],\n",
       "       [None, None, None, None],\n",
       "       [None, None, None, None]], dtype=object)</pre></div></div></li><li class='xr-section-item'><input id='section-9944249d-7a23-42e0-9e3e-50e3a0ac411f' class='xr-section-summary-in' type='checkbox'  checked><label for='section-9944249d-7a23-42e0-9e3e-50e3a0ac411f' class='xr-section-summary' >Coordinates: <span>(5)</span></label><div class='xr-section-inline-details'></div><div class='xr-section-details'><ul class='xr-var-list'><li class='xr-var-item'><div class='xr-var-name'><span class='xr-has-index'>varname</span></div><div class='xr-var-dims'>(varname)</div><div class='xr-var-dtype'>&lt;U15</div><div class='xr-var-preview xr-preview'>&#x27;energy_flops&#x27; ... &#x27;energy_memory&#x27;</div><input id='attrs-71dcc09f-ab70-43c2-9159-608663c7ca48' class='xr-var-attrs-in' type='checkbox' disabled><label for='attrs-71dcc09f-ab70-43c2-9159-608663c7ca48' title='Show/Hide attributes'><svg class='icon xr-icon-file-text2'><use xlink:href='#icon-file-text2'></use></svg></label><input id='data-5d55fb34-9929-4fe2-ae94-982aa963aa48' class='xr-var-data-in' type='checkbox'><label for='data-5d55fb34-9929-4fe2-ae94-982aa963aa48' title='Show/Hide data repr'><svg class='icon xr-icon-database'><use xlink:href='#icon-database'></use></svg></label><div class='xr-var-attrs'><dl class='xr-attrs'></dl></div><div class='xr-var-data'><pre>array([&#x27;energy_flops&#x27;, &#x27;energy_mem_est&#x27;, &#x27;energy_opt_time&#x27;, &#x27;energy_tws&#x27;,\n",
       "       &#x27;energy_time&#x27;, &#x27;energy_memory&#x27;], dtype=&#x27;&lt;U15&#x27;)</pre></div></li><li class='xr-var-item'><div class='xr-var-name'><span>p</span></div><div class='xr-var-dims'>()</div><div class='xr-var-dtype'>int64</div><div class='xr-var-preview xr-preview'>3</div><input id='attrs-deb7154b-b429-45b2-a6d6-4526c6c9a42f' class='xr-var-attrs-in' type='checkbox' disabled><label for='attrs-deb7154b-b429-45b2-a6d6-4526c6c9a42f' title='Show/Hide attributes'><svg class='icon xr-icon-file-text2'><use xlink:href='#icon-file-text2'></use></svg></label><input id='data-f5ffd2b2-054d-4e37-b463-b0fcfa3c6384' class='xr-var-data-in' type='checkbox'><label for='data-f5ffd2b2-054d-4e37-b463-b0fcfa3c6384' title='Show/Hide data repr'><svg class='icon xr-icon-database'><use xlink:href='#icon-database'></use></svg></label><div class='xr-var-attrs'><dl class='xr-attrs'></dl></div><div class='xr-var-data'><pre>array(3)</pre></div></li><li class='xr-var-item'><div class='xr-var-name'><span>N</span></div><div class='xr-var-dims'>()</div><div class='xr-var-dtype'>int64</div><div class='xr-var-preview xr-preview'>18</div><input id='attrs-5f031ca4-2835-4716-9a80-829b97e8c800' class='xr-var-attrs-in' type='checkbox' disabled><label for='attrs-5f031ca4-2835-4716-9a80-829b97e8c800' title='Show/Hide attributes'><svg class='icon xr-icon-file-text2'><use xlink:href='#icon-file-text2'></use></svg></label><input id='data-56d25c3b-d3de-4ef1-94a1-4d8860c42d03' class='xr-var-data-in' type='checkbox'><label for='data-56d25c3b-d3de-4ef1-94a1-4d8860c42d03' title='Show/Hide data repr'><svg class='icon xr-icon-database'><use xlink:href='#icon-database'></use></svg></label><div class='xr-var-attrs'><dl class='xr-attrs'></dl></div><div class='xr-var-data'><pre>array(18)</pre></div></li><li class='xr-var-item'><div class='xr-var-name'><span>sim</span></div><div class='xr-var-dims'>()</div><div class='xr-var-dtype'>&lt;U14</div><div class='xr-var-preview xr-preview'>&#x27;quimb_Dsimp&#x27;</div><input id='attrs-0b5380a3-fcf3-495d-97a5-c4ff052c2374' class='xr-var-attrs-in' type='checkbox' disabled><label for='attrs-0b5380a3-fcf3-495d-97a5-c4ff052c2374' title='Show/Hide attributes'><svg class='icon xr-icon-file-text2'><use xlink:href='#icon-file-text2'></use></svg></label><input id='data-ccc96cda-f503-44eb-8a8a-81ac823909c1' class='xr-var-data-in' type='checkbox'><label for='data-ccc96cda-f503-44eb-8a8a-81ac823909c1' title='Show/Hide data repr'><svg class='icon xr-icon-database'><use xlink:href='#icon-database'></use></svg></label><div class='xr-var-attrs'><dl class='xr-attrs'></dl></div><div class='xr-var-data'><pre>array(&#x27;quimb_Dsimp&#x27;, dtype=&#x27;&lt;U14&#x27;)</pre></div></li><li class='xr-var-item'><div class='xr-var-name'><span class='xr-has-index'>seed</span></div><div class='xr-var-dims'>(seed)</div><div class='xr-var-dtype'>int64</div><div class='xr-var-preview xr-preview'>10 11 12 13</div><input id='attrs-2c6251f8-dabe-457e-9c54-3312923da54c' class='xr-var-attrs-in' type='checkbox' disabled><label for='attrs-2c6251f8-dabe-457e-9c54-3312923da54c' title='Show/Hide attributes'><svg class='icon xr-icon-file-text2'><use xlink:href='#icon-file-text2'></use></svg></label><input id='data-bf4ef615-2ab5-48e8-881f-9f10dfcf830b' class='xr-var-data-in' type='checkbox'><label for='data-bf4ef615-2ab5-48e8-881f-9f10dfcf830b' title='Show/Hide data repr'><svg class='icon xr-icon-database'><use xlink:href='#icon-database'></use></svg></label><div class='xr-var-attrs'><dl class='xr-attrs'></dl></div><div class='xr-var-data'><pre>array([10, 11, 12, 13])</pre></div></li></ul></div></li><li class='xr-section-item'><input id='section-93409365-562a-4fd7-a2df-83cde5e3c900' class='xr-section-summary-in' type='checkbox' disabled ><label for='section-93409365-562a-4fd7-a2df-83cde5e3c900' class='xr-section-summary'  title='Expand/collapse section'>Attributes: <span>(0)</span></label><div class='xr-section-inline-details'></div><div class='xr-section-details'><dl class='xr-attrs'></dl></div></li></ul></div></div>"
      ],
      "text/plain": [
       "<xarray.DataArray (varname: 6, seed: 4)>\n",
       "array([[None, None, None, None],\n",
       "       [None, None, None, None],\n",
       "       [None, None, None, None],\n",
       "       [None, None, None, None],\n",
       "       [None, None, None, None],\n",
       "       [None, None, None, None]], dtype=object)\n",
       "Coordinates:\n",
       "  * varname  (varname) <U15 'energy_flops' 'energy_mem_est' ... 'energy_memory'\n",
       "    p        int64 3\n",
       "    N        int64 18\n",
       "    sim      <U14 'quimb_Dsimp'\n",
       "  * seed     (seed) int64 10 11 12 13"
      ]
     },
     "execution_count": 48,
     "metadata": {},
     "output_type": "execute_result"
    }
   ],
   "source": [
    "xar_tr.sel(sim='quimb_Dsimp', N=18, p=3)"
   ]
  },
  {
   "cell_type": "code",
   "execution_count": null,
   "metadata": {},
   "outputs": [],
   "source": [
    "_time = ex.get_variable('energy_time', sim='quimb', N=26, p=4, seed=10)\n",
    "_mem = ex.get_variable('energy_memory', sim='quimb', N=26, p=4, seed=10)\n",
    "_time, _mem"
   ]
  },
  {
   "cell_type": "code",
   "execution_count": null,
   "metadata": {},
   "outputs": [],
   "source": [
    "import autoray"
   ]
  },
  {
   "cell_type": "code",
   "execution_count": null,
   "metadata": {},
   "outputs": [],
   "source": [
    "circ = quimb.tensor.circ_qaoa(terms, p, [0.1]*p, [0.2]*p)\n",
    "def get_lightcone_circ(circ, G, where):\n",
    "    rho = circ.get_rdm_lightcone_simplified(where, 'ADCRS', 1e-12)\n",
    "    k_inds = tuple(circ.ket_site_ind(i) for i in where)\n",
    "    b_inds = tuple(circ.bra_site_ind(i) for i in where)\n",
    "    G_data = autoray.reshape(G, (2,)*2*len(where))\n",
    "    output_inds = ()\n",
    "    TG = quimb.tensor.Tensor(data=G_data, inds=output_inds + b_inds + k_inds)\n",
    "    rho_G = rho | TG\n",
    "    return rho_G\n",
    "    "
   ]
  },
  {
   "cell_type": "code",
   "execution_count": null,
   "metadata": {},
   "outputs": [],
   "source": [
    "rho = get_lightcone_circ(circ, ZZ, list(G.edges)[ix])\n",
    "rho"
   ]
  },
  {
   "cell_type": "code",
   "execution_count": null,
   "metadata": {},
   "outputs": [],
   "source": [
    "opt = cotengra.HyperOptimizer(max_repeats=10)\n",
    "info_ns_tr = rho.contract(output_inds=(), get='path-info', optimize=info_ns.path)\n",
    "np.log2(float(info_ns_tr.largest_intermediate))"
   ]
  },
  {
   "cell_type": "markdown",
   "metadata": {},
   "source": [
    "Simplify with TG"
   ]
  },
  {
   "cell_type": "code",
   "execution_count": null,
   "metadata": {},
   "outputs": [],
   "source": [
    "rho.full_simplify_(seq='D', atol=1e-12, output_inds=())"
   ]
  },
  {
   "cell_type": "code",
   "execution_count": null,
   "metadata": {},
   "outputs": [],
   "source": [
    "info = rho.contract(output_inds=(), get='path-info', optimize=_inf[ix].path)\n",
    "np.log2(float(info.largest_intermediate))"
   ]
  },
  {
   "cell_type": "code",
   "execution_count": null,
   "metadata": {},
   "outputs": [],
   "source": []
  },
  {
   "cell_type": "code",
   "execution_count": null,
   "metadata": {},
   "outputs": [],
   "source": [
    "def tn2eq(tn):\n",
    "    i_ix = tuple(t.inds for t in tn)\n",
    "    total_ix = tuple(quimb.utils.concat(i_ix))\n",
    "    all_ix = tuple(quimb.utils.oset(total_ix))\n",
    "    o_ix = tuple(quimb.tensor.tensor_core._gen_output_inds(total_ix))\n",
    "    eq = quimb.tensor.tensor_core._inds_to_eq(all_ix, i_ix, o_ix)\n",
    "    return eq"
   ]
  },
  {
   "cell_type": "code",
   "execution_count": null,
   "metadata": {},
   "outputs": [],
   "source": [
    "qtensor.tests.qaoa_quimb.simulate_one(graph(26), p=4, max_repeats=10)"
   ]
  },
  {
   "cell_type": "code",
   "execution_count": null,
   "metadata": {
    "scrolled": false
   },
   "outputs": [],
   "source": [
    "xar_tr = xar.transpose('p', 'varname', 'sim', 'N', 'seed')\n",
    "\n",
    "plot_xarray(ex, xar_tr.sel(\n",
    "    varname=['energy_flops', 'energy_mem_est', 'energy_tws', 'energy_opt_time']\n",
    "    , sim=['qtensor', 'acqdp', 'quimb']\n",
    "    , p=3\n",
    "), \n",
    "            distribution_var='seed',\n",
    "           )"
   ]
  },
  {
   "cell_type": "markdown",
   "metadata": {
    "ExecuteTime": {
     "end_time": "2020-11-13T04:40:33.680995Z",
     "start_time": "2020-11-13T04:40:33.649040Z"
    }
   },
   "source": [
    "## Plot comparisons\n"
   ]
  },
  {
   "cell_type": "code",
   "execution_count": null,
   "metadata": {
    "ExecuteTime": {
     "end_time": "2020-11-16T01:32:40.149002Z",
     "start_time": "2020-11-16T01:32:38.950823Z"
    },
    "scrolled": false
   },
   "outputs": [],
   "source": [
    "xar_tr = xar.transpose('p', 'varname', 'sim', 'N', 'seed')\n",
    "#xar_tr = xar_tr.rename({'varname':'lib'})\n",
    "fig = ex.plot_xarray(xar_tr.sel(\n",
    "    varname=['energy_flops', 'energy_mem_est', 'energy_opt_time']\n",
    "    , sim=['qtensor', 'acqdp', 'quimb']\n",
    "    , p=3\n",
    ")\n",
    "                     distr_\n",
    "                    )\n",
    "for ax in fig.axes[:]:\n",
    "    ax.set_yscale('log')"
   ]
  },
  {
   "cell_type": "code",
   "execution_count": null,
   "metadata": {
    "ExecuteTime": {
     "end_time": "2020-11-16T01:32:40.149002Z",
     "start_time": "2020-11-16T01:32:38.950823Z"
    },
    "scrolled": false
   },
   "outputs": [],
   "source": [
    "xar_tr = xar.transpose('p', 'varname', 'sim', 'N')\n",
    "#xar_tr = xar_tr.rename({'varname':'lib'})\n",
    "\n",
    "def pl(x, y, **kwargs):\n",
    "    try:\n",
    "        z = [max(i) if i else None for i in y]\n",
    "        plt.plot(x, z, **kwargs)\n",
    "    except Exception:\n",
    "        z = None\n",
    "    \n",
    "fig = ex.plot_xarray( xar_tr.sel(\n",
    "    varname=['energy_tws']\n",
    "    , sim=['qtensor', 'acqdp', 'quimb']\n",
    "    , p=4\n",
    ")\n",
    "    , plot_func=pl\n",
    ")\n",
    "\n"
   ]
  },
  {
   "cell_type": "code",
   "execution_count": null,
   "metadata": {
    "ExecuteTime": {
     "end_time": "2020-11-16T01:32:40.149002Z",
     "start_time": "2020-11-16T01:32:38.950823Z"
    }
   },
   "outputs": [],
   "source": [
    "xar_tr = xar.transpose('varname', 'p', 'sim', 'N')\n",
    "#xar_tr = xar_tr.rename({'varname':'lib'})\n",
    "fig = ex.plot_xarray(xar_tr.sel(\n",
    "    varname=['energy_time']#, 'energy_memory']\n",
    "    #, p=4\n",
    "))\n",
    "\n",
    "for ax in fig.axes:\n",
    "    ax.set_yscale('log')"
   ]
  },
  {
   "cell_type": "code",
   "execution_count": null,
   "metadata": {
    "ExecuteTime": {
     "end_time": "2020-11-16T06:03:32.997149Z",
     "start_time": "2020-11-16T06:03:32.817806Z"
    },
    "scrolled": false
   },
   "outputs": [],
   "source": [
    "    #export\n",
    "def plot_xar_data(xar_orig):\n",
    "    xar = xar_orig.transpose('p', 'varname', 'N')\n",
    "    def custom_plot(x, y, **kwargs):\n",
    "        plt.plot(x, y, '*-', **kwargs)\n",
    "        plt.yscale('log')\n",
    "        plt.xscale('log', base=2)\n",
    "    fig = ex.plot_xarray(xar, plot_func=custom_plot)\n",
    "\n",
    "    axes = fig.axes\n",
    "    axes[0].get_shared_y_axes().join(*axes)\n",
    "    axes[0].get_shared_x_axes().join(*axes)\n",
    "    ps = [x.data for x in xar.coords['p']]\n",
    "\n",
    "\n",
    "    [ax.autoscale() for ax in axes]\n",
    "    [ax.set_ylabel('Time, sec') for ax in axes]\n",
    "    [ax.set_title(x) for ax, x in zip(axes, [f\"p = {p}\" for p in ps])]\n",
    "    fig.suptitle('Time for single energy query on a single Skylake node', fontfamily='serif', style='italic')\n",
    "    fig.set_size_inches(10.5, 4.5)\n",
    "    fig.tight_layout(rect=[0, 0.03, 1, 0.98])\n"
   ]
  },
  {
   "cell_type": "code",
   "execution_count": null,
   "metadata": {},
   "outputs": [],
   "source": [
    "plot_xar_data(xar)"
   ]
  },
  {
   "cell_type": "code",
   "execution_count": null,
   "metadata": {},
   "outputs": [],
   "source": [
    "def plot_xar_data_simple(xar_orig):\n",
    "    xar = xar_orig.sel(p=3)\n",
    "    def custom_plot(x, y, **kwargs):\n",
    "        plt.plot(x, y, '*-', **kwargs)\n",
    "        plt.yscale('log')\n",
    "        plt.xscale('log' )\n",
    "        plt.xticks([10, 20, 50, 100, 200, 500])\n",
    "    fig = ex.plot_xarray(xar, plot_func=custom_plot)\n",
    "    from matplotlib.ticker import FormatStrFormatter\n",
    "\n",
    "    fig.gca().xaxis.set_major_formatter(FormatStrFormatter('%.i'))\n",
    "    fig.gca().yaxis.set_major_formatter(FormatStrFormatter('%.i'))\n",
    "\n",
    "\n",
    "    axes = fig.axes\n",
    "    axes[0].get_shared_y_axes().join(*axes)\n",
    "    axes[0].get_shared_x_axes().join(*axes)\n",
    "\n",
    "\n",
    "    fig.gca().set_ylabel('Time, sec')\n",
    "    fig.gca().set_xlabel('Number of qubits')\n",
    "    fig.suptitle('Time for a quantum circuit simulation', fontfamily='serif', style='italic')\n",
    "    plt.legend(['Our simulator', 'Caltech simulator', 'IBM simulator'])\n",
    "    fig.set_size_inches(5., 4.5)\n",
    "    fig.tight_layout(rect=[0, 0.03, 1, 0.98])"
   ]
  },
  {
   "cell_type": "code",
   "execution_count": null,
   "metadata": {
    "ExecuteTime": {
     "end_time": "2020-11-16T06:03:35.535285Z",
     "start_time": "2020-11-16T06:03:33.995751Z"
    },
    "scrolled": false
   },
   "outputs": [],
   "source": [
    "plot_xar_data_simple(xar)\n",
    "plt.savefig('../../../data/figures/speed_comparison_simple_p3.png')\n",
    "plt.savefig('../../../data/figures/speed_comparison_simple_p3.pdf')"
   ]
  },
  {
   "cell_type": "code",
   "execution_count": null,
   "metadata": {},
   "outputs": [],
   "source": []
  },
  {
   "cell_type": "markdown",
   "metadata": {
    "ExecuteTime": {
     "end_time": "2020-11-15T04:36:07.711208Z",
     "start_time": "2020-11-15T04:36:07.661674Z"
    }
   },
   "source": [
    "## CLI"
   ]
  },
  {
   "cell_type": "code",
   "execution_count": null,
   "metadata": {
    "ExecuteTime": {
     "end_time": "2020-11-15T22:43:43.244717Z",
     "start_time": "2020-11-15T22:43:43.151167Z"
    }
   },
   "outputs": [],
   "source": [
    "#export\n",
    "from qtensor_specs import cli, click"
   ]
  },
  {
   "cell_type": "code",
   "execution_count": null,
   "metadata": {
    "ExecuteTime": {
     "end_time": "2020-11-15T22:43:43.326480Z",
     "start_time": "2020-11-15T22:43:43.288109Z"
    }
   },
   "outputs": [],
   "source": [
    "#export\n",
    "@cli.command()\n",
    "@click.option('--n_len', default=4)\n",
    "@click.option('--p_len', default=2)\n",
    "@click.option('-O', '--qtn_ordering_algo', default='greedy')\n",
    "@click.option('-N', '--n_processes', default=2)\n",
    "@click.argument('filename')\n",
    "def time_comparison_xarray(filename, n_len, p_len, **kwargs):\n",
    "    Ns = 2*(.5*np.pi**(np.arange(0, 12)/2)).astype(np.int) + 10\n",
    "    Ns = Ns[:n_len]\n",
    "    ps = [2, 3, 4]\n",
    "    ps = ps[:p_len]\n",
    "    kwargs = {k:[v] for k, v in kwargs.items()}\n",
    "    xar = gen_time_data(Ns, ps, **kwargs)\n",
    "    xar.to_netcdf(filename)\n",
    "    "
   ]
  },
  {
   "cell_type": "code",
   "execution_count": null,
   "metadata": {
    "ExecuteTime": {
     "end_time": "2020-11-15T22:52:11.754055Z",
     "start_time": "2020-11-15T22:52:11.699318Z"
    }
   },
   "outputs": [],
   "source": [
    "#export\n",
    "import logging\n",
    "ql = logging.getLogger('qiskit')\n",
    "ql.setLevel(logging.ERROR)"
   ]
  },
  {
   "cell_type": "code",
   "execution_count": null,
   "metadata": {
    "ExecuteTime": {
     "end_time": "2020-11-15T22:52:35.043256Z",
     "start_time": "2020-11-15T22:52:21.439989Z"
    }
   },
   "outputs": [],
   "source": [
    "Ns = [10, 14]\n",
    "ps = [2, 3]\n",
    "xar = gen_time_data(Ns, ps)"
   ]
  },
  {
   "cell_type": "code",
   "execution_count": null,
   "metadata": {
    "ExecuteTime": {
     "end_time": "2020-11-15T22:52:38.283525Z",
     "start_time": "2020-11-15T22:52:38.083082Z"
    }
   },
   "outputs": [],
   "source": [
    "#hide\n",
    "#default_exp speed_comparison\n",
    "\n",
    "from nbdev.export  import *\n",
    "notebook2script()"
   ]
  },
  {
   "cell_type": "code",
   "execution_count": null,
   "metadata": {},
   "outputs": [],
   "source": []
  }
 ],
 "metadata": {
  "kernelspec": {
   "display_name": "Python 3",
   "language": "python",
   "name": "python3"
  },
  "language_info": {
   "codemirror_mode": {
    "name": "ipython",
    "version": 3
   },
   "file_extension": ".py",
   "mimetype": "text/x-python",
   "name": "python",
   "nbconvert_exporter": "python",
   "pygments_lexer": "ipython3",
   "version": "3.8.1+"
  },
  "toc": {
   "base_numbering": 1,
   "nav_menu": {},
   "number_sections": true,
   "sideBar": true,
   "skip_h1_title": false,
   "title_cell": "Table of Contents",
   "title_sidebar": "Contents",
   "toc_cell": true,
   "toc_position": {
    "height": "calc(100% - 180px)",
    "left": "10px",
    "top": "150px",
    "width": "286.094px"
   },
   "toc_section_display": true,
   "toc_window_display": true
  }
 },
 "nbformat": 4,
 "nbformat_minor": 4
}
