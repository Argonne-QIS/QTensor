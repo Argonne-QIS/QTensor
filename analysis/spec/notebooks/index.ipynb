{
 "cells": [
  {
   "cell_type": "markdown",
   "metadata": {
    "toc": true
   },
   "source": [
    "<h1>Table of Contents<span class=\"tocSkip\"></span></h1>\n",
    "<div class=\"toc\"><ul class=\"toc-item\"><li><span><a href=\"#Qtensor-specs\" data-toc-modified-id=\"Qtensor-specs-1\"><span class=\"toc-item-num\">1&nbsp;&nbsp;</span>Qtensor specs</a></span></li></ul></div>"
   ]
  },
  {
   "cell_type": "markdown",
   "metadata": {
    "ExecuteTime": {
     "end_time": "2020-11-15T04:40:34.508186Z",
     "start_time": "2020-11-15T04:40:34.498581Z"
    }
   },
   "source": [
    "## Qtensor specs\n",
    "\n",
    "This package provides havdy functions for plotting various performance parameters\n",
    "and a CLI interface to run benchmarks"
   ]
  },
  {
   "cell_type": "code",
   "execution_count": 19,
   "metadata": {
    "ExecuteTime": {
     "end_time": "2020-11-15T04:53:30.776045Z",
     "start_time": "2020-11-15T04:53:30.771633Z"
    }
   },
   "outputs": [],
   "source": [
    "#export\n",
    "import click\n",
    "\n",
    "@click.group()\n",
    "def cli():\n",
    "    pass\n",
    "\n",
    "from qtensor_specs import speed_comparison\n",
    "from qtensor_specs import qaoa_bench\n",
    "from qtensor_specs import time_vs_flop\n"
   ]
  },
  {
   "cell_type": "code",
   "execution_count": 4,
   "metadata": {
    "ExecuteTime": {
     "end_time": "2020-11-15T08:34:52.910957Z",
     "start_time": "2020-11-15T08:34:52.740729Z"
    }
   },
   "outputs": [
    {
     "name": "stdout",
     "output_type": "stream",
     "text": [
      "Converted QAOA_bench.ipynb.\n",
      "Converted Speed_comparison.ipynb.\n",
      "Converted Time_vs_FLOP.ipynb.\n",
      "Converted index.ipynb.\n"
     ]
    }
   ],
   "source": [
    "#hide\n",
    "#default_exp __init__\n",
    "\n",
    "from nbdev.export import *\n",
    "notebook2script()"
   ]
  },
  {
   "cell_type": "code",
   "execution_count": null,
   "metadata": {},
   "outputs": [],
   "source": []
  }
 ],
 "metadata": {
  "kernelspec": {
   "display_name": "Python 3",
   "language": "python",
   "name": "python3"
  },
  "language_info": {
   "codemirror_mode": {
    "name": "ipython",
    "version": 3
   },
   "file_extension": ".py",
   "mimetype": "text/x-python",
   "name": "python",
   "nbconvert_exporter": "python",
   "pygments_lexer": "ipython3",
   "version": "3.8.6"
  },
  "toc": {
   "base_numbering": 1,
   "nav_menu": {},
   "number_sections": true,
   "sideBar": true,
   "skip_h1_title": false,
   "title_cell": "Table of Contents",
   "title_sidebar": "Contents",
   "toc_cell": true,
   "toc_position": {},
   "toc_section_display": true,
   "toc_window_display": true
  }
 },
 "nbformat": 4,
 "nbformat_minor": 4
}
