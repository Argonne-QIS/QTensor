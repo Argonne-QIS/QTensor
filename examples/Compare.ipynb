{
 "cells": [
  {
   "cell_type": "markdown",
   "metadata": {
    "toc": true
   },
   "source": [
    "<h1>Table of Contents<span class=\"tocSkip\"></span></h1>\n",
    "<div class=\"toc\"><ul class=\"toc-item\"></ul></div>"
   ]
  },
  {
   "cell_type": "code",
   "execution_count": 3,
   "metadata": {
    "ExecuteTime": {
     "end_time": "2020-06-24T05:29:19.897141Z",
     "start_time": "2020-06-24T05:29:19.602825Z"
    }
   },
   "outputs": [],
   "source": [
    "\n",
    "import sys\n",
    "from pathlib import Path\n",
    "sys.path.insert(1, str(Path.home()) + '/.exatn')\n",
    "\n",
    "import numpy as np\n",
    "import qtree\n",
    "import exatn\n",
    "import tensornetwork as tensnet"
   ]
  },
  {
   "cell_type": "code",
   "execution_count": 12,
   "metadata": {
    "ExecuteTime": {
     "end_time": "2020-06-24T05:30:48.190298Z",
     "start_time": "2020-06-24T05:30:48.182808Z"
    }
   },
   "outputs": [
    {
     "data": {
      "text/plain": [
       "MyGate(0)"
      ]
     },
     "execution_count": 12,
     "metadata": {},
     "output_type": "execute_result"
    }
   ],
   "source": [
    "from qtree.operators import Gate\n",
    "\n",
    "class MyGate(Gate):\n",
    "    name = 'MyGate'\n",
    "    _changes_qubits=(0,)\n",
    "    def gen_tensor(self):\n",
    "        tensor = 1/np.sqrt(2)*np.array([\n",
    "            [1,1j]\n",
    "            ,[1,-1]\n",
    "        ])\n",
    "        return tensor\n",
    "    \n",
    "myGate = MyGate(0)\n",
    "myGate"
   ]
  },
  {
   "cell_type": "code",
   "execution_count": 13,
   "metadata": {
    "ExecuteTime": {
     "end_time": "2020-06-24T05:31:12.863995Z",
     "start_time": "2020-06-24T05:31:12.853239Z"
    },
    "scrolled": false
   },
   "outputs": [
    {
     "name": "stdout",
     "output_type": "stream",
     "text": [
      "[[ 0.70710678-0.j          0.70710678-0.j        ]\n",
      " [ 0.        -0.70710678j -0.70710678-0.j        ]]\n",
      "[[ 0.70710678-0.j          0.70710678-0.j        ]\n",
      " [ 0.        -0.70710678j -0.70710678-0.j        ]]\n"
     ]
    }
   ],
   "source": [
    "print(myGate.dagger_me().gen_tensor())\n",
    "\n",
    "\n",
    "cls = MyGate.dagger()\n",
    "print(cls(0).gen_tensor())\n"
   ]
  },
  {
   "cell_type": "code",
   "execution_count": 14,
   "metadata": {
    "ExecuteTime": {
     "end_time": "2020-06-24T05:31:24.551357Z",
     "start_time": "2020-06-24T05:31:24.540489Z"
    }
   },
   "outputs": [
    {
     "name": "stdout",
     "output_type": "stream",
     "text": [
      "[[ 0.70710678+0.j          0.        +0.70710678j]\n",
      " [ 0.70710678+0.j         -0.70710678+0.j        ]]\n",
      "[[ 0.70710678+0.j          0.        +0.70710678j]\n",
      " [ 0.70710678+0.j         -0.70710678+0.j        ]]\n"
     ]
    }
   ],
   "source": [
    "print(myGate.dagger_me().gen_tensor())\n",
    "\n",
    "\n",
    "cls = MyGate.dagger()\n",
    "print(cls(0).gen_tensor())\n"
   ]
  },
  {
   "cell_type": "code",
   "execution_count": null,
   "metadata": {},
   "outputs": [],
   "source": []
  }
 ],
 "metadata": {
  "kernelspec": {
   "display_name": "Python 3",
   "language": "python",
   "name": "python3"
  },
  "language_info": {
   "codemirror_mode": {
    "name": "ipython",
    "version": 3
   },
   "file_extension": ".py",
   "mimetype": "text/x-python",
   "name": "python",
   "nbconvert_exporter": "python",
   "pygments_lexer": "ipython3",
   "version": "3.7.6"
  },
  "toc": {
   "base_numbering": 1,
   "nav_menu": {},
   "number_sections": true,
   "sideBar": true,
   "skip_h1_title": false,
   "title_cell": "Table of Contents",
   "title_sidebar": "Contents",
   "toc_cell": true,
   "toc_position": {},
   "toc_section_display": true,
   "toc_window_display": true
  }
 },
 "nbformat": 4,
 "nbformat_minor": 4
}
