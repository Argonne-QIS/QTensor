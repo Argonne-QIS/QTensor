{
 "cells": [
  {
   "cell_type": "markdown",
   "metadata": {
    "toc": true
   },
   "source": [
    "<h1>Table of Contents<span class=\"tocSkip\"></span></h1>\n",
    "<div class=\"toc\"><ul class=\"toc-item\"><li><span><a href=\"#Sum-of-all-amplitudes-for-all-inputs\" data-toc-modified-id=\"Sum-of-all-amplitudes-for-all-inputs-1\"><span class=\"toc-item-num\">1&nbsp;&nbsp;</span>Sum of all amplitudes for all inputs</a></span></li><li><span><a href=\"#Sum-of-amplitudes-for-single-input\" data-toc-modified-id=\"Sum-of-amplitudes-for-single-input-2\"><span class=\"toc-item-num\">2&nbsp;&nbsp;</span>Sum of amplitudes for single input</a></span></li><li><span><a href=\"#Single-amplitude-for-single-input\" data-toc-modified-id=\"Single-amplitude-for-single-input-3\"><span class=\"toc-item-num\">3&nbsp;&nbsp;</span>Single amplitude for single input</a></span></li><li><span><a href=\"#Simulate-all-output-states-for-given-input\" data-toc-modified-id=\"Simulate-all-output-states-for-given-input-4\"><span class=\"toc-item-num\">4&nbsp;&nbsp;</span>Simulate all output states for given input</a></span><ul class=\"toc-item\"><li><span><a href=\"#First-error.-Bucket-order\" data-toc-modified-id=\"First-error.-Bucket-order-4.1\"><span class=\"toc-item-num\">4.1&nbsp;&nbsp;</span>First error. Bucket order</a></span></li><li><span><a href=\"#Second-error.-Variable-relabel\" data-toc-modified-id=\"Second-error.-Variable-relabel-4.2\"><span class=\"toc-item-num\">4.2&nbsp;&nbsp;</span>Second error. Variable relabel</a></span></li><li><span><a href=\"#Correct-usage\" data-toc-modified-id=\"Correct-usage-4.3\"><span class=\"toc-item-num\">4.3&nbsp;&nbsp;</span>Correct usage</a></span></li></ul></li></ul></div>"
   ]
  },
  {
   "cell_type": "code",
   "execution_count": 92,
   "metadata": {
    "ExecuteTime": {
     "end_time": "2020-06-24T03:21:44.147209Z",
     "start_time": "2020-06-24T03:21:44.140006Z"
    }
   },
   "outputs": [],
   "source": [
    "import numpy as np\n",
    "\n",
    "import qtree\n",
    "from qtree.operators import Gate"
   ]
  },
  {
   "cell_type": "code",
   "execution_count": 93,
   "metadata": {
    "ExecuteTime": {
     "end_time": "2020-06-24T03:21:44.318102Z",
     "start_time": "2020-06-24T03:21:44.293428Z"
    }
   },
   "outputs": [
    {
     "name": "stdout",
     "output_type": "stream",
     "text": [
      "Help on class Gate in module qtree.operators:\n",
      "\n",
      "class Gate(builtins.object)\n",
      " |  Gate(*qubits)\n",
      " |  \n",
      " |  Base class for quantum gates.\n",
      " |  \n",
      " |  Attributes\n",
      " |  ----------\n",
      " |  name: str\n",
      " |          The name of the gate\n",
      " |  \n",
      " |  parameters: dict\n",
      " |           Parameters used by the gate (may be empty)\n",
      " |  \n",
      " |  qubits: tuple\n",
      " |          Qubits the gate acts on\n",
      " |  \n",
      " |  changed_qubits : tuple\n",
      " |          Tuple of ints which states what qubit's bases are changed\n",
      " |          (along which qubits the gate is not diagonal).\n",
      " |  \n",
      " |  cirq_op: Cirq.GridQubit\n",
      " |          Cirq 2D gate. Used for unit tests. Optional\n",
      " |  \n",
      " |  Methods\n",
      " |  -------\n",
      " |  gen_tensor(): numpy.array\n",
      " |          The gate tensor. For each qubit a gate\n",
      " |          either introduces a new variable (non-diagonal gate, like X)\n",
      " |          or does not (diagonal gate, like T). Multiqubit gates\n",
      " |          can be diagonal on some of the variables, and not diagonal on\n",
      " |          others (like ccX). The order of dimensions IS ALWAYS\n",
      " |          (new_a, a, b_new, b, c, d_new, d, ...)\n",
      " |  \n",
      " |  is_parametric(): bool\n",
      " |          Returns False for gates without parameters\n",
      " |  \n",
      " |  Methods defined here:\n",
      " |  \n",
      " |  __init__(self, *qubits)\n",
      " |      Initialize self.  See help(type(self)) for accurate signature.\n",
      " |  \n",
      " |  __repr__(self)\n",
      " |      Return repr(self).\n",
      " |  \n",
      " |  __str__(self)\n",
      " |      Return str(self).\n",
      " |  \n",
      " |  gen_tensor(self)\n",
      " |  \n",
      " |  is_parametric(self)\n",
      " |  \n",
      " |  to_cirq_1d_circ_op(self)\n",
      " |  \n",
      " |  ----------------------------------------------------------------------\n",
      " |  Readonly properties defined here:\n",
      " |  \n",
      " |  changed_qubits\n",
      " |  \n",
      " |  name\n",
      " |  \n",
      " |  parameters\n",
      " |  \n",
      " |  qubits\n",
      " |  \n",
      " |  ----------------------------------------------------------------------\n",
      " |  Data descriptors defined here:\n",
      " |  \n",
      " |  __dict__\n",
      " |      dictionary for instance variables (if defined)\n",
      " |  \n",
      " |  __weakref__\n",
      " |      list of weak references to the object (if defined)\n",
      "\n"
     ]
    }
   ],
   "source": [
    "help(Gate)"
   ]
  },
  {
   "cell_type": "code",
   "execution_count": 94,
   "metadata": {
    "ExecuteTime": {
     "end_time": "2020-06-24T03:21:44.610560Z",
     "start_time": "2020-06-24T03:21:44.592599Z"
    },
    "lines_to_next_cell": 0
   },
   "outputs": [
    {
     "data": {
      "text/plain": [
       "MyGate(0)"
      ]
     },
     "execution_count": 94,
     "metadata": {},
     "output_type": "execute_result"
    }
   ],
   "source": [
    "class MyGate(Gate):\n",
    "    name = 'MyGate'\n",
    "    _changes_qubits=(0,)\n",
    "    def gen_tensor(self):\n",
    "        tensor = 1/np.sqrt(2)*np.array([\n",
    "            [1,1]\n",
    "            ,[1,-1]\n",
    "        ])\n",
    "        return tensor\n",
    "    \n",
    "myGate = MyGate(0)\n",
    "myGate"
   ]
  },
  {
   "cell_type": "code",
   "execution_count": null,
   "metadata": {
    "lines_to_next_cell": 2
   },
   "outputs": [],
   "source": []
  },
  {
   "cell_type": "code",
   "execution_count": 95,
   "metadata": {
    "ExecuteTime": {
     "end_time": "2020-06-24T03:21:45.507149Z",
     "start_time": "2020-06-24T03:21:45.493111Z"
    }
   },
   "outputs": [
    {
     "name": "stdout",
     "output_type": "stream",
     "text": [
      "[[M(o_0,v_1)], [MyGate(v_1,v_2)], [M(v_2,i_0)], []]\n",
      "{('M', -6923940778079747740): array([[1.+0.j, 0.+0.j],\n",
      "       [0.+0.j, 1.+0.j]], dtype=complex64), ('MyGate', -7879287038868799089): array([[ 0.70710678,  0.70710678],\n",
      "       [ 0.70710678, -0.70710678]])}\n",
      "[o_0]\n",
      "[i_0]\n"
     ]
    }
   ],
   "source": [
    "from qtree import optimizer\n",
    "\n",
    "tensor_expr, data_dict, bra, ket = optimizer.circ2buckets(1, [[myGate]])\n",
    "print(tensor_expr)\n",
    "print(data_dict)\n",
    "print(bra)\n",
    "print(ket)"
   ]
  },
  {
   "cell_type": "code",
   "execution_count": 96,
   "metadata": {
    "ExecuteTime": {
     "end_time": "2020-06-24T03:21:45.956314Z",
     "start_time": "2020-06-24T03:21:45.938744Z"
    }
   },
   "outputs": [],
   "source": [
    "from qtree import np_framework as npfr"
   ]
  },
  {
   "cell_type": "markdown",
   "metadata": {},
   "source": [
    "## Sum of all amplitudes for all inputs\n",
    "\n",
    "This is just a full contraction of the tensor network"
   ]
  },
  {
   "cell_type": "code",
   "execution_count": 97,
   "metadata": {
    "ExecuteTime": {
     "end_time": "2020-06-24T03:21:46.436223Z",
     "start_time": "2020-06-24T03:21:46.419671Z"
    }
   },
   "outputs": [
    {
     "data": {
      "text/plain": [
       "[[M(v_0,v_1)], [MyGate(v_1,v_2)], [M(v_2,v_3)], []]"
      ]
     },
     "execution_count": 97,
     "metadata": {},
     "output_type": "execute_result"
    }
   ],
   "source": [
    "numpy_buckets = npfr.get_sliced_np_buckets(tensor_expr\n",
    "                                           ,data_dict\n",
    "                                           ,{}\n",
    "                                          )\n",
    "numpy_buckets"
   ]
  },
  {
   "cell_type": "code",
   "execution_count": 98,
   "metadata": {
    "ExecuteTime": {
     "end_time": "2020-06-24T03:21:46.979094Z",
     "start_time": "2020-06-24T03:21:46.963492Z"
    }
   },
   "outputs": [
    {
     "data": {
      "text/plain": [
       "E3()"
      ]
     },
     "execution_count": 98,
     "metadata": {},
     "output_type": "execute_result"
    }
   ],
   "source": [
    "result = optimizer.bucket_elimination(numpy_buckets, npfr.process_bucket_np)\n",
    "result"
   ]
  },
  {
   "cell_type": "code",
   "execution_count": 99,
   "metadata": {
    "ExecuteTime": {
     "end_time": "2020-06-24T03:21:47.536127Z",
     "start_time": "2020-06-24T03:21:47.524123Z"
    }
   },
   "outputs": [
    {
     "data": {
      "text/plain": [
       "(1.414213562373095+0j)"
      ]
     },
     "execution_count": 99,
     "metadata": {},
     "output_type": "execute_result"
    }
   ],
   "source": [
    "result.data"
   ]
  },
  {
   "cell_type": "markdown",
   "metadata": {},
   "source": [
    "## Sum of amplitudes for single input\n",
    "\n",
    "This is a contraction of a network that was sliced over input indices"
   ]
  },
  {
   "cell_type": "code",
   "execution_count": 100,
   "metadata": {
    "ExecuteTime": {
     "end_time": "2020-06-24T03:21:48.003633Z",
     "start_time": "2020-06-24T03:21:47.989953Z"
    }
   },
   "outputs": [
    {
     "data": {
      "text/plain": [
       "{i_0: slice(0, 1, None)}"
      ]
     },
     "execution_count": 100,
     "metadata": {},
     "output_type": "execute_result"
    }
   ],
   "source": [
    "initial_state = 0\n",
    "slice_dict = qtree.utils.slice_from_bits(initial_state, ket)\n",
    "slice_dict"
   ]
  },
  {
   "cell_type": "code",
   "execution_count": 101,
   "metadata": {
    "ExecuteTime": {
     "end_time": "2020-06-24T03:21:48.413659Z",
     "start_time": "2020-06-24T03:21:48.389059Z"
    }
   },
   "outputs": [
    {
     "name": "stdout",
     "output_type": "stream",
     "text": [
      "[[M(v_0,v_1)], [MyGate(v_1,v_2)], [M(v_2,v_3)], []]\n",
      "Output tensor: [[1.+0.j 0.+0.j]\n",
      " [0.+0.j 1.+0.j]]\n",
      "Input tensor: [[1.+0.j]\n",
      " [0.+0.j]]\n"
     ]
    },
    {
     "data": {
      "text/plain": [
       "(1.414213562373095+0j)"
      ]
     },
     "execution_count": 101,
     "metadata": {},
     "output_type": "execute_result"
    }
   ],
   "source": [
    "numpy_buckets = npfr.get_sliced_np_buckets(\n",
    "    tensor_expr, data_dict, slice_dict\n",
    ")\n",
    "print(numpy_buckets)\n",
    "print(\"Output tensor:\",numpy_buckets[0][0].data)\n",
    "print(\"Input tensor:\", numpy_buckets[-2][0].data)\n",
    "result = optimizer.bucket_elimination(numpy_buckets, npfr.process_bucket_np)\n",
    "result.data"
   ]
  },
  {
   "cell_type": "code",
   "execution_count": null,
   "metadata": {},
   "outputs": [],
   "source": []
  },
  {
   "cell_type": "markdown",
   "metadata": {},
   "source": [
    "## Single amplitude for single input"
   ]
  },
  {
   "cell_type": "code",
   "execution_count": 102,
   "metadata": {
    "ExecuteTime": {
     "end_time": "2020-06-24T03:21:49.194719Z",
     "start_time": "2020-06-24T03:21:49.190159Z"
    }
   },
   "outputs": [
    {
     "data": {
      "text/plain": [
       "{i_0: slice(0, 1, None), o_0: slice(0, 1, None)}"
      ]
     },
     "execution_count": 102,
     "metadata": {},
     "output_type": "execute_result"
    }
   ],
   "source": [
    "initial_state = 0\n",
    "output_state = 0\n",
    "slice_dict = qtree.utils.slice_from_bits(initial_state, ket)\n",
    "slice_dict.update( qtree.utils.slice_from_bits(output_state, bra) )\n",
    "slice_dict"
   ]
  },
  {
   "cell_type": "code",
   "execution_count": 103,
   "metadata": {
    "ExecuteTime": {
     "end_time": "2020-06-24T03:21:49.589625Z",
     "start_time": "2020-06-24T03:21:49.586012Z"
    }
   },
   "outputs": [],
   "source": [
    "def simulate_buckets(tensor_expr\n",
    "                     , data_dict, slice_dict):\n",
    "    numpy_buckets = npfr.get_sliced_np_buckets(\n",
    "        tensor_expr, data_dict, slice_dict\n",
    "    )\n",
    "    print(numpy_buckets)\n",
    "    print(\"Output tensor:\",numpy_buckets[0][0].data)\n",
    "    print(\"Input tensor:\", numpy_buckets[-2][0].data)\n",
    "    result = optimizer.bucket_elimination(numpy_buckets, npfr.process_bucket_np)\n",
    "    return result.data"
   ]
  },
  {
   "cell_type": "code",
   "execution_count": 104,
   "metadata": {
    "ExecuteTime": {
     "end_time": "2020-06-24T03:21:50.103145Z",
     "start_time": "2020-06-24T03:21:50.071268Z"
    }
   },
   "outputs": [
    {
     "name": "stdout",
     "output_type": "stream",
     "text": [
      "[[M(v_0,v_1)], [MyGate(v_1,v_2)], [M(v_2,v_3)], []]\n",
      "Output tensor: [[1.+0.j 0.+0.j]]\n",
      "Input tensor: [[1.+0.j]\n",
      " [0.+0.j]]\n"
     ]
    },
    {
     "data": {
      "text/plain": [
       "(0.7071067811865475+0j)"
      ]
     },
     "execution_count": 104,
     "metadata": {},
     "output_type": "execute_result"
    }
   ],
   "source": [
    "output = simulate_buckets(tensor_expr, data_dict, slice_dict)\n",
    "output"
   ]
  },
  {
   "cell_type": "code",
   "execution_count": null,
   "metadata": {},
   "outputs": [],
   "source": []
  },
  {
   "cell_type": "markdown",
   "metadata": {},
   "source": [
    "## Simulate all output states for given input\n",
    "\n",
    "This is a partial contraction,\n",
    "where we leave out the latest, output index"
   ]
  },
  {
   "cell_type": "code",
   "execution_count": 105,
   "metadata": {
    "ExecuteTime": {
     "end_time": "2020-06-24T03:21:50.759123Z",
     "start_time": "2020-06-24T03:21:50.756097Z"
    }
   },
   "outputs": [],
   "source": [
    "initial_state = 0\n",
    "slice_dict = qtree.utils.slice_from_bits(initial_state, ket)\n",
    "#slice_dict.update({var: slice(None) for var in bra})"
   ]
  },
  {
   "cell_type": "markdown",
   "metadata": {},
   "source": [
    "### First error. Bucket order"
   ]
  },
  {
   "cell_type": "code",
   "execution_count": 106,
   "metadata": {
    "ExecuteTime": {
     "end_time": "2020-06-24T03:21:51.135442Z",
     "start_time": "2020-06-24T03:21:51.103111Z"
    }
   },
   "outputs": [
    {
     "name": "stdout",
     "output_type": "stream",
     "text": [
      "[[M(v_0,v_1)], [MyGate(v_1,v_2)], [M(v_2,v_3)], []]\n",
      "Output tensor: [[1.+0.j 0.+0.j]\n",
      " [0.+0.j 1.+0.j]]\n",
      "Input tensor: [[1.+0.j]\n",
      " [0.+0.j]]\n",
      "Input tensor vars: (v_2, v_3)\n"
     ]
    },
    {
     "data": {
      "text/plain": [
       "array([1.41421356+0.j])"
      ]
     },
     "execution_count": 106,
     "metadata": {},
     "output_type": "execute_result"
    }
   ],
   "source": [
    "numpy_buckets = npfr.get_sliced_np_buckets(\n",
    "    tensor_expr, data_dict, slice_dict\n",
    ")\n",
    "\n",
    "print(numpy_buckets)\n",
    "print(\"Output tensor:\",numpy_buckets[0][0].data)\n",
    "print(\"Input tensor:\", numpy_buckets[-2][0].data)\n",
    "print(\"Input tensor vars:\", numpy_buckets[-2][0].indices)\n",
    "result = optimizer.bucket_elimination(numpy_buckets\n",
    "                                      , npfr.process_bucket_np\n",
    "                                      , n_var_nosum=1\n",
    "                                     )\n",
    "result.data"
   ]
  },
  {
   "cell_type": "markdown",
   "metadata": {
    "ExecuteTime": {
     "end_time": "2020-06-24T02:27:05.917142Z",
     "start_time": "2020-06-24T02:27:05.914491Z"
    }
   },
   "source": [
    "Wrong result! Because the ordering is inverse. We first contracted our input variable, which was already sliced to the first state"
   ]
  },
  {
   "cell_type": "markdown",
   "metadata": {},
   "source": [
    "### Second error. Variable relabel"
   ]
  },
  {
   "cell_type": "code",
   "execution_count": 107,
   "metadata": {
    "ExecuteTime": {
     "end_time": "2020-06-24T03:21:53.050227Z",
     "start_time": "2020-06-24T03:21:53.028766Z"
    }
   },
   "outputs": [
    {
     "ename": "ValueError",
     "evalue": "Index mismatch in __mul__: () times (v_0, v_1, v_3)",
     "output_type": "error",
     "traceback": [
      "\u001b[0;31m---------------------------------------------------------------------------\u001b[0m",
      "\u001b[0;31mValueError\u001b[0m                                Traceback (most recent call last)",
      "\u001b[0;32m<ipython-input-107-c04df4ee7a77>\u001b[0m in \u001b[0;36m<module>\u001b[0;34m\u001b[0m\n\u001b[1;32m      1\u001b[0m \u001b[0mreversed_buckets\u001b[0m \u001b[0;34m=\u001b[0m \u001b[0mlist\u001b[0m\u001b[0;34m(\u001b[0m\u001b[0mreversed\u001b[0m\u001b[0;34m(\u001b[0m\u001b[0mnumpy_buckets\u001b[0m\u001b[0;34m)\u001b[0m\u001b[0;34m)\u001b[0m\u001b[0;34m\u001b[0m\u001b[0;34m\u001b[0m\u001b[0m\n\u001b[1;32m      2\u001b[0m \u001b[0;34m\u001b[0m\u001b[0m\n\u001b[0;32m----> 3\u001b[0;31m result = optimizer.bucket_elimination(reversed_buckets\n\u001b[0m\u001b[1;32m      4\u001b[0m                                       \u001b[0;34m,\u001b[0m \u001b[0mnpfr\u001b[0m\u001b[0;34m.\u001b[0m\u001b[0mprocess_bucket_np\u001b[0m\u001b[0;34m\u001b[0m\u001b[0;34m\u001b[0m\u001b[0m\n\u001b[1;32m      5\u001b[0m                                       \u001b[0;34m,\u001b[0m \u001b[0mn_var_nosum\u001b[0m\u001b[0;34m=\u001b[0m\u001b[0;36m1\u001b[0m\u001b[0;34m\u001b[0m\u001b[0;34m\u001b[0m\u001b[0m\n",
      "\u001b[0;32m~/anl/qsim/Qensor/qtree/qtree/optimizer.py\u001b[0m in \u001b[0;36mbucket_elimination\u001b[0;34m(buckets, process_bucket_fn, n_var_nosum)\u001b[0m\n\u001b[1;32m    351\u001b[0m         \u001b[0mtensor\u001b[0m \u001b[0;34m=\u001b[0m \u001b[0mprocess_bucket_fn\u001b[0m\u001b[0;34m(\u001b[0m\u001b[0mrest\u001b[0m\u001b[0;34m,\u001b[0m \u001b[0mno_sum\u001b[0m\u001b[0;34m=\u001b[0m\u001b[0;32mTrue\u001b[0m\u001b[0;34m)\u001b[0m\u001b[0;34m\u001b[0m\u001b[0;34m\u001b[0m\u001b[0m\n\u001b[1;32m    352\u001b[0m         \u001b[0;32mif\u001b[0m \u001b[0mresult\u001b[0m \u001b[0;32mis\u001b[0m \u001b[0;32mnot\u001b[0m \u001b[0;32mNone\u001b[0m\u001b[0;34m:\u001b[0m\u001b[0;34m\u001b[0m\u001b[0;34m\u001b[0m\u001b[0m\n\u001b[0;32m--> 353\u001b[0;31m             \u001b[0mresult\u001b[0m \u001b[0;34m*=\u001b[0m \u001b[0mtensor\u001b[0m\u001b[0;34m\u001b[0m\u001b[0;34m\u001b[0m\u001b[0m\n\u001b[0m\u001b[1;32m    354\u001b[0m         \u001b[0;32melse\u001b[0m\u001b[0;34m:\u001b[0m\u001b[0;34m\u001b[0m\u001b[0;34m\u001b[0m\u001b[0m\n\u001b[1;32m    355\u001b[0m             \u001b[0mresult\u001b[0m \u001b[0;34m=\u001b[0m \u001b[0mtensor\u001b[0m\u001b[0;34m\u001b[0m\u001b[0;34m\u001b[0m\u001b[0m\n",
      "\u001b[0;32m~/anl/qsim/Qensor/qtree/qtree/optimizer.py\u001b[0m in \u001b[0;36m__mul__\u001b[0;34m(self, other)\u001b[0m\n\u001b[1;32m    155\u001b[0m             \u001b[0;32mreturn\u001b[0m \u001b[0mself\u001b[0m\u001b[0;34m.\u001b[0m\u001b[0mcopy\u001b[0m\u001b[0;34m(\u001b[0m\u001b[0mdata\u001b[0m\u001b[0;34m=\u001b[0m\u001b[0mself\u001b[0m\u001b[0;34m.\u001b[0m\u001b[0m_data\u001b[0m \u001b[0;34m*\u001b[0m \u001b[0mother\u001b[0m\u001b[0;34m.\u001b[0m\u001b[0m_data\u001b[0m\u001b[0;34m)\u001b[0m\u001b[0;34m\u001b[0m\u001b[0;34m\u001b[0m\u001b[0m\n\u001b[1;32m    156\u001b[0m         \u001b[0;32melse\u001b[0m\u001b[0;34m:\u001b[0m\u001b[0;34m\u001b[0m\u001b[0;34m\u001b[0m\u001b[0m\n\u001b[0;32m--> 157\u001b[0;31m             \u001b[0;32mraise\u001b[0m \u001b[0mValueError\u001b[0m\u001b[0;34m(\u001b[0m\u001b[0;34mf'Index mismatch in __mul__: {self.indices} times {other.indices}'\u001b[0m\u001b[0;34m)\u001b[0m\u001b[0;34m\u001b[0m\u001b[0;34m\u001b[0m\u001b[0m\n\u001b[0m\u001b[1;32m    158\u001b[0m \u001b[0;34m\u001b[0m\u001b[0m\n\u001b[1;32m    159\u001b[0m     \u001b[0;32mdef\u001b[0m \u001b[0m__eq__\u001b[0m\u001b[0;34m(\u001b[0m\u001b[0mself\u001b[0m\u001b[0;34m,\u001b[0m \u001b[0mother\u001b[0m\u001b[0;34m)\u001b[0m\u001b[0;34m:\u001b[0m\u001b[0;34m\u001b[0m\u001b[0;34m\u001b[0m\u001b[0m\n",
      "\u001b[0;31mValueError\u001b[0m: Index mismatch in __mul__: () times (v_0, v_1, v_3)"
     ]
    }
   ],
   "source": [
    "reversed_buckets = list(reversed(numpy_buckets))\n",
    "\n",
    "result = optimizer.bucket_elimination(reversed_buckets\n",
    "                                      , npfr.process_bucket_np\n",
    "                                      , n_var_nosum=1\n",
    "                                     )\n",
    "result.data"
   ]
  },
  {
   "cell_type": "markdown",
   "metadata": {},
   "source": [
    "### Correct usage"
   ]
  },
  {
   "cell_type": "markdown",
   "metadata": {
    "ExecuteTime": {
     "end_time": "2020-06-24T02:51:12.807820Z",
     "start_time": "2020-06-24T02:51:12.804745Z"
    }
   },
   "source": [
    "Have to reorder the buckets. From the **original** buckets, not numpy"
   ]
  },
  {
   "cell_type": "code",
   "execution_count": 133,
   "metadata": {
    "ExecuteTime": {
     "end_time": "2020-06-24T04:06:24.136217Z",
     "start_time": "2020-06-24T04:06:24.124959Z"
    }
   },
   "outputs": [
    {
     "name": "stdout",
     "output_type": "stream",
     "text": [
      "[M(o_0,v_1), MyGate(v_1,v_2), M(v_2,i_0)]\n"
     ]
    },
    {
     "data": {
      "text/plain": [
       "{o_0, v_1, v_2, i_0}"
      ]
     },
     "execution_count": 133,
     "metadata": {},
     "output_type": "execute_result"
    }
   ],
   "source": [
    "all_tensors = sum(tensor_expr, [])\n",
    "print(all_tensors)\n",
    "all_vars = set(sum([tensor.indices for tensor in all_tensors], tuple() ))\n",
    "all_vars"
   ]
  },
  {
   "cell_type": "code",
   "execution_count": 121,
   "metadata": {
    "ExecuteTime": {
     "end_time": "2020-06-24T03:44:19.317626Z",
     "start_time": "2020-06-24T03:44:19.311305Z"
    }
   },
   "outputs": [
    {
     "data": {
      "text/plain": [
       "[v_1, i_0, v_2]"
      ]
     },
     "execution_count": 121,
     "metadata": {},
     "output_type": "execute_result"
    }
   ],
   "source": [
    "peo = list(all_vars - set(bra))\n",
    "peo"
   ]
  },
  {
   "cell_type": "code",
   "execution_count": 127,
   "metadata": {
    "ExecuteTime": {
     "end_time": "2020-06-24T03:46:21.577423Z",
     "start_time": "2020-06-24T03:46:21.570806Z"
    },
    "lines_to_next_cell": 2
   },
   "outputs": [],
   "source": [
    "perm_buckets, perm_dict = qtree.optimizer.reorder_buckets(\n",
    "    tensor_expr, peo + bra\n",
    ")\n",
    "\n",
    "ket_vars = sorted([perm_dict[idx] for idx in ket], key=str)\n",
    "bra_vars = sorted([perm_dict[idx] for idx in bra], key=str)\n",
    "\n",
    "initial_state = 0\n",
    "slice_dict = qtree.utils.slice_from_bits(initial_state, ket_vars)"
   ]
  },
  {
   "cell_type": "code",
   "execution_count": 132,
   "metadata": {
    "ExecuteTime": {
     "end_time": "2020-06-24T03:50:12.181363Z",
     "start_time": "2020-06-24T03:50:12.172698Z"
    },
    "lines_to_next_cell": 0
   },
   "outputs": [
    {
     "name": "stdout",
     "output_type": "stream",
     "text": [
      "[[M(v_0,v_3), MyGate(v_0,v_2)], [M(v_1,v_2)], [], []]\n"
     ]
    },
    {
     "data": {
      "text/plain": [
       "array([0.70710678+0.j, 0.70710678+0.j])"
      ]
     },
     "execution_count": 132,
     "metadata": {},
     "output_type": "execute_result"
    }
   ],
   "source": [
    "\n",
    "numpy_buckets = npfr.get_sliced_np_buckets(\n",
    "    perm_buckets, data_dict, slice_dict\n",
    ")\n",
    "\n",
    "print(numpy_buckets)\n",
    "result = optimizer.bucket_elimination(numpy_buckets\n",
    "                                      , npfr.process_bucket_np\n",
    "                                      , n_var_nosum=1\n",
    "                                     )\n",
    "result.data"
   ]
  },
  {
   "cell_type": "code",
   "execution_count": null,
   "metadata": {
    "lines_to_next_cell": 2
   },
   "outputs": [],
   "source": []
  }
 ],
 "metadata": {
  "jupytext": {
   "formats": "ipynb,scripts_jupytext//py"
  },
  "kernelspec": {
   "display_name": "Python 3",
   "language": "python",
   "name": "python3"
  },
  "language_info": {
   "codemirror_mode": {
    "name": "ipython",
    "version": 3
   },
   "file_extension": ".py",
   "mimetype": "text/x-python",
   "name": "python",
   "nbconvert_exporter": "python",
   "pygments_lexer": "ipython3",
   "version": "3.8.3"
  },
  "toc": {
   "base_numbering": 1,
   "nav_menu": {},
   "number_sections": true,
   "sideBar": true,
   "skip_h1_title": false,
   "title_cell": "Table of Contents",
   "title_sidebar": "Contents",
   "toc_cell": true,
   "toc_position": {},
   "toc_section_display": true,
   "toc_window_display": true
  }
 },
 "nbformat": 4,
 "nbformat_minor": 4
}
