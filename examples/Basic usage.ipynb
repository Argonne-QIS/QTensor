{
 "cells": [
  {
   "cell_type": "markdown",
   "metadata": {
    "toc": true
   },
   "source": [
    "<h1>Table of Contents<span class=\"tocSkip\"></span></h1>\n",
    "<div class=\"toc\"><ul class=\"toc-item\"></ul></div>"
   ]
  },
  {
   "cell_type": "code",
   "execution_count": 24,
   "metadata": {
    "ExecuteTime": {
     "end_time": "2020-06-24T01:48:04.286669Z",
     "start_time": "2020-06-24T01:48:04.272993Z"
    }
   },
   "outputs": [],
   "source": [
    "import numpy as np\n",
    "\n",
    "import qtree\n",
    "from qtree.operators import Gate"
   ]
  },
  {
   "cell_type": "code",
   "execution_count": 2,
   "metadata": {
    "ExecuteTime": {
     "end_time": "2020-06-24T01:35:46.149579Z",
     "start_time": "2020-06-24T01:35:46.127656Z"
    },
    "collapsed": true
   },
   "outputs": [
    {
     "name": "stdout",
     "output_type": "stream",
     "text": [
      "Help on class Gate in module qtree.operators:\n",
      "\n",
      "class Gate(builtins.object)\n",
      " |  Gate(*qubits)\n",
      " |  \n",
      " |  Base class for quantum gates.\n",
      " |  \n",
      " |  Attributes\n",
      " |  ----------\n",
      " |  name: str\n",
      " |          The name of the gate\n",
      " |  \n",
      " |  parameters: dict\n",
      " |           Parameters used by the gate (may be empty)\n",
      " |  \n",
      " |  qubits: tuple\n",
      " |          Qubits the gate acts on\n",
      " |  \n",
      " |  changed_qubits : tuple\n",
      " |          Tuple of ints which states what qubit's bases are changed\n",
      " |          (along which qubits the gate is not diagonal).\n",
      " |  \n",
      " |  cirq_op: Cirq.GridQubit\n",
      " |          Cirq 2D gate. Used for unit tests. Optional\n",
      " |  \n",
      " |  Methods\n",
      " |  -------\n",
      " |  gen_tensor(): numpy.array\n",
      " |          The gate tensor. For each qubit a gate\n",
      " |          either introduces a new variable (non-diagonal gate, like X)\n",
      " |          or does not (diagonal gate, like T). Multiqubit gates\n",
      " |          can be diagonal on some of the variables, and not diagonal on\n",
      " |          others (like ccX). The order of dimensions IS ALWAYS\n",
      " |          (new_a, a, b_new, b, c, d_new, d, ...)\n",
      " |  \n",
      " |  is_parametric(): bool\n",
      " |          Returns False for gates without parameters\n",
      " |  \n",
      " |  Methods defined here:\n",
      " |  \n",
      " |  __init__(self, *qubits)\n",
      " |      Initialize self.  See help(type(self)) for accurate signature.\n",
      " |  \n",
      " |  __repr__(self)\n",
      " |      Return repr(self).\n",
      " |  \n",
      " |  __str__(self)\n",
      " |      Return str(self).\n",
      " |  \n",
      " |  gen_tensor(self)\n",
      " |  \n",
      " |  is_parametric(self)\n",
      " |  \n",
      " |  to_cirq_1d_circ_op(self)\n",
      " |  \n",
      " |  ----------------------------------------------------------------------\n",
      " |  Readonly properties defined here:\n",
      " |  \n",
      " |  changed_qubits\n",
      " |  \n",
      " |  name\n",
      " |  \n",
      " |  parameters\n",
      " |  \n",
      " |  qubits\n",
      " |  \n",
      " |  ----------------------------------------------------------------------\n",
      " |  Data descriptors defined here:\n",
      " |  \n",
      " |  __dict__\n",
      " |      dictionary for instance variables (if defined)\n",
      " |  \n",
      " |  __weakref__\n",
      " |      list of weak references to the object (if defined)\n",
      "\n"
     ]
    }
   ],
   "source": [
    "help(Gate)"
   ]
  },
  {
   "cell_type": "code",
   "execution_count": 17,
   "metadata": {
    "ExecuteTime": {
     "end_time": "2020-06-24T01:46:07.969745Z",
     "start_time": "2020-06-24T01:46:07.954451Z"
    }
   },
   "outputs": [
    {
     "data": {
      "text/plain": [
       "MyGate(0)"
      ]
     },
     "execution_count": 17,
     "metadata": {},
     "output_type": "execute_result"
    }
   ],
   "source": [
    "class MyGate(Gate):\n",
    "    name = 'MyGate'\n",
    "    _changes_qubits=(0,)\n",
    "    def gen_tensor(self):\n",
    "        tensor = 1/np.sqrt(2)*np.array([\n",
    "            [1,1]\n",
    "            ,[1,-1]\n",
    "        ])\n",
    "        return tensor\n",
    "    \n",
    "myGate = MyGate(0)\n",
    "myGate"
   ]
  },
  {
   "cell_type": "code",
   "execution_count": null,
   "metadata": {},
   "outputs": [],
   "source": []
  },
  {
   "cell_type": "code",
   "execution_count": 19,
   "metadata": {
    "ExecuteTime": {
     "end_time": "2020-06-24T01:46:36.343558Z",
     "start_time": "2020-06-24T01:46:36.330837Z"
    }
   },
   "outputs": [
    {
     "name": "stdout",
     "output_type": "stream",
     "text": [
      "[[M(o_0,v_1)], [MyGate(v_1,v_2)], [M(v_2,i_0)], []]\n",
      "{('M', -6923940778079747740): array([[1.+0.j, 0.+0.j],\n",
      "       [0.+0.j, 1.+0.j]], dtype=complex64), ('MyGate', -7879287038868799089): array([[ 0.70710678,  0.70710678],\n",
      "       [ 0.70710678, -0.70710678]])}\n",
      "[o_0]\n",
      "[i_0]\n"
     ]
    }
   ],
   "source": [
    "from qtree import optimizer\n",
    "\n",
    "tensor_expr, data_dict, bra, ket = optimizer.circ2buckets(1, [[myGate]])\n",
    "print(tensor_expr)\n",
    "print(data_dict)\n",
    "print(bra)\n",
    "print(ket)"
   ]
  },
  {
   "cell_type": "code",
   "execution_count": 20,
   "metadata": {
    "ExecuteTime": {
     "end_time": "2020-06-24T01:46:58.612518Z",
     "start_time": "2020-06-24T01:46:58.607710Z"
    }
   },
   "outputs": [],
   "source": [
    "from qtree import np_framework as npfr"
   ]
  },
  {
   "cell_type": "code",
   "execution_count": 22,
   "metadata": {
    "ExecuteTime": {
     "end_time": "2020-06-24T01:47:17.755028Z",
     "start_time": "2020-06-24T01:47:17.748462Z"
    }
   },
   "outputs": [
    {
     "data": {
      "text/plain": [
       "[[M(v_0,v_1)], [MyGate(v_1,v_2)], [M(v_2,v_3)], []]"
      ]
     },
     "execution_count": 22,
     "metadata": {},
     "output_type": "execute_result"
    }
   ],
   "source": [
    "numpy_buckets = npfr.get_sliced_np_buckets(tensor_expr\n",
    "                                           ,data_dict\n",
    "                                           ,{}\n",
    "                                          )\n",
    "numpy_buckets"
   ]
  },
  {
   "cell_type": "code",
   "execution_count": 27,
   "metadata": {
    "ExecuteTime": {
     "end_time": "2020-06-24T01:48:18.561686Z",
     "start_time": "2020-06-24T01:48:18.553774Z"
    }
   },
   "outputs": [
    {
     "data": {
      "text/plain": [
       "E3()"
      ]
     },
     "execution_count": 27,
     "metadata": {},
     "output_type": "execute_result"
    }
   ],
   "source": [
    "result = optimizer.bucket_elimination(numpy_buckets, npfr.process_bucket_np)\n",
    "result"
   ]
  },
  {
   "cell_type": "code",
   "execution_count": 28,
   "metadata": {
    "ExecuteTime": {
     "end_time": "2020-06-24T01:48:28.852752Z",
     "start_time": "2020-06-24T01:48:28.845190Z"
    }
   },
   "outputs": [
    {
     "data": {
      "text/plain": [
       "(2.8284271247461894+0j)"
      ]
     },
     "execution_count": 28,
     "metadata": {},
     "output_type": "execute_result"
    }
   ],
   "source": [
    "result.data"
   ]
  },
  {
   "cell_type": "code",
   "execution_count": null,
   "metadata": {},
   "outputs": [],
   "source": []
  }
 ],
 "metadata": {
  "jupytext": {
   "formats": "ipynb,scripts_jupytext//py"
  },
  "kernelspec": {
   "display_name": "Python 3",
   "language": "python",
   "name": "python3"
  },
  "language_info": {
   "codemirror_mode": {
    "name": "ipython",
    "version": 3
   },
   "file_extension": ".py",
   "mimetype": "text/x-python",
   "name": "python",
   "nbconvert_exporter": "python",
   "pygments_lexer": "ipython3",
   "version": "3.8.3"
  },
  "toc": {
   "base_numbering": 1,
   "nav_menu": {},
   "number_sections": true,
   "sideBar": true,
   "skip_h1_title": false,
   "title_cell": "Table of Contents",
   "title_sidebar": "Contents",
   "toc_cell": true,
   "toc_position": {},
   "toc_section_display": true,
   "toc_window_display": true
  }
 },
 "nbformat": 4,
 "nbformat_minor": 4
}
