{
 "cells": [
  {
   "cell_type": "markdown",
   "metadata": {
    "toc": true
   },
   "source": [
    "<h1>Table of Contents<span class=\"tocSkip\"></span></h1>\n",
    "<div class=\"toc\"><ul class=\"toc-item\"><li><span><a href=\"#Small-example-of-single-edge-contribution\" data-toc-modified-id=\"Small-example-of-single-edge-contribution-1\"><span class=\"toc-item-num\">1&nbsp;&nbsp;</span>Small example of single edge contribution</a></span><ul class=\"toc-item\"><li><span><a href=\"#Define-QAOA-problem\" data-toc-modified-id=\"Define-QAOA-problem-1.1\"><span class=\"toc-item-num\">1.1&nbsp;&nbsp;</span>Define QAOA problem</a></span><ul class=\"toc-item\"><li><span><a href=\"#Create-graph\" data-toc-modified-id=\"Create-graph-1.1.1\"><span class=\"toc-item-num\">1.1.1&nbsp;&nbsp;</span>Create graph</a></span></li><li><span><a href=\"#Create-QAOA-params\" data-toc-modified-id=\"Create-QAOA-params-1.1.2\"><span class=\"toc-item-num\">1.1.2&nbsp;&nbsp;</span>Create QAOA params</a></span></li></ul></li><li><span><a href=\"#Calculate-Loss\" data-toc-modified-id=\"Calculate-Loss-1.2\"><span class=\"toc-item-num\">1.2&nbsp;&nbsp;</span>Calculate Loss</a></span></li><li><span><a href=\"#Calculate-gradient\" data-toc-modified-id=\"Calculate-gradient-1.3\"><span class=\"toc-item-num\">1.3&nbsp;&nbsp;</span>Calculate gradient</a></span></li><li><span><a href=\"#Do-gradient-descent\" data-toc-modified-id=\"Do-gradient-descent-1.4\"><span class=\"toc-item-num\">1.4&nbsp;&nbsp;</span>Do gradient descent</a></span></li><li><span><a href=\"#Plot-parameter-space-with-descent-path\" data-toc-modified-id=\"Plot-parameter-space-with-descent-path-1.5\"><span class=\"toc-item-num\">1.5&nbsp;&nbsp;</span>Plot parameter space with descent path</a></span></li></ul></li><li><span><a href=\"#Use-Adam-optimizer-(and-others)\" data-toc-modified-id=\"Use-Adam-optimizer-(and-others)-2\"><span class=\"toc-item-num\">2&nbsp;&nbsp;</span>Use Adam optimizer (and others)</a></span></li><li><span><a href=\"#Small-playground-of-torch-autograd\" data-toc-modified-id=\"Small-playground-of-torch-autograd-3\"><span class=\"toc-item-num\">3&nbsp;&nbsp;</span>Small playground of torch autograd</a></span><ul class=\"toc-item\"><li><span><a href=\"#Incorrect-way\" data-toc-modified-id=\"Incorrect-way-3.1\"><span class=\"toc-item-num\">3.1&nbsp;&nbsp;</span>Incorrect way</a></span></li><li><span><a href=\"#Correct-way\" data-toc-modified-id=\"Correct-way-3.2\"><span class=\"toc-item-num\">3.2&nbsp;&nbsp;</span>Correct way</a></span></li></ul></li></ul></div>"
   ]
  },
  {
   "cell_type": "markdown",
   "metadata": {},
   "source": [
    "# Optimizing variational parameters of Qantum Circuit\n",
    "\n",
    "The goal of variational algorithms is to find a perfect set of parameters that minimize a particular cost.\n",
    "For example, in the case of QAOA algorithm, one wants to minimize energy expectation of cost operator in state $\\langle \\gamma\\beta|$. The cost function (or _loss_ in terms of machine learning) is $ L = \\langle \\gamma\\beta | \\hat C | \\gamma \\beta \\rangle $"
   ]
  },
  {
   "cell_type": "code",
   "execution_count": 28,
   "metadata": {},
   "outputs": [],
   "source": [
    "import qtensor\n",
    "import networkx as nx\n",
    "from qtensor.contraction_backends import TorchBackend"
   ]
  },
  {
   "cell_type": "code",
   "execution_count": 29,
   "metadata": {},
   "outputs": [
    {
     "name": "stdout",
     "output_type": "stream",
     "text": [
      "The autoreload extension is already loaded. To reload it, use:\n",
      "  %reload_ext autoreload\n"
     ]
    }
   ],
   "source": [
    "%load_ext autoreload\n",
    "%autoreload 2"
   ]
  },
  {
   "cell_type": "markdown",
   "metadata": {},
   "source": [
    "## Small example of single edge contribution\n",
    "\n",
    "### Define QAOA problem\n",
    "#### Create graph"
   ]
  },
  {
   "cell_type": "code",
   "execution_count": 30,
   "metadata": {},
   "outputs": [
    {
     "data": {
      "image/png": "[encoded data removed]",
      "text/plain": [
       "<Figure size 432x288 with 1 Axes>"
      ]
     },
     "metadata": {},
     "output_type": "display_data"
    }
   ],
   "source": [
    "G = qtensor.toolbox.random_graph(nodes=6, degree=3, seed=10)\n",
    "nx.draw_kamada_kawai(G)"
   ]
  },
  {
   "cell_type": "markdown",
   "metadata": {},
   "source": [
    "#### Create QAOA params\n",
    "\n",
    "The point `gamma, beta` is defined to be near a saddle point on purpose. \n",
    "This tests how vanilia gradient descent will perform in such cases."
   ]
  },
  {
   "cell_type": "code",
   "execution_count": 315,
   "metadata": {
    "scrolled": true
   },
   "outputs": [
    {
     "data": {
      "text/plain": [
       "[H(0),\n",
       " H(1),\n",
       " H(2),\n",
       " H(3),\n",
       " H(4),\n",
       " H(5),\n",
       " ZZ[alpha=1.01](0,1),\n",
       " ZZ[alpha=1.01](0,3),\n",
       " ZZ[alpha=1.01](0,4),\n",
       " ZZ[alpha=1.01](1,2),\n",
       " ZZ[alpha=1.01](1,5),\n",
       " XPhase[alpha=0.50](0),\n",
       " XPhase[alpha=0.50](1),\n",
       " Z(0),\n",
       " Z(1),\n",
       " XPhase+[alpha=0.50](1),\n",
       " XPhase+[alpha=0.50](0),\n",
       " ZZ+[alpha=1.01](1,5),\n",
       " ZZ+[alpha=1.01](1,2),\n",
       " ZZ+[alpha=1.01](0,4),\n",
       " ZZ+[alpha=1.01](0,3),\n",
       " ZZ+[alpha=1.01](0,1),\n",
       " H+(5),\n",
       " H+(4),\n",
       " H+(3),\n",
       " H+(2),\n",
       " H+(1),\n",
       " H+(0)]"
      ]
     },
     "execution_count": 315,
     "metadata": {},
     "output_type": "execute_result"
    }
   ],
   "source": [
    "p = 1\n",
    "edge = list(G.edges)[0]\n",
    "\n",
    "gamma, beta = [0.507]*p, [0.2507]*p\n",
    "composer = qtensor.DefaultQAOAComposer(G, gamma=gamma, beta=beta)\n",
    "composer.energy_expectation_lightcone(edge)\n",
    "composer.circuit"
   ]
  },
  {
   "cell_type": "code",
   "execution_count": 316,
   "metadata": {},
   "outputs": [
    {
     "data": {
      "text/plain": [
       "array([0.00038601-4.90653885e-18j])"
      ]
     },
     "execution_count": 316,
     "metadata": {},
     "output_type": "execute_result"
    }
   ],
   "source": [
    "sim_np = qtensor.QtreeSimulator()\n",
    "sim_np.simulate(composer.circuit)"
   ]
  },
  {
   "cell_type": "markdown",
   "metadata": {},
   "source": [
    "### Calculate Loss"
   ]
  },
  {
   "cell_type": "code",
   "execution_count": 317,
   "metadata": {},
   "outputs": [],
   "source": [
    "import torch"
   ]
  },
  {
   "cell_type": "code",
   "execution_count": 318,
   "metadata": {},
   "outputs": [],
   "source": [
    "def torch_param(x):\n",
    "    return torch.tensor(x, requires_grad=True)\n",
    "\n",
    "gamma, beta = torch_param(gamma), torch_param(beta)"
   ]
  },
  {
   "cell_type": "code",
   "execution_count": 319,
   "metadata": {},
   "outputs": [],
   "source": [
    "composer = qtensor.TorchQAOAComposer(G, gamma=gamma, beta=beta)\n",
    "composer.energy_expectation_lightcone(edge)\n",
    "composer.circuit\n",
    "\n",
    "backend = TorchBackend()\n",
    "sim = qtensor.QtreeSimulator(backend=backend)"
   ]
  },
  {
   "cell_type": "code",
   "execution_count": 320,
   "metadata": {},
   "outputs": [
    {
     "data": {
      "text/plain": [
       "tensor([0.0004-1.6464e-09j], grad_fn=<ViewBackward>)"
      ]
     },
     "execution_count": 320,
     "metadata": {},
     "output_type": "execute_result"
    }
   ],
   "source": [
    "sim.simulate(composer.circuit)"
   ]
  },
  {
   "cell_type": "code",
   "execution_count": 321,
   "metadata": {},
   "outputs": [
    {
     "data": {
      "text/plain": [
       "tensor([-0.0004], grad_fn=<NegBackward>)"
      ]
     },
     "execution_count": 321,
     "metadata": {},
     "output_type": "execute_result"
    }
   ],
   "source": [
    "loss = -torch.real(sim.simulate(composer.circuit))\n",
    "loss"
   ]
  },
  {
   "cell_type": "markdown",
   "metadata": {},
   "source": [
    "### Calculate gradient"
   ]
  },
  {
   "cell_type": "code",
   "execution_count": 322,
   "metadata": {},
   "outputs": [
    {
     "data": {
      "text/plain": [
       "<NegBackward at 0x7fc686331130>"
      ]
     },
     "execution_count": 322,
     "metadata": {},
     "output_type": "execute_result"
    }
   ],
   "source": [
    "loss.grad_fn"
   ]
  },
  {
   "cell_type": "code",
   "execution_count": 323,
   "metadata": {},
   "outputs": [],
   "source": [
    "loss.backward(retain_graph=True)"
   ]
  },
  {
   "cell_type": "code",
   "execution_count": 324,
   "metadata": {},
   "outputs": [
    {
     "name": "stdout",
     "output_type": "stream",
     "text": [
      "Gamma gradient = tensor([-0.0549])\n",
      "Beta gradient = tensor([-0.5514])\n"
     ]
    }
   ],
   "source": [
    "print('Gamma gradient =', gamma.grad)\n",
    "print('Beta gradient =', beta.grad)"
   ]
  },
  {
   "cell_type": "markdown",
   "metadata": {},
   "source": [
    "### Do gradient descent\n",
    "\n",
    "\n",
    "A helpful article about using bare-bones autograd in pytoch: https://towardsdatascience.com/understanding-pytorch-with-an-example-a-step-by-step-tutorial-81fc5f8c4e8e#40de\n",
    "\n",
    "About complex-valued autograd: https://pytorch.org/docs/stable/notes/autograd.html#complex-autograd-doc\n",
    "\n",
    "Since the common optimization problem in ML is minimization, we'll negate the loss.\n",
    "This will help using advanced optimizers later\n",
    "\n",
    "**Loss**\n",
    "\n",
    "$$ L = - \\Re( \\langle \\gamma \\beta | \\hat C | \\gamma \\beta \\rangle) $$"
   ]
  },
  {
   "cell_type": "code",
   "execution_count": 325,
   "metadata": {},
   "outputs": [],
   "source": [
    "lr = 3e-3\n",
    "losses = []\n",
    "steps = 20\n",
    "param_history = []"
   ]
  },
  {
   "cell_type": "code",
   "execution_count": 326,
   "metadata": {
    "scrolled": true
   },
   "outputs": [
    {
     "name": "stdout",
     "output_type": "stream",
     "text": [
      "\n",
      "loss = [-0.00038602]\n",
      "Params tensor([0.5072], requires_grad=True) tensor([0.2524], requires_grad=True)\n",
      "Grads tensor([-0.0549]) tensor([-0.5514])\n",
      "\n",
      "loss = [-0.00132851]\n",
      "Params tensor([0.5077], requires_grad=True) tensor([0.2540], requires_grad=True)\n",
      "Grads tensor([-0.1845]) tensor([-0.5641])\n",
      "\n",
      "loss = [-0.0024583]\n",
      "Params tensor([0.5087], requires_grad=True) tensor([0.2559], requires_grad=True)\n",
      "Grads tensor([-0.3167]) tensor([-0.6070])\n",
      "\n",
      "loss = [-0.00399847]\n",
      "Params tensor([0.5100], requires_grad=True) tensor([0.2579], requires_grad=True)\n",
      "Grads tensor([-0.4581]) tensor([-0.6802])\n",
      "\n",
      "loss = [-0.00623141]\n",
      "Params tensor([0.5119], requires_grad=True) tensor([0.2603], requires_grad=True)\n",
      "Grads tensor([-0.6147]) tensor([-0.7854])\n",
      "\n",
      "loss = [-0.00954458]\n",
      "Params tensor([0.5143], requires_grad=True) tensor([0.2630], requires_grad=True)\n",
      "Grads tensor([-0.7925]) tensor([-0.9247])\n",
      "\n",
      "loss = [-0.01448263]\n",
      "Params tensor([0.5173], requires_grad=True) tensor([0.2663], requires_grad=True)\n",
      "Grads tensor([-0.9962]) tensor([-1.1008])\n",
      "\n",
      "loss = [-0.02180273]\n",
      "Params tensor([0.5209], requires_grad=True) tensor([0.2703], requires_grad=True)\n",
      "Grads tensor([-1.2289]) tensor([-1.3154])\n",
      "\n",
      "loss = [-0.03251452]\n",
      "Params tensor([0.5254], requires_grad=True) tensor([0.2750], requires_grad=True)\n",
      "Grads tensor([-1.4897]) tensor([-1.5678])\n",
      "\n",
      "loss = [-0.04786643]\n",
      "Params tensor([0.5307], requires_grad=True) tensor([0.2805], requires_grad=True)\n",
      "Grads tensor([-1.7709]) tensor([-1.8520])\n",
      "\n",
      "loss = [-0.06919885]\n",
      "Params tensor([0.5369], requires_grad=True) tensor([0.2870], requires_grad=True)\n",
      "Grads tensor([-2.0544]) tensor([-2.1530])\n",
      "\n",
      "loss = [-0.09756801]\n",
      "Params tensor([0.5438], requires_grad=True) tensor([0.2943], requires_grad=True)\n",
      "Grads tensor([-2.3083]) tensor([-2.4437])\n",
      "\n",
      "loss = [-0.13310397]\n",
      "Params tensor([0.5513], requires_grad=True) tensor([0.3024], requires_grad=True)\n",
      "Grads tensor([-2.4887]) tensor([-2.6849])\n",
      "\n",
      "loss = [-0.17430215]\n",
      "Params tensor([0.5589], requires_grad=True) tensor([0.3109], requires_grad=True)\n",
      "Grads tensor([-2.5497]) tensor([-2.8318])\n",
      "\n",
      "loss = [-0.2178053]\n",
      "Params tensor([0.5663], requires_grad=True) tensor([0.3194], requires_grad=True)\n",
      "Grads tensor([-2.4635]) tensor([-2.8503])\n",
      "\n",
      "loss = [-0.25923216]\n",
      "Params tensor([0.5730], requires_grad=True) tensor([0.3276], requires_grad=True)\n",
      "Grads tensor([-2.2384]) tensor([-2.7339])\n",
      "\n",
      "loss = [-0.2948186]\n",
      "Params tensor([0.5788], requires_grad=True) tensor([0.3352], requires_grad=True)\n",
      "Grads tensor([-1.9192]) tensor([-2.5083])\n",
      "\n",
      "loss = [-0.32271492]\n",
      "Params tensor([0.5835], requires_grad=True) tensor([0.3418], requires_grad=True)\n",
      "Grads tensor([-1.5664]) tensor([-2.2186])\n",
      "\n",
      "loss = [-0.3430634]\n",
      "Params tensor([0.5872], requires_grad=True) tensor([0.3475], requires_grad=True)\n",
      "Grads tensor([-1.2306]) tensor([-1.9095])\n",
      "\n",
      "loss = [-0.3571781]\n",
      "Params tensor([0.5900], requires_grad=True) tensor([0.3524], requires_grad=True)\n",
      "Grads tensor([-0.9408]) tensor([-1.6129])\n"
     ]
    }
   ],
   "source": [
    "gamma, beta = torch_param([0.507]*p), torch_param([0.2507]*p)\n",
    "\n",
    "for i in range(steps):\n",
    "    print()\n",
    "    param_history.append((gamma.detach().numpy().copy(), beta.detach().numpy().copy()))\n",
    "    composer = qtensor.TorchQAOAComposer(G, gamma=gamma, beta=beta)\n",
    "    composer.energy_expectation_lightcone(edge)\n",
    "    loss = -torch.real(sim.simulate(composer.circuit))\n",
    "    losses.append(loss.detach().numpy())\n",
    "    print('loss =', losses[-1])\n",
    "    \n",
    "    loss.backward(retain_graph=True)\n",
    "    \n",
    "    with torch.no_grad():\n",
    "        gamma -= lr*gamma.grad\n",
    "        beta -= lr*beta.grad\n",
    "        \n",
    "    print('Params', gamma, beta)\n",
    "    print('Grads', gamma.grad, beta.grad)\n",
    "    gamma.grad.zero_()\n",
    "    beta.grad.zero_()"
   ]
  },
  {
   "cell_type": "code",
   "execution_count": 327,
   "metadata": {},
   "outputs": [
    {
     "data": {
      "text/plain": [
       "[<matplotlib.lines.Line2D at 0x7fc6862d0820>]"
      ]
     },
     "execution_count": 327,
     "metadata": {},
     "output_type": "execute_result"
    },
    {
     "data": {
      "image/png": "[encoded data removed]",
      "text/plain": [
       "<Figure size 432x288 with 1 Axes>"
      ]
     },
     "metadata": {
      "needs_background": "light"
     },
     "output_type": "display_data"
    }
   ],
   "source": [
    "import matplotlib.pyplot as plt\n",
    "plt.plot(losses)"
   ]
  },
  {
   "cell_type": "markdown",
   "metadata": {},
   "source": [
    "### Plot parameter space with descent path"
   ]
  },
  {
   "cell_type": "code",
   "execution_count": 328,
   "metadata": {},
   "outputs": [],
   "source": [
    "from cartesian_explorer import Explorer\n",
    "ex = Explorer()"
   ]
  },
  {
   "cell_type": "code",
   "execution_count": 329,
   "metadata": {},
   "outputs": [],
   "source": [
    "@ex.provider\n",
    "def single_edge_contribution(graph, gamma, beta):\n",
    "    composer = qtensor.DefaultQAOAComposer(graph, gamma=[gamma], beta=[beta])\n",
    "    composer.circuit\n",
    "    edge = list(graph.edges)[0]\n",
    "    composer.energy_expectation_lightcone(edge)\n",
    "    sim_np = qtensor.QtreeSimulator()\n",
    "    return sim_np.simulate(composer.circuit)"
   ]
  },
  {
   "cell_type": "code",
   "execution_count": 333,
   "metadata": {},
   "outputs": [],
   "source": [
    "gamma_arr = list(np.linspace(0, 1/1, 30))\n",
    "beta_arr = list(np.linspace(0, 1/2, 30))"
   ]
  },
  {
   "cell_type": "code",
   "execution_count": 331,
   "metadata": {},
   "outputs": [
    {
     "data": {
      "application/vnd.jupyter.widget-view+json": {
       "model_id": "8617a77175bb41569dbbdb617afcf0e9",
       "version_major": 2,
       "version_minor": 0
      },
      "text/plain": [
       "HBox(children=(FloatProgress(value=0.0, max=900.0), HTML(value='')))"
      ]
     },
     "metadata": {},
     "output_type": "display_data"
    },
    {
     "name": "stdout",
     "output_type": "stream",
     "text": [
      "\n"
     ]
    }
   ],
   "source": [
    "arr = ex.map_variable('single_edge_contribution', graph=[G], gamma=gamma_arr, beta=beta_arr)"
   ]
  },
  {
   "cell_type": "code",
   "execution_count": 332,
   "metadata": {},
   "outputs": [
    {
     "name": "stdout",
     "output_type": "stream",
     "text": [
      "Max value 0.3829751639726484\n"
     ]
    }
   ],
   "source": [
    "print('Max value', np.real(arr).max())"
   ]
  },
  {
   "cell_type": "code",
   "execution_count": 334,
   "metadata": {
    "scrolled": false
   },
   "outputs": [
    {
     "data": {
      "text/plain": [
       "<matplotlib.collections.PathCollection at 0x7fc68624b070>"
      ]
     },
     "execution_count": 334,
     "metadata": {},
     "output_type": "execute_result"
    },
    {
     "data": {
      "image/png": "[encoded data removed]",
      "text/plain": [
       "<Figure size 432x288 with 1 Axes>"
      ]
     },
     "metadata": {
      "needs_background": "light"
     },
     "output_type": "display_data"
    }
   ],
   "source": [
    "plt.contourf(beta_arr, gamma_arr, arr.reshape(len(gamma_arr), len(beta_arr)))\n",
    "\n",
    "gammas, betas = zip(*param_history)\n",
    "plt.scatter(betas, gammas, marker='x', c=range(len(param_history)), cmap='inferno')"
   ]
  },
  {
   "cell_type": "markdown",
   "metadata": {},
   "source": [
    "---"
   ]
  },
  {
   "cell_type": "markdown",
   "metadata": {},
   "source": [
    "## Use Adam optimizer (and others)\n",
    "\n",
    "This optimizer will work even when the starting point is exactly the saddle point.\n",
    "Gradient descent will not work in this case\n",
    "\n",
    "\n",
    "Another good optimizer is Adagrad, which shows even better results for the saddle point.\n",
    "However, it does not have momentum, so will tend to converge to local minima on more complicated surfaces.\n",
    "\n",
    "\n",
    "An overview of different optimizers: https://towardsdatascience.com/a-visual-explanation-of-gradient-descent-methods-momentum-adagrad-rmsprop-adam-f898b102325c\n",
    "\n",
    "Short summary, in the order of advanceness:\n",
    "\n",
    "- **Gradient descent** -- the simplest, good for demos;\n",
    "- **Momentum** -- adds inertia to the parameter point, better handles local minima;\n",
    "- **AdaGrad** -- better handling of saddle points through scaling of learning rate based on value of grads;\n",
    "- **RMSProp** -- speeds up convergence of previous by adding decay to the learning rate factor;\n",
    "- **Adam** -- momentum + RMSProp. \n",
    "\n",
    "The last three do not need learning rate tuning.\n",
    "\n",
    "For this toy example the best is `RMSProp`, which converges in 5 (five!) steps from exactly the saddle point."
   ]
  },
  {
   "cell_type": "code",
   "execution_count": 425,
   "metadata": {},
   "outputs": [],
   "source": [
    "def get_loss(G, gamma, beta):\n",
    "    composer = qtensor.TorchQAOAComposer(G, gamma=gamma, beta=beta)\n",
    "    edge = list(G.edges)[0]\n",
    "    composer.energy_expectation_lightcone(edge)\n",
    "    loss = - torch.real(sim.simulate(composer.circuit))\n",
    "    return loss\n",
    "\n",
    "gamma, beta = torch_param([0.500]*p), torch_param([0.2500]*p)\n",
    "\n",
    "opt = torch.optim.RMSprop(params=(gamma, beta))"
   ]
  },
  {
   "cell_type": "code",
   "execution_count": 426,
   "metadata": {},
   "outputs": [],
   "source": [
    "losses = []\n",
    "steps = 40\n",
    "param_history = []\n",
    "param_history.append((gamma.detach().numpy().copy(), beta.detach().numpy().copy()))\n",
    "\n",
    "for i in range(steps):\n",
    "    loss = get_loss(G, gamma, beta)\n",
    "    opt.zero_grad()\n",
    "\n",
    "    # Backward pass: compute gradient of the loss with respect to model\n",
    "    # parameters\n",
    "    loss.backward()\n",
    "\n",
    "    # Calling the step function\n",
    "    opt.step()\n",
    "    \n",
    "    losses.append(loss.detach().numpy().data)\n",
    "    param_history.append((gamma.detach().numpy().copy(), beta.detach().numpy().copy()))"
   ]
  },
  {
   "cell_type": "code",
   "execution_count": 427,
   "metadata": {},
   "outputs": [
    {
     "data": {
      "text/plain": [
       "[<matplotlib.lines.Line2D at 0x7fc6853174c0>]"
      ]
     },
     "execution_count": 427,
     "metadata": {},
     "output_type": "execute_result"
    },
    {
     "data": {
      "image/png": "[encoded data removed]",
      "text/plain": [
       "<Figure size 432x288 with 1 Axes>"
      ]
     },
     "metadata": {
      "needs_background": "light"
     },
     "output_type": "display_data"
    }
   ],
   "source": [
    "plt.plot(losses)"
   ]
  },
  {
   "cell_type": "code",
   "execution_count": 428,
   "metadata": {
    "scrolled": true
   },
   "outputs": [
    {
     "data": {
      "text/plain": [
       "<matplotlib.collections.PathCollection at 0x7fc68523d970>"
      ]
     },
     "execution_count": 428,
     "metadata": {},
     "output_type": "execute_result"
    },
    {
     "data": {
      "image/png": "[encoded data removed]",
      "text/plain": [
       "<Figure size 432x288 with 1 Axes>"
      ]
     },
     "metadata": {
      "needs_background": "light"
     },
     "output_type": "display_data"
    }
   ],
   "source": [
    "plt.contourf(beta_arr, gamma_arr, np.real(arr).reshape(len(gamma_arr), len(beta_arr)))\n",
    "\n",
    "gammas, betas = zip(*param_history)\n",
    "plt.scatter(betas, gammas, marker='x', c=range(len(param_history)), cmap='inferno')"
   ]
  },
  {
   "cell_type": "code",
   "execution_count": null,
   "metadata": {},
   "outputs": [],
   "source": []
  },
  {
   "cell_type": "code",
   "execution_count": null,
   "metadata": {},
   "outputs": [],
   "source": []
  },
  {
   "cell_type": "code",
   "execution_count": null,
   "metadata": {},
   "outputs": [],
   "source": []
  },
  {
   "cell_type": "code",
   "execution_count": null,
   "metadata": {},
   "outputs": [],
   "source": []
  },
  {
   "cell_type": "markdown",
   "metadata": {},
   "source": [
    "## Small playground of torch autograd"
   ]
  },
  {
   "cell_type": "code",
   "execution_count": 68,
   "metadata": {
    "scrolled": true
   },
   "outputs": [
    {
     "name": "stdout",
     "output_type": "stream",
     "text": [
      "tensor([[1., 1.],\n",
      "        [1., 1.]], requires_grad=True)\n"
     ]
    }
   ],
   "source": [
    "x = torch.ones(2, 2, requires_grad=True)\n",
    "print(x)"
   ]
  },
  {
   "cell_type": "code",
   "execution_count": 64,
   "metadata": {},
   "outputs": [
    {
     "name": "stdout",
     "output_type": "stream",
     "text": [
      "tensor([[3., 3.],\n",
      "        [3., 3.]], grad_fn=<AddBackward0>)\n"
     ]
    }
   ],
   "source": [
    "y = x + 2\n",
    "print(y)"
   ]
  },
  {
   "cell_type": "code",
   "execution_count": 66,
   "metadata": {},
   "outputs": [
    {
     "data": {
      "text/plain": [
       "tensor([2.3000, 2.3000], grad_fn=<AddBackward0>)"
      ]
     },
     "execution_count": 66,
     "metadata": {},
     "output_type": "execute_result"
    }
   ],
   "source": [
    "gamma + 2"
   ]
  },
  {
   "cell_type": "code",
   "execution_count": 10,
   "metadata": {},
   "outputs": [],
   "source": [
    "from qtensor.OpFactory import TorchFactory, QtreeFactory"
   ]
  },
  {
   "cell_type": "code",
   "execution_count": null,
   "metadata": {},
   "outputs": [],
   "source": [
    "param = torch.tensor(0.13, requires_grad=True)\n",
    "ZZ = TorchFactory.ZZ(0, 1, alpha=param)\n",
    "ZZ.gen_tensor()"
   ]
  },
  {
   "cell_type": "code",
   "execution_count": 24,
   "metadata": {},
   "outputs": [],
   "source": [
    "import numpy as np\n",
    "def torch_exp(z):\n",
    "    \"\"\"\n",
    "    https://discuss.pytorch.org/t/complex-functions-exp-does-not-support-automatic-differentiation-for-outputs-with-complex-dtype/98039/3\n",
    "    \"\"\"\n",
    "    return torch.cos(z) + 1j * torch.sin(z)"
   ]
  },
  {
   "cell_type": "markdown",
   "metadata": {},
   "source": [
    "### Incorrect way"
   ]
  },
  {
   "cell_type": "code",
   "execution_count": 14,
   "metadata": {},
   "outputs": [],
   "source": [
    "alpha = torch.tensor(0.13, requires_grad=True)\n",
    "p = torch_exp(1j*np.pi*alpha/2)\n",
    "m = torch_exp(-1j*np.pi*alpha/2)\n",
    "tensor = torch.tensor([ [m, p] ,[p, m] ])"
   ]
  },
  {
   "cell_type": "code",
   "execution_count": 15,
   "metadata": {},
   "outputs": [
    {
     "data": {
      "text/plain": [
       "tensor([[1.2265+0.j, 0.8153+0.j],\n",
       "        [0.8153+0.j, 1.2265+0.j]])"
      ]
     },
     "execution_count": 15,
     "metadata": {},
     "output_type": "execute_result"
    }
   ],
   "source": [
    "tensor"
   ]
  },
  {
   "cell_type": "markdown",
   "metadata": {},
   "source": [
    "### Correct way"
   ]
  },
  {
   "cell_type": "code",
   "execution_count": 99,
   "metadata": {},
   "outputs": [
    {
     "data": {
      "text/plain": [
       "tensor([[0.0000+0.j, 0.8153+0.j],\n",
       "        [0.8153+0.j, 0.0000+0.j]], grad_fn=<MulBackward0>)"
      ]
     },
     "execution_count": 99,
     "metadata": {},
     "output_type": "execute_result"
    }
   ],
   "source": [
    "alpha = torch.tensor(0.13, requires_grad=True)\n",
    "tensor = torch.tensor([[0, 1], [1, 0.]])\n",
    "e_ = torch_exp(1j*np.pi*alpha/2)\n",
    "tensor = tensor*e_\n",
    "tensor"
   ]
  },
  {
   "cell_type": "code",
   "execution_count": 100,
   "metadata": {},
   "outputs": [
    {
     "data": {
      "text/plain": [
       "tensor([[0.0000+0.j, 0.0000+0.j],\n",
       "        [8.1530+0.j, 0.0000+0.j]], grad_fn=<MulBackward0>)"
      ]
     },
     "execution_count": 100,
     "metadata": {},
     "output_type": "execute_result"
    }
   ],
   "source": [
    "tensor*torch.tensor([[0.1,0],[10,15]])"
   ]
  },
  {
   "cell_type": "code",
   "execution_count": 103,
   "metadata": {},
   "outputs": [
    {
     "data": {
      "text/plain": [
       "tensor([[1.2265+0.j, 0.8153+0.j],\n",
       "        [0.8153+0.j, 1.2265+0.j]], grad_fn=<AddBackward0>)"
      ]
     },
     "execution_count": 103,
     "metadata": {},
     "output_type": "execute_result"
    }
   ],
   "source": [
    "tensor = torch.tensor([[-1, 1],[1, -1]])\n",
    "torch_exp(1j*tensor*np.pi*alpha/2)"
   ]
  },
  {
   "cell_type": "code",
   "execution_count": null,
   "metadata": {},
   "outputs": [],
   "source": []
  }
 ],
 "metadata": {
  "kernelspec": {
   "display_name": "Python 3",
   "language": "python",
   "name": "python3"
  },
  "language_info": {
   "codemirror_mode": {
    "name": "ipython",
    "version": 3
   },
   "file_extension": ".py",
   "mimetype": "text/x-python",
   "name": "python",
   "nbconvert_exporter": "python",
   "pygments_lexer": "ipython3",
   "version": "3.8.2"
  },
  "toc": {
   "base_numbering": 1,
   "nav_menu": {},
   "number_sections": true,
   "sideBar": true,
   "skip_h1_title": true,
   "title_cell": "Table of Contents",
   "title_sidebar": "Contents",
   "toc_cell": true,
   "toc_position": {},
   "toc_section_display": true,
   "toc_window_display": true
  }
 },
 "nbformat": 4,
 "nbformat_minor": 4
}
