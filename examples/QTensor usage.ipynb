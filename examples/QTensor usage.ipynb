{
 "cells": [
  {
   "cell_type": "markdown",
   "metadata": {
    "slideshow": {
     "slide_type": ""
    },
    "toc": true
   },
   "source": [
    "<h1>Table of Contents<span class=\"tocSkip\"></span></h1>\n",
    "<div class=\"toc\"><ul class=\"toc-item\"><li><span><a href=\"#Creating-a-circuit\" data-toc-modified-id=\"Creating-a-circuit-1\"><span class=\"toc-item-num\">1&nbsp;&nbsp;</span>Creating a circuit</a></span><ul class=\"toc-item\"><li><span><a href=\"#QAOA-problem-graph\" data-toc-modified-id=\"QAOA-problem-graph-1.1\"><span class=\"toc-item-num\">1.1&nbsp;&nbsp;</span>QAOA problem graph</a></span></li><li><span><a href=\"#Universal-interface\" data-toc-modified-id=\"Universal-interface-1.2\"><span class=\"toc-item-num\">1.2&nbsp;&nbsp;</span>Universal interface</a></span><ul class=\"toc-item\"><li><span><a href=\"#Cirq\" data-toc-modified-id=\"Cirq-1.2.1\"><span class=\"toc-item-num\">1.2.1&nbsp;&nbsp;</span>Cirq</a></span></li><li><span><a href=\"#Qiskit\" data-toc-modified-id=\"Qiskit-1.2.2\"><span class=\"toc-item-num\">1.2.2&nbsp;&nbsp;</span>Qiskit</a></span></li></ul></li></ul></li><li><span><a href=\"#Simulate-circuits\" data-toc-modified-id=\"Simulate-circuits-2\"><span class=\"toc-item-num\">2&nbsp;&nbsp;</span>Simulate circuits</a></span><ul class=\"toc-item\"><li><span><a href=\"#Using-qtree\" data-toc-modified-id=\"Using-qtree-2.1\"><span class=\"toc-item-num\">2.1&nbsp;&nbsp;</span>Using qtree</a></span></li><li><span><a href=\"#Using-Cirq\" data-toc-modified-id=\"Using-Cirq-2.2\"><span class=\"toc-item-num\">2.2&nbsp;&nbsp;</span>Using Cirq</a></span></li><li><span><a href=\"#Simulate-multiple-amplitudes\" data-toc-modified-id=\"Simulate-multiple-amplitudes-2.3\"><span class=\"toc-item-num\">2.3&nbsp;&nbsp;</span>Simulate multiple amplitudes</a></span></li></ul></li><li><span><a href=\"#Use-lightcone-optimisaiton\" data-toc-modified-id=\"Use-lightcone-optimisaiton-3\"><span class=\"toc-item-num\">3&nbsp;&nbsp;</span>Use lightcone optimisaiton</a></span><ul class=\"toc-item\"><li><span><a href=\"#Use-qiskit-circuit-as-input\" data-toc-modified-id=\"Use-qiskit-circuit-as-input-3.1\"><span class=\"toc-item-num\">3.1&nbsp;&nbsp;</span>Use qiskit circuit as input</a></span></li></ul></li><li><span><a href=\"#Optimization\" data-toc-modified-id=\"Optimization-4\"><span class=\"toc-item-num\">4&nbsp;&nbsp;</span>Optimization</a></span><ul class=\"toc-item\"><li><span><a href=\"#Get-line-graph\" data-toc-modified-id=\"Get-line-graph-4.1\"><span class=\"toc-item-num\">4.1&nbsp;&nbsp;</span>Get line graph</a></span></li><li><span><a href=\"#Find-ordering\" data-toc-modified-id=\"Find-ordering-4.2\"><span class=\"toc-item-num\">4.2&nbsp;&nbsp;</span>Find ordering</a></span></li></ul></li></ul></div>"
   ]
  },
  {
   "cell_type": "markdown",
   "metadata": {
    "slideshow": {
     "slide_type": "slide"
    }
   },
   "source": [
    "# QTensor usage"
   ]
  },
  {
   "cell_type": "markdown",
   "metadata": {
    "slideshow": {
     "slide_type": "-"
    }
   },
   "source": [
    "## Creating a circuit\n"
   ]
  },
  {
   "cell_type": "code",
   "execution_count": 1,
   "metadata": {},
   "outputs": [
    {
     "name": "stderr",
     "output_type": "stream",
     "text": [
      "/home/plate/.local/lib/python3.8/site-packages/qiskit/__init__.py:63: RuntimeWarning: Could not import the Aer provider from the qiskit-aer package. Install qiskit-aer or check your installation.\n",
      "  warnings.warn('Could not import the Aer provider from the qiskit-aer '\n",
      "/home/plate/.local/lib/python3.8/site-packages/qiskit/__init__.py:73: RuntimeWarning: Could not import the IBMQ provider from the qiskit-ibmq-provider package. Install qiskit-ibmq-provider or check your installation.\n",
      "  warnings.warn('Could not import the IBMQ provider from the '\n"
     ]
    },
    {
     "data": {
      "text/plain": [
       "{'qiskit-terra': '0.15.2',\n",
       " 'qiskit-aer': None,\n",
       " 'qiskit-ignis': '0.4.0',\n",
       " 'qiskit-ibmq-provider': None,\n",
       " 'qiskit-aqua': '0.7.5',\n",
       " 'qiskit': '0.17.0'}"
      ]
     },
     "execution_count": 1,
     "metadata": {},
     "output_type": "execute_result"
    }
   ],
   "source": [
    "import qiskit\n",
    "qiskit.__qiskit_version__"
   ]
  },
  {
   "cell_type": "code",
   "execution_count": 2,
   "metadata": {
    "slideshow": {
     "slide_type": "slide"
    }
   },
   "outputs": [],
   "source": [
    "# Qtensor branch: dev\n",
    "import matplotlib.pyplot as plt\n",
    "import numpy as np\n",
    "import networkx as nx\n",
    "from qtensor import QAOAComposer\n",
    "from qtensor import CirqQAOAComposer, QtreeQAOAComposer\n"
   ]
  },
  {
   "cell_type": "markdown",
   "metadata": {
    "slideshow": {
     "slide_type": ""
    }
   },
   "source": [
    "### QAOA problem graph"
   ]
  },
  {
   "cell_type": "code",
   "execution_count": 3,
   "metadata": {
    "scrolled": true,
    "slideshow": {
     "slide_type": ""
    }
   },
   "outputs": [
    {
     "data": {
      "image/png": "[encoded data removed]",
      "text/plain": [
       "<Figure size 432x288 with 1 Axes>"
      ]
     },
     "metadata": {},
     "output_type": "display_data"
    }
   ],
   "source": [
    "\n",
    "G = nx.erdos_renyi_graph(5, 3/(5-1))\n",
    "nx.draw_kamada_kawai(G)"
   ]
  },
  {
   "cell_type": "markdown",
   "metadata": {
    "slideshow": {
     "slide_type": "slide"
    }
   },
   "source": [
    "### Universal interface\n",
    "#### Cirq"
   ]
  },
  {
   "cell_type": "code",
   "execution_count": 4,
   "metadata": {},
   "outputs": [
    {
     "data": {
      "text/html": [
       "<pre style=\"overflow: auto; white-space: pre;\">          ┌──┐           ┌──┐   ┌──┐           ┌──┐\n",
       "0: ───H────@──────────────@──────@──────────────@─────X^0.4───────────────────────────────────────────────────────────\n",
       "           │              │      │              │\n",
       "1: ───H────┼@─────────────┼@─────┼@─────────────┼@────X^0.4───────────────────────────────────────────────────────────\n",
       "           ││             ││     ││             ││\n",
       "2: ───H────┼X────Z^0.2────┼X─────┼┼─────────────┼┼────@───────────────@───@───────────@───X^0.4───────────────────────\n",
       "           │              │      ││             ││    │               │   │           │\n",
       "3: ───H────X─────Z^0.2────X──────┼X────Z^0.2────┼X────X───────Z^0.2───X───┼───────────┼───@───────────────@───X^0.4───\n",
       "                                 │              │                         │           │   │               │\n",
       "4: ───H──────────────────────────X─────Z^0.2────X─────────────────────────X───Z^0.2───X───X───────Z^0.2───X───X^0.4───\n",
       "          └──┘           └──┘   └──┘           └──┘</pre>"
      ],
      "text/plain": [
       "          ┌──┐           ┌──┐   ┌──┐           ┌──┐\n",
       "0: ───H────@──────────────@──────@──────────────@─────X^0.4───────────────────────────────────────────────────────────\n",
       "           │              │      │              │\n",
       "1: ───H────┼@─────────────┼@─────┼@─────────────┼@────X^0.4───────────────────────────────────────────────────────────\n",
       "           ││             ││     ││             ││\n",
       "2: ───H────┼X────Z^0.2────┼X─────┼┼─────────────┼┼────@───────────────@───@───────────@───X^0.4───────────────────────\n",
       "           │              │      ││             ││    │               │   │           │\n",
       "3: ───H────X─────Z^0.2────X──────┼X────Z^0.2────┼X────X───────Z^0.2───X───┼───────────┼───@───────────────@───X^0.4───\n",
       "                                 │              │                         │           │   │               │\n",
       "4: ───H──────────────────────────X─────Z^0.2────X─────────────────────────X───Z^0.2───X───X───────Z^0.2───X───X^0.4───\n",
       "          └──┘           └──┘   └──┘           └──┘"
      ]
     },
     "execution_count": 4,
     "metadata": {},
     "output_type": "execute_result"
    }
   ],
   "source": [
    "p = 1\n",
    "cirq_qaoa = CirqQAOAComposer(G, gamma=[.1]*p, beta=[.2]*p)\n",
    "cirq_qaoa.ansatz_state()\n",
    "cirq_qaoa.circuit"
   ]
  },
  {
   "cell_type": "markdown",
   "metadata": {
    "slideshow": {
     "slide_type": "slide"
    }
   },
   "source": [
    "#### Qiskit"
   ]
  },
  {
   "cell_type": "code",
   "execution_count": 5,
   "metadata": {},
   "outputs": [
    {
     "data": {
      "text/plain": [
       "(qtensor.QiskitQAOAComposer,\n",
       " qtensor.CircuitComposer.QAOAComposer,\n",
       " qtensor.CircuitComposer.CircuitComposer,\n",
       " object)"
      ]
     },
     "execution_count": 5,
     "metadata": {},
     "output_type": "execute_result"
    }
   ],
   "source": [
    "from qtensor import QiskitQAOAComposer\n",
    "QiskitQAOAComposer.__mro__"
   ]
  },
  {
   "cell_type": "code",
   "execution_count": 6,
   "metadata": {
    "scrolled": true,
    "slideshow": {
     "slide_type": "slide"
    }
   },
   "outputs": [
    {
     "data": {
      "image/png": "[encoded data removed]",
      "text/plain": [
       "<Figure size 1404.98x385.28 with 1 Axes>"
      ]
     },
     "execution_count": 6,
     "metadata": {},
     "output_type": "execute_result"
    }
   ],
   "source": [
    "p = 1\n",
    "qiskit_qaoa = QiskitQAOAComposer(G, gamma=[.1]*p, beta=[.2]*p)\n",
    "qiskit_qaoa.ansatz_state()\n",
    "qiskit_qaoa.circuit.draw('mpl')"
   ]
  },
  {
   "cell_type": "markdown",
   "metadata": {
    "slideshow": {
     "slide_type": "slide"
    }
   },
   "source": [
    "## Simulate circuits\n",
    "### Using qtree"
   ]
  },
  {
   "cell_type": "code",
   "execution_count": 7,
   "metadata": {},
   "outputs": [],
   "source": [
    "from qtensor import QtreeSimulator"
   ]
  },
  {
   "cell_type": "code",
   "execution_count": 8,
   "metadata": {
    "scrolled": true
   },
   "outputs": [
    {
     "data": {
      "text/plain": [
       "[H(0),\n",
       " H(1),\n",
       " H(2),\n",
       " H(3),\n",
       " H(4),\n",
       " cX(0,3),\n",
       " ZPhase[alpha=0.20](3),\n",
       " cX(0,3),\n",
       " cX(0,4),\n",
       " ZPhase[alpha=0.20](4),\n",
       " cX(0,4),\n",
       " cX(1,2),\n",
       " ZPhase[alpha=0.20](2),\n",
       " cX(1,2),\n",
       " cX(1,3),\n",
       " ZPhase[alpha=0.20](3),\n",
       " cX(1,3),\n",
       " cX(2,3),\n",
       " ZPhase[alpha=0.20](3),\n",
       " cX(2,3),\n",
       " cX(2,4),\n",
       " ZPhase[alpha=0.20](4),\n",
       " cX(2,4),\n",
       " cX(3,4),\n",
       " ZPhase[alpha=0.20](4),\n",
       " cX(3,4),\n",
       " XPhase[alpha=0.40](0),\n",
       " XPhase[alpha=0.40](1),\n",
       " XPhase[alpha=0.40](2),\n",
       " XPhase[alpha=0.40](3),\n",
       " XPhase[alpha=0.40](4)]"
      ]
     },
     "execution_count": 8,
     "metadata": {},
     "output_type": "execute_result"
    }
   ],
   "source": [
    "com = QtreeQAOAComposer(G, gamma=[.1]*p, beta=[.2]*p)\n",
    "com.ansatz_state()"
   ]
  },
  {
   "cell_type": "code",
   "execution_count": 9,
   "metadata": {},
   "outputs": [
    {
     "data": {
      "text/plain": [
       "array([-0.39701423+0.22350602j])"
      ]
     },
     "execution_count": 9,
     "metadata": {},
     "output_type": "execute_result"
    }
   ],
   "source": [
    "sim = QtreeSimulator()\n",
    "first_amp = sim.simulate(com.circuit)\n",
    "\n",
    "first_amp"
   ]
  },
  {
   "cell_type": "markdown",
   "metadata": {
    "slideshow": {
     "slide_type": "slide"
    }
   },
   "source": [
    "### Using Cirq"
   ]
  },
  {
   "cell_type": "code",
   "execution_count": 10,
   "metadata": {},
   "outputs": [],
   "source": [
    "from qtensor import CirqSimulator"
   ]
  },
  {
   "cell_type": "code",
   "execution_count": 11,
   "metadata": {},
   "outputs": [
    {
     "data": {
      "text/plain": [
       "(-0.3970142+0.22350594j)"
      ]
     },
     "execution_count": 11,
     "metadata": {},
     "output_type": "execute_result"
    }
   ],
   "source": [
    "cirq_sim = CirqSimulator()\n",
    "cirq_measure = cirq_sim.simulate(cirq_qaoa.circuit)\n",
    "\n",
    "cirq_first_amp = cirq_measure.final_state[0]\n",
    "cirq_first_amp"
   ]
  },
  {
   "cell_type": "markdown",
   "metadata": {
    "slideshow": {
     "slide_type": "slide"
    }
   },
   "source": [
    "### Simulate multiple amplitudes"
   ]
  },
  {
   "cell_type": "code",
   "execution_count": 12,
   "metadata": {},
   "outputs": [
    {
     "data": {
      "image/png": "[encoded data removed]",
      "text/plain": [
       "<Figure size 432x288 with 1 Axes>"
      ]
     },
     "metadata": {
      "needs_background": "light"
     },
     "output_type": "display_data"
    }
   ],
   "source": [
    "state = sim.simulate_batch(com.circuit, batch_vars=com.n_qubits)\n",
    "\n",
    "# Plot real vs imaginary parts of Qtree vs Cirq simulator results\n",
    "plt.plot(np.real(state), np.imag(state))\n",
    "plt.scatter(*[f(cirq_measure.final_state) for f in [np.real, np.imag]], c='red')\n",
    "\n",
    "# Check for correctness\n",
    "assert np.allclose(state, cirq_measure.final_state)"
   ]
  },
  {
   "cell_type": "markdown",
   "metadata": {
    "slideshow": {
     "slide_type": "slide"
    }
   },
   "source": [
    "## Use lightcone optimisaiton"
   ]
  },
  {
   "cell_type": "code",
   "execution_count": 13,
   "metadata": {
    "scrolled": true
   },
   "outputs": [],
   "source": [
    "com = QtreeQAOAComposer(G, gamma=[.1]*p, beta=[.2]*p)\n",
    "com.energy_expectation_lightcone(list(G.edges())[0])\n"
   ]
  },
  {
   "cell_type": "code",
   "execution_count": 14,
   "metadata": {},
   "outputs": [
    {
     "data": {
      "application/vnd.jupyter.widget-view+json": {
       "model_id": "9f59d07f40524fb8a5558808fd351b7a",
       "version_major": 2,
       "version_minor": 0
      },
      "text/plain": [
       "HBox(children=(FloatProgress(value=0.0, description='Edge iteration', max=7.0, style=ProgressStyle(description…"
      ]
     },
     "metadata": {},
     "output_type": "display_data"
    },
    {
     "name": "stdout",
     "output_type": "stream",
     "text": [
      "\n"
     ]
    },
    {
     "data": {
      "text/plain": [
       "array([1.80779892])"
      ]
     },
     "execution_count": 14,
     "metadata": {},
     "output_type": "execute_result"
    }
   ],
   "source": [
    "from qtensor.QAOASimulator import QAOAQtreeSimulator\n",
    "qaoa_sim = QAOAQtreeSimulator(QtreeQAOAComposer)\n",
    "\n",
    "qaoa_sim.energy_expectation(G, gamma=[.1]*p, beta=[.2]*p)"
   ]
  },
  {
   "cell_type": "markdown",
   "metadata": {
    "slideshow": {
     "slide_type": "slide"
    }
   },
   "source": [
    "### Use qiskit circuit as input"
   ]
  },
  {
   "cell_type": "code",
   "execution_count": 15,
   "metadata": {},
   "outputs": [],
   "source": [
    "from qtree.operators import from_qiskit_circuit"
   ]
  },
  {
   "cell_type": "code",
   "execution_count": 16,
   "metadata": {},
   "outputs": [
    {
     "data": {
      "text/plain": [
       "array([-0.39701423+0.22350602j])"
      ]
     },
     "execution_count": 16,
     "metadata": {},
     "output_type": "execute_result"
    }
   ],
   "source": [
    "n, qc = from_qiskit_circuit(qiskit_qaoa.circuit)\n",
    "all_gates = sum(qc, [])\n",
    "sim.simulate(all_gates)"
   ]
  },
  {
   "cell_type": "markdown",
   "metadata": {
    "slideshow": {
     "slide_type": "slide"
    }
   },
   "source": [
    "## Optimization"
   ]
  },
  {
   "cell_type": "code",
   "execution_count": 17,
   "metadata": {},
   "outputs": [],
   "source": [
    "from qtensor.optimisation.TensorNet import QtreeTensorNet\n",
    "from qtensor.optimisation.Optimizer import TreeTrimSplitter, OrderingOptimizer"
   ]
  },
  {
   "cell_type": "markdown",
   "metadata": {
    "slideshow": {
     "slide_type": "slide"
    }
   },
   "source": [
    "### Get line graph"
   ]
  },
  {
   "cell_type": "code",
   "execution_count": 18,
   "metadata": {},
   "outputs": [
    {
     "data": {
      "image/png": "[encoded data removed]",
      "text/plain": [
       "<Figure size 432x288 with 1 Axes>"
      ]
     },
     "metadata": {},
     "output_type": "display_data"
    }
   ],
   "source": [
    "tn = QtreeTensorNet.from_qtree_gates(all_gates)\n",
    "line_g = tn.get_line_graph()\n",
    "\n",
    "nx.draw_kamada_kawai(line_g, with_labels=True, node_color='yellow')"
   ]
  },
  {
   "cell_type": "markdown",
   "metadata": {
    "slideshow": {
     "slide_type": "slide"
    }
   },
   "source": [
    "### Find ordering"
   ]
  },
  {
   "cell_type": "code",
   "execution_count": 19,
   "metadata": {},
   "outputs": [
    {
     "name": "stdout",
     "output_type": "stream",
     "text": [
      "Elimination order: [i_0, i_1, i_2, i_3, i_4, o_0, o_1, o_2, o_3, o_4, v_5, v_6, v_7, v_8, v_9, v_29, v_30, v_31, v_32, v_33, v_10, v_15, v_16, v_24, v_23, v_26, v_25, v_18, v_28, v_27, v_22, v_11, v_17, v_19, v_12, v_20, v_13, v_14, v_21]\n"
     ]
    },
    {
     "data": {
      "text/plain": [
       "4"
      ]
     },
     "execution_count": 19,
     "metadata": {},
     "output_type": "execute_result"
    }
   ],
   "source": [
    "opt = OrderingOptimizer()\n",
    "peo, tn = opt.optimize(tn)\n",
    "print('Elimination order:', opt.peo)\n",
    "opt.treewidth"
   ]
  },
  {
   "cell_type": "code",
   "execution_count": 20,
   "metadata": {},
   "outputs": [
    {
     "name": "stderr",
     "output_type": "stream",
     "text": [
      "2020-10-16 01:20:14.433 | INFO     | qtensor.optimisation.Optimizer:_get_max_tw:88 - Memory available: 7727304704\n",
      "2020-10-16 01:20:14.434 | INFO     | qtensor.optimisation.Optimizer:optimize:121 - Maximum treewidth: 28\n",
      "2020-10-16 01:20:14.436 | INFO     | qtensor.optimisation.Optimizer:_split_graph:160 - Treewidth: 4\n",
      "2020-10-16 01:20:14.438 | INFO     | qtensor.optimisation.Optimizer:_split_graph:161 - Target treewidth: 2\n"
     ]
    },
    {
     "name": "stdout",
     "output_type": "stream",
     "text": [
      "Slice vars [v_14, v_12, v_13, v_11]\n"
     ]
    }
   ],
   "source": [
    "opt = TreeTrimSplitter(tw_bias=26)\n",
    "peo, slice_vars, tn = opt.optimize(tn)\n",
    "opt.treewidth\n",
    "print('Slice vars', slice_vars)"
   ]
  },
  {
   "cell_type": "code",
   "execution_count": null,
   "metadata": {},
   "outputs": [],
   "source": []
  }
 ],
 "metadata": {
  "kernelspec": {
   "display_name": "Python 3",
   "language": "python",
   "name": "python3"
  },
  "language_info": {
   "codemirror_mode": {
    "name": "ipython",
    "version": 3
   },
   "file_extension": ".py",
   "mimetype": "text/x-python",
   "name": "python",
   "nbconvert_exporter": "python",
   "pygments_lexer": "ipython3",
   "version": "3.8.2"
  },
  "toc": {
   "base_numbering": 1,
   "nav_menu": {},
   "number_sections": true,
   "sideBar": true,
   "skip_h1_title": true,
   "title_cell": "Table of Contents",
   "title_sidebar": "Contents",
   "toc_cell": true,
   "toc_position": {
    "height": "calc(100% - 180px)",
    "left": "10px",
    "top": "150px",
    "width": "165px"
   },
   "toc_section_display": true,
   "toc_window_display": false
  }
 },
 "nbformat": 4,
 "nbformat_minor": 4
}
