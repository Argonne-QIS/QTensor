{
 "cells": [
  {
   "cell_type": "markdown",
   "metadata": {
    "slideshow": {
     "slide_type": ""
    },
    "toc": true
   },
   "source": [
    "<h1>Table of Contents<span class=\"tocSkip\"></span></h1>\n",
    "<div class=\"toc\"><ul class=\"toc-item\"><li><span><a href=\"#Creating-a-circuit\" data-toc-modified-id=\"Creating-a-circuit-1\"><span class=\"toc-item-num\">1&nbsp;&nbsp;</span>Creating a circuit</a></span><ul class=\"toc-item\"><li><span><a href=\"#QAOA-problem-graph\" data-toc-modified-id=\"QAOA-problem-graph-1.1\"><span class=\"toc-item-num\">1.1&nbsp;&nbsp;</span>QAOA problem graph</a></span></li><li><span><a href=\"#Universal-interface\" data-toc-modified-id=\"Universal-interface-1.2\"><span class=\"toc-item-num\">1.2&nbsp;&nbsp;</span>Universal interface</a></span><ul class=\"toc-item\"><li><span><a href=\"#Cirq\" data-toc-modified-id=\"Cirq-1.2.1\"><span class=\"toc-item-num\">1.2.1&nbsp;&nbsp;</span>Cirq</a></span></li><li><span><a href=\"#Qiskit\" data-toc-modified-id=\"Qiskit-1.2.2\"><span class=\"toc-item-num\">1.2.2&nbsp;&nbsp;</span>Qiskit</a></span></li></ul></li></ul></li><li><span><a href=\"#Simulate-circuits\" data-toc-modified-id=\"Simulate-circuits-2\"><span class=\"toc-item-num\">2&nbsp;&nbsp;</span>Simulate circuits</a></span><ul class=\"toc-item\"><li><span><a href=\"#Using-qtree\" data-toc-modified-id=\"Using-qtree-2.1\"><span class=\"toc-item-num\">2.1&nbsp;&nbsp;</span>Using qtree</a></span></li><li><span><a href=\"#Using-Cirq\" data-toc-modified-id=\"Using-Cirq-2.2\"><span class=\"toc-item-num\">2.2&nbsp;&nbsp;</span>Using Cirq</a></span></li><li><span><a href=\"#Simulate-multiple-amplitudes\" data-toc-modified-id=\"Simulate-multiple-amplitudes-2.3\"><span class=\"toc-item-num\">2.3&nbsp;&nbsp;</span>Simulate multiple amplitudes</a></span></li></ul></li><li><span><a href=\"#Use-lightcone-optimisaiton\" data-toc-modified-id=\"Use-lightcone-optimisaiton-3\"><span class=\"toc-item-num\">3&nbsp;&nbsp;</span>Use lightcone optimisaiton</a></span><ul class=\"toc-item\"><li><span><a href=\"#Use-qiskit-circuit-as-input\" data-toc-modified-id=\"Use-qiskit-circuit-as-input-3.1\"><span class=\"toc-item-num\">3.1&nbsp;&nbsp;</span>Use qiskit circuit as input</a></span></li></ul></li><li><span><a href=\"#Optimization\" data-toc-modified-id=\"Optimization-4\"><span class=\"toc-item-num\">4&nbsp;&nbsp;</span>Optimization</a></span><ul class=\"toc-item\"><li><span><a href=\"#Get-line-graph\" data-toc-modified-id=\"Get-line-graph-4.1\"><span class=\"toc-item-num\">4.1&nbsp;&nbsp;</span>Get line graph</a></span></li><li><span><a href=\"#Find-ordering\" data-toc-modified-id=\"Find-ordering-4.2\"><span class=\"toc-item-num\">4.2&nbsp;&nbsp;</span>Find ordering</a></span></li></ul></li></ul></div>"
   ]
  },
  {
   "cell_type": "markdown",
   "metadata": {
    "slideshow": {
     "slide_type": "slide"
    }
   },
   "source": [
    "# QTensor usage"
   ]
  },
  {
   "cell_type": "markdown",
   "metadata": {
    "slideshow": {
     "slide_type": "-"
    }
   },
   "source": [
    "## Creating a circuit\n"
   ]
  },
  {
   "cell_type": "code",
   "execution_count": 2,
   "metadata": {},
   "outputs": [
    {
     "data": {
      "text/plain": [
       "{'qiskit-terra': '0.12.0',\n",
       " 'qiskit-aer': '0.4.1',\n",
       " 'qiskit-ignis': '0.2.0',\n",
       " 'qiskit-ibmq-provider': '0.6.0',\n",
       " 'qiskit-aqua': '0.6.5',\n",
       " 'qiskit': '0.17.0'}"
      ]
     },
     "execution_count": 2,
     "metadata": {},
     "output_type": "execute_result"
    }
   ],
   "source": [
    "import qiskit\n",
    "qiskit.__qiskit_version__"
   ]
  },
  {
   "cell_type": "code",
   "execution_count": 3,
   "metadata": {
    "slideshow": {
     "slide_type": "slide"
    }
   },
   "outputs": [],
   "source": [
    "# Qtensor branch: dev\n",
    "import matplotlib.pyplot as plt\n",
    "import numpy as np\n",
    "import networkx as nx\n",
    "from qensor import QAOAComposer\n",
    "from qensor import CirqQAOAComposer, QtreeQAOAComposer\n"
   ]
  },
  {
   "cell_type": "markdown",
   "metadata": {
    "slideshow": {
     "slide_type": ""
    }
   },
   "source": [
    "### QAOA problem graph"
   ]
  },
  {
   "cell_type": "code",
   "execution_count": 4,
   "metadata": {
    "scrolled": true,
    "slideshow": {
     "slide_type": ""
    }
   },
   "outputs": [
    {
     "data": {
      "image/png": "[encoded data removed]",
      "text/plain": [
       "<Figure size 432x288 with 1 Axes>"
      ]
     },
     "metadata": {},
     "output_type": "display_data"
    }
   ],
   "source": [
    "\n",
    "G = nx.erdos_renyi_graph(5, 3/(5-1))\n",
    "nx.draw_kamada_kawai(G)"
   ]
  },
  {
   "cell_type": "markdown",
   "metadata": {
    "slideshow": {
     "slide_type": "slide"
    }
   },
   "source": [
    "### Universal interface\n",
    "#### Cirq"
   ]
  },
  {
   "cell_type": "code",
   "execution_count": 5,
   "metadata": {},
   "outputs": [
    {
     "data": {
      "text/html": [
       "<pre style=\"overflow: auto; white-space: pre;\">          ┌──┐           ┌──┐   ┌──┐           ┌──┐\n",
       "0: ───H────@──────────────@──────@──────────────@─────X^0.4───────────────────────────────────────────────────────────\n",
       "           │              │      │              │\n",
       "1: ───H────┼@─────────────┼@─────┼@─────────────┼@────X^0.4───────────────────────────────────────────────────────────\n",
       "           ││             ││     ││             ││\n",
       "2: ───H────┼X────Z^0.2────┼X─────┼┼─────────────┼┼────@───────────────@───@───────────@───X^0.4───────────────────────\n",
       "           │              │      ││             ││    │               │   │           │\n",
       "3: ───H────X─────Z^0.2────X──────┼X────Z^0.2────┼X────X───────Z^0.2───X───┼───────────┼───@───────────────@───X^0.4───\n",
       "                                 │              │                         │           │   │               │\n",
       "4: ───H──────────────────────────X─────Z^0.2────X─────────────────────────X───Z^0.2───X───X───────Z^0.2───X───X^0.4───\n",
       "          └──┘           └──┘   └──┘           └──┘</pre>"
      ],
      "text/plain": [
       "          ┌──┐           ┌──┐   ┌──┐           ┌──┐\n",
       "0: ───H────@──────────────@──────@──────────────@─────X^0.4───────────────────────────────────────────────────────────\n",
       "           │              │      │              │\n",
       "1: ───H────┼@─────────────┼@─────┼@─────────────┼@────X^0.4───────────────────────────────────────────────────────────\n",
       "           ││             ││     ││             ││\n",
       "2: ───H────┼X────Z^0.2────┼X─────┼┼─────────────┼┼────@───────────────@───@───────────@───X^0.4───────────────────────\n",
       "           │              │      ││             ││    │               │   │           │\n",
       "3: ───H────X─────Z^0.2────X──────┼X────Z^0.2────┼X────X───────Z^0.2───X───┼───────────┼───@───────────────@───X^0.4───\n",
       "                                 │              │                         │           │   │               │\n",
       "4: ───H──────────────────────────X─────Z^0.2────X─────────────────────────X───Z^0.2───X───X───────Z^0.2───X───X^0.4───\n",
       "          └──┘           └──┘   └──┘           └──┘"
      ]
     },
     "execution_count": 5,
     "metadata": {},
     "output_type": "execute_result"
    }
   ],
   "source": [
    "p = 1\n",
    "cirq_qaoa = CirqQAOAComposer(G, gamma=[.1]*p, beta=[.2]*p)\n",
    "cirq_qaoa.ansatz_state()\n",
    "cirq_qaoa.circuit"
   ]
  },
  {
   "cell_type": "markdown",
   "metadata": {
    "slideshow": {
     "slide_type": "slide"
    }
   },
   "source": [
    "#### Qiskit"
   ]
  },
  {
   "cell_type": "code",
   "execution_count": 6,
   "metadata": {},
   "outputs": [
    {
     "data": {
      "text/plain": [
       "(__main__.QiskitQAOAComposer,\n",
       " qensor.CircuitComposer.QAOAComposer,\n",
       " qensor.CircuitComposer.CircuitComposer,\n",
       " qensor.OpFactory.QiskitCreator,\n",
       " qensor.OpFactory.CircuitCreator,\n",
       " object)"
      ]
     },
     "execution_count": 6,
     "metadata": {},
     "output_type": "execute_result"
    }
   ],
   "source": [
    "from qensor import QiskitCreator\n",
    "\n",
    "# Add methods from QiskitCreator to QAOAComposer\n",
    "class QiskitQAOAComposer(QAOAComposer, QiskitCreator):\n",
    "    pass\n",
    "QiskitQAOAComposer.__mro__"
   ]
  },
  {
   "cell_type": "code",
   "execution_count": 7,
   "metadata": {
    "scrolled": true,
    "slideshow": {
     "slide_type": "slide"
    }
   },
   "outputs": [
    {
     "data": {
      "image/png": "[encoded data removed]",
      "text/plain": [
       "<Figure size 1442.39x385.28 with 1 Axes>"
      ]
     },
     "execution_count": 7,
     "metadata": {},
     "output_type": "execute_result"
    }
   ],
   "source": [
    "p = 1\n",
    "qiskit_qaoa = QiskitQAOAComposer(G, gamma=[.1]*p, beta=[.2]*p)\n",
    "qiskit_qaoa.ansatz_state()\n",
    "qiskit_qaoa.circuit.draw('mpl')"
   ]
  },
  {
   "cell_type": "markdown",
   "metadata": {
    "slideshow": {
     "slide_type": "slide"
    }
   },
   "source": [
    "## Simulate circuits\n",
    "### Using qtree"
   ]
  },
  {
   "cell_type": "code",
   "execution_count": 8,
   "metadata": {},
   "outputs": [],
   "source": [
    "from qensor import QtreeSimulator"
   ]
  },
  {
   "cell_type": "code",
   "execution_count": 9,
   "metadata": {
    "scrolled": true
   },
   "outputs": [
    {
     "data": {
      "text/plain": [
       "[H(0),\n",
       " H(1),\n",
       " H(2),\n",
       " H(3),\n",
       " H(4),\n",
       " cX(0,3),\n",
       " ZPhase[alpha=0.20](3),\n",
       " cX(0,3),\n",
       " cX(0,4),\n",
       " ZPhase[alpha=0.20](4),\n",
       " cX(0,4),\n",
       " cX(1,2),\n",
       " ZPhase[alpha=0.20](2),\n",
       " cX(1,2),\n",
       " cX(1,3),\n",
       " ZPhase[alpha=0.20](3),\n",
       " cX(1,3),\n",
       " cX(2,3),\n",
       " ZPhase[alpha=0.20](3),\n",
       " cX(2,3),\n",
       " cX(2,4),\n",
       " ZPhase[alpha=0.20](4),\n",
       " cX(2,4),\n",
       " cX(3,4),\n",
       " ZPhase[alpha=0.20](4),\n",
       " cX(3,4),\n",
       " XPhase[alpha=0.40](0),\n",
       " XPhase[alpha=0.40](1),\n",
       " XPhase[alpha=0.40](2),\n",
       " XPhase[alpha=0.40](3),\n",
       " XPhase[alpha=0.40](4)]"
      ]
     },
     "execution_count": 9,
     "metadata": {},
     "output_type": "execute_result"
    }
   ],
   "source": [
    "com = QtreeQAOAComposer(G, gamma=[.1]*p, beta=[.2]*p)\n",
    "com.ansatz_state()"
   ]
  },
  {
   "cell_type": "code",
   "execution_count": 10,
   "metadata": {},
   "outputs": [
    {
     "data": {
      "text/plain": [
       "array([-0.39701423+0.22350602j])"
      ]
     },
     "execution_count": 10,
     "metadata": {},
     "output_type": "execute_result"
    }
   ],
   "source": [
    "sim = QtreeSimulator()\n",
    "first_amp = sim.simulate(com.circuit)\n",
    "\n",
    "first_amp"
   ]
  },
  {
   "cell_type": "markdown",
   "metadata": {
    "slideshow": {
     "slide_type": "slide"
    }
   },
   "source": [
    "### Using Cirq"
   ]
  },
  {
   "cell_type": "code",
   "execution_count": 11,
   "metadata": {},
   "outputs": [],
   "source": [
    "from qensor import CirqSimulator"
   ]
  },
  {
   "cell_type": "code",
   "execution_count": 12,
   "metadata": {},
   "outputs": [
    {
     "data": {
      "text/plain": [
       "(-0.3970142+0.22350594j)"
      ]
     },
     "execution_count": 12,
     "metadata": {},
     "output_type": "execute_result"
    }
   ],
   "source": [
    "cirq_sim = CirqSimulator()\n",
    "cirq_measure = cirq_sim.simulate(cirq_qaoa.circuit)\n",
    "\n",
    "cirq_first_amp = cirq_measure.final_state[0]\n",
    "cirq_first_amp"
   ]
  },
  {
   "cell_type": "markdown",
   "metadata": {
    "slideshow": {
     "slide_type": "slide"
    }
   },
   "source": [
    "### Simulate multiple amplitudes"
   ]
  },
  {
   "cell_type": "code",
   "execution_count": 13,
   "metadata": {},
   "outputs": [
    {
     "data": {
      "image/png": "[encoded data removed]",
      "text/plain": [
       "<Figure size 432x288 with 1 Axes>"
      ]
     },
     "metadata": {
      "needs_background": "light"
     },
     "output_type": "display_data"
    }
   ],
   "source": [
    "state = sim.simulate_batch(com.circuit, batch_vars=com.n_qubits)\n",
    "\n",
    "# Plot real vs imaginary parts of Qtree vs Cirq simulator results\n",
    "plt.plot(np.real(state), np.imag(state))\n",
    "plt.scatter(*[f(cirq_measure.final_state) for f in [np.real, np.imag]], c='red')\n",
    "\n",
    "# Check for correctness\n",
    "assert np.allclose(state, cirq_measure.final_state)"
   ]
  },
  {
   "cell_type": "markdown",
   "metadata": {
    "slideshow": {
     "slide_type": "slide"
    }
   },
   "source": [
    "## Use lightcone optimisaiton"
   ]
  },
  {
   "cell_type": "code",
   "execution_count": 46,
   "metadata": {
    "scrolled": true
   },
   "outputs": [],
   "source": [
    "com = QtreeQAOAComposer(G, gamma=[.1]*p, beta=[.2]*p)\n",
    "com.energy_expectation_lightcone(list(G.edges())[0])\n"
   ]
  },
  {
   "cell_type": "code",
   "execution_count": 51,
   "metadata": {},
   "outputs": [
    {
     "name": "stderr",
     "output_type": "stream",
     "text": [
      "Edge iteration: 100%|██████████| 7/7 [00:00<00:00, 25.81it/s]\n"
     ]
    },
    {
     "data": {
      "text/plain": [
       "array([1.80779892])"
      ]
     },
     "execution_count": 51,
     "metadata": {},
     "output_type": "execute_result"
    }
   ],
   "source": [
    "from qensor.QAOASimulator import QAOAQtreeSimulator\n",
    "qaoa_sim = QAOAQtreeSimulator(QtreeQAOAComposer)\n",
    "\n",
    "qaoa_sim.energy_expectation(G, gamma=[.1]*p, beta=[.2]*p)"
   ]
  },
  {
   "cell_type": "markdown",
   "metadata": {
    "slideshow": {
     "slide_type": "slide"
    }
   },
   "source": [
    "### Use qiskit circuit as input"
   ]
  },
  {
   "cell_type": "code",
   "execution_count": 14,
   "metadata": {},
   "outputs": [],
   "source": [
    "from qtree.operators import from_qiskit_circuit"
   ]
  },
  {
   "cell_type": "code",
   "execution_count": 15,
   "metadata": {},
   "outputs": [
    {
     "data": {
      "text/plain": [
       "array([-0.39701423+0.22350602j])"
      ]
     },
     "execution_count": 15,
     "metadata": {},
     "output_type": "execute_result"
    }
   ],
   "source": [
    "n, qc = from_qiskit_circuit(qiskit_qaoa.circuit)\n",
    "all_gates = sum(qc, [])\n",
    "sim.simulate(all_gates)"
   ]
  },
  {
   "cell_type": "markdown",
   "metadata": {
    "slideshow": {
     "slide_type": "slide"
    }
   },
   "source": [
    "## Optimization"
   ]
  },
  {
   "cell_type": "code",
   "execution_count": 29,
   "metadata": {},
   "outputs": [],
   "source": [
    "from qensor.optimisation.TensorNet import QtreeTensorNet\n",
    "from qensor.optimisation.Optimizer import TreeTrimSplitter, OrderingOptimizer"
   ]
  },
  {
   "cell_type": "markdown",
   "metadata": {
    "slideshow": {
     "slide_type": "slide"
    }
   },
   "source": [
    "### Get line graph"
   ]
  },
  {
   "cell_type": "code",
   "execution_count": 24,
   "metadata": {},
   "outputs": [
    {
     "data": {
      "image/png": "[encoded data removed]",
      "text/plain": [
       "<Figure size 432x288 with 1 Axes>"
      ]
     },
     "metadata": {},
     "output_type": "display_data"
    }
   ],
   "source": [
    "tn = QtreeTensorNet.from_qtree_gates(all_gates)\n",
    "line_g = tn.get_line_graph()\n",
    "\n",
    "nx.draw_kamada_kawai(line_g, with_labels=True, node_color='yellow')"
   ]
  },
  {
   "cell_type": "markdown",
   "metadata": {
    "slideshow": {
     "slide_type": "slide"
    }
   },
   "source": [
    "### Find ordering"
   ]
  },
  {
   "cell_type": "code",
   "execution_count": 39,
   "metadata": {},
   "outputs": [
    {
     "name": "stdout",
     "output_type": "stream",
     "text": [
      "Elimination order: [i_0, i_1, i_2, i_3, i_4, o_0, o_1, o_2, o_3, o_4, v_5, v_6, v_7, v_8, v_9, v_29, v_30, v_31, v_32, v_33, v_10, v_15, v_16, v_24, v_23, v_26, v_25, v_18, v_28, v_27, v_22, v_11, v_17, v_19, v_12, v_20, v_13, v_14, v_21]\n"
     ]
    },
    {
     "data": {
      "text/plain": [
       "4"
      ]
     },
     "execution_count": 39,
     "metadata": {},
     "output_type": "execute_result"
    }
   ],
   "source": [
    "opt = OrderingOptimizer()\n",
    "peo, tn = opt.optimize(tn)\n",
    "print('Elimination order:', opt.peo)\n",
    "opt.treewidth"
   ]
  },
  {
   "cell_type": "code",
   "execution_count": 41,
   "metadata": {},
   "outputs": [
    {
     "name": "stderr",
     "output_type": "stream",
     "text": [
      "2020-09-08 14:27:13.965 | INFO     | qensor.optimisation.Optimizer:_get_max_tw:85 - Memory available: 6761467904\n",
      "2020-09-08 14:27:13.969 | INFO     | qensor.optimisation.Optimizer:optimize:118 - Maximum treewidth: 28\n",
      "2020-09-08 14:27:13.973 | INFO     | qensor.optimisation.Optimizer:_split_graph:157 - Treewidth: 4\n",
      "2020-09-08 14:27:13.977 | INFO     | qensor.optimisation.Optimizer:_split_graph:158 - Target treewidth: 2\n"
     ]
    },
    {
     "name": "stdout",
     "output_type": "stream",
     "text": [
      "Slice vars [v_14, v_12, v_13, v_11]\n"
     ]
    }
   ],
   "source": [
    "opt = TreeTrimSplitter(tw_bias=26)\n",
    "peo, slice_vars, tn = opt.optimize(tn)\n",
    "opt.treewidth\n",
    "print('Slice vars', slice_vars)"
   ]
  },
  {
   "cell_type": "code",
   "execution_count": null,
   "metadata": {},
   "outputs": [],
   "source": [
    "d"
   ]
  }
 ],
 "metadata": {
  "kernelspec": {
   "display_name": "Python 3",
   "language": "python",
   "name": "python3"
  },
  "language_info": {
   "codemirror_mode": {
    "name": "ipython",
    "version": 3
   },
   "file_extension": ".py",
   "mimetype": "text/x-python",
   "name": "python",
   "nbconvert_exporter": "python",
   "pygments_lexer": "ipython3",
   "version": "3.8.2"
  },
  "toc": {
   "base_numbering": 1,
   "nav_menu": {},
   "number_sections": true,
   "sideBar": true,
   "skip_h1_title": true,
   "title_cell": "Table of Contents",
   "title_sidebar": "Contents",
   "toc_cell": true,
   "toc_position": {
    "height": "calc(100% - 180px)",
    "left": "10px",
    "top": "150px",
    "width": "165px"
   },
   "toc_section_display": true,
   "toc_window_display": false
  }
 },
 "nbformat": 4,
 "nbformat_minor": 4
}
