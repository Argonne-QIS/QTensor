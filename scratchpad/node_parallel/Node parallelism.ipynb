{
 "cells": [
  {
   "cell_type": "markdown",
   "metadata": {
    "toc": true
   },
   "source": [
    "<h1>Table of Contents<span class=\"tocSkip\"></span></h1>\n",
    "<div class=\"toc\"><ul class=\"toc-item\"><li><span><a href=\"#Slice-specified-nodes-in-dimspec\" data-toc-modified-id=\"Slice-specified-nodes-in-dimspec-1\"><span class=\"toc-item-num\">1&nbsp;&nbsp;</span>Slice specified nodes in dimspec</a></span></li><li><span><a href=\"#Test-parallelism\" data-toc-modified-id=\"Test-parallelism-2\"><span class=\"toc-item-num\">2&nbsp;&nbsp;</span>Test parallelism</a></span><ul class=\"toc-item\"><li><ul class=\"toc-item\"><li><span><a href=\"#Example-task\" data-toc-modified-id=\"Example-task-2.0.1\"><span class=\"toc-item-num\">2.0.1&nbsp;&nbsp;</span>Example task</a></span></li></ul></li><li><span><a href=\"#Serial-invocation\" data-toc-modified-id=\"Serial-invocation-2.1\"><span class=\"toc-item-num\">2.1&nbsp;&nbsp;</span>Serial invocation</a></span><ul class=\"toc-item\"><li><span><a href=\"#Maybe-sqash-dimensions-to-fit-into-einsum?\" data-toc-modified-id=\"Maybe-sqash-dimensions-to-fit-into-einsum?-2.1.1\"><span class=\"toc-item-num\">2.1.1&nbsp;&nbsp;</span>Maybe sqash dimensions to fit into einsum?</a></span></li><li><span><a href=\"#Many-var-parallelisation\" data-toc-modified-id=\"Many-var-parallelisation-2.1.2\"><span class=\"toc-item-num\">2.1.2&nbsp;&nbsp;</span>Many var parallelisation</a></span></li></ul></li><li><span><a href=\"#Plot-parallelisation-theoretical-speedup\" data-toc-modified-id=\"Plot-parallelisation-theoretical-speedup-2.2\"><span class=\"toc-item-num\">2.2&nbsp;&nbsp;</span>Plot parallelisation theoretical speedup</a></span></li><li><span><a href=\"#Use-unix-tools\" data-toc-modified-id=\"Use-unix-tools-2.3\"><span class=\"toc-item-num\">2.3&nbsp;&nbsp;</span>Use unix tools</a></span><ul class=\"toc-item\"><li><span><a href=\"#Threading\" data-toc-modified-id=\"Threading-2.3.1\"><span class=\"toc-item-num\">2.3.1&nbsp;&nbsp;</span>Threading</a></span></li><li><span><a href=\"#Multiprocessing\" data-toc-modified-id=\"Multiprocessing-2.3.2\"><span class=\"toc-item-num\">2.3.2&nbsp;&nbsp;</span>Multiprocessing</a></span></li></ul></li></ul></li></ul></div>"
   ]
  },
  {
   "cell_type": "code",
   "execution_count": 84,
   "metadata": {
    "ExecuteTime": {
     "end_time": "2020-03-20T01:19:50.473183Z",
     "start_time": "2020-03-20T01:19:50.409053Z"
    }
   },
   "outputs": [],
   "source": [
    "#import ray\n",
    "import pyrofiler as pyrof\n",
    "from pyrofiler.pyrofiler import Profiler\n",
    "from pyrofiler import callbacks\n",
    "import matplotlib.pyplot as plt\n",
    "import matplotlib.pyplot as plt\n",
    "import seaborn as sns\n",
    "import numpy as np\n",
    "import sys\n",
    "from multiprocessing import Pool, Array\n",
    "from multiprocessing.dummy import Pool as ThreadPool\n",
    "import os\n",
    "sns.set_style('whitegrid')\n",
    "np.random.seed(42)\n",
    "def work(arg):\n",
    "    i,x,y, par_vars, result_idx=  arg\n",
    "    patch = sliced_contract(x, y, par_vars, i)\n",
    "    sl = target_slice(result_idx, par_vars, i)\n",
    "pool = ThreadPool(processes=2**7)"
   ]
  },
  {
   "cell_type": "markdown",
   "metadata": {},
   "source": [
    "# Slice specified nodes in dimspec"
   ]
  },
  {
   "cell_type": "code",
   "execution_count": 85,
   "metadata": {
    "ExecuteTime": {
     "end_time": "2020-03-20T01:19:50.482761Z",
     "start_time": "2020-03-20T01:19:50.475098Z"
    }
   },
   "outputs": [],
   "source": [
    "def _none_slice():\n",
    "    return slice(None)\n",
    "\n",
    "def _get_idx(x, idxs, slice_idx, shapes=None):\n",
    "    if shapes is None:\n",
    "        shapes = [2]*len(idxs)\n",
    "    point = np.unravel_index(slice_idx, shapes)\n",
    "    get_point = {i:p for i,p in zip(idxs, point)}\n",
    "    if x in idxs:\n",
    "        p = get_point[x]\n",
    "        return slice(p,p+1)\n",
    "    else:\n",
    "        return _none_slice()\n",
    "\n",
    "def _slices_for_idxs(idxs, *args, shapes=None, slice_idx=0):\n",
    "    \"\"\"Return array of slices along idxs\"\"\"\n",
    "    slices = []\n",
    "    for indexes in args:\n",
    "        _slice = [_get_idx(x, idxs, slice_idx, shapes) for x in indexes ]\n",
    "        slices.append(tuple(_slice))\n",
    "    return slices\n",
    "        "
   ]
  },
  {
   "cell_type": "code",
   "execution_count": 86,
   "metadata": {
    "ExecuteTime": {
     "end_time": "2020-03-20T01:19:50.490151Z",
     "start_time": "2020-03-20T01:19:50.484948Z"
    }
   },
   "outputs": [],
   "source": [
    "def log_log_scale():\n",
    "    plt.yscale('log')\n",
    "    plt.xscale('log')\n",
    "    \n",
    "def minorticks():\n",
    "    plt.minorticks_on()\n",
    "    plt.grid(which='minor', alpha=0.5, linestyle='-', axis='both')"
   ]
  },
  {
   "cell_type": "markdown",
   "metadata": {},
   "source": [
    "# Test parallelism\n",
    "### Example task"
   ]
  },
  {
   "cell_type": "code",
   "execution_count": 87,
   "metadata": {
    "ExecuteTime": {
     "end_time": "2020-03-20T01:19:50.615984Z",
     "start_time": "2020-03-20T01:19:50.558173Z"
    }
   },
   "outputs": [
    {
     "data": {
      "text/plain": [
       "([0, 1, 2, 3, 4, 5, 6, 7, 8, 9, 10, 11, 12, 13, 14, 15, 16, 17, 18],\n",
       " [0, 1, 2, 3, 4, 5, 6, 7, 8, 19, 20, 21, 22, 23, 24, 25])"
      ]
     },
     "execution_count": 87,
     "metadata": {},
     "output_type": "execute_result"
    }
   ],
   "source": [
    "def get_example_task(A=8, B=10, C=7, dim1=0):\n",
    "    shape1 = [2]*(A+B)\n",
    "    shape2 = [2]*(A+C)\n",
    "    for i in range(dim1):\n",
    "        shape1[-i] = 1\n",
    "        shape2[-i] = 1\n",
    "\n",
    "    T1 = np.random.randn(*shape1)\n",
    "    T2 = np.random.randn(*shape2)\n",
    "    common = list(range(A))\n",
    "    idxs1 = common + list(range(A, A+B))\n",
    "    idxs2 = common + list(range(A+B, A+B+C))\n",
    "    return (T1, idxs1), (T2, idxs2)\n",
    "\n",
    "x, y = get_example_task(A=9)\n",
    "x[1], y[1]"
   ]
  },
  {
   "cell_type": "markdown",
   "metadata": {},
   "source": [
    "## Serial invocation"
   ]
  },
  {
   "cell_type": "code",
   "execution_count": 88,
   "metadata": {
    "ExecuteTime": {
     "end_time": "2020-03-20T01:19:51.431678Z",
     "start_time": "2020-03-20T01:19:50.619908Z"
    }
   },
   "outputs": [
    {
     "name": "stdout",
     "output_type": "stream",
     "text": [
      "contract result idx {0, 1, 2, 3, 4, 5, 6, 7, 8, 9, 10, 11, 12, 13, 14, 15, 16, 17, 18, 19, 20, 21, 22, 23, 24, 25}\n",
      "contract : 0.7865877151489258\n"
     ]
    }
   ],
   "source": [
    "def contract(A, B):\n",
    "    a, idxa = A\n",
    "    b, idxb = B\n",
    "    contract_idx = set(idxa) & set(idxb)\n",
    "    result_idx = set(idxa + idxb)\n",
    "    print('contract result idx',result_idx)\n",
    "    C = np.einsum(a,idxa, b,idxb, result_idx)\n",
    "    return C\n",
    "\n",
    "def sliced_contract(x, y, idxs, num):\n",
    "    slices = _slices_for_idxs(idxs, x[1], y[1], slice_idx=num)\n",
    "    a = x[0][slices[0]]\n",
    "    b = y[0][slices[1]]\n",
    "    with pyrof.timing(f'\\tcontract sliced {num}'):\n",
    "        C = contract((a, x[1]), (b, y[1]))\n",
    "    return C\n",
    "\n",
    "def target_slice(result_idx, idxs, num):\n",
    "    slices = _slices_for_idxs(idxs, result_idx, slice_idx=num)\n",
    "    return slices\n",
    "\n",
    "with pyrof.timing('contract'):\n",
    "    C = contract(x, y)"
   ]
  },
  {
   "cell_type": "markdown",
   "metadata": {
    "heading_collapsed": true
   },
   "source": [
    "### Maybe sqash dimensions to fit into einsum?"
   ]
  },
  {
   "cell_type": "code",
   "execution_count": 89,
   "metadata": {
    "ExecuteTime": {
     "end_time": "2020-03-20T01:19:51.454261Z",
     "start_time": "2020-03-20T01:19:51.434193Z"
    },
    "hidden": true,
    "lines_to_next_cell": 2
   },
   "outputs": [],
   "source": [
    "def __contract_bound(A, B):\n",
    "    a, idxa = A\n",
    "    b, idxb = B\n",
    "    contract_idx = set(idxa) & set(idxb)\n",
    "    def glue_first(shape):\n",
    "        sh = [shape[0] * shape[1]] + list(shape[2:])\n",
    "        return sh\n",
    "    \n",
    "    result_idx = set(idxa + idxb)\n",
    "    _map_a = {k:v for k,v in zip(idxa, a.shape)}\n",
    "    _map_b = {k:v for k,v in zip(idxb, b.shape)}\n",
    "    _map = {**_map_a, **_map_b}\n",
    "    print(_map)\n",
    "    result_idx = sorted(tuple(_map.keys()))\n",
    "    target_shape = tuple([_map[i] for i in result_idx])\n",
    "    \n",
    "    \n",
    "            \n",
    "    _dimlen = len(result_idx)\n",
    "    _maxdims = 22\n",
    "    print('dimlen',_dimlen)\n",
    "    new_a, new_b = a.shape, b.shape\n",
    "    if _dimlen>_maxdims:\n",
    "        _contr_dim = _dimlen - _maxdims\n",
    "        print(len(new_a), len(new_b))\n",
    "        for i in range(_contr_dim):\n",
    "            idxa = idxa[1:]\n",
    "            idxb = idxb[1:]\n",
    "                    \n",
    "            new_a = glue_first(new_a)\n",
    "            new_b = glue_first(new_b)\n",
    "            \n",
    "    _map_a = {k:v for k,v in zip(idxa, a.shape)}\n",
    "    _map_b = {k:v for k,v in zip(idxb, b.shape)}\n",
    "    _map = {**_map_a, **_map_b}\n",
    "    print(_map)\n",
    "    result_idx = sorted(tuple(_map.keys()))\n",
    "    print(len(new_a), len(new_b))\n",
    "    a = a.reshape(new_a)\n",
    "    b = b.reshape(new_b)\n",
    "    print(a.shape, b.shape)\n",
    "    print(idxa, idxb)\n",
    "    print('btsh',result_idx, target_shape)\n",
    "        \n",
    "        \n",
    "    C = np.einsum(a,idxa, b,idxb, result_idx)\n",
    "    \n",
    "    return C.reshape(*target_shape)\n",
    "\n",
    "def __add_dims(x, dims, ofs):\n",
    "    arr, idxs = x\n",
    "    arr = arr.reshape(list(arr.shape) + [1]*dims)\n",
    "    md = max(idxs)\n",
    "    return arr, idxs + list(range(md+ofs, ofs+md+dims)) \n"
   ]
  },
  {
   "cell_type": "code",
   "execution_count": null,
   "metadata": {
    "hidden": true
   },
   "outputs": [],
   "source": [
    " \n"
   ]
  },
  {
   "cell_type": "markdown",
   "metadata": {},
   "source": [
    "### Many var parallelisation"
   ]
  },
  {
   "cell_type": "code",
   "execution_count": 90,
   "metadata": {
    "ExecuteTime": {
     "end_time": "2020-03-20T01:19:55.576431Z",
     "start_time": "2020-03-20T01:19:51.456405Z"
    },
    "lines_to_next_cell": 0
   },
   "outputs": [
    {
     "name": "stdout",
     "output_type": "stream",
     "text": [
      "contract result idx {0, 1, 2, 3, 4, 5, 6, 7, 8, 9, 10, 11, 12, 13, 14, 15, 16, 17, 18, 19, 20, 21, 22, 23, 24, 25}\n",
      "contract result idx {0, 1, 2, 3, 4, 5, 6, 7, 8, 9, 10, 11, 12, 13, 14, 15, 16, 17, 18, 19, 20, 21, 22, 23, 24, 25}\n"
     ]
    },
    {
     "ename": "KeyboardInterrupt",
     "evalue": "",
     "output_type": "error",
     "traceback": [
      "\u001b[0;31m---------------------------------------------------------------------------\u001b[0m",
      "\u001b[0;31mKeyboardInterrupt\u001b[0m                         Traceback (most recent call last)",
      "\u001b[0;32m<ipython-input-90-18cc28f0aae7>\u001b[0m in \u001b[0;36m<module>\u001b[0;34m\u001b[0m\n\u001b[1;32m      9\u001b[0m \u001b[0;32mfor\u001b[0m \u001b[0mrank\u001b[0m \u001b[0;32min\u001b[0m \u001b[0mrange\u001b[0m\u001b[0;34m(\u001b[0m\u001b[0;36m1\u001b[0m\u001b[0;34m,\u001b[0m\u001b[0;36m7\u001b[0m\u001b[0;34m)\u001b[0m\u001b[0;34m:\u001b[0m\u001b[0;34m\u001b[0m\u001b[0;34m\u001b[0m\u001b[0m\n\u001b[1;32m     10\u001b[0m     \u001b[0;32mwith\u001b[0m \u001b[0mprof_seq\u001b[0m\u001b[0;34m.\u001b[0m\u001b[0mtiming\u001b[0m\u001b[0;34m(\u001b[0m\u001b[0;34m'Single thread'\u001b[0m\u001b[0;34m)\u001b[0m\u001b[0;34m:\u001b[0m\u001b[0;34m\u001b[0m\u001b[0;34m\u001b[0m\u001b[0m\n\u001b[0;32m---> 11\u001b[0;31m         \u001b[0mC\u001b[0m \u001b[0;34m=\u001b[0m \u001b[0mcontract\u001b[0m\u001b[0;34m(\u001b[0m\u001b[0mx\u001b[0m\u001b[0;34m,\u001b[0m\u001b[0my\u001b[0m\u001b[0;34m)\u001b[0m\u001b[0;34m\u001b[0m\u001b[0;34m\u001b[0m\u001b[0m\n\u001b[0m\u001b[1;32m     12\u001b[0m \u001b[0;34m\u001b[0m\u001b[0m\n\u001b[1;32m     13\u001b[0m     \u001b[0mpar_vars\u001b[0m \u001b[0;34m=\u001b[0m \u001b[0mlist\u001b[0m\u001b[0;34m(\u001b[0m\u001b[0mrange\u001b[0m\u001b[0;34m(\u001b[0m\u001b[0mrank\u001b[0m\u001b[0;34m)\u001b[0m\u001b[0;34m)\u001b[0m\u001b[0;34m\u001b[0m\u001b[0;34m\u001b[0m\u001b[0m\n",
      "\u001b[0;32m<ipython-input-88-746806293e80>\u001b[0m in \u001b[0;36mcontract\u001b[0;34m(A, B)\u001b[0m\n\u001b[1;32m      5\u001b[0m     \u001b[0mresult_idx\u001b[0m \u001b[0;34m=\u001b[0m \u001b[0mset\u001b[0m\u001b[0;34m(\u001b[0m\u001b[0midxa\u001b[0m \u001b[0;34m+\u001b[0m \u001b[0midxb\u001b[0m\u001b[0;34m)\u001b[0m\u001b[0;34m\u001b[0m\u001b[0;34m\u001b[0m\u001b[0m\n\u001b[1;32m      6\u001b[0m     \u001b[0mprint\u001b[0m\u001b[0;34m(\u001b[0m\u001b[0;34m'contract result idx'\u001b[0m\u001b[0;34m,\u001b[0m\u001b[0mresult_idx\u001b[0m\u001b[0;34m)\u001b[0m\u001b[0;34m\u001b[0m\u001b[0;34m\u001b[0m\u001b[0m\n\u001b[0;32m----> 7\u001b[0;31m     \u001b[0mC\u001b[0m \u001b[0;34m=\u001b[0m \u001b[0mnp\u001b[0m\u001b[0;34m.\u001b[0m\u001b[0meinsum\u001b[0m\u001b[0;34m(\u001b[0m\u001b[0ma\u001b[0m\u001b[0;34m,\u001b[0m\u001b[0midxa\u001b[0m\u001b[0;34m,\u001b[0m \u001b[0mb\u001b[0m\u001b[0;34m,\u001b[0m\u001b[0midxb\u001b[0m\u001b[0;34m,\u001b[0m \u001b[0mresult_idx\u001b[0m\u001b[0;34m)\u001b[0m\u001b[0;34m\u001b[0m\u001b[0;34m\u001b[0m\u001b[0m\n\u001b[0m\u001b[1;32m      8\u001b[0m     \u001b[0;32mreturn\u001b[0m \u001b[0mC\u001b[0m\u001b[0;34m\u001b[0m\u001b[0;34m\u001b[0m\u001b[0m\n\u001b[1;32m      9\u001b[0m \u001b[0;34m\u001b[0m\u001b[0m\n",
      "\u001b[0;32m<__array_function__ internals>\u001b[0m in \u001b[0;36meinsum\u001b[0;34m(*args, **kwargs)\u001b[0m\n",
      "\u001b[0;32m~/.local/lib/python3.7/site-packages/numpy/core/einsumfunc.py\u001b[0m in \u001b[0;36meinsum\u001b[0;34m(*operands, **kwargs)\u001b[0m\n\u001b[1;32m   1354\u001b[0m     \u001b[0;31m# If no optimization, run pure einsum\u001b[0m\u001b[0;34m\u001b[0m\u001b[0;34m\u001b[0m\u001b[0;34m\u001b[0m\u001b[0m\n\u001b[1;32m   1355\u001b[0m     \u001b[0;32mif\u001b[0m \u001b[0moptimize_arg\u001b[0m \u001b[0;32mis\u001b[0m \u001b[0;32mFalse\u001b[0m\u001b[0;34m:\u001b[0m\u001b[0;34m\u001b[0m\u001b[0;34m\u001b[0m\u001b[0m\n\u001b[0;32m-> 1356\u001b[0;31m         \u001b[0;32mreturn\u001b[0m \u001b[0mc_einsum\u001b[0m\u001b[0;34m(\u001b[0m\u001b[0;34m*\u001b[0m\u001b[0moperands\u001b[0m\u001b[0;34m,\u001b[0m \u001b[0;34m**\u001b[0m\u001b[0mkwargs\u001b[0m\u001b[0;34m)\u001b[0m\u001b[0;34m\u001b[0m\u001b[0;34m\u001b[0m\u001b[0m\n\u001b[0m\u001b[1;32m   1357\u001b[0m \u001b[0;34m\u001b[0m\u001b[0m\n\u001b[1;32m   1358\u001b[0m     \u001b[0mvalid_einsum_kwargs\u001b[0m \u001b[0;34m=\u001b[0m \u001b[0;34m[\u001b[0m\u001b[0;34m'out'\u001b[0m\u001b[0;34m,\u001b[0m \u001b[0;34m'dtype'\u001b[0m\u001b[0;34m,\u001b[0m \u001b[0;34m'order'\u001b[0m\u001b[0;34m,\u001b[0m \u001b[0;34m'casting'\u001b[0m\u001b[0;34m]\u001b[0m\u001b[0;34m\u001b[0m\u001b[0;34m\u001b[0m\u001b[0m\n",
      "\u001b[0;31mKeyboardInterrupt\u001b[0m: "
     ]
    }
   ],
   "source": [
    "prof_seq = Profiler()\n",
    "prof_seq.use_append()\n",
    "\n",
    "contract_idx = set(x[1]) & set(y[1])\n",
    "result_idx = set(x[1] + y[1])\n",
    "\n",
    "for i in range(1):\n",
    "    _ = contract(x,y)\n",
    "for rank in range(1,7):\n",
    "    with prof_seq.timing('Single thread'):\n",
    "        C = contract(x,y)\n",
    "    \n",
    "    par_vars = list(range(rank))\n",
    "    target_shape = C.shape\n",
    "\n",
    "    with prof_seq.timing('One patch: total'):\n",
    "        i = 0\n",
    "        with prof_seq.timing('One patch: compute'):\n",
    "            patch = sliced_contract(x, y, par_vars, i)\n",
    "        C_par = np.empty(target_shape)\n",
    "        with prof_seq.timing('One patch: assign'):\n",
    "            _slice = target_slice(result_idx, par_vars, i)\n",
    "            C_par[_slice[0]] = patch\n"
   ]
  },
  {
   "cell_type": "markdown",
   "metadata": {},
   "source": [
    "## Plot parallelisation theoretical speedup"
   ]
  },
  {
   "cell_type": "code",
   "execution_count": null,
   "metadata": {
    "ExecuteTime": {
     "end_time": "2020-03-20T01:19:55.585414Z",
     "start_time": "2020-03-20T01:19:50.587Z"
    }
   },
   "outputs": [],
   "source": [
    "prof_seq.data\n",
    "threads = 2**np.arange(1,7)\n",
    "C_size = sys.getsizeof(C)\n",
    "\n",
    "for k in prof_seq.data:\n",
    "    plt.plot(threads, prof_seq.data[k], label=k)\n",
    "    \n",
    "plt.loglog(basex=2, basey=2)\n",
    "from matplotlib.ticker import FormatStrFormatter\n",
    "\n",
    "plt.title(f'Single node parallelization one batch test. Task size: {C_size:e}')\n",
    "plt.xlabel('Thread count')\n",
    "plt.ylabel('Time')\n",
    "minorticks()\n",
    "plt.legend()\n",
    "plt.savefig('figures/node_par_seqtest.pdf')\n",
    "plt.close()"
   ]
  },
  {
   "cell_type": "markdown",
   "metadata": {},
   "source": [
    "## Use unix tools\n",
    "### Threading"
   ]
  },
  {
   "cell_type": "code",
   "execution_count": null,
   "metadata": {},
   "outputs": [],
   "source": [
    "\n"
   ]
  },
  {
   "cell_type": "code",
   "execution_count": null,
   "metadata": {
    "ExecuteTime": {
     "end_time": "2020-03-20T01:19:55.598185Z",
     "start_time": "2020-03-20T01:19:50.592Z"
    }
   },
   "outputs": [],
   "source": [
    "x,y = get_example_task(A=20, B=9, C=8, dim1=2)\n",
    "contract_idx = set(x[1]) & set(y[1])\n",
    "result_idx = set(x[1] + y[1])"
   ]
  },
  {
   "cell_type": "code",
   "execution_count": null,
   "metadata": {
    "ExecuteTime": {
     "end_time": "2020-03-20T01:19:55.600051Z",
     "start_time": "2020-03-20T01:19:50.597Z"
    },
    "lines_to_next_cell": 2
   },
   "outputs": [],
   "source": [
    "\n",
    "prof_thread = Profiler()\n",
    "prof_thread.use_append()\n",
    "\n",
    "\n",
    "for i in range(1):\n",
    "    C = contract(x,y)\n",
    "\n",
    "C_size = sys.getsizeof(C)\n",
    "target_shape = C.shape\n",
    "C = None\n",
    "    \n",
    "    \n",
    "for rank in range(1,7):\n",
    "    if rank==1:\n",
    "        with prof_thread.timing('Single thread'):\n",
    "            C = contract(x,y)\n",
    "\n",
    "    C = None\n",
    "    with prof_thread.timing('Multithread: total'):\n",
    "        par_vars = list(range(rank))\n",
    "        threads = 2**len(par_vars)\n",
    "\n",
    "        os.global_C = np.empty(target_shape)\n",
    "\n",
    "\n",
    "        with prof_thread.timing('Multithread: work'):\n",
    "            _ = pool.map(work, ((i,x,y,par_vars,result_idx)for i in range(threads)))\n",
    "            \n",
    "#assert np.array_equal(C, os.global_C)"
   ]
  },
  {
   "cell_type": "code",
   "execution_count": null,
   "metadata": {
    "ExecuteTime": {
     "end_time": "2020-03-20T01:19:55.604618Z",
     "start_time": "2020-03-20T01:19:50.600Z"
    }
   },
   "outputs": [],
   "source": [
    "_data = prof_thread.data\n",
    "print(_data)\n",
    "\n",
    "_data_knl = {'Single thread': [1.3409993648529053, 1.3587844371795654, 1.3243846893310547, 1.336273193359375, 1.3332529067993164, 1.3412296772003174], 'Multithread: work': [0.7453043460845947, 0.5046432018280029, 0.39226293563842773, 0.40014123916625977, 0.5875647068023682, 1.0763416290283203], 'Multithread: total': [0.7459092140197754, 0.5054154396057129, 0.3927571773529053, 0.4007418155670166, 0.588019847869873, 1.0771734714508057]}\n",
    "_data_biggest = {'Single thread': [27.42847204208374, 26.855594873428345, 26.628530979156494, 26.862286806106567, 26.71247911453247, 27.049968957901], 'Multithread: work': [14.236661434173584, 7.511402368545532, 4.950175762176514, 3.012814521789551, 2.351712703704834, 1.994131088256836], 'Multithread: total': [14.23719048500061, 7.512014150619507, 4.950707912445068, 3.0133090019226074, 2.3522441387176514, 1.9946098327636719]}\n",
    "#_data = _data_biggest\n",
    "\n",
    "\n",
    "threads = 2**np.arange(1,7)\n",
    "\n",
    "for k in _data:\n",
    "    plt.plot(threads, _data[k], label=k)\n",
    "\n",
    "plt.loglog(basex=2, basey=2)\n",
    "plt.yscale('linear')\n",
    "from matplotlib.ticker import FormatStrFormatter\n",
    "\n",
    "plt.title(f'Single node parallelization test. Task size: {C_size:e}')\n",
    "plt.xlabel('Thread count')\n",
    "plt.ylabel('Time')\n",
    "minorticks()\n",
    "\n",
    "plt.legend()\n",
    "plt.savefig('figures/node_par_threadtest_biggest.pdf')"
   ]
  },
  {
   "cell_type": "code",
   "execution_count": null,
   "metadata": {
    "ExecuteTime": {
     "end_time": "2020-03-20T00:54:39.132245Z",
     "start_time": "2020-03-20T00:54:39.126868Z"
    }
   },
   "outputs": [],
   "source": []
  },
  {
   "cell_type": "code",
   "execution_count": 108,
   "metadata": {
    "ExecuteTime": {
     "end_time": "2020-03-20T07:43:44.195168Z",
     "start_time": "2020-03-20T07:43:43.437245Z"
    },
    "scrolled": true
   },
   "outputs": [
    {
     "data": {
      "image/png": "[encoded data removed]",
      "text/plain": [
       "<Figure size 432x432 with 1 Axes>"
      ]
     },
     "metadata": {},
     "output_type": "display_data"
    }
   ],
   "source": [
    "#plt.rcParams.update({\"xtick.bottom\" : True, \"ytick.left\" : True})\n",
    "sns.set_style('whitegrid')\n",
    "#sns.set()\n",
    "_data_block = {\n",
    "    '28':{'Single thread': [4.890172481536865], 'Multithread: work': [5.31355881690979, 2.839036464691162, 1.6587004661560059, 1.4607517719268799, 1.1708364486694336, 1.3796212673187256], 'Multithread: total': [5.31405234336853, 2.839534282684326, 1.659132957458496, 1.4612171649932861, 1.1718018054962158, 1.380187749862671]}\n",
    "    ,'29': {'Single thread': [12.708141088485718], 'Multithread: work': [12.543375015258789, 6.445459604263306, 3.702291250228882, 2.225062131881714, 1.7111496925354004, 1.9049854278564453], 'Multithread: total': [12.543986320495605, 6.445924997329712, 3.7027952671051025, 2.2256860733032227, 1.7118234634399414, 1.905548095703125]}\n",
    "   , '30': {'Single thread': [26.65827775001526], 'Multithread: work': [26.532104015350342, 13.471351146697998, 7.361323356628418, 4.6045496463775635, 2.9114484786987305, 2.138317108154297], 'Multithread: total': [26.532758712768555, 13.471930980682373, 7.363482475280762, 4.605044364929199, 2.91215181350708, 2.1388139724731445]}\n",
    "   , '31': {'Single thread': [54.215914249420166], 'Multithread: work': [53.743674755096436, 27.541589498519897, 15.45585584640503, 8.812772750854492, 5.398884296417236, 4.5649192333221436], 'Multithread: total': [53.74607563018799, 27.542162895202637, 15.456344604492188, 8.814988851547241, 5.399648427963257, 4.5654377937316895]}\n",
    "   , '32': {'Single thread': [107.05718398094177], 'Multithread: work': [106.85966396331787, 55.66744685173035, 31.097278356552124, 18.133748292922974, 10.42065167427063, 9.078657865524292], 'Multithread: total': [106.86018991470337, 55.669677734375, 31.099481344223022, 18.13595175743103, 10.421445369720459, 9.080750703811646]}\n",
    "}\n",
    "\n",
    "threads = 2**np.arange(1,7)\n",
    "fig, axs = plt.subplots(1,1, figsize=(6,6))\n",
    "colors = (plt.cm.gnuplot2(x) for x in np.linspace(.8,.2,len(_data_block)))\n",
    "\n",
    "for size, _data in _data_block.items():\n",
    "    singl = _data['Single thread']\n",
    "    total = _data['Multithread: total']\n",
    "    c = next(colors)\n",
    "    plt.plot(threads, total, '-D',color=c, label=f'Tensor size {2**(4+int(size))/1e9:.2f}Gb')\n",
    "    plt.plot(threads, singl*len(threads), '--', alpha=.3, color=c )\n",
    "\n",
    "#from matplotlib.ticker import FormatStrFormatter\n",
    "plt.loglog(basex=2, basey=2)\n",
    "#plt.yscale('linear')\n",
    "\n",
    "plt.grid()\n",
    "#minorticks()\n",
    "ax = plt.gca()\n",
    "#ax.yaxis.set_minor_locator(plt.ticker.LogLocator(base=10.0, subs='all'))\n",
    "#ax.yaxis.set_minor_formatter(plt.ticker.NullFormatter())\n",
    "\n",
    "plt.title(f'Single node contraction parallelization for different sizes')\n",
    "plt.xlabel('Thread count')\n",
    "plt.ylabel('Time')\n",
    "\n",
    "plt.grid(True,which=\"both\")\n",
    "\n",
    "handles, labels = plt.gca().get_legend_handles_labels()\n",
    "plt.legend(handles[::-1], labels[::-1], loc='upper right')\n",
    "\n",
    "plt.savefig('figures/node_par_threadtest_gener_jlse.pdf')"
   ]
  },
  {
   "cell_type": "code",
   "execution_count": 109,
   "metadata": {
    "ExecuteTime": {
     "end_time": "2020-03-20T07:43:46.701603Z",
     "start_time": "2020-03-20T07:43:46.017532Z"
    },
    "scrolled": true
   },
   "outputs": [
    {
     "data": {
      "image/png": "[encoded data removed]",
      "text/plain": [
       "<Figure size 432x432 with 1 Axes>"
      ]
     },
     "metadata": {},
     "output_type": "display_data"
    }
   ],
   "source": [
    "#plt.rcParams.update({\"xtick.bottom\" : True, \"ytick.left\" : True})\n",
    "sns.set_style('whitegrid')\n",
    "#sns.set()\n",
    "_data_block = {\n",
    "    '27':{'Single thread': [4.890172481536865], 'Multithread: work': [5.31355881690979, 2.839036464691162, 1.6587004661560059, 1.4607517719268799, 1.1708364486694336, 1.3796212673187256], 'Multithread: total': [5.31405234336853, 2.839534282684326, 1.659132957458496, 1.4612171649932861, 1.1718018054962158, 1.380187749862671]}\n",
    "    ,'30': {'Single thread': [37.403658866882324], 'Multithread: work': [39.51915979385376, 21.37852430343628, 11.835341453552246, 7.165068864822388, 4.922534942626953, 4.410918235778809], 'Multithread: total': [39.519590854644775, 21.378950595855713, 11.83582329750061, 7.1655051708221436, 4.923001050949097, 4.411387205123901\n",
    "]}\n",
    "\n",
    "}\n",
    "\n",
    "threads = 2**np.arange(1,7)\n",
    "fig, axs = plt.subplots(1,1, figsize=(6,6))\n",
    "colors = (plt.cm.gnuplot2(x) for x in np.linspace(.8,.2,len(_data_block)))\n",
    "\n",
    "for size, _data in _data_block.items():\n",
    "    singl = _data['Single thread']\n",
    "    total = _data['Multithread: total']\n",
    "    c = next(colors)\n",
    "    plt.plot(threads, total, '-D',color=c, label=f'Tensor size {2**(4+int(size))/1e9:.2f}Gb')\n",
    "    plt.plot(threads, singl*len(threads), '--', alpha=.3, color=c )\n",
    "\n",
    "#from matplotlib.ticker import FormatStrFormatter\n",
    "plt.loglog(basex=2, basey=2)\n",
    "#plt.yscale('linear')\n",
    "\n",
    "plt.grid()\n",
    "#minorticks()\n",
    "ax = plt.gca()\n",
    "#ax.yaxis.set_minor_locator(plt.ticker.LogLocator(base=10.0, subs='all'))\n",
    "#ax.yaxis.set_minor_formatter(plt.ticker.NullFormatter())\n",
    "\n",
    "plt.title(f'Single node contraction parallelization for different sizes')\n",
    "plt.xlabel('Thread count')\n",
    "plt.ylabel('Time')\n",
    "\n",
    "plt.grid(True,which=\"both\")\n",
    "\n",
    "handles, labels = plt.gca().get_legend_handles_labels()\n",
    "plt.legend(handles[::-1], labels[::-1], loc='upper right')\n",
    "\n",
    "plt.savefig('figures/node_par_threadtest_gener_theta.pdf')"
   ]
  },
  {
   "cell_type": "markdown",
   "metadata": {},
   "source": [
    "###  Multiprocessing"
   ]
  },
  {
   "cell_type": "code",
   "execution_count": null,
   "metadata": {
    "ExecuteTime": {
     "end_time": "2020-03-20T01:19:55.609246Z",
     "start_time": "2020-03-20T01:19:50.613Z"
    },
    "lines_to_next_cell": 2
   },
   "outputs": [],
   "source": [
    "\n",
    "flat_size = len(C.flatten())\n",
    "with pyrof.timing('init array'):\n",
    "    os.global_C = np.empty(target_shape)\n",
    "    #os.global_C = tonumpyarray(Array('d', flat_size))\n",
    "#us.global_C = os.global_C.reshape(target_shape)\n",
    "\n",
    "pool = Pool(processes=threads)\n",
    "print('inited pool')\n",
    "with pyrof.timing('parallel work'):\n",
    "    print('started work')\n",
    "    _ = pool.map(work, range(threads))\n",
    "\n",
    "C_size = sys.getsizeof(os.global_C)\n",
    "print(f'result size: {C_size:e}')\n",
    "assert np.array_equal(C, os.global_C)\n"
   ]
  },
  {
   "cell_type": "code",
   "execution_count": null,
   "metadata": {
    "ExecuteTime": {
     "end_time": "2020-03-20T01:19:55.611128Z",
     "start_time": "2020-03-20T01:19:50.637Z"
    }
   },
   "outputs": [],
   "source": [
    "del os.global_C"
   ]
  },
  {
   "cell_type": "code",
   "execution_count": null,
   "metadata": {},
   "outputs": [],
   "source": []
  }
 ],
 "metadata": {
  "jupytext": {
   "formats": "ipynb,py"
  },
  "kernelspec": {
   "display_name": "Python 3",
   "language": "python",
   "name": "python3"
  },
  "language_info": {
   "codemirror_mode": {
    "name": "ipython",
    "version": 3
   },
   "file_extension": ".py",
   "mimetype": "text/x-python",
   "name": "python",
   "nbconvert_exporter": "python",
   "pygments_lexer": "ipython3",
   "version": "3.8.2"
  },
  "toc": {
   "base_numbering": 1,
   "nav_menu": {},
   "number_sections": true,
   "sideBar": true,
   "skip_h1_title": false,
   "title_cell": "Table of Contents",
   "title_sidebar": "Contents",
   "toc_cell": true,
   "toc_position": {
    "height": "calc(100% - 180px)",
    "left": "10px",
    "top": "150px",
    "width": "509.594px"
   },
   "toc_section_display": true,
   "toc_window_display": true
  }
 },
 "nbformat": 4,
 "nbformat_minor": 2
}
