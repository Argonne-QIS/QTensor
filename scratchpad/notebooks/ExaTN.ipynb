{
 "cells": [
  {
   "cell_type": "markdown",
   "metadata": {
    "toc": true
   },
   "source": [
    "<h1>Table of Contents<span class=\"tocSkip\"></span></h1>\n",
    "<div class=\"toc\"><ul class=\"toc-item\"><li><span><a href=\"#ExaTN-usage\" data-toc-modified-id=\"ExaTN-usage-1\"><span class=\"toc-item-num\">1&nbsp;&nbsp;</span>ExaTN usage</a></span><ul class=\"toc-item\"><li><span><a href=\"#Evaluate-tensor-network\" data-toc-modified-id=\"Evaluate-tensor-network-1.1\"><span class=\"toc-item-num\">1.1&nbsp;&nbsp;</span>Evaluate tensor network</a></span></li><li><span><a href=\"#Conjugate--circuit\" data-toc-modified-id=\"Conjugate--circuit-1.2\"><span class=\"toc-item-num\">1.2&nbsp;&nbsp;</span>Conjugate  circuit</a></span></li></ul></li></ul></div>"
   ]
  },
  {
   "cell_type": "code",
   "execution_count": 3,
   "metadata": {
    "ExecuteTime": {
     "end_time": "2020-06-23T03:41:02.084429Z",
     "start_time": "2020-06-23T03:41:02.081141Z"
    }
   },
   "outputs": [],
   "source": [
    "import sys\n",
    "from pathlib import Path\n",
    "sys.path.insert(1, str(Path.home()) + '/.exatn')"
   ]
  },
  {
   "cell_type": "code",
   "execution_count": 5,
   "metadata": {
    "ExecuteTime": {
     "end_time": "2020-06-23T03:41:18.411427Z",
     "start_time": "2020-06-23T03:41:18.242290Z"
    }
   },
   "outputs": [],
   "source": [
    "import exatn\n",
    "import numpy as np"
   ]
  },
  {
   "cell_type": "markdown",
   "metadata": {},
   "source": [
    "## ExaTN usage\n",
    "Examples can be found at https://github.com/ORNL-QCI/exatn/tree/devel/python/examples\n"
   ]
  },
  {
   "cell_type": "markdown",
   "metadata": {},
   "source": [
    "### Evaluate tensor network"
   ]
  },
  {
   "cell_type": "code",
   "execution_count": 19,
   "metadata": {
    "ExecuteTime": {
     "end_time": "2020-06-23T03:56:06.650893Z",
     "start_time": "2020-06-23T03:56:06.528290Z"
    }
   },
   "outputs": [
    {
     "name": "stdout",
     "output_type": "stream",
     "text": [
      "5.120000000000001e-12\n"
     ]
    }
   ],
   "source": [
    "exatn.createTensor('Z0')\n",
    "exatn.createTensor('T0', [2,2], .01)\n",
    "exatn.createTensor('T1', [2,2,2], .01)\n",
    "exatn.createTensor('T2', [2,2], .01)\n",
    "exatn.createTensor('H0', [2,2,2,2], .01)\n",
    "exatn.createTensor('S0', [2,2], .01)\n",
    "exatn.createTensor('S1', [2,2,2], .01)\n",
    "exatn.createTensor('S2', [2,2], .01)\n",
    "\n",
    "exatn.evaluateTensorNetwork(\n",
    "    '{0,1} 3-site MPS closure'\n",
    "    , 'Z0() = T0(a,b) * T1(b,c,d) * T2(d,e) * H0(a,c,f,g) * S0(f,h) * S1(h,g,i) * S2(i,e)')\n",
    "\n",
    "z0 = exatn.getLocalTensor('Z0')\n",
    "assert(abs(z0 - 5.12e-12) < 1e-12)\n",
    "print(z0)"
   ]
  },
  {
   "cell_type": "markdown",
   "metadata": {},
   "source": [
    "### Conjugate  circuit"
   ]
  },
  {
   "cell_type": "code",
   "execution_count": 15,
   "metadata": {
    "ExecuteTime": {
     "end_time": "2020-06-23T03:47:59.934833Z",
     "start_time": "2020-06-23T03:47:59.919094Z"
    }
   },
   "outputs": [
    {
     "name": "stdout",
     "output_type": "stream",
     "text": [
      "<_pyexatn.TensorNetwork object at 0x7f311429f8f0>\n",
      "[1.+0.j 0.-1.j]\n",
      "[ 1.+0.j -0.+1.j]\n"
     ]
    }
   ],
   "source": [
    "qzero = np.array([1.0, 0.0], dtype=complex)\n",
    "unitary = np.reshape(np.array([1,-1j,-1j,1], dtype=complex), (2,2))\n",
    "\n",
    "exatn.createTensor('Q0', qzero)\n",
    "exatn.createTensor('U', unitary)\n",
    "exatn.registerTensorIsometry('U', [0], [1])\n",
    "\n",
    "\n",
    "circuit = exatn.TensorNetwork('QuantumCircuit')\n",
    "circuit.appendTensor(1, 'Q0')\n",
    "circuit.appendTensorGate(2, 'U', [0])\n",
    "circuit.printIt()\n",
    "\n",
    "\n",
    "assert(exatn.evaluate(circuit))\n",
    "assert(exatn.evaluate(conj_circuit))\n",
    "\n",
    "print(exatn.getLocalTensor(circuit.getTensor(0).getName()))\n",
    "print(exatn.getLocalTensor(conj_circuit.getTensor(0).getName()))"
   ]
  },
  {
   "cell_type": "code",
   "execution_count": 18,
   "metadata": {
    "ExecuteTime": {
     "end_time": "2020-06-23T03:50:53.317400Z",
     "start_time": "2020-06-23T03:50:53.313558Z"
    }
   },
   "outputs": [
    {
     "data": {
      "text/plain": [
       "4"
      ]
     },
     "execution_count": 18,
     "metadata": {},
     "output_type": "execute_result"
    }
   ],
   "source": [
    "import os\n",
    "os.write(1, b'then')"
   ]
  }
 ],
 "metadata": {
  "kernelspec": {
   "display_name": "Python 3",
   "language": "python",
   "name": "python3"
  },
  "language_info": {
   "codemirror_mode": {
    "name": "ipython",
    "version": 3
   },
   "file_extension": ".py",
   "mimetype": "text/x-python",
   "name": "python",
   "nbconvert_exporter": "python",
   "pygments_lexer": "ipython3",
   "version": "3.8.3"
  },
  "toc": {
   "base_numbering": 1,
   "nav_menu": {},
   "number_sections": true,
   "sideBar": true,
   "skip_h1_title": false,
   "title_cell": "Table of Contents",
   "title_sidebar": "Contents",
   "toc_cell": true,
   "toc_position": {},
   "toc_section_display": true,
   "toc_window_display": true
  }
 },
 "nbformat": 4,
 "nbformat_minor": 4
}
