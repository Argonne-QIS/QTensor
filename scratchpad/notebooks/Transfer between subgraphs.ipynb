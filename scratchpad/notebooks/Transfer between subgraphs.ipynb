{
 "cells": [
  {
   "cell_type": "markdown",
   "metadata": {
    "toc": true
   },
   "source": [
    "<h1>Table of Contents<span class=\"tocSkip\"></span></h1>\n",
    "<div class=\"toc\"><ul class=\"toc-item\"><li><span><a href=\"#Cut-some-edges-and-evaluate-Energy-expectation\" data-toc-modified-id=\"Cut-some-edges-and-evaluate-Energy-expectation-1\"><span class=\"toc-item-num\">1&nbsp;&nbsp;</span>Cut some edges and evaluate Energy expectation</a></span></li><li><span><a href=\"#Transfer-between-subgraphs\" data-toc-modified-id=\"Transfer-between-subgraphs-2\"><span class=\"toc-item-num\">2&nbsp;&nbsp;</span>Transfer between subgraphs</a></span><ul class=\"toc-item\"><li><span><a href=\"#Test-learning-$\\gamma-\\beta$\" data-toc-modified-id=\"Test-learning-$\\gamma-\\beta$-2.1\"><span class=\"toc-item-num\">2.1&nbsp;&nbsp;</span>Test learning $\\gamma \\beta$</a></span></li></ul></li><li><span><a href=\"#Iterate-over-cut-edges-and-look-at-#-of-unique-subgraphs\" data-toc-modified-id=\"Iterate-over-cut-edges-and-look-at-#-of-unique-subgraphs-3\"><span class=\"toc-item-num\">3&nbsp;&nbsp;</span>Iterate over cut edges and look at # of unique subgraphs</a></span></li></ul></div>"
   ]
  },
  {
   "cell_type": "code",
   "execution_count": 154,
   "metadata": {},
   "outputs": [],
   "source": [
    "import networkx as nx\n",
    "import qtensor\n",
    "from cartesian_explorer import Explorer\n",
    "import matplotlib.pyplot as plt"
   ]
  },
  {
   "cell_type": "code",
   "execution_count": 2,
   "metadata": {},
   "outputs": [],
   "source": [
    "%load_ext autoreload\n",
    "%autoreload 2"
   ]
  },
  {
   "cell_type": "markdown",
   "metadata": {},
   "source": [
    "## Cut some edges and evaluate Energy expectation"
   ]
  },
  {
   "cell_type": "code",
   "execution_count": 851,
   "metadata": {},
   "outputs": [
    {
     "data": {
      "image/svg+xml": [
       "<?xml version=\"1.0\" encoding=\"utf-8\" standalone=\"no\"?>\n",
       "<!DOCTYPE svg PUBLIC \"-//W3C//DTD SVG 1.1//EN\"\n",
       "  \"http://www.w3.org/Graphics/SVG/1.1/DTD/svg11.dtd\">\n",
       "<!-- Created with matplotlib (https://matplotlib.org/) -->\n",
       "<svg height=\"210.168pt\" version=\"1.1\" viewBox=\"0 0 331.152624 210.168\" width=\"331.152624pt\" xmlns=\"http://www.w3.org/2000/svg\" xmlns:xlink=\"http://www.w3.org/1999/xlink\">\n",
       " <metadata>\n",
       "  <rdf:RDF xmlns:cc=\"http://creativecommons.org/ns#\" xmlns:dc=\"http://purl.org/dc/elements/1.1/\" xmlns:rdf=\"http://www.w3.org/1999/02/22-rdf-syntax-ns#\">\n",
       "   <cc:Work>\n",
       "    <dc:type rdf:resource=\"http://purl.org/dc/dcmitype/StillImage\"/>\n",
       "    <dc:date>2021-04-01T13:05:40.155747</dc:date>\n",
       "    <dc:format>image/svg+xml</dc:format>\n",
       "    <dc:creator>\n",
       "     <cc:Agent>\n",
       "      <dc:title>Matplotlib v3.3.3, https://matplotlib.org/</dc:title>\n",
       "     </cc:Agent>\n",
       "    </dc:creator>\n",
       "   </cc:Work>\n",
       "  </rdf:RDF>\n",
       " </metadata>\n",
       " <defs>\n",
       "  <style type=\"text/css\">*{stroke-linecap:butt;stroke-linejoin:round;}</style>\n",
       " </defs>\n",
       " <g id=\"figure_1\">\n",
       "  <g id=\"patch_1\">\n",
       "   <path d=\"M 0 210.168 \n",
       "L 331.152624 210.168 \n",
       "L 331.152624 0 \n",
       "L 0 0 \n",
       "z\n",
       "\" style=\"fill:#ffffff;\"/>\n",
       "  </g>\n",
       "  <g id=\"axes_1\">\n",
       "   <g id=\"LineCollection_1\">\n",
       "    <path clip-path=\"url(#p8234bafe26)\" d=\"M 309.554777 143.012642 \n",
       "L 263.608966 41.586592 \n",
       "\" style=\"fill:none;stroke:#000000;\"/>\n",
       "    <path clip-path=\"url(#p8234bafe26)\" d=\"M 309.554777 143.012642 \n",
       "L 166.855388 16.098545 \n",
       "\" style=\"fill:none;stroke:#000000;\"/>\n",
       "    <path clip-path=\"url(#p8234bafe26)\" d=\"M 309.554777 143.012642 \n",
       "L 208.327874 116.346106 \n",
       "\" style=\"fill:none;stroke:#000000;\"/>\n",
       "    <path clip-path=\"url(#p8234bafe26)\" d=\"M 309.554777 143.012642 \n",
       "L 164.297269 194.069455 \n",
       "\" style=\"fill:none;stroke:#000000;\"/>\n",
       "    <path clip-path=\"url(#p8234bafe26)\" d=\"M 309.554777 143.012642 \n",
       "L 67.543706 168.581414 \n",
       "\" style=\"fill:none;stroke:#000000;\"/>\n",
       "    <path clip-path=\"url(#p8234bafe26)\" d=\"M 309.554777 143.012642 \n",
       "L 122.824843 93.821809 \n",
       "\" style=\"fill:none;stroke:#000000;\"/>\n",
       "    <path clip-path=\"url(#p8234bafe26)\" d=\"M 263.608966 41.586592 \n",
       "L 21.597847 67.15542 \n",
       "\" style=\"fill:none;stroke:#000000;\"/>\n",
       "    <path clip-path=\"url(#p8234bafe26)\" d=\"M 263.608966 41.586592 \n",
       "L 122.824843 93.821809 \n",
       "\" style=\"fill:none;stroke:#000000;\"/>\n",
       "    <path clip-path=\"url(#p8234bafe26)\" d=\"M 263.608966 41.586592 \n",
       "L 67.543706 168.581414 \n",
       "\" style=\"fill:none;stroke:#000000;\"/>\n",
       "    <path clip-path=\"url(#p8234bafe26)\" d=\"M 263.608966 41.586592 \n",
       "L 166.855388 16.098545 \n",
       "\" style=\"fill:none;stroke:#000000;\"/>\n",
       "    <path clip-path=\"url(#p8234bafe26)\" d=\"M 263.608966 41.586592 \n",
       "L 208.327874 116.346106 \n",
       "\" style=\"fill:none;stroke:#000000;\"/>\n",
       "    <path clip-path=\"url(#p8234bafe26)\" d=\"M 166.855388 16.098545 \n",
       "L 21.597847 67.15542 \n",
       "\" style=\"fill:none;stroke:#000000;\"/>\n",
       "    <path clip-path=\"url(#p8234bafe26)\" d=\"M 166.855388 16.098545 \n",
       "L 122.824843 93.821809 \n",
       "\" style=\"fill:none;stroke:#000000;\"/>\n",
       "    <path clip-path=\"url(#p8234bafe26)\" d=\"M 166.855388 16.098545 \n",
       "L 164.297269 194.069455 \n",
       "\" style=\"fill:none;stroke:#000000;\"/>\n",
       "    <path clip-path=\"url(#p8234bafe26)\" d=\"M 166.855388 16.098545 \n",
       "L 208.327874 116.346106 \n",
       "\" style=\"fill:none;stroke:#000000;\"/>\n",
       "    <path clip-path=\"url(#p8234bafe26)\" d=\"M 21.597847 67.15542 \n",
       "L 67.543706 168.581414 \n",
       "\" style=\"fill:none;stroke:#000000;\"/>\n",
       "    <path clip-path=\"url(#p8234bafe26)\" d=\"M 21.597847 67.15542 \n",
       "L 122.824843 93.821809 \n",
       "\" style=\"fill:none;stroke:#000000;\"/>\n",
       "    <path clip-path=\"url(#p8234bafe26)\" d=\"M 21.597847 67.15542 \n",
       "L 164.297269 194.069455 \n",
       "\" style=\"fill:none;stroke:#000000;\"/>\n",
       "    <path clip-path=\"url(#p8234bafe26)\" d=\"M 21.597847 67.15542 \n",
       "L 208.327874 116.346106 \n",
       "\" style=\"fill:none;stroke:#000000;\"/>\n",
       "    <path clip-path=\"url(#p8234bafe26)\" d=\"M 67.543706 168.581414 \n",
       "L 122.824843 93.821809 \n",
       "\" style=\"fill:none;stroke:#000000;\"/>\n",
       "    <path clip-path=\"url(#p8234bafe26)\" d=\"M 67.543706 168.581414 \n",
       "L 208.327874 116.346106 \n",
       "\" style=\"fill:none;stroke:#000000;\"/>\n",
       "    <path clip-path=\"url(#p8234bafe26)\" d=\"M 67.543706 168.581414 \n",
       "L 164.297269 194.069455 \n",
       "\" style=\"fill:none;stroke:#000000;\"/>\n",
       "    <path clip-path=\"url(#p8234bafe26)\" d=\"M 122.824843 93.821809 \n",
       "L 164.297269 194.069455 \n",
       "\" style=\"fill:none;stroke:#000000;\"/>\n",
       "    <path clip-path=\"url(#p8234bafe26)\" d=\"M 208.327874 116.346106 \n",
       "L 164.297269 194.069455 \n",
       "\" style=\"fill:none;stroke:#000000;\"/>\n",
       "   </g>\n",
       "   <g id=\"PathCollection_1\">\n",
       "    <defs>\n",
       "     <path d=\"M 0 8.660254 \n",
       "C 2.296726 8.660254 4.499694 7.747755 6.123724 6.123724 \n",
       "C 7.747755 4.499694 8.660254 2.296726 8.660254 0 \n",
       "C 8.660254 -2.296726 7.747755 -4.499694 6.123724 -6.123724 \n",
       "C 4.499694 -7.747755 2.296726 -8.660254 0 -8.660254 \n",
       "C -2.296726 -8.660254 -4.499694 -7.747755 -6.123724 -6.123724 \n",
       "C -7.747755 -4.499694 -8.660254 -2.296726 -8.660254 0 \n",
       "C -8.660254 2.296726 -7.747755 4.499694 -6.123724 6.123724 \n",
       "C -4.499694 7.747755 -2.296726 8.660254 0 8.660254 \n",
       "z\n",
       "\" id=\"m04627822bb\" style=\"stroke:#1f78b4;\"/>\n",
       "    </defs>\n",
       "    <g clip-path=\"url(#p8234bafe26)\">\n",
       "     <use style=\"fill:#1f78b4;stroke:#1f78b4;\" x=\"309.554777\" xlink:href=\"#m04627822bb\" y=\"143.012642\"/>\n",
       "     <use style=\"fill:#1f78b4;stroke:#1f78b4;\" x=\"263.608966\" xlink:href=\"#m04627822bb\" y=\"41.586592\"/>\n",
       "     <use style=\"fill:#1f78b4;stroke:#1f78b4;\" x=\"166.855388\" xlink:href=\"#m04627822bb\" y=\"16.098545\"/>\n",
       "     <use style=\"fill:#1f78b4;stroke:#1f78b4;\" x=\"21.597847\" xlink:href=\"#m04627822bb\" y=\"67.15542\"/>\n",
       "     <use style=\"fill:#1f78b4;stroke:#1f78b4;\" x=\"67.543706\" xlink:href=\"#m04627822bb\" y=\"168.581414\"/>\n",
       "     <use style=\"fill:#1f78b4;stroke:#1f78b4;\" x=\"122.824843\" xlink:href=\"#m04627822bb\" y=\"93.821809\"/>\n",
       "     <use style=\"fill:#1f78b4;stroke:#1f78b4;\" x=\"208.327874\" xlink:href=\"#m04627822bb\" y=\"116.346106\"/>\n",
       "     <use style=\"fill:#1f78b4;stroke:#1f78b4;\" x=\"164.297269\" xlink:href=\"#m04627822bb\" y=\"194.069455\"/>\n",
       "    </g>\n",
       "   </g>\n",
       "  </g>\n",
       " </g>\n",
       " <defs>\n",
       "  <clipPath id=\"p8234bafe26\">\n",
       "   <rect height=\"195.768\" width=\"316.752624\" x=\"7.2\" y=\"7.2\"/>\n",
       "  </clipPath>\n",
       " </defs>\n",
       "</svg>\n"
      ],
      "text/plain": [
       "<Figure size 316.753x195.768 with 1 Axes>"
      ]
     },
     "metadata": {},
     "output_type": "display_data"
    }
   ],
   "source": [
    "G = nx.random_regular_graph(6, 8, seed=990)\n",
    "nx.draw_kamada_kawai(G)"
   ]
  },
  {
   "cell_type": "code",
   "execution_count": 269,
   "metadata": {},
   "outputs": [],
   "source": [
    "edges_cut = [[2, 1], [7, 6], [0, 3], [5, 4], [5, 7], [0, 2], [3, 6], [4, 1],\n",
    "           [3, 7], [1, 5], [2, 6], [0, 4], [0, 7], [1, 6], [2, 4], [3, 5]]\n",
    "\n",
    "\n",
    "G_cut = G.copy()\n",
    "for edge in edges_cut[:4]:\n",
    "    G_cut.remove_edge(*edge)"
   ]
  },
  {
   "cell_type": "code",
   "execution_count": 270,
   "metadata": {},
   "outputs": [
    {
     "data": {
      "application/vnd.jupyter.widget-view+json": {
       "model_id": "fdb99489033b4eedaf98726fe21d17f8",
       "version_major": 2,
       "version_minor": 0
      },
      "text/plain": [
       "HBox(children=(HTML(value='Edge iteration'), FloatProgress(value=0.0, max=24.0), HTML(value='')))"
      ]
     },
     "metadata": {},
     "output_type": "display_data"
    },
    {
     "name": "stdout",
     "output_type": "stream",
     "text": [
      "\n"
     ]
    },
    {
     "data": {
      "text/plain": [
       "array([13.73587992])"
      ]
     },
     "execution_count": 270,
     "metadata": {},
     "output_type": "execute_result"
    }
   ],
   "source": [
    "gb1 = [1.9445362519332081], [0.5836305353850703]\n",
    "e1 = qtensor.QAOA_energy(G, *gb1)\n",
    "e1"
   ]
  },
  {
   "cell_type": "code",
   "execution_count": 271,
   "metadata": {},
   "outputs": [
    {
     "data": {
      "application/vnd.jupyter.widget-view+json": {
       "model_id": "645c1599978442c6b6d64f289af74386",
       "version_major": 2,
       "version_minor": 0
      },
      "text/plain": [
       "HBox(children=(HTML(value='Edge iteration'), FloatProgress(value=0.0, max=20.0), HTML(value='')))"
      ]
     },
     "metadata": {},
     "output_type": "display_data"
    },
    {
     "name": "stdout",
     "output_type": "stream",
     "text": [
      "\n"
     ]
    },
    {
     "data": {
      "text/plain": [
       "array([11.82450875])"
      ]
     },
     "execution_count": 271,
     "metadata": {},
     "output_type": "execute_result"
    }
   ],
   "source": [
    "e2 = qtensor.QAOA_energy(G_cut, *gb1)\n",
    "e2"
   ]
  },
  {
   "cell_type": "code",
   "execution_count": 258,
   "metadata": {
    "scrolled": true
   },
   "outputs": [
    {
     "data": {
      "image/png": "[encoded data removed]",
      "text/plain": [
       "<Figure size 432x288 with 1 Axes>"
      ]
     },
     "metadata": {},
     "output_type": "display_data"
    }
   ],
   "source": [
    "nx.draw_kamada_kawai(G_cut)"
   ]
  },
  {
   "cell_type": "code",
   "execution_count": 259,
   "metadata": {},
   "outputs": [
    {
     "data": {
      "text/plain": [
       "{4}"
      ]
     },
     "execution_count": 259,
     "metadata": {},
     "output_type": "execute_result"
    }
   ],
   "source": [
    "set(dict(G_cut.degree).values())"
   ]
  },
  {
   "cell_type": "code",
   "execution_count": 260,
   "metadata": {},
   "outputs": [],
   "source": [
    "subgraphs = [qtensor.utils.get_edge_subgraph(G_cut, e, dist=1) for e in G_cut.edges]"
   ]
  },
  {
   "cell_type": "code",
   "execution_count": 261,
   "metadata": {},
   "outputs": [
    {
     "data": {
      "text/plain": [
       "16"
      ]
     },
     "execution_count": 261,
     "metadata": {},
     "output_type": "execute_result"
    }
   ],
   "source": [
    "len(subgraphs)"
   ]
  },
  {
   "cell_type": "code",
   "execution_count": 272,
   "metadata": {},
   "outputs": [
    {
     "data": {
      "text/plain": [
       "b'\\x00\\x00\\x00\\x00\\x00\\x00\\x00?\\x00\\x00\\x00\\x00\\x00\\x00\\x00?\\x00\\x00\\x00\\x00\\x00\\x00\\x00\\xde\\x00\\x00\\x00\\x00\\x00\\x00\\x00\\xed\\x00\\x00\\x00\\x00\\x00\\x00\\x00\\xf3\\x00\\x00\\x00\\x00\\x00\\x00\\x00\\xf3\\x00\\x00\\x00\\x00\\x00\\x00\\x00\\xed\\x00\\x00\\x00\\x00\\x00\\x00\\x00\\xde'"
      ]
     },
     "execution_count": 272,
     "metadata": {},
     "output_type": "execute_result"
    }
   ],
   "source": [
    "qtensor.tools.lightcone_orbits.graph_cert(G)"
   ]
  },
  {
   "cell_type": "code",
   "execution_count": 247,
   "metadata": {
    "scrolled": true
   },
   "outputs": [
    {
     "data": {
      "image/png": "[encoded data removed]",
      "text/plain": [
       "<Figure size 432x288 with 1 Axes>"
      ]
     },
     "metadata": {},
     "output_type": "display_data"
    }
   ],
   "source": [
    "# subgraphs of the original\n",
    "for g in subgraphs:\n",
    "    nx.draw_kamada_kawai(g)\n",
    "    plt.show()\n",
    "    break"
   ]
  },
  {
   "cell_type": "code",
   "execution_count": null,
   "metadata": {},
   "outputs": [],
   "source": []
  },
  {
   "cell_type": "code",
   "execution_count": 268,
   "metadata": {
    "scrolled": false
   },
   "outputs": [
    {
     "data": {
      "image/png": "[encoded data removed]",
      "text/plain": [
       "<Figure size 432x288 with 1 Axes>"
      ]
     },
     "metadata": {},
     "output_type": "display_data"
    },
    {
     "data": {
      "image/png": "[encoded data removed]",
      "text/plain": [
       "<Figure size 432x288 with 1 Axes>"
      ]
     },
     "metadata": {},
     "output_type": "display_data"
    },
    {
     "data": {
      "image/png": "[encoded data removed]",
      "text/plain": [
       "<Figure size 432x288 with 1 Axes>"
      ]
     },
     "metadata": {},
     "output_type": "display_data"
    },
    {
     "data": {
      "image/png": "[encoded data removed]",
      "text/plain": [
       "<Figure size 432x288 with 1 Axes>"
      ]
     },
     "metadata": {},
     "output_type": "display_data"
    },
    {
     "data": {
      "image/png": "[encoded data removed]",
      "text/plain": [
       "<Figure size 432x288 with 1 Axes>"
      ]
     },
     "metadata": {},
     "output_type": "display_data"
    }
   ],
   "source": [
    "# subgraphs of 4-regular cut graph\n",
    "for g in subgraphs[:5]:\n",
    "    nx.draw_kamada_kawai(g)\n",
    "    plt.show()"
   ]
  },
  {
   "cell_type": "code",
   "execution_count": null,
   "metadata": {},
   "outputs": [],
   "source": []
  },
  {
   "cell_type": "code",
   "execution_count": null,
   "metadata": {},
   "outputs": [],
   "source": []
  },
  {
   "cell_type": "code",
   "execution_count": null,
   "metadata": {},
   "outputs": [],
   "source": []
  },
  {
   "cell_type": "code",
   "execution_count": 381,
   "metadata": {
    "scrolled": false
   },
   "outputs": [],
   "source": [
    "# subgraphs of 5-regular cut graph\n",
    "certs = []\n",
    "for e in G_cut.edges:\n",
    "    subg = qtensor.utils.get_edge_subgraph(G_cut, e, dist=1) \n",
    "    g = qtensor.tools.lightcone_orbits.relabel_edge_first(subg, e)\n",
    "    certs.append(qtensor.tools.lightcone_orbits.graph_cert(g))\n",
    "        "
   ]
  },
  {
   "cell_type": "markdown",
   "metadata": {},
   "source": [
    "## Transfer between subgraphs\n",
    "\n",
    "matrix_ij = train on i, evaluate on j"
   ]
  },
  {
   "cell_type": "code",
   "execution_count": 639,
   "metadata": {},
   "outputs": [],
   "source": [
    "# define graphs that give our subragps\n",
    "parent_graphs = [G]\n",
    "\n",
    "for cut_ix in [4, 8, 12, 16]:\n",
    "    G_cut = G.copy()\n",
    "    for edge in edges_cut[:cut_ix]:\n",
    "        G_cut.remove_edge(*edge)\n",
    "    parent_graphs.append(G_cut)"
   ]
  },
  {
   "cell_type": "code",
   "execution_count": null,
   "metadata": {},
   "outputs": [],
   "source": []
  },
  {
   "cell_type": "code",
   "execution_count": 640,
   "metadata": {},
   "outputs": [],
   "source": [
    "def get_subgraphs_and_sigs(G):\n",
    "    certs, subgs = [], []\n",
    "    for e in G.edges:\n",
    "        subg = qtensor.utils.get_edge_subgraph(G, e, dist=1) \n",
    "        g = qtensor.tools.lightcone_orbits.relabel_edge_first(subg, e)\n",
    "        subgs.append(g)\n",
    "        certs.append(qtensor.tools.lightcone_orbits.graph_cert(g))\n",
    "    print('cert len set', len(set(certs)))\n",
    "    return subgs, certs\n"
   ]
  },
  {
   "cell_type": "code",
   "execution_count": 641,
   "metadata": {},
   "outputs": [
    {
     "name": "stdout",
     "output_type": "stream",
     "text": [
      "cert len set 1\n",
      "cert len set 2\n",
      "cert len set 3\n",
      "cert len set 1\n",
      "cert len set 1\n"
     ]
    }
   ],
   "source": [
    "all_subs, all_sigs = zip(*[get_subgraphs_and_sigs(g) for g in parent_graphs])"
   ]
  },
  {
   "cell_type": "code",
   "execution_count": 642,
   "metadata": {},
   "outputs": [
    {
     "data": {
      "text/plain": [
       "8"
      ]
     },
     "execution_count": 642,
     "metadata": {},
     "output_type": "execute_result"
    }
   ],
   "source": [
    "# flatten the array\n",
    "all_subs = sum(all_subs, [])\n",
    "all_sigs = sum(all_sigs, [])\n",
    "len(set(all_sigs))"
   ]
  },
  {
   "cell_type": "code",
   "execution_count": 643,
   "metadata": {},
   "outputs": [],
   "source": [
    "uniq_subg = {sig:sub for sig, sub in zip(all_sigs, all_subs)}"
   ]
  },
  {
   "cell_type": "code",
   "execution_count": 644,
   "metadata": {
    "scrolled": true
   },
   "outputs": [
    {
     "data": {
      "image/svg+xml": [
       "<?xml version=\"1.0\" encoding=\"utf-8\" standalone=\"no\"?>\n",
       "<!DOCTYPE svg PUBLIC \"-//W3C//DTD SVG 1.1//EN\"\n",
       "  \"http://www.w3.org/Graphics/SVG/1.1/DTD/svg11.dtd\">\n",
       "<!-- Created with matplotlib (https://matplotlib.org/) -->\n",
       "<svg height=\"210.168pt\" version=\"1.1\" viewBox=\"0 0 331.152624 210.168\" width=\"331.152624pt\" xmlns=\"http://www.w3.org/2000/svg\" xmlns:xlink=\"http://www.w3.org/1999/xlink\">\n",
       " <metadata>\n",
       "  <rdf:RDF xmlns:cc=\"http://creativecommons.org/ns#\" xmlns:dc=\"http://purl.org/dc/elements/1.1/\" xmlns:rdf=\"http://www.w3.org/1999/02/22-rdf-syntax-ns#\">\n",
       "   <cc:Work>\n",
       "    <dc:type rdf:resource=\"http://purl.org/dc/dcmitype/StillImage\"/>\n",
       "    <dc:date>2021-04-01T08:59:54.679295</dc:date>\n",
       "    <dc:format>image/svg+xml</dc:format>\n",
       "    <dc:creator>\n",
       "     <cc:Agent>\n",
       "      <dc:title>Matplotlib v3.3.3, https://matplotlib.org/</dc:title>\n",
       "     </cc:Agent>\n",
       "    </dc:creator>\n",
       "   </cc:Work>\n",
       "  </rdf:RDF>\n",
       " </metadata>\n",
       " <defs>\n",
       "  <style type=\"text/css\">*{stroke-linecap:butt;stroke-linejoin:round;}</style>\n",
       " </defs>\n",
       " <g id=\"figure_1\">\n",
       "  <g id=\"patch_1\">\n",
       "   <path d=\"M 0 210.168 \n",
       "L 331.152624 210.168 \n",
       "L 331.152624 0 \n",
       "L 0 0 \n",
       "z\n",
       "\" style=\"fill:#ffffff;\"/>\n",
       "  </g>\n",
       "  <g id=\"axes_1\">\n",
       "   <g id=\"LineCollection_1\">\n",
       "    <path clip-path=\"url(#pf285b714c1)\" d=\"M 309.554777 148.358885 \n",
       "L 185.323442 87.424983 \n",
       "\" style=\"fill:none;stroke:#000000;\"/>\n",
       "    <path clip-path=\"url(#pf285b714c1)\" d=\"M 289.604783 68.240903 \n",
       "L 119.870856 102.4145 \n",
       "\" style=\"fill:none;stroke:#000000;\"/>\n",
       "    <path clip-path=\"url(#pf285b714c1)\" d=\"M 289.604783 68.240903 \n",
       "L 185.323442 87.424983 \n",
       "\" style=\"fill:none;stroke:#000000;\"/>\n",
       "    <path clip-path=\"url(#pf285b714c1)\" d=\"M 168.099027 16.098545 \n",
       "L 119.870856 102.4145 \n",
       "\" style=\"fill:none;stroke:#000000;\"/>\n",
       "    <path clip-path=\"url(#pf285b714c1)\" d=\"M 168.099027 16.098545 \n",
       "L 185.323442 87.424983 \n",
       "\" style=\"fill:none;stroke:#000000;\"/>\n",
       "    <path clip-path=\"url(#pf285b714c1)\" d=\"M 40.828595 45.245179 \n",
       "L 185.323442 87.424983 \n",
       "\" style=\"fill:none;stroke:#000000;\"/>\n",
       "    <path clip-path=\"url(#pf285b714c1)\" d=\"M 40.828595 45.245179 \n",
       "L 119.870856 102.4145 \n",
       "\" style=\"fill:none;stroke:#000000;\"/>\n",
       "    <path clip-path=\"url(#pf285b714c1)\" d=\"M 21.597847 129.618025 \n",
       "L 119.870856 102.4145 \n",
       "\" style=\"fill:none;stroke:#000000;\"/>\n",
       "    <path clip-path=\"url(#pf285b714c1)\" d=\"M 21.597847 129.618025 \n",
       "L 185.323442 87.424983 \n",
       "\" style=\"fill:none;stroke:#000000;\"/>\n",
       "    <path clip-path=\"url(#pf285b714c1)\" d=\"M 109.956732 194.069455 \n",
       "L 119.870856 102.4145 \n",
       "\" style=\"fill:none;stroke:#000000;\"/>\n",
       "    <path clip-path=\"url(#pf285b714c1)\" d=\"M 119.870856 102.4145 \n",
       "L 185.323442 87.424983 \n",
       "\" style=\"fill:none;stroke:#000000;\"/>\n",
       "   </g>\n",
       "   <g id=\"PathCollection_1\">\n",
       "    <defs>\n",
       "     <path d=\"M 0 8.660254 \n",
       "C 2.296726 8.660254 4.499694 7.747755 6.123724 6.123724 \n",
       "C 7.747755 4.499694 8.660254 2.296726 8.660254 0 \n",
       "C 8.660254 -2.296726 7.747755 -4.499694 6.123724 -6.123724 \n",
       "C 4.499694 -7.747755 2.296726 -8.660254 0 -8.660254 \n",
       "C -2.296726 -8.660254 -4.499694 -7.747755 -6.123724 -6.123724 \n",
       "C -7.747755 -4.499694 -8.660254 -2.296726 -8.660254 0 \n",
       "C -8.660254 2.296726 -7.747755 4.499694 -6.123724 6.123724 \n",
       "C -4.499694 7.747755 -2.296726 8.660254 0 8.660254 \n",
       "z\n",
       "\" id=\"mf928aed636\" style=\"stroke:#1f78b4;\"/>\n",
       "    </defs>\n",
       "    <g clip-path=\"url(#pf285b714c1)\">\n",
       "     <use style=\"fill:#1f78b4;stroke:#1f78b4;\" x=\"309.554777\" xlink:href=\"#mf928aed636\" y=\"148.358885\"/>\n",
       "     <use style=\"fill:#1f78b4;stroke:#1f78b4;\" x=\"289.604783\" xlink:href=\"#mf928aed636\" y=\"68.240903\"/>\n",
       "     <use style=\"fill:#1f78b4;stroke:#1f78b4;\" x=\"168.099027\" xlink:href=\"#mf928aed636\" y=\"16.098545\"/>\n",
       "     <use style=\"fill:#1f78b4;stroke:#1f78b4;\" x=\"40.828595\" xlink:href=\"#mf928aed636\" y=\"45.245179\"/>\n",
       "     <use style=\"fill:#1f78b4;stroke:#1f78b4;\" x=\"21.597847\" xlink:href=\"#mf928aed636\" y=\"129.618025\"/>\n",
       "     <use style=\"fill:#1f78b4;stroke:#1f78b4;\" x=\"109.956732\" xlink:href=\"#mf928aed636\" y=\"194.069455\"/>\n",
       "     <use style=\"fill:#1f78b4;stroke:#1f78b4;\" x=\"119.870856\" xlink:href=\"#mf928aed636\" y=\"102.4145\"/>\n",
       "     <use style=\"fill:#1f78b4;stroke:#1f78b4;\" x=\"185.323442\" xlink:href=\"#mf928aed636\" y=\"87.424983\"/>\n",
       "    </g>\n",
       "   </g>\n",
       "  </g>\n",
       " </g>\n",
       " <defs>\n",
       "  <clipPath id=\"pf285b714c1\">\n",
       "   <rect height=\"195.768\" width=\"316.752624\" x=\"7.2\" y=\"7.2\"/>\n",
       "  </clipPath>\n",
       " </defs>\n",
       "</svg>\n"
      ],
      "text/plain": [
       "<Figure size 316.753x195.768 with 1 Axes>"
      ]
     },
     "metadata": {},
     "output_type": "display_data"
    },
    {
     "data": {
      "image/svg+xml": [
       "<?xml version=\"1.0\" encoding=\"utf-8\" standalone=\"no\"?>\n",
       "<!DOCTYPE svg PUBLIC \"-//W3C//DTD SVG 1.1//EN\"\n",
       "  \"http://www.w3.org/Graphics/SVG/1.1/DTD/svg11.dtd\">\n",
       "<!-- Created with matplotlib (https://matplotlib.org/) -->\n",
       "<svg height=\"210.168pt\" version=\"1.1\" viewBox=\"0 0 331.152624 210.168\" width=\"331.152624pt\" xmlns=\"http://www.w3.org/2000/svg\" xmlns:xlink=\"http://www.w3.org/1999/xlink\">\n",
       " <metadata>\n",
       "  <rdf:RDF xmlns:cc=\"http://creativecommons.org/ns#\" xmlns:dc=\"http://purl.org/dc/elements/1.1/\" xmlns:rdf=\"http://www.w3.org/1999/02/22-rdf-syntax-ns#\">\n",
       "   <cc:Work>\n",
       "    <dc:type rdf:resource=\"http://purl.org/dc/dcmitype/StillImage\"/>\n",
       "    <dc:date>2021-04-01T08:59:54.750347</dc:date>\n",
       "    <dc:format>image/svg+xml</dc:format>\n",
       "    <dc:creator>\n",
       "     <cc:Agent>\n",
       "      <dc:title>Matplotlib v3.3.3, https://matplotlib.org/</dc:title>\n",
       "     </cc:Agent>\n",
       "    </dc:creator>\n",
       "   </cc:Work>\n",
       "  </rdf:RDF>\n",
       " </metadata>\n",
       " <defs>\n",
       "  <style type=\"text/css\">*{stroke-linecap:butt;stroke-linejoin:round;}</style>\n",
       " </defs>\n",
       " <g id=\"figure_1\">\n",
       "  <g id=\"patch_1\">\n",
       "   <path d=\"M 0 210.168 \n",
       "L 331.152624 210.168 \n",
       "L 331.152624 0 \n",
       "L 0 0 \n",
       "z\n",
       "\" style=\"fill:#ffffff;\"/>\n",
       "  </g>\n",
       "  <g id=\"axes_1\">\n",
       "   <g id=\"LineCollection_1\">\n",
       "    <path clip-path=\"url(#pe884d906df)\" d=\"M 266.268099 121.596823 \n",
       "L 188.962229 75.595126 \n",
       "\" style=\"fill:none;stroke:#000000;\"/>\n",
       "    <path clip-path=\"url(#pe884d906df)\" d=\"M 266.268099 121.596823 \n",
       "L 142.189838 134.573001 \n",
       "\" style=\"fill:none;stroke:#000000;\"/>\n",
       "    <path clip-path=\"url(#pe884d906df)\" d=\"M 309.554777 43.775336 \n",
       "L 188.962229 75.595126 \n",
       "\" style=\"fill:none;stroke:#000000;\"/>\n",
       "    <path clip-path=\"url(#pe884d906df)\" d=\"M 64.883566 88.571316 \n",
       "L 142.189838 134.573001 \n",
       "\" style=\"fill:none;stroke:#000000;\"/>\n",
       "    <path clip-path=\"url(#pe884d906df)\" d=\"M 64.883566 88.571316 \n",
       "L 188.962229 75.595126 \n",
       "\" style=\"fill:none;stroke:#000000;\"/>\n",
       "    <path clip-path=\"url(#pe884d906df)\" d=\"M 140.792205 16.098545 \n",
       "L 188.962229 75.595126 \n",
       "\" style=\"fill:none;stroke:#000000;\"/>\n",
       "    <path clip-path=\"url(#pe884d906df)\" d=\"M 142.189838 134.573001 \n",
       "L 21.597847 166.393124 \n",
       "\" style=\"fill:none;stroke:#000000;\"/>\n",
       "    <path clip-path=\"url(#pe884d906df)\" d=\"M 142.189838 134.573001 \n",
       "L 190.361331 194.069455 \n",
       "\" style=\"fill:none;stroke:#000000;\"/>\n",
       "    <path clip-path=\"url(#pe884d906df)\" d=\"M 142.189838 134.573001 \n",
       "L 188.962229 75.595126 \n",
       "\" style=\"fill:none;stroke:#000000;\"/>\n",
       "   </g>\n",
       "   <g id=\"PathCollection_1\">\n",
       "    <defs>\n",
       "     <path d=\"M 0 8.660254 \n",
       "C 2.296726 8.660254 4.499694 7.747755 6.123724 6.123724 \n",
       "C 7.747755 4.499694 8.660254 2.296726 8.660254 0 \n",
       "C 8.660254 -2.296726 7.747755 -4.499694 6.123724 -6.123724 \n",
       "C 4.499694 -7.747755 2.296726 -8.660254 0 -8.660254 \n",
       "C -2.296726 -8.660254 -4.499694 -7.747755 -6.123724 -6.123724 \n",
       "C -7.747755 -4.499694 -8.660254 -2.296726 -8.660254 0 \n",
       "C -8.660254 2.296726 -7.747755 4.499694 -6.123724 6.123724 \n",
       "C -4.499694 7.747755 -2.296726 8.660254 0 8.660254 \n",
       "z\n",
       "\" id=\"mf7bb766bd8\" style=\"stroke:#1f78b4;\"/>\n",
       "    </defs>\n",
       "    <g clip-path=\"url(#pe884d906df)\">\n",
       "     <use style=\"fill:#1f78b4;stroke:#1f78b4;\" x=\"266.268099\" xlink:href=\"#mf7bb766bd8\" y=\"121.596823\"/>\n",
       "     <use style=\"fill:#1f78b4;stroke:#1f78b4;\" x=\"309.554777\" xlink:href=\"#mf7bb766bd8\" y=\"43.775336\"/>\n",
       "     <use style=\"fill:#1f78b4;stroke:#1f78b4;\" x=\"64.883566\" xlink:href=\"#mf7bb766bd8\" y=\"88.571316\"/>\n",
       "     <use style=\"fill:#1f78b4;stroke:#1f78b4;\" x=\"140.792205\" xlink:href=\"#mf7bb766bd8\" y=\"16.098545\"/>\n",
       "     <use style=\"fill:#1f78b4;stroke:#1f78b4;\" x=\"142.189838\" xlink:href=\"#mf7bb766bd8\" y=\"134.573001\"/>\n",
       "     <use style=\"fill:#1f78b4;stroke:#1f78b4;\" x=\"21.597847\" xlink:href=\"#mf7bb766bd8\" y=\"166.393124\"/>\n",
       "     <use style=\"fill:#1f78b4;stroke:#1f78b4;\" x=\"190.361331\" xlink:href=\"#mf7bb766bd8\" y=\"194.069455\"/>\n",
       "     <use style=\"fill:#1f78b4;stroke:#1f78b4;\" x=\"188.962229\" xlink:href=\"#mf7bb766bd8\" y=\"75.595126\"/>\n",
       "    </g>\n",
       "   </g>\n",
       "  </g>\n",
       " </g>\n",
       " <defs>\n",
       "  <clipPath id=\"pe884d906df\">\n",
       "   <rect height=\"195.768\" width=\"316.752624\" x=\"7.2\" y=\"7.2\"/>\n",
       "  </clipPath>\n",
       " </defs>\n",
       "</svg>\n"
      ],
      "text/plain": [
       "<Figure size 316.753x195.768 with 1 Axes>"
      ]
     },
     "metadata": {},
     "output_type": "display_data"
    },
    {
     "data": {
      "image/svg+xml": [
       "<?xml version=\"1.0\" encoding=\"utf-8\" standalone=\"no\"?>\n",
       "<!DOCTYPE svg PUBLIC \"-//W3C//DTD SVG 1.1//EN\"\n",
       "  \"http://www.w3.org/Graphics/SVG/1.1/DTD/svg11.dtd\">\n",
       "<!-- Created with matplotlib (https://matplotlib.org/) -->\n",
       "<svg height=\"210.168pt\" version=\"1.1\" viewBox=\"0 0 331.152624 210.168\" width=\"331.152624pt\" xmlns=\"http://www.w3.org/2000/svg\" xmlns:xlink=\"http://www.w3.org/1999/xlink\">\n",
       " <metadata>\n",
       "  <rdf:RDF xmlns:cc=\"http://creativecommons.org/ns#\" xmlns:dc=\"http://purl.org/dc/elements/1.1/\" xmlns:rdf=\"http://www.w3.org/1999/02/22-rdf-syntax-ns#\">\n",
       "   <cc:Work>\n",
       "    <dc:type rdf:resource=\"http://purl.org/dc/dcmitype/StillImage\"/>\n",
       "    <dc:date>2021-04-01T08:59:54.807550</dc:date>\n",
       "    <dc:format>image/svg+xml</dc:format>\n",
       "    <dc:creator>\n",
       "     <cc:Agent>\n",
       "      <dc:title>Matplotlib v3.3.3, https://matplotlib.org/</dc:title>\n",
       "     </cc:Agent>\n",
       "    </dc:creator>\n",
       "   </cc:Work>\n",
       "  </rdf:RDF>\n",
       " </metadata>\n",
       " <defs>\n",
       "  <style type=\"text/css\">*{stroke-linecap:butt;stroke-linejoin:round;}</style>\n",
       " </defs>\n",
       " <g id=\"figure_1\">\n",
       "  <g id=\"patch_1\">\n",
       "   <path d=\"M 0 210.168 \n",
       "L 331.152624 210.168 \n",
       "L 331.152624 0 \n",
       "L 0 0 \n",
       "z\n",
       "\" style=\"fill:#ffffff;\"/>\n",
       "  </g>\n",
       "  <g id=\"axes_1\">\n",
       "   <g id=\"LineCollection_1\">\n",
       "    <path clip-path=\"url(#p24a965c2fb)\" d=\"M 309.554747 194.069449 \n",
       "L 223.162974 105.083982 \n",
       "\" style=\"fill:none;stroke:#000000;\"/>\n",
       "    <path clip-path=\"url(#p24a965c2fb)\" d=\"M 309.554747 194.069449 \n",
       "L 107.989662 105.083984 \n",
       "\" style=\"fill:none;stroke:#000000;\"/>\n",
       "    <path clip-path=\"url(#p24a965c2fb)\" d=\"M 309.554777 16.098545 \n",
       "L 107.989662 105.083984 \n",
       "\" style=\"fill:none;stroke:#000000;\"/>\n",
       "    <path clip-path=\"url(#p24a965c2fb)\" d=\"M 309.554777 16.098545 \n",
       "L 223.162974 105.083982 \n",
       "\" style=\"fill:none;stroke:#000000;\"/>\n",
       "    <path clip-path=\"url(#p24a965c2fb)\" d=\"M 21.597847 16.098551 \n",
       "L 107.989662 105.083984 \n",
       "\" style=\"fill:none;stroke:#000000;\"/>\n",
       "    <path clip-path=\"url(#p24a965c2fb)\" d=\"M 21.597847 16.098551 \n",
       "L 223.162974 105.083982 \n",
       "\" style=\"fill:none;stroke:#000000;\"/>\n",
       "    <path clip-path=\"url(#p24a965c2fb)\" d=\"M 21.597901 194.069455 \n",
       "L 107.989662 105.083984 \n",
       "\" style=\"fill:none;stroke:#000000;\"/>\n",
       "    <path clip-path=\"url(#p24a965c2fb)\" d=\"M 21.597901 194.069455 \n",
       "L 223.162974 105.083982 \n",
       "\" style=\"fill:none;stroke:#000000;\"/>\n",
       "    <path clip-path=\"url(#p24a965c2fb)\" d=\"M 107.989662 105.083984 \n",
       "L 223.162974 105.083982 \n",
       "\" style=\"fill:none;stroke:#000000;\"/>\n",
       "   </g>\n",
       "   <g id=\"PathCollection_1\">\n",
       "    <defs>\n",
       "     <path d=\"M 0 8.660254 \n",
       "C 2.296726 8.660254 4.499694 7.747755 6.123724 6.123724 \n",
       "C 7.747755 4.499694 8.660254 2.296726 8.660254 0 \n",
       "C 8.660254 -2.296726 7.747755 -4.499694 6.123724 -6.123724 \n",
       "C 4.499694 -7.747755 2.296726 -8.660254 0 -8.660254 \n",
       "C -2.296726 -8.660254 -4.499694 -7.747755 -6.123724 -6.123724 \n",
       "C -7.747755 -4.499694 -8.660254 -2.296726 -8.660254 0 \n",
       "C -8.660254 2.296726 -7.747755 4.499694 -6.123724 6.123724 \n",
       "C -4.499694 7.747755 -2.296726 8.660254 0 8.660254 \n",
       "z\n",
       "\" id=\"m7926e783c1\" style=\"stroke:#1f78b4;\"/>\n",
       "    </defs>\n",
       "    <g clip-path=\"url(#p24a965c2fb)\">\n",
       "     <use style=\"fill:#1f78b4;stroke:#1f78b4;\" x=\"309.554747\" xlink:href=\"#m7926e783c1\" y=\"194.069449\"/>\n",
       "     <use style=\"fill:#1f78b4;stroke:#1f78b4;\" x=\"309.554777\" xlink:href=\"#m7926e783c1\" y=\"16.098545\"/>\n",
       "     <use style=\"fill:#1f78b4;stroke:#1f78b4;\" x=\"21.597847\" xlink:href=\"#m7926e783c1\" y=\"16.098551\"/>\n",
       "     <use style=\"fill:#1f78b4;stroke:#1f78b4;\" x=\"21.597901\" xlink:href=\"#m7926e783c1\" y=\"194.069455\"/>\n",
       "     <use style=\"fill:#1f78b4;stroke:#1f78b4;\" x=\"107.989662\" xlink:href=\"#m7926e783c1\" y=\"105.083984\"/>\n",
       "     <use style=\"fill:#1f78b4;stroke:#1f78b4;\" x=\"223.162974\" xlink:href=\"#m7926e783c1\" y=\"105.083982\"/>\n",
       "    </g>\n",
       "   </g>\n",
       "  </g>\n",
       " </g>\n",
       " <defs>\n",
       "  <clipPath id=\"p24a965c2fb\">\n",
       "   <rect height=\"195.768\" width=\"316.752624\" x=\"7.2\" y=\"7.2\"/>\n",
       "  </clipPath>\n",
       " </defs>\n",
       "</svg>\n"
      ],
      "text/plain": [
       "<Figure size 316.753x195.768 with 1 Axes>"
      ]
     },
     "metadata": {},
     "output_type": "display_data"
    },
    {
     "data": {
      "image/svg+xml": [
       "<?xml version=\"1.0\" encoding=\"utf-8\" standalone=\"no\"?>\n",
       "<!DOCTYPE svg PUBLIC \"-//W3C//DTD SVG 1.1//EN\"\n",
       "  \"http://www.w3.org/Graphics/SVG/1.1/DTD/svg11.dtd\">\n",
       "<!-- Created with matplotlib (https://matplotlib.org/) -->\n",
       "<svg height=\"210.168pt\" version=\"1.1\" viewBox=\"0 0 331.152624 210.168\" width=\"331.152624pt\" xmlns=\"http://www.w3.org/2000/svg\" xmlns:xlink=\"http://www.w3.org/1999/xlink\">\n",
       " <metadata>\n",
       "  <rdf:RDF xmlns:cc=\"http://creativecommons.org/ns#\" xmlns:dc=\"http://purl.org/dc/elements/1.1/\" xmlns:rdf=\"http://www.w3.org/1999/02/22-rdf-syntax-ns#\">\n",
       "   <cc:Work>\n",
       "    <dc:type rdf:resource=\"http://purl.org/dc/dcmitype/StillImage\"/>\n",
       "    <dc:date>2021-04-01T08:59:54.870557</dc:date>\n",
       "    <dc:format>image/svg+xml</dc:format>\n",
       "    <dc:creator>\n",
       "     <cc:Agent>\n",
       "      <dc:title>Matplotlib v3.3.3, https://matplotlib.org/</dc:title>\n",
       "     </cc:Agent>\n",
       "    </dc:creator>\n",
       "   </cc:Work>\n",
       "  </rdf:RDF>\n",
       " </metadata>\n",
       " <defs>\n",
       "  <style type=\"text/css\">*{stroke-linecap:butt;stroke-linejoin:round;}</style>\n",
       " </defs>\n",
       " <g id=\"figure_1\">\n",
       "  <g id=\"patch_1\">\n",
       "   <path d=\"M 0 210.168 \n",
       "L 331.152624 210.168 \n",
       "L 331.152624 0 \n",
       "L 0 0 \n",
       "z\n",
       "\" style=\"fill:#ffffff;\"/>\n",
       "  </g>\n",
       "  <g id=\"axes_1\">\n",
       "   <g id=\"LineCollection_1\">\n",
       "    <path clip-path=\"url(#p1a465d1038)\" d=\"M 309.554777 148.42948 \n",
       "L 176.200902 135.974179 \n",
       "\" style=\"fill:none;stroke:#000000;\"/>\n",
       "    <path clip-path=\"url(#p1a465d1038)\" d=\"M 273.773054 44.384466 \n",
       "L 154.952597 74.193826 \n",
       "\" style=\"fill:none;stroke:#000000;\"/>\n",
       "    <path clip-path=\"url(#p1a465d1038)\" d=\"M 134.973429 16.098545 \n",
       "L 154.952597 74.193826 \n",
       "\" style=\"fill:none;stroke:#000000;\"/>\n",
       "    <path clip-path=\"url(#p1a465d1038)\" d=\"M 21.597847 61.738603 \n",
       "L 154.952597 74.193826 \n",
       "\" style=\"fill:none;stroke:#000000;\"/>\n",
       "    <path clip-path=\"url(#p1a465d1038)\" d=\"M 176.200902 135.974179 \n",
       "L 57.381238 165.784271 \n",
       "\" style=\"fill:none;stroke:#000000;\"/>\n",
       "    <path clip-path=\"url(#p1a465d1038)\" d=\"M 176.200902 135.974179 \n",
       "L 154.952597 74.193826 \n",
       "\" style=\"fill:none;stroke:#000000;\"/>\n",
       "    <path clip-path=\"url(#p1a465d1038)\" d=\"M 176.200902 135.974179 \n",
       "L 196.180631 194.069455 \n",
       "\" style=\"fill:none;stroke:#000000;\"/>\n",
       "   </g>\n",
       "   <g id=\"PathCollection_1\">\n",
       "    <defs>\n",
       "     <path d=\"M 0 8.660254 \n",
       "C 2.296726 8.660254 4.499694 7.747755 6.123724 6.123724 \n",
       "C 7.747755 4.499694 8.660254 2.296726 8.660254 0 \n",
       "C 8.660254 -2.296726 7.747755 -4.499694 6.123724 -6.123724 \n",
       "C 4.499694 -7.747755 2.296726 -8.660254 0 -8.660254 \n",
       "C -2.296726 -8.660254 -4.499694 -7.747755 -6.123724 -6.123724 \n",
       "C -7.747755 -4.499694 -8.660254 -2.296726 -8.660254 0 \n",
       "C -8.660254 2.296726 -7.747755 4.499694 -6.123724 6.123724 \n",
       "C -4.499694 7.747755 -2.296726 8.660254 0 8.660254 \n",
       "z\n",
       "\" id=\"m6206df960d\" style=\"stroke:#1f78b4;\"/>\n",
       "    </defs>\n",
       "    <g clip-path=\"url(#p1a465d1038)\">\n",
       "     <use style=\"fill:#1f78b4;stroke:#1f78b4;\" x=\"309.554777\" xlink:href=\"#m6206df960d\" y=\"148.42948\"/>\n",
       "     <use style=\"fill:#1f78b4;stroke:#1f78b4;\" x=\"273.773054\" xlink:href=\"#m6206df960d\" y=\"44.384466\"/>\n",
       "     <use style=\"fill:#1f78b4;stroke:#1f78b4;\" x=\"134.973429\" xlink:href=\"#m6206df960d\" y=\"16.098545\"/>\n",
       "     <use style=\"fill:#1f78b4;stroke:#1f78b4;\" x=\"21.597847\" xlink:href=\"#m6206df960d\" y=\"61.738603\"/>\n",
       "     <use style=\"fill:#1f78b4;stroke:#1f78b4;\" x=\"176.200902\" xlink:href=\"#m6206df960d\" y=\"135.974179\"/>\n",
       "     <use style=\"fill:#1f78b4;stroke:#1f78b4;\" x=\"57.381238\" xlink:href=\"#m6206df960d\" y=\"165.784271\"/>\n",
       "     <use style=\"fill:#1f78b4;stroke:#1f78b4;\" x=\"154.952597\" xlink:href=\"#m6206df960d\" y=\"74.193826\"/>\n",
       "     <use style=\"fill:#1f78b4;stroke:#1f78b4;\" x=\"196.180631\" xlink:href=\"#m6206df960d\" y=\"194.069455\"/>\n",
       "    </g>\n",
       "   </g>\n",
       "  </g>\n",
       " </g>\n",
       " <defs>\n",
       "  <clipPath id=\"p1a465d1038\">\n",
       "   <rect height=\"195.768\" width=\"316.752624\" x=\"7.2\" y=\"7.2\"/>\n",
       "  </clipPath>\n",
       " </defs>\n",
       "</svg>\n"
      ],
      "text/plain": [
       "<Figure size 316.753x195.768 with 1 Axes>"
      ]
     },
     "metadata": {},
     "output_type": "display_data"
    },
    {
     "data": {
      "image/svg+xml": [
       "<?xml version=\"1.0\" encoding=\"utf-8\" standalone=\"no\"?>\n",
       "<!DOCTYPE svg PUBLIC \"-//W3C//DTD SVG 1.1//EN\"\n",
       "  \"http://www.w3.org/Graphics/SVG/1.1/DTD/svg11.dtd\">\n",
       "<!-- Created with matplotlib (https://matplotlib.org/) -->\n",
       "<svg height=\"210.168pt\" version=\"1.1\" viewBox=\"0 0 331.152624 210.168\" width=\"331.152624pt\" xmlns=\"http://www.w3.org/2000/svg\" xmlns:xlink=\"http://www.w3.org/1999/xlink\">\n",
       " <metadata>\n",
       "  <rdf:RDF xmlns:cc=\"http://creativecommons.org/ns#\" xmlns:dc=\"http://purl.org/dc/elements/1.1/\" xmlns:rdf=\"http://www.w3.org/1999/02/22-rdf-syntax-ns#\">\n",
       "   <cc:Work>\n",
       "    <dc:type rdf:resource=\"http://purl.org/dc/dcmitype/StillImage\"/>\n",
       "    <dc:date>2021-04-01T08:59:54.914908</dc:date>\n",
       "    <dc:format>image/svg+xml</dc:format>\n",
       "    <dc:creator>\n",
       "     <cc:Agent>\n",
       "      <dc:title>Matplotlib v3.3.3, https://matplotlib.org/</dc:title>\n",
       "     </cc:Agent>\n",
       "    </dc:creator>\n",
       "   </cc:Work>\n",
       "  </rdf:RDF>\n",
       " </metadata>\n",
       " <defs>\n",
       "  <style type=\"text/css\">*{stroke-linecap:butt;stroke-linejoin:round;}</style>\n",
       " </defs>\n",
       " <g id=\"figure_1\">\n",
       "  <g id=\"patch_1\">\n",
       "   <path d=\"M 0 210.168 \n",
       "L 331.152624 210.168 \n",
       "L 331.152624 0 \n",
       "L 0 0 \n",
       "z\n",
       "\" style=\"fill:#ffffff;\"/>\n",
       "  </g>\n",
       "  <g id=\"axes_1\">\n",
       "   <g id=\"LineCollection_1\">\n",
       "    <path clip-path=\"url(#p7bb4b66e7f)\" d=\"M 248.591635 123.780172 \n",
       "L 200.835657 71.832966 \n",
       "\" style=\"fill:none;stroke:#000000;\"/>\n",
       "    <path clip-path=\"url(#p7bb4b66e7f)\" d=\"M 248.591635 123.780172 \n",
       "L 140.739927 129.078147 \n",
       "\" style=\"fill:none;stroke:#000000;\"/>\n",
       "    <path clip-path=\"url(#p7bb4b66e7f)\" d=\"M 309.554777 42.267991 \n",
       "L 200.835657 71.832966 \n",
       "\" style=\"fill:none;stroke:#000000;\"/>\n",
       "    <path clip-path=\"url(#p7bb4b66e7f)\" d=\"M 143.02385 16.098545 \n",
       "L 200.835657 71.832966 \n",
       "\" style=\"fill:none;stroke:#000000;\"/>\n",
       "    <path clip-path=\"url(#p7bb4b66e7f)\" d=\"M 140.739927 129.078147 \n",
       "L 21.597847 131.764249 \n",
       "\" style=\"fill:none;stroke:#000000;\"/>\n",
       "    <path clip-path=\"url(#p7bb4b66e7f)\" d=\"M 140.739927 129.078147 \n",
       "L 150.18642 194.069455 \n",
       "\" style=\"fill:none;stroke:#000000;\"/>\n",
       "    <path clip-path=\"url(#p7bb4b66e7f)\" d=\"M 140.739927 129.078147 \n",
       "L 200.835657 71.832966 \n",
       "\" style=\"fill:none;stroke:#000000;\"/>\n",
       "   </g>\n",
       "   <g id=\"PathCollection_1\">\n",
       "    <defs>\n",
       "     <path d=\"M 0 8.660254 \n",
       "C 2.296726 8.660254 4.499694 7.747755 6.123724 6.123724 \n",
       "C 7.747755 4.499694 8.660254 2.296726 8.660254 0 \n",
       "C 8.660254 -2.296726 7.747755 -4.499694 6.123724 -6.123724 \n",
       "C 4.499694 -7.747755 2.296726 -8.660254 0 -8.660254 \n",
       "C -2.296726 -8.660254 -4.499694 -7.747755 -6.123724 -6.123724 \n",
       "C -7.747755 -4.499694 -8.660254 -2.296726 -8.660254 0 \n",
       "C -8.660254 2.296726 -7.747755 4.499694 -6.123724 6.123724 \n",
       "C -4.499694 7.747755 -2.296726 8.660254 0 8.660254 \n",
       "z\n",
       "\" id=\"m26cb385ca6\" style=\"stroke:#1f78b4;\"/>\n",
       "    </defs>\n",
       "    <g clip-path=\"url(#p7bb4b66e7f)\">\n",
       "     <use style=\"fill:#1f78b4;stroke:#1f78b4;\" x=\"248.591635\" xlink:href=\"#m26cb385ca6\" y=\"123.780172\"/>\n",
       "     <use style=\"fill:#1f78b4;stroke:#1f78b4;\" x=\"309.554777\" xlink:href=\"#m26cb385ca6\" y=\"42.267991\"/>\n",
       "     <use style=\"fill:#1f78b4;stroke:#1f78b4;\" x=\"143.02385\" xlink:href=\"#m26cb385ca6\" y=\"16.098545\"/>\n",
       "     <use style=\"fill:#1f78b4;stroke:#1f78b4;\" x=\"140.739927\" xlink:href=\"#m26cb385ca6\" y=\"129.078147\"/>\n",
       "     <use style=\"fill:#1f78b4;stroke:#1f78b4;\" x=\"21.597847\" xlink:href=\"#m26cb385ca6\" y=\"131.764249\"/>\n",
       "     <use style=\"fill:#1f78b4;stroke:#1f78b4;\" x=\"150.18642\" xlink:href=\"#m26cb385ca6\" y=\"194.069455\"/>\n",
       "     <use style=\"fill:#1f78b4;stroke:#1f78b4;\" x=\"200.835657\" xlink:href=\"#m26cb385ca6\" y=\"71.832966\"/>\n",
       "    </g>\n",
       "   </g>\n",
       "  </g>\n",
       " </g>\n",
       " <defs>\n",
       "  <clipPath id=\"p7bb4b66e7f\">\n",
       "   <rect height=\"195.768\" width=\"316.752624\" x=\"7.2\" y=\"7.2\"/>\n",
       "  </clipPath>\n",
       " </defs>\n",
       "</svg>\n"
      ],
      "text/plain": [
       "<Figure size 316.753x195.768 with 1 Axes>"
      ]
     },
     "metadata": {},
     "output_type": "display_data"
    },
    {
     "data": {
      "image/svg+xml": [
       "<?xml version=\"1.0\" encoding=\"utf-8\" standalone=\"no\"?>\n",
       "<!DOCTYPE svg PUBLIC \"-//W3C//DTD SVG 1.1//EN\"\n",
       "  \"http://www.w3.org/Graphics/SVG/1.1/DTD/svg11.dtd\">\n",
       "<!-- Created with matplotlib (https://matplotlib.org/) -->\n",
       "<svg height=\"210.168pt\" version=\"1.1\" viewBox=\"0 0 331.152624 210.168\" width=\"331.152624pt\" xmlns=\"http://www.w3.org/2000/svg\" xmlns:xlink=\"http://www.w3.org/1999/xlink\">\n",
       " <metadata>\n",
       "  <rdf:RDF xmlns:cc=\"http://creativecommons.org/ns#\" xmlns:dc=\"http://purl.org/dc/elements/1.1/\" xmlns:rdf=\"http://www.w3.org/1999/02/22-rdf-syntax-ns#\">\n",
       "   <cc:Work>\n",
       "    <dc:type rdf:resource=\"http://purl.org/dc/dcmitype/StillImage\"/>\n",
       "    <dc:date>2021-04-01T08:59:54.972620</dc:date>\n",
       "    <dc:format>image/svg+xml</dc:format>\n",
       "    <dc:creator>\n",
       "     <cc:Agent>\n",
       "      <dc:title>Matplotlib v3.3.3, https://matplotlib.org/</dc:title>\n",
       "     </cc:Agent>\n",
       "    </dc:creator>\n",
       "   </cc:Work>\n",
       "  </rdf:RDF>\n",
       " </metadata>\n",
       " <defs>\n",
       "  <style type=\"text/css\">*{stroke-linecap:butt;stroke-linejoin:round;}</style>\n",
       " </defs>\n",
       " <g id=\"figure_1\">\n",
       "  <g id=\"patch_1\">\n",
       "   <path d=\"M 0 210.168 \n",
       "L 331.152624 210.168 \n",
       "L 331.152624 0 \n",
       "L 0 0 \n",
       "z\n",
       "\" style=\"fill:#ffffff;\"/>\n",
       "  </g>\n",
       "  <g id=\"axes_1\">\n",
       "   <g id=\"LineCollection_1\">\n",
       "    <path clip-path=\"url(#pf6c3b82bff)\" d=\"M 309.554777 16.098545 \n",
       "L 188.424273 67.123711 \n",
       "\" style=\"fill:none;stroke:#000000;\"/>\n",
       "    <path clip-path=\"url(#pf6c3b82bff)\" d=\"M 188.424273 67.123711 \n",
       "L 157.819815 126.910305 \n",
       "\" style=\"fill:none;stroke:#000000;\"/>\n",
       "    <path clip-path=\"url(#pf6c3b82bff)\" d=\"M 188.424273 67.123711 \n",
       "L 21.597847 114.79012 \n",
       "\" style=\"fill:none;stroke:#000000;\"/>\n",
       "    <path clip-path=\"url(#pf6c3b82bff)\" d=\"M 188.424273 67.123711 \n",
       "L 52.173885 55.058485 \n",
       "\" style=\"fill:none;stroke:#000000;\"/>\n",
       "    <path clip-path=\"url(#pf6c3b82bff)\" d=\"M 157.819815 126.910305 \n",
       "L 218.451675 194.069455 \n",
       "\" style=\"fill:none;stroke:#000000;\"/>\n",
       "    <path clip-path=\"url(#pf6c3b82bff)\" d=\"M 157.819815 126.910305 \n",
       "L 52.173885 55.058485 \n",
       "\" style=\"fill:none;stroke:#000000;\"/>\n",
       "    <path clip-path=\"url(#pf6c3b82bff)\" d=\"M 157.819815 126.910305 \n",
       "L 21.597847 114.79012 \n",
       "\" style=\"fill:none;stroke:#000000;\"/>\n",
       "   </g>\n",
       "   <g id=\"PathCollection_1\">\n",
       "    <defs>\n",
       "     <path d=\"M 0 8.660254 \n",
       "C 2.296726 8.660254 4.499694 7.747755 6.123724 6.123724 \n",
       "C 7.747755 4.499694 8.660254 2.296726 8.660254 0 \n",
       "C 8.660254 -2.296726 7.747755 -4.499694 6.123724 -6.123724 \n",
       "C 4.499694 -7.747755 2.296726 -8.660254 0 -8.660254 \n",
       "C -2.296726 -8.660254 -4.499694 -7.747755 -6.123724 -6.123724 \n",
       "C -7.747755 -4.499694 -8.660254 -2.296726 -8.660254 0 \n",
       "C -8.660254 2.296726 -7.747755 4.499694 -6.123724 6.123724 \n",
       "C -4.499694 7.747755 -2.296726 8.660254 0 8.660254 \n",
       "z\n",
       "\" id=\"m0fa6129326\" style=\"stroke:#1f78b4;\"/>\n",
       "    </defs>\n",
       "    <g clip-path=\"url(#pf6c3b82bff)\">\n",
       "     <use style=\"fill:#1f78b4;stroke:#1f78b4;\" x=\"309.554777\" xlink:href=\"#m0fa6129326\" y=\"16.098545\"/>\n",
       "     <use style=\"fill:#1f78b4;stroke:#1f78b4;\" x=\"188.424273\" xlink:href=\"#m0fa6129326\" y=\"67.123711\"/>\n",
       "     <use style=\"fill:#1f78b4;stroke:#1f78b4;\" x=\"157.819815\" xlink:href=\"#m0fa6129326\" y=\"126.910305\"/>\n",
       "     <use style=\"fill:#1f78b4;stroke:#1f78b4;\" x=\"52.173885\" xlink:href=\"#m0fa6129326\" y=\"55.058485\"/>\n",
       "     <use style=\"fill:#1f78b4;stroke:#1f78b4;\" x=\"21.597847\" xlink:href=\"#m0fa6129326\" y=\"114.79012\"/>\n",
       "     <use style=\"fill:#1f78b4;stroke:#1f78b4;\" x=\"218.451675\" xlink:href=\"#m0fa6129326\" y=\"194.069455\"/>\n",
       "    </g>\n",
       "   </g>\n",
       "  </g>\n",
       " </g>\n",
       " <defs>\n",
       "  <clipPath id=\"pf6c3b82bff\">\n",
       "   <rect height=\"195.768\" width=\"316.752624\" x=\"7.2\" y=\"7.2\"/>\n",
       "  </clipPath>\n",
       " </defs>\n",
       "</svg>\n"
      ],
      "text/plain": [
       "<Figure size 316.753x195.768 with 1 Axes>"
      ]
     },
     "metadata": {},
     "output_type": "display_data"
    },
    {
     "data": {
      "image/svg+xml": [
       "<?xml version=\"1.0\" encoding=\"utf-8\" standalone=\"no\"?>\n",
       "<!DOCTYPE svg PUBLIC \"-//W3C//DTD SVG 1.1//EN\"\n",
       "  \"http://www.w3.org/Graphics/SVG/1.1/DTD/svg11.dtd\">\n",
       "<!-- Created with matplotlib (https://matplotlib.org/) -->\n",
       "<svg height=\"210.168pt\" version=\"1.1\" viewBox=\"0 0 331.152624 210.168\" width=\"331.152624pt\" xmlns=\"http://www.w3.org/2000/svg\" xmlns:xlink=\"http://www.w3.org/1999/xlink\">\n",
       " <metadata>\n",
       "  <rdf:RDF xmlns:cc=\"http://creativecommons.org/ns#\" xmlns:dc=\"http://purl.org/dc/elements/1.1/\" xmlns:rdf=\"http://www.w3.org/1999/02/22-rdf-syntax-ns#\">\n",
       "   <cc:Work>\n",
       "    <dc:type rdf:resource=\"http://purl.org/dc/dcmitype/StillImage\"/>\n",
       "    <dc:date>2021-04-01T08:59:55.030477</dc:date>\n",
       "    <dc:format>image/svg+xml</dc:format>\n",
       "    <dc:creator>\n",
       "     <cc:Agent>\n",
       "      <dc:title>Matplotlib v3.3.3, https://matplotlib.org/</dc:title>\n",
       "     </cc:Agent>\n",
       "    </dc:creator>\n",
       "   </cc:Work>\n",
       "  </rdf:RDF>\n",
       " </metadata>\n",
       " <defs>\n",
       "  <style type=\"text/css\">*{stroke-linecap:butt;stroke-linejoin:round;}</style>\n",
       " </defs>\n",
       " <g id=\"figure_1\">\n",
       "  <g id=\"patch_1\">\n",
       "   <path d=\"M 0 210.168 \n",
       "L 331.152624 210.168 \n",
       "L 331.152624 0 \n",
       "L 0 0 \n",
       "z\n",
       "\" style=\"fill:#ffffff;\"/>\n",
       "  </g>\n",
       "  <g id=\"axes_1\">\n",
       "   <g id=\"LineCollection_1\">\n",
       "    <path clip-path=\"url(#p68666efed1)\" d=\"M 309.554777 192.143584 \n",
       "L 167.037884 144.773315 \n",
       "\" style=\"fill:none;stroke:#000000;\"/>\n",
       "    <path clip-path=\"url(#p68666efed1)\" d=\"M 303.059328 16.098545 \n",
       "L 164.110279 65.3955 \n",
       "\" style=\"fill:none;stroke:#000000;\"/>\n",
       "    <path clip-path=\"url(#p68666efed1)\" d=\"M 21.597847 18.02334 \n",
       "L 164.110279 65.3955 \n",
       "\" style=\"fill:none;stroke:#000000;\"/>\n",
       "    <path clip-path=\"url(#p68666efed1)\" d=\"M 167.037884 144.773315 \n",
       "L 28.086866 194.069455 \n",
       "\" style=\"fill:none;stroke:#000000;\"/>\n",
       "    <path clip-path=\"url(#p68666efed1)\" d=\"M 167.037884 144.773315 \n",
       "L 164.110279 65.3955 \n",
       "\" style=\"fill:none;stroke:#000000;\"/>\n",
       "   </g>\n",
       "   <g id=\"PathCollection_1\">\n",
       "    <defs>\n",
       "     <path d=\"M 0 8.660254 \n",
       "C 2.296726 8.660254 4.499694 7.747755 6.123724 6.123724 \n",
       "C 7.747755 4.499694 8.660254 2.296726 8.660254 0 \n",
       "C 8.660254 -2.296726 7.747755 -4.499694 6.123724 -6.123724 \n",
       "C 4.499694 -7.747755 2.296726 -8.660254 0 -8.660254 \n",
       "C -2.296726 -8.660254 -4.499694 -7.747755 -6.123724 -6.123724 \n",
       "C -7.747755 -4.499694 -8.660254 -2.296726 -8.660254 0 \n",
       "C -8.660254 2.296726 -7.747755 4.499694 -6.123724 6.123724 \n",
       "C -4.499694 7.747755 -2.296726 8.660254 0 8.660254 \n",
       "z\n",
       "\" id=\"mbb18e6e57a\" style=\"stroke:#1f78b4;\"/>\n",
       "    </defs>\n",
       "    <g clip-path=\"url(#p68666efed1)\">\n",
       "     <use style=\"fill:#1f78b4;stroke:#1f78b4;\" x=\"309.554777\" xlink:href=\"#mbb18e6e57a\" y=\"192.143584\"/>\n",
       "     <use style=\"fill:#1f78b4;stroke:#1f78b4;\" x=\"303.059328\" xlink:href=\"#mbb18e6e57a\" y=\"16.098545\"/>\n",
       "     <use style=\"fill:#1f78b4;stroke:#1f78b4;\" x=\"21.597847\" xlink:href=\"#mbb18e6e57a\" y=\"18.02334\"/>\n",
       "     <use style=\"fill:#1f78b4;stroke:#1f78b4;\" x=\"167.037884\" xlink:href=\"#mbb18e6e57a\" y=\"144.773315\"/>\n",
       "     <use style=\"fill:#1f78b4;stroke:#1f78b4;\" x=\"28.086866\" xlink:href=\"#mbb18e6e57a\" y=\"194.069455\"/>\n",
       "     <use style=\"fill:#1f78b4;stroke:#1f78b4;\" x=\"164.110279\" xlink:href=\"#mbb18e6e57a\" y=\"65.3955\"/>\n",
       "    </g>\n",
       "   </g>\n",
       "  </g>\n",
       " </g>\n",
       " <defs>\n",
       "  <clipPath id=\"p68666efed1\">\n",
       "   <rect height=\"195.768\" width=\"316.752624\" x=\"7.2\" y=\"7.2\"/>\n",
       "  </clipPath>\n",
       " </defs>\n",
       "</svg>\n"
      ],
      "text/plain": [
       "<Figure size 316.753x195.768 with 1 Axes>"
      ]
     },
     "metadata": {},
     "output_type": "display_data"
    },
    {
     "data": {
      "image/svg+xml": [
       "<?xml version=\"1.0\" encoding=\"utf-8\" standalone=\"no\"?>\n",
       "<!DOCTYPE svg PUBLIC \"-//W3C//DTD SVG 1.1//EN\"\n",
       "  \"http://www.w3.org/Graphics/SVG/1.1/DTD/svg11.dtd\">\n",
       "<!-- Created with matplotlib (https://matplotlib.org/) -->\n",
       "<svg height=\"210.168pt\" version=\"1.1\" viewBox=\"0 0 331.152624 210.168\" width=\"331.152624pt\" xmlns=\"http://www.w3.org/2000/svg\" xmlns:xlink=\"http://www.w3.org/1999/xlink\">\n",
       " <metadata>\n",
       "  <rdf:RDF xmlns:cc=\"http://creativecommons.org/ns#\" xmlns:dc=\"http://purl.org/dc/elements/1.1/\" xmlns:rdf=\"http://www.w3.org/1999/02/22-rdf-syntax-ns#\">\n",
       "   <cc:Work>\n",
       "    <dc:type rdf:resource=\"http://purl.org/dc/dcmitype/StillImage\"/>\n",
       "    <dc:date>2021-04-01T08:59:55.094444</dc:date>\n",
       "    <dc:format>image/svg+xml</dc:format>\n",
       "    <dc:creator>\n",
       "     <cc:Agent>\n",
       "      <dc:title>Matplotlib v3.3.3, https://matplotlib.org/</dc:title>\n",
       "     </cc:Agent>\n",
       "    </dc:creator>\n",
       "   </cc:Work>\n",
       "  </rdf:RDF>\n",
       " </metadata>\n",
       " <defs>\n",
       "  <style type=\"text/css\">*{stroke-linecap:butt;stroke-linejoin:round;}</style>\n",
       " </defs>\n",
       " <g id=\"figure_1\">\n",
       "  <g id=\"patch_1\">\n",
       "   <path d=\"M 0 210.168 \n",
       "L 331.152624 210.168 \n",
       "L 331.152624 0 \n",
       "L 0 0 \n",
       "z\n",
       "\" style=\"fill:#ffffff;\"/>\n",
       "  </g>\n",
       "  <g id=\"axes_1\">\n",
       "   <g id=\"LineCollection_1\">\n",
       "    <path clip-path=\"url(#p26fd777ae6)\" d=\"M 309.554777 194.069455 \n",
       "L 213.426133 135.583414 \n",
       "\" style=\"fill:none;stroke:#000000;\"/>\n",
       "    <path clip-path=\"url(#p26fd777ae6)\" d=\"M 117.725912 74.589281 \n",
       "L 21.597847 16.098545 \n",
       "\" style=\"fill:none;stroke:#000000;\"/>\n",
       "    <path clip-path=\"url(#p26fd777ae6)\" d=\"M 117.725912 74.589281 \n",
       "L 213.426133 135.583414 \n",
       "\" style=\"fill:none;stroke:#000000;\"/>\n",
       "   </g>\n",
       "   <g id=\"PathCollection_1\">\n",
       "    <defs>\n",
       "     <path d=\"M 0 8.660254 \n",
       "C 2.296726 8.660254 4.499694 7.747755 6.123724 6.123724 \n",
       "C 7.747755 4.499694 8.660254 2.296726 8.660254 0 \n",
       "C 8.660254 -2.296726 7.747755 -4.499694 6.123724 -6.123724 \n",
       "C 4.499694 -7.747755 2.296726 -8.660254 0 -8.660254 \n",
       "C -2.296726 -8.660254 -4.499694 -7.747755 -6.123724 -6.123724 \n",
       "C -7.747755 -4.499694 -8.660254 -2.296726 -8.660254 0 \n",
       "C -8.660254 2.296726 -7.747755 4.499694 -6.123724 6.123724 \n",
       "C -4.499694 7.747755 -2.296726 8.660254 0 8.660254 \n",
       "z\n",
       "\" id=\"mea1656f754\" style=\"stroke:#1f78b4;\"/>\n",
       "    </defs>\n",
       "    <g clip-path=\"url(#p26fd777ae6)\">\n",
       "     <use style=\"fill:#1f78b4;stroke:#1f78b4;\" x=\"309.554777\" xlink:href=\"#mea1656f754\" y=\"194.069455\"/>\n",
       "     <use style=\"fill:#1f78b4;stroke:#1f78b4;\" x=\"117.725912\" xlink:href=\"#mea1656f754\" y=\"74.589281\"/>\n",
       "     <use style=\"fill:#1f78b4;stroke:#1f78b4;\" x=\"21.597847\" xlink:href=\"#mea1656f754\" y=\"16.098545\"/>\n",
       "     <use style=\"fill:#1f78b4;stroke:#1f78b4;\" x=\"213.426133\" xlink:href=\"#mea1656f754\" y=\"135.583414\"/>\n",
       "    </g>\n",
       "   </g>\n",
       "  </g>\n",
       " </g>\n",
       " <defs>\n",
       "  <clipPath id=\"p26fd777ae6\">\n",
       "   <rect height=\"195.768\" width=\"316.752624\" x=\"7.2\" y=\"7.2\"/>\n",
       "  </clipPath>\n",
       " </defs>\n",
       "</svg>\n"
      ],
      "text/plain": [
       "<Figure size 316.753x195.768 with 1 Axes>"
      ]
     },
     "metadata": {},
     "output_type": "display_data"
    }
   ],
   "source": [
    "for g in uniq_subg.values():\n",
    "    nx.draw_kamada_kawai(g)\n",
    "    plt.show()"
   ]
  },
  {
   "cell_type": "code",
   "execution_count": null,
   "metadata": {},
   "outputs": [],
   "source": []
  },
  {
   "cell_type": "code",
   "execution_count": 645,
   "metadata": {},
   "outputs": [],
   "source": [
    "from qtensor import parameter_optimization as popt\n",
    "import torch\n"
   ]
  },
  {
   "cell_type": "code",
   "execution_count": 835,
   "metadata": {},
   "outputs": [],
   "source": [
    "def get_qaoa_params(graph, edge, gamma=[0.5], beta=[0.5], steps=30):\n",
    "    loss_history, params_history = popt.qaoa_maxcut_torch(graph, gamma, beta,\n",
    "                                                          ordering_algo='greedy',\n",
    "                                                          Opt=torch.optim.RMSprop,\n",
    "                                                          edge=edge,\n",
    "                                                          opt_kwargs=dict(lr=0.002),\n",
    "                                                          steps=steps)\n",
    "    best_ix = np.argmin(loss_history)\n",
    "    return params_history[best_ix], loss_history[best_ix]\n"
   ]
  },
  {
   "cell_type": "code",
   "execution_count": 833,
   "metadata": {},
   "outputs": [],
   "source": [
    "def get_edge_contribution(graph, edge, gamma, beta):\n",
    "    sim = qtensor.QtreeSimulator()\n",
    "    composer = qtensor.DefaultQAOAComposer(graph, gamma=gamma, beta=beta)\n",
    "    composer.energy_expectation_lightcone(edge)\n",
    "    return np.real(sim.simulate_batch(composer.circuit)[0])"
   ]
  },
  {
   "cell_type": "markdown",
   "metadata": {},
   "source": [
    "### Test learning $\\gamma \\beta$"
   ]
  },
  {
   "cell_type": "code",
   "execution_count": 834,
   "metadata": {},
   "outputs": [
    {
     "data": {
      "application/vnd.jupyter.widget-view+json": {
       "model_id": "d2f8b96aba494e32abb67db989ea5a33",
       "version_major": 2,
       "version_minor": 0
      },
      "text/plain": [
       "HBox(children=(HTML(value=''), FloatProgress(value=0.0, max=30.0), HTML(value='')))"
      ]
     },
     "metadata": {},
     "output_type": "display_data"
    }
   ],
   "source": [
    "gamma, beta = [0.5], [0.5]\n",
    "test_g = list(uniq_subg.values())[0]\n",
    "loss_history, params_history = popt.qaoa_maxcut_torch(test_g, gamma, beta,\n",
    "                                                      ordering_algo='greedy',\n",
    "                                                      edge=(0, 1),\n",
    "                                                      Opt=torch.optim.RMSprop,\n",
    "                                                      opt_kwargs=dict(lr=0.002),\n",
    "                                                      steps=30)"
   ]
  },
  {
   "cell_type": "code",
   "execution_count": 822,
   "metadata": {},
   "outputs": [
    {
     "data": {
      "text/plain": [
       "[<matplotlib.lines.Line2D at 0x7f257ac91af0>]"
      ]
     },
     "execution_count": 822,
     "metadata": {},
     "output_type": "execute_result"
    },
    {
     "data": {
      "image/svg+xml": [
       "<?xml version=\"1.0\" encoding=\"utf-8\" standalone=\"no\"?>\n",
       "<!DOCTYPE svg PUBLIC \"-//W3C//DTD SVG 1.1//EN\"\n",
       "  \"http://www.w3.org/Graphics/SVG/1.1/DTD/svg11.dtd\">\n",
       "<!-- Created with matplotlib (https://matplotlib.org/) -->\n",
       "<svg height=\"178.882965pt\" version=\"1.1\" viewBox=\"0 0 297.528596 178.882965\" width=\"297.528596pt\" xmlns=\"http://www.w3.org/2000/svg\" xmlns:xlink=\"http://www.w3.org/1999/xlink\">\n",
       " <metadata>\n",
       "  <rdf:RDF xmlns:cc=\"http://creativecommons.org/ns#\" xmlns:dc=\"http://purl.org/dc/elements/1.1/\" xmlns:rdf=\"http://www.w3.org/1999/02/22-rdf-syntax-ns#\">\n",
       "   <cc:Work>\n",
       "    <dc:type rdf:resource=\"http://purl.org/dc/dcmitype/StillImage\"/>\n",
       "    <dc:date>2021-04-01T09:39:51.581089</dc:date>\n",
       "    <dc:format>image/svg+xml</dc:format>\n",
       "    <dc:creator>\n",
       "     <cc:Agent>\n",
       "      <dc:title>Matplotlib v3.3.3, https://matplotlib.org/</dc:title>\n",
       "     </cc:Agent>\n",
       "    </dc:creator>\n",
       "   </cc:Work>\n",
       "  </rdf:RDF>\n",
       " </metadata>\n",
       " <defs>\n",
       "  <style type=\"text/css\">*{stroke-linecap:butt;stroke-linejoin:round;}</style>\n",
       " </defs>\n",
       " <g id=\"figure_1\">\n",
       "  <g id=\"patch_1\">\n",
       "   <path d=\"M -0 178.882965 \n",
       "L 297.528596 178.882965 \n",
       "L 297.528596 0 \n",
       "L -0 0 \n",
       "z\n",
       "\" style=\"fill:none;\"/>\n",
       "  </g>\n",
       "  <g id=\"axes_1\">\n",
       "   <g id=\"patch_2\">\n",
       "    <path d=\"M 44.845313 155.00484 \n",
       "L 290.328596 155.00484 \n",
       "L 290.328596 7.2 \n",
       "L 44.845313 7.2 \n",
       "z\n",
       "\" style=\"fill:#ffffff;\"/>\n",
       "   </g>\n",
       "   <g id=\"matplotlib.axis_1\">\n",
       "    <g id=\"xtick_1\">\n",
       "     <g id=\"line2d_1\">\n",
       "      <defs>\n",
       "       <path d=\"M 0 0 \n",
       "L 0 3.5 \n",
       "\" id=\"mb39254b1c6\" style=\"stroke:#000000;stroke-width:0.8;\"/>\n",
       "      </defs>\n",
       "      <g>\n",
       "       <use style=\"stroke:#000000;stroke-width:0.8;\" x=\"56.003644\" xlink:href=\"#mb39254b1c6\" y=\"155.00484\"/>\n",
       "      </g>\n",
       "     </g>\n",
       "     <g id=\"text_1\">\n",
       "      <!-- 0 -->\n",
       "      <g transform=\"translate(52.822394 169.603278)scale(0.1 -0.1)\">\n",
       "       <defs>\n",
       "        <path d=\"M 31.78125 66.40625 \n",
       "Q 24.171875 66.40625 20.328125 58.90625 \n",
       "Q 16.5 51.421875 16.5 36.375 \n",
       "Q 16.5 21.390625 20.328125 13.890625 \n",
       "Q 24.171875 6.390625 31.78125 6.390625 \n",
       "Q 39.453125 6.390625 43.28125 13.890625 \n",
       "Q 47.125 21.390625 47.125 36.375 \n",
       "Q 47.125 51.421875 43.28125 58.90625 \n",
       "Q 39.453125 66.40625 31.78125 66.40625 \n",
       "z\n",
       "M 31.78125 74.21875 \n",
       "Q 44.046875 74.21875 50.515625 64.515625 \n",
       "Q 56.984375 54.828125 56.984375 36.375 \n",
       "Q 56.984375 17.96875 50.515625 8.265625 \n",
       "Q 44.046875 -1.421875 31.78125 -1.421875 \n",
       "Q 19.53125 -1.421875 13.0625 8.265625 \n",
       "Q 6.59375 17.96875 6.59375 36.375 \n",
       "Q 6.59375 54.828125 13.0625 64.515625 \n",
       "Q 19.53125 74.21875 31.78125 74.21875 \n",
       "z\n",
       "\" id=\"DejaVuSans-48\"/>\n",
       "       </defs>\n",
       "       <use xlink:href=\"#DejaVuSans-48\"/>\n",
       "      </g>\n",
       "     </g>\n",
       "    </g>\n",
       "    <g id=\"xtick_2\">\n",
       "     <g id=\"line2d_2\">\n",
       "      <g>\n",
       "       <use style=\"stroke:#000000;stroke-width:0.8;\" x=\"93.19808\" xlink:href=\"#mb39254b1c6\" y=\"155.00484\"/>\n",
       "      </g>\n",
       "     </g>\n",
       "     <g id=\"text_2\">\n",
       "      <!-- 5 -->\n",
       "      <g transform=\"translate(90.01683 169.603278)scale(0.1 -0.1)\">\n",
       "       <defs>\n",
       "        <path d=\"M 10.796875 72.90625 \n",
       "L 49.515625 72.90625 \n",
       "L 49.515625 64.59375 \n",
       "L 19.828125 64.59375 \n",
       "L 19.828125 46.734375 \n",
       "Q 21.96875 47.46875 24.109375 47.828125 \n",
       "Q 26.265625 48.1875 28.421875 48.1875 \n",
       "Q 40.625 48.1875 47.75 41.5 \n",
       "Q 54.890625 34.8125 54.890625 23.390625 \n",
       "Q 54.890625 11.625 47.5625 5.09375 \n",
       "Q 40.234375 -1.421875 26.90625 -1.421875 \n",
       "Q 22.3125 -1.421875 17.546875 -0.640625 \n",
       "Q 12.796875 0.140625 7.71875 1.703125 \n",
       "L 7.71875 11.625 \n",
       "Q 12.109375 9.234375 16.796875 8.0625 \n",
       "Q 21.484375 6.890625 26.703125 6.890625 \n",
       "Q 35.15625 6.890625 40.078125 11.328125 \n",
       "Q 45.015625 15.765625 45.015625 23.390625 \n",
       "Q 45.015625 31 40.078125 35.4375 \n",
       "Q 35.15625 39.890625 26.703125 39.890625 \n",
       "Q 22.75 39.890625 18.8125 39.015625 \n",
       "Q 14.890625 38.140625 10.796875 36.28125 \n",
       "z\n",
       "\" id=\"DejaVuSans-53\"/>\n",
       "       </defs>\n",
       "       <use xlink:href=\"#DejaVuSans-53\"/>\n",
       "      </g>\n",
       "     </g>\n",
       "    </g>\n",
       "    <g id=\"xtick_3\">\n",
       "     <g id=\"line2d_3\">\n",
       "      <g>\n",
       "       <use style=\"stroke:#000000;stroke-width:0.8;\" x=\"130.392517\" xlink:href=\"#mb39254b1c6\" y=\"155.00484\"/>\n",
       "      </g>\n",
       "     </g>\n",
       "     <g id=\"text_3\">\n",
       "      <!-- 10 -->\n",
       "      <g transform=\"translate(124.030017 169.603278)scale(0.1 -0.1)\">\n",
       "       <defs>\n",
       "        <path d=\"M 12.40625 8.296875 \n",
       "L 28.515625 8.296875 \n",
       "L 28.515625 63.921875 \n",
       "L 10.984375 60.40625 \n",
       "L 10.984375 69.390625 \n",
       "L 28.421875 72.90625 \n",
       "L 38.28125 72.90625 \n",
       "L 38.28125 8.296875 \n",
       "L 54.390625 8.296875 \n",
       "L 54.390625 0 \n",
       "L 12.40625 0 \n",
       "z\n",
       "\" id=\"DejaVuSans-49\"/>\n",
       "       </defs>\n",
       "       <use xlink:href=\"#DejaVuSans-49\"/>\n",
       "       <use x=\"63.623047\" xlink:href=\"#DejaVuSans-48\"/>\n",
       "      </g>\n",
       "     </g>\n",
       "    </g>\n",
       "    <g id=\"xtick_4\">\n",
       "     <g id=\"line2d_4\">\n",
       "      <g>\n",
       "       <use style=\"stroke:#000000;stroke-width:0.8;\" x=\"167.586954\" xlink:href=\"#mb39254b1c6\" y=\"155.00484\"/>\n",
       "      </g>\n",
       "     </g>\n",
       "     <g id=\"text_4\">\n",
       "      <!-- 15 -->\n",
       "      <g transform=\"translate(161.224454 169.603278)scale(0.1 -0.1)\">\n",
       "       <use xlink:href=\"#DejaVuSans-49\"/>\n",
       "       <use x=\"63.623047\" xlink:href=\"#DejaVuSans-53\"/>\n",
       "      </g>\n",
       "     </g>\n",
       "    </g>\n",
       "    <g id=\"xtick_5\">\n",
       "     <g id=\"line2d_5\">\n",
       "      <g>\n",
       "       <use style=\"stroke:#000000;stroke-width:0.8;\" x=\"204.781391\" xlink:href=\"#mb39254b1c6\" y=\"155.00484\"/>\n",
       "      </g>\n",
       "     </g>\n",
       "     <g id=\"text_5\">\n",
       "      <!-- 20 -->\n",
       "      <g transform=\"translate(198.418891 169.603278)scale(0.1 -0.1)\">\n",
       "       <defs>\n",
       "        <path d=\"M 19.1875 8.296875 \n",
       "L 53.609375 8.296875 \n",
       "L 53.609375 0 \n",
       "L 7.328125 0 \n",
       "L 7.328125 8.296875 \n",
       "Q 12.9375 14.109375 22.625 23.890625 \n",
       "Q 32.328125 33.6875 34.8125 36.53125 \n",
       "Q 39.546875 41.84375 41.421875 45.53125 \n",
       "Q 43.3125 49.21875 43.3125 52.78125 \n",
       "Q 43.3125 58.59375 39.234375 62.25 \n",
       "Q 35.15625 65.921875 28.609375 65.921875 \n",
       "Q 23.96875 65.921875 18.8125 64.3125 \n",
       "Q 13.671875 62.703125 7.8125 59.421875 \n",
       "L 7.8125 69.390625 \n",
       "Q 13.765625 71.78125 18.9375 73 \n",
       "Q 24.125 74.21875 28.421875 74.21875 \n",
       "Q 39.75 74.21875 46.484375 68.546875 \n",
       "Q 53.21875 62.890625 53.21875 53.421875 \n",
       "Q 53.21875 48.921875 51.53125 44.890625 \n",
       "Q 49.859375 40.875 45.40625 35.40625 \n",
       "Q 44.1875 33.984375 37.640625 27.21875 \n",
       "Q 31.109375 20.453125 19.1875 8.296875 \n",
       "z\n",
       "\" id=\"DejaVuSans-50\"/>\n",
       "       </defs>\n",
       "       <use xlink:href=\"#DejaVuSans-50\"/>\n",
       "       <use x=\"63.623047\" xlink:href=\"#DejaVuSans-48\"/>\n",
       "      </g>\n",
       "     </g>\n",
       "    </g>\n",
       "    <g id=\"xtick_6\">\n",
       "     <g id=\"line2d_6\">\n",
       "      <g>\n",
       "       <use style=\"stroke:#000000;stroke-width:0.8;\" x=\"241.975828\" xlink:href=\"#mb39254b1c6\" y=\"155.00484\"/>\n",
       "      </g>\n",
       "     </g>\n",
       "     <g id=\"text_6\">\n",
       "      <!-- 25 -->\n",
       "      <g transform=\"translate(235.613328 169.603278)scale(0.1 -0.1)\">\n",
       "       <use xlink:href=\"#DejaVuSans-50\"/>\n",
       "       <use x=\"63.623047\" xlink:href=\"#DejaVuSans-53\"/>\n",
       "      </g>\n",
       "     </g>\n",
       "    </g>\n",
       "    <g id=\"xtick_7\">\n",
       "     <g id=\"line2d_7\">\n",
       "      <g>\n",
       "       <use style=\"stroke:#000000;stroke-width:0.8;\" x=\"279.170265\" xlink:href=\"#mb39254b1c6\" y=\"155.00484\"/>\n",
       "      </g>\n",
       "     </g>\n",
       "     <g id=\"text_7\">\n",
       "      <!-- 30 -->\n",
       "      <g transform=\"translate(272.807765 169.603278)scale(0.1 -0.1)\">\n",
       "       <defs>\n",
       "        <path d=\"M 40.578125 39.3125 \n",
       "Q 47.65625 37.796875 51.625 33 \n",
       "Q 55.609375 28.21875 55.609375 21.1875 \n",
       "Q 55.609375 10.40625 48.1875 4.484375 \n",
       "Q 40.765625 -1.421875 27.09375 -1.421875 \n",
       "Q 22.515625 -1.421875 17.65625 -0.515625 \n",
       "Q 12.796875 0.390625 7.625 2.203125 \n",
       "L 7.625 11.71875 \n",
       "Q 11.71875 9.328125 16.59375 8.109375 \n",
       "Q 21.484375 6.890625 26.8125 6.890625 \n",
       "Q 36.078125 6.890625 40.9375 10.546875 \n",
       "Q 45.796875 14.203125 45.796875 21.1875 \n",
       "Q 45.796875 27.640625 41.28125 31.265625 \n",
       "Q 36.765625 34.90625 28.71875 34.90625 \n",
       "L 20.21875 34.90625 \n",
       "L 20.21875 43.015625 \n",
       "L 29.109375 43.015625 \n",
       "Q 36.375 43.015625 40.234375 45.921875 \n",
       "Q 44.09375 48.828125 44.09375 54.296875 \n",
       "Q 44.09375 59.90625 40.109375 62.90625 \n",
       "Q 36.140625 65.921875 28.71875 65.921875 \n",
       "Q 24.65625 65.921875 20.015625 65.03125 \n",
       "Q 15.375 64.15625 9.8125 62.3125 \n",
       "L 9.8125 71.09375 \n",
       "Q 15.4375 72.65625 20.34375 73.4375 \n",
       "Q 25.25 74.21875 29.59375 74.21875 \n",
       "Q 40.828125 74.21875 47.359375 69.109375 \n",
       "Q 53.90625 64.015625 53.90625 55.328125 \n",
       "Q 53.90625 49.265625 50.4375 45.09375 \n",
       "Q 46.96875 40.921875 40.578125 39.3125 \n",
       "z\n",
       "\" id=\"DejaVuSans-51\"/>\n",
       "       </defs>\n",
       "       <use xlink:href=\"#DejaVuSans-51\"/>\n",
       "       <use x=\"63.623047\" xlink:href=\"#DejaVuSans-48\"/>\n",
       "      </g>\n",
       "     </g>\n",
       "    </g>\n",
       "   </g>\n",
       "   <g id=\"matplotlib.axis_2\">\n",
       "    <g id=\"ytick_1\">\n",
       "     <g id=\"line2d_8\">\n",
       "      <defs>\n",
       "       <path d=\"M 0 0 \n",
       "L -3.5 0 \n",
       "\" id=\"me7446c3c3a\" style=\"stroke:#000000;stroke-width:0.8;\"/>\n",
       "      </defs>\n",
       "      <g>\n",
       "       <use style=\"stroke:#000000;stroke-width:0.8;\" x=\"44.845313\" xlink:href=\"#me7446c3c3a\" y=\"152.494747\"/>\n",
       "      </g>\n",
       "     </g>\n",
       "     <g id=\"text_8\">\n",
       "      <!-- −0.15 -->\n",
       "      <g transform=\"translate(7.2 156.293966)scale(0.1 -0.1)\">\n",
       "       <defs>\n",
       "        <path d=\"M 10.59375 35.5 \n",
       "L 73.1875 35.5 \n",
       "L 73.1875 27.203125 \n",
       "L 10.59375 27.203125 \n",
       "z\n",
       "\" id=\"DejaVuSans-8722\"/>\n",
       "        <path d=\"M 10.6875 12.40625 \n",
       "L 21 12.40625 \n",
       "L 21 0 \n",
       "L 10.6875 0 \n",
       "z\n",
       "\" id=\"DejaVuSans-46\"/>\n",
       "       </defs>\n",
       "       <use xlink:href=\"#DejaVuSans-8722\"/>\n",
       "       <use x=\"83.789062\" xlink:href=\"#DejaVuSans-48\"/>\n",
       "       <use x=\"147.412109\" xlink:href=\"#DejaVuSans-46\"/>\n",
       "       <use x=\"179.199219\" xlink:href=\"#DejaVuSans-49\"/>\n",
       "       <use x=\"242.822266\" xlink:href=\"#DejaVuSans-53\"/>\n",
       "      </g>\n",
       "     </g>\n",
       "    </g>\n",
       "    <g id=\"ytick_2\">\n",
       "     <g id=\"line2d_9\">\n",
       "      <g>\n",
       "       <use style=\"stroke:#000000;stroke-width:0.8;\" x=\"44.845313\" xlink:href=\"#me7446c3c3a\" y=\"113.136385\"/>\n",
       "      </g>\n",
       "     </g>\n",
       "     <g id=\"text_9\">\n",
       "      <!-- −0.10 -->\n",
       "      <g transform=\"translate(7.2 116.935604)scale(0.1 -0.1)\">\n",
       "       <use xlink:href=\"#DejaVuSans-8722\"/>\n",
       "       <use x=\"83.789062\" xlink:href=\"#DejaVuSans-48\"/>\n",
       "       <use x=\"147.412109\" xlink:href=\"#DejaVuSans-46\"/>\n",
       "       <use x=\"179.199219\" xlink:href=\"#DejaVuSans-49\"/>\n",
       "       <use x=\"242.822266\" xlink:href=\"#DejaVuSans-48\"/>\n",
       "      </g>\n",
       "     </g>\n",
       "    </g>\n",
       "    <g id=\"ytick_3\">\n",
       "     <g id=\"line2d_10\">\n",
       "      <g>\n",
       "       <use style=\"stroke:#000000;stroke-width:0.8;\" x=\"44.845313\" xlink:href=\"#me7446c3c3a\" y=\"73.778023\"/>\n",
       "      </g>\n",
       "     </g>\n",
       "     <g id=\"text_10\">\n",
       "      <!-- −0.05 -->\n",
       "      <g transform=\"translate(7.2 77.577242)scale(0.1 -0.1)\">\n",
       "       <use xlink:href=\"#DejaVuSans-8722\"/>\n",
       "       <use x=\"83.789062\" xlink:href=\"#DejaVuSans-48\"/>\n",
       "       <use x=\"147.412109\" xlink:href=\"#DejaVuSans-46\"/>\n",
       "       <use x=\"179.199219\" xlink:href=\"#DejaVuSans-48\"/>\n",
       "       <use x=\"242.822266\" xlink:href=\"#DejaVuSans-53\"/>\n",
       "      </g>\n",
       "     </g>\n",
       "    </g>\n",
       "    <g id=\"ytick_4\">\n",
       "     <g id=\"line2d_11\">\n",
       "      <g>\n",
       "       <use style=\"stroke:#000000;stroke-width:0.8;\" x=\"44.845313\" xlink:href=\"#me7446c3c3a\" y=\"34.419661\"/>\n",
       "      </g>\n",
       "     </g>\n",
       "     <g id=\"text_11\">\n",
       "      <!-- 0.00 -->\n",
       "      <g transform=\"translate(15.579688 38.21888)scale(0.1 -0.1)\">\n",
       "       <use xlink:href=\"#DejaVuSans-48\"/>\n",
       "       <use x=\"63.623047\" xlink:href=\"#DejaVuSans-46\"/>\n",
       "       <use x=\"95.410156\" xlink:href=\"#DejaVuSans-48\"/>\n",
       "       <use x=\"159.033203\" xlink:href=\"#DejaVuSans-48\"/>\n",
       "      </g>\n",
       "     </g>\n",
       "    </g>\n",
       "   </g>\n",
       "   <g id=\"line2d_12\">\n",
       "    <path clip-path=\"url(#p385b7e81e1)\" d=\"M 56.003644 34.419661 \n",
       "L 63.442531 13.918402 \n",
       "L 70.881418 34.246612 \n",
       "L 78.320306 34.416708 \n",
       "L 85.759193 34.420225 \n",
       "L 93.19808 34.422713 \n",
       "L 100.636968 34.434093 \n",
       "L 108.075855 34.48681 \n",
       "L 115.514743 34.73245 \n",
       "L 122.95363 35.865398 \n",
       "L 130.392517 40.739807 \n",
       "L 137.831405 56.884246 \n",
       "L 145.270292 87.180435 \n",
       "L 152.70918 116.451635 \n",
       "L 160.148067 133.376539 \n",
       "L 167.586954 141.009481 \n",
       "L 175.025842 144.421829 \n",
       "L 182.464729 146.094297 \n",
       "L 189.903616 146.993332 \n",
       "L 197.342504 147.507832 \n",
       "L 204.781391 147.812992 \n",
       "L 212.220279 147.997559 \n",
       "L 219.659166 148.110188 \n",
       "L 227.098053 148.179369 \n",
       "L 234.536941 148.221948 \n",
       "L 241.975828 148.248152 \n",
       "L 249.414715 148.264292 \n",
       "L 256.853603 148.274087 \n",
       "L 264.29249 148.280315 \n",
       "L 271.731378 148.284069 \n",
       "L 279.170265 148.286438 \n",
       "\" style=\"fill:none;stroke:#1f77b4;stroke-linecap:square;stroke-width:1.5;\"/>\n",
       "   </g>\n",
       "   <g id=\"patch_3\">\n",
       "    <path d=\"M 44.845313 155.00484 \n",
       "L 44.845313 7.2 \n",
       "\" style=\"fill:none;stroke:#000000;stroke-linecap:square;stroke-linejoin:miter;stroke-width:0.8;\"/>\n",
       "   </g>\n",
       "   <g id=\"patch_4\">\n",
       "    <path d=\"M 290.328596 155.00484 \n",
       "L 290.328596 7.2 \n",
       "\" style=\"fill:none;stroke:#000000;stroke-linecap:square;stroke-linejoin:miter;stroke-width:0.8;\"/>\n",
       "   </g>\n",
       "   <g id=\"patch_5\">\n",
       "    <path d=\"M 44.845313 155.00484 \n",
       "L 290.328596 155.00484 \n",
       "\" style=\"fill:none;stroke:#000000;stroke-linecap:square;stroke-linejoin:miter;stroke-width:0.8;\"/>\n",
       "   </g>\n",
       "   <g id=\"patch_6\">\n",
       "    <path d=\"M 44.845313 7.2 \n",
       "L 290.328596 7.2 \n",
       "\" style=\"fill:none;stroke:#000000;stroke-linecap:square;stroke-linejoin:miter;stroke-width:0.8;\"/>\n",
       "   </g>\n",
       "  </g>\n",
       " </g>\n",
       " <defs>\n",
       "  <clipPath id=\"p385b7e81e1\">\n",
       "   <rect height=\"147.80484\" width=\"245.483284\" x=\"44.845313\" y=\"7.2\"/>\n",
       "  </clipPath>\n",
       " </defs>\n",
       "</svg>\n"
      ],
      "text/plain": [
       "<Figure size 316.753x195.768 with 1 Axes>"
      ]
     },
     "metadata": {
      "needs_background": "light"
     },
     "output_type": "display_data"
    }
   ],
   "source": [
    "plt.plot(loss_history)"
   ]
  },
  {
   "cell_type": "code",
   "execution_count": 823,
   "metadata": {},
   "outputs": [],
   "source": [
    "best_ix = np.argmin(loss_history)\n",
    "best_params = params_history[best_ix]"
   ]
  },
  {
   "cell_type": "code",
   "execution_count": 824,
   "metadata": {},
   "outputs": [
    {
     "data": {
      "text/plain": [
       "[array([0.44435045], dtype=float32), array([0.5829056], dtype=float32)]"
      ]
     },
     "execution_count": 824,
     "metadata": {},
     "output_type": "execute_result"
    }
   ],
   "source": [
    "best_params"
   ]
  },
  {
   "cell_type": "code",
   "execution_count": 825,
   "metadata": {},
   "outputs": [
    {
     "data": {
      "text/plain": [
       "-0.14465378602660262"
      ]
     },
     "execution_count": 825,
     "metadata": {},
     "output_type": "execute_result"
    }
   ],
   "source": [
    "get_edge_contribution(test_g, (0,1), *best_params)"
   ]
  },
  {
   "cell_type": "code",
   "execution_count": 826,
   "metadata": {},
   "outputs": [
    {
     "data": {
      "text/plain": [
       "-0.14465666829437954"
      ]
     },
     "execution_count": 826,
     "metadata": {},
     "output_type": "execute_result"
    }
   ],
   "source": [
    "get_edge_contribution(test_g, (0,1), *gb1)"
   ]
  },
  {
   "cell_type": "code",
   "execution_count": null,
   "metadata": {},
   "outputs": [],
   "source": []
  },
  {
   "cell_type": "code",
   "execution_count": 840,
   "metadata": {},
   "outputs": [],
   "source": [
    "\n",
    "def transferrability_matrix(graphs, multistart=5):\n",
    "    matrix = np.zeros((len(graphs), len(graphs)))\n",
    "    for i, donor in enumerate(graphs):\n",
    "        for s in range(multistart):\n",
    "            gamma, beta = [np.random.rand()], [np.random.rand()]\n",
    "            params, loss = get_qaoa_params(donor, edge=(0,1), gamma=gamma, beta=beta)\n",
    "            print('contribution loss', loss, 'params', params)\n",
    "            for j, acceptor in enumerate(graphs):\n",
    "                trloss = get_edge_contribution(acceptor, (0,1), *params)\n",
    "                similarity = trloss*loss/np.sqrt(trloss**2 + loss**2)\n",
    "                matrix[i,j] += similarity\n",
    "                if i==j:\n",
    "                    print(loss, trloss, 'sim', similarity)\n",
    "                    #assert np.allclose(loss,trloss)\n",
    "    return matrix"
   ]
  },
  {
   "cell_type": "code",
   "execution_count": 845,
   "metadata": {},
   "outputs": [
    {
     "data": {
      "application/vnd.jupyter.widget-view+json": {
       "model_id": "5f2a104b0eab4c8abd79cb977679f07a",
       "version_major": 2,
       "version_minor": 0
      },
      "text/plain": [
       "HBox(children=(HTML(value=''), FloatProgress(value=0.0, max=30.0), HTML(value='')))"
      ]
     },
     "metadata": {},
     "output_type": "display_data"
    },
    {
     "name": "stdout",
     "output_type": "stream",
     "text": [
      "contribution loss 0.0011156693 params [array([0.68403834], dtype=float32), array([0.5078821], dtype=float32)]\n",
      "0.0011156693 0.001115701785124256 sim 0.0007889087996708759\n"
     ]
    },
    {
     "data": {
      "application/vnd.jupyter.widget-view+json": {
       "model_id": "738c9b588a8e4cbdb31357a38633417c",
       "version_major": 2,
       "version_minor": 0
      },
      "text/plain": [
       "HBox(children=(HTML(value=''), FloatProgress(value=0.0, max=30.0), HTML(value='')))"
      ]
     },
     "metadata": {},
     "output_type": "display_data"
    },
    {
     "name": "stdout",
     "output_type": "stream",
     "text": [
      "contribution loss -0.14465848 params [array([0.55544], dtype=float32), array([0.41663155], dtype=float32)]\n",
      "-0.14465848 -0.14465837874191834 sim 0.10228895499017115\n"
     ]
    },
    {
     "data": {
      "application/vnd.jupyter.widget-view+json": {
       "model_id": "d7ff324672a7476a8b9f1199454bde32",
       "version_major": 2,
       "version_minor": 0
      },
      "text/plain": [
       "HBox(children=(HTML(value=''), FloatProgress(value=0.0, max=30.0), HTML(value='')))"
      ]
     },
     "metadata": {},
     "output_type": "display_data"
    },
    {
     "name": "stdout",
     "output_type": "stream",
     "text": [
      "contribution loss -0.14285707 params [array([1.0483629], dtype=float32), array([0.9103355], dtype=float32)]\n",
      "-0.14285707 -0.14285704875512711 sim 0.10101519710121966\n"
     ]
    },
    {
     "data": {
      "application/vnd.jupyter.widget-view+json": {
       "model_id": "7dd9a8c3df0f469fb6ea25eefb287af6",
       "version_major": 2,
       "version_minor": 0
      },
      "text/plain": [
       "HBox(children=(HTML(value=''), FloatProgress(value=0.0, max=30.0), HTML(value='')))"
      ]
     },
     "metadata": {},
     "output_type": "display_data"
    },
    {
     "name": "stdout",
     "output_type": "stream",
     "text": [
      "contribution loss -0.14465849 params [array([0.9445479], dtype=float32), array([0.5833608], dtype=float32)]\n",
      "-0.14465849 -0.14465837392719783 sim 0.10228895855625872\n"
     ]
    },
    {
     "data": {
      "application/vnd.jupyter.widget-view+json": {
       "model_id": "06f0c73ecda44bf4a8c4ab23f4cd852d",
       "version_major": 2,
       "version_minor": 0
      },
      "text/plain": [
       "HBox(children=(HTML(value=''), FloatProgress(value=0.0, max=30.0), HTML(value='')))"
      ]
     },
     "metadata": {},
     "output_type": "display_data"
    },
    {
     "name": "stdout",
     "output_type": "stream",
     "text": [
      "contribution loss -0.14163285 params [array([-0.04678188], dtype=float32), array([0.09277139], dtype=float32)]\n",
      "-0.14163285 -0.14163282895859464 sim 0.10014954298054157\n"
     ]
    },
    {
     "data": {
      "application/vnd.jupyter.widget-view+json": {
       "model_id": "813ed809ae3a47f48d9ef43926b41541",
       "version_major": 2,
       "version_minor": 0
      },
      "text/plain": [
       "HBox(children=(HTML(value=''), FloatProgress(value=0.0, max=30.0), HTML(value='')))"
      ]
     },
     "metadata": {},
     "output_type": "display_data"
    },
    {
     "name": "stdout",
     "output_type": "stream",
     "text": [
      "contribution loss 0.000743934 params [array([0.7755274], dtype=float32), array([0.41287956], dtype=float32)]\n",
      "0.000743934 0.0007439451186191581 sim 0.0005260447112211825\n"
     ]
    },
    {
     "data": {
      "application/vnd.jupyter.widget-view+json": {
       "model_id": "0e154f3f284541c7835f7a00bbf4fa08",
       "version_major": 2,
       "version_minor": 0
      },
      "text/plain": [
       "HBox(children=(HTML(value=''), FloatProgress(value=0.0, max=30.0), HTML(value='')))"
      ]
     },
     "metadata": {},
     "output_type": "display_data"
    },
    {
     "name": "stdout",
     "output_type": "stream",
     "text": [
      "contribution loss -0.14465849 params [array([0.05543964], dtype=float32), array([0.41663197], dtype=float32)]\n",
      "-0.14465849 -0.1446583787534719 sim 0.10228896026260628\n"
     ]
    },
    {
     "data": {
      "application/vnd.jupyter.widget-view+json": {
       "model_id": "39addf4144f744879876269a70e5428e",
       "version_major": 2,
       "version_minor": 0
      },
      "text/plain": [
       "HBox(children=(HTML(value=''), FloatProgress(value=0.0, max=30.0), HTML(value='')))"
      ]
     },
     "metadata": {},
     "output_type": "display_data"
    },
    {
     "name": "stdout",
     "output_type": "stream",
     "text": [
      "contribution loss -8.4293696e-08 params [array([0.7537702], dtype=float32), array([0.9694734], dtype=float32)]\n",
      "-8.4293696e-08 4.84685205253531e-08 sim -4.2017742288606694e-08\n"
     ]
    },
    {
     "data": {
      "application/vnd.jupyter.widget-view+json": {
       "model_id": "3e4579b759f747249ac687cd1add0efe",
       "version_major": 2,
       "version_minor": 0
      },
      "text/plain": [
       "HBox(children=(HTML(value=''), FloatProgress(value=0.0, max=30.0), HTML(value='')))"
      ]
     },
     "metadata": {},
     "output_type": "display_data"
    },
    {
     "name": "stdout",
     "output_type": "stream",
     "text": [
      "contribution loss -0.14465873 params [array([0.44454715], dtype=float32), array([0.08334317], dtype=float32)]\n",
      "-0.14465873 -0.14465836478056454 sim 0.10228903961591392\n"
     ]
    },
    {
     "data": {
      "application/vnd.jupyter.widget-view+json": {
       "model_id": "23b2fede359a4211a1f076fecb2a00c1",
       "version_major": 2,
       "version_minor": 0
      },
      "text/plain": [
       "HBox(children=(HTML(value=''), FloatProgress(value=0.0, max=30.0), HTML(value='')))"
      ]
     },
     "metadata": {},
     "output_type": "display_data"
    },
    {
     "name": "stdout",
     "output_type": "stream",
     "text": [
      "contribution loss -0.14465836 params [array([1.055475], dtype=float32), array([0.41668049], dtype=float32)]\n",
      "-0.14465836 -0.1446583141785667 sim 0.10228889001674481\n"
     ]
    },
    {
     "data": {
      "application/vnd.jupyter.widget-view+json": {
       "model_id": "bf1213db82a44a91bad0b2532f4ea743",
       "version_major": 2,
       "version_minor": 0
      },
      "text/plain": [
       "HBox(children=(HTML(value=''), FloatProgress(value=0.0, max=30.0), HTML(value='')))"
      ]
     },
     "metadata": {},
     "output_type": "display_data"
    },
    {
     "name": "stdout",
     "output_type": "stream",
     "text": [
      "contribution loss -0.20301534 params [array([0.06720237], dtype=float32), array([0.40111035], dtype=float32)]\n",
      "-0.20301534 -0.20301522419997817 sim 0.14355348348992245\n"
     ]
    },
    {
     "data": {
      "application/vnd.jupyter.widget-view+json": {
       "model_id": "7b7ff09c45c6492fa6e2aa33fbef4809",
       "version_major": 2,
       "version_minor": 0
      },
      "text/plain": [
       "HBox(children=(HTML(value=''), FloatProgress(value=0.0, max=30.0), HTML(value='')))"
      ]
     },
     "metadata": {},
     "output_type": "display_data"
    },
    {
     "name": "stdout",
     "output_type": "stream",
     "text": [
      "contribution loss -0.20301491 params [array([0.932784], dtype=float32), array([0.09897044], dtype=float32)]\n",
      "-0.20301491 -0.20301489959603058 sim 0.14355321594278841\n"
     ]
    },
    {
     "data": {
      "application/vnd.jupyter.widget-view+json": {
       "model_id": "9c2735ccd3ae4de798c0e84f02c391f1",
       "version_major": 2,
       "version_minor": 0
      },
      "text/plain": [
       "HBox(children=(HTML(value=''), FloatProgress(value=0.0, max=30.0), HTML(value='')))"
      ]
     },
     "metadata": {},
     "output_type": "display_data"
    },
    {
     "name": "stdout",
     "output_type": "stream",
     "text": [
      "contribution loss -0.20114817 params [array([0.9346501], dtype=float32), array([0.6078635], dtype=float32)]\n",
      "-0.20114817 -0.2011481991286161 sim 0.1422332443574105\n"
     ]
    },
    {
     "data": {
      "application/vnd.jupyter.widget-view+json": {
       "model_id": "449e156758ab4f24821ea4fd1c3c1108",
       "version_major": 2,
       "version_minor": 0
      },
      "text/plain": [
       "HBox(children=(HTML(value=''), FloatProgress(value=0.0, max=30.0), HTML(value='')))"
      ]
     },
     "metadata": {},
     "output_type": "display_data"
    },
    {
     "name": "stdout",
     "output_type": "stream",
     "text": [
      "contribution loss -0.20301107 params [array([0.5671049], dtype=float32), array([0.09927318], dtype=float32)]\n",
      "-0.20301107 -0.20301102143377414 sim 0.1435504855695065\n"
     ]
    },
    {
     "data": {
      "application/vnd.jupyter.widget-view+json": {
       "model_id": "9a04ea59560d4d09b89b27de8a6f2304",
       "version_major": 2,
       "version_minor": 0
      },
      "text/plain": [
       "HBox(children=(HTML(value=''), FloatProgress(value=0.0, max=30.0), HTML(value='')))"
      ]
     },
     "metadata": {},
     "output_type": "display_data"
    },
    {
     "name": "stdout",
     "output_type": "stream",
     "text": [
      "contribution loss -0.20290689 params [array([0.43454984], dtype=float32), array([0.90058225], dtype=float32)]\n",
      "-0.20290689 -0.20290685451473844 sim 0.14347682592485206\n"
     ]
    },
    {
     "data": {
      "application/vnd.jupyter.widget-view+json": {
       "model_id": "0a6a0cac4b4f4b12b19426e9baa2af0c",
       "version_major": 2,
       "version_minor": 0
      },
      "text/plain": [
       "HBox(children=(HTML(value=''), FloatProgress(value=0.0, max=30.0), HTML(value='')))"
      ]
     },
     "metadata": {},
     "output_type": "display_data"
    },
    {
     "name": "stdout",
     "output_type": "stream",
     "text": [
      "contribution loss -0.00052418036 params [array([0.712106], dtype=float32), array([0.51401], dtype=float32)]\n",
      "-0.00052418036 -0.0005241491785868929 sim 0.00037064046205431017\n"
     ]
    },
    {
     "data": {
      "application/vnd.jupyter.widget-view+json": {
       "model_id": "2640db8649944bc2afc4302dc1ff4d90",
       "version_major": 2,
       "version_minor": 0
      },
      "text/plain": [
       "HBox(children=(HTML(value=''), FloatProgress(value=0.0, max=30.0), HTML(value='')))"
      ]
     },
     "metadata": {},
     "output_type": "display_data"
    },
    {
     "name": "stdout",
     "output_type": "stream",
     "text": [
      "contribution loss -0.20301534 params [array([0.9327889], dtype=float32), array([0.5988592], dtype=float32)]\n",
      "-0.20301534 -0.2030152614811166 sim 0.14355349667080508\n"
     ]
    },
    {
     "data": {
      "application/vnd.jupyter.widget-view+json": {
       "model_id": "4bb84dae97e747d8b33ca6be0f8d46d4",
       "version_major": 2,
       "version_minor": 0
      },
      "text/plain": [
       "HBox(children=(HTML(value=''), FloatProgress(value=0.0, max=30.0), HTML(value='')))"
      ]
     },
     "metadata": {},
     "output_type": "display_data"
    },
    {
     "name": "stdout",
     "output_type": "stream",
     "text": [
      "contribution loss -0.20301528 params [array([0.06720959], dtype=float32), array([0.90115166], dtype=float32)]\n",
      "-0.20301528 -0.20301526480208681 sim 0.1435534767715292\n"
     ]
    },
    {
     "data": {
      "application/vnd.jupyter.widget-view+json": {
       "model_id": "d5ea970661e74599b2e4c0a3337952dd",
       "version_major": 2,
       "version_minor": 0
      },
      "text/plain": [
       "HBox(children=(HTML(value=''), FloatProgress(value=0.0, max=30.0), HTML(value='')))"
      ]
     },
     "metadata": {},
     "output_type": "display_data"
    },
    {
     "name": "stdout",
     "output_type": "stream",
     "text": [
      "contribution loss 8.3161e-06 params [array([0.23962201], dtype=float32), array([0.71245974], dtype=float32)]\n",
      "8.3161e-06 8.319240945188078e-06 sim 5.881480993668309e-06\n"
     ]
    },
    {
     "data": {
      "application/vnd.jupyter.widget-view+json": {
       "model_id": "a6580f01a2c44d8e87ff62dddcec9972",
       "version_major": 2,
       "version_minor": 0
      },
      "text/plain": [
       "HBox(children=(HTML(value=''), FloatProgress(value=0.0, max=30.0), HTML(value='')))"
      ]
     },
     "metadata": {},
     "output_type": "display_data"
    },
    {
     "name": "stdout",
     "output_type": "stream",
     "text": [
      "contribution loss -0.2030153 params [array([0.43277317], dtype=float32), array([0.9011569], dtype=float32)]\n",
      "-0.2030153 -0.20301525480632981 sim 0.1435534785058495\n"
     ]
    },
    {
     "data": {
      "application/vnd.jupyter.widget-view+json": {
       "model_id": "55a34601c8d54c159498718ef4e8d991",
       "version_major": 2,
       "version_minor": 0
      },
      "text/plain": [
       "HBox(children=(HTML(value=''), FloatProgress(value=0.0, max=30.0), HTML(value='')))"
      ]
     },
     "metadata": {},
     "output_type": "display_data"
    },
    {
     "name": "stdout",
     "output_type": "stream",
     "text": [
      "contribution loss -0.1491468 params [array([0.4438587], dtype=float32), array([0.41809663], dtype=float32)]\n",
      "-0.1491468 -0.1491466570466899 sim 0.10546266145930433\n"
     ]
    },
    {
     "data": {
      "application/vnd.jupyter.widget-view+json": {
       "model_id": "a8cc1df549fc4bd08fa1fb92f4f5c75a",
       "version_major": 2,
       "version_minor": 0
      },
      "text/plain": [
       "HBox(children=(HTML(value=''), FloatProgress(value=0.0, max=30.0), HTML(value='')))"
      ]
     },
     "metadata": {},
     "output_type": "display_data"
    },
    {
     "name": "stdout",
     "output_type": "stream",
     "text": [
      "contribution loss -0.14922515 params [array([0.44256416], dtype=float32), array([0.4197707], dtype=float32)]\n",
      "-0.14922515 -0.1492250370819949 sim 0.10551807400273808\n"
     ]
    },
    {
     "data": {
      "application/vnd.jupyter.widget-view+json": {
       "model_id": "49482b56887143e0be4b184676e57a14",
       "version_major": 2,
       "version_minor": 0
      },
      "text/plain": [
       "HBox(children=(HTML(value=''), FloatProgress(value=0.0, max=30.0), HTML(value='')))"
      ]
     },
     "metadata": {},
     "output_type": "display_data"
    },
    {
     "name": "stdout",
     "output_type": "stream",
     "text": [
      "contribution loss -1.0536712e-08 params [array([0.2500032], dtype=float32), array([0.8483168], dtype=float32)]\n",
      "-1.0536712e-08 1.0670947549385546e-09 sim -1.0616642074226286e-09\n"
     ]
    },
    {
     "data": {
      "application/vnd.jupyter.widget-view+json": {
       "model_id": "199b631fd9ab4d1f884ac9fe282854e4",
       "version_major": 2,
       "version_minor": 0
      },
      "text/plain": [
       "HBox(children=(HTML(value=''), FloatProgress(value=0.0, max=30.0), HTML(value='')))"
      ]
     },
     "metadata": {},
     "output_type": "display_data"
    },
    {
     "name": "stdout",
     "output_type": "stream",
     "text": [
      "contribution loss -0.1047941 params [array([0.03132567], dtype=float32), array([0.36682457], dtype=float32)]\n",
      "-0.1047941 -0.10479397727054869 sim 0.07410057532106189\n"
     ]
    },
    {
     "data": {
      "application/vnd.jupyter.widget-view+json": {
       "model_id": "cdf97b56a84245188c345d644f8b4a2c",
       "version_major": 2,
       "version_minor": 0
      },
      "text/plain": [
       "HBox(children=(HTML(value=''), FloatProgress(value=0.0, max=30.0), HTML(value='')))"
      ]
     },
     "metadata": {},
     "output_type": "display_data"
    },
    {
     "name": "stdout",
     "output_type": "stream",
     "text": [
      "contribution loss -0.14850931 params [array([0.55962276], dtype=float32), array([0.57446265], dtype=float32)]\n",
      "-0.14850931 -0.148509387484671 sim 0.10501196710418546\n"
     ]
    },
    {
     "data": {
      "application/vnd.jupyter.widget-view+json": {
       "model_id": "df9f820a72514e0eaf81cfdaaca1e4b2",
       "version_major": 2,
       "version_minor": 0
      },
      "text/plain": [
       "HBox(children=(HTML(value=''), FloatProgress(value=0.0, max=30.0), HTML(value='')))"
      ]
     },
     "metadata": {},
     "output_type": "display_data"
    },
    {
     "name": "stdout",
     "output_type": "stream",
     "text": [
      "contribution loss -0.14922497 params [array([0.94261265], dtype=float32), array([0.08030597], dtype=float32)]\n",
      "-0.14922497 -0.1492248445445533 sim 0.10551794271019437\n"
     ]
    },
    {
     "data": {
      "application/vnd.jupyter.widget-view+json": {
       "model_id": "ce730a865abf448ebc21a82abf11a997",
       "version_major": 2,
       "version_minor": 0
      },
      "text/plain": [
       "HBox(children=(HTML(value=''), FloatProgress(value=0.0, max=30.0), HTML(value='')))"
      ]
     },
     "metadata": {},
     "output_type": "display_data"
    },
    {
     "name": "stdout",
     "output_type": "stream",
     "text": [
      "contribution loss -0.14922471 params [array([1.0575368], dtype=float32), array([0.4198918], dtype=float32)]\n",
      "-0.14922471 -0.14922469684040796 sim 0.10551780092686595\n"
     ]
    },
    {
     "data": {
      "application/vnd.jupyter.widget-view+json": {
       "model_id": "9f04e8ffd0b048cfb464c629e9432761",
       "version_major": 2,
       "version_minor": 0
      },
      "text/plain": [
       "HBox(children=(HTML(value=''), FloatProgress(value=0.0, max=30.0), HTML(value='')))"
      ]
     },
     "metadata": {},
     "output_type": "display_data"
    },
    {
     "name": "stdout",
     "output_type": "stream",
     "text": [
      "contribution loss -0.13661602 params [array([0.9556201], dtype=float32), array([0.10585187], dtype=float32)]\n",
      "-0.13661602 -0.13661597548036275 sim 0.09660209891375561\n"
     ]
    },
    {
     "data": {
      "application/vnd.jupyter.widget-view+json": {
       "model_id": "687fa1022538473496de39656125dea1",
       "version_major": 2,
       "version_minor": 0
      },
      "text/plain": [
       "HBox(children=(HTML(value=''), FloatProgress(value=0.0, max=30.0), HTML(value='')))"
      ]
     },
     "metadata": {},
     "output_type": "display_data"
    },
    {
     "name": "stdout",
     "output_type": "stream",
     "text": [
      "contribution loss -0.14922513 params [array([0.942552], dtype=float32), array([0.58021754], dtype=float32)]\n",
      "-0.14922513 -0.14922504239093598 sim 0.10551807061138319\n"
     ]
    },
    {
     "data": {
      "application/vnd.jupyter.widget-view+json": {
       "model_id": "363d434902524b24b82e74f8ecf586e8",
       "version_major": 2,
       "version_minor": 0
      },
      "text/plain": [
       "HBox(children=(HTML(value=''), FloatProgress(value=0.0, max=30.0), HTML(value='')))"
      ]
     },
     "metadata": {},
     "output_type": "display_data"
    },
    {
     "name": "stdout",
     "output_type": "stream",
     "text": [
      "contribution loss -0.14922325 params [array([0.5572821], dtype=float32), array([0.58048785], dtype=float32)]\n",
      "-0.14922325 -0.14922331197251393 sim 0.10551679500322657\n"
     ]
    },
    {
     "data": {
      "application/vnd.jupyter.widget-view+json": {
       "model_id": "9f83b802d089427d84035c2c2de58eb2",
       "version_major": 2,
       "version_minor": 0
      },
      "text/plain": [
       "HBox(children=(HTML(value=''), FloatProgress(value=0.0, max=30.0), HTML(value='')))"
      ]
     },
     "metadata": {},
     "output_type": "display_data"
    },
    {
     "name": "stdout",
     "output_type": "stream",
     "text": [
      "contribution loss -0.32473993 params [array([1.0827161], dtype=float32), array([0.87499994], dtype=float32)]\n",
      "-0.32473993 -0.3247398710812139 sim 0.22962578685968524\n"
     ]
    },
    {
     "data": {
      "application/vnd.jupyter.widget-view+json": {
       "model_id": "73d293a1bfc442ca9cae67a7db710cc0",
       "version_major": 2,
       "version_minor": 0
      },
      "text/plain": [
       "HBox(children=(HTML(value=''), FloatProgress(value=0.0, max=30.0), HTML(value='')))"
      ]
     },
     "metadata": {},
     "output_type": "display_data"
    },
    {
     "name": "stdout",
     "output_type": "stream",
     "text": [
      "contribution loss -0.32475948 params [array([0.91665107], dtype=float32), array([0.12499999], dtype=float32)]\n",
      "-0.32475948 -0.32475942501634275 sim 0.22963961230290564\n"
     ]
    },
    {
     "data": {
      "application/vnd.jupyter.widget-view+json": {
       "model_id": "3f3d1ae275ee43e5a6c06ad3a6c74176",
       "version_major": 2,
       "version_minor": 0
      },
      "text/plain": [
       "HBox(children=(HTML(value=''), FloatProgress(value=0.0, max=30.0), HTML(value='')))"
      ]
     },
     "metadata": {},
     "output_type": "display_data"
    },
    {
     "name": "stdout",
     "output_type": "stream",
     "text": [
      "contribution loss -0.32475942 params [array([0.08333175], dtype=float32), array([0.37502775], dtype=float32)]\n",
      "-0.32475942 -0.3247594176218814 sim 0.22963958861514722\n"
     ]
    },
    {
     "data": {
      "application/vnd.jupyter.widget-view+json": {
       "model_id": "0fd271bd705e46d4b24dba6f481cadf5",
       "version_major": 2,
       "version_minor": 0
      },
      "text/plain": [
       "HBox(children=(HTML(value=''), FloatProgress(value=0.0, max=30.0), HTML(value='')))"
      ]
     },
     "metadata": {},
     "output_type": "display_data"
    },
    {
     "name": "stdout",
     "output_type": "stream",
     "text": [
      "contribution loss -0.3247591 params [array([0.5833333], dtype=float32), array([0.8749039], dtype=float32)]\n",
      "-0.3247591 -0.3247592007670933 sim 0.22963939604155928\n"
     ]
    },
    {
     "data": {
      "application/vnd.jupyter.widget-view+json": {
       "model_id": "398bbc647c224f5abd0798bf8ab2f898",
       "version_major": 2,
       "version_minor": 0
      },
      "text/plain": [
       "HBox(children=(HTML(value=''), FloatProgress(value=0.0, max=30.0), HTML(value='')))"
      ]
     },
     "metadata": {},
     "output_type": "display_data"
    },
    {
     "name": "stdout",
     "output_type": "stream",
     "text": [
      "contribution loss -0.32475942 params [array([0.41665995], dtype=float32), array([0.625], dtype=float32)]\n",
      "-0.32475942 -0.32475943517808165 sim 0.2296395948222013\n"
     ]
    },
    {
     "data": {
      "application/vnd.jupyter.widget-view+json": {
       "model_id": "b4e601bb05384c8c9a47508c49aba38f",
       "version_major": 2,
       "version_minor": 0
      },
      "text/plain": [
       "HBox(children=(HTML(value=''), FloatProgress(value=0.0, max=30.0), HTML(value='')))"
      ]
     },
     "metadata": {},
     "output_type": "display_data"
    },
    {
     "name": "stdout",
     "output_type": "stream",
     "text": [
      "contribution loss -0.32475916 params [array([0.58341867], dtype=float32), array([0.37502128], dtype=float32)]\n",
      "-0.32475916 -0.32475905251352877 sim 0.22963936469943347\n"
     ]
    },
    {
     "data": {
      "application/vnd.jupyter.widget-view+json": {
       "model_id": "0ee18230ce5842efbeea74335d6dbd25",
       "version_major": 2,
       "version_minor": 0
      },
      "text/plain": [
       "HBox(children=(HTML(value=''), FloatProgress(value=0.0, max=30.0), HTML(value='')))"
      ]
     },
     "metadata": {},
     "output_type": "display_data"
    },
    {
     "name": "stdout",
     "output_type": "stream",
     "text": [
      "contribution loss -0.32475862 params [array([0.41672823], dtype=float32), array([0.12484602], dtype=float32)]\n",
      "-0.32475862 -0.32475863512829045 sim 0.22963902747065745\n"
     ]
    },
    {
     "data": {
      "application/vnd.jupyter.widget-view+json": {
       "model_id": "60559b3fdded4208aaeb22f173c04210",
       "version_major": 2,
       "version_minor": 0
      },
      "text/plain": [
       "HBox(children=(HTML(value=''), FloatProgress(value=0.0, max=30.0), HTML(value='')))"
      ]
     },
     "metadata": {},
     "output_type": "display_data"
    },
    {
     "name": "stdout",
     "output_type": "stream",
     "text": [
      "contribution loss -0.32475948 params [array([0.41667503], dtype=float32), array([0.12500282], dtype=float32)]\n",
      "-0.32475948 -0.32475943369926863 sim 0.22963961537278427\n"
     ]
    },
    {
     "data": {
      "application/vnd.jupyter.widget-view+json": {
       "model_id": "aed17531e77545b981bfb859990e2f9a",
       "version_major": 2,
       "version_minor": 0
      },
      "text/plain": [
       "HBox(children=(HTML(value=''), FloatProgress(value=0.0, max=30.0), HTML(value='')))"
      ]
     },
     "metadata": {},
     "output_type": "display_data"
    },
    {
     "name": "stdout",
     "output_type": "stream",
     "text": [
      "contribution loss -0.30455685 params [array([0.08875896], dtype=float32), array([0.40220985], dtype=float32)]\n",
      "-0.30455685 -0.3045570046395183 sim 0.21535426736963154\n"
     ]
    },
    {
     "data": {
      "application/vnd.jupyter.widget-view+json": {
       "model_id": "28d50ccd741f4a4e9def9c3aceb8aeb7",
       "version_major": 2,
       "version_minor": 0
      },
      "text/plain": [
       "HBox(children=(HTML(value=''), FloatProgress(value=0.0, max=30.0), HTML(value='')))"
      ]
     },
     "metadata": {},
     "output_type": "display_data"
    },
    {
     "name": "stdout",
     "output_type": "stream",
     "text": [
      "contribution loss 1.4474126e-06 params [array([0.25439835], dtype=float32), array([0.2554657], dtype=float32)]\n",
      "1.4474126e-06 1.4474013930445194e-06 sim 1.0234713075350873e-06\n"
     ]
    },
    {
     "data": {
      "application/vnd.jupyter.widget-view+json": {
       "model_id": "a3dea57b1b1d402897b6d34f4c299a2c",
       "version_major": 2,
       "version_minor": 0
      },
      "text/plain": [
       "HBox(children=(HTML(value=''), FloatProgress(value=0.0, max=30.0), HTML(value='')))"
      ]
     },
     "metadata": {},
     "output_type": "display_data"
    },
    {
     "name": "stdout",
     "output_type": "stream",
     "text": [
      "contribution loss -0.2623333 params [array([0.5821722], dtype=float32), array([-0.10671954], dtype=float32)]\n",
      "-0.2623333 -0.2623332940508837 sim 0.1854976545623113\n"
     ]
    },
    {
     "data": {
      "application/vnd.jupyter.widget-view+json": {
       "model_id": "a444bfa296134f66972735635f7c4d93",
       "version_major": 2,
       "version_minor": 0
      },
      "text/plain": [
       "HBox(children=(HTML(value=''), FloatProgress(value=0.0, max=30.0), HTML(value='')))"
      ]
     },
     "metadata": {},
     "output_type": "display_data"
    },
    {
     "name": "stdout",
     "output_type": "stream",
     "text": [
      "contribution loss -0.26303568 params [array([0.42209056], dtype=float32), array([0.6094474], dtype=float32)]\n",
      "-0.26303568 -0.26303585847645267 sim 0.18599437782847728\n"
     ]
    },
    {
     "data": {
      "application/vnd.jupyter.widget-view+json": {
       "model_id": "389534a22c4b4a0b8418820eca4953f6",
       "version_major": 2,
       "version_minor": 0
      },
      "text/plain": [
       "HBox(children=(HTML(value=''), FloatProgress(value=0.0, max=30.0), HTML(value='')))"
      ]
     },
     "metadata": {},
     "output_type": "display_data"
    },
    {
     "name": "stdout",
     "output_type": "stream",
     "text": [
      "contribution loss 2.1073424e-07 params [array([0.7489081], dtype=float32), array([0.5695674], dtype=float32)]\n",
      "2.1073424e-07 2.480711345576599e-07 sim 1.606070237159926e-07\n"
     ]
    },
    {
     "data": {
      "application/vnd.jupyter.widget-view+json": {
       "model_id": "de1d5c5ce9d14572bcee6937bbaa9ee0",
       "version_major": 2,
       "version_minor": 0
      },
      "text/plain": [
       "HBox(children=(HTML(value=''), FloatProgress(value=0.0, max=30.0), HTML(value='')))"
      ]
     },
     "metadata": {},
     "output_type": "display_data"
    },
    {
     "name": "stdout",
     "output_type": "stream",
     "text": [
      "contribution loss -0.2629792 params [array([0.5782509], dtype=float32), array([-0.10704676], dtype=float32)]\n",
      "-0.2629792 -0.26297919377084006 sim 0.18595437676022908\n"
     ]
    },
    {
     "data": {
      "application/vnd.jupyter.widget-view+json": {
       "model_id": "f61502f516204522be37bb7fbb013710",
       "version_major": 2,
       "version_minor": 0
      },
      "text/plain": [
       "HBox(children=(HTML(value=''), FloatProgress(value=0.0, max=30.0), HTML(value='')))"
      ]
     },
     "metadata": {},
     "output_type": "display_data"
    },
    {
     "name": "stdout",
     "output_type": "stream",
     "text": [
      "contribution loss -0.26288274 params [array([0.08009221], dtype=float32), array([0.39185014], dtype=float32)]\n",
      "-0.26288274 -0.2628825348443221 sim 0.1858860953318282\n"
     ]
    },
    {
     "data": {
      "application/vnd.jupyter.widget-view+json": {
       "model_id": "cbc6ba100ad34dac8154a8d8aa08c401",
       "version_major": 2,
       "version_minor": 0
      },
      "text/plain": [
       "HBox(children=(HTML(value=''), FloatProgress(value=0.0, max=30.0), HTML(value='')))"
      ]
     },
     "metadata": {},
     "output_type": "display_data"
    },
    {
     "name": "stdout",
     "output_type": "stream",
     "text": [
      "contribution loss -0.26305026 params [array([0.07802773], dtype=float32), array([0.39129648], dtype=float32)]\n",
      "-0.26305026 -0.26305021253793615 sim 0.1860046052078423\n"
     ]
    },
    {
     "data": {
      "application/vnd.jupyter.widget-view+json": {
       "model_id": "41189d869fd84e589c2c0d91cc0e9fc2",
       "version_major": 2,
       "version_minor": 0
      },
      "text/plain": [
       "HBox(children=(HTML(value=''), FloatProgress(value=0.0, max=30.0), HTML(value='')))"
      ]
     },
     "metadata": {},
     "output_type": "display_data"
    },
    {
     "name": "stdout",
     "output_type": "stream",
     "text": [
      "contribution loss -0.26069516 params [array([0.920958], dtype=float32), array([1.0991503], dtype=float32)]\n",
      "-0.26069516 -0.26069513085820223 sim 0.18433930495566833\n"
     ]
    },
    {
     "data": {
      "application/vnd.jupyter.widget-view+json": {
       "model_id": "13e16b9f725349d09c499c2361f43649",
       "version_major": 2,
       "version_minor": 0
      },
      "text/plain": [
       "HBox(children=(HTML(value=''), FloatProgress(value=0.0, max=30.0), HTML(value='')))"
      ]
     },
     "metadata": {},
     "output_type": "display_data"
    },
    {
     "name": "stdout",
     "output_type": "stream",
     "text": [
      "contribution loss -0.2630495 params [array([0.9218417], dtype=float32), array([0.10868277], dtype=float32)]\n",
      "-0.2630495 -0.263049538092239 sim 0.18600410333747763\n"
     ]
    },
    {
     "data": {
      "application/vnd.jupyter.widget-view+json": {
       "model_id": "f70407a7572748a0aa815ff322c7ad73",
       "version_major": 2,
       "version_minor": 0
      },
      "text/plain": [
       "HBox(children=(HTML(value=''), FloatProgress(value=0.0, max=30.0), HTML(value='')))"
      ]
     },
     "metadata": {},
     "output_type": "display_data"
    },
    {
     "name": "stdout",
     "output_type": "stream",
     "text": [
      "contribution loss -0.26305035 params [array([0.57803816], dtype=float32), array([0.39131576], dtype=float32)]\n",
      "-0.26305035 -0.26305019924772866 sim 0.1860046321191607\n"
     ]
    },
    {
     "data": {
      "application/vnd.jupyter.widget-view+json": {
       "model_id": "b1d2ca4c046e455fb665171129c1de11",
       "version_major": 2,
       "version_minor": 0
      },
      "text/plain": [
       "HBox(children=(HTML(value=''), FloatProgress(value=0.0, max=30.0), HTML(value='')))"
      ]
     },
     "metadata": {},
     "output_type": "display_data"
    },
    {
     "name": "stdout",
     "output_type": "stream",
     "text": [
      "contribution loss -0.26277608 params [array([0.57835203], dtype=float32), array([0.39455733], dtype=float32)]\n",
      "-0.26277608 -0.2627759856164303 sim 0.18581071359837062\n"
     ]
    },
    {
     "data": {
      "application/vnd.jupyter.widget-view+json": {
       "model_id": "f8e71e78254d41b1a357660dd76fba58",
       "version_major": 2,
       "version_minor": 0
      },
      "text/plain": [
       "HBox(children=(HTML(value=''), FloatProgress(value=0.0, max=30.0), HTML(value='')))"
      ]
     },
     "metadata": {},
     "output_type": "display_data"
    },
    {
     "name": "stdout",
     "output_type": "stream",
     "text": [
      "contribution loss -0.036059156 params [array([0.8314063], dtype=float32), array([1.0315032], dtype=float32)]\n",
      "-0.036059156 -0.03605922015761745 sim 0.02549769643586712\n"
     ]
    },
    {
     "data": {
      "application/vnd.jupyter.widget-view+json": {
       "model_id": "e03d17b2843d44bbaba630e54e15f10a",
       "version_major": 2,
       "version_minor": 0
      },
      "text/plain": [
       "HBox(children=(HTML(value=''), FloatProgress(value=0.0, max=30.0), HTML(value='')))"
      ]
     },
     "metadata": {},
     "output_type": "display_data"
    },
    {
     "name": "stdout",
     "output_type": "stream",
     "text": [
      "contribution loss -0.21669926 params [array([0.92738193], dtype=float32), array([0.5950259], dtype=float32)]\n",
      "-0.21669926 -0.2166993384656016 sim 0.15322954307952663\n"
     ]
    },
    {
     "data": {
      "application/vnd.jupyter.widget-view+json": {
       "model_id": "147e0a5541c74df8bc5109d509c7e396",
       "version_major": 2,
       "version_minor": 0
      },
      "text/plain": [
       "HBox(children=(HTML(value=''), FloatProgress(value=0.0, max=30.0), HTML(value='')))"
      ]
     },
     "metadata": {},
     "output_type": "display_data"
    },
    {
     "name": "stdout",
     "output_type": "stream",
     "text": [
      "contribution loss 8.298714e-05 params [array([0.2425393], dtype=float32), array([0.57242286], dtype=float32)]\n",
      "8.298714e-05 8.301246760977071e-05 sim 5.868972289915293e-05\n"
     ]
    },
    {
     "data": {
      "application/vnd.jupyter.widget-view+json": {
       "model_id": "3d1ac950f19d406eb87e625a023a3692",
       "version_major": 2,
       "version_minor": 0
      },
      "text/plain": [
       "HBox(children=(HTML(value=''), FloatProgress(value=0.0, max=30.0), HTML(value='')))"
      ]
     },
     "metadata": {},
     "output_type": "display_data"
    },
    {
     "name": "stdout",
     "output_type": "stream",
     "text": [
      "contribution loss -0.2166994 params [array([0.57258165], dtype=float32), array([0.9049678], dtype=float32)]\n",
      "-0.2166994 -0.21669948857155313 sim 0.1532296488335552\n"
     ]
    },
    {
     "data": {
      "application/vnd.jupyter.widget-view+json": {
       "model_id": "82e632bd950348eba2175e6556bfa2bf",
       "version_major": 2,
       "version_minor": 0
      },
      "text/plain": [
       "HBox(children=(HTML(value=''), FloatProgress(value=0.0, max=30.0), HTML(value='')))"
      ]
     },
     "metadata": {},
     "output_type": "display_data"
    },
    {
     "name": "stdout",
     "output_type": "stream",
     "text": [
      "contribution loss -4.2146848e-08 params [array([0.74916303], dtype=float32), array([0.50694937], dtype=float32)]\n",
      "-4.2146848e-08 1.2686953532762973e-08 sim -1.2148488971239161e-08\n"
     ]
    },
    {
     "data": {
      "application/vnd.jupyter.widget-view+json": {
       "model_id": "2073c3734f624ab1bf81151054236bc6",
       "version_major": 2,
       "version_minor": 0
      },
      "text/plain": [
       "HBox(children=(HTML(value=''), FloatProgress(value=0.0, max=30.0), HTML(value='')))"
      ]
     },
     "metadata": {},
     "output_type": "display_data"
    },
    {
     "name": "stdout",
     "output_type": "stream",
     "text": [
      "contribution loss -0.21669915 params [array([0.07263882], dtype=float32), array([0.40500775], dtype=float32)]\n",
      "-0.21669915 -0.21669919207815744 sim 0.15322945444526315\n"
     ]
    },
    {
     "data": {
      "application/vnd.jupyter.widget-view+json": {
       "model_id": "300dfee0690c41708835c37c51fd3ba8",
       "version_major": 2,
       "version_minor": 0
      },
      "text/plain": [
       "HBox(children=(HTML(value=''), FloatProgress(value=0.0, max=30.0), HTML(value='')))"
      ]
     },
     "metadata": {},
     "output_type": "display_data"
    },
    {
     "name": "stdout",
     "output_type": "stream",
     "text": [
      "contribution loss -0.21660669 params [array([0.5708191], dtype=float32), array([0.40439776], dtype=float32)]\n",
      "-0.21660669 -0.21660678525904334 sim 0.15316409355166624\n"
     ]
    },
    {
     "data": {
      "application/vnd.jupyter.widget-view+json": {
       "model_id": "d4f25c1b742e4e90af409db278e6c8a2",
       "version_major": 2,
       "version_minor": 0
      },
      "text/plain": [
       "HBox(children=(HTML(value=''), FloatProgress(value=0.0, max=30.0), HTML(value='')))"
      ]
     },
     "metadata": {},
     "output_type": "display_data"
    },
    {
     "name": "stdout",
     "output_type": "stream",
     "text": [
      "contribution loss -0.21669936 params [array([0.07250179], dtype=float32), array([0.4050096], dtype=float32)]\n",
      "-0.21669936 -0.2166994061726259 sim 0.1532296038960727\n"
     ]
    },
    {
     "data": {
      "application/vnd.jupyter.widget-view+json": {
       "model_id": "2671b798d0134cf3b5c8aea5c1a450d0",
       "version_major": 2,
       "version_minor": 0
      },
      "text/plain": [
       "HBox(children=(HTML(value=''), FloatProgress(value=0.0, max=30.0), HTML(value='')))"
      ]
     },
     "metadata": {},
     "output_type": "display_data"
    },
    {
     "name": "stdout",
     "output_type": "stream",
     "text": [
      "contribution loss -0.21669945 params [array([0.42742434], dtype=float32), array([0.59503216], dtype=float32)]\n",
      "-0.21669945 -0.21669950494270143 sim 0.15322967042670305\n"
     ]
    },
    {
     "data": {
      "application/vnd.jupyter.widget-view+json": {
       "model_id": "9e245a808a614f74a3ce1ca1cb16eb3a",
       "version_major": 2,
       "version_minor": 0
      },
      "text/plain": [
       "HBox(children=(HTML(value=''), FloatProgress(value=0.0, max=30.0), HTML(value='')))"
      ]
     },
     "metadata": {},
     "output_type": "display_data"
    },
    {
     "name": "stdout",
     "output_type": "stream",
     "text": [
      "contribution loss -0.21669962 params [array([0.07253123], dtype=float32), array([0.9049485], dtype=float32)]\n",
      "-0.21669962 -0.21669956118872416 sim 0.15322974826459176\n"
     ]
    },
    {
     "data": {
      "application/vnd.jupyter.widget-view+json": {
       "model_id": "cd48a53cdef14252a91fa73c9ae801ad",
       "version_major": 2,
       "version_minor": 0
      },
      "text/plain": [
       "HBox(children=(HTML(value=''), FloatProgress(value=0.0, max=30.0), HTML(value='')))"
      ]
     },
     "metadata": {},
     "output_type": "display_data"
    },
    {
     "name": "stdout",
     "output_type": "stream",
     "text": [
      "contribution loss -0.3847987 params [array([0.09795115], dtype=float32), array([0.37682566], dtype=float32)]\n",
      "-0.3847987 -0.3847988108689591 sim 0.2720938113319246\n"
     ]
    },
    {
     "data": {
      "application/vnd.jupyter.widget-view+json": {
       "model_id": "741713462a4b49ada66cdb7b18c4281d",
       "version_major": 2,
       "version_minor": 0
      },
      "text/plain": [
       "HBox(children=(HTML(value=''), FloatProgress(value=0.0, max=30.0), HTML(value='')))"
      ]
     },
     "metadata": {},
     "output_type": "display_data"
    },
    {
     "name": "stdout",
     "output_type": "stream",
     "text": [
      "contribution loss -0.3806587 params [array([0.5979566], dtype=float32), array([0.63682425], dtype=float32)]\n",
      "-0.3806587 -0.38065892934469664 sim 0.2691664242803987\n"
     ]
    },
    {
     "data": {
      "application/vnd.jupyter.widget-view+json": {
       "model_id": "9310dad814ff4491bb1a7548d6cbfce8",
       "version_major": 2,
       "version_minor": 0
      },
      "text/plain": [
       "HBox(children=(HTML(value=''), FloatProgress(value=0.0, max=30.0), HTML(value='')))"
      ]
     },
     "metadata": {},
     "output_type": "display_data"
    },
    {
     "name": "stdout",
     "output_type": "stream",
     "text": [
      "contribution loss 8.636245e-17 params [array([0.25], dtype=float32), array([0.5662688], dtype=float32)]\n",
      "8.636245e-17 1.8237229916154315e-32 sim 1.8237229916154315e-32\n"
     ]
    },
    {
     "data": {
      "application/vnd.jupyter.widget-view+json": {
       "model_id": "c862d761add240fe820fc86de85b46ed",
       "version_major": 2,
       "version_minor": 0
      },
      "text/plain": [
       "HBox(children=(HTML(value=''), FloatProgress(value=0.0, max=30.0), HTML(value='')))"
      ]
     },
     "metadata": {},
     "output_type": "display_data"
    },
    {
     "name": "stdout",
     "output_type": "stream",
     "text": [
      "contribution loss -0.38490003 params [array([0.09799334], dtype=float32), array([0.87499994], dtype=float32)]\n",
      "-0.38490003 -0.3849000390212289 sim 0.27216542570962493\n"
     ]
    },
    {
     "data": {
      "application/vnd.jupyter.widget-view+json": {
       "model_id": "f64a517c177a4057b574b1bee3cb9a21",
       "version_major": 2,
       "version_minor": 0
      },
      "text/plain": [
       "HBox(children=(HTML(value=''), FloatProgress(value=0.0, max=30.0), HTML(value='')))"
      ]
     },
     "metadata": {},
     "output_type": "display_data"
    },
    {
     "name": "stdout",
     "output_type": "stream",
     "text": [
      "contribution loss -0.3830815 params [array([0.40204337], dtype=float32), array([0.36726156], dtype=float32)]\n",
      "-0.3830815 -0.38308164579148446 sim 0.27087957644376776\n"
     ]
    },
    {
     "data": {
      "application/vnd.jupyter.widget-view+json": {
       "model_id": "34d933bcd79b44a38c080f9c3ce58906",
       "version_major": 2,
       "version_minor": 0
      },
      "text/plain": [
       "HBox(children=(HTML(value=''), FloatProgress(value=0.0, max=30.0), HTML(value='')))"
      ]
     },
     "metadata": {},
     "output_type": "display_data"
    },
    {
     "name": "stdout",
     "output_type": "stream",
     "text": [
      "contribution loss -0.3698427 params [array([0.6011727], dtype=float32), array([0.14699274], dtype=float32)]\n",
      "-0.3698427 -0.3698428180842553 sim 0.2615183257590262\n"
     ]
    },
    {
     "data": {
      "application/vnd.jupyter.widget-view+json": {
       "model_id": "c8d53ecb1364404db7c6449041179f91",
       "version_major": 2,
       "version_minor": 0
      },
      "text/plain": [
       "HBox(children=(HTML(value=''), FloatProgress(value=0.0, max=30.0), HTML(value='')))"
      ]
     },
     "metadata": {},
     "output_type": "display_data"
    },
    {
     "name": "stdout",
     "output_type": "stream",
     "text": [
      "contribution loss -0.38487247 params [array([0.9022457], dtype=float32), array([0.12592173], dtype=float32)]\n",
      "-0.38487247 -0.3848724148191911 sim 0.27214591262061216\n"
     ]
    },
    {
     "data": {
      "application/vnd.jupyter.widget-view+json": {
       "model_id": "59e834d888724ce4a7ab0550ab0d8fb5",
       "version_major": 2,
       "version_minor": 0
      },
      "text/plain": [
       "HBox(children=(HTML(value=''), FloatProgress(value=0.0, max=30.0), HTML(value='')))"
      ]
     },
     "metadata": {},
     "output_type": "display_data"
    },
    {
     "name": "stdout",
     "output_type": "stream",
     "text": [
      "contribution loss -0.38489994 params [array([0.90198517], dtype=float32), array([0.625], dtype=float32)]\n",
      "-0.38489994 -0.3848999460501016 sim 0.27216536122923135\n"
     ]
    },
    {
     "data": {
      "application/vnd.jupyter.widget-view+json": {
       "model_id": "4f2059b38483416680beff29a564b066",
       "version_major": 2,
       "version_minor": 0
      },
      "text/plain": [
       "HBox(children=(HTML(value=''), FloatProgress(value=0.0, max=30.0), HTML(value='')))"
      ]
     },
     "metadata": {},
     "output_type": "display_data"
    },
    {
     "name": "stdout",
     "output_type": "stream",
     "text": [
      "contribution loss -0.38473746 params [array([0.59941983], dtype=float32), array([0.12646446], dtype=float32)]\n",
      "-0.38473746 -0.3847375634101323 sim 0.2720505041417692\n"
     ]
    },
    {
     "data": {
      "application/vnd.jupyter.widget-view+json": {
       "model_id": "a2d742e11d484b01affa1b705969dc2e",
       "version_major": 2,
       "version_minor": 0
      },
      "text/plain": [
       "HBox(children=(HTML(value=''), FloatProgress(value=0.0, max=30.0), HTML(value='')))"
      ]
     },
     "metadata": {},
     "output_type": "display_data"
    },
    {
     "name": "stdout",
     "output_type": "stream",
     "text": [
      "\n",
      "\n",
      "\n",
      "\n",
      "\n",
      "\n",
      "\n",
      "\n",
      "\n",
      "\n",
      "\n",
      "\n",
      "\n",
      "\n",
      "\n",
      "\n",
      "\n",
      "\n",
      "\n",
      "\n",
      "\n",
      "\n",
      "\n",
      "\n",
      "\n",
      "\n",
      "\n",
      "\n",
      "\n",
      "\n",
      "\n",
      "\n",
      "\n",
      "\n",
      "\n",
      "\n",
      "\n",
      "\n",
      "\n",
      "\n",
      "\n",
      "\n",
      "\n",
      "\n",
      "\n",
      "\n",
      "\n",
      "\n",
      "\n",
      "\n",
      "\n",
      "\n",
      "\n",
      "\n",
      "\n",
      "\n",
      "\n",
      "\n",
      "\n",
      "\n",
      "\n",
      "\n",
      "\n",
      "\n",
      "\n",
      "\n",
      "\n",
      "\n",
      "\n",
      "contribution loss -0.38489866 params [array([0.901861], dtype=float32), array([0.625], dtype=float32)]\n",
      "-0.38489866 -0.3848985850276254 sim 0.2721644269564945\n"
     ]
    },
    {
     "data": {
      "application/vnd.jupyter.widget-view+json": {
       "model_id": "44d11179d470434bac015edef5ccd265",
       "version_major": 2,
       "version_minor": 0
      },
      "text/plain": [
       "HBox(children=(HTML(value=''), FloatProgress(value=0.0, max=30.0), HTML(value='')))"
      ]
     },
     "metadata": {},
     "output_type": "display_data"
    },
    {
     "name": "stdout",
     "output_type": "stream",
     "text": [
      "contribution loss -0.4991933 params [array([0.62952083], dtype=float32), array([0.3750001], dtype=float32)]\n",
      "\n",
      "-0.4991933 -0.49919329128470774 sim 0.3529829682678876\n"
     ]
    },
    {
     "data": {
      "application/vnd.jupyter.widget-view+json": {
       "model_id": "b2c201bb456a403e96c412e9c8103f30",
       "version_major": 2,
       "version_minor": 0
      },
      "text/plain": [
       "HBox(children=(HTML(value=''), FloatProgress(value=0.0, max=30.0), HTML(value='')))"
      ]
     },
     "metadata": {},
     "output_type": "display_data"
    },
    {
     "name": "stdout",
     "output_type": "stream",
     "text": [
      "contribution loss -0.5 params [array([0.62500226], dtype=float32), array([0.87499994], dtype=float32)]\n",
      "-0.5 -0.49999993134025067 sim 0.3535533663183841\n"
     ]
    },
    {
     "data": {
      "application/vnd.jupyter.widget-view+json": {
       "model_id": "05526c30766e4cde9b7a693a58afb597",
       "version_major": 2,
       "version_minor": 0
      },
      "text/plain": [
       "HBox(children=(HTML(value=''), FloatProgress(value=0.0, max=30.0), HTML(value='')))"
      ]
     },
     "metadata": {},
     "output_type": "display_data"
    },
    {
     "name": "stdout",
     "output_type": "stream",
     "text": [
      "\n",
      "contribution loss -0.49998176 params [array([0.3756797], dtype=float32), array([0.625], dtype=float32)]\n",
      "-0.49998176 -0.4999816928555627 sim 0.35354046957246127\n"
     ]
    },
    {
     "data": {
      "application/vnd.jupyter.widget-view+json": {
       "model_id": "39f45ae72fa649c983d8eaff303195ff",
       "version_major": 2,
       "version_minor": 0
      },
      "text/plain": [
       "HBox(children=(HTML(value=''), FloatProgress(value=0.0, max=30.0), HTML(value='')))"
      ]
     },
     "metadata": {},
     "output_type": "display_data"
    },
    {
     "name": "stdout",
     "output_type": "stream",
     "text": [
      "contribution loss -0.49997512 params [array([0.37421018], dtype=float32), array([0.62499994], dtype=float32)]\n",
      "\n",
      "-0.49997512 -0.4999753044226892 sim 0.3535358612335372\n"
     ]
    },
    {
     "data": {
      "application/vnd.jupyter.widget-view+json": {
       "model_id": "bd6c6aeb845f477f8ca1ae2fb241dad8",
       "version_major": 2,
       "version_minor": 0
      },
      "text/plain": [
       "HBox(children=(HTML(value=''), FloatProgress(value=0.0, max=30.0), HTML(value='')))"
      ]
     },
     "metadata": {},
     "output_type": "display_data"
    },
    {
     "name": "stdout",
     "output_type": "stream",
     "text": [
      "contribution loss -0.49978533 params [array([0.6271727], dtype=float32), array([0.8758446], dtype=float32)]\n",
      "-0.49978533 -0.4997854278824169 sim 0.3534016319561148\n"
     ]
    },
    {
     "data": {
      "application/vnd.jupyter.widget-view+json": {
       "model_id": "e447b138ae334a8d84f466c771bda6b2",
       "version_major": 2,
       "version_minor": 0
      },
      "text/plain": [
       "HBox(children=(HTML(value=''), FloatProgress(value=0.0, max=30.0), HTML(value='')))"
      ]
     },
     "metadata": {},
     "output_type": "display_data"
    },
    {
     "name": "stdout",
     "output_type": "stream",
     "text": [
      "\n",
      "contribution loss -0.4963102 params [array([0.61532664], dtype=float32), array([0.37501943], dtype=float32)]\n",
      "-0.4963102 -0.4963103169514035 sim 0.35094435084939984\n"
     ]
    },
    {
     "data": {
      "application/vnd.jupyter.widget-view+json": {
       "model_id": "b78741cbc66f4bfe971f857ce249f555",
       "version_major": 2,
       "version_minor": 0
      },
      "text/plain": [
       "HBox(children=(HTML(value=''), FloatProgress(value=0.0, max=30.0), HTML(value='')))"
      ]
     },
     "metadata": {},
     "output_type": "display_data"
    },
    {
     "name": "stdout",
     "output_type": "stream",
     "text": [
      "contribution loss -0.49999362 params [array([0.6246076], dtype=float32), array([0.8749118], dtype=float32)]\n",
      "\n",
      "-0.49999362 -0.4999935462467995 sim 0.35354885399054925\n"
     ]
    },
    {
     "data": {
      "application/vnd.jupyter.widget-view+json": {
       "model_id": "9b22f24550484aadba9ca64c7cc0c530",
       "version_major": 2,
       "version_minor": 0
      },
      "text/plain": [
       "HBox(children=(HTML(value=''), FloatProgress(value=0.0, max=30.0), HTML(value='')))"
      ]
     },
     "metadata": {},
     "output_type": "display_data"
    },
    {
     "name": "stdout",
     "output_type": "stream",
     "text": [
      "contribution loss -0.49998772 params [array([0.12499999], dtype=float32), array([0.874444], dtype=float32)]\n",
      "-0.49998772 -0.49998772773977473 sim 0.35354471056866427\n"
     ]
    },
    {
     "data": {
      "application/vnd.jupyter.widget-view+json": {
       "model_id": "8a802ff107b944849287ab2e5d77945b",
       "version_major": 2,
       "version_minor": 0
      },
      "text/plain": [
       "HBox(children=(HTML(value=''), FloatProgress(value=0.0, max=30.0), HTML(value='')))"
      ]
     },
     "metadata": {},
     "output_type": "display_data"
    },
    {
     "name": "stdout",
     "output_type": "stream",
     "text": [
      "\n",
      "contribution loss -0.49526176 params [array([0.614036], dtype=float32), array([0.375], dtype=float32)]\n",
      "-0.49526176 -0.4952617821723876 sim 0.350202956290477\n"
     ]
    },
    {
     "data": {
      "application/vnd.jupyter.widget-view+json": {
       "model_id": "87a9e97e19884315a62cb24a51c4bf0b",
       "version_major": 2,
       "version_minor": 0
      },
      "text/plain": [
       "HBox(children=(HTML(value=''), FloatProgress(value=0.0, max=30.0), HTML(value='')))"
      ]
     },
     "metadata": {},
     "output_type": "display_data"
    },
    {
     "name": "stdout",
     "output_type": "stream",
     "text": [
      "contribution loss -0.4999601 params [array([0.12600422], dtype=float32), array([0.87499994], dtype=float32)]\n",
      "\n",
      "-0.4999601 -0.49996011983298466 sim 0.3535251821674687\n"
     ]
    }
   ],
   "source": [
    "mat = transferrability_matrix(uniq_subg.values(), multistart=10)"
   ]
  },
  {
   "cell_type": "code",
   "execution_count": 846,
   "metadata": {},
   "outputs": [
    {
     "data": {
      "text/plain": [
       "array([[ 0.71392446,  0.3153868 ,  0.25200699,  0.86813773,  0.84499355,\n",
       "         0.81634837,  0.37221   ,  0.89221202],\n",
       "       [ 0.01608198,  1.14740423,  0.87905921,  0.33425446,  0.27315984,\n",
       "         0.20210946,  1.37429621,  0.35173199],\n",
       "       [-0.04528703,  1.01373026,  0.90876598,  0.08353965,  0.05555649,\n",
       "         0.02537219,  1.11680319,  0.08214242],\n",
       "       [ 0.63040997, -0.61868751, -1.13961555,  2.05245728,  1.7986222 ,\n",
       "         1.45373935, -0.25901513,  2.32521983],\n",
       "       [ 0.89500012, -0.43227726, -0.75724242,  1.81569423,  1.67149602,\n",
       "         1.47704668, -0.2145116 ,  1.98646794],\n",
       "       [ 0.78360841,  0.06375285, -0.12409088,  1.25083623,  1.18469768,\n",
       "         1.09809814,  0.21468841,  1.34131622],\n",
       "       [-0.86062364,  1.25492017, -0.06783005,  0.25977316, -0.07173814,\n",
       "        -0.42312756,  2.43434977,  0.31211796],\n",
       "       [ 0.02284183, -1.54909669, -2.76112253,  2.25899998,  1.77747513,\n",
       "         1.23123185, -1.74304959,  3.52878035]])"
      ]
     },
     "execution_count": 846,
     "metadata": {},
     "output_type": "execute_result"
    }
   ],
   "source": [
    "mat"
   ]
  },
  {
   "cell_type": "code",
   "execution_count": null,
   "metadata": {},
   "outputs": [],
   "source": []
  },
  {
   "cell_type": "code",
   "execution_count": 847,
   "metadata": {},
   "outputs": [],
   "source": [
    "from IPython.display import set_matplotlib_formats\n",
    "import matplotlib\n",
    "__plot_height = 2.719\n",
    "matplotlib.rcParams['figure.figsize'] = (1.618*__plot_height, __plot_height)\n",
    "set_matplotlib_formats('svg')"
   ]
  },
  {
   "cell_type": "code",
   "execution_count": 849,
   "metadata": {},
   "outputs": [
    {
     "data": {
      "image/svg+xml": [
       "<?xml version=\"1.0\" encoding=\"utf-8\" standalone=\"no\"?>\n",
       "<!DOCTYPE svg PUBLIC \"-//W3C//DTD SVG 1.1//EN\"\n",
       "  \"http://www.w3.org/Graphics/SVG/1.1/DTD/svg11.dtd\">\n",
       "<!-- Created with matplotlib (https://matplotlib.org/) -->\n",
       "<svg height=\"426.96pt\" version=\"1.1\" viewBox=\"0 0 496.8 426.96\" width=\"496.8pt\" xmlns=\"http://www.w3.org/2000/svg\" xmlns:xlink=\"http://www.w3.org/1999/xlink\">\n",
       " <metadata>\n",
       "  <rdf:RDF xmlns:cc=\"http://creativecommons.org/ns#\" xmlns:dc=\"http://purl.org/dc/elements/1.1/\" xmlns:rdf=\"http://www.w3.org/1999/02/22-rdf-syntax-ns#\">\n",
       "   <cc:Work>\n",
       "    <dc:type rdf:resource=\"http://purl.org/dc/dcmitype/StillImage\"/>\n",
       "    <dc:date>2021-04-01T10:43:57.391187</dc:date>\n",
       "    <dc:format>image/svg+xml</dc:format>\n",
       "    <dc:creator>\n",
       "     <cc:Agent>\n",
       "      <dc:title>Matplotlib v3.3.3, https://matplotlib.org/</dc:title>\n",
       "     </cc:Agent>\n",
       "    </dc:creator>\n",
       "   </cc:Work>\n",
       "  </rdf:RDF>\n",
       " </metadata>\n",
       " <defs>\n",
       "  <style type=\"text/css\">*{stroke-linecap:butt;stroke-linejoin:round;}</style>\n",
       " </defs>\n",
       " <g id=\"figure_1\">\n",
       "  <g id=\"patch_1\">\n",
       "   <path d=\"M 0 426.96 \n",
       "L 496.8 426.96 \n",
       "L 496.8 0 \n",
       "L 0 0 \n",
       "z\n",
       "\" style=\"fill:#ffffff;\"/>\n",
       "  </g>\n",
       "  <g id=\"axes_1\">\n",
       "   <g id=\"patch_2\">\n",
       "    <path d=\"M 165.852 286.204 \n",
       "L 393.12 286.204 \n",
       "L 393.12 58.936 \n",
       "L 165.852 58.936 \n",
       "z\n",
       "\" style=\"fill:#ffffff;\"/>\n",
       "   </g>\n",
       "   <g clip-path=\"url(#p68c78a1e66)\">\n",
       "    <image height=\"228\" id=\"imagedc53891d7d\" transform=\"scale(1 -1)translate(0 -228)\" width=\"228\" x=\"165.852\" xlink:href=\"data:image/png;base64,\n",
       "iVBORw0KGgoAAAANSUhEUgAAAOQAAADkCAYAAACIV4iNAAAEbElEQVR4nO3dP2vddRjG4TvJSRNasREFQbKI2KFKwaV06KSgorObQ/EF+QIEwaGgg7gqOAguRaqQgtLBKqJSJRb8E5PU5JjjK3B9uIfregM3hx+f84zftZvP31hl0DvfnZucS5J8fvzu6N7pza3RvSQ5vbc9uvfHvd3RvSR57aMro3tf/v3q6F6SrI8vAv9LkFBEkFBEkFBEkFBEkFBEkFBEkFBEkFBEkFBEkFBEkFBEkFBEkFBEkFBEkFBEkFBEkFBEkFBEkFBEkFBEkFBEkFBEkFBEkFBEkFBEkFBEkFBkceu3R0cHP3jjs9G9JPnk9o3RvY/fPhrdS5IHx+dH9/Yfzj8odPv9D0f3Pr16MrqXuJBQRZBQRJBQRJBQRJBQRJBQRJBQRJBQRJBQRJBQRJBQRJBQRJBQRJBQRJBQRJBQRJBQRJBQRJBQRJBQRJBQRJBQRJBQRJBQRJBQRJBQRJBQZO3Oyy+tJge/ub87OZckOVxuju69fvWL0b0kOVsuRveWy43RvSS58+2l0b1rL+yN7iUuJFQRJBQRJBQRJBQRJBQRJBQRJBQRJBQRJBQRJBQRJBQRJBQRJBQRJBQRJBQRJBQRJBQRJBQRJBQRJBQRJBQRJBQRJBQRJBQRJBQRJBQRJBQRJBRZbC6Wo4M/HF4Y3UuSBw9nH4Z589mfRveSZHm0Pbp3enB+dC9Jft57ZHRv58r3o3uJCwlVBAlFBAlFBAlFBAlFBAlFBAlFBAlFBAlFBAlFBAlFBAlFBAlFBAlFBAlFBAlFBAlFBAlFBAlFBAlFBAlFBAlFBAlFBAlFBAlFBAlFBAlFFgfDb20cLuf/A+4fz+5t7BzNDiZZna2N7p38Of9Gy3I1+xvXnzo3upe4kFBFkFBEkFBEkFBEkFBEkFBEkFBEkFBEkFBEkFBEkFBEkFBEkFBEkFBEkFBEkFBEkFBEkFBEkFBEkFBEkFBEkFBEkFBEkFBEkFBEkFBEkFBEkFBk7b3Lb60mB69fujs5lyQ5Pd0c3dv78enRvSRZjX7F5CyzD98kyfXLX4/u3br73Ohe4kJCFUFCEUFCEUFCEUFCEUFCEUFCEUFCEUFCEUFCEUFCEUFCEUFCEUFCEUFCEUFCEUFCEUFCEUFCEUFCEUFCEUFCEUFCEUFCEUFCEUFCEUFCkcVi/Wx0cGv7n9G9JDk5OTe6t7N1PLqXJP+uZv9bT882RveS5MLFg9G9x7bnv6MLCUUECUUECUUECUUECUUECUUECUUECUUECUUECUUECUUECUUECUUECUUECUUECUUECUUECUUECUUECUUECUUECUUECUUECUUECUUECUUECUUECUXWvnrxldXk4P5fFyfnksw/DPPMk7+M7iXJarU2unc2vJckv/7++Oje7hP7o3uJCwlVBAlFBAlFBAlFBAlFBAlFBAlFBAlFBAlFBAlFBAlFBAlFBAlFBAlFBAlFBAlFBAlFBAlFBAlFBAlFBAlFBAlFBAlFBAlFBAlFBAlFBAlF/gMXQ27uHThakwAAAABJRU5ErkJggg==\" y=\"-58.204\"/>\n",
       "   </g>\n",
       "   <g id=\"matplotlib.axis_1\">\n",
       "    <g id=\"xtick_1\">\n",
       "     <g id=\"line2d_1\">\n",
       "      <defs>\n",
       "       <path d=\"M 0 0 \n",
       "L 0 3.5 \n",
       "\" id=\"med986473c9\" style=\"stroke:#000000;stroke-width:0.8;\"/>\n",
       "      </defs>\n",
       "      <g>\n",
       "       <use style=\"stroke:#000000;stroke-width:0.8;\" x=\"180.05625\" xlink:href=\"#med986473c9\" y=\"286.204\"/>\n",
       "      </g>\n",
       "     </g>\n",
       "     <g id=\"text_1\">\n",
       "      <!-- 0 -->\n",
       "      <g transform=\"translate(176.875 300.802437)scale(0.1 -0.1)\">\n",
       "       <defs>\n",
       "        <path d=\"M 31.78125 66.40625 \n",
       "Q 24.171875 66.40625 20.328125 58.90625 \n",
       "Q 16.5 51.421875 16.5 36.375 \n",
       "Q 16.5 21.390625 20.328125 13.890625 \n",
       "Q 24.171875 6.390625 31.78125 6.390625 \n",
       "Q 39.453125 6.390625 43.28125 13.890625 \n",
       "Q 47.125 21.390625 47.125 36.375 \n",
       "Q 47.125 51.421875 43.28125 58.90625 \n",
       "Q 39.453125 66.40625 31.78125 66.40625 \n",
       "z\n",
       "M 31.78125 74.21875 \n",
       "Q 44.046875 74.21875 50.515625 64.515625 \n",
       "Q 56.984375 54.828125 56.984375 36.375 \n",
       "Q 56.984375 17.96875 50.515625 8.265625 \n",
       "Q 44.046875 -1.421875 31.78125 -1.421875 \n",
       "Q 19.53125 -1.421875 13.0625 8.265625 \n",
       "Q 6.59375 17.96875 6.59375 36.375 \n",
       "Q 6.59375 54.828125 13.0625 64.515625 \n",
       "Q 19.53125 74.21875 31.78125 74.21875 \n",
       "z\n",
       "\" id=\"DejaVuSans-48\"/>\n",
       "       </defs>\n",
       "       <use xlink:href=\"#DejaVuSans-48\"/>\n",
       "      </g>\n",
       "     </g>\n",
       "    </g>\n",
       "    <g id=\"xtick_2\">\n",
       "     <g id=\"line2d_2\">\n",
       "      <g>\n",
       "       <use style=\"stroke:#000000;stroke-width:0.8;\" x=\"236.87325\" xlink:href=\"#med986473c9\" y=\"286.204\"/>\n",
       "      </g>\n",
       "     </g>\n",
       "     <g id=\"text_2\">\n",
       "      <!-- 2 -->\n",
       "      <g transform=\"translate(233.692 300.802437)scale(0.1 -0.1)\">\n",
       "       <defs>\n",
       "        <path d=\"M 19.1875 8.296875 \n",
       "L 53.609375 8.296875 \n",
       "L 53.609375 0 \n",
       "L 7.328125 0 \n",
       "L 7.328125 8.296875 \n",
       "Q 12.9375 14.109375 22.625 23.890625 \n",
       "Q 32.328125 33.6875 34.8125 36.53125 \n",
       "Q 39.546875 41.84375 41.421875 45.53125 \n",
       "Q 43.3125 49.21875 43.3125 52.78125 \n",
       "Q 43.3125 58.59375 39.234375 62.25 \n",
       "Q 35.15625 65.921875 28.609375 65.921875 \n",
       "Q 23.96875 65.921875 18.8125 64.3125 \n",
       "Q 13.671875 62.703125 7.8125 59.421875 \n",
       "L 7.8125 69.390625 \n",
       "Q 13.765625 71.78125 18.9375 73 \n",
       "Q 24.125 74.21875 28.421875 74.21875 \n",
       "Q 39.75 74.21875 46.484375 68.546875 \n",
       "Q 53.21875 62.890625 53.21875 53.421875 \n",
       "Q 53.21875 48.921875 51.53125 44.890625 \n",
       "Q 49.859375 40.875 45.40625 35.40625 \n",
       "Q 44.1875 33.984375 37.640625 27.21875 \n",
       "Q 31.109375 20.453125 19.1875 8.296875 \n",
       "z\n",
       "\" id=\"DejaVuSans-50\"/>\n",
       "       </defs>\n",
       "       <use xlink:href=\"#DejaVuSans-50\"/>\n",
       "      </g>\n",
       "     </g>\n",
       "    </g>\n",
       "    <g id=\"xtick_3\">\n",
       "     <g id=\"line2d_3\">\n",
       "      <g>\n",
       "       <use style=\"stroke:#000000;stroke-width:0.8;\" x=\"293.69025\" xlink:href=\"#med986473c9\" y=\"286.204\"/>\n",
       "      </g>\n",
       "     </g>\n",
       "     <g id=\"text_3\">\n",
       "      <!-- 4 -->\n",
       "      <g transform=\"translate(290.509 300.802437)scale(0.1 -0.1)\">\n",
       "       <defs>\n",
       "        <path d=\"M 37.796875 64.3125 \n",
       "L 12.890625 25.390625 \n",
       "L 37.796875 25.390625 \n",
       "z\n",
       "M 35.203125 72.90625 \n",
       "L 47.609375 72.90625 \n",
       "L 47.609375 25.390625 \n",
       "L 58.015625 25.390625 \n",
       "L 58.015625 17.1875 \n",
       "L 47.609375 17.1875 \n",
       "L 47.609375 0 \n",
       "L 37.796875 0 \n",
       "L 37.796875 17.1875 \n",
       "L 4.890625 17.1875 \n",
       "L 4.890625 26.703125 \n",
       "z\n",
       "\" id=\"DejaVuSans-52\"/>\n",
       "       </defs>\n",
       "       <use xlink:href=\"#DejaVuSans-52\"/>\n",
       "      </g>\n",
       "     </g>\n",
       "    </g>\n",
       "    <g id=\"xtick_4\">\n",
       "     <g id=\"line2d_4\">\n",
       "      <g>\n",
       "       <use style=\"stroke:#000000;stroke-width:0.8;\" x=\"350.50725\" xlink:href=\"#med986473c9\" y=\"286.204\"/>\n",
       "      </g>\n",
       "     </g>\n",
       "     <g id=\"text_4\">\n",
       "      <!-- 6 -->\n",
       "      <g transform=\"translate(347.326 300.802437)scale(0.1 -0.1)\">\n",
       "       <defs>\n",
       "        <path d=\"M 33.015625 40.375 \n",
       "Q 26.375 40.375 22.484375 35.828125 \n",
       "Q 18.609375 31.296875 18.609375 23.390625 \n",
       "Q 18.609375 15.53125 22.484375 10.953125 \n",
       "Q 26.375 6.390625 33.015625 6.390625 \n",
       "Q 39.65625 6.390625 43.53125 10.953125 \n",
       "Q 47.40625 15.53125 47.40625 23.390625 \n",
       "Q 47.40625 31.296875 43.53125 35.828125 \n",
       "Q 39.65625 40.375 33.015625 40.375 \n",
       "z\n",
       "M 52.59375 71.296875 \n",
       "L 52.59375 62.3125 \n",
       "Q 48.875 64.0625 45.09375 64.984375 \n",
       "Q 41.3125 65.921875 37.59375 65.921875 \n",
       "Q 27.828125 65.921875 22.671875 59.328125 \n",
       "Q 17.53125 52.734375 16.796875 39.40625 \n",
       "Q 19.671875 43.65625 24.015625 45.921875 \n",
       "Q 28.375 48.1875 33.59375 48.1875 \n",
       "Q 44.578125 48.1875 50.953125 41.515625 \n",
       "Q 57.328125 34.859375 57.328125 23.390625 \n",
       "Q 57.328125 12.15625 50.6875 5.359375 \n",
       "Q 44.046875 -1.421875 33.015625 -1.421875 \n",
       "Q 20.359375 -1.421875 13.671875 8.265625 \n",
       "Q 6.984375 17.96875 6.984375 36.375 \n",
       "Q 6.984375 53.65625 15.1875 63.9375 \n",
       "Q 23.390625 74.21875 37.203125 74.21875 \n",
       "Q 40.921875 74.21875 44.703125 73.484375 \n",
       "Q 48.484375 72.75 52.59375 71.296875 \n",
       "z\n",
       "\" id=\"DejaVuSans-54\"/>\n",
       "       </defs>\n",
       "       <use xlink:href=\"#DejaVuSans-54\"/>\n",
       "      </g>\n",
       "     </g>\n",
       "    </g>\n",
       "    <g id=\"text_5\">\n",
       "     <!-- Acceptor -->\n",
       "     <g transform=\"translate(257.328969 314.480562)scale(0.1 -0.1)\">\n",
       "      <defs>\n",
       "       <path d=\"M 34.1875 63.1875 \n",
       "L 20.796875 26.90625 \n",
       "L 47.609375 26.90625 \n",
       "z\n",
       "M 28.609375 72.90625 \n",
       "L 39.796875 72.90625 \n",
       "L 67.578125 0 \n",
       "L 57.328125 0 \n",
       "L 50.6875 18.703125 \n",
       "L 17.828125 18.703125 \n",
       "L 11.1875 0 \n",
       "L 0.78125 0 \n",
       "z\n",
       "\" id=\"DejaVuSans-65\"/>\n",
       "       <path d=\"M 48.78125 52.59375 \n",
       "L 48.78125 44.1875 \n",
       "Q 44.96875 46.296875 41.140625 47.34375 \n",
       "Q 37.3125 48.390625 33.40625 48.390625 \n",
       "Q 24.65625 48.390625 19.8125 42.84375 \n",
       "Q 14.984375 37.3125 14.984375 27.296875 \n",
       "Q 14.984375 17.28125 19.8125 11.734375 \n",
       "Q 24.65625 6.203125 33.40625 6.203125 \n",
       "Q 37.3125 6.203125 41.140625 7.25 \n",
       "Q 44.96875 8.296875 48.78125 10.40625 \n",
       "L 48.78125 2.09375 \n",
       "Q 45.015625 0.34375 40.984375 -0.53125 \n",
       "Q 36.96875 -1.421875 32.421875 -1.421875 \n",
       "Q 20.0625 -1.421875 12.78125 6.34375 \n",
       "Q 5.515625 14.109375 5.515625 27.296875 \n",
       "Q 5.515625 40.671875 12.859375 48.328125 \n",
       "Q 20.21875 56 33.015625 56 \n",
       "Q 37.15625 56 41.109375 55.140625 \n",
       "Q 45.0625 54.296875 48.78125 52.59375 \n",
       "z\n",
       "\" id=\"DejaVuSans-99\"/>\n",
       "       <path d=\"M 56.203125 29.59375 \n",
       "L 56.203125 25.203125 \n",
       "L 14.890625 25.203125 \n",
       "Q 15.484375 15.921875 20.484375 11.0625 \n",
       "Q 25.484375 6.203125 34.421875 6.203125 \n",
       "Q 39.59375 6.203125 44.453125 7.46875 \n",
       "Q 49.3125 8.734375 54.109375 11.28125 \n",
       "L 54.109375 2.78125 \n",
       "Q 49.265625 0.734375 44.1875 -0.34375 \n",
       "Q 39.109375 -1.421875 33.890625 -1.421875 \n",
       "Q 20.796875 -1.421875 13.15625 6.1875 \n",
       "Q 5.515625 13.8125 5.515625 26.8125 \n",
       "Q 5.515625 40.234375 12.765625 48.109375 \n",
       "Q 20.015625 56 32.328125 56 \n",
       "Q 43.359375 56 49.78125 48.890625 \n",
       "Q 56.203125 41.796875 56.203125 29.59375 \n",
       "z\n",
       "M 47.21875 32.234375 \n",
       "Q 47.125 39.59375 43.09375 43.984375 \n",
       "Q 39.0625 48.390625 32.421875 48.390625 \n",
       "Q 24.90625 48.390625 20.390625 44.140625 \n",
       "Q 15.875 39.890625 15.1875 32.171875 \n",
       "z\n",
       "\" id=\"DejaVuSans-101\"/>\n",
       "       <path d=\"M 18.109375 8.203125 \n",
       "L 18.109375 -20.796875 \n",
       "L 9.078125 -20.796875 \n",
       "L 9.078125 54.6875 \n",
       "L 18.109375 54.6875 \n",
       "L 18.109375 46.390625 \n",
       "Q 20.953125 51.265625 25.265625 53.625 \n",
       "Q 29.59375 56 35.59375 56 \n",
       "Q 45.5625 56 51.78125 48.09375 \n",
       "Q 58.015625 40.1875 58.015625 27.296875 \n",
       "Q 58.015625 14.40625 51.78125 6.484375 \n",
       "Q 45.5625 -1.421875 35.59375 -1.421875 \n",
       "Q 29.59375 -1.421875 25.265625 0.953125 \n",
       "Q 20.953125 3.328125 18.109375 8.203125 \n",
       "z\n",
       "M 48.6875 27.296875 \n",
       "Q 48.6875 37.203125 44.609375 42.84375 \n",
       "Q 40.53125 48.484375 33.40625 48.484375 \n",
       "Q 26.265625 48.484375 22.1875 42.84375 \n",
       "Q 18.109375 37.203125 18.109375 27.296875 \n",
       "Q 18.109375 17.390625 22.1875 11.75 \n",
       "Q 26.265625 6.109375 33.40625 6.109375 \n",
       "Q 40.53125 6.109375 44.609375 11.75 \n",
       "Q 48.6875 17.390625 48.6875 27.296875 \n",
       "z\n",
       "\" id=\"DejaVuSans-112\"/>\n",
       "       <path d=\"M 18.3125 70.21875 \n",
       "L 18.3125 54.6875 \n",
       "L 36.8125 54.6875 \n",
       "L 36.8125 47.703125 \n",
       "L 18.3125 47.703125 \n",
       "L 18.3125 18.015625 \n",
       "Q 18.3125 11.328125 20.140625 9.421875 \n",
       "Q 21.96875 7.515625 27.59375 7.515625 \n",
       "L 36.8125 7.515625 \n",
       "L 36.8125 0 \n",
       "L 27.59375 0 \n",
       "Q 17.1875 0 13.234375 3.875 \n",
       "Q 9.28125 7.765625 9.28125 18.015625 \n",
       "L 9.28125 47.703125 \n",
       "L 2.6875 47.703125 \n",
       "L 2.6875 54.6875 \n",
       "L 9.28125 54.6875 \n",
       "L 9.28125 70.21875 \n",
       "z\n",
       "\" id=\"DejaVuSans-116\"/>\n",
       "       <path d=\"M 30.609375 48.390625 \n",
       "Q 23.390625 48.390625 19.1875 42.75 \n",
       "Q 14.984375 37.109375 14.984375 27.296875 \n",
       "Q 14.984375 17.484375 19.15625 11.84375 \n",
       "Q 23.34375 6.203125 30.609375 6.203125 \n",
       "Q 37.796875 6.203125 41.984375 11.859375 \n",
       "Q 46.1875 17.53125 46.1875 27.296875 \n",
       "Q 46.1875 37.015625 41.984375 42.703125 \n",
       "Q 37.796875 48.390625 30.609375 48.390625 \n",
       "z\n",
       "M 30.609375 56 \n",
       "Q 42.328125 56 49.015625 48.375 \n",
       "Q 55.71875 40.765625 55.71875 27.296875 \n",
       "Q 55.71875 13.875 49.015625 6.21875 \n",
       "Q 42.328125 -1.421875 30.609375 -1.421875 \n",
       "Q 18.84375 -1.421875 12.171875 6.21875 \n",
       "Q 5.515625 13.875 5.515625 27.296875 \n",
       "Q 5.515625 40.765625 12.171875 48.375 \n",
       "Q 18.84375 56 30.609375 56 \n",
       "z\n",
       "\" id=\"DejaVuSans-111\"/>\n",
       "       <path d=\"M 41.109375 46.296875 \n",
       "Q 39.59375 47.171875 37.8125 47.578125 \n",
       "Q 36.03125 48 33.890625 48 \n",
       "Q 26.265625 48 22.1875 43.046875 \n",
       "Q 18.109375 38.09375 18.109375 28.8125 \n",
       "L 18.109375 0 \n",
       "L 9.078125 0 \n",
       "L 9.078125 54.6875 \n",
       "L 18.109375 54.6875 \n",
       "L 18.109375 46.1875 \n",
       "Q 20.953125 51.171875 25.484375 53.578125 \n",
       "Q 30.03125 56 36.53125 56 \n",
       "Q 37.453125 56 38.578125 55.875 \n",
       "Q 39.703125 55.765625 41.0625 55.515625 \n",
       "z\n",
       "\" id=\"DejaVuSans-114\"/>\n",
       "      </defs>\n",
       "      <use xlink:href=\"#DejaVuSans-65\"/>\n",
       "      <use x=\"66.658203\" xlink:href=\"#DejaVuSans-99\"/>\n",
       "      <use x=\"121.638672\" xlink:href=\"#DejaVuSans-99\"/>\n",
       "      <use x=\"176.619141\" xlink:href=\"#DejaVuSans-101\"/>\n",
       "      <use x=\"238.142578\" xlink:href=\"#DejaVuSans-112\"/>\n",
       "      <use x=\"301.619141\" xlink:href=\"#DejaVuSans-116\"/>\n",
       "      <use x=\"340.828125\" xlink:href=\"#DejaVuSans-111\"/>\n",
       "      <use x=\"402.009766\" xlink:href=\"#DejaVuSans-114\"/>\n",
       "     </g>\n",
       "    </g>\n",
       "   </g>\n",
       "   <g id=\"matplotlib.axis_2\">\n",
       "    <g id=\"ytick_1\">\n",
       "     <g id=\"line2d_5\">\n",
       "      <defs>\n",
       "       <path d=\"M 0 0 \n",
       "L -3.5 0 \n",
       "\" id=\"ma7994b346c\" style=\"stroke:#000000;stroke-width:0.8;\"/>\n",
       "      </defs>\n",
       "      <g>\n",
       "       <use style=\"stroke:#000000;stroke-width:0.8;\" x=\"165.852\" xlink:href=\"#ma7994b346c\" y=\"73.14025\"/>\n",
       "      </g>\n",
       "     </g>\n",
       "     <g id=\"text_6\">\n",
       "      <!-- 0 -->\n",
       "      <g transform=\"translate(152.4895 76.939469)scale(0.1 -0.1)\">\n",
       "       <use xlink:href=\"#DejaVuSans-48\"/>\n",
       "      </g>\n",
       "     </g>\n",
       "    </g>\n",
       "    <g id=\"ytick_2\">\n",
       "     <g id=\"line2d_6\">\n",
       "      <g>\n",
       "       <use style=\"stroke:#000000;stroke-width:0.8;\" x=\"165.852\" xlink:href=\"#ma7994b346c\" y=\"101.54875\"/>\n",
       "      </g>\n",
       "     </g>\n",
       "     <g id=\"text_7\">\n",
       "      <!-- 1 -->\n",
       "      <g transform=\"translate(152.4895 105.347969)scale(0.1 -0.1)\">\n",
       "       <defs>\n",
       "        <path d=\"M 12.40625 8.296875 \n",
       "L 28.515625 8.296875 \n",
       "L 28.515625 63.921875 \n",
       "L 10.984375 60.40625 \n",
       "L 10.984375 69.390625 \n",
       "L 28.421875 72.90625 \n",
       "L 38.28125 72.90625 \n",
       "L 38.28125 8.296875 \n",
       "L 54.390625 8.296875 \n",
       "L 54.390625 0 \n",
       "L 12.40625 0 \n",
       "z\n",
       "\" id=\"DejaVuSans-49\"/>\n",
       "       </defs>\n",
       "       <use xlink:href=\"#DejaVuSans-49\"/>\n",
       "      </g>\n",
       "     </g>\n",
       "    </g>\n",
       "    <g id=\"ytick_3\">\n",
       "     <g id=\"line2d_7\">\n",
       "      <g>\n",
       "       <use style=\"stroke:#000000;stroke-width:0.8;\" x=\"165.852\" xlink:href=\"#ma7994b346c\" y=\"129.95725\"/>\n",
       "      </g>\n",
       "     </g>\n",
       "     <g id=\"text_8\">\n",
       "      <!-- 2 -->\n",
       "      <g transform=\"translate(152.4895 133.756469)scale(0.1 -0.1)\">\n",
       "       <use xlink:href=\"#DejaVuSans-50\"/>\n",
       "      </g>\n",
       "     </g>\n",
       "    </g>\n",
       "    <g id=\"ytick_4\">\n",
       "     <g id=\"line2d_8\">\n",
       "      <g>\n",
       "       <use style=\"stroke:#000000;stroke-width:0.8;\" x=\"165.852\" xlink:href=\"#ma7994b346c\" y=\"158.36575\"/>\n",
       "      </g>\n",
       "     </g>\n",
       "     <g id=\"text_9\">\n",
       "      <!-- 3 -->\n",
       "      <g transform=\"translate(152.4895 162.164969)scale(0.1 -0.1)\">\n",
       "       <defs>\n",
       "        <path d=\"M 40.578125 39.3125 \n",
       "Q 47.65625 37.796875 51.625 33 \n",
       "Q 55.609375 28.21875 55.609375 21.1875 \n",
       "Q 55.609375 10.40625 48.1875 4.484375 \n",
       "Q 40.765625 -1.421875 27.09375 -1.421875 \n",
       "Q 22.515625 -1.421875 17.65625 -0.515625 \n",
       "Q 12.796875 0.390625 7.625 2.203125 \n",
       "L 7.625 11.71875 \n",
       "Q 11.71875 9.328125 16.59375 8.109375 \n",
       "Q 21.484375 6.890625 26.8125 6.890625 \n",
       "Q 36.078125 6.890625 40.9375 10.546875 \n",
       "Q 45.796875 14.203125 45.796875 21.1875 \n",
       "Q 45.796875 27.640625 41.28125 31.265625 \n",
       "Q 36.765625 34.90625 28.71875 34.90625 \n",
       "L 20.21875 34.90625 \n",
       "L 20.21875 43.015625 \n",
       "L 29.109375 43.015625 \n",
       "Q 36.375 43.015625 40.234375 45.921875 \n",
       "Q 44.09375 48.828125 44.09375 54.296875 \n",
       "Q 44.09375 59.90625 40.109375 62.90625 \n",
       "Q 36.140625 65.921875 28.71875 65.921875 \n",
       "Q 24.65625 65.921875 20.015625 65.03125 \n",
       "Q 15.375 64.15625 9.8125 62.3125 \n",
       "L 9.8125 71.09375 \n",
       "Q 15.4375 72.65625 20.34375 73.4375 \n",
       "Q 25.25 74.21875 29.59375 74.21875 \n",
       "Q 40.828125 74.21875 47.359375 69.109375 \n",
       "Q 53.90625 64.015625 53.90625 55.328125 \n",
       "Q 53.90625 49.265625 50.4375 45.09375 \n",
       "Q 46.96875 40.921875 40.578125 39.3125 \n",
       "z\n",
       "\" id=\"DejaVuSans-51\"/>\n",
       "       </defs>\n",
       "       <use xlink:href=\"#DejaVuSans-51\"/>\n",
       "      </g>\n",
       "     </g>\n",
       "    </g>\n",
       "    <g id=\"ytick_5\">\n",
       "     <g id=\"line2d_9\">\n",
       "      <g>\n",
       "       <use style=\"stroke:#000000;stroke-width:0.8;\" x=\"165.852\" xlink:href=\"#ma7994b346c\" y=\"186.77425\"/>\n",
       "      </g>\n",
       "     </g>\n",
       "     <g id=\"text_10\">\n",
       "      <!-- 4 -->\n",
       "      <g transform=\"translate(152.4895 190.573469)scale(0.1 -0.1)\">\n",
       "       <use xlink:href=\"#DejaVuSans-52\"/>\n",
       "      </g>\n",
       "     </g>\n",
       "    </g>\n",
       "    <g id=\"ytick_6\">\n",
       "     <g id=\"line2d_10\">\n",
       "      <g>\n",
       "       <use style=\"stroke:#000000;stroke-width:0.8;\" x=\"165.852\" xlink:href=\"#ma7994b346c\" y=\"215.18275\"/>\n",
       "      </g>\n",
       "     </g>\n",
       "     <g id=\"text_11\">\n",
       "      <!-- 5 -->\n",
       "      <g transform=\"translate(152.4895 218.981969)scale(0.1 -0.1)\">\n",
       "       <defs>\n",
       "        <path d=\"M 10.796875 72.90625 \n",
       "L 49.515625 72.90625 \n",
       "L 49.515625 64.59375 \n",
       "L 19.828125 64.59375 \n",
       "L 19.828125 46.734375 \n",
       "Q 21.96875 47.46875 24.109375 47.828125 \n",
       "Q 26.265625 48.1875 28.421875 48.1875 \n",
       "Q 40.625 48.1875 47.75 41.5 \n",
       "Q 54.890625 34.8125 54.890625 23.390625 \n",
       "Q 54.890625 11.625 47.5625 5.09375 \n",
       "Q 40.234375 -1.421875 26.90625 -1.421875 \n",
       "Q 22.3125 -1.421875 17.546875 -0.640625 \n",
       "Q 12.796875 0.140625 7.71875 1.703125 \n",
       "L 7.71875 11.625 \n",
       "Q 12.109375 9.234375 16.796875 8.0625 \n",
       "Q 21.484375 6.890625 26.703125 6.890625 \n",
       "Q 35.15625 6.890625 40.078125 11.328125 \n",
       "Q 45.015625 15.765625 45.015625 23.390625 \n",
       "Q 45.015625 31 40.078125 35.4375 \n",
       "Q 35.15625 39.890625 26.703125 39.890625 \n",
       "Q 22.75 39.890625 18.8125 39.015625 \n",
       "Q 14.890625 38.140625 10.796875 36.28125 \n",
       "z\n",
       "\" id=\"DejaVuSans-53\"/>\n",
       "       </defs>\n",
       "       <use xlink:href=\"#DejaVuSans-53\"/>\n",
       "      </g>\n",
       "     </g>\n",
       "    </g>\n",
       "    <g id=\"ytick_7\">\n",
       "     <g id=\"line2d_11\">\n",
       "      <g>\n",
       "       <use style=\"stroke:#000000;stroke-width:0.8;\" x=\"165.852\" xlink:href=\"#ma7994b346c\" y=\"243.59125\"/>\n",
       "      </g>\n",
       "     </g>\n",
       "     <g id=\"text_12\">\n",
       "      <!-- 6 -->\n",
       "      <g transform=\"translate(152.4895 247.390469)scale(0.1 -0.1)\">\n",
       "       <use xlink:href=\"#DejaVuSans-54\"/>\n",
       "      </g>\n",
       "     </g>\n",
       "    </g>\n",
       "    <g id=\"ytick_8\">\n",
       "     <g id=\"line2d_12\">\n",
       "      <g>\n",
       "       <use style=\"stroke:#000000;stroke-width:0.8;\" x=\"165.852\" xlink:href=\"#ma7994b346c\" y=\"271.99975\"/>\n",
       "      </g>\n",
       "     </g>\n",
       "     <g id=\"text_13\">\n",
       "      <!-- 7 -->\n",
       "      <g transform=\"translate(152.4895 275.798969)scale(0.1 -0.1)\">\n",
       "       <defs>\n",
       "        <path d=\"M 8.203125 72.90625 \n",
       "L 55.078125 72.90625 \n",
       "L 55.078125 68.703125 \n",
       "L 28.609375 0 \n",
       "L 18.3125 0 \n",
       "L 43.21875 64.59375 \n",
       "L 8.203125 64.59375 \n",
       "z\n",
       "\" id=\"DejaVuSans-55\"/>\n",
       "       </defs>\n",
       "       <use xlink:href=\"#DejaVuSans-55\"/>\n",
       "      </g>\n",
       "     </g>\n",
       "    </g>\n",
       "    <g id=\"text_14\">\n",
       "     <!-- Donor -->\n",
       "     <g transform=\"translate(146.409813 187.762969)rotate(-90)scale(0.1 -0.1)\">\n",
       "      <defs>\n",
       "       <path d=\"M 19.671875 64.796875 \n",
       "L 19.671875 8.109375 \n",
       "L 31.59375 8.109375 \n",
       "Q 46.6875 8.109375 53.6875 14.9375 \n",
       "Q 60.6875 21.78125 60.6875 36.53125 \n",
       "Q 60.6875 51.171875 53.6875 57.984375 \n",
       "Q 46.6875 64.796875 31.59375 64.796875 \n",
       "z\n",
       "M 9.8125 72.90625 \n",
       "L 30.078125 72.90625 \n",
       "Q 51.265625 72.90625 61.171875 64.09375 \n",
       "Q 71.09375 55.28125 71.09375 36.53125 \n",
       "Q 71.09375 17.671875 61.125 8.828125 \n",
       "Q 51.171875 0 30.078125 0 \n",
       "L 9.8125 0 \n",
       "z\n",
       "\" id=\"DejaVuSans-68\"/>\n",
       "       <path d=\"M 54.890625 33.015625 \n",
       "L 54.890625 0 \n",
       "L 45.90625 0 \n",
       "L 45.90625 32.71875 \n",
       "Q 45.90625 40.484375 42.875 44.328125 \n",
       "Q 39.84375 48.1875 33.796875 48.1875 \n",
       "Q 26.515625 48.1875 22.3125 43.546875 \n",
       "Q 18.109375 38.921875 18.109375 30.90625 \n",
       "L 18.109375 0 \n",
       "L 9.078125 0 \n",
       "L 9.078125 54.6875 \n",
       "L 18.109375 54.6875 \n",
       "L 18.109375 46.1875 \n",
       "Q 21.34375 51.125 25.703125 53.5625 \n",
       "Q 30.078125 56 35.796875 56 \n",
       "Q 45.21875 56 50.046875 50.171875 \n",
       "Q 54.890625 44.34375 54.890625 33.015625 \n",
       "z\n",
       "\" id=\"DejaVuSans-110\"/>\n",
       "      </defs>\n",
       "      <use xlink:href=\"#DejaVuSans-68\"/>\n",
       "      <use x=\"77.001953\" xlink:href=\"#DejaVuSans-111\"/>\n",
       "      <use x=\"138.183594\" xlink:href=\"#DejaVuSans-110\"/>\n",
       "      <use x=\"201.5625\" xlink:href=\"#DejaVuSans-111\"/>\n",
       "      <use x=\"262.744141\" xlink:href=\"#DejaVuSans-114\"/>\n",
       "     </g>\n",
       "    </g>\n",
       "   </g>\n",
       "   <g id=\"patch_3\">\n",
       "    <path d=\"M 165.852 286.204 \n",
       "L 165.852 58.936 \n",
       "\" style=\"fill:none;stroke:#000000;stroke-linecap:square;stroke-linejoin:miter;stroke-width:0.8;\"/>\n",
       "   </g>\n",
       "   <g id=\"patch_4\">\n",
       "    <path d=\"M 393.12 286.204 \n",
       "L 393.12 58.936 \n",
       "\" style=\"fill:none;stroke:#000000;stroke-linecap:square;stroke-linejoin:miter;stroke-width:0.8;\"/>\n",
       "   </g>\n",
       "   <g id=\"patch_5\">\n",
       "    <path d=\"M 165.852 286.204 \n",
       "L 393.12 286.204 \n",
       "\" style=\"fill:none;stroke:#000000;stroke-linecap:square;stroke-linejoin:miter;stroke-width:0.8;\"/>\n",
       "   </g>\n",
       "   <g id=\"patch_6\">\n",
       "    <path d=\"M 165.852 58.936 \n",
       "L 393.12 58.936 \n",
       "\" style=\"fill:none;stroke:#000000;stroke-linecap:square;stroke-linejoin:miter;stroke-width:0.8;\"/>\n",
       "   </g>\n",
       "   <g id=\"text_15\">\n",
       "    <!-- $S = \\frac{da}{\\sqrt{d^2 + a^2}}$ -->\n",
       "    <g transform=\"translate(248.646 49.456)scale(0.12 -0.12)\">\n",
       "     <defs>\n",
       "      <path d=\"M 60.296875 70.515625 \n",
       "L 58.40625 60.890625 \n",
       "Q 53.46875 63.53125 48.609375 64.875 \n",
       "Q 43.75 66.21875 39.203125 66.21875 \n",
       "Q 30.375 66.21875 25.140625 62.359375 \n",
       "Q 19.921875 58.5 19.921875 52.09375 \n",
       "Q 19.921875 48.578125 21.84375 46.703125 \n",
       "Q 23.78125 44.828125 31.78125 42.671875 \n",
       "L 37.703125 41.21875 \n",
       "Q 47.703125 38.625 51.609375 34.640625 \n",
       "Q 55.515625 30.671875 55.515625 23.484375 \n",
       "Q 55.515625 12.453125 46.84375 5.515625 \n",
       "Q 38.1875 -1.421875 24.03125 -1.421875 \n",
       "Q 18.21875 -1.421875 12.359375 -0.265625 \n",
       "Q 6.5 0.875 0.59375 3.21875 \n",
       "L 2.59375 13.375 \n",
       "Q 8.015625 10.015625 13.453125 8.296875 \n",
       "Q 18.890625 6.59375 24.3125 6.59375 \n",
       "Q 33.546875 6.59375 39.109375 10.6875 \n",
       "Q 44.671875 14.796875 44.671875 21.390625 \n",
       "Q 44.671875 25.78125 42.453125 28.046875 \n",
       "Q 40.234375 30.328125 32.90625 32.171875 \n",
       "L 27 33.6875 \n",
       "Q 16.890625 36.328125 13.203125 39.765625 \n",
       "Q 9.515625 43.21875 9.515625 49.421875 \n",
       "Q 9.515625 60.296875 17.890625 67.25 \n",
       "Q 26.265625 74.21875 39.703125 74.21875 \n",
       "Q 44.921875 74.21875 50.046875 73.28125 \n",
       "Q 55.171875 72.359375 60.296875 70.515625 \n",
       "z\n",
       "\" id=\"DejaVuSans-Oblique-83\"/>\n",
       "      <path d=\"M 10.59375 45.40625 \n",
       "L 73.1875 45.40625 \n",
       "L 73.1875 37.203125 \n",
       "L 10.59375 37.203125 \n",
       "z\n",
       "M 10.59375 25.484375 \n",
       "L 73.1875 25.484375 \n",
       "L 73.1875 17.1875 \n",
       "L 10.59375 17.1875 \n",
       "z\n",
       "\" id=\"DejaVuSans-61\"/>\n",
       "      <path d=\"M 41.796875 8.203125 \n",
       "Q 38.1875 3.46875 33.25 1.015625 \n",
       "Q 28.328125 -1.421875 22.3125 -1.421875 \n",
       "Q 14.109375 -1.421875 9.34375 4.171875 \n",
       "Q 4.59375 9.765625 4.59375 19.484375 \n",
       "Q 4.59375 27.59375 7.46875 34.9375 \n",
       "Q 10.359375 42.28125 15.828125 48.09375 \n",
       "Q 19.4375 51.953125 23.96875 53.96875 \n",
       "Q 28.515625 56 33.5 56 \n",
       "Q 38.765625 56 42.796875 53.453125 \n",
       "Q 46.828125 50.921875 49.03125 46.1875 \n",
       "L 54.890625 75.984375 \n",
       "L 63.921875 75.984375 \n",
       "L 49.125 0 \n",
       "L 40.09375 0 \n",
       "z\n",
       "M 13.921875 21.09375 \n",
       "Q 13.921875 14.015625 17.109375 10.0625 \n",
       "Q 20.3125 6.109375 25.984375 6.109375 \n",
       "Q 30.171875 6.109375 33.765625 8.125 \n",
       "Q 37.359375 10.15625 40.09375 14.109375 \n",
       "Q 42.96875 18.21875 44.625 23.578125 \n",
       "Q 46.296875 28.953125 46.296875 34.1875 \n",
       "Q 46.296875 40.96875 43.09375 44.765625 \n",
       "Q 39.890625 48.578125 34.28125 48.578125 \n",
       "Q 30.03125 48.578125 26.359375 46.578125 \n",
       "Q 22.703125 44.578125 20.125 40.828125 \n",
       "Q 17.28125 36.765625 15.59375 31.390625 \n",
       "Q 13.921875 26.03125 13.921875 21.09375 \n",
       "z\n",
       "\" id=\"DejaVuSans-Oblique-100\"/>\n",
       "      <path d=\"M 53.71875 31.203125 \n",
       "L 47.609375 0 \n",
       "L 38.625 0 \n",
       "L 40.28125 8.296875 \n",
       "Q 36.328125 3.421875 31.265625 1 \n",
       "Q 26.21875 -1.421875 20.015625 -1.421875 \n",
       "Q 13.03125 -1.421875 8.5625 2.84375 \n",
       "Q 4.109375 7.125 4.109375 13.8125 \n",
       "Q 4.109375 23.390625 11.75 28.953125 \n",
       "Q 19.390625 34.515625 32.8125 34.515625 \n",
       "L 45.3125 34.515625 \n",
       "L 45.796875 36.921875 \n",
       "Q 45.90625 37.3125 45.953125 37.765625 \n",
       "Q 46 38.234375 46 39.203125 \n",
       "Q 46 43.5625 42.453125 45.96875 \n",
       "Q 38.921875 48.390625 32.515625 48.390625 \n",
       "Q 28.125 48.390625 23.5 47.265625 \n",
       "Q 18.890625 46.140625 14.015625 43.890625 \n",
       "L 15.578125 52.203125 \n",
       "Q 20.65625 54.109375 25.515625 55.046875 \n",
       "Q 30.375 56 34.90625 56 \n",
       "Q 44.578125 56 49.625 51.796875 \n",
       "Q 54.6875 47.609375 54.6875 39.59375 \n",
       "Q 54.6875 37.984375 54.4375 35.8125 \n",
       "Q 54.203125 33.640625 53.71875 31.203125 \n",
       "z\n",
       "M 44 27.484375 \n",
       "L 35.015625 27.484375 \n",
       "Q 23.96875 27.484375 18.671875 24.53125 \n",
       "Q 13.375 21.578125 13.375 15.375 \n",
       "Q 13.375 11.078125 16.078125 8.640625 \n",
       "Q 18.796875 6.203125 23.578125 6.203125 \n",
       "Q 30.90625 6.203125 36.375 11.453125 \n",
       "Q 41.84375 16.703125 43.609375 25.484375 \n",
       "z\n",
       "\" id=\"DejaVuSans-Oblique-97\"/>\n",
       "      <path d=\"M 108.90625 155.203125 \n",
       "L 52.703125 -29.5 \n",
       "L 48.5 -29.5 \n",
       "L 25.40625 45.59375 \n",
       "Q 24.296875 49.203125 22.890625 50.796875 \n",
       "Q 21.5 52.40625 19.203125 52.40625 \n",
       "Q 15.796875 52.40625 12.40625 49.703125 \n",
       "L 11.203125 51.703125 \n",
       "L 27.59375 64.296875 \n",
       "L 30.09375 64.296875 \n",
       "L 52.796875 -9.40625 \n",
       "L 53.203125 -9.40625 \n",
       "L 103.203125 155.203125 \n",
       "z\n",
       "\" id=\"STIXSizeOneSym-Regular-8730\"/>\n",
       "      <path d=\"M 46 62.703125 \n",
       "L 46 35.5 \n",
       "L 73.1875 35.5 \n",
       "L 73.1875 27.203125 \n",
       "L 46 27.203125 \n",
       "L 46 0 \n",
       "L 37.796875 0 \n",
       "L 37.796875 27.203125 \n",
       "L 10.59375 27.203125 \n",
       "L 10.59375 35.5 \n",
       "L 37.796875 35.5 \n",
       "L 37.796875 62.703125 \n",
       "z\n",
       "\" id=\"DejaVuSans-43\"/>\n",
       "     </defs>\n",
       "     <use transform=\"translate(0 0.01875)\" xlink:href=\"#DejaVuSans-Oblique-83\"/>\n",
       "     <use transform=\"translate(82.958984 0.01875)\" xlink:href=\"#DejaVuSans-61\"/>\n",
       "     <use transform=\"translate(300.230469 44.810938)scale(0.7)\" xlink:href=\"#DejaVuSans-Oblique-100\"/>\n",
       "     <use transform=\"translate(344.664062 44.810938)scale(0.7)\" xlink:href=\"#DejaVuSans-Oblique-97\"/>\n",
       "     <use transform=\"translate(186.230469 -64.423437)scale(0.465798)\" xlink:href=\"#STIXSizeOneSym-Regular-8730\"/>\n",
       "     <use transform=\"translate(244.183817 -76.973437)scale(0.7)\" xlink:href=\"#DejaVuSans-Oblique-100\"/>\n",
       "     <use transform=\"translate(293.830806 -50.176562)scale(0.49)\" xlink:href=\"#DejaVuSans-50\"/>\n",
       "     <use transform=\"translate(340.557857 -76.973437)scale(0.7)\" xlink:href=\"#DejaVuSans-43\"/>\n",
       "     <use transform=\"translate(412.847896 -76.973437)scale(0.7)\" xlink:href=\"#DejaVuSans-Oblique-97\"/>\n",
       "     <use transform=\"translate(458.998331 -50.176562)scale(0.49)\" xlink:href=\"#DejaVuSans-50\"/>\n",
       "     <path d=\"M 186.230469 18.815625 \n",
       "L 186.230469 25.065625 \n",
       "L 500.837686 25.065625 \n",
       "L 500.837686 18.815625 \n",
       "L 186.230469 18.815625 \n",
       "z\n",
       "\"/>\n",
       "     <path d=\"M 235.433817 3.815625 \n",
       "L 235.433817 8.190625 \n",
       "L 500.837686 8.190625 \n",
       "L 500.837686 3.815625 \n",
       "L 235.433817 3.815625 \n",
       "z\n",
       "\"/>\n",
       "    </g>\n",
       "   </g>\n",
       "  </g>\n",
       "  <g id=\"axes_2\">\n",
       "   <g id=\"patch_7\">\n",
       "    <path clip-path=\"url(#p37fcaedbb9)\" d=\"M 417.24 286.204 \n",
       "L 417.24 285.316234 \n",
       "L 417.24 59.823766 \n",
       "L 417.24 58.936 \n",
       "L 428.6034 58.936 \n",
       "L 428.6034 59.823766 \n",
       "L 428.6034 285.316234 \n",
       "L 428.6034 286.204 \n",
       "z\n",
       "\" style=\"fill:#ffffff;stroke:#ffffff;stroke-linejoin:miter;stroke-width:0.01;\"/>\n",
       "   </g>\n",
       "   <image height=\"227\" id=\"imagee571523eae\" transform=\"scale(1 -1)translate(0 -227)\" width=\"12\" x=\"417\" xlink:href=\"data:image/png;base64,\n",
       "iVBORw0KGgoAAAANSUhEUgAAAAwAAADjCAYAAACxZ/WwAAABdElEQVR4nN3aUW4DIRCD4RkgVe5/35ae4VvJCG2esX4bD5s2S3d9dsFnVbesr1U1TNAqqGbCQoESPHRPFDgh3QMTRn/ChC7dVs5wX9PDM2API5+Bi3NCepaYMLkHDr3TDwG3FM8wCr+yJjcdt9QqYMIBS/qnw7rPkvVctfoFhMkEW18L158pDgX50Kq4MQMTLixuXpghT2j6R/HO8S7NEJ+lA5Zsfa2pTedHw59LnMEAJwgHeohnODEa6dAnzgMTaP0ZSy/owc9DnJDP4IK/MOHCXbrQ0hzYwxtCu2DExzvfg2fgbb0ugw/f5AwqiGc4sa3x0G/oQQl130Og52+YcGHoA5YWEvKWKr9LTIhneNADrX8UGgls6YFA36EwAX8VcEt8wcMJgwn3WVp4q2V7BnwvemJbUbDzGRa+xd8+3pwBBfnReNCDEtYPCg5sKxPwTD+wFCfMrxL4QaYZmkOnBe2W9PLcwB46noEFwwl8AVAt4Xn4B2buaihRRD3gAAAAAElFTkSuQmCC\" y=\"-58\"/>\n",
       "   <g id=\"matplotlib.axis_3\"/>\n",
       "   <g id=\"matplotlib.axis_4\">\n",
       "    <g id=\"ytick_9\">\n",
       "     <g id=\"line2d_13\">\n",
       "      <defs>\n",
       "       <path d=\"M 0 0 \n",
       "L 3.5 0 \n",
       "\" id=\"m1f171225dc\" style=\"stroke:#000000;stroke-width:0.8;\"/>\n",
       "      </defs>\n",
       "      <g>\n",
       "       <use style=\"stroke:#000000;stroke-width:0.8;\" x=\"428.6034\" xlink:href=\"#m1f171225dc\" y=\"258.702972\"/>\n",
       "      </g>\n",
       "     </g>\n",
       "     <g id=\"text_16\">\n",
       "      <!-- −0.2 -->\n",
       "      <g transform=\"translate(435.6034 262.502191)scale(0.1 -0.1)\">\n",
       "       <defs>\n",
       "        <path d=\"M 10.59375 35.5 \n",
       "L 73.1875 35.5 \n",
       "L 73.1875 27.203125 \n",
       "L 10.59375 27.203125 \n",
       "z\n",
       "\" id=\"DejaVuSans-8722\"/>\n",
       "        <path d=\"M 10.6875 12.40625 \n",
       "L 21 12.40625 \n",
       "L 21 0 \n",
       "L 10.6875 0 \n",
       "z\n",
       "\" id=\"DejaVuSans-46\"/>\n",
       "       </defs>\n",
       "       <use xlink:href=\"#DejaVuSans-8722\"/>\n",
       "       <use x=\"83.789062\" xlink:href=\"#DejaVuSans-48\"/>\n",
       "       <use x=\"147.412109\" xlink:href=\"#DejaVuSans-46\"/>\n",
       "       <use x=\"179.199219\" xlink:href=\"#DejaVuSans-50\"/>\n",
       "      </g>\n",
       "     </g>\n",
       "    </g>\n",
       "    <g id=\"ytick_10\">\n",
       "     <g id=\"line2d_14\">\n",
       "      <g>\n",
       "       <use style=\"stroke:#000000;stroke-width:0.8;\" x=\"428.6034\" xlink:href=\"#m1f171225dc\" y=\"222.570777\"/>\n",
       "      </g>\n",
       "     </g>\n",
       "     <g id=\"text_17\">\n",
       "      <!-- −0.1 -->\n",
       "      <g transform=\"translate(435.6034 226.369995)scale(0.1 -0.1)\">\n",
       "       <use xlink:href=\"#DejaVuSans-8722\"/>\n",
       "       <use x=\"83.789062\" xlink:href=\"#DejaVuSans-48\"/>\n",
       "       <use x=\"147.412109\" xlink:href=\"#DejaVuSans-46\"/>\n",
       "       <use x=\"179.199219\" xlink:href=\"#DejaVuSans-49\"/>\n",
       "      </g>\n",
       "     </g>\n",
       "    </g>\n",
       "    <g id=\"ytick_11\">\n",
       "     <g id=\"line2d_15\">\n",
       "      <g>\n",
       "       <use style=\"stroke:#000000;stroke-width:0.8;\" x=\"428.6034\" xlink:href=\"#m1f171225dc\" y=\"186.438581\"/>\n",
       "      </g>\n",
       "     </g>\n",
       "     <g id=\"text_18\">\n",
       "      <!-- 0.0 -->\n",
       "      <g transform=\"translate(435.6034 190.2378)scale(0.1 -0.1)\">\n",
       "       <use xlink:href=\"#DejaVuSans-48\"/>\n",
       "       <use x=\"63.623047\" xlink:href=\"#DejaVuSans-46\"/>\n",
       "       <use x=\"95.410156\" xlink:href=\"#DejaVuSans-48\"/>\n",
       "      </g>\n",
       "     </g>\n",
       "    </g>\n",
       "    <g id=\"ytick_12\">\n",
       "     <g id=\"line2d_16\">\n",
       "      <g>\n",
       "       <use style=\"stroke:#000000;stroke-width:0.8;\" x=\"428.6034\" xlink:href=\"#m1f171225dc\" y=\"150.306386\"/>\n",
       "      </g>\n",
       "     </g>\n",
       "     <g id=\"text_19\">\n",
       "      <!-- 0.1 -->\n",
       "      <g transform=\"translate(435.6034 154.105605)scale(0.1 -0.1)\">\n",
       "       <use xlink:href=\"#DejaVuSans-48\"/>\n",
       "       <use x=\"63.623047\" xlink:href=\"#DejaVuSans-46\"/>\n",
       "       <use x=\"95.410156\" xlink:href=\"#DejaVuSans-49\"/>\n",
       "      </g>\n",
       "     </g>\n",
       "    </g>\n",
       "    <g id=\"ytick_13\">\n",
       "     <g id=\"line2d_17\">\n",
       "      <g>\n",
       "       <use style=\"stroke:#000000;stroke-width:0.8;\" x=\"428.6034\" xlink:href=\"#m1f171225dc\" y=\"114.17419\"/>\n",
       "      </g>\n",
       "     </g>\n",
       "     <g id=\"text_20\">\n",
       "      <!-- 0.2 -->\n",
       "      <g transform=\"translate(435.6034 117.973409)scale(0.1 -0.1)\">\n",
       "       <use xlink:href=\"#DejaVuSans-48\"/>\n",
       "       <use x=\"63.623047\" xlink:href=\"#DejaVuSans-46\"/>\n",
       "       <use x=\"95.410156\" xlink:href=\"#DejaVuSans-50\"/>\n",
       "      </g>\n",
       "     </g>\n",
       "    </g>\n",
       "    <g id=\"ytick_14\">\n",
       "     <g id=\"line2d_18\">\n",
       "      <g>\n",
       "       <use style=\"stroke:#000000;stroke-width:0.8;\" x=\"428.6034\" xlink:href=\"#m1f171225dc\" y=\"78.041995\"/>\n",
       "      </g>\n",
       "     </g>\n",
       "     <g id=\"text_21\">\n",
       "      <!-- 0.3 -->\n",
       "      <g transform=\"translate(435.6034 81.841214)scale(0.1 -0.1)\">\n",
       "       <use xlink:href=\"#DejaVuSans-48\"/>\n",
       "       <use x=\"63.623047\" xlink:href=\"#DejaVuSans-46\"/>\n",
       "       <use x=\"95.410156\" xlink:href=\"#DejaVuSans-51\"/>\n",
       "      </g>\n",
       "     </g>\n",
       "    </g>\n",
       "   </g>\n",
       "   <g id=\"patch_8\">\n",
       "    <path d=\"M 417.24 286.204 \n",
       "L 417.24 285.316234 \n",
       "L 417.24 59.823766 \n",
       "L 417.24 58.936 \n",
       "L 428.6034 58.936 \n",
       "L 428.6034 59.823766 \n",
       "L 428.6034 285.316234 \n",
       "L 428.6034 286.204 \n",
       "z\n",
       "\" style=\"fill:none;stroke:#000000;stroke-linejoin:miter;stroke-width:0.8;\"/>\n",
       "   </g>\n",
       "  </g>\n",
       "  <g id=\"axes_3\">\n",
       "   <g id=\"LineCollection_1\">\n",
       "    <path clip-path=\"url(#p7bf740227d)\" d=\"M 51.187842 395.039576 \n",
       "L 35.373358 376.512838 \n",
       "\" style=\"fill:none;stroke:#000000;\"/>\n",
       "    <path clip-path=\"url(#p7bf740227d)\" d=\"M 48.648234 370.679986 \n",
       "L 27.041331 381.070348 \n",
       "\" style=\"fill:none;stroke:#000000;\"/>\n",
       "    <path clip-path=\"url(#p7bf740227d)\" d=\"M 48.648234 370.679986 \n",
       "L 35.373358 376.512838 \n",
       "\" style=\"fill:none;stroke:#000000;\"/>\n",
       "    <path clip-path=\"url(#p7bf740227d)\" d=\"M 33.180713 354.826286 \n",
       "L 27.041331 381.070348 \n",
       "\" style=\"fill:none;stroke:#000000;\"/>\n",
       "    <path clip-path=\"url(#p7bf740227d)\" d=\"M 33.180713 354.826286 \n",
       "L 35.373358 376.512838 \n",
       "\" style=\"fill:none;stroke:#000000;\"/>\n",
       "    <path clip-path=\"url(#p7bf740227d)\" d=\"M 16.979356 363.688217 \n",
       "L 35.373358 376.512838 \n",
       "\" style=\"fill:none;stroke:#000000;\"/>\n",
       "    <path clip-path=\"url(#p7bf740227d)\" d=\"M 16.979356 363.688217 \n",
       "L 27.041331 381.070348 \n",
       "\" style=\"fill:none;stroke:#000000;\"/>\n",
       "    <path clip-path=\"url(#p7bf740227d)\" d=\"M 14.531307 389.341484 \n",
       "L 27.041331 381.070348 \n",
       "\" style=\"fill:none;stroke:#000000;\"/>\n",
       "    <path clip-path=\"url(#p7bf740227d)\" d=\"M 14.531307 389.341484 \n",
       "L 35.373358 376.512838 \n",
       "\" style=\"fill:none;stroke:#000000;\"/>\n",
       "    <path clip-path=\"url(#p7bf740227d)\" d=\"M 25.779276 408.937714 \n",
       "L 27.041331 381.070348 \n",
       "\" style=\"fill:none;stroke:#000000;\"/>\n",
       "    <path clip-path=\"url(#p7bf740227d)\" d=\"M 27.041331 381.070348 \n",
       "L 35.373358 376.512838 \n",
       "\" style=\"fill:none;stroke:#000000;\"/>\n",
       "   </g>\n",
       "   <g id=\"PathCollection_1\">\n",
       "    <defs>\n",
       "     <path d=\"M 0 2.236068 \n",
       "C 0.593012 2.236068 1.161816 2.000462 1.581139 1.581139 \n",
       "C 2.000462 1.161816 2.236068 0.593012 2.236068 0 \n",
       "C 2.236068 -0.593012 2.000462 -1.161816 1.581139 -1.581139 \n",
       "C 1.161816 -2.000462 0.593012 -2.236068 0 -2.236068 \n",
       "C -0.593012 -2.236068 -1.161816 -2.000462 -1.581139 -1.581139 \n",
       "C -2.000462 -1.161816 -2.236068 -0.593012 -2.236068 0 \n",
       "C -2.236068 0.593012 -2.000462 1.161816 -1.581139 1.581139 \n",
       "C -1.161816 2.000462 -0.593012 2.236068 0 2.236068 \n",
       "z\n",
       "\" id=\"mf80bfee8a3\" style=\"stroke:#1f78b4;\"/>\n",
       "    </defs>\n",
       "    <g clip-path=\"url(#p7bf740227d)\">\n",
       "     <use style=\"fill:#1f78b4;stroke:#1f78b4;\" x=\"51.187842\" xlink:href=\"#mf80bfee8a3\" y=\"395.039576\"/>\n",
       "     <use style=\"fill:#1f78b4;stroke:#1f78b4;\" x=\"48.648234\" xlink:href=\"#mf80bfee8a3\" y=\"370.679986\"/>\n",
       "     <use style=\"fill:#1f78b4;stroke:#1f78b4;\" x=\"33.180713\" xlink:href=\"#mf80bfee8a3\" y=\"354.826286\"/>\n",
       "     <use style=\"fill:#1f78b4;stroke:#1f78b4;\" x=\"16.979356\" xlink:href=\"#mf80bfee8a3\" y=\"363.688217\"/>\n",
       "     <use style=\"fill:#1f78b4;stroke:#1f78b4;\" x=\"14.531307\" xlink:href=\"#mf80bfee8a3\" y=\"389.341484\"/>\n",
       "     <use style=\"fill:#1f78b4;stroke:#1f78b4;\" x=\"25.779276\" xlink:href=\"#mf80bfee8a3\" y=\"408.937714\"/>\n",
       "     <use style=\"fill:#1f78b4;stroke:#1f78b4;\" x=\"27.041331\" xlink:href=\"#mf80bfee8a3\" y=\"381.070348\"/>\n",
       "     <use style=\"fill:#1f78b4;stroke:#1f78b4;\" x=\"35.373358\" xlink:href=\"#mf80bfee8a3\" y=\"376.512838\"/>\n",
       "    </g>\n",
       "   </g>\n",
       "   <g id=\"text_22\">\n",
       "    <!-- 0: 6-reg -->\n",
       "    <g transform=\"translate(9.299262 338.004)scale(0.12 -0.12)\">\n",
       "     <defs>\n",
       "      <path d=\"M 11.71875 12.40625 \n",
       "L 22.015625 12.40625 \n",
       "L 22.015625 0 \n",
       "L 11.71875 0 \n",
       "z\n",
       "M 11.71875 51.703125 \n",
       "L 22.015625 51.703125 \n",
       "L 22.015625 39.3125 \n",
       "L 11.71875 39.3125 \n",
       "z\n",
       "\" id=\"DejaVuSans-58\"/>\n",
       "      <path id=\"DejaVuSans-32\"/>\n",
       "      <path d=\"M 4.890625 31.390625 \n",
       "L 31.203125 31.390625 \n",
       "L 31.203125 23.390625 \n",
       "L 4.890625 23.390625 \n",
       "z\n",
       "\" id=\"DejaVuSans-45\"/>\n",
       "      <path d=\"M 45.40625 27.984375 \n",
       "Q 45.40625 37.75 41.375 43.109375 \n",
       "Q 37.359375 48.484375 30.078125 48.484375 \n",
       "Q 22.859375 48.484375 18.828125 43.109375 \n",
       "Q 14.796875 37.75 14.796875 27.984375 \n",
       "Q 14.796875 18.265625 18.828125 12.890625 \n",
       "Q 22.859375 7.515625 30.078125 7.515625 \n",
       "Q 37.359375 7.515625 41.375 12.890625 \n",
       "Q 45.40625 18.265625 45.40625 27.984375 \n",
       "z\n",
       "M 54.390625 6.78125 \n",
       "Q 54.390625 -7.171875 48.1875 -13.984375 \n",
       "Q 42 -20.796875 29.203125 -20.796875 \n",
       "Q 24.46875 -20.796875 20.265625 -20.09375 \n",
       "Q 16.0625 -19.390625 12.109375 -17.921875 \n",
       "L 12.109375 -9.1875 \n",
       "Q 16.0625 -11.328125 19.921875 -12.34375 \n",
       "Q 23.78125 -13.375 27.78125 -13.375 \n",
       "Q 36.625 -13.375 41.015625 -8.765625 \n",
       "Q 45.40625 -4.15625 45.40625 5.171875 \n",
       "L 45.40625 9.625 \n",
       "Q 42.625 4.78125 38.28125 2.390625 \n",
       "Q 33.9375 0 27.875 0 \n",
       "Q 17.828125 0 11.671875 7.65625 \n",
       "Q 5.515625 15.328125 5.515625 27.984375 \n",
       "Q 5.515625 40.671875 11.671875 48.328125 \n",
       "Q 17.828125 56 27.875 56 \n",
       "Q 33.9375 56 38.28125 53.609375 \n",
       "Q 42.625 51.21875 45.40625 46.390625 \n",
       "L 45.40625 54.6875 \n",
       "L 54.390625 54.6875 \n",
       "z\n",
       "\" id=\"DejaVuSans-103\"/>\n",
       "     </defs>\n",
       "     <use xlink:href=\"#DejaVuSans-48\"/>\n",
       "     <use x=\"63.623047\" xlink:href=\"#DejaVuSans-58\"/>\n",
       "     <use x=\"97.314453\" xlink:href=\"#DejaVuSans-32\"/>\n",
       "     <use x=\"129.101562\" xlink:href=\"#DejaVuSans-54\"/>\n",
       "     <use x=\"192.724609\" xlink:href=\"#DejaVuSans-45\"/>\n",
       "     <use x=\"228.808594\" xlink:href=\"#DejaVuSans-114\"/>\n",
       "     <use x=\"267.671875\" xlink:href=\"#DejaVuSans-101\"/>\n",
       "     <use x=\"329.195312\" xlink:href=\"#DejaVuSans-103\"/>\n",
       "    </g>\n",
       "   </g>\n",
       "  </g>\n",
       "  <g id=\"axes_4\">\n",
       "   <g id=\"LineCollection_2\">\n",
       "    <path clip-path=\"url(#pd356e165a2)\" d=\"M 107.260484 386.902666 \n",
       "L 97.419549 372.916012 \n",
       "\" style=\"fill:none;stroke:#000000;\"/>\n",
       "    <path clip-path=\"url(#pd356e165a2)\" d=\"M 107.260484 386.902666 \n",
       "L 91.465486 390.848027 \n",
       "\" style=\"fill:none;stroke:#000000;\"/>\n",
       "    <path clip-path=\"url(#pd356e165a2)\" d=\"M 112.770821 363.241316 \n",
       "L 97.419549 372.916012 \n",
       "\" style=\"fill:none;stroke:#000000;\"/>\n",
       "    <path clip-path=\"url(#pd356e165a2)\" d=\"M 81.6245 376.861377 \n",
       "L 91.465486 390.848027 \n",
       "\" style=\"fill:none;stroke:#000000;\"/>\n",
       "    <path clip-path=\"url(#pd356e165a2)\" d=\"M 81.6245 376.861377 \n",
       "L 97.419549 372.916012 \n",
       "\" style=\"fill:none;stroke:#000000;\"/>\n",
       "    <path clip-path=\"url(#pd356e165a2)\" d=\"M 91.287569 354.826286 \n",
       "L 97.419549 372.916012 \n",
       "\" style=\"fill:none;stroke:#000000;\"/>\n",
       "    <path clip-path=\"url(#pd356e165a2)\" d=\"M 91.465486 390.848027 \n",
       "L 76.114286 400.522823 \n",
       "\" style=\"fill:none;stroke:#000000;\"/>\n",
       "    <path clip-path=\"url(#pd356e165a2)\" d=\"M 91.465486 390.848027 \n",
       "L 97.597653 408.937714 \n",
       "\" style=\"fill:none;stroke:#000000;\"/>\n",
       "    <path clip-path=\"url(#pd356e165a2)\" d=\"M 91.465486 390.848027 \n",
       "L 97.419549 372.916012 \n",
       "\" style=\"fill:none;stroke:#000000;\"/>\n",
       "   </g>\n",
       "   <g id=\"PathCollection_2\">\n",
       "    <g clip-path=\"url(#pd356e165a2)\">\n",
       "     <use style=\"fill:#1f78b4;stroke:#1f78b4;\" x=\"107.260484\" xlink:href=\"#mf80bfee8a3\" y=\"386.902666\"/>\n",
       "     <use style=\"fill:#1f78b4;stroke:#1f78b4;\" x=\"112.770821\" xlink:href=\"#mf80bfee8a3\" y=\"363.241316\"/>\n",
       "     <use style=\"fill:#1f78b4;stroke:#1f78b4;\" x=\"81.6245\" xlink:href=\"#mf80bfee8a3\" y=\"376.861377\"/>\n",
       "     <use style=\"fill:#1f78b4;stroke:#1f78b4;\" x=\"91.287569\" xlink:href=\"#mf80bfee8a3\" y=\"354.826286\"/>\n",
       "     <use style=\"fill:#1f78b4;stroke:#1f78b4;\" x=\"91.465486\" xlink:href=\"#mf80bfee8a3\" y=\"390.848027\"/>\n",
       "     <use style=\"fill:#1f78b4;stroke:#1f78b4;\" x=\"76.114286\" xlink:href=\"#mf80bfee8a3\" y=\"400.522823\"/>\n",
       "     <use style=\"fill:#1f78b4;stroke:#1f78b4;\" x=\"97.597653\" xlink:href=\"#mf80bfee8a3\" y=\"408.937714\"/>\n",
       "     <use style=\"fill:#1f78b4;stroke:#1f78b4;\" x=\"97.419549\" xlink:href=\"#mf80bfee8a3\" y=\"372.916012\"/>\n",
       "    </g>\n",
       "   </g>\n",
       "   <g id=\"text_23\">\n",
       "    <!-- 1: 5-reg -->\n",
       "    <g transform=\"translate(70.882241 338.004)scale(0.12 -0.12)\">\n",
       "     <use xlink:href=\"#DejaVuSans-49\"/>\n",
       "     <use x=\"63.623047\" xlink:href=\"#DejaVuSans-58\"/>\n",
       "     <use x=\"97.314453\" xlink:href=\"#DejaVuSans-32\"/>\n",
       "     <use x=\"129.101562\" xlink:href=\"#DejaVuSans-53\"/>\n",
       "     <use x=\"192.724609\" xlink:href=\"#DejaVuSans-45\"/>\n",
       "     <use x=\"228.808594\" xlink:href=\"#DejaVuSans-114\"/>\n",
       "     <use x=\"267.671875\" xlink:href=\"#DejaVuSans-101\"/>\n",
       "     <use x=\"329.195312\" xlink:href=\"#DejaVuSans-103\"/>\n",
       "    </g>\n",
       "   </g>\n",
       "  </g>\n",
       "  <g id=\"axes_5\">\n",
       "   <g id=\"LineCollection_3\">\n",
       "    <path clip-path=\"url(#pef11dc63c4)\" d=\"M 174.353796 408.937713 \n",
       "L 163.356238 381.881995 \n",
       "\" style=\"fill:none;stroke:#000000;\"/>\n",
       "    <path clip-path=\"url(#pef11dc63c4)\" d=\"M 174.353796 408.937713 \n",
       "L 148.694828 381.881995 \n",
       "\" style=\"fill:none;stroke:#000000;\"/>\n",
       "    <path clip-path=\"url(#pef11dc63c4)\" d=\"M 174.353799 354.826286 \n",
       "L 148.694828 381.881995 \n",
       "\" style=\"fill:none;stroke:#000000;\"/>\n",
       "    <path clip-path=\"url(#pef11dc63c4)\" d=\"M 174.353799 354.826286 \n",
       "L 163.356238 381.881995 \n",
       "\" style=\"fill:none;stroke:#000000;\"/>\n",
       "    <path clip-path=\"url(#pef11dc63c4)\" d=\"M 137.697264 354.826287 \n",
       "L 148.694828 381.881995 \n",
       "\" style=\"fill:none;stroke:#000000;\"/>\n",
       "    <path clip-path=\"url(#pef11dc63c4)\" d=\"M 137.697264 354.826287 \n",
       "L 163.356238 381.881995 \n",
       "\" style=\"fill:none;stroke:#000000;\"/>\n",
       "    <path clip-path=\"url(#pef11dc63c4)\" d=\"M 137.697271 408.937714 \n",
       "L 148.694828 381.881995 \n",
       "\" style=\"fill:none;stroke:#000000;\"/>\n",
       "    <path clip-path=\"url(#pef11dc63c4)\" d=\"M 137.697271 408.937714 \n",
       "L 163.356238 381.881995 \n",
       "\" style=\"fill:none;stroke:#000000;\"/>\n",
       "    <path clip-path=\"url(#pef11dc63c4)\" d=\"M 148.694828 381.881995 \n",
       "L 163.356238 381.881995 \n",
       "\" style=\"fill:none;stroke:#000000;\"/>\n",
       "   </g>\n",
       "   <g id=\"PathCollection_3\">\n",
       "    <g clip-path=\"url(#pef11dc63c4)\">\n",
       "     <use style=\"fill:#1f78b4;stroke:#1f78b4;\" x=\"174.353796\" xlink:href=\"#mf80bfee8a3\" y=\"408.937713\"/>\n",
       "     <use style=\"fill:#1f78b4;stroke:#1f78b4;\" x=\"174.353799\" xlink:href=\"#mf80bfee8a3\" y=\"354.826286\"/>\n",
       "     <use style=\"fill:#1f78b4;stroke:#1f78b4;\" x=\"137.697264\" xlink:href=\"#mf80bfee8a3\" y=\"354.826287\"/>\n",
       "     <use style=\"fill:#1f78b4;stroke:#1f78b4;\" x=\"137.697271\" xlink:href=\"#mf80bfee8a3\" y=\"408.937714\"/>\n",
       "     <use style=\"fill:#1f78b4;stroke:#1f78b4;\" x=\"148.694828\" xlink:href=\"#mf80bfee8a3\" y=\"381.881995\"/>\n",
       "     <use style=\"fill:#1f78b4;stroke:#1f78b4;\" x=\"163.356238\" xlink:href=\"#mf80bfee8a3\" y=\"381.881995\"/>\n",
       "    </g>\n",
       "   </g>\n",
       "   <g id=\"text_24\">\n",
       "    <!-- 2: 5-reg -->\n",
       "    <g transform=\"translate(132.465219 338.004)scale(0.12 -0.12)\">\n",
       "     <use xlink:href=\"#DejaVuSans-50\"/>\n",
       "     <use x=\"63.623047\" xlink:href=\"#DejaVuSans-58\"/>\n",
       "     <use x=\"97.314453\" xlink:href=\"#DejaVuSans-32\"/>\n",
       "     <use x=\"129.101562\" xlink:href=\"#DejaVuSans-53\"/>\n",
       "     <use x=\"192.724609\" xlink:href=\"#DejaVuSans-45\"/>\n",
       "     <use x=\"228.808594\" xlink:href=\"#DejaVuSans-114\"/>\n",
       "     <use x=\"267.671875\" xlink:href=\"#DejaVuSans-101\"/>\n",
       "     <use x=\"329.195312\" xlink:href=\"#DejaVuSans-103\"/>\n",
       "    </g>\n",
       "   </g>\n",
       "  </g>\n",
       "  <g id=\"axes_6\">\n",
       "   <g id=\"LineCollection_4\">\n",
       "    <path clip-path=\"url(#p47bd5042e7)\" d=\"M 235.936778 395.061041 \n",
       "L 218.961007 391.27405 \n",
       "\" style=\"fill:none;stroke:#000000;\"/>\n",
       "    <path clip-path=\"url(#p47bd5042e7)\" d=\"M 231.381812 363.42652 \n",
       "L 216.256126 372.489951 \n",
       "\" style=\"fill:none;stroke:#000000;\"/>\n",
       "    <path clip-path=\"url(#p47bd5042e7)\" d=\"M 213.712804 354.826286 \n",
       "L 216.256126 372.489951 \n",
       "\" style=\"fill:none;stroke:#000000;\"/>\n",
       "    <path clip-path=\"url(#p47bd5042e7)\" d=\"M 199.280243 368.702984 \n",
       "L 216.256126 372.489951 \n",
       "\" style=\"fill:none;stroke:#000000;\"/>\n",
       "    <path clip-path=\"url(#p47bd5042e7)\" d=\"M 218.961007 391.27405 \n",
       "L 203.835421 400.337704 \n",
       "\" style=\"fill:none;stroke:#000000;\"/>\n",
       "    <path clip-path=\"url(#p47bd5042e7)\" d=\"M 218.961007 391.27405 \n",
       "L 216.256126 372.489951 \n",
       "\" style=\"fill:none;stroke:#000000;\"/>\n",
       "    <path clip-path=\"url(#p47bd5042e7)\" d=\"M 218.961007 391.27405 \n",
       "L 221.5044 408.937714 \n",
       "\" style=\"fill:none;stroke:#000000;\"/>\n",
       "   </g>\n",
       "   <g id=\"PathCollection_4\">\n",
       "    <g clip-path=\"url(#p47bd5042e7)\">\n",
       "     <use style=\"fill:#1f78b4;stroke:#1f78b4;\" x=\"235.936778\" xlink:href=\"#mf80bfee8a3\" y=\"395.061041\"/>\n",
       "     <use style=\"fill:#1f78b4;stroke:#1f78b4;\" x=\"231.381812\" xlink:href=\"#mf80bfee8a3\" y=\"363.42652\"/>\n",
       "     <use style=\"fill:#1f78b4;stroke:#1f78b4;\" x=\"213.712804\" xlink:href=\"#mf80bfee8a3\" y=\"354.826286\"/>\n",
       "     <use style=\"fill:#1f78b4;stroke:#1f78b4;\" x=\"199.280243\" xlink:href=\"#mf80bfee8a3\" y=\"368.702984\"/>\n",
       "     <use style=\"fill:#1f78b4;stroke:#1f78b4;\" x=\"218.961007\" xlink:href=\"#mf80bfee8a3\" y=\"391.27405\"/>\n",
       "     <use style=\"fill:#1f78b4;stroke:#1f78b4;\" x=\"203.835421\" xlink:href=\"#mf80bfee8a3\" y=\"400.337704\"/>\n",
       "     <use style=\"fill:#1f78b4;stroke:#1f78b4;\" x=\"216.256126\" xlink:href=\"#mf80bfee8a3\" y=\"372.489951\"/>\n",
       "     <use style=\"fill:#1f78b4;stroke:#1f78b4;\" x=\"221.5044\" xlink:href=\"#mf80bfee8a3\" y=\"408.937714\"/>\n",
       "    </g>\n",
       "   </g>\n",
       "   <g id=\"text_25\">\n",
       "    <!-- 3: 4-reg -->\n",
       "    <g transform=\"translate(194.048198 338.004)scale(0.12 -0.12)\">\n",
       "     <use xlink:href=\"#DejaVuSans-51\"/>\n",
       "     <use x=\"63.623047\" xlink:href=\"#DejaVuSans-58\"/>\n",
       "     <use x=\"97.314453\" xlink:href=\"#DejaVuSans-32\"/>\n",
       "     <use x=\"129.101562\" xlink:href=\"#DejaVuSans-52\"/>\n",
       "     <use x=\"192.724609\" xlink:href=\"#DejaVuSans-45\"/>\n",
       "     <use x=\"228.808594\" xlink:href=\"#DejaVuSans-114\"/>\n",
       "     <use x=\"267.671875\" xlink:href=\"#DejaVuSans-101\"/>\n",
       "     <use x=\"329.195312\" xlink:href=\"#DejaVuSans-103\"/>\n",
       "    </g>\n",
       "   </g>\n",
       "  </g>\n",
       "  <g id=\"axes_7\">\n",
       "   <g id=\"LineCollection_5\">\n",
       "    <path clip-path=\"url(#p9711c6555e)\" d=\"M 289.75923 387.566505 \n",
       "L 283.679957 371.77214 \n",
       "\" style=\"fill:none;stroke:#000000;\"/>\n",
       "    <path clip-path=\"url(#p9711c6555e)\" d=\"M 289.75923 387.566505 \n",
       "L 276.029851 389.177336 \n",
       "\" style=\"fill:none;stroke:#000000;\"/>\n",
       "    <path clip-path=\"url(#p9711c6555e)\" d=\"M 297.519757 362.783013 \n",
       "L 283.679957 371.77214 \n",
       "\" style=\"fill:none;stroke:#000000;\"/>\n",
       "    <path clip-path=\"url(#p9711c6555e)\" d=\"M 276.320591 354.826286 \n",
       "L 283.679957 371.77214 \n",
       "\" style=\"fill:none;stroke:#000000;\"/>\n",
       "    <path clip-path=\"url(#p9711c6555e)\" d=\"M 276.029851 389.177336 \n",
       "L 260.863222 389.994036 \n",
       "\" style=\"fill:none;stroke:#000000;\"/>\n",
       "    <path clip-path=\"url(#p9711c6555e)\" d=\"M 276.029851 389.177336 \n",
       "L 277.232377 408.937714 \n",
       "\" style=\"fill:none;stroke:#000000;\"/>\n",
       "    <path clip-path=\"url(#p9711c6555e)\" d=\"M 276.029851 389.177336 \n",
       "L 283.679957 371.77214 \n",
       "\" style=\"fill:none;stroke:#000000;\"/>\n",
       "   </g>\n",
       "   <g id=\"PathCollection_5\">\n",
       "    <g clip-path=\"url(#p9711c6555e)\">\n",
       "     <use style=\"fill:#1f78b4;stroke:#1f78b4;\" x=\"289.75923\" xlink:href=\"#mf80bfee8a3\" y=\"387.566505\"/>\n",
       "     <use style=\"fill:#1f78b4;stroke:#1f78b4;\" x=\"297.519757\" xlink:href=\"#mf80bfee8a3\" y=\"362.783013\"/>\n",
       "     <use style=\"fill:#1f78b4;stroke:#1f78b4;\" x=\"276.320591\" xlink:href=\"#mf80bfee8a3\" y=\"354.826286\"/>\n",
       "     <use style=\"fill:#1f78b4;stroke:#1f78b4;\" x=\"276.029851\" xlink:href=\"#mf80bfee8a3\" y=\"389.177336\"/>\n",
       "     <use style=\"fill:#1f78b4;stroke:#1f78b4;\" x=\"260.863222\" xlink:href=\"#mf80bfee8a3\" y=\"389.994036\"/>\n",
       "     <use style=\"fill:#1f78b4;stroke:#1f78b4;\" x=\"277.232377\" xlink:href=\"#mf80bfee8a3\" y=\"408.937714\"/>\n",
       "     <use style=\"fill:#1f78b4;stroke:#1f78b4;\" x=\"283.679957\" xlink:href=\"#mf80bfee8a3\" y=\"371.77214\"/>\n",
       "    </g>\n",
       "   </g>\n",
       "   <g id=\"text_26\">\n",
       "    <!-- 4: 4-reg -->\n",
       "    <g transform=\"translate(255.631177 338.004)scale(0.12 -0.12)\">\n",
       "     <use xlink:href=\"#DejaVuSans-52\"/>\n",
       "     <use x=\"63.623047\" xlink:href=\"#DejaVuSans-58\"/>\n",
       "     <use x=\"97.314453\" xlink:href=\"#DejaVuSans-32\"/>\n",
       "     <use x=\"129.101562\" xlink:href=\"#DejaVuSans-52\"/>\n",
       "     <use x=\"192.724609\" xlink:href=\"#DejaVuSans-45\"/>\n",
       "     <use x=\"228.808594\" xlink:href=\"#DejaVuSans-114\"/>\n",
       "     <use x=\"267.671875\" xlink:href=\"#DejaVuSans-101\"/>\n",
       "     <use x=\"329.195312\" xlink:href=\"#DejaVuSans-103\"/>\n",
       "    </g>\n",
       "   </g>\n",
       "  </g>\n",
       "  <g id=\"axes_8\">\n",
       "   <g id=\"LineCollection_6\">\n",
       "    <path clip-path=\"url(#p35e25cbcf3)\" d=\"M 359.102736 354.826286 \n",
       "L 343.682983 370.340308 \n",
       "\" style=\"fill:none;stroke:#000000;\"/>\n",
       "    <path clip-path=\"url(#p35e25cbcf3)\" d=\"M 343.682983 370.340308 \n",
       "L 339.787076 388.518211 \n",
       "\" style=\"fill:none;stroke:#000000;\"/>\n",
       "    <path clip-path=\"url(#p35e25cbcf3)\" d=\"M 343.682983 370.340308 \n",
       "L 322.446201 384.833112 \n",
       "\" style=\"fill:none;stroke:#000000;\"/>\n",
       "    <path clip-path=\"url(#p35e25cbcf3)\" d=\"M 343.682983 370.340308 \n",
       "L 326.33849 366.671918 \n",
       "\" style=\"fill:none;stroke:#000000;\"/>\n",
       "    <path clip-path=\"url(#p35e25cbcf3)\" d=\"M 339.787076 388.518211 \n",
       "L 347.505432 408.937714 \n",
       "\" style=\"fill:none;stroke:#000000;\"/>\n",
       "    <path clip-path=\"url(#p35e25cbcf3)\" d=\"M 339.787076 388.518211 \n",
       "L 326.33849 366.671918 \n",
       "\" style=\"fill:none;stroke:#000000;\"/>\n",
       "    <path clip-path=\"url(#p35e25cbcf3)\" d=\"M 339.787076 388.518211 \n",
       "L 322.446201 384.833112 \n",
       "\" style=\"fill:none;stroke:#000000;\"/>\n",
       "   </g>\n",
       "   <g id=\"PathCollection_6\">\n",
       "    <g clip-path=\"url(#p35e25cbcf3)\">\n",
       "     <use style=\"fill:#1f78b4;stroke:#1f78b4;\" x=\"359.102736\" xlink:href=\"#mf80bfee8a3\" y=\"354.826286\"/>\n",
       "     <use style=\"fill:#1f78b4;stroke:#1f78b4;\" x=\"343.682983\" xlink:href=\"#mf80bfee8a3\" y=\"370.340308\"/>\n",
       "     <use style=\"fill:#1f78b4;stroke:#1f78b4;\" x=\"339.787076\" xlink:href=\"#mf80bfee8a3\" y=\"388.518211\"/>\n",
       "     <use style=\"fill:#1f78b4;stroke:#1f78b4;\" x=\"326.33849\" xlink:href=\"#mf80bfee8a3\" y=\"366.671918\"/>\n",
       "     <use style=\"fill:#1f78b4;stroke:#1f78b4;\" x=\"322.446201\" xlink:href=\"#mf80bfee8a3\" y=\"384.833112\"/>\n",
       "     <use style=\"fill:#1f78b4;stroke:#1f78b4;\" x=\"347.505432\" xlink:href=\"#mf80bfee8a3\" y=\"408.937714\"/>\n",
       "    </g>\n",
       "   </g>\n",
       "   <g id=\"text_27\">\n",
       "    <!-- 5: 4-reg -->\n",
       "    <g transform=\"translate(317.214156 338.004)scale(0.12 -0.12)\">\n",
       "     <use xlink:href=\"#DejaVuSans-53\"/>\n",
       "     <use x=\"63.623047\" xlink:href=\"#DejaVuSans-58\"/>\n",
       "     <use x=\"97.314453\" xlink:href=\"#DejaVuSans-32\"/>\n",
       "     <use x=\"129.101562\" xlink:href=\"#DejaVuSans-52\"/>\n",
       "     <use x=\"192.724609\" xlink:href=\"#DejaVuSans-45\"/>\n",
       "     <use x=\"228.808594\" xlink:href=\"#DejaVuSans-114\"/>\n",
       "     <use x=\"267.671875\" xlink:href=\"#DejaVuSans-101\"/>\n",
       "     <use x=\"329.195312\" xlink:href=\"#DejaVuSans-103\"/>\n",
       "    </g>\n",
       "   </g>\n",
       "  </g>\n",
       "  <g id=\"axes_9\">\n",
       "   <g id=\"LineCollection_7\">\n",
       "    <path clip-path=\"url(#p956d747fa0)\" d=\"M 420.685714 408.35216 \n",
       "L 402.543503 393.949397 \n",
       "\" style=\"fill:none;stroke:#000000;\"/>\n",
       "    <path clip-path=\"url(#p956d747fa0)\" d=\"M 419.858852 354.826286 \n",
       "L 402.170823 369.814851 \n",
       "\" style=\"fill:none;stroke:#000000;\"/>\n",
       "    <path clip-path=\"url(#p956d747fa0)\" d=\"M 384.029179 355.411513 \n",
       "L 402.170823 369.814851 \n",
       "\" style=\"fill:none;stroke:#000000;\"/>\n",
       "    <path clip-path=\"url(#p956d747fa0)\" d=\"M 402.543503 393.949397 \n",
       "L 384.855223 408.937714 \n",
       "\" style=\"fill:none;stroke:#000000;\"/>\n",
       "    <path clip-path=\"url(#p956d747fa0)\" d=\"M 402.543503 393.949397 \n",
       "L 402.170823 369.814851 \n",
       "\" style=\"fill:none;stroke:#000000;\"/>\n",
       "   </g>\n",
       "   <g id=\"PathCollection_7\">\n",
       "    <g clip-path=\"url(#p956d747fa0)\">\n",
       "     <use style=\"fill:#1f78b4;stroke:#1f78b4;\" x=\"420.685714\" xlink:href=\"#mf80bfee8a3\" y=\"408.35216\"/>\n",
       "     <use style=\"fill:#1f78b4;stroke:#1f78b4;\" x=\"419.858852\" xlink:href=\"#mf80bfee8a3\" y=\"354.826286\"/>\n",
       "     <use style=\"fill:#1f78b4;stroke:#1f78b4;\" x=\"384.029179\" xlink:href=\"#mf80bfee8a3\" y=\"355.411513\"/>\n",
       "     <use style=\"fill:#1f78b4;stroke:#1f78b4;\" x=\"402.543503\" xlink:href=\"#mf80bfee8a3\" y=\"393.949397\"/>\n",
       "     <use style=\"fill:#1f78b4;stroke:#1f78b4;\" x=\"384.855223\" xlink:href=\"#mf80bfee8a3\" y=\"408.937714\"/>\n",
       "     <use style=\"fill:#1f78b4;stroke:#1f78b4;\" x=\"402.170823\" xlink:href=\"#mf80bfee8a3\" y=\"369.814851\"/>\n",
       "    </g>\n",
       "   </g>\n",
       "   <g id=\"text_28\">\n",
       "    <!-- 6: 3-reg -->\n",
       "    <g transform=\"translate(378.797134 338.004)scale(0.12 -0.12)\">\n",
       "     <use xlink:href=\"#DejaVuSans-54\"/>\n",
       "     <use x=\"63.623047\" xlink:href=\"#DejaVuSans-58\"/>\n",
       "     <use x=\"97.314453\" xlink:href=\"#DejaVuSans-32\"/>\n",
       "     <use x=\"129.101562\" xlink:href=\"#DejaVuSans-51\"/>\n",
       "     <use x=\"192.724609\" xlink:href=\"#DejaVuSans-45\"/>\n",
       "     <use x=\"228.808594\" xlink:href=\"#DejaVuSans-114\"/>\n",
       "     <use x=\"267.671875\" xlink:href=\"#DejaVuSans-101\"/>\n",
       "     <use x=\"329.195312\" xlink:href=\"#DejaVuSans-103\"/>\n",
       "    </g>\n",
       "   </g>\n",
       "  </g>\n",
       "  <g id=\"axes_10\">\n",
       "   <g id=\"LineCollection_8\">\n",
       "    <path clip-path=\"url(#p726340e78f)\" d=\"M 482.268693 408.937714 \n",
       "L 470.031644 391.155239 \n",
       "\" style=\"fill:none;stroke:#000000;\"/>\n",
       "    <path clip-path=\"url(#p726340e78f)\" d=\"M 457.849133 372.610188 \n",
       "L 445.612158 354.826286 \n",
       "\" style=\"fill:none;stroke:#000000;\"/>\n",
       "    <path clip-path=\"url(#p726340e78f)\" d=\"M 457.849133 372.610188 \n",
       "L 470.031644 391.155239 \n",
       "\" style=\"fill:none;stroke:#000000;\"/>\n",
       "   </g>\n",
       "   <g id=\"PathCollection_8\">\n",
       "    <g clip-path=\"url(#p726340e78f)\">\n",
       "     <use style=\"fill:#1f78b4;stroke:#1f78b4;\" x=\"482.268693\" xlink:href=\"#mf80bfee8a3\" y=\"408.937714\"/>\n",
       "     <use style=\"fill:#1f78b4;stroke:#1f78b4;\" x=\"457.849133\" xlink:href=\"#mf80bfee8a3\" y=\"372.610188\"/>\n",
       "     <use style=\"fill:#1f78b4;stroke:#1f78b4;\" x=\"445.612158\" xlink:href=\"#mf80bfee8a3\" y=\"354.826286\"/>\n",
       "     <use style=\"fill:#1f78b4;stroke:#1f78b4;\" x=\"470.031644\" xlink:href=\"#mf80bfee8a3\" y=\"391.155239\"/>\n",
       "    </g>\n",
       "   </g>\n",
       "   <g id=\"text_29\">\n",
       "    <!-- 7: 2-reg -->\n",
       "    <g transform=\"translate(440.380113 338.004)scale(0.12 -0.12)\">\n",
       "     <use xlink:href=\"#DejaVuSans-55\"/>\n",
       "     <use x=\"63.623047\" xlink:href=\"#DejaVuSans-58\"/>\n",
       "     <use x=\"97.314453\" xlink:href=\"#DejaVuSans-32\"/>\n",
       "     <use x=\"129.101562\" xlink:href=\"#DejaVuSans-50\"/>\n",
       "     <use x=\"192.724609\" xlink:href=\"#DejaVuSans-45\"/>\n",
       "     <use x=\"228.808594\" xlink:href=\"#DejaVuSans-114\"/>\n",
       "     <use x=\"267.671875\" xlink:href=\"#DejaVuSans-101\"/>\n",
       "     <use x=\"329.195312\" xlink:href=\"#DejaVuSans-103\"/>\n",
       "    </g>\n",
       "   </g>\n",
       "  </g>\n",
       "  <g id=\"text_30\">\n",
       "   <!-- Transferred loss similarity, larger is better -->\n",
       "   <g transform=\"translate(123.006563 16.318125)scale(0.12 -0.12)\">\n",
       "    <defs>\n",
       "     <path d=\"M -0.296875 72.90625 \n",
       "L 61.375 72.90625 \n",
       "L 61.375 64.59375 \n",
       "L 35.5 64.59375 \n",
       "L 35.5 0 \n",
       "L 25.59375 0 \n",
       "L 25.59375 64.59375 \n",
       "L -0.296875 64.59375 \n",
       "z\n",
       "\" id=\"DejaVuSans-84\"/>\n",
       "     <path d=\"M 34.28125 27.484375 \n",
       "Q 23.390625 27.484375 19.1875 25 \n",
       "Q 14.984375 22.515625 14.984375 16.5 \n",
       "Q 14.984375 11.71875 18.140625 8.90625 \n",
       "Q 21.296875 6.109375 26.703125 6.109375 \n",
       "Q 34.1875 6.109375 38.703125 11.40625 \n",
       "Q 43.21875 16.703125 43.21875 25.484375 \n",
       "L 43.21875 27.484375 \n",
       "z\n",
       "M 52.203125 31.203125 \n",
       "L 52.203125 0 \n",
       "L 43.21875 0 \n",
       "L 43.21875 8.296875 \n",
       "Q 40.140625 3.328125 35.546875 0.953125 \n",
       "Q 30.953125 -1.421875 24.3125 -1.421875 \n",
       "Q 15.921875 -1.421875 10.953125 3.296875 \n",
       "Q 6 8.015625 6 15.921875 \n",
       "Q 6 25.140625 12.171875 29.828125 \n",
       "Q 18.359375 34.515625 30.609375 34.515625 \n",
       "L 43.21875 34.515625 \n",
       "L 43.21875 35.40625 \n",
       "Q 43.21875 41.609375 39.140625 45 \n",
       "Q 35.0625 48.390625 27.6875 48.390625 \n",
       "Q 23 48.390625 18.546875 47.265625 \n",
       "Q 14.109375 46.140625 10.015625 43.890625 \n",
       "L 10.015625 52.203125 \n",
       "Q 14.9375 54.109375 19.578125 55.046875 \n",
       "Q 24.21875 56 28.609375 56 \n",
       "Q 40.484375 56 46.34375 49.84375 \n",
       "Q 52.203125 43.703125 52.203125 31.203125 \n",
       "z\n",
       "\" id=\"DejaVuSans-97\"/>\n",
       "     <path d=\"M 44.28125 53.078125 \n",
       "L 44.28125 44.578125 \n",
       "Q 40.484375 46.53125 36.375 47.5 \n",
       "Q 32.28125 48.484375 27.875 48.484375 \n",
       "Q 21.1875 48.484375 17.84375 46.4375 \n",
       "Q 14.5 44.390625 14.5 40.28125 \n",
       "Q 14.5 37.15625 16.890625 35.375 \n",
       "Q 19.28125 33.59375 26.515625 31.984375 \n",
       "L 29.59375 31.296875 \n",
       "Q 39.15625 29.25 43.1875 25.515625 \n",
       "Q 47.21875 21.78125 47.21875 15.09375 \n",
       "Q 47.21875 7.46875 41.1875 3.015625 \n",
       "Q 35.15625 -1.421875 24.609375 -1.421875 \n",
       "Q 20.21875 -1.421875 15.453125 -0.5625 \n",
       "Q 10.6875 0.296875 5.421875 2 \n",
       "L 5.421875 11.28125 \n",
       "Q 10.40625 8.6875 15.234375 7.390625 \n",
       "Q 20.0625 6.109375 24.8125 6.109375 \n",
       "Q 31.15625 6.109375 34.5625 8.28125 \n",
       "Q 37.984375 10.453125 37.984375 14.40625 \n",
       "Q 37.984375 18.0625 35.515625 20.015625 \n",
       "Q 33.0625 21.96875 24.703125 23.78125 \n",
       "L 21.578125 24.515625 \n",
       "Q 13.234375 26.265625 9.515625 29.90625 \n",
       "Q 5.8125 33.546875 5.8125 39.890625 \n",
       "Q 5.8125 47.609375 11.28125 51.796875 \n",
       "Q 16.75 56 26.8125 56 \n",
       "Q 31.78125 56 36.171875 55.265625 \n",
       "Q 40.578125 54.546875 44.28125 53.078125 \n",
       "z\n",
       "\" id=\"DejaVuSans-115\"/>\n",
       "     <path d=\"M 37.109375 75.984375 \n",
       "L 37.109375 68.5 \n",
       "L 28.515625 68.5 \n",
       "Q 23.6875 68.5 21.796875 66.546875 \n",
       "Q 19.921875 64.59375 19.921875 59.515625 \n",
       "L 19.921875 54.6875 \n",
       "L 34.71875 54.6875 \n",
       "L 34.71875 47.703125 \n",
       "L 19.921875 47.703125 \n",
       "L 19.921875 0 \n",
       "L 10.890625 0 \n",
       "L 10.890625 47.703125 \n",
       "L 2.296875 47.703125 \n",
       "L 2.296875 54.6875 \n",
       "L 10.890625 54.6875 \n",
       "L 10.890625 58.5 \n",
       "Q 10.890625 67.625 15.140625 71.796875 \n",
       "Q 19.390625 75.984375 28.609375 75.984375 \n",
       "z\n",
       "\" id=\"DejaVuSans-102\"/>\n",
       "     <path d=\"M 45.40625 46.390625 \n",
       "L 45.40625 75.984375 \n",
       "L 54.390625 75.984375 \n",
       "L 54.390625 0 \n",
       "L 45.40625 0 \n",
       "L 45.40625 8.203125 \n",
       "Q 42.578125 3.328125 38.25 0.953125 \n",
       "Q 33.9375 -1.421875 27.875 -1.421875 \n",
       "Q 17.96875 -1.421875 11.734375 6.484375 \n",
       "Q 5.515625 14.40625 5.515625 27.296875 \n",
       "Q 5.515625 40.1875 11.734375 48.09375 \n",
       "Q 17.96875 56 27.875 56 \n",
       "Q 33.9375 56 38.25 53.625 \n",
       "Q 42.578125 51.265625 45.40625 46.390625 \n",
       "z\n",
       "M 14.796875 27.296875 \n",
       "Q 14.796875 17.390625 18.875 11.75 \n",
       "Q 22.953125 6.109375 30.078125 6.109375 \n",
       "Q 37.203125 6.109375 41.296875 11.75 \n",
       "Q 45.40625 17.390625 45.40625 27.296875 \n",
       "Q 45.40625 37.203125 41.296875 42.84375 \n",
       "Q 37.203125 48.484375 30.078125 48.484375 \n",
       "Q 22.953125 48.484375 18.875 42.84375 \n",
       "Q 14.796875 37.203125 14.796875 27.296875 \n",
       "z\n",
       "\" id=\"DejaVuSans-100\"/>\n",
       "     <path d=\"M 9.421875 75.984375 \n",
       "L 18.40625 75.984375 \n",
       "L 18.40625 0 \n",
       "L 9.421875 0 \n",
       "z\n",
       "\" id=\"DejaVuSans-108\"/>\n",
       "     <path d=\"M 9.421875 54.6875 \n",
       "L 18.40625 54.6875 \n",
       "L 18.40625 0 \n",
       "L 9.421875 0 \n",
       "z\n",
       "M 9.421875 75.984375 \n",
       "L 18.40625 75.984375 \n",
       "L 18.40625 64.59375 \n",
       "L 9.421875 64.59375 \n",
       "z\n",
       "\" id=\"DejaVuSans-105\"/>\n",
       "     <path d=\"M 52 44.1875 \n",
       "Q 55.375 50.25 60.0625 53.125 \n",
       "Q 64.75 56 71.09375 56 \n",
       "Q 79.640625 56 84.28125 50.015625 \n",
       "Q 88.921875 44.046875 88.921875 33.015625 \n",
       "L 88.921875 0 \n",
       "L 79.890625 0 \n",
       "L 79.890625 32.71875 \n",
       "Q 79.890625 40.578125 77.09375 44.375 \n",
       "Q 74.3125 48.1875 68.609375 48.1875 \n",
       "Q 61.625 48.1875 57.5625 43.546875 \n",
       "Q 53.515625 38.921875 53.515625 30.90625 \n",
       "L 53.515625 0 \n",
       "L 44.484375 0 \n",
       "L 44.484375 32.71875 \n",
       "Q 44.484375 40.625 41.703125 44.40625 \n",
       "Q 38.921875 48.1875 33.109375 48.1875 \n",
       "Q 26.21875 48.1875 22.15625 43.53125 \n",
       "Q 18.109375 38.875 18.109375 30.90625 \n",
       "L 18.109375 0 \n",
       "L 9.078125 0 \n",
       "L 9.078125 54.6875 \n",
       "L 18.109375 54.6875 \n",
       "L 18.109375 46.1875 \n",
       "Q 21.1875 51.21875 25.484375 53.609375 \n",
       "Q 29.78125 56 35.6875 56 \n",
       "Q 41.65625 56 45.828125 52.96875 \n",
       "Q 50 49.953125 52 44.1875 \n",
       "z\n",
       "\" id=\"DejaVuSans-109\"/>\n",
       "     <path d=\"M 32.171875 -5.078125 \n",
       "Q 28.375 -14.84375 24.75 -17.8125 \n",
       "Q 21.140625 -20.796875 15.09375 -20.796875 \n",
       "L 7.90625 -20.796875 \n",
       "L 7.90625 -13.28125 \n",
       "L 13.1875 -13.28125 \n",
       "Q 16.890625 -13.28125 18.9375 -11.515625 \n",
       "Q 21 -9.765625 23.484375 -3.21875 \n",
       "L 25.09375 0.875 \n",
       "L 2.984375 54.6875 \n",
       "L 12.5 54.6875 \n",
       "L 29.59375 11.921875 \n",
       "L 46.6875 54.6875 \n",
       "L 56.203125 54.6875 \n",
       "z\n",
       "\" id=\"DejaVuSans-121\"/>\n",
       "     <path d=\"M 11.71875 12.40625 \n",
       "L 22.015625 12.40625 \n",
       "L 22.015625 4 \n",
       "L 14.015625 -11.625 \n",
       "L 7.71875 -11.625 \n",
       "L 11.71875 4 \n",
       "z\n",
       "\" id=\"DejaVuSans-44\"/>\n",
       "     <path d=\"M 48.6875 27.296875 \n",
       "Q 48.6875 37.203125 44.609375 42.84375 \n",
       "Q 40.53125 48.484375 33.40625 48.484375 \n",
       "Q 26.265625 48.484375 22.1875 42.84375 \n",
       "Q 18.109375 37.203125 18.109375 27.296875 \n",
       "Q 18.109375 17.390625 22.1875 11.75 \n",
       "Q 26.265625 6.109375 33.40625 6.109375 \n",
       "Q 40.53125 6.109375 44.609375 11.75 \n",
       "Q 48.6875 17.390625 48.6875 27.296875 \n",
       "z\n",
       "M 18.109375 46.390625 \n",
       "Q 20.953125 51.265625 25.265625 53.625 \n",
       "Q 29.59375 56 35.59375 56 \n",
       "Q 45.5625 56 51.78125 48.09375 \n",
       "Q 58.015625 40.1875 58.015625 27.296875 \n",
       "Q 58.015625 14.40625 51.78125 6.484375 \n",
       "Q 45.5625 -1.421875 35.59375 -1.421875 \n",
       "Q 29.59375 -1.421875 25.265625 0.953125 \n",
       "Q 20.953125 3.328125 18.109375 8.203125 \n",
       "L 18.109375 0 \n",
       "L 9.078125 0 \n",
       "L 9.078125 75.984375 \n",
       "L 18.109375 75.984375 \n",
       "z\n",
       "\" id=\"DejaVuSans-98\"/>\n",
       "    </defs>\n",
       "    <use xlink:href=\"#DejaVuSans-84\"/>\n",
       "    <use x=\"46.333984\" xlink:href=\"#DejaVuSans-114\"/>\n",
       "    <use x=\"87.447266\" xlink:href=\"#DejaVuSans-97\"/>\n",
       "    <use x=\"148.726562\" xlink:href=\"#DejaVuSans-110\"/>\n",
       "    <use x=\"212.105469\" xlink:href=\"#DejaVuSans-115\"/>\n",
       "    <use x=\"264.205078\" xlink:href=\"#DejaVuSans-102\"/>\n",
       "    <use x=\"299.410156\" xlink:href=\"#DejaVuSans-101\"/>\n",
       "    <use x=\"360.933594\" xlink:href=\"#DejaVuSans-114\"/>\n",
       "    <use x=\"400.296875\" xlink:href=\"#DejaVuSans-114\"/>\n",
       "    <use x=\"439.160156\" xlink:href=\"#DejaVuSans-101\"/>\n",
       "    <use x=\"500.683594\" xlink:href=\"#DejaVuSans-100\"/>\n",
       "    <use x=\"564.160156\" xlink:href=\"#DejaVuSans-32\"/>\n",
       "    <use x=\"595.947266\" xlink:href=\"#DejaVuSans-108\"/>\n",
       "    <use x=\"623.730469\" xlink:href=\"#DejaVuSans-111\"/>\n",
       "    <use x=\"684.912109\" xlink:href=\"#DejaVuSans-115\"/>\n",
       "    <use x=\"737.011719\" xlink:href=\"#DejaVuSans-115\"/>\n",
       "    <use x=\"789.111328\" xlink:href=\"#DejaVuSans-32\"/>\n",
       "    <use x=\"820.898438\" xlink:href=\"#DejaVuSans-115\"/>\n",
       "    <use x=\"872.998047\" xlink:href=\"#DejaVuSans-105\"/>\n",
       "    <use x=\"900.78125\" xlink:href=\"#DejaVuSans-109\"/>\n",
       "    <use x=\"998.193359\" xlink:href=\"#DejaVuSans-105\"/>\n",
       "    <use x=\"1025.976562\" xlink:href=\"#DejaVuSans-108\"/>\n",
       "    <use x=\"1053.759766\" xlink:href=\"#DejaVuSans-97\"/>\n",
       "    <use x=\"1115.039062\" xlink:href=\"#DejaVuSans-114\"/>\n",
       "    <use x=\"1156.152344\" xlink:href=\"#DejaVuSans-105\"/>\n",
       "    <use x=\"1183.935547\" xlink:href=\"#DejaVuSans-116\"/>\n",
       "    <use x=\"1223.144531\" xlink:href=\"#DejaVuSans-121\"/>\n",
       "    <use x=\"1282.324219\" xlink:href=\"#DejaVuSans-44\"/>\n",
       "    <use x=\"1314.111328\" xlink:href=\"#DejaVuSans-32\"/>\n",
       "    <use x=\"1345.898438\" xlink:href=\"#DejaVuSans-108\"/>\n",
       "    <use x=\"1373.681641\" xlink:href=\"#DejaVuSans-97\"/>\n",
       "    <use x=\"1434.960938\" xlink:href=\"#DejaVuSans-114\"/>\n",
       "    <use x=\"1474.324219\" xlink:href=\"#DejaVuSans-103\"/>\n",
       "    <use x=\"1537.800781\" xlink:href=\"#DejaVuSans-101\"/>\n",
       "    <use x=\"1599.324219\" xlink:href=\"#DejaVuSans-114\"/>\n",
       "    <use x=\"1640.4375\" xlink:href=\"#DejaVuSans-32\"/>\n",
       "    <use x=\"1672.224609\" xlink:href=\"#DejaVuSans-105\"/>\n",
       "    <use x=\"1700.007812\" xlink:href=\"#DejaVuSans-115\"/>\n",
       "    <use x=\"1752.107422\" xlink:href=\"#DejaVuSans-32\"/>\n",
       "    <use x=\"1783.894531\" xlink:href=\"#DejaVuSans-98\"/>\n",
       "    <use x=\"1847.371094\" xlink:href=\"#DejaVuSans-101\"/>\n",
       "    <use x=\"1908.894531\" xlink:href=\"#DejaVuSans-116\"/>\n",
       "    <use x=\"1948.103516\" xlink:href=\"#DejaVuSans-116\"/>\n",
       "    <use x=\"1987.3125\" xlink:href=\"#DejaVuSans-101\"/>\n",
       "    <use x=\"2048.835938\" xlink:href=\"#DejaVuSans-114\"/>\n",
       "   </g>\n",
       "  </g>\n",
       " </g>\n",
       " <defs>\n",
       "  <clipPath id=\"p68c78a1e66\">\n",
       "   <rect height=\"227.268\" width=\"227.268\" x=\"165.852\" y=\"58.936\"/>\n",
       "  </clipPath>\n",
       "  <clipPath id=\"p37fcaedbb9\">\n",
       "   <rect height=\"227.268\" width=\"11.3634\" x=\"417.24\" y=\"58.936\"/>\n",
       "  </clipPath>\n",
       "  <clipPath id=\"p7bf740227d\">\n",
       "   <rect height=\"75.756\" width=\"51.319149\" x=\"7.2\" y=\"344.004\"/>\n",
       "  </clipPath>\n",
       "  <clipPath id=\"pd356e165a2\">\n",
       "   <rect height=\"75.756\" width=\"51.319149\" x=\"68.782979\" y=\"344.004\"/>\n",
       "  </clipPath>\n",
       "  <clipPath id=\"pef11dc63c4\">\n",
       "   <rect height=\"75.756\" width=\"51.319149\" x=\"130.365957\" y=\"344.004\"/>\n",
       "  </clipPath>\n",
       "  <clipPath id=\"p47bd5042e7\">\n",
       "   <rect height=\"75.756\" width=\"51.319149\" x=\"191.948936\" y=\"344.004\"/>\n",
       "  </clipPath>\n",
       "  <clipPath id=\"p9711c6555e\">\n",
       "   <rect height=\"75.756\" width=\"51.319149\" x=\"253.531915\" y=\"344.004\"/>\n",
       "  </clipPath>\n",
       "  <clipPath id=\"p35e25cbcf3\">\n",
       "   <rect height=\"75.756\" width=\"51.319149\" x=\"315.114894\" y=\"344.004\"/>\n",
       "  </clipPath>\n",
       "  <clipPath id=\"p956d747fa0\">\n",
       "   <rect height=\"75.756\" width=\"51.319149\" x=\"376.697872\" y=\"344.004\"/>\n",
       "  </clipPath>\n",
       "  <clipPath id=\"p726340e78f\">\n",
       "   <rect height=\"75.756\" width=\"51.319149\" x=\"438.280851\" y=\"344.004\"/>\n",
       "  </clipPath>\n",
       " </defs>\n",
       "</svg>\n"
      ],
      "text/plain": [
       "<Figure size 504x432 with 10 Axes>"
      ]
     },
     "metadata": {},
     "output_type": "display_data"
    }
   ],
   "source": [
    "from matplotlib import pyplot\n",
    "from matplotlib import gridspec\n",
    "graphs = uniq_subg.values()\n",
    "\n",
    "fig = pyplot.figure(figsize=(7, 6))\n",
    "\n",
    "gs0 = gridspec.GridSpec(2, 1, height_ratios=[3, 1])\n",
    "gs00 = gridspec.GridSpecFromSubplotSpec(1, 1, subplot_spec=gs0[0])\n",
    "gs01 = gridspec.GridSpecFromSubplotSpec(1, len(graphs), subplot_spec=gs0[1])\n",
    "\n",
    "ax_mat = fig.add_subplot(gs0[0])\n",
    "plt.sca(ax_mat)\n",
    "\n",
    "if False:\n",
    "    f = plt.pcolormesh(mat, cmap='inferno')\n",
    "    plt.yticks(np.arange(6)+0.5, labels=np.arange(6))\n",
    "    plt.xticks(np.arange(6)+0.5, labels=np.arange(6))\n",
    "else:\n",
    "    f = plt.imshow(mat/10, cmap='inferno')\n",
    "    \n",
    "plt.colorbar(f, shrink=1)\n",
    "plt.title(r'$S = \\frac{da}{\\sqrt{d^2 + a^2}}$')\n",
    "plt.suptitle('Transferred loss similarity, larger is better')\n",
    "plt.ylabel('Donor')\n",
    "plt.xlabel('Acceptor')\n",
    "\n",
    "for i, g in enumerate(graphs):\n",
    "    ax00 = fig.add_subplot(gs01[i])\n",
    "    plt.sca(ax00)\n",
    "    reg = g.degree[0]\n",
    "    plt.title(f'{i}: {reg}-reg')\n",
    "    plt.margins(0.2, 0.2)\n",
    "    nx.draw_kamada_kawai(g, node_size=20)\n",
    "    \n",
    "plt.tight_layout()"
   ]
  },
  {
   "cell_type": "code",
   "execution_count": 730,
   "metadata": {},
   "outputs": [
    {
     "name": "stdout",
     "output_type": "stream",
     "text": [
      "Unique subgraphs for G: 1\n"
     ]
    }
   ],
   "source": [
    "orbits1, maxnodes = qtensor.tools.lightcone_orbits.get_edge_orbits_lightcones(G, p=1)\n",
    "print('Unique subgraphs for G:', len(orbits1))"
   ]
  },
  {
   "cell_type": "code",
   "execution_count": 226,
   "metadata": {},
   "outputs": [
    {
     "name": "stdout",
     "output_type": "stream",
     "text": [
      "Unique subgraphs for G: 5 maxnodes 8\n"
     ]
    }
   ],
   "source": [
    "orbits2, maxnodes = qtensor.tools.lightcone_orbits.get_edge_orbits_lightcones(G_cut, p=1)\n",
    "print('Unique subgraphs for G:', len(orbits2), 'maxnodes', maxnodes)"
   ]
  },
  {
   "cell_type": "code",
   "execution_count": null,
   "metadata": {},
   "outputs": [],
   "source": []
  },
  {
   "cell_type": "markdown",
   "metadata": {},
   "source": [
    "## Iterate over cut edges and look at # of unique subgraphs"
   ]
  },
  {
   "cell_type": "code",
   "execution_count": 241,
   "metadata": {},
   "outputs": [],
   "source": [
    "G_cut = G.copy()\n",
    "orbits, maxnodes = qtensor.tools.lightcone_orbits.get_edge_orbits_lightcones(G_cut, p=1)\n",
    "uniques = [len(orbits)]\n",
    "for e in edges_cut:\n",
    "    G_cut.remove_edges_from([e])\n",
    "    orbits, maxnodes = qtensor.tools.lightcone_orbits.get_edge_orbits_lightcones(G_cut, p=1)\n",
    "    n_uniq = len(orbits)\n",
    "    uniques.append(n_uniq)\n",
    "    "
   ]
  },
  {
   "cell_type": "code",
   "execution_count": 242,
   "metadata": {},
   "outputs": [
    {
     "data": {
      "text/plain": [
       "[1, 3, 4, 5, 2, 3, 4, 5, 3, 5, 4, 4, 1, 2, 3, 3, 1]"
      ]
     },
     "execution_count": 242,
     "metadata": {},
     "output_type": "execute_result"
    }
   ],
   "source": [
    "uniques"
   ]
  },
  {
   "cell_type": "code",
   "execution_count": 243,
   "metadata": {},
   "outputs": [
    {
     "data": {
      "text/plain": [
       "[<matplotlib.lines.Line2D at 0x7f25d757bca0>]"
      ]
     },
     "execution_count": 243,
     "metadata": {},
     "output_type": "execute_result"
    },
    {
     "data": {
      "image/png": "[encoded data removed]",
      "text/plain": [
       "<Figure size 432x288 with 1 Axes>"
      ]
     },
     "metadata": {
      "needs_background": "light"
     },
     "output_type": "display_data"
    }
   ],
   "source": [
    "plt.plot(uniques)"
   ]
  },
  {
   "cell_type": "code",
   "execution_count": null,
   "metadata": {},
   "outputs": [],
   "source": []
  },
  {
   "cell_type": "code",
   "execution_count": 106,
   "metadata": {},
   "outputs": [],
   "source": [
    "ex = Explorer()"
   ]
  },
  {
   "cell_type": "code",
   "execution_count": 114,
   "metadata": {},
   "outputs": [],
   "source": [
    "import numpy as np\n",
    "import random"
   ]
  },
  {
   "cell_type": "code",
   "execution_count": 115,
   "metadata": {},
   "outputs": [],
   "source": [
    "def get_edges_to_trim(G):\n",
    "    n_edges = G.number_of_nodes()//2\n",
    "    i=0\n",
    "    while i<1000:\n",
    "        draw = random.sample(G.edges, k=n_edges)\n",
    "        if len(set(sum(draw, tuple()))) == G.number_of_nodes():\n",
    "               break\n",
    "    \n",
    "    return draw\n",
    "    "
   ]
  },
  {
   "cell_type": "code",
   "execution_count": null,
   "metadata": {},
   "outputs": [],
   "source": []
  },
  {
   "cell_type": "code",
   "execution_count": 116,
   "metadata": {},
   "outputs": [
    {
     "data": {
      "text/plain": [
       "[(5, 0), (2, 1), (3, 6), (4, 7)]"
      ]
     },
     "execution_count": 116,
     "metadata": {},
     "output_type": "execute_result"
    }
   ],
   "source": [
    "get_edges_to_trim(G)"
   ]
  },
  {
   "cell_type": "code",
   "execution_count": 143,
   "metadata": {},
   "outputs": [],
   "source": [
    "@ex.provider\n",
    "def transferred_cost(graph, cut_ix):\n",
    "    #edges_cut = [(2,1), (7,6), (0,3), (5,4), (5,7)]\n",
    "    G = graph\n",
    "    edges_cut = get_edges_to_trim(G)\n",
    "    print('ecut', edges_cut)\n",
    "    G_cut = G.copy()\n",
    "    assert len(set(dict(G_cut.degree).values())) == 1\n",
    "    for edge in edges_cut[:cut_ix]:\n",
    "        G_cut.remove_edge(*edge)\n",
    "        \n",
    "    gb1 = [1.9445362519332081], [0.5836305353850703]\n",
    "    e1 = qtensor.QAOA_energy(G_cut, *gb1)\n",
    "    return e1\n",
    "\n",
    "@ex.provider\n",
    "def graph(n=8, d=6, seed=10):\n",
    "    return nx.random_regular_graph(d, n, seed=seed)\n"
   ]
  },
  {
   "cell_type": "code",
   "execution_count": 145,
   "metadata": {},
   "outputs": [
    {
     "data": {
      "application/vnd.jupyter.widget-view+json": {
       "model_id": "10e7e0ed9daa4843880f68312ecbf69f",
       "version_major": 2,
       "version_minor": 0
      },
      "text/plain": [
       "HBox(children=(HTML(value=''), FloatProgress(value=0.0, max=50.0), HTML(value='')))"
      ]
     },
     "metadata": {},
     "output_type": "display_data"
    },
    {
     "name": "stdout",
     "output_type": "stream",
     "text": [
      "\n"
     ]
    },
    {
     "data": {
      "image/png": "[encoded data removed]",
      "text/plain": [
       "<Figure size 600x400 with 1 Axes>"
      ]
     },
     "metadata": {
      "needs_background": "light"
     },
     "output_type": "display_data"
    }
   ],
   "source": [
    "fig = ex.plot_variables(('transferred_cost'),\n",
    "                        distribution_var=('seed'),\n",
    "                        plot_kwargs=dict(marker='*'),\n",
    "                        cut_ix=range(5),\n",
    "                        seed=range(10)\n",
    "                 )"
   ]
  },
  {
   "cell_type": "code",
   "execution_count": null,
   "metadata": {},
   "outputs": [],
   "source": []
  },
  {
   "cell_type": "code",
   "execution_count": null,
   "metadata": {},
   "outputs": [],
   "source": []
  }
 ],
 "metadata": {
  "kernelspec": {
   "display_name": "Python 3",
   "language": "python",
   "name": "python3"
  },
  "language_info": {
   "codemirror_mode": {
    "name": "ipython",
    "version": 3
   },
   "file_extension": ".py",
   "mimetype": "text/x-python",
   "name": "python",
   "nbconvert_exporter": "python",
   "pygments_lexer": "ipython3",
   "version": "3.8.2"
  },
  "toc": {
   "base_numbering": 1,
   "nav_menu": {},
   "number_sections": true,
   "sideBar": true,
   "skip_h1_title": true,
   "title_cell": "Table of Contents",
   "title_sidebar": "Contents",
   "toc_cell": true,
   "toc_position": {},
   "toc_section_display": true,
   "toc_window_display": true
  }
 },
 "nbformat": 4,
 "nbformat_minor": 4
}
