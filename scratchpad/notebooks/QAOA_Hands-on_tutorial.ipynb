{
 "cells": [
  {
   "cell_type": "markdown",
   "metadata": {
    "toc": true
   },
   "source": [
    "<h1>Table of Contents<span class=\"tocSkip\"></span></h1>\n",
    "<div class=\"toc\"><ul class=\"toc-item\"><li><span><a href=\"#If-you're-using-your-own-machine,-install-qiskit-first\" data-toc-modified-id=\"If-you're-using-your-own-machine,-install-qiskit-first-1\"><span class=\"toc-item-num\">1&nbsp;&nbsp;</span>If you're using your own machine, install qiskit first</a></span></li><li><span><a href=\"#And-check-version-—-should-match-the-one-below\" data-toc-modified-id=\"And-check-version-—-should-match-the-one-below-2\"><span class=\"toc-item-num\">2&nbsp;&nbsp;</span>And check version — should match the one below</a></span></li><li><span><a href=\"#Let's-solve-MAXCUT-on-a-simple-graph\" data-toc-modified-id=\"Let's-solve-MAXCUT-on-a-simple-graph-3\"><span class=\"toc-item-num\">3&nbsp;&nbsp;</span>Let's solve MAXCUT on a simple graph</a></span></li><li><span><a href=\"#Constructing-the-Hamiltonian\" data-toc-modified-id=\"Constructing-the-Hamiltonian-4\"><span class=\"toc-item-num\">4&nbsp;&nbsp;</span>Constructing the Hamiltonian</a></span></li><li><span><a href=\"#Constructing-QAOA-circuit\" data-toc-modified-id=\"Constructing-QAOA-circuit-5\"><span class=\"toc-item-num\">5&nbsp;&nbsp;</span>Constructing QAOA circuit</a></span></li><li><span><a href=\"#Let's-beging-by-importing-everything-we'll-need-later\" data-toc-modified-id=\"Let's-beging-by-importing-everything-we'll-need-later-6\"><span class=\"toc-item-num\">6&nbsp;&nbsp;</span>Let's beging by importing everything we'll need later</a></span></li><li><span><a href=\"#Consider-the-following-graph\" data-toc-modified-id=\"Consider-the-following-graph-7\"><span class=\"toc-item-num\">7&nbsp;&nbsp;</span>Consider the following graph</a></span></li><li><span><a href=\"#We-can-now-build-the-circuit-for-cost-operator\" data-toc-modified-id=\"We-can-now-build-the-circuit-for-cost-operator-8\"><span class=\"toc-item-num\">8&nbsp;&nbsp;</span>We can now build the circuit for cost operator</a></span></li><li><span><a href=\"#Let's-verify-that-our-function-produces-the-correct-circuit\" data-toc-modified-id=\"Let's-verify-that-our-function-produces-the-correct-circuit-9\"><span class=\"toc-item-num\">9&nbsp;&nbsp;</span>Let's verify that our function produces the correct circuit</a></span></li><li><span><a href=\"#Now-we-need-to-build-mixer-operator\" data-toc-modified-id=\"Now-we-need-to-build-mixer-operator-10\"><span class=\"toc-item-num\">10&nbsp;&nbsp;</span>Now we need to build mixer operator</a></span></li><li><span><a href=\"#Let's-verify-the-circuit\" data-toc-modified-id=\"Let's-verify-the-circuit-11\"><span class=\"toc-item-num\">11&nbsp;&nbsp;</span>Let's verify the circuit</a></span></li><li><span><a href=\"#Now-we-are-ready-to-build-the-full-circuit\" data-toc-modified-id=\"Now-we-are-ready-to-build-the-full-circuit-12\"><span class=\"toc-item-num\">12&nbsp;&nbsp;</span>Now we are ready to build the full circuit</a></span></li><li><span><a href=\"#Let's-verify-that-circuit-looks-right\" data-toc-modified-id=\"Let's-verify-that-circuit-looks-right-13\"><span class=\"toc-item-num\">13&nbsp;&nbsp;</span>Let's verify that circuit looks right</a></span></li><li><span><a href=\"#Running-a-circuit-in-Qiskit\" data-toc-modified-id=\"Running-a-circuit-in-Qiskit-14\"><span class=\"toc-item-num\">14&nbsp;&nbsp;</span>Running a circuit in Qiskit</a></span></li><li><span><a href=\"#How-good-were-these-results?\" data-toc-modified-id=\"How-good-were-these-results?-15\"><span class=\"toc-item-num\">15&nbsp;&nbsp;</span>How good were these results?</a></span></li><li><span><a href=\"#Estimate-energy-from-the-sample\" data-toc-modified-id=\"Estimate-energy-from-the-sample-16\"><span class=\"toc-item-num\">16&nbsp;&nbsp;</span>Estimate energy from the sample</a></span></li><li><span><a href=\"#Putting-all-the-pieces-together\" data-toc-modified-id=\"Putting-all-the-pieces-together-17\"><span class=\"toc-item-num\">17&nbsp;&nbsp;</span>Putting all the pieces together</a></span></li><li><span><a href=\"#Now-we-can-run-the-optimizer-to-get-optimal-parameters!\" data-toc-modified-id=\"Now-we-can-run-the-optimizer-to-get-optimal-parameters!-18\"><span class=\"toc-item-num\">18&nbsp;&nbsp;</span>Now we can run the optimizer to get optimal parameters!</a></span></li><li><span><a href=\"#To-get-the-solution-strings,-let's-run-the-circuit-with-optimal-parameters\" data-toc-modified-id=\"To-get-the-solution-strings,-let's-run-the-circuit-with-optimal-parameters-19\"><span class=\"toc-item-num\">19&nbsp;&nbsp;</span>To get the solution strings, let's run the circuit with optimal parameters</a></span></li><li><span><a href=\"#How-good-are-there-results?\" data-toc-modified-id=\"How-good-are-there-results?-20\"><span class=\"toc-item-num\">20&nbsp;&nbsp;</span>How good are there results?</a></span></li><li><span><a href=\"#That-was-pretty-involved!-Is-there-an-easier-way?\" data-toc-modified-id=\"That-was-pretty-involved!-Is-there-an-easier-way?-21\"><span class=\"toc-item-num\">21&nbsp;&nbsp;</span>That was pretty involved! Is there an easier way?</a></span></li><li><span><a href=\"#Recap\" data-toc-modified-id=\"Recap-22\"><span class=\"toc-item-num\">22&nbsp;&nbsp;</span>Recap</a></span></li><li><span><a href=\"#Qiskit-to-help!\" data-toc-modified-id=\"Qiskit-to-help!-23\"><span class=\"toc-item-num\">23&nbsp;&nbsp;</span>Qiskit to help!</a></span></li><li><span><a href=\"#Building-the-circuit-in-Qiskit\" data-toc-modified-id=\"Building-the-circuit-in-Qiskit-24\"><span class=\"toc-item-num\">24&nbsp;&nbsp;</span>Building the circuit in Qiskit</a></span></li><li><span><a href=\"#Building-the-Hamiltonian-in-Qiskit\" data-toc-modified-id=\"Building-the-Hamiltonian-in-Qiskit-25\"><span class=\"toc-item-num\">25&nbsp;&nbsp;</span>Building the Hamiltonian in Qiskit</a></span></li><li><span><a href=\"#First,-let's-construct-a-Hamiltonian\" data-toc-modified-id=\"First,-let's-construct-a-Hamiltonian-26\"><span class=\"toc-item-num\">26&nbsp;&nbsp;</span>First, let's construct a Hamiltonian</a></span></li><li><span><a href=\"#Verifying-that-Hamiltonian-is-correct\" data-toc-modified-id=\"Verifying-that-Hamiltonian-is-correct-27\"><span class=\"toc-item-num\">27&nbsp;&nbsp;</span>Verifying that Hamiltonian is correct</a></span></li><li><span><a href=\"#Let's-run-ExactEigensolver-on-our-Hamiltonian-(Hermitian-matrix)\" data-toc-modified-id=\"Let's-run-ExactEigensolver-on-our-Hamiltonian-(Hermitian-matrix)-28\"><span class=\"toc-item-num\">28&nbsp;&nbsp;</span>Let's run ExactEigensolver on our Hamiltonian (Hermitian matrix)</a></span></li><li><span><a href=\"#Now,-we-need-to-convert-the-eigenvectors-of-$2^n\\times-2^n$-matrix-into-solutions-to-our-MAXCUT-problem-(vectors-of-size-$n$)\" data-toc-modified-id=\"Now,-we-need-to-convert-the-eigenvectors-of-$2^n\\times-2^n$-matrix-into-solutions-to-our-MAXCUT-problem-(vectors-of-size-$n$)-29\"><span class=\"toc-item-num\">29&nbsp;&nbsp;</span>Now, we need to convert the eigenvectors of $2^n\\times 2^n$ matrix into solutions to our MAXCUT problem (vectors of size $n$)</a></span></li><li><span><a href=\"#Q:-Can-I-build-my-Hamiltonian-as-a-matrix?\" data-toc-modified-id=\"Q:-Can-I-build-my-Hamiltonian-as-a-matrix?-30\"><span class=\"toc-item-num\">30&nbsp;&nbsp;</span>Q: Can I build my Hamiltonian as a matrix?</a></span></li><li><span><a href=\"#Let's-check-that-the-Hamiltonian-we've-built-is-correct\" data-toc-modified-id=\"Let's-check-that-the-Hamiltonian-we've-built-is-correct-31\"><span class=\"toc-item-num\">31&nbsp;&nbsp;</span>Let's check that the Hamiltonian we've built is correct</a></span></li><li><span><a href=\"#Constructing-QAOA-circuit-for-our-Hamiltonian\" data-toc-modified-id=\"Constructing-QAOA-circuit-for-our-Hamiltonian-32\"><span class=\"toc-item-num\">32&nbsp;&nbsp;</span>Constructing QAOA circuit for our Hamiltonian</a></span></li><li><span><a href=\"#Constructing-QAOA-circuit-for-our-Hamiltonian-(cont'd)\" data-toc-modified-id=\"Constructing-QAOA-circuit-for-our-Hamiltonian-(cont'd)-33\"><span class=\"toc-item-num\">33&nbsp;&nbsp;</span>Constructing QAOA circuit for our Hamiltonian (cont'd)</a></span></li><li><span><a href=\"#Let's-compare-Qiskit-circuit-with-the-one-we-constructed-earlier\" data-toc-modified-id=\"Let's-compare-Qiskit-circuit-with-the-one-we-constructed-earlier-34\"><span class=\"toc-item-num\">34&nbsp;&nbsp;</span>Let's compare Qiskit circuit with the one we constructed earlier</a></span></li><li><span><a href=\"#Yay!-The-two-match\" data-toc-modified-id=\"Yay!-The-two-match-35\"><span class=\"toc-item-num\">35&nbsp;&nbsp;</span>Yay! The two match</a></span></li><li><span><a href=\"#Q:-what-if-I-want-to-use-the-Hamiltonian-that-I've-built-in-numpy?\" data-toc-modified-id=\"Q:-what-if-I-want-to-use-the-Hamiltonian-that-I've-built-in-numpy?-36\"><span class=\"toc-item-num\">36&nbsp;&nbsp;</span>Q: what if I want to use the Hamiltonian that I've built in numpy?</a></span></li><li><span><a href=\"#Q:-Okay,-but-we-still-have-to-wrap-it-into-objective-and-pass-it-to-optimizer,-which-is-a-lot-of-work!-Can-Qiskit-do-that-for-me-too?\" data-toc-modified-id=\"Q:-Okay,-but-we-still-have-to-wrap-it-into-objective-and-pass-it-to-optimizer,-which-is-a-lot-of-work!-Can-Qiskit-do-that-for-me-too?-37\"><span class=\"toc-item-num\">37&nbsp;&nbsp;</span>Q: Okay, but we still have to wrap it into objective and pass it to optimizer, which is a lot of work! Can Qiskit do that for me too?</a></span></li></ul></div>"
   ]
  },
  {
   "cell_type": "markdown",
   "metadata": {
    "slideshow": {
     "slide_type": "slide"
    }
   },
   "source": [
    "### If you're using your own machine, install qiskit first\n",
    "To do that, uncomment the line below and run cell"
   ]
  },
  {
   "cell_type": "code",
   "execution_count": 73,
   "metadata": {},
   "outputs": [],
   "source": [
    "# !pip install qiskit"
   ]
  },
  {
   "cell_type": "markdown",
   "metadata": {},
   "source": [
    "### And check version — should match the one below"
   ]
  },
  {
   "cell_type": "code",
   "execution_count": 74,
   "metadata": {},
   "outputs": [
    {
     "data": {
      "text/plain": [
       "{'qiskit-terra': '0.14.1',\n",
       " 'qiskit-aer': '0.5.2',\n",
       " 'qiskit-ignis': '0.3.0',\n",
       " 'qiskit-ibmq-provider': '0.7.2',\n",
       " 'qiskit-aqua': '0.7.1',\n",
       " 'qiskit': '0.19.3'}"
      ]
     },
     "execution_count": 74,
     "metadata": {},
     "output_type": "execute_result"
    }
   ],
   "source": [
    "import qiskit\n",
    "qiskit.__qiskit_version__"
   ]
  },
  {
   "cell_type": "markdown",
   "metadata": {
    "slideshow": {
     "slide_type": "slide"
    }
   },
   "source": [
    "### Let's solve MAXCUT on a simple graph\n",
    "\n",
    "Recall the MAXCUT objective is $\\max_{\\mathbb{s}}\\frac{1}{2}\\sum_{ij\\in E}(1-s_is_j)$\n",
    "\n",
    "Before going further, let's reformulate it:\n",
    "\n",
    "$\\frac{1}{2}\\sum_{ij\\in E}(1-s_is_j) = \\frac{1}{2}\\sum_{ij\\in E}(-s_is_j) + const$\n",
    "\n",
    "Therefore the above _maximization_ problem is equivalent to the problem below:\n",
    "\n",
    "$\\max_{\\mathbb{s}}\\sum_{ij\\in E}(-s_is_j)$"
   ]
  },
  {
   "cell_type": "markdown",
   "metadata": {
    "slideshow": {
     "slide_type": "slide"
    }
   },
   "source": [
    "### Constructing the Hamiltonian\n",
    "\n",
    "MAXCUT is equivalent to the problem below:\n",
    "\n",
    "$\\max_{\\mathbb{s}}\\sum_{ij\\in E}(-s_is_j)$\n",
    "\n",
    "We've seen earlier that the Hamiltonian can be constructed by mapping binary variables $s_i$ onto the eigenvalues of $Z$. For the above minimization problem has the following Hamiltonian:\n",
    "\n",
    "$\\sum_{ij\\in E}(-Z_iZ_j)$"
   ]
  },
  {
   "cell_type": "markdown",
   "metadata": {
    "slideshow": {
     "slide_type": "slide"
    }
   },
   "source": [
    "### Constructing QAOA circuit\n",
    "\n",
    "Cost Hamiltonian: $C = \\sum_{ij\\in E}(-Z_iZ_j)$\n",
    "\n",
    "The full QAOA circuit:\n",
    "\n",
    "$|\\psi{(\\mathbb{\\beta},\\mathbb{\\gamma})}> =  e^{-i\\beta_p B}e^{-i\\gamma_p C}\\cdots e^{-i\\beta_1 B}e^{-i\\gamma_1 C} H^{\\otimes n} |0>$\n",
    "\n",
    "Need to implement cost operator $e^{-i\\gamma_p C}$ and mixer operator $e^{-i\\beta_p B}$"
   ]
  },
  {
   "cell_type": "markdown",
   "metadata": {
    "slideshow": {
     "slide_type": "slide"
    }
   },
   "source": [
    "### Let's beging by importing everything we'll need later"
   ]
  },
  {
   "cell_type": "code",
   "execution_count": 75,
   "metadata": {
    "slideshow": {
     "slide_type": "-"
    }
   },
   "outputs": [],
   "source": [
    "import warnings; warnings.filterwarnings(\"ignore\")\n",
    "import numpy as np\n",
    "import networkx as nx\n",
    "import matplotlib.pyplot as plt\n",
    "from collections import defaultdict\n",
    "from operator import itemgetter\n",
    "from scipy.optimize import minimize\n",
    "from qiskit import QuantumCircuit, QuantumRegister, ClassicalRegister, execute, Aer\n",
    "from qiskit.aqua.algorithms import ExactEigensolver\n",
    "from qiskit.quantum_info import Pauli\n",
    "from qiskit.aqua.operators import op_converter\n",
    "from qiskit.aqua.operators import WeightedPauliOperator"
   ]
  },
  {
   "cell_type": "markdown",
   "metadata": {
    "slideshow": {
     "slide_type": "slide"
    }
   },
   "source": [
    "### Consider the following graph"
   ]
  },
  {
   "cell_type": "code",
   "execution_count": 76,
   "metadata": {
    "slideshow": {
     "slide_type": "-"
    }
   },
   "outputs": [
    {
     "data": {
      "image/png": "[encoded data removed]",
      "text/plain": [
       "<Figure size 432x288 with 1 Axes>"
      ]
     },
     "metadata": {},
     "output_type": "display_data"
    }
   ],
   "source": [
    "w = np.array([[0,1,1,0],[1,0,1,1],[1,1,0,1],[0,1,1,0]])\n",
    "G = nx.from_numpy_matrix(w)\n",
    "nx.draw(G)"
   ]
  },
  {
   "cell_type": "markdown",
   "metadata": {
    "slideshow": {
     "slide_type": "slide"
    }
   },
   "source": [
    "### We can now build the circuit for cost operator\n",
    "\n",
    "Cost operator $ e^{-i\\gamma_p C} = e^{-i\\gamma_p \\sum_{ij\\in E}(-Z_iZ_j)} = e^{-i\\gamma_p Z_0Z_1}e^{-i\\gamma_p Z_0Z_2}e^{-i\\gamma_p Z_1Z_2}e^{-i\\gamma_p Z_1Z_3}e^{-i\\gamma_p Z_2Z_3}$\n",
    "\n",
    "Note that later we will see how to do this more efficiently in Qiskit"
   ]
  },
  {
   "cell_type": "code",
   "execution_count": 77,
   "metadata": {
    "slideshow": {
     "slide_type": "-"
    }
   },
   "outputs": [],
   "source": [
    "def append_zz_term(qc, q1, q2, gamma):\n",
    "    qc.cx(q1,q2)\n",
    "    qc.rz(2*gamma, q2)\n",
    "    qc.cx(q1,q2)\n",
    "\n",
    "def get_cost_operator_circuit(G, gamma):\n",
    "    N = G.number_of_nodes()\n",
    "    qc = QuantumCircuit(N,N)\n",
    "    for i, j in G.edges():\n",
    "        append_zz_term(qc, i, j, gamma)\n",
    "    return qc\n",
    "    "
   ]
  },
  {
   "cell_type": "markdown",
   "metadata": {
    "slideshow": {
     "slide_type": "slide"
    }
   },
   "source": [
    "### Let's verify that our function produces the correct circuit\n",
    "\n",
    "Cost operator $e^{-i\\gamma_p C} = e^{-i\\gamma_p Z_0Z_1}e^{-i\\gamma_p Z_0Z_2}e^{-i\\gamma_p Z_1Z_2}e^{-i\\gamma_p Z_1Z_3}e^{-i\\gamma_p Z_2Z_3}$"
   ]
  },
  {
   "cell_type": "code",
   "execution_count": 78,
   "metadata": {},
   "outputs": [
    {
     "data": {
      "text/html": [
       "<pre style=\"word-wrap: normal;white-space: pre;background: #fff0;line-height: 1.1;font-family: &quot;Courier New&quot;,Courier,monospace\">                                                                               »\n",
       "q_0: ──■─────────────────■────■─────────────────■──────────────────────────────»\n",
       "     ┌─┴─┐┌───────────┐┌─┴─┐  │                 │                              »\n",
       "q_1: ┤ X ├┤ RZ(2pi/3) ├┤ X ├──┼─────────────────┼────■─────────────────■────■──»\n",
       "     └───┘└───────────┘└───┘┌─┴─┐┌───────────┐┌─┴─┐┌─┴─┐┌───────────┐┌─┴─┐  │  »\n",
       "q_2: ───────────────────────┤ X ├┤ RZ(2pi/3) ├┤ X ├┤ X ├┤ RZ(2pi/3) ├┤ X ├──┼──»\n",
       "                            └───┘└───────────┘└───┘└───┘└───────────┘└───┘┌─┴─┐»\n",
       "q_3: ─────────────────────────────────────────────────────────────────────┤ X ├»\n",
       "                                                                          └───┘»\n",
       "c_0: ══════════════════════════════════════════════════════════════════════════»\n",
       "                                                                               »\n",
       "c_1: ══════════════════════════════════════════════════════════════════════════»\n",
       "                                                                               »\n",
       "c_2: ══════════════════════════════════════════════════════════════════════════»\n",
       "                                                                               »\n",
       "c_3: ══════════════════════════════════════════════════════════════════════════»\n",
       "                                                                               »\n",
       "«                                              \n",
       "«q_0: ─────────────────────────────────────────\n",
       "«                                              \n",
       "«q_1: ───────────────■─────────────────────────\n",
       "«                    │                         \n",
       "«q_2: ───────────────┼────■─────────────────■──\n",
       "«     ┌───────────┐┌─┴─┐┌─┴─┐┌───────────┐┌─┴─┐\n",
       "«q_3: ┤ RZ(2pi/3) ├┤ X ├┤ X ├┤ RZ(2pi/3) ├┤ X ├\n",
       "«     └───────────┘└───┘└───┘└───────────┘└───┘\n",
       "«c_0: ═════════════════════════════════════════\n",
       "«                                              \n",
       "«c_1: ═════════════════════════════════════════\n",
       "«                                              \n",
       "«c_2: ═════════════════════════════════════════\n",
       "«                                              \n",
       "«c_3: ═════════════════════════════════════════\n",
       "«                                              </pre>"
      ],
      "text/plain": [
       "                                                                               »\n",
       "q_0: ──■─────────────────■────■─────────────────■──────────────────────────────»\n",
       "     ┌─┴─┐┌───────────┐┌─┴─┐  │                 │                              »\n",
       "q_1: ┤ X ├┤ RZ(2pi/3) ├┤ X ├──┼─────────────────┼────■─────────────────■────■──»\n",
       "     └───┘└───────────┘└───┘┌─┴─┐┌───────────┐┌─┴─┐┌─┴─┐┌───────────┐┌─┴─┐  │  »\n",
       "q_2: ───────────────────────┤ X ├┤ RZ(2pi/3) ├┤ X ├┤ X ├┤ RZ(2pi/3) ├┤ X ├──┼──»\n",
       "                            └───┘└───────────┘└───┘└───┘└───────────┘└───┘┌─┴─┐»\n",
       "q_3: ─────────────────────────────────────────────────────────────────────┤ X ├»\n",
       "                                                                          └───┘»\n",
       "c_0: ══════════════════════════════════════════════════════════════════════════»\n",
       "                                                                               »\n",
       "c_1: ══════════════════════════════════════════════════════════════════════════»\n",
       "                                                                               »\n",
       "c_2: ══════════════════════════════════════════════════════════════════════════»\n",
       "                                                                               »\n",
       "c_3: ══════════════════════════════════════════════════════════════════════════»\n",
       "                                                                               »\n",
       "«                                              \n",
       "«q_0: ─────────────────────────────────────────\n",
       "«                                              \n",
       "«q_1: ───────────────■─────────────────────────\n",
       "«                    │                         \n",
       "«q_2: ───────────────┼────■─────────────────■──\n",
       "«     ┌───────────┐┌─┴─┐┌─┴─┐┌───────────┐┌─┴─┐\n",
       "«q_3: ┤ RZ(2pi/3) ├┤ X ├┤ X ├┤ RZ(2pi/3) ├┤ X ├\n",
       "«     └───────────┘└───┘└───┘└───────────┘└───┘\n",
       "«c_0: ═════════════════════════════════════════\n",
       "«                                              \n",
       "«c_1: ═════════════════════════════════════════\n",
       "«                                              \n",
       "«c_2: ═════════════════════════════════════════\n",
       "«                                              \n",
       "«c_3: ═════════════════════════════════════════\n",
       "«                                              "
      ]
     },
     "execution_count": 78,
     "metadata": {},
     "output_type": "execute_result"
    }
   ],
   "source": [
    "qc = get_cost_operator_circuit(G, np.pi / 3)\n",
    "qc.draw()"
   ]
  },
  {
   "cell_type": "markdown",
   "metadata": {
    "slideshow": {
     "slide_type": "slide"
    }
   },
   "source": [
    "### Now we need to build mixer operator\n",
    "\n",
    "Mixer operator: $e^{-i\\beta_p B} = e^{-i\\beta_p \\sum_{i\\in V}X_i} = e^{-i\\beta_p X_0}e^{-i\\beta_p X_1}e^{-i\\beta_p X_2}e^{-i\\beta_p X_3}$"
   ]
  },
  {
   "cell_type": "code",
   "execution_count": 79,
   "metadata": {
    "slideshow": {
     "slide_type": "fragment"
    }
   },
   "outputs": [],
   "source": [
    "def append_x_term(qc, q1, beta):\n",
    "    qc.h(q1)\n",
    "    qc.rz(2*beta, q1)\n",
    "    qc.h(q1)\n",
    "\n",
    "def get_mixer_operator_circuit(G, beta):\n",
    "    N = G.number_of_nodes()\n",
    "    qc = QuantumCircuit(N,N)\n",
    "    for n in G.nodes():\n",
    "        append_x_term(qc, n, beta)\n",
    "    return qc\n"
   ]
  },
  {
   "cell_type": "markdown",
   "metadata": {
    "slideshow": {
     "slide_type": "slide"
    }
   },
   "source": [
    "### Let's verify the circuit\n",
    "\n",
    "Mixer operator: $e^{-i\\beta_p B} = e^{-i\\beta_p \\sum_{i\\in V}X_i} = e^{-i\\beta_p X_0}e^{-i\\beta_p X_1}e^{-i\\beta_p X_2}e^{-i\\beta_p X_3}$"
   ]
  },
  {
   "cell_type": "code",
   "execution_count": 80,
   "metadata": {},
   "outputs": [
    {
     "data": {
      "text/html": [
       "<pre style=\"word-wrap: normal;white-space: pre;background: #fff0;line-height: 1.1;font-family: &quot;Courier New&quot;,Courier,monospace\">     ┌───┐┌───────────┐┌───┐\n",
       "q_0: ┤ H ├┤ RZ(2pi/3) ├┤ H ├\n",
       "     ├───┤├───────────┤├───┤\n",
       "q_1: ┤ H ├┤ RZ(2pi/3) ├┤ H ├\n",
       "     ├───┤├───────────┤├───┤\n",
       "q_2: ┤ H ├┤ RZ(2pi/3) ├┤ H ├\n",
       "     ├───┤├───────────┤├───┤\n",
       "q_3: ┤ H ├┤ RZ(2pi/3) ├┤ H ├\n",
       "     └───┘└───────────┘└───┘\n",
       "c_0: ═══════════════════════\n",
       "                            \n",
       "c_1: ═══════════════════════\n",
       "                            \n",
       "c_2: ═══════════════════════\n",
       "                            \n",
       "c_3: ═══════════════════════\n",
       "                            </pre>"
      ],
      "text/plain": [
       "     ┌───┐┌───────────┐┌───┐\n",
       "q_0: ┤ H ├┤ RZ(2pi/3) ├┤ H ├\n",
       "     ├───┤├───────────┤├───┤\n",
       "q_1: ┤ H ├┤ RZ(2pi/3) ├┤ H ├\n",
       "     ├───┤├───────────┤├───┤\n",
       "q_2: ┤ H ├┤ RZ(2pi/3) ├┤ H ├\n",
       "     ├───┤├───────────┤├───┤\n",
       "q_3: ┤ H ├┤ RZ(2pi/3) ├┤ H ├\n",
       "     └───┘└───────────┘└───┘\n",
       "c_0: ═══════════════════════\n",
       "                            \n",
       "c_1: ═══════════════════════\n",
       "                            \n",
       "c_2: ═══════════════════════\n",
       "                            \n",
       "c_3: ═══════════════════════\n",
       "                            "
      ]
     },
     "execution_count": 80,
     "metadata": {},
     "output_type": "execute_result"
    }
   ],
   "source": [
    "qc = get_mixer_operator_circuit(G, np.pi/3)\n",
    "qc.draw()"
   ]
  },
  {
   "cell_type": "markdown",
   "metadata": {
    "slideshow": {
     "slide_type": "slide"
    }
   },
   "source": [
    "### Now we are ready to build the full circuit\n",
    "\n",
    "$|\\psi{(\\mathbb{\\beta},\\mathbb{\\gamma})}> =  e^{-i\\beta_p B}e^{-i\\gamma_p C}\\cdots e^{-i\\beta_1 B}e^{-i\\gamma_1 C} H^{\\otimes n} |0>$"
   ]
  },
  {
   "cell_type": "code",
   "execution_count": 81,
   "metadata": {},
   "outputs": [],
   "source": [
    "def get_qaoa_circuit(G, beta, gamma):\n",
    "    assert(len(beta) == len(gamma))\n",
    "    p = len(beta) # infering number of QAOA steps from the parameters passed\n",
    "    N = G.number_of_nodes()\n",
    "    qc = QuantumCircuit(N,N)\n",
    "    # first, apply a layer of Hadamards\n",
    "    qc.h(range(N))\n",
    "    # second, apply p alternating operators\n",
    "    for i in range(p):\n",
    "        qc += get_cost_operator_circuit(G,gamma[i])\n",
    "        qc += get_mixer_operator_circuit(G,beta[i])\n",
    "    # finally, do not forget to measure the result!\n",
    "    qc.barrier(range(N))\n",
    "    qc.measure(range(N), range(N))\n",
    "    return qc"
   ]
  },
  {
   "cell_type": "markdown",
   "metadata": {
    "slideshow": {
     "slide_type": "slide"
    }
   },
   "source": [
    "### Let's verify that circuit looks right\n",
    "\n",
    "$|\\psi{(\\mathbb{\\beta},\\mathbb{\\gamma})}> =  e^{-i\\beta_p B}e^{-i\\gamma_p C}\\cdots e^{-i\\beta_1 B}e^{-i\\gamma_1 C} H^{\\otimes n} |0>$"
   ]
  },
  {
   "cell_type": "code",
   "execution_count": 82,
   "metadata": {},
   "outputs": [
    {
     "data": {
      "text/html": [
       "<pre style=\"word-wrap: normal;white-space: pre;background: #fff0;line-height: 1.1;font-family: &quot;Courier New&quot;,Courier,monospace\">     ┌───┐                                        ┌───┐┌───────────┐┌───┐     »\n",
       "q_0: ┤ H ├──■──────────────■────■──────────────■──┤ H ├┤ RZ(2pi/3) ├┤ H ├─────»\n",
       "     ├───┤┌─┴─┐┌────────┐┌─┴─┐  │              │  └───┘└───────────┘└───┘     »\n",
       "q_1: ┤ H ├┤ X ├┤ RZ(pi) ├┤ X ├──┼──────────────┼────■─────────────────■────■──»\n",
       "     ├───┤└───┘└────────┘└───┘┌─┴─┐┌────────┐┌─┴─┐┌─┴─┐  ┌────────┐ ┌─┴─┐  │  »\n",
       "q_2: ┤ H ├────────────────────┤ X ├┤ RZ(pi) ├┤ X ├┤ X ├──┤ RZ(pi) ├─┤ X ├──┼──»\n",
       "     ├───┤                    └───┘└────────┘└───┘└───┘  └────────┘ └───┘┌─┴─┐»\n",
       "q_3: ┤ H ├───────────────────────────────────────────────────────────────┤ X ├»\n",
       "     └───┘                                                               └───┘»\n",
       "c_0: ═════════════════════════════════════════════════════════════════════════»\n",
       "                                                                              »\n",
       "c_1: ═════════════════════════════════════════════════════════════════════════»\n",
       "                                                                              »\n",
       "c_2: ═════════════════════════════════════════════════════════════════════════»\n",
       "                                                                              »\n",
       "c_3: ═════════════════════════════════════════════════════════════════════════»\n",
       "                                                                              »\n",
       "«                                                                   ░ ┌─┐      »\n",
       "«q_0: ──────────────────────────────────────────────────────────────░─┤M├──────»\n",
       "«                    ┌───┐┌───────────┐┌───┐                        ░ └╥┘┌─┐   »\n",
       "«q_1: ────────────■──┤ H ├┤ RZ(2pi/3) ├┤ H ├────────────────────────░──╫─┤M├───»\n",
       "«                 │  └───┘└───────────┘└───┘┌───┐┌───────────┐┌───┐ ░  ║ └╥┘┌─┐»\n",
       "«q_2: ────────────┼────■─────────────────■──┤ H ├┤ RZ(2pi/3) ├┤ H ├─░──╫──╫─┤M├»\n",
       "«     ┌────────┐┌─┴─┐┌─┴─┐  ┌────────┐ ┌─┴─┐├───┤├───────────┤├───┤ ░  ║  ║ └╥┘»\n",
       "«q_3: ┤ RZ(pi) ├┤ X ├┤ X ├──┤ RZ(pi) ├─┤ X ├┤ H ├┤ RZ(2pi/3) ├┤ H ├─░──╫──╫──╫─»\n",
       "«     └────────┘└───┘└───┘  └────────┘ └───┘└───┘└───────────┘└───┘ ░  ║  ║  ║ »\n",
       "«c_0: ═════════════════════════════════════════════════════════════════╩══╬══╬═»\n",
       "«                                                                         ║  ║ »\n",
       "«c_1: ════════════════════════════════════════════════════════════════════╩══╬═»\n",
       "«                                                                            ║ »\n",
       "«c_2: ═══════════════════════════════════════════════════════════════════════╩═»\n",
       "«                                                                              »\n",
       "«c_3: ═════════════════════════════════════════════════════════════════════════»\n",
       "«                                                                              »\n",
       "«        \n",
       "«q_0: ───\n",
       "«        \n",
       "«q_1: ───\n",
       "«        \n",
       "«q_2: ───\n",
       "«     ┌─┐\n",
       "«q_3: ┤M├\n",
       "«     └╥┘\n",
       "«c_0: ═╬═\n",
       "«      ║ \n",
       "«c_1: ═╬═\n",
       "«      ║ \n",
       "«c_2: ═╬═\n",
       "«      ║ \n",
       "«c_3: ═╩═\n",
       "«        </pre>"
      ],
      "text/plain": [
       "     ┌───┐                                        ┌───┐┌───────────┐┌───┐     »\n",
       "q_0: ┤ H ├──■──────────────■────■──────────────■──┤ H ├┤ RZ(2pi/3) ├┤ H ├─────»\n",
       "     ├───┤┌─┴─┐┌────────┐┌─┴─┐  │              │  └───┘└───────────┘└───┘     »\n",
       "q_1: ┤ H ├┤ X ├┤ RZ(pi) ├┤ X ├──┼──────────────┼────■─────────────────■────■──»\n",
       "     ├───┤└───┘└────────┘└───┘┌─┴─┐┌────────┐┌─┴─┐┌─┴─┐  ┌────────┐ ┌─┴─┐  │  »\n",
       "q_2: ┤ H ├────────────────────┤ X ├┤ RZ(pi) ├┤ X ├┤ X ├──┤ RZ(pi) ├─┤ X ├──┼──»\n",
       "     ├───┤                    └───┘└────────┘└───┘└───┘  └────────┘ └───┘┌─┴─┐»\n",
       "q_3: ┤ H ├───────────────────────────────────────────────────────────────┤ X ├»\n",
       "     └───┘                                                               └───┘»\n",
       "c_0: ═════════════════════════════════════════════════════════════════════════»\n",
       "                                                                              »\n",
       "c_1: ═════════════════════════════════════════════════════════════════════════»\n",
       "                                                                              »\n",
       "c_2: ═════════════════════════════════════════════════════════════════════════»\n",
       "                                                                              »\n",
       "c_3: ═════════════════════════════════════════════════════════════════════════»\n",
       "                                                                              »\n",
       "«                                                                   ░ ┌─┐      »\n",
       "«q_0: ──────────────────────────────────────────────────────────────░─┤M├──────»\n",
       "«                    ┌───┐┌───────────┐┌───┐                        ░ └╥┘┌─┐   »\n",
       "«q_1: ────────────■──┤ H ├┤ RZ(2pi/3) ├┤ H ├────────────────────────░──╫─┤M├───»\n",
       "«                 │  └───┘└───────────┘└───┘┌───┐┌───────────┐┌───┐ ░  ║ └╥┘┌─┐»\n",
       "«q_2: ────────────┼────■─────────────────■──┤ H ├┤ RZ(2pi/3) ├┤ H ├─░──╫──╫─┤M├»\n",
       "«     ┌────────┐┌─┴─┐┌─┴─┐  ┌────────┐ ┌─┴─┐├───┤├───────────┤├───┤ ░  ║  ║ └╥┘»\n",
       "«q_3: ┤ RZ(pi) ├┤ X ├┤ X ├──┤ RZ(pi) ├─┤ X ├┤ H ├┤ RZ(2pi/3) ├┤ H ├─░──╫──╫──╫─»\n",
       "«     └────────┘└───┘└───┘  └────────┘ └───┘└───┘└───────────┘└───┘ ░  ║  ║  ║ »\n",
       "«c_0: ═════════════════════════════════════════════════════════════════╩══╬══╬═»\n",
       "«                                                                         ║  ║ »\n",
       "«c_1: ════════════════════════════════════════════════════════════════════╩══╬═»\n",
       "«                                                                            ║ »\n",
       "«c_2: ═══════════════════════════════════════════════════════════════════════╩═»\n",
       "«                                                                              »\n",
       "«c_3: ═════════════════════════════════════════════════════════════════════════»\n",
       "«                                                                              »\n",
       "«        \n",
       "«q_0: ───\n",
       "«        \n",
       "«q_1: ───\n",
       "«        \n",
       "«q_2: ───\n",
       "«     ┌─┐\n",
       "«q_3: ┤M├\n",
       "«     └╥┘\n",
       "«c_0: ═╬═\n",
       "«      ║ \n",
       "«c_1: ═╬═\n",
       "«      ║ \n",
       "«c_2: ═╬═\n",
       "«      ║ \n",
       "«c_3: ═╩═\n",
       "«        "
      ]
     },
     "execution_count": 82,
     "metadata": {},
     "output_type": "execute_result"
    }
   ],
   "source": [
    "qc = get_qaoa_circuit(G,[np.pi/3], [np.pi/2])\n",
    "qc.draw()"
   ]
  },
  {
   "cell_type": "markdown",
   "metadata": {
    "slideshow": {
     "slide_type": "slide"
    }
   },
   "source": [
    "### Running a circuit in Qiskit\n",
    "\n",
    "For the purposes of this tutorial, we will be running the circuits in simulator. To run your circuits on real IBM quantum computers, all you need to do is change the backend. However, the devices are noisy, so there might be dragons!"
   ]
  },
  {
   "cell_type": "code",
   "execution_count": 83,
   "metadata": {},
   "outputs": [
    {
     "name": "stdout",
     "output_type": "stream",
     "text": [
      "{'1110': 64, '1100': 68, '0011': 56, '0010': 61, '0110': 58, '0101': 76, '1001': 78, '1010': 78, '0000': 65, '0001': 54, '0111': 66, '1000': 59, '1011': 56, '1101': 55, '1111': 56, '0100': 74}\n"
     ]
    }
   ],
   "source": [
    "backend = Aer.get_backend('qasm_simulator')\n",
    "job = execute(qc, backend)\n",
    "result = job.result()\n",
    "print(result.get_counts())"
   ]
  },
  {
   "cell_type": "markdown",
   "metadata": {
    "slideshow": {
     "slide_type": "slide"
    }
   },
   "source": [
    "### How good were these results?\n",
    "\n",
    "To answer that, we need to compute $<\\psi|C|\\psi>$. Luckily, C is a classical Hamiltonian, so we can do this easily. We are going to compute -1 times the value of the cut because by convention classical optimizers minimize (this will come up shortly)."
   ]
  },
  {
   "cell_type": "code",
   "execution_count": 84,
   "metadata": {},
   "outputs": [
    {
     "data": {
      "text/plain": [
       "-4"
      ]
     },
     "execution_count": 84,
     "metadata": {},
     "output_type": "execute_result"
    }
   ],
   "source": [
    "def maxcut_obj(x,G):\n",
    "    cut = 0\n",
    "    for i, j in G.edges():\n",
    "        if x[i] != x[j]:\n",
    "            # the edge is cut\n",
    "            cut -= 1\n",
    "    return cut\n",
    "\n",
    "maxcut_obj('0110', G)"
   ]
  },
  {
   "cell_type": "markdown",
   "metadata": {
    "slideshow": {
     "slide_type": "slide"
    }
   },
   "source": [
    "### Estimate energy from the sample"
   ]
  },
  {
   "cell_type": "code",
   "execution_count": 85,
   "metadata": {
    "slideshow": {
     "slide_type": "-"
    }
   },
   "outputs": [
    {
     "data": {
      "text/plain": [
       "-2.541015625"
      ]
     },
     "execution_count": 85,
     "metadata": {},
     "output_type": "execute_result"
    }
   ],
   "source": [
    "def compute_maxcut_energy(counts, G):\n",
    "    energy = 0\n",
    "    total_counts = 0\n",
    "    for meas, meas_count in counts.items():\n",
    "        obj_for_meas = maxcut_obj(meas[::-1], G)\n",
    "        energy += obj_for_meas * meas_count\n",
    "        total_counts += meas_count\n",
    "    return energy / total_counts\n",
    "\n",
    "compute_maxcut_energy(result.get_counts(), G)"
   ]
  },
  {
   "cell_type": "markdown",
   "metadata": {
    "slideshow": {
     "slide_type": "slide"
    }
   },
   "source": [
    "### Putting all the pieces together\n",
    "\n",
    "As you remember, QAOA is a variational algorithm, so we will need a classical optimizer to optimize variational parameters. We will use Constrained Optimization BY Linear Approximation (COBYLA) from `scipy.optimize`.\n",
    "\n",
    "We need to wrap our circuit into a black-box objective function `f` that COBYLA could optimize. Note that by convention all optimizers perform _minimization_, so we had to put a minus sign in front of our objective earlier."
   ]
  },
  {
   "cell_type": "code",
   "execution_count": 101,
   "metadata": {},
   "outputs": [],
   "source": [
    "def get_black_box_objective(G,p):\n",
    "    N = G.number_of_nodes()\n",
    "    backend = Aer.get_backend('qasm_simulator')\n",
    "    def f(theta):\n",
    "        # let's assume first half is betas, second half is gammas\n",
    "        beta = theta[:p]\n",
    "        gamma = theta[p:]\n",
    "        qc = get_qaoa_circuit(G,beta, gamma)\n",
    "        counts = execute(qc, backend).result().get_counts()\n",
    "        # return the energy\n",
    "        return compute_maxcut_energy(counts, G)\n",
    "    return f"
   ]
  },
  {
   "cell_type": "markdown",
   "metadata": {
    "slideshow": {
     "slide_type": "slide"
    }
   },
   "source": [
    "### Now we can run the optimizer to get optimal parameters!"
   ]
  },
  {
   "cell_type": "code",
   "execution_count": 109,
   "metadata": {},
   "outputs": [
    {
     "data": {
      "text/plain": [
       "     fun: -3.033203125\n",
       "   maxcv: 0.0\n",
       " message: 'Optimization terminated successfully.'\n",
       "    nfev: 33\n",
       "  status: 1\n",
       " success: True\n",
       "       x: array([0.8400968 , 5.24500341])"
      ]
     },
     "execution_count": 109,
     "metadata": {},
     "output_type": "execute_result"
    }
   ],
   "source": [
    "# p is the number of QAOA alternating operators\n",
    "p = 1\n",
    "obj = get_black_box_objective(G,p)\n",
    "# Lower and upper bounds: beta \\in {0, pi}, gamma \\in {0, 2*pi}\n",
    "lb = np.zeros(2*p)\n",
    "ub = np.hstack([np.full(p, np.pi), np.full(p, 2*np.pi)])\n",
    "\n",
    "init_point = np.random.uniform(lb, ub, 2*p)\n",
    "# We are going to limit the number of iterations to 1000\n",
    "res = minimize(obj, init_point, method='COBYLA', options={'maxiter':1000, 'disp': True})\n",
    "res"
   ]
  },
  {
   "cell_type": "markdown",
   "metadata": {
    "slideshow": {
     "slide_type": "slide"
    }
   },
   "source": [
    "### To get the solution strings, let's run the circuit with optimal parameters"
   ]
  },
  {
   "cell_type": "code",
   "execution_count": 110,
   "metadata": {},
   "outputs": [
    {
     "data": {
      "text/plain": [
       "{'1110': 60,\n",
       " '1100': 28,\n",
       " '0011': 19,\n",
       " '0010': 53,\n",
       " '0110': 223,\n",
       " '0101': 26,\n",
       " '1001': 236,\n",
       " '1010': 20,\n",
       " '0000': 15,\n",
       " '0001': 54,\n",
       " '0111': 49,\n",
       " '1000': 74,\n",
       " '1011': 55,\n",
       " '1101': 40,\n",
       " '1111': 21,\n",
       " '0100': 51}"
      ]
     },
     "execution_count": 110,
     "metadata": {},
     "output_type": "execute_result"
    }
   ],
   "source": [
    "optimal_theta = res['x']\n",
    "N = G.number_of_nodes()\n",
    "qc = get_qaoa_circuit(G, optimal_theta[:p], optimal_theta[p:])\n",
    "counts = execute(qc, backend).result().get_counts()\n",
    "counts"
   ]
  },
  {
   "cell_type": "markdown",
   "metadata": {
    "slideshow": {
     "slide_type": "slide"
    }
   },
   "source": [
    "### How good are there results?"
   ]
  },
  {
   "cell_type": "code",
   "execution_count": 111,
   "metadata": {},
   "outputs": [
    {
     "data": {
      "text/plain": [
       "<BarContainer object of 4 artists>"
      ]
     },
     "execution_count": 111,
     "metadata": {},
     "output_type": "execute_result"
    },
    {
     "data": {
      "image/png": "[encoded data removed]",
      "text/plain": [
       "<Figure size 432x288 with 1 Axes>"
      ]
     },
     "metadata": {
      "needs_background": "light"
     },
     "output_type": "display_data"
    }
   ],
   "source": [
    "energies = defaultdict(int)\n",
    "for k, v in counts.items():\n",
    "    energies[maxcut_obj(k[::-1],G)] += v\n",
    "\n",
    "x,y = zip(*energies.items())\n",
    "plt.bar(x,y)"
   ]
  },
  {
   "cell_type": "markdown",
   "metadata": {},
   "source": [
    "Pretty good! Most of the results we get correspond to good solutions!"
   ]
  },
  {
   "cell_type": "code",
   "execution_count": 112,
   "metadata": {
    "slideshow": {
     "slide_type": "slide"
    }
   },
   "outputs": [
    {
     "name": "stdout",
     "output_type": "stream",
     "text": [
      "Best string: 0110 with cut: 4\n"
     ]
    },
    {
     "data": {
      "image/png": "[encoded data removed]",
      "text/plain": [
       "<Figure size 432x288 with 1 Axes>"
      ]
     },
     "metadata": {},
     "output_type": "display_data"
    }
   ],
   "source": [
    "# get the best solution:\n",
    "best_cut, best_solution = min([(maxcut_obj(x,G),x) for x in counts.keys()], key=itemgetter(0))\n",
    "print(f\"Best string: {best_solution} with cut: {-best_cut}\")\n",
    "\n",
    "# color the graph nodes by part\n",
    "colors = ['r' if x == '0' else 'b' for x in best_solution]\n",
    "nx.draw(G,node_color = colors)"
   ]
  },
  {
   "cell_type": "markdown",
   "metadata": {
    "slideshow": {
     "slide_type": "slide"
    }
   },
   "source": [
    "### That was pretty involved! Is there an easier way?\n",
    "\n",
    "So far we have effectively reimplemented the entire stack of tools used in Qiskit. Wasn't too bad, huh? Note that you can fairly easily do the above in any framework you prefer (Google cirq, Rigetti PyQuil, ...), all you need to learn is how to apply gates. What follows is more specific to IBM Qiskit (though not entirely).\n",
    "\n",
    "Luckily, you don't have to reimplement QAOA every time you want to use it (though I do recommend doing it at least once to understand what's going on!)\n",
    "\n",
    "Qiskit provides a number of tools for optimization, some as simple to use as plugging your graph into a declarative interface. Today we're going to look at some of them. I have copied and pasted some of the code from Qiskit here for educational purposes."
   ]
  },
  {
   "cell_type": "markdown",
   "metadata": {
    "slideshow": {
     "slide_type": "slide"
    }
   },
   "source": [
    "### Recap\n",
    "\n",
    "To solve MAXCUT we had to do the following:\n",
    "\n",
    "1. Choose a problem class (maxcut) and a problem instance (graph)\n",
    "2. Come up with a general Hamiltonian for the problem class\n",
    "3. Build specific Hamiltonian for the problem instance\n",
    "4. From the Hamiltonian, construct QAOA circuit\n",
    "5. Wrap QAOA circuit in a black box function\n",
    "6. Optimize QAOA parameters\n",
    "7. Get solution by running QAOA circuit with optimal parameters"
   ]
  },
  {
   "cell_type": "markdown",
   "metadata": {
    "slideshow": {
     "slide_type": "slide"
    }
   },
   "source": [
    "### Qiskit to help!\n",
    "\n",
    "Let's see how Qiskit can help us with steps 3 and 4:\n",
    "\n",
    "\n",
    "1. Choose a problem class (maxcut) and a problem instance (graph)\n",
    "2. Come up with a general Hamiltonian for the problem class\n",
    "3. **Build specific Hamiltonian for the problem instance**\n",
    "4. **From the Hamiltonian, construct QAOA circuit**\n",
    "5. Wrap QAOA circuit in a black box function\n",
    "6. Optimize QAOA parameters\n",
    "7. Get solution by running QAOA circuit with optimal parameters"
   ]
  },
  {
   "cell_type": "markdown",
   "metadata": {
    "slideshow": {
     "slide_type": "fragment"
    }
   },
   "source": [
    "### Building the circuit in Qiskit\n",
    "\n",
    "First thing we're going to try is to use Qiskit tools to build circuit instead of building it by hand. To do that, we will have to construct a Hamiltonian object and pass it to QAOA class initializer."
   ]
  },
  {
   "cell_type": "markdown",
   "metadata": {
    "slideshow": {
     "slide_type": "slide"
    }
   },
   "source": [
    "### Building the Hamiltonian in Qiskit\n",
    "\n",
    "Qiskit uses tableau notation for Pauli strings"
   ]
  },
  {
   "cell_type": "code",
   "execution_count": 113,
   "metadata": {},
   "outputs": [],
   "source": [
    "def get_cost_operator(weight_matrix):\n",
    "    \"\"\"Generate Hamiltonian for the max-cut problem of a graph.\n",
    "    Args:\n",
    "        weight_matrix (numpy.ndarray) : adjacency matrix.\n",
    "    Returns:\n",
    "        WeightedPauliOperator: operator for the Hamiltonian\n",
    "        float: a constant shift for the obj function.\n",
    "    \"\"\"\n",
    "    num_nodes = weight_matrix.shape[0]\n",
    "    pauli_list = []\n",
    "    shift = 0\n",
    "    for i in range(num_nodes):\n",
    "        for j in range(i):\n",
    "            if weight_matrix[i, j] != 0:\n",
    "                x_p = np.zeros(num_nodes, dtype=np.bool)\n",
    "                z_p = np.zeros(num_nodes, dtype=np.bool)\n",
    "                z_p[i] = True\n",
    "                z_p[j] = True\n",
    "                pauli_list.append([0.5 * weight_matrix[i, j], Pauli(z_p, x_p)])\n",
    "                shift -= 0.5 * weight_matrix[i, j]\n",
    "    return WeightedPauliOperator(paulis=pauli_list), shift"
   ]
  },
  {
   "cell_type": "markdown",
   "metadata": {
    "slideshow": {
     "slide_type": "slide"
    }
   },
   "source": [
    "### First, let's construct a Hamiltonian \n",
    "\n",
    "Recall the MAXCUT objective is $\\max_{\\mathbb{s}}\\frac{1}{2}\\sum_{ij\\in E}(1-s_is_j) = \\max_{\\mathbb{s}}\\frac{1}{2}\\sum_{ij\\in E}(-s_is_j) + const$. Qiskit conveniently takes care of the constant in form of offset.\n",
    "\n",
    "Corresponding Hamiltonian is $\\frac{1}{2}\\sum_{ij\\in E}(-Z_iZ_j)$, but Qiskit by convention always searches for the _ground_ state, so the sign is flipped."
   ]
  },
  {
   "cell_type": "code",
   "execution_count": 114,
   "metadata": {},
   "outputs": [
    {
     "name": "stdout",
     "output_type": "stream",
     "text": [
      "IIZZ\t(0.5+0j)\n",
      "IZIZ\t(0.5+0j)\n",
      "IZZI\t(0.5+0j)\n",
      "ZIZI\t(0.5+0j)\n",
      "ZZII\t(0.5+0j)\n",
      "\n"
     ]
    }
   ],
   "source": [
    "C, offset = get_cost_operator(w)\n",
    "print(C.print_details())"
   ]
  },
  {
   "cell_type": "markdown",
   "metadata": {},
   "source": [
    "Looks correct!"
   ]
  },
  {
   "cell_type": "markdown",
   "metadata": {
    "slideshow": {
     "slide_type": "slide"
    }
   },
   "source": [
    "### Verifying that Hamiltonian is correct\n",
    "\n",
    "Recall that since \"Hamiltonian\" is just a fancy word for matrix*, we can find its ground state (lowest eigenvalue eigenvector) classically with any eigensolver. We can use Qiskit `ExactEigensolver`, which in is just a wrapper around `np.linalg.eig` and `scisparse.linalg.eigs`:\n",
    "\n",
    "```python\n",
    "class ExactEigensolver(ClassicalAlgorithm):\n",
    "    \"\"\"The Exact Eigensolver algorithm.\"\"\"\n",
    "    <...>\n",
    "    def _solve(self):\n",
    "        if self._operator.dia_matrix is None:\n",
    "            if self._k >= self._operator.matrix.shape[0] - 1:\n",
    "                logger.debug(\"Scipy doesn't support to get all eigenvalues, using numpy instead.\")\n",
    "                eigval, eigvec = np.linalg.eig(self._operator.matrix.toarray())\n",
    "            else:\n",
    "                eigval, eigvec = scisparse.linalg.eigs(self._operator.matrix, k=self._k, which='SR')\n",
    "    <...>\n",
    "```\n",
    "(code from https://github.com/Qiskit/qiskit-aqua/blob/0.6.2/qiskit/aqua/algorithms/classical/exact_eigen_solver/exact_eigen_solver.py)\n",
    "\n",
    "*not really"
   ]
  },
  {
   "cell_type": "markdown",
   "metadata": {
    "slideshow": {
     "slide_type": "slide"
    }
   },
   "source": [
    "### Let's run ExactEigensolver on our Hamiltonian (Hermitian matrix)"
   ]
  },
  {
   "cell_type": "code",
   "execution_count": 115,
   "metadata": {
    "slideshow": {
     "slide_type": "-"
    }
   },
   "outputs": [
    {
     "data": {
      "text/plain": [
       "{'eigenvalues': array([-1.5+0.j]), 'eigenstates': ListOp([VectorStateFn(Statevector([0.+0.j, 0.+0.j, 0.+0.j, 0.+0.j, 0.+0.j, 0.+0.j, 1.+0.j,\n",
       "             0.+0.j, 0.+0.j, 0.+0.j, 0.+0.j, 0.+0.j, 0.+0.j, 0.+0.j,\n",
       "             0.+0.j, 0.+0.j],\n",
       "            dims=(2, 2, 2, 2)), coeff=1.0, is_measurement=False)], coeff=1.0, abelian=False)}"
      ]
     },
     "execution_count": 115,
     "metadata": {},
     "output_type": "execute_result"
    }
   ],
   "source": [
    "ee = ExactEigensolver(C, k=1) # k=1 means lowest eigenvalue and eigenvector\n",
    "\n",
    "result = ee.run()\n",
    "result"
   ]
  },
  {
   "cell_type": "markdown",
   "metadata": {
    "slideshow": {
     "slide_type": "slide"
    }
   },
   "source": [
    "### Now, we need to convert the eigenvectors of $2^n\\times 2^n$ matrix into solutions to our MAXCUT problem (vectors of size $n$)\n",
    "\n",
    "Luckily, Qiskit has a function for that!"
   ]
  },
  {
   "cell_type": "code",
   "execution_count": 116,
   "metadata": {},
   "outputs": [
    {
     "name": "stdout",
     "output_type": "stream",
     "text": [
      "Solution: [0 1 1 0] with cut: -4.0\n"
     ]
    }
   ],
   "source": [
    "from qiskit.optimization.applications.ising.common import sample_most_likely\n",
    "print(f\"Solution: {sample_most_likely(result['eigvecs'][0])} with cut: {result['energy']+offset}\")\n"
   ]
  },
  {
   "cell_type": "markdown",
   "metadata": {},
   "source": [
    "And it's a correct solution. So we've built our Hamiltonian correctly. Note that you can use the same process (building a Hamiltonian, running ExactEigensolver on it) in prototyping your own algorithms."
   ]
  },
  {
   "cell_type": "markdown",
   "metadata": {
    "slideshow": {
     "slide_type": "slide"
    }
   },
   "source": [
    "### Q: Can I build my Hamiltonian as a matrix?\n",
    "\n",
    "Yes you can! Let's try doing it it for the same four-node graph:\n",
    "\n",
    "$C=\\frac{1}{2}\\sum_{ij\\in E}Z_iZ_i = \\frac{1}{2}(Z\\otimes Z \\otimes I \\otimes I + Z\\otimes I \\otimes Z \\otimes I + I\\otimes Z \\otimes Z \\otimes I + I\\otimes Z \\otimes I \\otimes Z + I\\otimes I \\otimes Z \\otimes Z)$"
   ]
  },
  {
   "cell_type": "code",
   "execution_count": 117,
   "metadata": {},
   "outputs": [],
   "source": [
    "I = np.eye(2,2)\n",
    "Z = np.array([[1.,0.], [0.,-1.]])\n",
    "\n",
    "Z0Z1 = np.kron(np.kron(np.kron(Z,Z), I), I)\n",
    "Z0Z2 = np.kron(np.kron(np.kron(Z,I), Z), I)\n",
    "Z1Z2 = np.kron(np.kron(np.kron(I,Z), Z), I)\n",
    "Z1Z3 = np.kron(np.kron(np.kron(I,Z), I), Z)\n",
    "Z2Z3 = np.kron(np.kron(np.kron(I,I), Z), Z)\n",
    "\n",
    "C_numpy = 0.5 * (Z0Z1 + Z0Z2 + Z1Z2 + Z1Z3 + Z2Z3)"
   ]
  },
  {
   "cell_type": "markdown",
   "metadata": {},
   "source": [
    "PS If you know a better way of doing this -- please let me know!"
   ]
  },
  {
   "cell_type": "markdown",
   "metadata": {
    "slideshow": {
     "slide_type": "slide"
    }
   },
   "source": [
    "### Let's check that the Hamiltonian we've built is correct\n",
    "\n",
    "No shenanigans here -- just numpy."
   ]
  },
  {
   "cell_type": "code",
   "execution_count": 118,
   "metadata": {},
   "outputs": [
    {
     "name": "stdout",
     "output_type": "stream",
     "text": [
      "Solution: [0. 1. 1. 0.] with cut: -4.0\n"
     ]
    }
   ],
   "source": [
    "# Get eigenvalues and eigenvectors\n",
    "eigval, eigvec = np.linalg.eig(C_numpy)\n",
    "# Sort eigenvalues\n",
    "idx = eigval.argsort()\n",
    "# Get lowest\n",
    "lowest_eigval = eigval[idx][0]\n",
    "lowest_eigvec = eigvec[idx][0]\n",
    "# Only need qiskit to convert eigenvector into the solution to our problem\n",
    "print(f\"Solution: {sample_most_likely(lowest_eigvec)} with cut: {lowest_eigval+offset}\")"
   ]
  },
  {
   "cell_type": "markdown",
   "metadata": {},
   "source": [
    "And this is correct!"
   ]
  },
  {
   "cell_type": "markdown",
   "metadata": {
    "slideshow": {
     "slide_type": "slide"
    }
   },
   "source": [
    "### Constructing QAOA circuit for our Hamiltonian\n",
    "\n",
    "Qiskit provides a class that constructs QAOA circuit for us from a Hamiltonian. \n",
    "\n",
    "The abstraction Qiskit uses for this is \"Variational Form\". Roughly speaking, variational form is just a parameterized circuit that prepares some parameterized state $\\psi(\\theta)$. For QAOA, as you might recall, this parameterized state is:\n",
    "\n",
    "$$  \\begin{aligned} \n",
    "    |\\psi{(\\mathbb{\\theta})}> & = |\\psi{(\\mathbb{\\beta},\\mathbb{\\gamma})}>\\\\\n",
    "    &=  e^{-i\\beta_p B}e^{-i\\gamma_p C}\\cdots e^{-i\\beta_1 B}e^{-i\\gamma_1 C} H^{\\otimes n} |0>.\n",
    "  \\end{aligned} $$"
   ]
  },
  {
   "cell_type": "code",
   "execution_count": 119,
   "metadata": {},
   "outputs": [],
   "source": [
    "from qiskit.aqua.algorithms.minimum_eigen_solvers.qaoa.var_form import QAOAVarForm\n",
    "\n",
    "p = 4\n",
    "var_form = QAOAVarForm(C.to_opflow(), p)"
   ]
  },
  {
   "cell_type": "markdown",
   "metadata": {
    "slideshow": {
     "slide_type": "slide"
    }
   },
   "source": [
    "### Constructing QAOA circuit for our Hamiltonian (cont'd)\n",
    "\n",
    "To construct circuit, we need to pass the parameters $\\mathbb{\\beta}, \\mathbb{\\gamma}$ to the variational form."
   ]
  },
  {
   "cell_type": "code",
   "execution_count": 120,
   "metadata": {},
   "outputs": [
    {
     "name": "stdout",
     "output_type": "stream",
     "text": [
      "{'1110': 61, '1100': 50, '0011': 49, '0010': 5, '0110': 172, '0101': 52, '1001': 158, '1010': 53, '0000': 141, '0001': 27, '0111': 39, '1000': 44, '1011': 6, '1101': 1, '1111': 158, '0100': 8}\n"
     ]
    }
   ],
   "source": [
    "N = G.number_of_nodes()\n",
    "\n",
    "# Lower and upper bounds: beta \\in {0, pi}, gamma \\in {0, 2*pi}\n",
    "lb = np.zeros(2*p)\n",
    "ub = np.hstack([np.full(p, np.pi), np.full(p, 2*np.pi)])\n",
    "random_point = np.random.uniform(lb, ub, 2*p)\n",
    "\n",
    "# Build the circuit\n",
    "qc = var_form.construct_circuit(random_point)\n",
    "\n",
    "# Don't forget to measure! This requires a little hack\n",
    "if not qc.cregs:\n",
    "    c = ClassicalRegister(N, name='c')\n",
    "    qc.add_register(c)\n",
    "qc.measure(qc.qregs[0], qc.cregs[0])\n",
    "# And run\n",
    "backend = Aer.get_backend('qasm_simulator')\n",
    "counts = execute(qc, backend).result().get_counts()\n",
    "print(counts)\n"
   ]
  },
  {
   "cell_type": "markdown",
   "metadata": {
    "slideshow": {
     "slide_type": "slide"
    }
   },
   "source": [
    "### Let's compare Qiskit circuit with the one we constructed earlier\n",
    "\n",
    "Note that Qiskit uses Hamiltonian $C = \\frac{1}{2}\\sum_{ij\\in E}(-Z_iZ_j)$, so we will have to add a factor of $\\frac{1}{2}$ to our parameters gamma to match our circuit"
   ]
  },
  {
   "cell_type": "code",
   "execution_count": 121,
   "metadata": {},
   "outputs": [
    {
     "data": {
      "text/html": [
       "<pre style=\"word-wrap: normal;white-space: pre;background: #fff0;line-height: 1.1;font-family: &quot;Courier New&quot;,Courier,monospace\">     ┌───┐                                        ┌───┐┌───────────┐┌───┐     »\n",
       "q_0: ┤ H ├──■──────────────■────■──────────────■──┤ H ├┤ RZ(2pi/3) ├┤ H ├─────»\n",
       "     ├───┤┌─┴─┐┌────────┐┌─┴─┐  │              │  └───┘└───────────┘└───┘     »\n",
       "q_1: ┤ H ├┤ X ├┤ RZ(pi) ├┤ X ├──┼──────────────┼────■─────────────────■────■──»\n",
       "     ├───┤└───┘└────────┘└───┘┌─┴─┐┌────────┐┌─┴─┐┌─┴─┐  ┌────────┐ ┌─┴─┐  │  »\n",
       "q_2: ┤ H ├────────────────────┤ X ├┤ RZ(pi) ├┤ X ├┤ X ├──┤ RZ(pi) ├─┤ X ├──┼──»\n",
       "     ├───┤                    └───┘└────────┘└───┘└───┘  └────────┘ └───┘┌─┴─┐»\n",
       "q_3: ┤ H ├───────────────────────────────────────────────────────────────┤ X ├»\n",
       "     └───┘                                                               └───┘»\n",
       "c_0: ═════════════════════════════════════════════════════════════════════════»\n",
       "                                                                              »\n",
       "c_1: ═════════════════════════════════════════════════════════════════════════»\n",
       "                                                                              »\n",
       "c_2: ═════════════════════════════════════════════════════════════════════════»\n",
       "                                                                              »\n",
       "c_3: ═════════════════════════════════════════════════════════════════════════»\n",
       "                                                                              »\n",
       "«                                                                   ░ ┌─┐      »\n",
       "«q_0: ──────────────────────────────────────────────────────────────░─┤M├──────»\n",
       "«                    ┌───┐┌───────────┐┌───┐                        ░ └╥┘┌─┐   »\n",
       "«q_1: ────────────■──┤ H ├┤ RZ(2pi/3) ├┤ H ├────────────────────────░──╫─┤M├───»\n",
       "«                 │  └───┘└───────────┘└───┘┌───┐┌───────────┐┌───┐ ░  ║ └╥┘┌─┐»\n",
       "«q_2: ────────────┼────■─────────────────■──┤ H ├┤ RZ(2pi/3) ├┤ H ├─░──╫──╫─┤M├»\n",
       "«     ┌────────┐┌─┴─┐┌─┴─┐  ┌────────┐ ┌─┴─┐├───┤├───────────┤├───┤ ░  ║  ║ └╥┘»\n",
       "«q_3: ┤ RZ(pi) ├┤ X ├┤ X ├──┤ RZ(pi) ├─┤ X ├┤ H ├┤ RZ(2pi/3) ├┤ H ├─░──╫──╫──╫─»\n",
       "«     └────────┘└───┘└───┘  └────────┘ └───┘└───┘└───────────┘└───┘ ░  ║  ║  ║ »\n",
       "«c_0: ═════════════════════════════════════════════════════════════════╩══╬══╬═»\n",
       "«                                                                         ║  ║ »\n",
       "«c_1: ════════════════════════════════════════════════════════════════════╩══╬═»\n",
       "«                                                                            ║ »\n",
       "«c_2: ═══════════════════════════════════════════════════════════════════════╩═»\n",
       "«                                                                              »\n",
       "«c_3: ═════════════════════════════════════════════════════════════════════════»\n",
       "«                                                                              »\n",
       "«        \n",
       "«q_0: ───\n",
       "«        \n",
       "«q_1: ───\n",
       "«        \n",
       "«q_2: ───\n",
       "«     ┌─┐\n",
       "«q_3: ┤M├\n",
       "«     └╥┘\n",
       "«c_0: ═╬═\n",
       "«      ║ \n",
       "«c_1: ═╬═\n",
       "«      ║ \n",
       "«c_2: ═╬═\n",
       "«      ║ \n",
       "«c_3: ═╩═\n",
       "«        </pre>"
      ],
      "text/plain": [
       "     ┌───┐                                        ┌───┐┌───────────┐┌───┐     »\n",
       "q_0: ┤ H ├──■──────────────■────■──────────────■──┤ H ├┤ RZ(2pi/3) ├┤ H ├─────»\n",
       "     ├───┤┌─┴─┐┌────────┐┌─┴─┐  │              │  └───┘└───────────┘└───┘     »\n",
       "q_1: ┤ H ├┤ X ├┤ RZ(pi) ├┤ X ├──┼──────────────┼────■─────────────────■────■──»\n",
       "     ├───┤└───┘└────────┘└───┘┌─┴─┐┌────────┐┌─┴─┐┌─┴─┐  ┌────────┐ ┌─┴─┐  │  »\n",
       "q_2: ┤ H ├────────────────────┤ X ├┤ RZ(pi) ├┤ X ├┤ X ├──┤ RZ(pi) ├─┤ X ├──┼──»\n",
       "     ├───┤                    └───┘└────────┘└───┘└───┘  └────────┘ └───┘┌─┴─┐»\n",
       "q_3: ┤ H ├───────────────────────────────────────────────────────────────┤ X ├»\n",
       "     └───┘                                                               └───┘»\n",
       "c_0: ═════════════════════════════════════════════════════════════════════════»\n",
       "                                                                              »\n",
       "c_1: ═════════════════════════════════════════════════════════════════════════»\n",
       "                                                                              »\n",
       "c_2: ═════════════════════════════════════════════════════════════════════════»\n",
       "                                                                              »\n",
       "c_3: ═════════════════════════════════════════════════════════════════════════»\n",
       "                                                                              »\n",
       "«                                                                   ░ ┌─┐      »\n",
       "«q_0: ──────────────────────────────────────────────────────────────░─┤M├──────»\n",
       "«                    ┌───┐┌───────────┐┌───┐                        ░ └╥┘┌─┐   »\n",
       "«q_1: ────────────■──┤ H ├┤ RZ(2pi/3) ├┤ H ├────────────────────────░──╫─┤M├───»\n",
       "«                 │  └───┘└───────────┘└───┘┌───┐┌───────────┐┌───┐ ░  ║ └╥┘┌─┐»\n",
       "«q_2: ────────────┼────■─────────────────■──┤ H ├┤ RZ(2pi/3) ├┤ H ├─░──╫──╫─┤M├»\n",
       "«     ┌────────┐┌─┴─┐┌─┴─┐  ┌────────┐ ┌─┴─┐├───┤├───────────┤├───┤ ░  ║  ║ └╥┘»\n",
       "«q_3: ┤ RZ(pi) ├┤ X ├┤ X ├──┤ RZ(pi) ├─┤ X ├┤ H ├┤ RZ(2pi/3) ├┤ H ├─░──╫──╫──╫─»\n",
       "«     └────────┘└───┘└───┘  └────────┘ └───┘└───┘└───────────┘└───┘ ░  ║  ║  ║ »\n",
       "«c_0: ═════════════════════════════════════════════════════════════════╩══╬══╬═»\n",
       "«                                                                         ║  ║ »\n",
       "«c_1: ════════════════════════════════════════════════════════════════════╩══╬═»\n",
       "«                                                                            ║ »\n",
       "«c_2: ═══════════════════════════════════════════════════════════════════════╩═»\n",
       "«                                                                              »\n",
       "«c_3: ═════════════════════════════════════════════════════════════════════════»\n",
       "«                                                                              »\n",
       "«        \n",
       "«q_0: ───\n",
       "«        \n",
       "«q_1: ───\n",
       "«        \n",
       "«q_2: ───\n",
       "«     ┌─┐\n",
       "«q_3: ┤M├\n",
       "«     └╥┘\n",
       "«c_0: ═╬═\n",
       "«      ║ \n",
       "«c_1: ═╬═\n",
       "«      ║ \n",
       "«c_2: ═╬═\n",
       "«      ║ \n",
       "«c_3: ═╩═\n",
       "«        "
      ]
     },
     "execution_count": 121,
     "metadata": {},
     "output_type": "execute_result"
    }
   ],
   "source": [
    "qc_our = get_qaoa_circuit(G,[np.pi/3], [np.pi/2])\n",
    "qc_our.draw()"
   ]
  },
  {
   "cell_type": "code",
   "execution_count": 122,
   "metadata": {
    "slideshow": {
     "slide_type": "fragment"
    }
   },
   "outputs": [
    {
     "data": {
      "text/html": [
       "<pre style=\"word-wrap: normal;white-space: pre;background: #fff0;line-height: 1.1;font-family: &quot;Courier New&quot;,Courier,monospace\">     ┌──────────┐                                            »\n",
       "q_0: ┤ U2(0,pi) ├────────────────────────────────────────────»\n",
       "     ├──────────┤                      ┌───┐┌──────────┐┌───┐»\n",
       "q_1: ┤ U2(0,pi) ├──────────────────────┤ X ├┤ U1(pi/6) ├┤ X ├»\n",
       "     ├──────────┤┌───┐┌──────────┐┌───┐└─┬─┘└──────────┘└─┬─┘»\n",
       "q_2: ┤ U2(0,pi) ├┤ X ├┤ U1(pi/6) ├┤ X ├──┼────────────────┼──»\n",
       "     ├──────────┤└─┬─┘└──────────┘└─┬─┘  │                │  »\n",
       "q_3: ┤ U2(0,pi) ├──■────────────────■────■────────────────■──»\n",
       "     └──────────┘                                            »\n",
       "«                                           ┌───┐┌──────────┐┌───┐»\n",
       "«q_0: ──────────────────────────────────────┤ X ├┤ U1(pi/6) ├┤ X ├»\n",
       "«             ┌───┐        ┌──────────┐┌───┐└─┬─┘└──────────┘└─┬─┘»\n",
       "«q_1: ────────┤ X ├────────┤ U1(pi/6) ├┤ X ├──┼────────────────┼──»\n",
       "«             └─┬─┘        └──────────┘└─┬─┘  │                │  »\n",
       "«q_2: ──────────■────────────────────────■────■────────────────■──»\n",
       "«     ┌───────────────────┐                                       »\n",
       "«q_3: ┤ U3(pi,-pi/2,pi/2) ├───────────────────────────────────────»\n",
       "«     └───────────────────┘                                       »\n",
       "«             ┌───┐        ┌──────────┐┌───┐┌───────────────────┐\n",
       "«q_0: ────────┤ X ├────────┤ U1(pi/6) ├┤ X ├┤ U3(pi,-pi/2,pi/2) ├\n",
       "«             └─┬─┘        └──────────┘└─┬─┘├───────────────────┤\n",
       "«q_1: ──────────■────────────────────────■──┤ U3(pi,-pi/2,pi/2) ├\n",
       "«     ┌───────────────────┐                 └───────────────────┘\n",
       "«q_2: ┤ U3(pi,-pi/2,pi/2) ├──────────────────────────────────────\n",
       "«     └───────────────────┘                                      \n",
       "«q_3: ───────────────────────────────────────────────────────────\n",
       "«                                                                </pre>"
      ],
      "text/plain": [
       "     ┌──────────┐                                            »\n",
       "q_0: ┤ U2(0,pi) ├────────────────────────────────────────────»\n",
       "     ├──────────┤                      ┌───┐┌──────────┐┌───┐»\n",
       "q_1: ┤ U2(0,pi) ├──────────────────────┤ X ├┤ U1(pi/6) ├┤ X ├»\n",
       "     ├──────────┤┌───┐┌──────────┐┌───┐└─┬─┘└──────────┘└─┬─┘»\n",
       "q_2: ┤ U2(0,pi) ├┤ X ├┤ U1(pi/6) ├┤ X ├──┼────────────────┼──»\n",
       "     ├──────────┤└─┬─┘└──────────┘└─┬─┘  │                │  »\n",
       "q_3: ┤ U2(0,pi) ├──■────────────────■────■────────────────■──»\n",
       "     └──────────┘                                            »\n",
       "«                                           ┌───┐┌──────────┐┌───┐»\n",
       "«q_0: ──────────────────────────────────────┤ X ├┤ U1(pi/6) ├┤ X ├»\n",
       "«             ┌───┐        ┌──────────┐┌───┐└─┬─┘└──────────┘└─┬─┘»\n",
       "«q_1: ────────┤ X ├────────┤ U1(pi/6) ├┤ X ├──┼────────────────┼──»\n",
       "«             └─┬─┘        └──────────┘└─┬─┘  │                │  »\n",
       "«q_2: ──────────■────────────────────────■────■────────────────■──»\n",
       "«     ┌───────────────────┐                                       »\n",
       "«q_3: ┤ U3(pi,-pi/2,pi/2) ├───────────────────────────────────────»\n",
       "«     └───────────────────┘                                       »\n",
       "«             ┌───┐        ┌──────────┐┌───┐┌───────────────────┐\n",
       "«q_0: ────────┤ X ├────────┤ U1(pi/6) ├┤ X ├┤ U3(pi,-pi/2,pi/2) ├\n",
       "«             └─┬─┘        └──────────┘└─┬─┘├───────────────────┤\n",
       "«q_1: ──────────■────────────────────────■──┤ U3(pi,-pi/2,pi/2) ├\n",
       "«     ┌───────────────────┐                 └───────────────────┘\n",
       "«q_2: ┤ U3(pi,-pi/2,pi/2) ├──────────────────────────────────────\n",
       "«     └───────────────────┘                                      \n",
       "«q_3: ───────────────────────────────────────────────────────────\n",
       "«                                                                "
      ]
     },
     "execution_count": 122,
     "metadata": {},
     "output_type": "execute_result"
    }
   ],
   "source": [
    "from qiskit.compiler import transpile\n",
    "var_form_qiskit = QAOAVarForm(C.to_opflow(), 1)\n",
    "qc_qiskit = var_form_qiskit.construct_circuit([np.pi/3, np.pi])\n",
    "circuit_qiskit = transpile(qc_qiskit, optimization_level=0,basis_gates=['u1', 'u2', 'u3', 'cx'])\n",
    "circuit_qiskit.draw()"
   ]
  },
  {
   "cell_type": "markdown",
   "metadata": {
    "slideshow": {
     "slide_type": "slide"
    }
   },
   "source": [
    "### Yay! The two match\n",
    "\n",
    "Note that RZ(x) = U1(x) and H = U2(0,pi)"
   ]
  },
  {
   "cell_type": "markdown",
   "metadata": {
    "slideshow": {
     "slide_type": "slide"
    }
   },
   "source": [
    "### Q: what if I want to use the Hamiltonian that I've built in numpy?\n",
    "\n",
    "You can do that too! All you need to do is to convert it to Qiskit object"
   ]
  },
  {
   "cell_type": "code",
   "execution_count": 123,
   "metadata": {},
   "outputs": [
    {
     "name": "stdout",
     "output_type": "stream",
     "text": [
      "type of C_numpy is <class 'numpy.ndarray'>\n"
     ]
    },
    {
     "data": {
      "text/plain": [
       "<qiskit.aqua.algorithms.minimum_eigen_solvers.qaoa.var_form.QAOAVarForm at 0x146a584f8e50>"
      ]
     },
     "execution_count": 123,
     "metadata": {},
     "output_type": "execute_result"
    }
   ],
   "source": [
    "print(f\"type of C_numpy is {type(C_numpy)}\")\n",
    "\n",
    "from qiskit.aqua.operators import MatrixOperator\n",
    "C_converted = MatrixOperator(C_numpy)\n",
    "\n",
    "# Now we can use it!\n",
    "var_form = QAOAVarForm(C_converted, p)\n",
    "var_form"
   ]
  },
  {
   "cell_type": "markdown",
   "metadata": {
    "slideshow": {
     "slide_type": "slide"
    }
   },
   "source": [
    "### Q: Okay, but we still have to wrap it into objective and pass it to optimizer, which is a lot of work! Can Qiskit do that for me too?\n",
    "\n",
    "Yes! The reason I'm leaving it to the end of the tutorial is that it looks nice and clean, but it might not be flexible enough for a researcher like yourself. Moreover, the cleanliness of the interface hides a lot of underlying complexity (as you've seen earlier) and introduces some limitations. One of such limitations is that you have to work with optimizers supported by Qiskit (though it's fairly easy to add a new one). The main point is that qiskit is open source, so you can always modify it to suit your needs! "
   ]
  },
  {
   "cell_type": "code",
   "execution_count": 124,
   "metadata": {},
   "outputs": [
    {
     "name": "stderr",
     "output_type": "stream",
     "text": [
      "Evolved Hamiltonian is not composed of only MatrixOps, converting to Matrix representation, which can be expensive.\n",
      "Evolved Hamiltonian is not composed of only MatrixOps, converting to Matrix representation, which can be expensive.\n",
      "Evolved Hamiltonian is not composed of only MatrixOps, converting to Matrix representation, which can be expensive.\n",
      "Evolved Hamiltonian is not composed of only MatrixOps, converting to Matrix representation, which can be expensive.\n",
      "Evolved Hamiltonian is not composed of only MatrixOps, converting to Matrix representation, which can be expensive.\n",
      "Evolved Hamiltonian is not composed of only MatrixOps, converting to Matrix representation, which can be expensive.\n",
      "Evolved Hamiltonian is not composed of only MatrixOps, converting to Matrix representation, which can be expensive.\n",
      "Evolved Hamiltonian is not composed of only MatrixOps, converting to Matrix representation, which can be expensive.\n",
      "Evolved Hamiltonian is not composed of only MatrixOps, converting to Matrix representation, which can be expensive.\n",
      "Evolved Hamiltonian is not composed of only MatrixOps, converting to Matrix representation, which can be expensive.\n",
      "Evolved Hamiltonian is not composed of only MatrixOps, converting to Matrix representation, which can be expensive.\n",
      "Evolved Hamiltonian is not composed of only MatrixOps, converting to Matrix representation, which can be expensive.\n"
     ]
    },
    {
     "name": "stdout",
     "output_type": "stream",
     "text": [
      "final maxcut energy: -3.4912109375\n",
      "solution: [0 1 1 0]\n",
      "solution objective: 4\n"
     ]
    }
   ],
   "source": [
    "from qiskit.aqua.algorithms.minimum_eigen_solvers import QAOA\n",
    "from qiskit.aqua.components.optimizers import COBYLA\n",
    "from qiskit.optimization.applications.ising import max_cut\n",
    "\n",
    "cobyla = COBYLA(maxiter=1000)\n",
    "qaoa = QAOA(C_converted, cobyla, p=4)\n",
    "backend = Aer.get_backend('qasm_simulator')\n",
    "result = qaoa.run(backend)\n",
    "\n",
    "x = sample_most_likely(result['eigvecs'][0])\n",
    "print('final maxcut energy:', result['energy'] + offset)\n",
    "print('solution:', x)\n",
    "print('solution objective:', max_cut.max_cut_value(x, w))"
   ]
  },
  {
   "cell_type": "code",
   "execution_count": null,
   "metadata": {},
   "outputs": [],
   "source": []
  }
 ],
 "metadata": {
  "kernelspec": {
   "display_name": "Python 3",
   "language": "python",
   "name": "python3"
  },
  "language_info": {
   "codemirror_mode": {
    "name": "ipython",
    "version": 3
   },
   "file_extension": ".py",
   "mimetype": "text/x-python",
   "name": "python",
   "nbconvert_exporter": "python",
   "pygments_lexer": "ipython3",
   "version": "3.8.3"
  },
  "toc": {
   "base_numbering": 1,
   "nav_menu": {},
   "number_sections": true,
   "sideBar": true,
   "skip_h1_title": false,
   "title_cell": "Table of Contents",
   "title_sidebar": "Contents",
   "toc_cell": true,
   "toc_position": {},
   "toc_section_display": true,
   "toc_window_display": true
  }
 },
 "nbformat": 4,
 "nbformat_minor": 2
}
