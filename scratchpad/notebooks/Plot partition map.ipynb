{
 "cells": [
  {
   "cell_type": "markdown",
   "metadata": {
    "toc": true
   },
   "source": [
    "<h1>Table of Contents<span class=\"tocSkip\"></span></h1>\n",
    "<div class=\"toc\"><ul class=\"toc-item\"></ul></div>"
   ]
  },
  {
   "cell_type": "code",
   "execution_count": 1,
   "metadata": {
    "ExecuteTime": {
     "end_time": "2020-04-20T19:29:19.759321Z",
     "start_time": "2020-04-20T19:29:19.264545Z"
    }
   },
   "outputs": [],
   "source": [
    "import numpy as np\n",
    "import matplotlib.pyplot as plt\n",
    "import matplotlib as mpl"
   ]
  },
  {
   "cell_type": "code",
   "execution_count": 2,
   "metadata": {
    "ExecuteTime": {
     "end_time": "2020-04-20T19:29:19.764862Z",
     "start_time": "2020-04-20T19:29:19.760873Z"
    }
   },
   "outputs": [],
   "source": [
    "T = np.zeros([2]*5, dtype=int)"
   ]
  },
  {
   "cell_type": "code",
   "execution_count": 6,
   "metadata": {
    "ExecuteTime": {
     "end_time": "2020-04-20T19:29:45.451338Z",
     "start_time": "2020-04-20T19:29:45.432956Z"
    }
   },
   "outputs": [
    {
     "name": "stdout",
     "output_type": "stream",
     "text": [
      "[(0, 0), (0, 1), (1, 0), (1, 1)]\n"
     ]
    }
   ],
   "source": [
    "slices = [slice(None, None)]*len(T.shape)\n",
    "\n",
    "r = 2\n",
    "par = (1, 3)\n",
    "N = 2**r\n",
    "vals = [np.unravel_index(i, [2]*r) for i in range(N)]\n",
    "print(vals)\n",
    "\n",
    "for val, ix in enumerate(vals):\n",
    "    for i, d in enumerate(par):\n",
    "        slices[d] = slice(ix[i], ix[i]+1)\n",
    "    T[tuple(slices)] = val\n"
   ]
  },
  {
   "cell_type": "code",
   "execution_count": 7,
   "metadata": {
    "ExecuteTime": {
     "end_time": "2020-04-20T19:29:45.998985Z",
     "start_time": "2020-04-20T19:29:45.993212Z"
    }
   },
   "outputs": [],
   "source": [
    "mat = T.reshape(4, -1)"
   ]
  },
  {
   "cell_type": "code",
   "execution_count": 33,
   "metadata": {
    "ExecuteTime": {
     "end_time": "2020-04-20T19:49:21.488973Z",
     "start_time": "2020-04-20T19:49:20.927150Z"
    }
   },
   "outputs": [
    {
     "data": {
      "image/png": "[encoded data removed]",
      "text/plain": [
       "<Figure size 432x288 with 1 Axes>"
      ]
     },
     "metadata": {
      "needs_background": "light"
     },
     "output_type": "display_data"
    }
   ],
   "source": [
    "im = plt.imshow(mat, interpolation='none', cmap=plt.cm.inferno)\n",
    "\n",
    "colors = [im.cmap(im.norm(value)) for value in np.unique(mat.ravel())]\n",
    "patches = [mpl.patches.Patch(color=colors[i], label=f\"Thread {i}.  {r'$jl='+f'{i:02b}$'}\") for i in range(N)]\n",
    "plt.legend(handles=patches, bbox_to_anchor=(1,1), prop={'size':14}, loc = 2)\n",
    "\n",
    "labx = [f\"$l={f'{x:02b}'[-1]}$\" for x in mat[0] ]\n",
    "laby = [f\"$j={f'{x:02b}'[-2]}$\" for x in mat[:,0] ]\n",
    "\n",
    "laby = [f\"${x:02b}\\dots$\" for x in range(mat.shape[0]) ]\n",
    "labx = [f\"$\\dots {x:03b}$\" for x in range(mat.shape[1]) ]\n",
    "ax = plt.gca()\n",
    "ax.set_xticks(range(8))\n",
    "ax.set_yticks(range(4))\n",
    "ax.set_xticklabels(labx)\n",
    "ax.set_yticklabels(laby)\n",
    "ax.tick_params(labelsize=12)\n",
    "ax.set_ylabel(r'$ij$', fontsize=14)\n",
    "ax.set_xlabel(r'$klm$', fontsize=14)\n",
    "\n",
    "plt.savefig('figures/thread_map.pdf')"
   ]
  },
  {
   "cell_type": "code",
   "execution_count": 171,
   "metadata": {
    "ExecuteTime": {
     "end_time": "2020-04-13T18:27:53.880074Z",
     "start_time": "2020-04-13T18:27:53.498598Z"
    }
   },
   "outputs": [
    {
     "data": {
      "text/plain": [
       "<matplotlib.image.AxesImage at 0x7fc0d15a0880>"
      ]
     },
     "execution_count": 171,
     "metadata": {},
     "output_type": "execute_result"
    },
    {
     "data": {
      "image/png": "[encoded data removed]",
      "text/plain": [
       "<Figure size 432x288 with 1 Axes>"
      ]
     },
     "metadata": {
      "needs_background": "light"
     },
     "output_type": "display_data"
    }
   ],
   "source": [
    "x = np.roll(mat, (1,-1), axis=(0,1))\n",
    "plt.imshow(x, cmap=plt.cm.inferno)"
   ]
  },
  {
   "cell_type": "code",
   "execution_count": 174,
   "metadata": {
    "ExecuteTime": {
     "end_time": "2020-04-13T18:31:07.825680Z",
     "start_time": "2020-04-13T18:31:07.749440Z"
    }
   },
   "outputs": [
    {
     "data": {
      "text/plain": [
       "tensor([[2, 2, 2, 3, 3, 3, 3, 2],\n",
       "        [0, 0, 0, 1, 1, 1, 1, 0],\n",
       "        [2, 2, 2, 3, 3, 3, 3, 2],\n",
       "        [0, 0, 0, 1, 1, 1, 1, 0]])"
      ]
     },
     "execution_count": 174,
     "metadata": {},
     "output_type": "execute_result"
    }
   ],
   "source": [
    "import torch as T\n",
    "T.roll(T.from_numpy(mat), (1,-1), dims=(0,1))"
   ]
  },
  {
   "cell_type": "code",
   "execution_count": 175,
   "metadata": {
    "ExecuteTime": {
     "end_time": "2020-04-13T18:31:15.538707Z",
     "start_time": "2020-04-13T18:31:15.523825Z"
    }
   },
   "outputs": [
    {
     "data": {
      "text/plain": [
       "array([[0, 0, 0, 0, 1, 1, 1, 1],\n",
       "       [2, 2, 2, 2, 3, 3, 3, 3],\n",
       "       [0, 0, 0, 0, 1, 1, 1, 1],\n",
       "       [2, 2, 2, 2, 3, 3, 3, 3]])"
      ]
     },
     "execution_count": 175,
     "metadata": {},
     "output_type": "execute_result"
    }
   ],
   "source": [
    "mat"
   ]
  }
 ],
 "metadata": {
  "kernelspec": {
   "display_name": "Python 3",
   "language": "python",
   "name": "python3"
  },
  "language_info": {
   "codemirror_mode": {
    "name": "ipython",
    "version": 3
   },
   "file_extension": ".py",
   "mimetype": "text/x-python",
   "name": "python",
   "nbconvert_exporter": "python",
   "pygments_lexer": "ipython3",
   "version": "3.8.2"
  },
  "toc": {
   "base_numbering": 1,
   "nav_menu": {},
   "number_sections": true,
   "sideBar": true,
   "skip_h1_title": false,
   "title_cell": "Table of Contents",
   "title_sidebar": "Contents",
   "toc_cell": true,
   "toc_position": {},
   "toc_section_display": true,
   "toc_window_display": true
  }
 },
 "nbformat": 4,
 "nbformat_minor": 4
}
